{
 "cells": [
  {
   "cell_type": "markdown",
   "id": "129d9239",
   "metadata": {},
   "source": [
    "## Importing the necessary libraries"
   ]
  },
  {
   "cell_type": "code",
   "execution_count": 1,
   "id": "65c9ce83",
   "metadata": {},
   "outputs": [],
   "source": [
    "## For data manipulation\n",
    "import pandas as pd\n",
    "\n",
    "## For numerical computations\n",
    "import numpy as np\n",
    "\n",
    "## For Visualizations\n",
    "import seaborn as sns \n",
    "import matplotlib.pyplot as plt"
   ]
  },
  {
   "cell_type": "markdown",
   "id": "faf3ef9d",
   "metadata": {},
   "source": [
    "## Importing the dataset needed for the analysis"
   ]
  },
  {
   "cell_type": "code",
   "execution_count": 1,
   "id": "9bb9c179",
   "metadata": {},
   "outputs": [],
   "source": [
    "## Import the data here"
   ]
  },
  {
   "cell_type": "markdown",
   "id": "3bbcb6c2",
   "metadata": {},
   "source": [
    "## Importing and formatting the ML dataset to work with the dataset."
   ]
  },
  {
   "cell_type": "code",
   "execution_count": 3,
   "id": "af3a9105",
   "metadata": {},
   "outputs": [],
   "source": [
    "## Importing the dataset\n",
    "ml_anon = pd.read_csv(\"File path\")"
   ]
  },
  {
   "cell_type": "code",
   "execution_count": 4,
   "id": "bd55cb06",
   "metadata": {},
   "outputs": [],
   "source": [
    "## Dropping the irrelevant index attached by default to the dataset.\n",
    "ml_anon.drop(\"Unnamed: 0\", inplace=True, axis=1)"
   ]
  },
  {
   "cell_type": "code",
   "execution_count": 5,
   "id": "18348f91",
   "metadata": {},
   "outputs": [],
   "source": [
    "## Creating a column in the ML dataset that has the same format as the \"Is Sybil? (T or F)\" column in the reviewers dataset\n",
    "ml_anon[\"Is Sybil? (T or F)\"] = np.where(ml_anon.prediction_score == 1, \"T\", \"F\")"
   ]
  },
  {
   "cell_type": "code",
   "execution_count": 6,
   "id": "de5b8ad2",
   "metadata": {},
   "outputs": [
    {
     "data": {
      "text/plain": [
       "Index(['handle', 'prediction_score', 'prediction_confidence', 'quant_1',\n",
       "       'quant_2', 'quant_3', 'quant_4', 'quant_5', 'quant_6', 'quant_7',\n",
       "       'Is Sybil? (T or F)'],\n",
       "      dtype='object')"
      ]
     },
     "execution_count": 6,
     "metadata": {},
     "output_type": "execute_result"
    }
   ],
   "source": [
    "## Checking to make sure the created column is included in the dataset.\n",
    "ml_anon.columns"
   ]
  },
  {
   "cell_type": "code",
   "execution_count": 7,
   "id": "13484dbe",
   "metadata": {},
   "outputs": [],
   "source": [
    "# Storing each reviewer dataset in a list, for easy iteration.\n",
    "## The ML dataset is also included.\n",
    "\n",
    "names = [adebola, am, ann, anuj, elbeth, bfa, gold, bob, lkh, waka, trice, proof, emmanuel, fizzy, dog, flob, emma_j, greg,\n",
    "        grey, stel, jshua, kish, kylin, z4yr, hound, mount, nadalie, richard, ogunjo, robot, steeges, vik, socal, wolfman,\n",
    "         zer,ml_anon ]"
   ]
  },
  {
   "cell_type": "code",
   "execution_count": 8,
   "id": "261ea47a",
   "metadata": {},
   "outputs": [],
   "source": [
    "# Making a loop through all the datasheet of human evaluation,\n",
    "# then renaming the Unnamed: 0 column to handle so that all the data used for the analysis have a column in common\n",
    "for i in names:\n",
    "    i.rename({\"Unnamed: 0\": \"handle\"}, axis=1, inplace=True)"
   ]
  },
  {
   "cell_type": "code",
   "execution_count": 9,
   "id": "b06e8f6f",
   "metadata": {},
   "outputs": [],
   "source": [
    "def namestr(obj, namespace):\n",
    "    \"\"\"\n",
    "    This function makes it posible to retrive the name of a variable (stored_data).\n",
    "    \"\"\"\n",
    "    \n",
    "    return [name for name in namespace if namespace[name] is obj]\n"
   ]
  },
  {
   "cell_type": "code",
   "execution_count": 10,
   "id": "dc2f6db2",
   "metadata": {},
   "outputs": [],
   "source": [
    "def create_table(data1, data2):\n",
    "    \n",
    "    \"\"\"\n",
    "    This function creates a table for any two reviewer that share common handles reviewed.\n",
    "    \"\"\"\n",
    "    \n",
    "    df = pd.DataFrame()\n",
    "    \n",
    "    df = data1.merge(data2, on=\"handle\", suffixes=(namestr(data1, globals())[0], namestr(data2, globals())[0]))\n",
    "    \n",
    "    df.dropna(subset=[\"Is Sybil? (T or F)\" +namestr(data1, globals())[0], \"Is Sybil? (T or F)\" +namestr(data2, globals())[0]],\n",
    "             inplace=True)\n",
    "    \n",
    "    return df"
   ]
  },
  {
   "cell_type": "code",
   "execution_count": 11,
   "id": "150b3325",
   "metadata": {},
   "outputs": [],
   "source": [
    "## This cell loops through \n",
    "\n",
    "def find_common_handles(name):\n",
    "    \n",
    "    \"\"\"\n",
    "    This function loops through the list of reviewers data and returns the each reviewer and number of handles they have in \n",
    "    common with the \"name\" given.\n",
    "    \"\"\"\n",
    "    freq=[]\n",
    "    for i in names:\n",
    "        freq.append([namestr(i, globals())[0], create_table(name, i).shape[0]])\n",
    "    return freq"
   ]
  },
  {
   "cell_type": "code",
   "execution_count": 12,
   "id": "36dc8d12",
   "metadata": {},
   "outputs": [],
   "source": [
    "def total_agreement(data, name1, name2):\n",
    "    \n",
    "    \"\"\"\n",
    "    This function calculates the total agreement of between any two reviewer.\n",
    "    Ranges from 0 to 1.\n",
    "    A score of 1 denotes they made the same call on all handles the reviewed in common.\n",
    "    A score of 0 denotes they made the different call on all handles the reviewed in common.\n",
    "    \"\"\"\n",
    "    \n",
    "    lenght = data.shape[0]\n",
    "    \n",
    "    count = data.loc[data[\"Is Sybil? (T or F)\" + name1] == data[\"Is Sybil? (T or F)\" + name2]].shape[0]\n",
    "    \n",
    "    agreements = count\n",
    "    \n",
    "    return agreements/lenght\n",
    "    "
   ]
  },
  {
   "cell_type": "code",
   "execution_count": 13,
   "id": "899382f4",
   "metadata": {},
   "outputs": [],
   "source": [
    "def total_disagreement(data, name1, name2):\n",
    "    \n",
    "    \"\"\"\n",
    "    This function calculates the total disagreement of between any two reviewer.\n",
    "    Ranges from 0 to 1.\n",
    "    A score of 0 denotes they made the same call on all handles the reviewed in common.\n",
    "    A score of 1 denotes they made the different call on all handles the reviewed in common.\n",
    "    \"\"\"\n",
    "    \n",
    "    lenght = data.shape[0]\n",
    "    \n",
    "    count = data.loc[data[\"Is Sybil? (T or F)\" + name1] != data[\"Is Sybil? (T or F)\" + name2]].shape[0]\n",
    "    \n",
    "    disagreements = count\n",
    "    \n",
    "    return disagreements/lenght"
   ]
  },
  {
   "cell_type": "markdown",
   "id": "a69cbb7a",
   "metadata": {},
   "source": [
    "## Fizzy Interreliability "
   ]
  },
  {
   "cell_type": "code",
   "execution_count": 14,
   "id": "e847e1e2",
   "metadata": {
    "collapsed": true
   },
   "outputs": [
    {
     "data": {
      "text/plain": [
       "[['adebola', 0],\n",
       " ['am', 0],\n",
       " ['ann', 0],\n",
       " ['anuj', 1],\n",
       " ['elbeth', 4],\n",
       " ['bfa', 2],\n",
       " ['gold', 3],\n",
       " ['bob', 2],\n",
       " ['lkh', 1],\n",
       " ['waka', 0],\n",
       " ['trice', 1],\n",
       " ['proof', 0],\n",
       " ['emmanuel', 0],\n",
       " ['fizzy', 60],\n",
       " ['dog', 0],\n",
       " ['flob', 1],\n",
       " ['emma_j', 0],\n",
       " ['greg', 1],\n",
       " ['grey', 1],\n",
       " ['stel', 2],\n",
       " ['jshua', 0],\n",
       " ['kish', 0],\n",
       " ['kylin', 0],\n",
       " ['z4yr', 1],\n",
       " ['hound', 2],\n",
       " ['mount', 2],\n",
       " ['nadalie', 1],\n",
       " ['richard', 4],\n",
       " ['ogunjo', 0],\n",
       " ['robot', 0],\n",
       " ['steeges', 1],\n",
       " ['vik', 1],\n",
       " ['socal', 3],\n",
       " ['wolfman', 1],\n",
       " ['zer', 2],\n",
       " ['ml_anon', 48]]"
      ]
     },
     "execution_count": 14,
     "metadata": {},
     "output_type": "execute_result"
    }
   ],
   "source": [
    "find_common_handles(fizzy)"
   ]
  },
  {
   "cell_type": "code",
   "execution_count": 15,
   "id": "ba8c996c",
   "metadata": {},
   "outputs": [],
   "source": [
    "## creating tables from those with atleast 3 common columns\n",
    "\n",
    "fiz_ric = create_table(fizzy, richard)\n",
    "fiz_elb = create_table(fizzy, elbeth)\n",
    "fiz_gold = create_table(fizzy, gold)\n",
    "## You can create a dataset like this for the others.\n",
    "fiz_ml = create_table(fizzy, ml_anon)"
   ]
  },
  {
   "cell_type": "code",
   "execution_count": 16,
   "id": "0929c706",
   "metadata": {
    "scrolled": false
   },
   "outputs": [
    {
     "data": {
      "text/plain": [
       "(0.5, 0.0, 0.6666666666666666, 0.6666666666666666)"
      ]
     },
     "execution_count": 16,
     "metadata": {},
     "output_type": "execute_result"
    }
   ],
   "source": [
    "total_agreement(fiz_ric, \"fizzy\", \"richard\"), total_agreement(fiz_elb, \"fizzy\", \"elbeth\"), total_agreement(fiz_gold, \"fizzy\", \"gold\"), total_agreement(fiz_ml, \"fizzy\", \"ml_anon\")"
   ]
  },
  {
   "cell_type": "markdown",
   "id": "fca47f35",
   "metadata": {},
   "source": [
    "## Elbeth"
   ]
  },
  {
   "cell_type": "code",
   "execution_count": 17,
   "id": "7bc89173",
   "metadata": {
    "collapsed": true
   },
   "outputs": [
    {
     "data": {
      "text/plain": [
       "[['adebola', 0],\n",
       " ['am', 0],\n",
       " ['ann', 0],\n",
       " ['anuj', 1],\n",
       " ['elbeth', 60],\n",
       " ['bfa', 3],\n",
       " ['gold', 1],\n",
       " ['bob', 0],\n",
       " ['lkh', 2],\n",
       " ['waka', 0],\n",
       " ['trice', 5],\n",
       " ['proof', 2],\n",
       " ['emmanuel', 0],\n",
       " ['fizzy', 4],\n",
       " ['dog', 1],\n",
       " ['flob', 2],\n",
       " ['emma_j', 1],\n",
       " ['greg', 1],\n",
       " ['grey', 1],\n",
       " ['stel', 0],\n",
       " ['jshua', 1],\n",
       " ['kish', 0],\n",
       " ['kylin', 2],\n",
       " ['z4yr', 3],\n",
       " ['hound', 2],\n",
       " ['mount', 4],\n",
       " ['nadalie', 0],\n",
       " ['richard', 3],\n",
       " ['ogunjo', 0],\n",
       " ['robot', 0],\n",
       " ['steeges', 0],\n",
       " ['vik', 1],\n",
       " ['socal', 2],\n",
       " ['wolfman', 0],\n",
       " ['zer', 1],\n",
       " ['ml_anon', 43]]"
      ]
     },
     "execution_count": 17,
     "metadata": {},
     "output_type": "execute_result"
    }
   ],
   "source": [
    "find_common_handles(elbeth)"
   ]
  },
  {
   "cell_type": "code",
   "execution_count": 18,
   "id": "e86c2474",
   "metadata": {},
   "outputs": [],
   "source": [
    "elb_rich = create_table(elbeth, richard)\n",
    "elb_mount = create_table(elbeth, mount)\n",
    "elb_z4yr = create_table(elbeth, z4yr)\n",
    "elb_trice = create_table(elbeth, trice)\n",
    "elb_fiz = create_table(elbeth, fizzy)\n",
    "elb_ml = create_table(elbeth, ml_anon)"
   ]
  },
  {
   "cell_type": "code",
   "execution_count": 19,
   "id": "7ef4fed0",
   "metadata": {},
   "outputs": [
    {
     "data": {
      "text/plain": [
       "[0.0, 0.3333333333333333, 0.75, 0.6666666666666666, 0.6, 0.46511627906976744]"
      ]
     },
     "execution_count": 19,
     "metadata": {},
     "output_type": "execute_result"
    }
   ],
   "source": [
    "[total_agreement(elb_fiz, \"elbeth\", \"fizzy\"), total_agreement(elb_rich, \"elbeth\", \"richard\"),\n",
    " total_agreement(elb_mount, \"elbeth\", \"mount\"), total_agreement(elb_z4yr,\"elbeth\", \"z4yr\"),\n",
    " total_agreement(elb_trice,\"elbeth\", \"trice\"), total_agreement(elb_ml, \"elbeth\", \"ml_anon\")]"
   ]
  },
  {
   "cell_type": "markdown",
   "id": "62ca7916",
   "metadata": {},
   "source": [
    "## BFA"
   ]
  },
  {
   "cell_type": "code",
   "execution_count": 20,
   "id": "36b63e19",
   "metadata": {
    "collapsed": true
   },
   "outputs": [
    {
     "data": {
      "text/plain": [
       "[['adebola', 0],\n",
       " ['am', 0],\n",
       " ['ann', 0],\n",
       " ['anuj', 1],\n",
       " ['elbeth', 3],\n",
       " ['bfa', 60],\n",
       " ['gold', 3],\n",
       " ['bob', 1],\n",
       " ['lkh', 1],\n",
       " ['waka', 0],\n",
       " ['trice', 1],\n",
       " ['proof', 1],\n",
       " ['emmanuel', 1],\n",
       " ['fizzy', 2],\n",
       " ['dog', 5],\n",
       " ['flob', 2],\n",
       " ['emma_j', 1],\n",
       " ['greg', 0],\n",
       " ['grey', 1],\n",
       " ['stel', 0],\n",
       " ['jshua', 2],\n",
       " ['kish', 3],\n",
       " ['kylin', 0],\n",
       " ['z4yr', 0],\n",
       " ['hound', 0],\n",
       " ['mount', 2],\n",
       " ['nadalie', 1],\n",
       " ['richard', 2],\n",
       " ['ogunjo', 0],\n",
       " ['robot', 0],\n",
       " ['steeges', 0],\n",
       " ['vik', 2],\n",
       " ['socal', 1],\n",
       " ['wolfman', 1],\n",
       " ['zer', 0],\n",
       " ['ml_anon', 39]]"
      ]
     },
     "execution_count": 20,
     "metadata": {},
     "output_type": "execute_result"
    }
   ],
   "source": [
    "find_common_handles(bfa)"
   ]
  },
  {
   "cell_type": "code",
   "execution_count": 22,
   "id": "33bfaf09",
   "metadata": {},
   "outputs": [],
   "source": [
    "bfa_elbeth = create_table(bfa, elbeth)\n",
    "bfa_gold = create_table(bfa, gold)\n",
    "bfa_dog = create_table(bfa, dog)\n",
    "bfa_kish = create_table(bfa, kish)\n",
    "bfa_ml = create_table(bfa, ml_anon)"
   ]
  },
  {
   "cell_type": "code",
   "execution_count": 23,
   "id": "eb04e800",
   "metadata": {},
   "outputs": [
    {
     "data": {
      "text/plain": [
       "[0.6666666666666666, 1.0, 0.8, 0.6666666666666666, 0.5128205128205128]"
      ]
     },
     "execution_count": 23,
     "metadata": {},
     "output_type": "execute_result"
    }
   ],
   "source": [
    "[total_agreement(bfa_elbeth, \"bfa\", \"elbeth\"), total_agreement(bfa_gold, \"bfa\", \"gold\"),\n",
    " total_agreement(bfa_dog, \"bfa\", \"dog\"), total_agreement(bfa_kish,\"bfa\", \"kish\"),\n",
    " total_agreement(bfa_ml, \"bfa\", \"ml_anon\")]"
   ]
  },
  {
   "cell_type": "markdown",
   "id": "aad7aa91",
   "metadata": {},
   "source": [
    "## Gold"
   ]
  },
  {
   "cell_type": "code",
   "execution_count": 24,
   "id": "575dbf46",
   "metadata": {
    "collapsed": true
   },
   "outputs": [
    {
     "data": {
      "text/plain": [
       "[['adebola', 0],\n",
       " ['am', 0],\n",
       " ['ann', 0],\n",
       " ['anuj', 0],\n",
       " ['elbeth', 1],\n",
       " ['bfa', 3],\n",
       " ['gold', 60],\n",
       " ['bob', 0],\n",
       " ['lkh', 3],\n",
       " ['waka', 0],\n",
       " ['trice', 1],\n",
       " ['proof', 1],\n",
       " ['emmanuel', 1],\n",
       " ['fizzy', 3],\n",
       " ['dog', 1],\n",
       " ['flob', 1],\n",
       " ['emma_j', 1],\n",
       " ['greg', 0],\n",
       " ['grey', 0],\n",
       " ['stel', 1],\n",
       " ['jshua', 2],\n",
       " ['kish', 0],\n",
       " ['kylin', 2],\n",
       " ['z4yr', 4],\n",
       " ['hound', 0],\n",
       " ['mount', 1],\n",
       " ['nadalie', 2],\n",
       " ['richard', 1],\n",
       " ['ogunjo', 1],\n",
       " ['robot', 1],\n",
       " ['steeges', 1],\n",
       " ['vik', 0],\n",
       " ['socal', 0],\n",
       " ['wolfman', 1],\n",
       " ['zer', 3],\n",
       " ['ml_anon', 42]]"
      ]
     },
     "execution_count": 24,
     "metadata": {},
     "output_type": "execute_result"
    }
   ],
   "source": [
    "find_common_handles(gold)"
   ]
  },
  {
   "cell_type": "code",
   "execution_count": 25,
   "id": "084b2ba8",
   "metadata": {},
   "outputs": [],
   "source": [
    "gold_bfa = create_table(gold, bfa)\n",
    "gold_lkh = create_table(gold, lkh)\n",
    "gold_fizzy = create_table(gold, fizzy)\n",
    "gold_z4yr = create_table(gold, z4yr)\n",
    "gold_robot = create_table(gold, robot)\n",
    "gold_zer = create_table(gold, zer)\n",
    "gold_ml = create_table(gold, ml_anon)"
   ]
  },
  {
   "cell_type": "code",
   "execution_count": 26,
   "id": "a47331b7",
   "metadata": {},
   "outputs": [
    {
     "data": {
      "text/plain": [
       "[1.0,\n",
       " 0.3333333333333333,\n",
       " 0.6666666666666666,\n",
       " 0.75,\n",
       " 0.0,\n",
       " 0.6666666666666666,\n",
       " 0.7142857142857143]"
      ]
     },
     "execution_count": 26,
     "metadata": {},
     "output_type": "execute_result"
    }
   ],
   "source": [
    "[total_agreement(gold_bfa, \"gold\", \"bfa\"), total_agreement(gold_lkh, \"gold\", \"lkh\"),\n",
    " total_agreement(gold_fizzy, \"gold\", \"fizzy\"), total_agreement(gold_z4yr,\"gold\", \"z4yr\"),\n",
    " total_agreement(gold_robot,\"gold\", \"robot\"), total_agreement(gold_zer,\"gold\", \"zer\"),\n",
    " total_agreement(gold_ml, \"gold\", \"ml_anon\")]"
   ]
  },
  {
   "cell_type": "markdown",
   "id": "a9846441",
   "metadata": {},
   "source": [
    "## BOB"
   ]
  },
  {
   "cell_type": "code",
   "execution_count": 27,
   "id": "1dfa841e",
   "metadata": {},
   "outputs": [
    {
     "data": {
      "text/plain": [
       "[['adebola', 1],\n",
       " ['am', 1],\n",
       " ['ann', 0],\n",
       " ['anuj', 1],\n",
       " ['elbeth', 0],\n",
       " ['bfa', 1],\n",
       " ['gold', 0],\n",
       " ['bob', 60],\n",
       " ['lkh', 3],\n",
       " ['waka', 2],\n",
       " ['trice', 0],\n",
       " ['proof', 1],\n",
       " ['emmanuel', 0],\n",
       " ['fizzy', 2],\n",
       " ['dog', 1],\n",
       " ['flob', 1],\n",
       " ['emma_j', 2],\n",
       " ['greg', 1],\n",
       " ['grey', 3],\n",
       " ['stel', 1],\n",
       " ['jshua', 0],\n",
       " ['kish', 2],\n",
       " ['kylin', 0],\n",
       " ['z4yr', 6],\n",
       " ['hound', 1],\n",
       " ['mount', 0],\n",
       " ['nadalie', 3],\n",
       " ['richard', 2],\n",
       " ['ogunjo', 1],\n",
       " ['robot', 1],\n",
       " ['steeges', 1],\n",
       " ['vik', 1],\n",
       " ['socal', 0],\n",
       " ['wolfman', 1],\n",
       " ['zer', 1],\n",
       " ['ml_anon', 45]]"
      ]
     },
     "execution_count": 27,
     "metadata": {},
     "output_type": "execute_result"
    }
   ],
   "source": [
    "find_common_handles(bob)"
   ]
  },
  {
   "cell_type": "code",
   "execution_count": 29,
   "id": "4476c8df",
   "metadata": {},
   "outputs": [],
   "source": [
    "bob_lkh = create_table(bob, lkh)\n",
    "bob_waka = create_table(bob, waka)\n",
    "bob_grey = create_table(bob, grey)\n",
    "bob_z4yr = create_table(bob, z4yr)\n",
    "bob_nadalie = create_table(bob, nadalie)\n",
    "bob_ml = create_table(bob, ml_anon)"
   ]
  },
  {
   "cell_type": "code",
   "execution_count": 30,
   "id": "8a95e9a3",
   "metadata": {},
   "outputs": [
    {
     "data": {
      "text/plain": [
       "[1.0, 1.0, 1.0, 0.8333333333333334, 1.0, 0.5777777777777777]"
      ]
     },
     "execution_count": 30,
     "metadata": {},
     "output_type": "execute_result"
    }
   ],
   "source": [
    "[total_agreement(bob_lkh, \"bob\", \"lkh\"), total_agreement(bob_waka, \"bob\", \"waka\"),\n",
    " total_agreement(bob_grey, \"bob\", \"grey\"), total_agreement(bob_z4yr,\"bob\", \"z4yr\"),\n",
    " total_agreement(bob_nadalie,\"bob\", \"nadalie\"), total_agreement(bob_ml, \"bob\", \"ml_anon\")]"
   ]
  },
  {
   "cell_type": "markdown",
   "id": "f63f1c88",
   "metadata": {},
   "source": [
    "## LKH"
   ]
  },
  {
   "cell_type": "code",
   "execution_count": 31,
   "id": "92485d64",
   "metadata": {
    "collapsed": true
   },
   "outputs": [
    {
     "data": {
      "text/plain": [
       "[['adebola', 0],\n",
       " ['am', 0],\n",
       " ['ann', 0],\n",
       " ['anuj', 1],\n",
       " ['elbeth', 2],\n",
       " ['bfa', 1],\n",
       " ['gold', 3],\n",
       " ['bob', 3],\n",
       " ['lkh', 60],\n",
       " ['waka', 0],\n",
       " ['trice', 2],\n",
       " ['proof', 2],\n",
       " ['emmanuel', 2],\n",
       " ['fizzy', 1],\n",
       " ['dog', 3],\n",
       " ['flob', 2],\n",
       " ['emma_j', 1],\n",
       " ['greg', 1],\n",
       " ['grey', 0],\n",
       " ['stel', 3],\n",
       " ['jshua', 1],\n",
       " ['kish', 1],\n",
       " ['kylin', 2],\n",
       " ['z4yr', 3],\n",
       " ['hound', 4],\n",
       " ['mount', 1],\n",
       " ['nadalie', 2],\n",
       " ['richard', 4],\n",
       " ['ogunjo', 3],\n",
       " ['robot', 0],\n",
       " ['steeges', 1],\n",
       " ['vik', 1],\n",
       " ['socal', 2],\n",
       " ['wolfman', 2],\n",
       " ['zer', 0],\n",
       " ['ml_anon', 42]]"
      ]
     },
     "execution_count": 31,
     "metadata": {},
     "output_type": "execute_result"
    }
   ],
   "source": [
    "find_common_handles(lkh)"
   ]
  },
  {
   "cell_type": "code",
   "execution_count": 32,
   "id": "09d7924f",
   "metadata": {},
   "outputs": [],
   "source": [
    "lkh_gold = create_table(lkh, gold)\n",
    "lkh_bob = create_table(lkh, bob)\n",
    "lkh_dog = create_table(lkh, dog)\n",
    "lkh_stel = create_table(lkh, stel)\n",
    "lkh_z4yr = create_table(lkh, z4yr)\n",
    "lkh_hound = create_table(lkh, hound)\n",
    "lkh_ogunjo = create_table(lkh, ogunjo)\n",
    "lkh_ml= create_table(lkh, ml_anon)"
   ]
  },
  {
   "cell_type": "code",
   "execution_count": 33,
   "id": "b82e0498",
   "metadata": {},
   "outputs": [
    {
     "data": {
      "text/plain": [
       "[0.3333333333333333,\n",
       " 1.0,\n",
       " 0.6666666666666666,\n",
       " 0.0,\n",
       " 0.3333333333333333,\n",
       " 1.0,\n",
       " 0.6666666666666666,\n",
       " 0.6190476190476191]"
      ]
     },
     "execution_count": 33,
     "metadata": {},
     "output_type": "execute_result"
    }
   ],
   "source": [
    "[total_agreement(lkh_gold, \"lkh\", \"gold\"), total_agreement(lkh_bob, \"lkh\", \"bob\"),\n",
    " total_agreement(lkh_dog, \"lkh\", \"dog\"), total_agreement(lkh_stel,\"lkh\", \"stel\"),\n",
    " total_agreement(lkh_z4yr,\"lkh\", \"z4yr\"), total_agreement(lkh_hound,\"lkh\", \"hound\"),\n",
    "  total_agreement(lkh_ogunjo,\"lkh\", \"ogunjo\"), total_agreement(lkh_ml, \"lkh\", \"ml_anon\")]"
   ]
  },
  {
   "cell_type": "markdown",
   "id": "83739819",
   "metadata": {},
   "source": [
    "## Waka"
   ]
  },
  {
   "cell_type": "code",
   "execution_count": 34,
   "id": "4233b883",
   "metadata": {
    "collapsed": true
   },
   "outputs": [
    {
     "data": {
      "text/plain": [
       "[['adebola', 0],\n",
       " ['am', 1],\n",
       " ['ann', 0],\n",
       " ['anuj', 0],\n",
       " ['elbeth', 0],\n",
       " ['bfa', 0],\n",
       " ['gold', 0],\n",
       " ['bob', 2],\n",
       " ['lkh', 0],\n",
       " ['waka', 30],\n",
       " ['trice', 0],\n",
       " ['proof', 1],\n",
       " ['emmanuel', 0],\n",
       " ['fizzy', 0],\n",
       " ['dog', 0],\n",
       " ['flob', 2],\n",
       " ['emma_j', 0],\n",
       " ['greg', 1],\n",
       " ['grey', 2],\n",
       " ['stel', 0],\n",
       " ['jshua', 0],\n",
       " ['kish', 0],\n",
       " ['kylin', 0],\n",
       " ['z4yr', 0],\n",
       " ['hound', 0],\n",
       " ['mount', 1],\n",
       " ['nadalie', 1],\n",
       " ['richard', 0],\n",
       " ['ogunjo', 2],\n",
       " ['robot', 1],\n",
       " ['steeges', 2],\n",
       " ['vik', 0],\n",
       " ['socal', 2],\n",
       " ['wolfman', 0],\n",
       " ['zer', 0],\n",
       " ['ml_anon', 17]]"
      ]
     },
     "execution_count": 34,
     "metadata": {},
     "output_type": "execute_result"
    }
   ],
   "source": [
    "find_common_handles(waka)"
   ]
  },
  {
   "cell_type": "code",
   "execution_count": 35,
   "id": "18606084",
   "metadata": {},
   "outputs": [],
   "source": [
    "waka_bob = create_table(waka, bob)\n",
    "waka_flob = create_table(waka, flob)\n",
    "waka_ogunjo = create_table(waka, ogunjo)\n",
    "waka_steeges = create_table(waka, steeges)\n",
    "waka_greg = create_table(waka, greg)\n",
    "waka_grey = create_table(waka, grey)\n",
    "waka_socal = create_table(waka, socal)\n",
    "waka_ml =create_table(waka, ml_anon)"
   ]
  },
  {
   "cell_type": "code",
   "execution_count": 36,
   "id": "ffe68c1d",
   "metadata": {},
   "outputs": [
    {
     "data": {
      "text/plain": [
       "[1.0, 0.0, 1.0, 1.0, 0.0, 1.0, 1.0, 0.8235294117647058]"
      ]
     },
     "execution_count": 36,
     "metadata": {},
     "output_type": "execute_result"
    }
   ],
   "source": [
    "[total_agreement(waka_bob, \"waka\", \"bob\"),total_agreement(waka_flob, \"waka\", \"flob\"),\n",
    " \n",
    " total_agreement(waka_ogunjo,\"waka\", \"ogunjo\"),total_agreement(waka_steeges,\"waka\", \"steeges\"),\n",
    " \n",
    " total_agreement(waka_greg,\"waka\", \"greg\"), total_agreement(waka_grey,\"waka\", \"grey\"),\n",
    " \n",
    " total_agreement(waka_socal,\"waka\", \"socal\"), total_agreement(waka_ml, \"waka\", \"ml_anon\")]"
   ]
  },
  {
   "cell_type": "markdown",
   "id": "09b567fd",
   "metadata": {},
   "source": [
    "## Trice"
   ]
  },
  {
   "cell_type": "code",
   "execution_count": 37,
   "id": "afc3b0f6",
   "metadata": {
    "collapsed": true
   },
   "outputs": [
    {
     "data": {
      "text/plain": [
       "[['adebola', 0],\n",
       " ['am', 0],\n",
       " ['ann', 0],\n",
       " ['anuj', 0],\n",
       " ['elbeth', 5],\n",
       " ['bfa', 1],\n",
       " ['gold', 1],\n",
       " ['bob', 0],\n",
       " ['lkh', 2],\n",
       " ['waka', 0],\n",
       " ['trice', 60],\n",
       " ['proof', 0],\n",
       " ['emmanuel', 2],\n",
       " ['fizzy', 1],\n",
       " ['dog', 2],\n",
       " ['flob', 1],\n",
       " ['emma_j', 0],\n",
       " ['greg', 2],\n",
       " ['grey', 2],\n",
       " ['stel', 1],\n",
       " ['jshua', 1],\n",
       " ['kish', 1],\n",
       " ['kylin', 2],\n",
       " ['z4yr', 2],\n",
       " ['hound', 1],\n",
       " ['mount', 1],\n",
       " ['nadalie', 1],\n",
       " ['richard', 2],\n",
       " ['ogunjo', 2],\n",
       " ['robot', 0],\n",
       " ['steeges', 0],\n",
       " ['vik', 2],\n",
       " ['socal', 3],\n",
       " ['wolfman', 0],\n",
       " ['zer', 2],\n",
       " ['ml_anon', 39]]"
      ]
     },
     "execution_count": 37,
     "metadata": {},
     "output_type": "execute_result"
    }
   ],
   "source": [
    "find_common_handles(trice)"
   ]
  },
  {
   "cell_type": "code",
   "execution_count": 39,
   "id": "8ba32b95",
   "metadata": {},
   "outputs": [],
   "source": [
    "trice_socal = create_table(trice, socal)\n",
    "trice_elbeth = create_table(trice, elbeth)\n",
    "trice_lkh = create_table(trice, lkh)\n",
    "trice_emmanuel = create_table(trice, emmanuel)\n",
    "trice_greg = create_table(trice, greg)\n",
    "trice_grey = create_table(trice, grey)\n",
    "trice_kylin = create_table(trice, kylin)\n",
    "trice_z4yr = create_table(trice, z4yr)\n",
    "trice_richard = create_table(trice, richard)\n",
    "trice_ogunjo = create_table(trice, ogunjo)\n",
    "trice_vik = create_table(trice, vik)\n",
    "trice_zer = create_table(trice, zer)\n",
    "trice_ml = create_table(trice, ml_anon)"
   ]
  },
  {
   "cell_type": "code",
   "execution_count": 40,
   "id": "3ead20a6",
   "metadata": {},
   "outputs": [
    {
     "data": {
      "text/plain": [
       "[0.6666666666666666,\n",
       " 0.6,\n",
       " 0.5,\n",
       " 1.0,\n",
       " 0.5,\n",
       " 1.0,\n",
       " 0.0,\n",
       " 0.0,\n",
       " 0.0,\n",
       " 0.0,\n",
       " 0.5,\n",
       " 0.0,\n",
       " 0.28205128205128205]"
      ]
     },
     "execution_count": 40,
     "metadata": {},
     "output_type": "execute_result"
    }
   ],
   "source": [
    "[total_agreement(trice_socal, \"trice\", \"socal\"), total_agreement(trice_elbeth, \"trice\", \"elbeth\"),\n",
    " total_agreement(trice_lkh, \"trice\", \"lkh\"), total_agreement(trice_emmanuel,\"trice\", \"emmanuel\"),\n",
    " total_agreement(trice_greg,\"trice\", \"greg\"), total_agreement(trice_grey,\"trice\", \"grey\"),\n",
    " total_agreement(trice_kylin,\"trice\", \"kylin\"), total_agreement(trice_z4yr,\"trice\", \"z4yr\"),\n",
    " total_agreement(trice_richard,\"trice\", \"richard\"), total_agreement(trice_ogunjo,\"trice\", \"ogunjo\"),\n",
    "  total_agreement(trice_vik,\"trice\", \"vik\"), total_agreement(trice_zer,\"trice\", \"zer\"),\n",
    "  total_agreement(trice_ml, \"trice\", \"ml_anon\")]"
   ]
  },
  {
   "cell_type": "markdown",
   "id": "c24ca8a9",
   "metadata": {},
   "source": [
    "## Proof"
   ]
  },
  {
   "cell_type": "code",
   "execution_count": 41,
   "id": "d6046131",
   "metadata": {
    "collapsed": true
   },
   "outputs": [
    {
     "data": {
      "text/plain": [
       "[['adebola', 0],\n",
       " ['am', 0],\n",
       " ['ann', 0],\n",
       " ['anuj', 1],\n",
       " ['elbeth', 2],\n",
       " ['bfa', 1],\n",
       " ['gold', 1],\n",
       " ['bob', 1],\n",
       " ['lkh', 2],\n",
       " ['waka', 1],\n",
       " ['trice', 0],\n",
       " ['proof', 60],\n",
       " ['emmanuel', 1],\n",
       " ['fizzy', 0],\n",
       " ['dog', 1],\n",
       " ['flob', 1],\n",
       " ['emma_j', 1],\n",
       " ['greg', 0],\n",
       " ['grey', 2],\n",
       " ['stel', 1],\n",
       " ['jshua', 4],\n",
       " ['kish', 1],\n",
       " ['kylin', 3],\n",
       " ['z4yr', 5],\n",
       " ['hound', 1],\n",
       " ['mount', 1],\n",
       " ['nadalie', 0],\n",
       " ['richard', 1],\n",
       " ['ogunjo', 1],\n",
       " ['robot', 0],\n",
       " ['steeges', 3],\n",
       " ['vik', 1],\n",
       " ['socal', 1],\n",
       " ['wolfman', 2],\n",
       " ['zer', 0],\n",
       " ['ml_anon', 44]]"
      ]
     },
     "execution_count": 41,
     "metadata": {},
     "output_type": "execute_result"
    }
   ],
   "source": [
    "find_common_handles(proof)"
   ]
  },
  {
   "cell_type": "code",
   "execution_count": 42,
   "id": "29476d42",
   "metadata": {},
   "outputs": [],
   "source": [
    "proof_steeges = create_table(proof, steeges)\n",
    "proof_z4yr = create_table(proof, z4yr)\n",
    "proof_kylin = create_table(proof, kylin)\n",
    "proof_jshua = create_table(proof, jshua)\n",
    "proof_ml = create_table(proof, ml_anon)"
   ]
  },
  {
   "cell_type": "code",
   "execution_count": 43,
   "id": "cd4673c1",
   "metadata": {},
   "outputs": [
    {
     "data": {
      "text/plain": [
       "[0.6666666666666666, 1.0, 1.0, 0.75, 0.6818181818181818]"
      ]
     },
     "execution_count": 43,
     "metadata": {},
     "output_type": "execute_result"
    }
   ],
   "source": [
    "[total_agreement(proof_steeges, \"proof\", \"steeges\"), total_agreement(proof_z4yr, \"proof\", \"z4yr\"),\n",
    " total_agreement(proof_kylin, \"proof\", \"kylin\"), total_agreement(proof_jshua,\"proof\", \"jshua\"),\n",
    " total_agreement(proof_ml, \"proof\", \"ml_anon\")]"
   ]
  },
  {
   "cell_type": "markdown",
   "id": "6bd02273",
   "metadata": {},
   "source": [
    "## Emmanuel"
   ]
  },
  {
   "cell_type": "code",
   "execution_count": 44,
   "id": "e783cb05",
   "metadata": {
    "collapsed": true
   },
   "outputs": [
    {
     "data": {
      "text/plain": [
       "[['adebola', 0],\n",
       " ['am', 0],\n",
       " ['ann', 0],\n",
       " ['anuj', 0],\n",
       " ['elbeth', 0],\n",
       " ['bfa', 1],\n",
       " ['gold', 1],\n",
       " ['bob', 0],\n",
       " ['lkh', 2],\n",
       " ['waka', 0],\n",
       " ['trice', 2],\n",
       " ['proof', 1],\n",
       " ['emmanuel', 60],\n",
       " ['fizzy', 0],\n",
       " ['dog', 3],\n",
       " ['flob', 1],\n",
       " ['emma_j', 1],\n",
       " ['greg', 1],\n",
       " ['grey', 4],\n",
       " ['stel', 2],\n",
       " ['jshua', 0],\n",
       " ['kish', 1],\n",
       " ['kylin', 0],\n",
       " ['z4yr', 1],\n",
       " ['hound', 1],\n",
       " ['mount', 3],\n",
       " ['nadalie', 1],\n",
       " ['richard', 2],\n",
       " ['ogunjo', 0],\n",
       " ['robot', 0],\n",
       " ['steeges', 2],\n",
       " ['vik', 3],\n",
       " ['socal', 1],\n",
       " ['wolfman', 0],\n",
       " ['zer', 0],\n",
       " ['ml_anon', 45]]"
      ]
     },
     "execution_count": 44,
     "metadata": {},
     "output_type": "execute_result"
    }
   ],
   "source": [
    "find_common_handles(emmanuel)"
   ]
  },
  {
   "cell_type": "code",
   "execution_count": 45,
   "id": "cb43f876",
   "metadata": {},
   "outputs": [],
   "source": [
    "#dog, grey, mount\n",
    "\n",
    "emma_dog = create_table(emmanuel, dog)\n",
    "emma_grey = create_table(emmanuel, grey)\n",
    "emma_mount = create_table(emmanuel, mount)\n",
    "emma_ml = create_table(emmanuel, ml_anon)"
   ]
  },
  {
   "cell_type": "code",
   "execution_count": 46,
   "id": "beaaa41d",
   "metadata": {},
   "outputs": [
    {
     "data": {
      "text/plain": [
       "[0.3333333333333333, 0.5, 0.3333333333333333, 0.4666666666666667]"
      ]
     },
     "execution_count": 46,
     "metadata": {},
     "output_type": "execute_result"
    }
   ],
   "source": [
    "[total_agreement(emma_dog, \"emmanuel\", \"dog\"), total_agreement(emma_grey, \"emmanuel\", \"grey\"),\n",
    " total_agreement(emma_mount, \"emmanuel\", \"mount\"), total_agreement(emma_ml, \"emmanuel\", \"ml_anon\")]"
   ]
  },
  {
   "cell_type": "markdown",
   "id": "0a0dd270",
   "metadata": {},
   "source": [
    "## Dogg"
   ]
  },
  {
   "cell_type": "code",
   "execution_count": 47,
   "id": "be7645e3",
   "metadata": {
    "collapsed": true
   },
   "outputs": [
    {
     "data": {
      "text/plain": [
       "[['adebola', 0],\n",
       " ['am', 0],\n",
       " ['ann', 0],\n",
       " ['anuj', 2],\n",
       " ['elbeth', 1],\n",
       " ['bfa', 5],\n",
       " ['gold', 1],\n",
       " ['bob', 1],\n",
       " ['lkh', 3],\n",
       " ['waka', 0],\n",
       " ['trice', 2],\n",
       " ['proof', 1],\n",
       " ['emmanuel', 3],\n",
       " ['fizzy', 0],\n",
       " ['dog', 60],\n",
       " ['flob', 1],\n",
       " ['emma_j', 1],\n",
       " ['greg', 1],\n",
       " ['grey', 1],\n",
       " ['stel', 4],\n",
       " ['jshua', 0],\n",
       " ['kish', 0],\n",
       " ['kylin', 0],\n",
       " ['z4yr', 0],\n",
       " ['hound', 1],\n",
       " ['mount', 0],\n",
       " ['nadalie', 2],\n",
       " ['richard', 0],\n",
       " ['ogunjo', 0],\n",
       " ['robot', 0],\n",
       " ['steeges', 1],\n",
       " ['vik', 2],\n",
       " ['socal', 1],\n",
       " ['wolfman', 2],\n",
       " ['zer', 1],\n",
       " ['ml_anon', 40]]"
      ]
     },
     "execution_count": 47,
     "metadata": {},
     "output_type": "execute_result"
    }
   ],
   "source": [
    "find_common_handles(dog)"
   ]
  },
  {
   "cell_type": "code",
   "execution_count": 49,
   "id": "e030cc2b",
   "metadata": {},
   "outputs": [],
   "source": [
    "dog_bfa = create_table(dog, bfa)\n",
    "dog_emma = create_table(dog, emmanuel)\n",
    "dog_ml = create_table(dog, ml_anon)"
   ]
  },
  {
   "cell_type": "code",
   "execution_count": 50,
   "id": "31d9a98c",
   "metadata": {},
   "outputs": [
    {
     "data": {
      "text/plain": [
       "[0.8, 0.3333333333333333, 0.525]"
      ]
     },
     "execution_count": 50,
     "metadata": {},
     "output_type": "execute_result"
    }
   ],
   "source": [
    "[total_agreement(dog_bfa, \"dog\", \"bfa\"), total_agreement(dog_emma, \"dog\", \"emmanuel\"),\n",
    " total_agreement(dog_ml, \"dog\", \"ml_anon\")]"
   ]
  },
  {
   "cell_type": "markdown",
   "id": "af9e7fd5",
   "metadata": {},
   "source": [
    "## Flob"
   ]
  },
  {
   "cell_type": "code",
   "execution_count": 51,
   "id": "65d5354d",
   "metadata": {
    "collapsed": true
   },
   "outputs": [
    {
     "data": {
      "text/plain": [
       "[['adebola', 1],\n",
       " ['am', 0],\n",
       " ['ann', 0],\n",
       " ['anuj', 0],\n",
       " ['elbeth', 2],\n",
       " ['bfa', 2],\n",
       " ['gold', 1],\n",
       " ['bob', 1],\n",
       " ['lkh', 2],\n",
       " ['waka', 2],\n",
       " ['trice', 1],\n",
       " ['proof', 1],\n",
       " ['emmanuel', 1],\n",
       " ['fizzy', 1],\n",
       " ['dog', 1],\n",
       " ['flob', 60],\n",
       " ['emma_j', 1],\n",
       " ['greg', 0],\n",
       " ['grey', 0],\n",
       " ['stel', 2],\n",
       " ['jshua', 2],\n",
       " ['kish', 2],\n",
       " ['kylin', 2],\n",
       " ['z4yr', 2],\n",
       " ['hound', 2],\n",
       " ['mount', 0],\n",
       " ['nadalie', 2],\n",
       " ['richard', 1],\n",
       " ['ogunjo', 1],\n",
       " ['robot', 0],\n",
       " ['steeges', 2],\n",
       " ['vik', 2],\n",
       " ['socal', 0],\n",
       " ['wolfman', 1],\n",
       " ['zer', 4],\n",
       " ['ml_anon', 38]]"
      ]
     },
     "execution_count": 51,
     "metadata": {},
     "output_type": "execute_result"
    }
   ],
   "source": [
    "find_common_handles(flob)"
   ]
  },
  {
   "cell_type": "code",
   "execution_count": 53,
   "id": "447f4a93",
   "metadata": {},
   "outputs": [],
   "source": [
    "flob_zer = create_table(flob, zer)\n",
    "flob_ml = create_table(flob, ml_anon)"
   ]
  },
  {
   "cell_type": "code",
   "execution_count": 54,
   "id": "cf43e405",
   "metadata": {},
   "outputs": [
    {
     "data": {
      "text/plain": [
       "[0.75, 0.8421052631578947]"
      ]
     },
     "execution_count": 54,
     "metadata": {},
     "output_type": "execute_result"
    }
   ],
   "source": [
    "[ total_agreement(flob_zer, \"flob\", \"zer\"),\n",
    " total_agreement(flob_ml, \"flob\", \"ml_anon\")]"
   ]
  },
  {
   "cell_type": "markdown",
   "id": "1dbcc6c1",
   "metadata": {},
   "source": [
    "## Emma_J"
   ]
  },
  {
   "cell_type": "code",
   "execution_count": 55,
   "id": "190b2812",
   "metadata": {
    "collapsed": true
   },
   "outputs": [
    {
     "data": {
      "text/plain": [
       "[['adebola', 0],\n",
       " ['am', 0],\n",
       " ['ann', 1],\n",
       " ['anuj', 2],\n",
       " ['elbeth', 1],\n",
       " ['bfa', 1],\n",
       " ['gold', 1],\n",
       " ['bob', 2],\n",
       " ['lkh', 1],\n",
       " ['waka', 0],\n",
       " ['trice', 0],\n",
       " ['proof', 1],\n",
       " ['emmanuel', 1],\n",
       " ['fizzy', 0],\n",
       " ['dog', 1],\n",
       " ['flob', 1],\n",
       " ['emma_j', 60],\n",
       " ['greg', 0],\n",
       " ['grey', 1],\n",
       " ['stel', 0],\n",
       " ['jshua', 1],\n",
       " ['kish', 1],\n",
       " ['kylin', 0],\n",
       " ['z4yr', 0],\n",
       " ['hound', 2],\n",
       " ['mount', 1],\n",
       " ['nadalie', 3],\n",
       " ['richard', 1],\n",
       " ['ogunjo', 3],\n",
       " ['robot', 0],\n",
       " ['steeges', 3],\n",
       " ['vik', 0],\n",
       " ['socal', 0],\n",
       " ['wolfman', 2],\n",
       " ['zer', 1],\n",
       " ['ml_anon', 38]]"
      ]
     },
     "execution_count": 55,
     "metadata": {},
     "output_type": "execute_result"
    }
   ],
   "source": [
    "find_common_handles(emma_j)"
   ]
  },
  {
   "cell_type": "code",
   "execution_count": 56,
   "id": "6e659e53",
   "metadata": {},
   "outputs": [],
   "source": [
    "emma_j_steeges = create_table(emma_j, steeges)\n",
    "emma_j_nadalie = create_table(emma_j, nadalie)\n",
    "emma_j_ogunjo = create_table(emma_j, ogunjo)\n",
    "emma_j_ml = create_table(emma_j, ml_anon)"
   ]
  },
  {
   "cell_type": "code",
   "execution_count": 57,
   "id": "30a66a60",
   "metadata": {},
   "outputs": [
    {
     "data": {
      "text/plain": [
       "[1.0, 0.3333333333333333, 0.6666666666666666, 0.8157894736842105]"
      ]
     },
     "execution_count": 57,
     "metadata": {},
     "output_type": "execute_result"
    }
   ],
   "source": [
    "[total_agreement(emma_j_steeges, \"emma_j\", \"steeges\"), total_agreement(emma_j_nadalie, \"emma_j\", \"nadalie\"),\n",
    " total_agreement(emma_j_ogunjo, \"emma_j\", \"ogunjo\"), total_agreement(emma_j_ml, \"emma_j\", \"ml_anon\")]"
   ]
  },
  {
   "cell_type": "markdown",
   "id": "047e8c27",
   "metadata": {},
   "source": [
    "## Greg"
   ]
  },
  {
   "cell_type": "code",
   "execution_count": 58,
   "id": "56acbfb8",
   "metadata": {
    "collapsed": true
   },
   "outputs": [
    {
     "data": {
      "text/plain": [
       "[['adebola', 0],\n",
       " ['am', 0],\n",
       " ['ann', 0],\n",
       " ['anuj', 1],\n",
       " ['elbeth', 1],\n",
       " ['bfa', 0],\n",
       " ['gold', 0],\n",
       " ['bob', 1],\n",
       " ['lkh', 1],\n",
       " ['waka', 1],\n",
       " ['trice', 2],\n",
       " ['proof', 0],\n",
       " ['emmanuel', 1],\n",
       " ['fizzy', 1],\n",
       " ['dog', 1],\n",
       " ['flob', 0],\n",
       " ['emma_j', 0],\n",
       " ['greg', 60],\n",
       " ['grey', 1],\n",
       " ['stel', 0],\n",
       " ['jshua', 5],\n",
       " ['kish', 2],\n",
       " ['kylin', 2],\n",
       " ['z4yr', 2],\n",
       " ['hound', 2],\n",
       " ['mount', 3],\n",
       " ['nadalie', 1],\n",
       " ['richard', 5],\n",
       " ['ogunjo', 2],\n",
       " ['robot', 2],\n",
       " ['steeges', 0],\n",
       " ['vik', 3],\n",
       " ['socal', 2],\n",
       " ['wolfman', 2],\n",
       " ['zer', 2],\n",
       " ['ml_anon', 47]]"
      ]
     },
     "execution_count": 58,
     "metadata": {},
     "output_type": "execute_result"
    }
   ],
   "source": [
    "find_common_handles(greg)"
   ]
  },
  {
   "cell_type": "code",
   "execution_count": 60,
   "id": "3992977c",
   "metadata": {},
   "outputs": [],
   "source": [
    "greg_jshua = create_table(greg, jshua)\n",
    "greg_mount = create_table(greg, mount)\n",
    "greg_richard = create_table(greg, richard)\n",
    "greg_vik = create_table(greg, vik)\n",
    "greg_ml = create_table(greg, ml_anon)"
   ]
  },
  {
   "cell_type": "code",
   "execution_count": 61,
   "id": "d55b2454",
   "metadata": {},
   "outputs": [
    {
     "data": {
      "text/plain": [
       "[0.8, 0.6666666666666666, 0.8, 1.0, 0.723404255319149]"
      ]
     },
     "execution_count": 61,
     "metadata": {},
     "output_type": "execute_result"
    }
   ],
   "source": [
    "[total_agreement(greg_jshua, \"greg\", \"jshua\"), total_agreement(greg_mount, \"greg\", \"mount\"),\n",
    " total_agreement(greg_richard, \"greg\", \"richard\"), total_agreement(greg_vik,\"greg\", \"vik\"),\n",
    " total_agreement(greg_ml, \"greg\", \"ml_anon\")]"
   ]
  },
  {
   "cell_type": "markdown",
   "id": "e77fb73b",
   "metadata": {},
   "source": [
    "## Grey"
   ]
  },
  {
   "cell_type": "code",
   "execution_count": 62,
   "id": "7c79dbe1",
   "metadata": {
    "collapsed": true
   },
   "outputs": [
    {
     "data": {
      "text/plain": [
       "[['adebola', 0],\n",
       " ['am', 0],\n",
       " ['ann', 1],\n",
       " ['anuj', 2],\n",
       " ['elbeth', 1],\n",
       " ['bfa', 1],\n",
       " ['gold', 0],\n",
       " ['bob', 3],\n",
       " ['lkh', 0],\n",
       " ['waka', 2],\n",
       " ['trice', 2],\n",
       " ['proof', 2],\n",
       " ['emmanuel', 4],\n",
       " ['fizzy', 1],\n",
       " ['dog', 1],\n",
       " ['flob', 0],\n",
       " ['emma_j', 1],\n",
       " ['greg', 1],\n",
       " ['grey', 60],\n",
       " ['stel', 2],\n",
       " ['jshua', 0],\n",
       " ['kish', 2],\n",
       " ['kylin', 2],\n",
       " ['z4yr', 2],\n",
       " ['hound', 2],\n",
       " ['mount', 3],\n",
       " ['nadalie', 2],\n",
       " ['richard', 2],\n",
       " ['ogunjo', 3],\n",
       " ['robot', 0],\n",
       " ['steeges', 1],\n",
       " ['vik', 1],\n",
       " ['socal', 1],\n",
       " ['wolfman', 1],\n",
       " ['zer', 0],\n",
       " ['ml_anon', 45]]"
      ]
     },
     "execution_count": 62,
     "metadata": {},
     "output_type": "execute_result"
    }
   ],
   "source": [
    "find_common_handles(grey)"
   ]
  },
  {
   "cell_type": "code",
   "execution_count": 383,
   "id": "5ef83664",
   "metadata": {},
   "outputs": [],
   "source": [
    "grey_bob = create_table(grey, bob)\n",
    "grey_emma = create_table(grey, emmanuel)\n",
    "grey_mount = create_table(grey, mount)\n",
    "grey_ogunjo = create_table(grey, ogunjo)\n",
    "grey_ml = create_table(grey, ml_anon)"
   ]
  },
  {
   "cell_type": "code",
   "execution_count": 384,
   "id": "11dfdb9f",
   "metadata": {},
   "outputs": [
    {
     "data": {
      "text/plain": [
       "[1.0, 0.5, 0.6666666666666666, 0.6666666666666666, 0.4666666666666667]"
      ]
     },
     "execution_count": 384,
     "metadata": {},
     "output_type": "execute_result"
    }
   ],
   "source": [
    "[total_agreement(grey_bob, \"grey\", \"bob\"), total_agreement(grey_emma, \"grey\", \"emmanuel\"),\n",
    " total_agreement(grey_mount, \"grey\", \"mount\"), total_agreement(grey_ogunjo,\"grey\", \"ogunjo\"),\n",
    " total_agreement(grey_ml, \"grey\", \"ml_anon\")]"
   ]
  },
  {
   "cell_type": "markdown",
   "id": "fe35a724",
   "metadata": {},
   "source": [
    "## Stel"
   ]
  },
  {
   "cell_type": "code",
   "execution_count": 385,
   "id": "bdc902ef",
   "metadata": {
    "collapsed": true
   },
   "outputs": [
    {
     "data": {
      "text/plain": [
       "[['adebola', 0],\n",
       " ['am', 0],\n",
       " ['ann', 0],\n",
       " ['anuj', 2],\n",
       " ['elbeth', 0],\n",
       " ['bfa', 0],\n",
       " ['gold', 1],\n",
       " ['bob', 1],\n",
       " ['lkh', 3],\n",
       " ['waka', 0],\n",
       " ['trice', 1],\n",
       " ['proof', 1],\n",
       " ['emmanuel', 2],\n",
       " ['fizzy', 2],\n",
       " ['dog', 4],\n",
       " ['flob', 2],\n",
       " ['emma_j', 0],\n",
       " ['greg', 0],\n",
       " ['grey', 2],\n",
       " ['stel', 60],\n",
       " ['jshua', 1],\n",
       " ['kish', 0],\n",
       " ['kylin', 0],\n",
       " ['z4yr', 0],\n",
       " ['hound', 3],\n",
       " ['mount', 3],\n",
       " ['nadalie', 2],\n",
       " ['richard', 0],\n",
       " ['ogunjo', 0],\n",
       " ['am2', 2],\n",
       " ['robot', 1],\n",
       " ['ann2', 2],\n",
       " ['steeges', 1],\n",
       " ['vik', 3],\n",
       " ['socal', 2],\n",
       " ['wolfman', 3],\n",
       " ['zer', 0],\n",
       " ['elbeth2', 3],\n",
       " ['bob2', 1],\n",
       " ['lkh2', 0],\n",
       " ['fizzy2', 1],\n",
       " ['trice2', 0],\n",
       " ['flob2', 0],\n",
       " ['greg2', 0],\n",
       " ['grey2', 0],\n",
       " ['stele2', 1],\n",
       " ['hound2', 0],\n",
       " ['richard2', 1],\n",
       " ['ogunjo2', 1],\n",
       " ['vik2', 0],\n",
       " ['wolfman2', 0],\n",
       " ['ml_anon', 40]]"
      ]
     },
     "execution_count": 385,
     "metadata": {},
     "output_type": "execute_result"
    }
   ],
   "source": [
    "find_common_handles(stel)"
   ]
  },
  {
   "cell_type": "code",
   "execution_count": 63,
   "id": "dea15487",
   "metadata": {},
   "outputs": [],
   "source": [
    "stel_dog = create_table(stel, dog)\n",
    "stel_hound = create_table(stel, hound)\n",
    "stel_mount = create_table(stel, mount)\n",
    "stel_vik = create_table(stel, vik)\n",
    "stel_wolf = create_table(stel, wolfman)\n",
    "stel_ml = create_table(stel, ml_anon)"
   ]
  },
  {
   "cell_type": "code",
   "execution_count": 64,
   "id": "ed0cea82",
   "metadata": {},
   "outputs": [
    {
     "data": {
      "text/plain": [
       "[0.5,\n",
       " 0.3333333333333333,\n",
       " 0.6666666666666666,\n",
       " 0.6666666666666666,\n",
       " 0.6666666666666666,\n",
       " 0.575]"
      ]
     },
     "execution_count": 64,
     "metadata": {},
     "output_type": "execute_result"
    }
   ],
   "source": [
    "[total_agreement(stel_dog, \"stel\", \"dog\"), total_agreement(stel_hound, \"stel\", \"hound\"),\n",
    " total_agreement(stel_mount, \"stel\", \"mount\"), total_agreement(stel_vik,\"stel\", \"vik\"),\n",
    " total_agreement(stel_wolf,\"stel\", \"wolfman\"), total_agreement(stel_ml, \"stel\", \"ml_anon\")]"
   ]
  },
  {
   "cell_type": "markdown",
   "id": "59a39fa5",
   "metadata": {},
   "source": [
    "###  Jshua"
   ]
  },
  {
   "cell_type": "code",
   "execution_count": 65,
   "id": "739322ba",
   "metadata": {
    "collapsed": true
   },
   "outputs": [
    {
     "data": {
      "text/plain": [
       "[['adebola', 0],\n",
       " ['am', 0],\n",
       " ['ann', 0],\n",
       " ['anuj', 0],\n",
       " ['elbeth', 1],\n",
       " ['bfa', 2],\n",
       " ['gold', 2],\n",
       " ['bob', 0],\n",
       " ['lkh', 1],\n",
       " ['waka', 0],\n",
       " ['trice', 1],\n",
       " ['proof', 4],\n",
       " ['emmanuel', 0],\n",
       " ['fizzy', 0],\n",
       " ['dog', 0],\n",
       " ['flob', 2],\n",
       " ['emma_j', 1],\n",
       " ['greg', 5],\n",
       " ['grey', 0],\n",
       " ['stel', 1],\n",
       " ['jshua', 60],\n",
       " ['kish', 3],\n",
       " ['kylin', 0],\n",
       " ['z4yr', 1],\n",
       " ['hound', 3],\n",
       " ['mount', 2],\n",
       " ['nadalie', 0],\n",
       " ['richard', 0],\n",
       " ['ogunjo', 1],\n",
       " ['robot', 1],\n",
       " ['steeges', 3],\n",
       " ['vik', 1],\n",
       " ['socal', 1],\n",
       " ['wolfman', 4],\n",
       " ['zer', 0],\n",
       " ['ml_anon', 47]]"
      ]
     },
     "execution_count": 65,
     "metadata": {},
     "output_type": "execute_result"
    }
   ],
   "source": [
    "find_common_handles(jshua)"
   ]
  },
  {
   "cell_type": "code",
   "execution_count": 66,
   "id": "55b2234a",
   "metadata": {},
   "outputs": [],
   "source": [
    "jhsua_kish = create_table(jshua, kish)\n",
    "jshua_hound = create_table(jshua, hound)\n",
    "jshua_steeges = create_table(jshua, steeges)\n",
    "jshua_wolf = create_table(jshua, wolfman)\n",
    "jshua_ml = create_table(jshua, ml_anon)"
   ]
  },
  {
   "cell_type": "code",
   "execution_count": 67,
   "id": "7673bed7",
   "metadata": {},
   "outputs": [
    {
     "data": {
      "text/plain": [
       "[0.6666666666666666, 0.6666666666666666, 1.0, 0.5, 0.7446808510638298]"
      ]
     },
     "execution_count": 67,
     "metadata": {},
     "output_type": "execute_result"
    }
   ],
   "source": [
    "[total_agreement(jhsua_kish, \"jshua\", \"kish\"), total_agreement(jshua_hound, \"jshua\", \"hound\"),\n",
    " total_agreement(jshua_steeges,\"jshua\", \"steeges\"), total_agreement(jshua_wolf,\"jshua\", \"wolfman\"), \n",
    " total_agreement(jshua_ml, \"jshua\", \"ml_anon\")]"
   ]
  },
  {
   "cell_type": "markdown",
   "id": "1233f7b4",
   "metadata": {},
   "source": [
    "## Kish"
   ]
  },
  {
   "cell_type": "code",
   "execution_count": 68,
   "id": "8076c8ac",
   "metadata": {
    "collapsed": true
   },
   "outputs": [
    {
     "data": {
      "text/plain": [
       "[['adebola', 1],\n",
       " ['am', 0],\n",
       " ['ann', 0],\n",
       " ['anuj', 0],\n",
       " ['elbeth', 0],\n",
       " ['bfa', 3],\n",
       " ['gold', 0],\n",
       " ['bob', 2],\n",
       " ['lkh', 1],\n",
       " ['waka', 0],\n",
       " ['trice', 1],\n",
       " ['proof', 1],\n",
       " ['emmanuel', 1],\n",
       " ['fizzy', 0],\n",
       " ['dog', 0],\n",
       " ['flob', 2],\n",
       " ['emma_j', 1],\n",
       " ['greg', 2],\n",
       " ['grey', 2],\n",
       " ['stel', 0],\n",
       " ['jshua', 3],\n",
       " ['kish', 60],\n",
       " ['kylin', 1],\n",
       " ['z4yr', 0],\n",
       " ['hound', 2],\n",
       " ['mount', 1],\n",
       " ['nadalie', 2],\n",
       " ['richard', 2],\n",
       " ['ogunjo', 1],\n",
       " ['robot', 0],\n",
       " ['steeges', 0],\n",
       " ['vik', 1],\n",
       " ['socal', 1],\n",
       " ['wolfman', 1],\n",
       " ['zer', 0],\n",
       " ['ml_anon', 39]]"
      ]
     },
     "execution_count": 68,
     "metadata": {},
     "output_type": "execute_result"
    }
   ],
   "source": [
    "find_common_handles(kish)"
   ]
  },
  {
   "cell_type": "code",
   "execution_count": 395,
   "id": "22e8dddb",
   "metadata": {},
   "outputs": [],
   "source": [
    "kish_ml = create_table(kish, ml_anon)"
   ]
  },
  {
   "cell_type": "code",
   "execution_count": 396,
   "id": "762260e9",
   "metadata": {},
   "outputs": [
    {
     "data": {
      "text/plain": [
       "0.6153846153846154"
      ]
     },
     "execution_count": 396,
     "metadata": {},
     "output_type": "execute_result"
    }
   ],
   "source": [
    "total_agreement(kish_ml, \"kish\", \"ml_anon\")"
   ]
  },
  {
   "cell_type": "markdown",
   "id": "1bacb81f",
   "metadata": {},
   "source": [
    "## Kylin"
   ]
  },
  {
   "cell_type": "code",
   "execution_count": 397,
   "id": "ad988d84",
   "metadata": {
    "collapsed": true
   },
   "outputs": [
    {
     "data": {
      "text/plain": [
       "[['adebola', 0],\n",
       " ['am', 0],\n",
       " ['ann', 0],\n",
       " ['anuj', 1],\n",
       " ['elbeth', 2],\n",
       " ['bfa', 0],\n",
       " ['gold', 2],\n",
       " ['bob', 0],\n",
       " ['lkh', 2],\n",
       " ['waka', 0],\n",
       " ['trice', 2],\n",
       " ['proof', 3],\n",
       " ['emmanuel', 0],\n",
       " ['fizzy', 0],\n",
       " ['dog', 0],\n",
       " ['flob', 2],\n",
       " ['emma_j', 0],\n",
       " ['greg', 2],\n",
       " ['grey', 2],\n",
       " ['stel', 0],\n",
       " ['jshua', 0],\n",
       " ['kish', 1],\n",
       " ['kylin', 60],\n",
       " ['z4yr', 1],\n",
       " ['hound', 3],\n",
       " ['mount', 1],\n",
       " ['nadalie', 4],\n",
       " ['richard', 3],\n",
       " ['ogunjo', 1],\n",
       " ['am2', 1],\n",
       " ['robot', 0],\n",
       " ['ann2', 0],\n",
       " ['steeges', 2],\n",
       " ['vik', 2],\n",
       " ['socal', 0],\n",
       " ['wolfman', 0],\n",
       " ['zer', 1],\n",
       " ['elbeth2', 1],\n",
       " ['bob2', 0],\n",
       " ['lkh2', 0],\n",
       " ['fizzy2', 0],\n",
       " ['trice2', 0],\n",
       " ['flob2', 1],\n",
       " ['greg2', 0],\n",
       " ['grey2', 0],\n",
       " ['stele2', 0],\n",
       " ['hound2', 0],\n",
       " ['richard2', 0],\n",
       " ['ogunjo2', 1],\n",
       " ['vik2', 0],\n",
       " ['wolfman2', 0],\n",
       " ['ml_anon', 41]]"
      ]
     },
     "execution_count": 397,
     "metadata": {},
     "output_type": "execute_result"
    }
   ],
   "source": [
    "find_common_handles(kylin)"
   ]
  },
  {
   "cell_type": "code",
   "execution_count": 69,
   "id": "6fb587ca",
   "metadata": {},
   "outputs": [],
   "source": [
    "kylin_hound = create_table(kylin, hound)\n",
    "kylin_nada = create_table(kylin, nadalie)\n",
    "kylin_richard = create_table(kylin, richard)\n",
    "kylin_ml = create_table(kylin, ml_anon)"
   ]
  },
  {
   "cell_type": "code",
   "execution_count": 70,
   "id": "d8ce65cc",
   "metadata": {},
   "outputs": [
    {
     "data": {
      "text/plain": [
       "[0.5, 0.6666666666666666, 1.0, 0.8780487804878049]"
      ]
     },
     "execution_count": 70,
     "metadata": {},
     "output_type": "execute_result"
    }
   ],
   "source": [
    "[total_agreement(kylin_nada, \"kylin\", \"nadalie\"), total_agreement(kylin_hound, \"kylin\", \"hound\"),\n",
    " total_agreement(kylin_richard,\"kylin\", \"richard\"), total_agreement(kylin_ml, \"kylin\", \"ml_anon\")]"
   ]
  },
  {
   "cell_type": "markdown",
   "id": "bd65eec7",
   "metadata": {},
   "source": [
    "## Z4yr"
   ]
  },
  {
   "cell_type": "code",
   "execution_count": 71,
   "id": "3ce02bdb",
   "metadata": {
    "collapsed": true
   },
   "outputs": [
    {
     "data": {
      "text/plain": [
       "[['adebola', 1],\n",
       " ['am', 0],\n",
       " ['ann', 0],\n",
       " ['anuj', 1],\n",
       " ['elbeth', 3],\n",
       " ['bfa', 0],\n",
       " ['gold', 4],\n",
       " ['bob', 6],\n",
       " ['lkh', 3],\n",
       " ['waka', 0],\n",
       " ['trice', 2],\n",
       " ['proof', 5],\n",
       " ['emmanuel', 1],\n",
       " ['fizzy', 1],\n",
       " ['dog', 0],\n",
       " ['flob', 2],\n",
       " ['emma_j', 0],\n",
       " ['greg', 2],\n",
       " ['grey', 2],\n",
       " ['stel', 0],\n",
       " ['jshua', 1],\n",
       " ['kish', 0],\n",
       " ['kylin', 1],\n",
       " ['z4yr', 60],\n",
       " ['hound', 2],\n",
       " ['mount', 2],\n",
       " ['nadalie', 0],\n",
       " ['richard', 2],\n",
       " ['ogunjo', 0],\n",
       " ['robot', 0],\n",
       " ['steeges', 3],\n",
       " ['vik', 0],\n",
       " ['socal', 0],\n",
       " ['wolfman', 1],\n",
       " ['zer', 1],\n",
       " ['ml_anon', 42]]"
      ]
     },
     "execution_count": 71,
     "metadata": {},
     "output_type": "execute_result"
    }
   ],
   "source": [
    "find_common_handles(z4yr)"
   ]
  },
  {
   "cell_type": "code",
   "execution_count": 72,
   "id": "6e2dc469",
   "metadata": {},
   "outputs": [],
   "source": [
    "z4yr_steeges = create_table(z4yr, steeges)\n",
    "z4yr_ml = create_table(z4yr, ml_anon)"
   ]
  },
  {
   "cell_type": "code",
   "execution_count": 73,
   "id": "71d69683",
   "metadata": {},
   "outputs": [
    {
     "data": {
      "text/plain": [
       "[1.0, 0.8333333333333334]"
      ]
     },
     "execution_count": 73,
     "metadata": {},
     "output_type": "execute_result"
    }
   ],
   "source": [
    "[ total_agreement(z4yr_steeges, \"z4yr\", \"steeges\"),\n",
    " total_agreement(z4yr_ml, \"z4yr\", \"ml_anon\")]"
   ]
  },
  {
   "cell_type": "markdown",
   "id": "a50bed42",
   "metadata": {},
   "source": [
    "## Hound"
   ]
  },
  {
   "cell_type": "code",
   "execution_count": 74,
   "id": "670faa44",
   "metadata": {
    "collapsed": true
   },
   "outputs": [
    {
     "data": {
      "text/plain": [
       "[['adebola', 0],\n",
       " ['am', 0],\n",
       " ['ann', 1],\n",
       " ['anuj', 1],\n",
       " ['elbeth', 2],\n",
       " ['bfa', 0],\n",
       " ['gold', 0],\n",
       " ['bob', 1],\n",
       " ['lkh', 4],\n",
       " ['waka', 0],\n",
       " ['trice', 1],\n",
       " ['proof', 1],\n",
       " ['emmanuel', 1],\n",
       " ['fizzy', 2],\n",
       " ['dog', 1],\n",
       " ['flob', 2],\n",
       " ['emma_j', 2],\n",
       " ['greg', 2],\n",
       " ['grey', 2],\n",
       " ['stel', 3],\n",
       " ['jshua', 3],\n",
       " ['kish', 2],\n",
       " ['kylin', 3],\n",
       " ['z4yr', 2],\n",
       " ['hound', 60],\n",
       " ['mount', 0],\n",
       " ['nadalie', 2],\n",
       " ['richard', 2],\n",
       " ['ogunjo', 0],\n",
       " ['robot', 2],\n",
       " ['steeges', 0],\n",
       " ['vik', 2],\n",
       " ['socal', 3],\n",
       " ['wolfman', 2],\n",
       " ['zer', 2],\n",
       " ['ml_anon', 43]]"
      ]
     },
     "execution_count": 74,
     "metadata": {},
     "output_type": "execute_result"
    }
   ],
   "source": [
    "find_common_handles(hound)"
   ]
  },
  {
   "cell_type": "code",
   "execution_count": 75,
   "id": "d0e21dad",
   "metadata": {},
   "outputs": [],
   "source": [
    "hound_socal = create_table(hound, socal)\n",
    "hound_ml = create_table(hound, ml_anon)"
   ]
  },
  {
   "cell_type": "code",
   "execution_count": 76,
   "id": "ba23add8",
   "metadata": {},
   "outputs": [
    {
     "data": {
      "text/plain": [
       "[1.0, 0.627906976744186]"
      ]
     },
     "execution_count": 76,
     "metadata": {},
     "output_type": "execute_result"
    }
   ],
   "source": [
    "[ total_agreement(hound_socal, \"hound\", \"socal\"), total_agreement(hound_ml, \"hound\", \"ml_anon\")]"
   ]
  },
  {
   "cell_type": "markdown",
   "id": "7dbb2e35",
   "metadata": {},
   "source": [
    "## Mount"
   ]
  },
  {
   "cell_type": "code",
   "execution_count": 77,
   "id": "c3c741cd",
   "metadata": {
    "collapsed": true
   },
   "outputs": [
    {
     "data": {
      "text/plain": [
       "[['adebola', 0],\n",
       " ['am', 0],\n",
       " ['ann', 0],\n",
       " ['anuj', 0],\n",
       " ['elbeth', 4],\n",
       " ['bfa', 2],\n",
       " ['gold', 1],\n",
       " ['bob', 0],\n",
       " ['lkh', 1],\n",
       " ['waka', 1],\n",
       " ['trice', 1],\n",
       " ['proof', 1],\n",
       " ['emmanuel', 3],\n",
       " ['fizzy', 2],\n",
       " ['dog', 0],\n",
       " ['flob', 0],\n",
       " ['emma_j', 1],\n",
       " ['greg', 3],\n",
       " ['grey', 3],\n",
       " ['stel', 3],\n",
       " ['jshua', 2],\n",
       " ['kish', 1],\n",
       " ['kylin', 1],\n",
       " ['z4yr', 2],\n",
       " ['hound', 0],\n",
       " ['mount', 58],\n",
       " ['nadalie', 1],\n",
       " ['richard', 4],\n",
       " ['ogunjo', 0],\n",
       " ['robot', 0],\n",
       " ['steeges', 3],\n",
       " ['vik', 4],\n",
       " ['socal', 1],\n",
       " ['wolfman', 0],\n",
       " ['zer', 2],\n",
       " ['ml_anon', 43]]"
      ]
     },
     "execution_count": 77,
     "metadata": {},
     "output_type": "execute_result"
    }
   ],
   "source": [
    "find_common_handles(mount)"
   ]
  },
  {
   "cell_type": "code",
   "execution_count": 78,
   "id": "f52c1caf",
   "metadata": {},
   "outputs": [],
   "source": [
    "mount_richard = create_table(mount, richard)\n",
    "mount_steeges = create_table(mount, steeges)\n",
    "mount_vik = create_table(mount, vik)\n",
    "mount_ml = create_table(mount, ml_anon)"
   ]
  },
  {
   "cell_type": "code",
   "execution_count": 79,
   "id": "56ae8a62",
   "metadata": {},
   "outputs": [
    {
     "data": {
      "text/plain": [
       "[1.0, 1.0, 1.0, 0.8372093023255814]"
      ]
     },
     "execution_count": 79,
     "metadata": {},
     "output_type": "execute_result"
    }
   ],
   "source": [
    "[total_agreement(mount_richard, \"mount\", \"richard\"), total_agreement(mount_steeges, \"mount\", \"steeges\"),\n",
    " total_agreement(mount_vik,\"mount\", \"vik\"), total_agreement(mount_ml, \"mount\", \"ml_anon\")]"
   ]
  },
  {
   "cell_type": "markdown",
   "id": "75f69409",
   "metadata": {},
   "source": [
    "## Nadalie"
   ]
  },
  {
   "cell_type": "code",
   "execution_count": 80,
   "id": "6abc7a14",
   "metadata": {
    "collapsed": true
   },
   "outputs": [
    {
     "data": {
      "text/plain": [
       "[['adebola', 0],\n",
       " ['am', 0],\n",
       " ['ann', 0],\n",
       " ['anuj', 1],\n",
       " ['elbeth', 0],\n",
       " ['bfa', 1],\n",
       " ['gold', 2],\n",
       " ['bob', 3],\n",
       " ['lkh', 2],\n",
       " ['waka', 1],\n",
       " ['trice', 1],\n",
       " ['proof', 0],\n",
       " ['emmanuel', 1],\n",
       " ['fizzy', 1],\n",
       " ['dog', 2],\n",
       " ['flob', 2],\n",
       " ['emma_j', 3],\n",
       " ['greg', 1],\n",
       " ['grey', 2],\n",
       " ['stel', 2],\n",
       " ['jshua', 0],\n",
       " ['kish', 2],\n",
       " ['kylin', 4],\n",
       " ['z4yr', 0],\n",
       " ['hound', 2],\n",
       " ['mount', 1],\n",
       " ['nadalie', 60],\n",
       " ['richard', 2],\n",
       " ['ogunjo', 1],\n",
       " ['robot', 2],\n",
       " ['steeges', 3],\n",
       " ['vik', 1],\n",
       " ['socal', 0],\n",
       " ['wolfman', 0],\n",
       " ['zer', 5],\n",
       " ['ml_anon', 44]]"
      ]
     },
     "execution_count": 80,
     "metadata": {},
     "output_type": "execute_result"
    }
   ],
   "source": [
    "find_common_handles(nadalie)"
   ]
  },
  {
   "cell_type": "code",
   "execution_count": 81,
   "id": "83a3366f",
   "metadata": {},
   "outputs": [],
   "source": [
    "nadalie_steeges = create_table(nadalie, steeges)\n",
    "nadalie_zer = create_table(nadalie, zer)\n",
    "nadalie_ml = create_table(nadalie, ml_anon)"
   ]
  },
  {
   "cell_type": "code",
   "execution_count": 82,
   "id": "eb8ce64e",
   "metadata": {},
   "outputs": [
    {
     "data": {
      "text/plain": [
       "[0.3333333333333333, 1.0, 0.5454545454545454]"
      ]
     },
     "execution_count": 82,
     "metadata": {},
     "output_type": "execute_result"
    }
   ],
   "source": [
    " [total_agreement(nadalie_steeges,\"nadalie\", \"steeges\"), total_agreement(nadalie_zer,\"nadalie\", \"zer\"),\n",
    " total_agreement(nadalie_ml, \"nadalie\", \"ml_anon\")]"
   ]
  },
  {
   "cell_type": "markdown",
   "id": "0dce9c0e",
   "metadata": {},
   "source": [
    "## Richard"
   ]
  },
  {
   "cell_type": "code",
   "execution_count": 83,
   "id": "ecec2afd",
   "metadata": {
    "collapsed": true
   },
   "outputs": [
    {
     "data": {
      "text/plain": [
       "[['adebola', 1],\n",
       " ['am', 0],\n",
       " ['ann', 0],\n",
       " ['anuj', 1],\n",
       " ['elbeth', 3],\n",
       " ['bfa', 2],\n",
       " ['gold', 1],\n",
       " ['bob', 2],\n",
       " ['lkh', 4],\n",
       " ['waka', 0],\n",
       " ['trice', 2],\n",
       " ['proof', 1],\n",
       " ['emmanuel', 2],\n",
       " ['fizzy', 4],\n",
       " ['dog', 0],\n",
       " ['flob', 1],\n",
       " ['emma_j', 1],\n",
       " ['greg', 5],\n",
       " ['grey', 2],\n",
       " ['stel', 0],\n",
       " ['jshua', 0],\n",
       " ['kish', 2],\n",
       " ['kylin', 3],\n",
       " ['z4yr', 2],\n",
       " ['hound', 2],\n",
       " ['mount', 4],\n",
       " ['nadalie', 2],\n",
       " ['richard', 60],\n",
       " ['ogunjo', 0],\n",
       " ['robot', 2],\n",
       " ['steeges', 1],\n",
       " ['vik', 0],\n",
       " ['socal', 2],\n",
       " ['wolfman', 0],\n",
       " ['zer', 2],\n",
       " ['ml_anon', 44]]"
      ]
     },
     "execution_count": 83,
     "metadata": {},
     "output_type": "execute_result"
    }
   ],
   "source": [
    "find_common_handles(richard)"
   ]
  },
  {
   "cell_type": "code",
   "execution_count": 85,
   "id": "bcf80766",
   "metadata": {},
   "outputs": [],
   "source": [
    "ric_lkh = create_table(richard, lkh)\n",
    "ric_ml = create_table(richard, ml_anon)"
   ]
  },
  {
   "cell_type": "code",
   "execution_count": 86,
   "id": "e6b498a2",
   "metadata": {},
   "outputs": [
    {
     "data": {
      "text/plain": [
       "[0.75, 0.6136363636363636]"
      ]
     },
     "execution_count": 86,
     "metadata": {},
     "output_type": "execute_result"
    }
   ],
   "source": [
    " [total_agreement(ric_lkh,\"richard\", \"lkh\"), \n",
    " total_agreement(ric_ml, \"richard\", \"ml_anon\")]"
   ]
  },
  {
   "cell_type": "markdown",
   "id": "b7c9e04a",
   "metadata": {},
   "source": [
    "## Ogunjosam"
   ]
  },
  {
   "cell_type": "code",
   "execution_count": 87,
   "id": "9b8d3e39",
   "metadata": {
    "collapsed": true
   },
   "outputs": [
    {
     "data": {
      "text/plain": [
       "[['adebola', 0],\n",
       " ['am', 0],\n",
       " ['ann', 0],\n",
       " ['anuj', 0],\n",
       " ['elbeth', 0],\n",
       " ['bfa', 0],\n",
       " ['gold', 1],\n",
       " ['bob', 1],\n",
       " ['lkh', 3],\n",
       " ['waka', 2],\n",
       " ['trice', 2],\n",
       " ['proof', 1],\n",
       " ['emmanuel', 0],\n",
       " ['fizzy', 0],\n",
       " ['dog', 0],\n",
       " ['flob', 1],\n",
       " ['emma_j', 3],\n",
       " ['greg', 2],\n",
       " ['grey', 3],\n",
       " ['stel', 0],\n",
       " ['jshua', 1],\n",
       " ['kish', 1],\n",
       " ['kylin', 1],\n",
       " ['z4yr', 0],\n",
       " ['hound', 0],\n",
       " ['mount', 0],\n",
       " ['nadalie', 1],\n",
       " ['richard', 0],\n",
       " ['ogunjo', 60],\n",
       " ['robot', 1],\n",
       " ['steeges', 1],\n",
       " ['vik', 1],\n",
       " ['socal', 2],\n",
       " ['wolfman', 3],\n",
       " ['zer', 2],\n",
       " ['ml_anon', 40]]"
      ]
     },
     "execution_count": 87,
     "metadata": {},
     "output_type": "execute_result"
    }
   ],
   "source": [
    "find_common_handles(ogunjo)"
   ]
  },
  {
   "cell_type": "code",
   "execution_count": 88,
   "id": "6a50d555",
   "metadata": {},
   "outputs": [],
   "source": [
    "ogunjo_wolf = create_table(ogunjo, wolfman)\n",
    "ogunjo_ml = create_table(ogunjo, ml_anon)"
   ]
  },
  {
   "cell_type": "code",
   "execution_count": 89,
   "id": "07097f86",
   "metadata": {},
   "outputs": [
    {
     "data": {
      "text/plain": [
       "[0.6666666666666666, 0.8]"
      ]
     },
     "execution_count": 89,
     "metadata": {},
     "output_type": "execute_result"
    }
   ],
   "source": [
    " [ total_agreement(ogunjo_wolf,\"ogunjo\", \"wolfman\"), total_agreement(ogunjo_ml, \"ogunjo\", \"ml_anon\")]"
   ]
  },
  {
   "cell_type": "markdown",
   "id": "a9fc144c",
   "metadata": {},
   "source": [
    "## Robot"
   ]
  },
  {
   "cell_type": "code",
   "execution_count": 90,
   "id": "bcb2b24d",
   "metadata": {
    "collapsed": true
   },
   "outputs": [
    {
     "data": {
      "text/plain": [
       "[['adebola', 0],\n",
       " ['am', 0],\n",
       " ['ann', 0],\n",
       " ['anuj', 1],\n",
       " ['elbeth', 0],\n",
       " ['bfa', 0],\n",
       " ['gold', 1],\n",
       " ['bob', 1],\n",
       " ['lkh', 0],\n",
       " ['waka', 1],\n",
       " ['trice', 0],\n",
       " ['proof', 0],\n",
       " ['emmanuel', 0],\n",
       " ['fizzy', 0],\n",
       " ['dog', 0],\n",
       " ['flob', 0],\n",
       " ['emma_j', 0],\n",
       " ['greg', 2],\n",
       " ['grey', 0],\n",
       " ['stel', 1],\n",
       " ['jshua', 1],\n",
       " ['kish', 0],\n",
       " ['kylin', 0],\n",
       " ['z4yr', 0],\n",
       " ['hound', 2],\n",
       " ['mount', 0],\n",
       " ['nadalie', 2],\n",
       " ['richard', 2],\n",
       " ['ogunjo', 1],\n",
       " ['robot', 15],\n",
       " ['steeges', 0],\n",
       " ['vik', 0],\n",
       " ['socal', 0],\n",
       " ['wolfman', 0],\n",
       " ['zer', 1],\n",
       " ['ml_anon', 10]]"
      ]
     },
     "execution_count": 90,
     "metadata": {},
     "output_type": "execute_result"
    }
   ],
   "source": [
    "find_common_handles(robot)"
   ]
  },
  {
   "cell_type": "code",
   "execution_count": 91,
   "id": "8a5d6792",
   "metadata": {},
   "outputs": [],
   "source": [
    "rob_greg = create_table(robot, greg)\n",
    "rob_nada = create_table(robot, nadalie)\n",
    "rob_ric = create_table(robot, richard)\n",
    "rob_ml = create_table(robot, ml_anon)"
   ]
  },
  {
   "cell_type": "code",
   "execution_count": 92,
   "id": "59b64e5a",
   "metadata": {},
   "outputs": [
    {
     "data": {
      "text/plain": [
       "[1.0, 1.0, 1.0, 0.6]"
      ]
     },
     "execution_count": 92,
     "metadata": {},
     "output_type": "execute_result"
    }
   ],
   "source": [
    " [total_agreement(rob_greg,\"robot\", \"greg\"), total_agreement(rob_nada,\"robot\", \"nadalie\"),\n",
    " total_agreement(rob_ric,\"robot\", \"richard\"), total_agreement(rob_ml, \"robot\", \"ml_anon\")]"
   ]
  },
  {
   "cell_type": "markdown",
   "id": "8211806b",
   "metadata": {},
   "source": [
    "## Steeges"
   ]
  },
  {
   "cell_type": "code",
   "execution_count": 93,
   "id": "8b432471",
   "metadata": {
    "collapsed": true
   },
   "outputs": [
    {
     "data": {
      "text/plain": [
       "[['adebola', 0],\n",
       " ['am', 0],\n",
       " ['ann', 0],\n",
       " ['anuj', 3],\n",
       " ['elbeth', 0],\n",
       " ['bfa', 0],\n",
       " ['gold', 1],\n",
       " ['bob', 1],\n",
       " ['lkh', 1],\n",
       " ['waka', 2],\n",
       " ['trice', 0],\n",
       " ['proof', 3],\n",
       " ['emmanuel', 2],\n",
       " ['fizzy', 1],\n",
       " ['dog', 1],\n",
       " ['flob', 2],\n",
       " ['emma_j', 3],\n",
       " ['greg', 0],\n",
       " ['grey', 1],\n",
       " ['stel', 1],\n",
       " ['jshua', 3],\n",
       " ['kish', 0],\n",
       " ['kylin', 2],\n",
       " ['z4yr', 3],\n",
       " ['hound', 0],\n",
       " ['mount', 3],\n",
       " ['nadalie', 3],\n",
       " ['richard', 1],\n",
       " ['ogunjo', 1],\n",
       " ['robot', 0],\n",
       " ['steeges', 60],\n",
       " ['vik', 3],\n",
       " ['socal', 0],\n",
       " ['wolfman', 2],\n",
       " ['zer', 7],\n",
       " ['ml_anon', 44]]"
      ]
     },
     "execution_count": 93,
     "metadata": {},
     "output_type": "execute_result"
    }
   ],
   "source": [
    "find_common_handles(steeges)"
   ]
  },
  {
   "cell_type": "code",
   "execution_count": 94,
   "id": "ca9cb9c7",
   "metadata": {},
   "outputs": [],
   "source": [
    "steeges_anuj = create_table(steeges, anuj)\n",
    "steeges_vik = create_table(steeges, vik)\n",
    "steeges_zer = create_table(steeges, zer)\n",
    "steeges_ml = create_table(steeges, ml_anon)"
   ]
  },
  {
   "cell_type": "code",
   "execution_count": 95,
   "id": "a2266bf8",
   "metadata": {},
   "outputs": [
    {
     "data": {
      "text/plain": [
       "[0.3333333333333333, 1.0, 0.2857142857142857, 0.7272727272727273]"
      ]
     },
     "execution_count": 95,
     "metadata": {},
     "output_type": "execute_result"
    }
   ],
   "source": [
    " [total_agreement(steeges_anuj,\"steeges\", \"anuj\"), total_agreement(steeges_vik,\"steeges\", \"vik\"),\n",
    " total_agreement(steeges_zer,\"steeges\", \"zer\"), total_agreement(steeges_ml, \"steeges\", \"ml_anon\")]"
   ]
  },
  {
   "cell_type": "markdown",
   "id": "fc7df0da",
   "metadata": {},
   "source": [
    "## Vik"
   ]
  },
  {
   "cell_type": "code",
   "execution_count": 96,
   "id": "6f7be065",
   "metadata": {
    "collapsed": true
   },
   "outputs": [
    {
     "data": {
      "text/plain": [
       "[['adebola', 0],\n",
       " ['am', 1],\n",
       " ['ann', 0],\n",
       " ['anuj', 2],\n",
       " ['elbeth', 1],\n",
       " ['bfa', 2],\n",
       " ['gold', 0],\n",
       " ['bob', 1],\n",
       " ['lkh', 1],\n",
       " ['waka', 0],\n",
       " ['trice', 2],\n",
       " ['proof', 1],\n",
       " ['emmanuel', 3],\n",
       " ['fizzy', 1],\n",
       " ['dog', 2],\n",
       " ['flob', 2],\n",
       " ['emma_j', 0],\n",
       " ['greg', 3],\n",
       " ['grey', 1],\n",
       " ['stel', 3],\n",
       " ['jshua', 1],\n",
       " ['kish', 1],\n",
       " ['kylin', 2],\n",
       " ['z4yr', 0],\n",
       " ['hound', 2],\n",
       " ['mount', 4],\n",
       " ['nadalie', 1],\n",
       " ['richard', 0],\n",
       " ['ogunjo', 1],\n",
       " ['robot', 0],\n",
       " ['steeges', 3],\n",
       " ['vik', 60],\n",
       " ['socal', 0],\n",
       " ['wolfman', 2],\n",
       " ['zer', 2],\n",
       " ['ml_anon', 41]]"
      ]
     },
     "execution_count": 96,
     "metadata": {},
     "output_type": "execute_result"
    }
   ],
   "source": [
    "find_common_handles(vik)"
   ]
  },
  {
   "cell_type": "code",
   "execution_count": 97,
   "id": "2b4b6989",
   "metadata": {},
   "outputs": [],
   "source": [
    "vik_emma = create_table(vik, emmanuel)\n",
    "vik_ml = create_table(vik, ml_anon)"
   ]
  },
  {
   "cell_type": "code",
   "execution_count": 98,
   "id": "2565999a",
   "metadata": {},
   "outputs": [
    {
     "data": {
      "text/plain": [
       "[0.3333333333333333, 0.7804878048780488]"
      ]
     },
     "execution_count": 98,
     "metadata": {},
     "output_type": "execute_result"
    }
   ],
   "source": [
    "[total_agreement(vik_emma,\"vik\", \"emmanuel\"), total_agreement(vik_ml, \"vik\", \"ml_anon\")]"
   ]
  },
  {
   "cell_type": "markdown",
   "id": "36876deb",
   "metadata": {},
   "source": [
    "## Socal"
   ]
  },
  {
   "cell_type": "code",
   "execution_count": 99,
   "id": "54b8f160",
   "metadata": {
    "collapsed": true
   },
   "outputs": [
    {
     "data": {
      "text/plain": [
       "[['adebola', 0],\n",
       " ['am', 0],\n",
       " ['ann', 0],\n",
       " ['anuj', 1],\n",
       " ['elbeth', 2],\n",
       " ['bfa', 1],\n",
       " ['gold', 0],\n",
       " ['bob', 0],\n",
       " ['lkh', 2],\n",
       " ['waka', 2],\n",
       " ['trice', 3],\n",
       " ['proof', 1],\n",
       " ['emmanuel', 1],\n",
       " ['fizzy', 3],\n",
       " ['dog', 1],\n",
       " ['flob', 0],\n",
       " ['emma_j', 0],\n",
       " ['greg', 2],\n",
       " ['grey', 1],\n",
       " ['stel', 2],\n",
       " ['jshua', 1],\n",
       " ['kish', 1],\n",
       " ['kylin', 0],\n",
       " ['z4yr', 0],\n",
       " ['hound', 3],\n",
       " ['mount', 1],\n",
       " ['nadalie', 0],\n",
       " ['richard', 2],\n",
       " ['ogunjo', 2],\n",
       " ['robot', 0],\n",
       " ['steeges', 0],\n",
       " ['vik', 0],\n",
       " ['socal', 60],\n",
       " ['wolfman', 1],\n",
       " ['zer', 0],\n",
       " ['ml_anon', 44]]"
      ]
     },
     "execution_count": 99,
     "metadata": {},
     "output_type": "execute_result"
    }
   ],
   "source": [
    "find_common_handles(socal)"
   ]
  },
  {
   "cell_type": "code",
   "execution_count": 100,
   "id": "5c87f7dd",
   "metadata": {},
   "outputs": [
    {
     "data": {
      "text/plain": [
       "[0.3333333333333333, 1.0, 0.7727272727272727]"
      ]
     },
     "execution_count": 100,
     "metadata": {},
     "output_type": "execute_result"
    }
   ],
   "source": [
    "socal_fizzy = create_table(socal, fizzy)\n",
    "socal_hound = create_table(socal, hound)\n",
    "socal_ml = create_table(socal, ml_anon)\n",
    "\n",
    "\n",
    "[total_agreement(socal_fizzy,\"socal\", \"fizzy\"), total_agreement(socal_hound,\"socal\", \"hound\"),\n",
    " total_agreement(socal_ml, \"socal\", \"ml_anon\")]"
   ]
  },
  {
   "cell_type": "markdown",
   "id": "6a7a22df",
   "metadata": {},
   "source": [
    "## Wolfman"
   ]
  },
  {
   "cell_type": "code",
   "execution_count": 101,
   "id": "344c2d12",
   "metadata": {
    "collapsed": true
   },
   "outputs": [
    {
     "data": {
      "text/plain": [
       "[['adebola', 0],\n",
       " ['am', 0],\n",
       " ['ann', 0],\n",
       " ['anuj', 0],\n",
       " ['elbeth', 0],\n",
       " ['bfa', 1],\n",
       " ['gold', 1],\n",
       " ['bob', 1],\n",
       " ['lkh', 2],\n",
       " ['waka', 0],\n",
       " ['trice', 0],\n",
       " ['proof', 2],\n",
       " ['emmanuel', 0],\n",
       " ['fizzy', 1],\n",
       " ['dog', 2],\n",
       " ['flob', 1],\n",
       " ['emma_j', 2],\n",
       " ['greg', 2],\n",
       " ['grey', 1],\n",
       " ['stel', 3],\n",
       " ['jshua', 4],\n",
       " ['kish', 1],\n",
       " ['kylin', 0],\n",
       " ['z4yr', 1],\n",
       " ['hound', 2],\n",
       " ['mount', 0],\n",
       " ['nadalie', 0],\n",
       " ['richard', 0],\n",
       " ['ogunjo', 3],\n",
       " ['robot', 0],\n",
       " ['steeges', 2],\n",
       " ['vik', 2],\n",
       " ['socal', 1],\n",
       " ['wolfman', 60],\n",
       " ['zer', 1],\n",
       " ['ml_anon', 41]]"
      ]
     },
     "execution_count": 101,
     "metadata": {},
     "output_type": "execute_result"
    }
   ],
   "source": [
    "find_common_handles(wolfman)"
   ]
  },
  {
   "cell_type": "code",
   "execution_count": 102,
   "id": "2306353c",
   "metadata": {},
   "outputs": [],
   "source": [
    "wolf_ml = create_table(wolfman, ml_anon)"
   ]
  },
  {
   "cell_type": "code",
   "execution_count": 103,
   "id": "5f8dc9e7",
   "metadata": {},
   "outputs": [
    {
     "data": {
      "text/plain": [
       "0.4878048780487805"
      ]
     },
     "execution_count": 103,
     "metadata": {},
     "output_type": "execute_result"
    }
   ],
   "source": [
    "total_agreement(wolf_ml,\"wolfman\", \"ml_anon\" )"
   ]
  },
  {
   "cell_type": "markdown",
   "id": "5d34cace",
   "metadata": {},
   "source": [
    "## Zer"
   ]
  },
  {
   "cell_type": "code",
   "execution_count": 104,
   "id": "1b0f16a4",
   "metadata": {
    "collapsed": true
   },
   "outputs": [
    {
     "data": {
      "text/plain": [
       "[['adebola', 0],\n",
       " ['am', 1],\n",
       " ['ann', 0],\n",
       " ['anuj', 0],\n",
       " ['elbeth', 1],\n",
       " ['bfa', 0],\n",
       " ['gold', 3],\n",
       " ['bob', 1],\n",
       " ['lkh', 0],\n",
       " ['waka', 0],\n",
       " ['trice', 2],\n",
       " ['proof', 0],\n",
       " ['emmanuel', 0],\n",
       " ['fizzy', 2],\n",
       " ['dog', 1],\n",
       " ['flob', 4],\n",
       " ['emma_j', 1],\n",
       " ['greg', 2],\n",
       " ['grey', 0],\n",
       " ['stel', 0],\n",
       " ['jshua', 0],\n",
       " ['kish', 0],\n",
       " ['kylin', 1],\n",
       " ['z4yr', 1],\n",
       " ['hound', 2],\n",
       " ['mount', 2],\n",
       " ['nadalie', 5],\n",
       " ['richard', 2],\n",
       " ['ogunjo', 2],\n",
       " ['robot', 1],\n",
       " ['steeges', 7],\n",
       " ['vik', 2],\n",
       " ['socal', 0],\n",
       " ['wolfman', 1],\n",
       " ['zer', 60],\n",
       " ['ml_anon', 42]]"
      ]
     },
     "execution_count": 104,
     "metadata": {},
     "output_type": "execute_result"
    }
   ],
   "source": [
    "find_common_handles(zer)"
   ]
  },
  {
   "cell_type": "code",
   "execution_count": 105,
   "id": "d12bb985",
   "metadata": {},
   "outputs": [],
   "source": [
    "zer_ml = create_table(zer, ml_anon)"
   ]
  },
  {
   "cell_type": "code",
   "execution_count": 106,
   "id": "2dfeb73b",
   "metadata": {},
   "outputs": [
    {
     "data": {
      "text/plain": [
       "0.7142857142857143"
      ]
     },
     "execution_count": 106,
     "metadata": {},
     "output_type": "execute_result"
    }
   ],
   "source": [
    "total_agreement(zer_ml, \"zer\", \"ml_anon\")"
   ]
  },
  {
   "cell_type": "code",
   "execution_count": 107,
   "id": "f811d243",
   "metadata": {},
   "outputs": [],
   "source": [
    "corr = pd.read_excel(\"./total_agreement_1.xlsx\")"
   ]
  },
  {
   "cell_type": "code",
   "execution_count": 108,
   "id": "3d36a6e0",
   "metadata": {},
   "outputs": [
    {
     "data": {
      "text/html": [
       "<div>\n",
       "<style scoped>\n",
       "    .dataframe tbody tr th:only-of-type {\n",
       "        vertical-align: middle;\n",
       "    }\n",
       "\n",
       "    .dataframe tbody tr th {\n",
       "        vertical-align: top;\n",
       "    }\n",
       "\n",
       "    .dataframe thead th {\n",
       "        text-align: right;\n",
       "    }\n",
       "</style>\n",
       "<table border=\"1\" class=\"dataframe\">\n",
       "  <thead>\n",
       "    <tr style=\"text-align: right;\">\n",
       "      <th></th>\n",
       "      <th>Unnamed: 0</th>\n",
       "      <th>Anuj</th>\n",
       "      <th>Fizzy</th>\n",
       "      <th>Elbeth</th>\n",
       "      <th>Bfa</th>\n",
       "      <th>Gold</th>\n",
       "      <th>Bob</th>\n",
       "      <th>Lkh</th>\n",
       "      <th>Waka</th>\n",
       "      <th>Trice</th>\n",
       "      <th>...</th>\n",
       "      <th>Nadalie</th>\n",
       "      <th>Richard</th>\n",
       "      <th>Ogunjosam</th>\n",
       "      <th>Robot</th>\n",
       "      <th>Steeges</th>\n",
       "      <th>Vik</th>\n",
       "      <th>Socal</th>\n",
       "      <th>Wolfman</th>\n",
       "      <th>Zer</th>\n",
       "      <th>ML</th>\n",
       "    </tr>\n",
       "  </thead>\n",
       "  <tbody>\n",
       "    <tr>\n",
       "      <th>0</th>\n",
       "      <td>Anuj</td>\n",
       "      <td>1.00</td>\n",
       "      <td>NaN</td>\n",
       "      <td>NaN</td>\n",
       "      <td>NaN</td>\n",
       "      <td>NaN</td>\n",
       "      <td>NaN</td>\n",
       "      <td>NaN</td>\n",
       "      <td>NaN</td>\n",
       "      <td>NaN</td>\n",
       "      <td>...</td>\n",
       "      <td>NaN</td>\n",
       "      <td>NaN</td>\n",
       "      <td>NaN</td>\n",
       "      <td>NaN</td>\n",
       "      <td>0.330</td>\n",
       "      <td>NaN</td>\n",
       "      <td>NaN</td>\n",
       "      <td>NaN</td>\n",
       "      <td>NaN</td>\n",
       "      <td>0.630</td>\n",
       "    </tr>\n",
       "    <tr>\n",
       "      <th>1</th>\n",
       "      <td>Fizzy</td>\n",
       "      <td>NaN</td>\n",
       "      <td>1.00</td>\n",
       "      <td>0.000</td>\n",
       "      <td>NaN</td>\n",
       "      <td>0.660</td>\n",
       "      <td>NaN</td>\n",
       "      <td>NaN</td>\n",
       "      <td>NaN</td>\n",
       "      <td>NaN</td>\n",
       "      <td>...</td>\n",
       "      <td>NaN</td>\n",
       "      <td>NaN</td>\n",
       "      <td>NaN</td>\n",
       "      <td>NaN</td>\n",
       "      <td>NaN</td>\n",
       "      <td>NaN</td>\n",
       "      <td>0.33</td>\n",
       "      <td>NaN</td>\n",
       "      <td>NaN</td>\n",
       "      <td>0.660</td>\n",
       "    </tr>\n",
       "    <tr>\n",
       "      <th>2</th>\n",
       "      <td>Elbeth</td>\n",
       "      <td>NaN</td>\n",
       "      <td>0.00</td>\n",
       "      <td>1.000</td>\n",
       "      <td>0.667</td>\n",
       "      <td>NaN</td>\n",
       "      <td>NaN</td>\n",
       "      <td>NaN</td>\n",
       "      <td>NaN</td>\n",
       "      <td>0.667</td>\n",
       "      <td>...</td>\n",
       "      <td>NaN</td>\n",
       "      <td>0.330</td>\n",
       "      <td>NaN</td>\n",
       "      <td>NaN</td>\n",
       "      <td>NaN</td>\n",
       "      <td>NaN</td>\n",
       "      <td>NaN</td>\n",
       "      <td>NaN</td>\n",
       "      <td>NaN</td>\n",
       "      <td>0.465</td>\n",
       "    </tr>\n",
       "    <tr>\n",
       "      <th>3</th>\n",
       "      <td>Bfa</td>\n",
       "      <td>NaN</td>\n",
       "      <td>NaN</td>\n",
       "      <td>0.667</td>\n",
       "      <td>1.000</td>\n",
       "      <td>1.000</td>\n",
       "      <td>NaN</td>\n",
       "      <td>NaN</td>\n",
       "      <td>NaN</td>\n",
       "      <td>NaN</td>\n",
       "      <td>...</td>\n",
       "      <td>NaN</td>\n",
       "      <td>NaN</td>\n",
       "      <td>NaN</td>\n",
       "      <td>NaN</td>\n",
       "      <td>NaN</td>\n",
       "      <td>NaN</td>\n",
       "      <td>NaN</td>\n",
       "      <td>NaN</td>\n",
       "      <td>NaN</td>\n",
       "      <td>0.513</td>\n",
       "    </tr>\n",
       "    <tr>\n",
       "      <th>4</th>\n",
       "      <td>Gold</td>\n",
       "      <td>NaN</td>\n",
       "      <td>0.66</td>\n",
       "      <td>NaN</td>\n",
       "      <td>1.000</td>\n",
       "      <td>1.000</td>\n",
       "      <td>NaN</td>\n",
       "      <td>0.330</td>\n",
       "      <td>NaN</td>\n",
       "      <td>NaN</td>\n",
       "      <td>...</td>\n",
       "      <td>NaN</td>\n",
       "      <td>NaN</td>\n",
       "      <td>NaN</td>\n",
       "      <td>0.0</td>\n",
       "      <td>NaN</td>\n",
       "      <td>NaN</td>\n",
       "      <td>NaN</td>\n",
       "      <td>NaN</td>\n",
       "      <td>0.667</td>\n",
       "      <td>0.714</td>\n",
       "    </tr>\n",
       "    <tr>\n",
       "      <th>5</th>\n",
       "      <td>Bob</td>\n",
       "      <td>NaN</td>\n",
       "      <td>NaN</td>\n",
       "      <td>NaN</td>\n",
       "      <td>NaN</td>\n",
       "      <td>NaN</td>\n",
       "      <td>1.000</td>\n",
       "      <td>1.000</td>\n",
       "      <td>1.000</td>\n",
       "      <td>NaN</td>\n",
       "      <td>...</td>\n",
       "      <td>1.00</td>\n",
       "      <td>NaN</td>\n",
       "      <td>NaN</td>\n",
       "      <td>NaN</td>\n",
       "      <td>NaN</td>\n",
       "      <td>NaN</td>\n",
       "      <td>NaN</td>\n",
       "      <td>NaN</td>\n",
       "      <td>NaN</td>\n",
       "      <td>0.578</td>\n",
       "    </tr>\n",
       "    <tr>\n",
       "      <th>6</th>\n",
       "      <td>Lkh</td>\n",
       "      <td>NaN</td>\n",
       "      <td>NaN</td>\n",
       "      <td>NaN</td>\n",
       "      <td>NaN</td>\n",
       "      <td>0.330</td>\n",
       "      <td>1.000</td>\n",
       "      <td>1.000</td>\n",
       "      <td>NaN</td>\n",
       "      <td>0.500</td>\n",
       "      <td>...</td>\n",
       "      <td>NaN</td>\n",
       "      <td>NaN</td>\n",
       "      <td>0.667</td>\n",
       "      <td>NaN</td>\n",
       "      <td>NaN</td>\n",
       "      <td>NaN</td>\n",
       "      <td>NaN</td>\n",
       "      <td>NaN</td>\n",
       "      <td>NaN</td>\n",
       "      <td>0.620</td>\n",
       "    </tr>\n",
       "    <tr>\n",
       "      <th>7</th>\n",
       "      <td>Waka</td>\n",
       "      <td>NaN</td>\n",
       "      <td>NaN</td>\n",
       "      <td>NaN</td>\n",
       "      <td>NaN</td>\n",
       "      <td>NaN</td>\n",
       "      <td>1.000</td>\n",
       "      <td>NaN</td>\n",
       "      <td>1.000</td>\n",
       "      <td>NaN</td>\n",
       "      <td>...</td>\n",
       "      <td>NaN</td>\n",
       "      <td>NaN</td>\n",
       "      <td>1.000</td>\n",
       "      <td>NaN</td>\n",
       "      <td>1.000</td>\n",
       "      <td>NaN</td>\n",
       "      <td>1.00</td>\n",
       "      <td>NaN</td>\n",
       "      <td>NaN</td>\n",
       "      <td>0.824</td>\n",
       "    </tr>\n",
       "    <tr>\n",
       "      <th>8</th>\n",
       "      <td>Trice</td>\n",
       "      <td>NaN</td>\n",
       "      <td>NaN</td>\n",
       "      <td>0.667</td>\n",
       "      <td>NaN</td>\n",
       "      <td>NaN</td>\n",
       "      <td>NaN</td>\n",
       "      <td>0.500</td>\n",
       "      <td>NaN</td>\n",
       "      <td>1.000</td>\n",
       "      <td>...</td>\n",
       "      <td>NaN</td>\n",
       "      <td>0.000</td>\n",
       "      <td>0.000</td>\n",
       "      <td>NaN</td>\n",
       "      <td>NaN</td>\n",
       "      <td>0.500</td>\n",
       "      <td>NaN</td>\n",
       "      <td>NaN</td>\n",
       "      <td>NaN</td>\n",
       "      <td>0.290</td>\n",
       "    </tr>\n",
       "    <tr>\n",
       "      <th>9</th>\n",
       "      <td>Proof</td>\n",
       "      <td>NaN</td>\n",
       "      <td>NaN</td>\n",
       "      <td>NaN</td>\n",
       "      <td>NaN</td>\n",
       "      <td>NaN</td>\n",
       "      <td>NaN</td>\n",
       "      <td>NaN</td>\n",
       "      <td>NaN</td>\n",
       "      <td>NaN</td>\n",
       "      <td>...</td>\n",
       "      <td>NaN</td>\n",
       "      <td>NaN</td>\n",
       "      <td>NaN</td>\n",
       "      <td>NaN</td>\n",
       "      <td>0.667</td>\n",
       "      <td>NaN</td>\n",
       "      <td>NaN</td>\n",
       "      <td>NaN</td>\n",
       "      <td>NaN</td>\n",
       "      <td>0.680</td>\n",
       "    </tr>\n",
       "    <tr>\n",
       "      <th>10</th>\n",
       "      <td>Emmanuel</td>\n",
       "      <td>NaN</td>\n",
       "      <td>NaN</td>\n",
       "      <td>NaN</td>\n",
       "      <td>NaN</td>\n",
       "      <td>NaN</td>\n",
       "      <td>NaN</td>\n",
       "      <td>NaN</td>\n",
       "      <td>NaN</td>\n",
       "      <td>1.000</td>\n",
       "      <td>...</td>\n",
       "      <td>NaN</td>\n",
       "      <td>NaN</td>\n",
       "      <td>NaN</td>\n",
       "      <td>NaN</td>\n",
       "      <td>NaN</td>\n",
       "      <td>NaN</td>\n",
       "      <td>NaN</td>\n",
       "      <td>NaN</td>\n",
       "      <td>NaN</td>\n",
       "      <td>0.470</td>\n",
       "    </tr>\n",
       "    <tr>\n",
       "      <th>11</th>\n",
       "      <td>Dogg</td>\n",
       "      <td>NaN</td>\n",
       "      <td>NaN</td>\n",
       "      <td>NaN</td>\n",
       "      <td>0.800</td>\n",
       "      <td>NaN</td>\n",
       "      <td>NaN</td>\n",
       "      <td>0.667</td>\n",
       "      <td>NaN</td>\n",
       "      <td>NaN</td>\n",
       "      <td>...</td>\n",
       "      <td>NaN</td>\n",
       "      <td>NaN</td>\n",
       "      <td>NaN</td>\n",
       "      <td>NaN</td>\n",
       "      <td>NaN</td>\n",
       "      <td>NaN</td>\n",
       "      <td>NaN</td>\n",
       "      <td>NaN</td>\n",
       "      <td>NaN</td>\n",
       "      <td>0.525</td>\n",
       "    </tr>\n",
       "    <tr>\n",
       "      <th>12</th>\n",
       "      <td>Flob</td>\n",
       "      <td>NaN</td>\n",
       "      <td>NaN</td>\n",
       "      <td>NaN</td>\n",
       "      <td>NaN</td>\n",
       "      <td>NaN</td>\n",
       "      <td>NaN</td>\n",
       "      <td>NaN</td>\n",
       "      <td>0.000</td>\n",
       "      <td>NaN</td>\n",
       "      <td>...</td>\n",
       "      <td>NaN</td>\n",
       "      <td>NaN</td>\n",
       "      <td>NaN</td>\n",
       "      <td>NaN</td>\n",
       "      <td>NaN</td>\n",
       "      <td>NaN</td>\n",
       "      <td>NaN</td>\n",
       "      <td>NaN</td>\n",
       "      <td>0.750</td>\n",
       "      <td>0.840</td>\n",
       "    </tr>\n",
       "    <tr>\n",
       "      <th>13</th>\n",
       "      <td>Emmanuel.J</td>\n",
       "      <td>NaN</td>\n",
       "      <td>NaN</td>\n",
       "      <td>NaN</td>\n",
       "      <td>NaN</td>\n",
       "      <td>NaN</td>\n",
       "      <td>NaN</td>\n",
       "      <td>NaN</td>\n",
       "      <td>NaN</td>\n",
       "      <td>NaN</td>\n",
       "      <td>...</td>\n",
       "      <td>0.33</td>\n",
       "      <td>NaN</td>\n",
       "      <td>0.667</td>\n",
       "      <td>NaN</td>\n",
       "      <td>1.000</td>\n",
       "      <td>NaN</td>\n",
       "      <td>NaN</td>\n",
       "      <td>NaN</td>\n",
       "      <td>NaN</td>\n",
       "      <td>0.816</td>\n",
       "    </tr>\n",
       "    <tr>\n",
       "      <th>14</th>\n",
       "      <td>Greg</td>\n",
       "      <td>NaN</td>\n",
       "      <td>NaN</td>\n",
       "      <td>NaN</td>\n",
       "      <td>NaN</td>\n",
       "      <td>NaN</td>\n",
       "      <td>NaN</td>\n",
       "      <td>NaN</td>\n",
       "      <td>0.000</td>\n",
       "      <td>0.500</td>\n",
       "      <td>...</td>\n",
       "      <td>NaN</td>\n",
       "      <td>0.800</td>\n",
       "      <td>NaN</td>\n",
       "      <td>NaN</td>\n",
       "      <td>NaN</td>\n",
       "      <td>1.000</td>\n",
       "      <td>NaN</td>\n",
       "      <td>NaN</td>\n",
       "      <td>NaN</td>\n",
       "      <td>0.720</td>\n",
       "    </tr>\n",
       "    <tr>\n",
       "      <th>15</th>\n",
       "      <td>Grey</td>\n",
       "      <td>NaN</td>\n",
       "      <td>NaN</td>\n",
       "      <td>NaN</td>\n",
       "      <td>NaN</td>\n",
       "      <td>NaN</td>\n",
       "      <td>1.000</td>\n",
       "      <td>NaN</td>\n",
       "      <td>1.000</td>\n",
       "      <td>1.000</td>\n",
       "      <td>...</td>\n",
       "      <td>NaN</td>\n",
       "      <td>NaN</td>\n",
       "      <td>0.667</td>\n",
       "      <td>1.0</td>\n",
       "      <td>NaN</td>\n",
       "      <td>NaN</td>\n",
       "      <td>NaN</td>\n",
       "      <td>NaN</td>\n",
       "      <td>NaN</td>\n",
       "      <td>0.467</td>\n",
       "    </tr>\n",
       "    <tr>\n",
       "      <th>16</th>\n",
       "      <td>Stel</td>\n",
       "      <td>NaN</td>\n",
       "      <td>NaN</td>\n",
       "      <td>NaN</td>\n",
       "      <td>NaN</td>\n",
       "      <td>NaN</td>\n",
       "      <td>NaN</td>\n",
       "      <td>0.000</td>\n",
       "      <td>NaN</td>\n",
       "      <td>NaN</td>\n",
       "      <td>...</td>\n",
       "      <td>NaN</td>\n",
       "      <td>NaN</td>\n",
       "      <td>NaN</td>\n",
       "      <td>NaN</td>\n",
       "      <td>NaN</td>\n",
       "      <td>0.667</td>\n",
       "      <td>NaN</td>\n",
       "      <td>0.66</td>\n",
       "      <td>NaN</td>\n",
       "      <td>0.575</td>\n",
       "    </tr>\n",
       "    <tr>\n",
       "      <th>17</th>\n",
       "      <td>Jshua</td>\n",
       "      <td>NaN</td>\n",
       "      <td>NaN</td>\n",
       "      <td>NaN</td>\n",
       "      <td>NaN</td>\n",
       "      <td>NaN</td>\n",
       "      <td>NaN</td>\n",
       "      <td>NaN</td>\n",
       "      <td>NaN</td>\n",
       "      <td>NaN</td>\n",
       "      <td>...</td>\n",
       "      <td>NaN</td>\n",
       "      <td>NaN</td>\n",
       "      <td>NaN</td>\n",
       "      <td>NaN</td>\n",
       "      <td>1.000</td>\n",
       "      <td>NaN</td>\n",
       "      <td>NaN</td>\n",
       "      <td>0.50</td>\n",
       "      <td>NaN</td>\n",
       "      <td>0.745</td>\n",
       "    </tr>\n",
       "    <tr>\n",
       "      <th>18</th>\n",
       "      <td>Kish</td>\n",
       "      <td>NaN</td>\n",
       "      <td>NaN</td>\n",
       "      <td>NaN</td>\n",
       "      <td>0.667</td>\n",
       "      <td>NaN</td>\n",
       "      <td>NaN</td>\n",
       "      <td>NaN</td>\n",
       "      <td>NaN</td>\n",
       "      <td>NaN</td>\n",
       "      <td>...</td>\n",
       "      <td>NaN</td>\n",
       "      <td>NaN</td>\n",
       "      <td>NaN</td>\n",
       "      <td>NaN</td>\n",
       "      <td>NaN</td>\n",
       "      <td>NaN</td>\n",
       "      <td>NaN</td>\n",
       "      <td>NaN</td>\n",
       "      <td>NaN</td>\n",
       "      <td>0.615</td>\n",
       "    </tr>\n",
       "    <tr>\n",
       "      <th>19</th>\n",
       "      <td>Kylin</td>\n",
       "      <td>NaN</td>\n",
       "      <td>NaN</td>\n",
       "      <td>NaN</td>\n",
       "      <td>NaN</td>\n",
       "      <td>NaN</td>\n",
       "      <td>NaN</td>\n",
       "      <td>NaN</td>\n",
       "      <td>NaN</td>\n",
       "      <td>0.000</td>\n",
       "      <td>...</td>\n",
       "      <td>0.50</td>\n",
       "      <td>1.000</td>\n",
       "      <td>NaN</td>\n",
       "      <td>NaN</td>\n",
       "      <td>NaN</td>\n",
       "      <td>NaN</td>\n",
       "      <td>NaN</td>\n",
       "      <td>NaN</td>\n",
       "      <td>NaN</td>\n",
       "      <td>0.880</td>\n",
       "    </tr>\n",
       "    <tr>\n",
       "      <th>20</th>\n",
       "      <td>z4yr</td>\n",
       "      <td>NaN</td>\n",
       "      <td>NaN</td>\n",
       "      <td>0.667</td>\n",
       "      <td>NaN</td>\n",
       "      <td>0.750</td>\n",
       "      <td>0.830</td>\n",
       "      <td>0.330</td>\n",
       "      <td>NaN</td>\n",
       "      <td>0.000</td>\n",
       "      <td>...</td>\n",
       "      <td>NaN</td>\n",
       "      <td>NaN</td>\n",
       "      <td>NaN</td>\n",
       "      <td>NaN</td>\n",
       "      <td>1.000</td>\n",
       "      <td>NaN</td>\n",
       "      <td>NaN</td>\n",
       "      <td>NaN</td>\n",
       "      <td>NaN</td>\n",
       "      <td>0.833</td>\n",
       "    </tr>\n",
       "    <tr>\n",
       "      <th>21</th>\n",
       "      <td>Hound</td>\n",
       "      <td>NaN</td>\n",
       "      <td>NaN</td>\n",
       "      <td>NaN</td>\n",
       "      <td>NaN</td>\n",
       "      <td>NaN</td>\n",
       "      <td>NaN</td>\n",
       "      <td>NaN</td>\n",
       "      <td>NaN</td>\n",
       "      <td>NaN</td>\n",
       "      <td>...</td>\n",
       "      <td>NaN</td>\n",
       "      <td>NaN</td>\n",
       "      <td>NaN</td>\n",
       "      <td>NaN</td>\n",
       "      <td>NaN</td>\n",
       "      <td>NaN</td>\n",
       "      <td>1.00</td>\n",
       "      <td>NaN</td>\n",
       "      <td>NaN</td>\n",
       "      <td>0.630</td>\n",
       "    </tr>\n",
       "    <tr>\n",
       "      <th>22</th>\n",
       "      <td>Mount</td>\n",
       "      <td>NaN</td>\n",
       "      <td>NaN</td>\n",
       "      <td>0.750</td>\n",
       "      <td>NaN</td>\n",
       "      <td>NaN</td>\n",
       "      <td>NaN</td>\n",
       "      <td>NaN</td>\n",
       "      <td>NaN</td>\n",
       "      <td>NaN</td>\n",
       "      <td>...</td>\n",
       "      <td>NaN</td>\n",
       "      <td>1.000</td>\n",
       "      <td>NaN</td>\n",
       "      <td>NaN</td>\n",
       "      <td>1.000</td>\n",
       "      <td>1.000</td>\n",
       "      <td>NaN</td>\n",
       "      <td>NaN</td>\n",
       "      <td>NaN</td>\n",
       "      <td>0.840</td>\n",
       "    </tr>\n",
       "    <tr>\n",
       "      <th>23</th>\n",
       "      <td>Nadalie</td>\n",
       "      <td>NaN</td>\n",
       "      <td>NaN</td>\n",
       "      <td>NaN</td>\n",
       "      <td>NaN</td>\n",
       "      <td>NaN</td>\n",
       "      <td>1.000</td>\n",
       "      <td>NaN</td>\n",
       "      <td>NaN</td>\n",
       "      <td>NaN</td>\n",
       "      <td>...</td>\n",
       "      <td>1.00</td>\n",
       "      <td>NaN</td>\n",
       "      <td>NaN</td>\n",
       "      <td>1.0</td>\n",
       "      <td>0.330</td>\n",
       "      <td>NaN</td>\n",
       "      <td>NaN</td>\n",
       "      <td>NaN</td>\n",
       "      <td>0.100</td>\n",
       "      <td>0.550</td>\n",
       "    </tr>\n",
       "    <tr>\n",
       "      <th>24</th>\n",
       "      <td>Richard</td>\n",
       "      <td>NaN</td>\n",
       "      <td>NaN</td>\n",
       "      <td>0.330</td>\n",
       "      <td>NaN</td>\n",
       "      <td>NaN</td>\n",
       "      <td>NaN</td>\n",
       "      <td>NaN</td>\n",
       "      <td>NaN</td>\n",
       "      <td>0.000</td>\n",
       "      <td>...</td>\n",
       "      <td>NaN</td>\n",
       "      <td>1.000</td>\n",
       "      <td>NaN</td>\n",
       "      <td>1.0</td>\n",
       "      <td>NaN</td>\n",
       "      <td>NaN</td>\n",
       "      <td>NaN</td>\n",
       "      <td>NaN</td>\n",
       "      <td>NaN</td>\n",
       "      <td>0.614</td>\n",
       "    </tr>\n",
       "    <tr>\n",
       "      <th>25</th>\n",
       "      <td>Ogunjosam</td>\n",
       "      <td>NaN</td>\n",
       "      <td>NaN</td>\n",
       "      <td>NaN</td>\n",
       "      <td>NaN</td>\n",
       "      <td>NaN</td>\n",
       "      <td>NaN</td>\n",
       "      <td>0.667</td>\n",
       "      <td>1.000</td>\n",
       "      <td>0.000</td>\n",
       "      <td>...</td>\n",
       "      <td>NaN</td>\n",
       "      <td>NaN</td>\n",
       "      <td>1.000</td>\n",
       "      <td>NaN</td>\n",
       "      <td>NaN</td>\n",
       "      <td>NaN</td>\n",
       "      <td>NaN</td>\n",
       "      <td>0.66</td>\n",
       "      <td>NaN</td>\n",
       "      <td>0.800</td>\n",
       "    </tr>\n",
       "    <tr>\n",
       "      <th>26</th>\n",
       "      <td>Robot</td>\n",
       "      <td>NaN</td>\n",
       "      <td>NaN</td>\n",
       "      <td>NaN</td>\n",
       "      <td>NaN</td>\n",
       "      <td>0.000</td>\n",
       "      <td>NaN</td>\n",
       "      <td>NaN</td>\n",
       "      <td>NaN</td>\n",
       "      <td>NaN</td>\n",
       "      <td>...</td>\n",
       "      <td>1.00</td>\n",
       "      <td>1.000</td>\n",
       "      <td>NaN</td>\n",
       "      <td>1.0</td>\n",
       "      <td>NaN</td>\n",
       "      <td>NaN</td>\n",
       "      <td>NaN</td>\n",
       "      <td>NaN</td>\n",
       "      <td>NaN</td>\n",
       "      <td>0.600</td>\n",
       "    </tr>\n",
       "    <tr>\n",
       "      <th>27</th>\n",
       "      <td>Steeges</td>\n",
       "      <td>0.33</td>\n",
       "      <td>NaN</td>\n",
       "      <td>NaN</td>\n",
       "      <td>NaN</td>\n",
       "      <td>NaN</td>\n",
       "      <td>NaN</td>\n",
       "      <td>NaN</td>\n",
       "      <td>1.000</td>\n",
       "      <td>NaN</td>\n",
       "      <td>...</td>\n",
       "      <td>0.33</td>\n",
       "      <td>NaN</td>\n",
       "      <td>NaN</td>\n",
       "      <td>NaN</td>\n",
       "      <td>1.000</td>\n",
       "      <td>1.000</td>\n",
       "      <td>NaN</td>\n",
       "      <td>NaN</td>\n",
       "      <td>0.290</td>\n",
       "      <td>0.730</td>\n",
       "    </tr>\n",
       "    <tr>\n",
       "      <th>28</th>\n",
       "      <td>Vik</td>\n",
       "      <td>NaN</td>\n",
       "      <td>NaN</td>\n",
       "      <td>NaN</td>\n",
       "      <td>NaN</td>\n",
       "      <td>NaN</td>\n",
       "      <td>NaN</td>\n",
       "      <td>NaN</td>\n",
       "      <td>NaN</td>\n",
       "      <td>0.500</td>\n",
       "      <td>...</td>\n",
       "      <td>NaN</td>\n",
       "      <td>NaN</td>\n",
       "      <td>NaN</td>\n",
       "      <td>NaN</td>\n",
       "      <td>1.000</td>\n",
       "      <td>1.000</td>\n",
       "      <td>NaN</td>\n",
       "      <td>NaN</td>\n",
       "      <td>NaN</td>\n",
       "      <td>0.780</td>\n",
       "    </tr>\n",
       "    <tr>\n",
       "      <th>29</th>\n",
       "      <td>Socal</td>\n",
       "      <td>NaN</td>\n",
       "      <td>0.33</td>\n",
       "      <td>NaN</td>\n",
       "      <td>NaN</td>\n",
       "      <td>NaN</td>\n",
       "      <td>NaN</td>\n",
       "      <td>NaN</td>\n",
       "      <td>1.000</td>\n",
       "      <td>0.667</td>\n",
       "      <td>...</td>\n",
       "      <td>NaN</td>\n",
       "      <td>NaN</td>\n",
       "      <td>NaN</td>\n",
       "      <td>NaN</td>\n",
       "      <td>NaN</td>\n",
       "      <td>NaN</td>\n",
       "      <td>1.00</td>\n",
       "      <td>NaN</td>\n",
       "      <td>NaN</td>\n",
       "      <td>0.770</td>\n",
       "    </tr>\n",
       "    <tr>\n",
       "      <th>30</th>\n",
       "      <td>Wolfman</td>\n",
       "      <td>NaN</td>\n",
       "      <td>NaN</td>\n",
       "      <td>NaN</td>\n",
       "      <td>NaN</td>\n",
       "      <td>NaN</td>\n",
       "      <td>NaN</td>\n",
       "      <td>NaN</td>\n",
       "      <td>NaN</td>\n",
       "      <td>NaN</td>\n",
       "      <td>...</td>\n",
       "      <td>NaN</td>\n",
       "      <td>NaN</td>\n",
       "      <td>0.660</td>\n",
       "      <td>NaN</td>\n",
       "      <td>NaN</td>\n",
       "      <td>NaN</td>\n",
       "      <td>NaN</td>\n",
       "      <td>1.00</td>\n",
       "      <td>NaN</td>\n",
       "      <td>0.490</td>\n",
       "    </tr>\n",
       "    <tr>\n",
       "      <th>31</th>\n",
       "      <td>Zer</td>\n",
       "      <td>NaN</td>\n",
       "      <td>NaN</td>\n",
       "      <td>NaN</td>\n",
       "      <td>NaN</td>\n",
       "      <td>0.667</td>\n",
       "      <td>NaN</td>\n",
       "      <td>NaN</td>\n",
       "      <td>NaN</td>\n",
       "      <td>NaN</td>\n",
       "      <td>...</td>\n",
       "      <td>0.10</td>\n",
       "      <td>NaN</td>\n",
       "      <td>NaN</td>\n",
       "      <td>NaN</td>\n",
       "      <td>0.290</td>\n",
       "      <td>NaN</td>\n",
       "      <td>NaN</td>\n",
       "      <td>NaN</td>\n",
       "      <td>1.000</td>\n",
       "      <td>0.714</td>\n",
       "    </tr>\n",
       "    <tr>\n",
       "      <th>32</th>\n",
       "      <td>ML</td>\n",
       "      <td>0.63</td>\n",
       "      <td>0.66</td>\n",
       "      <td>0.465</td>\n",
       "      <td>0.513</td>\n",
       "      <td>0.714</td>\n",
       "      <td>0.578</td>\n",
       "      <td>0.620</td>\n",
       "      <td>0.824</td>\n",
       "      <td>0.290</td>\n",
       "      <td>...</td>\n",
       "      <td>0.55</td>\n",
       "      <td>0.614</td>\n",
       "      <td>0.800</td>\n",
       "      <td>0.6</td>\n",
       "      <td>0.730</td>\n",
       "      <td>0.780</td>\n",
       "      <td>0.77</td>\n",
       "      <td>0.49</td>\n",
       "      <td>0.714</td>\n",
       "      <td>1.000</td>\n",
       "    </tr>\n",
       "  </tbody>\n",
       "</table>\n",
       "<p>33 rows × 34 columns</p>\n",
       "</div>"
      ],
      "text/plain": [
       "    Unnamed: 0  Anuj  Fizzy  Elbeth    Bfa   Gold    Bob    Lkh   Waka  Trice  \\\n",
       "0         Anuj  1.00    NaN     NaN    NaN    NaN    NaN    NaN    NaN    NaN   \n",
       "1        Fizzy   NaN   1.00   0.000    NaN  0.660    NaN    NaN    NaN    NaN   \n",
       "2       Elbeth   NaN   0.00   1.000  0.667    NaN    NaN    NaN    NaN  0.667   \n",
       "3          Bfa   NaN    NaN   0.667  1.000  1.000    NaN    NaN    NaN    NaN   \n",
       "4         Gold   NaN   0.66     NaN  1.000  1.000    NaN  0.330    NaN    NaN   \n",
       "5          Bob   NaN    NaN     NaN    NaN    NaN  1.000  1.000  1.000    NaN   \n",
       "6          Lkh   NaN    NaN     NaN    NaN  0.330  1.000  1.000    NaN  0.500   \n",
       "7         Waka   NaN    NaN     NaN    NaN    NaN  1.000    NaN  1.000    NaN   \n",
       "8        Trice   NaN    NaN   0.667    NaN    NaN    NaN  0.500    NaN  1.000   \n",
       "9        Proof   NaN    NaN     NaN    NaN    NaN    NaN    NaN    NaN    NaN   \n",
       "10    Emmanuel   NaN    NaN     NaN    NaN    NaN    NaN    NaN    NaN  1.000   \n",
       "11        Dogg   NaN    NaN     NaN  0.800    NaN    NaN  0.667    NaN    NaN   \n",
       "12        Flob   NaN    NaN     NaN    NaN    NaN    NaN    NaN  0.000    NaN   \n",
       "13  Emmanuel.J   NaN    NaN     NaN    NaN    NaN    NaN    NaN    NaN    NaN   \n",
       "14        Greg   NaN    NaN     NaN    NaN    NaN    NaN    NaN  0.000  0.500   \n",
       "15        Grey   NaN    NaN     NaN    NaN    NaN  1.000    NaN  1.000  1.000   \n",
       "16        Stel   NaN    NaN     NaN    NaN    NaN    NaN  0.000    NaN    NaN   \n",
       "17       Jshua   NaN    NaN     NaN    NaN    NaN    NaN    NaN    NaN    NaN   \n",
       "18        Kish   NaN    NaN     NaN  0.667    NaN    NaN    NaN    NaN    NaN   \n",
       "19       Kylin   NaN    NaN     NaN    NaN    NaN    NaN    NaN    NaN  0.000   \n",
       "20        z4yr   NaN    NaN   0.667    NaN  0.750  0.830  0.330    NaN  0.000   \n",
       "21       Hound   NaN    NaN     NaN    NaN    NaN    NaN    NaN    NaN    NaN   \n",
       "22       Mount   NaN    NaN   0.750    NaN    NaN    NaN    NaN    NaN    NaN   \n",
       "23     Nadalie   NaN    NaN     NaN    NaN    NaN  1.000    NaN    NaN    NaN   \n",
       "24     Richard   NaN    NaN   0.330    NaN    NaN    NaN    NaN    NaN  0.000   \n",
       "25   Ogunjosam   NaN    NaN     NaN    NaN    NaN    NaN  0.667  1.000  0.000   \n",
       "26       Robot   NaN    NaN     NaN    NaN  0.000    NaN    NaN    NaN    NaN   \n",
       "27     Steeges  0.33    NaN     NaN    NaN    NaN    NaN    NaN  1.000    NaN   \n",
       "28         Vik   NaN    NaN     NaN    NaN    NaN    NaN    NaN    NaN  0.500   \n",
       "29       Socal   NaN   0.33     NaN    NaN    NaN    NaN    NaN  1.000  0.667   \n",
       "30     Wolfman   NaN    NaN     NaN    NaN    NaN    NaN    NaN    NaN    NaN   \n",
       "31         Zer   NaN    NaN     NaN    NaN  0.667    NaN    NaN    NaN    NaN   \n",
       "32          ML  0.63   0.66   0.465  0.513  0.714  0.578  0.620  0.824  0.290   \n",
       "\n",
       "    ...  Nadalie  Richard  Ogunjosam  Robot  Steeges    Vik  Socal  Wolfman  \\\n",
       "0   ...      NaN      NaN        NaN    NaN    0.330    NaN    NaN      NaN   \n",
       "1   ...      NaN      NaN        NaN    NaN      NaN    NaN   0.33      NaN   \n",
       "2   ...      NaN    0.330        NaN    NaN      NaN    NaN    NaN      NaN   \n",
       "3   ...      NaN      NaN        NaN    NaN      NaN    NaN    NaN      NaN   \n",
       "4   ...      NaN      NaN        NaN    0.0      NaN    NaN    NaN      NaN   \n",
       "5   ...     1.00      NaN        NaN    NaN      NaN    NaN    NaN      NaN   \n",
       "6   ...      NaN      NaN      0.667    NaN      NaN    NaN    NaN      NaN   \n",
       "7   ...      NaN      NaN      1.000    NaN    1.000    NaN   1.00      NaN   \n",
       "8   ...      NaN    0.000      0.000    NaN      NaN  0.500    NaN      NaN   \n",
       "9   ...      NaN      NaN        NaN    NaN    0.667    NaN    NaN      NaN   \n",
       "10  ...      NaN      NaN        NaN    NaN      NaN    NaN    NaN      NaN   \n",
       "11  ...      NaN      NaN        NaN    NaN      NaN    NaN    NaN      NaN   \n",
       "12  ...      NaN      NaN        NaN    NaN      NaN    NaN    NaN      NaN   \n",
       "13  ...     0.33      NaN      0.667    NaN    1.000    NaN    NaN      NaN   \n",
       "14  ...      NaN    0.800        NaN    NaN      NaN  1.000    NaN      NaN   \n",
       "15  ...      NaN      NaN      0.667    1.0      NaN    NaN    NaN      NaN   \n",
       "16  ...      NaN      NaN        NaN    NaN      NaN  0.667    NaN     0.66   \n",
       "17  ...      NaN      NaN        NaN    NaN    1.000    NaN    NaN     0.50   \n",
       "18  ...      NaN      NaN        NaN    NaN      NaN    NaN    NaN      NaN   \n",
       "19  ...     0.50    1.000        NaN    NaN      NaN    NaN    NaN      NaN   \n",
       "20  ...      NaN      NaN        NaN    NaN    1.000    NaN    NaN      NaN   \n",
       "21  ...      NaN      NaN        NaN    NaN      NaN    NaN   1.00      NaN   \n",
       "22  ...      NaN    1.000        NaN    NaN    1.000  1.000    NaN      NaN   \n",
       "23  ...     1.00      NaN        NaN    1.0    0.330    NaN    NaN      NaN   \n",
       "24  ...      NaN    1.000        NaN    1.0      NaN    NaN    NaN      NaN   \n",
       "25  ...      NaN      NaN      1.000    NaN      NaN    NaN    NaN     0.66   \n",
       "26  ...     1.00    1.000        NaN    1.0      NaN    NaN    NaN      NaN   \n",
       "27  ...     0.33      NaN        NaN    NaN    1.000  1.000    NaN      NaN   \n",
       "28  ...      NaN      NaN        NaN    NaN    1.000  1.000    NaN      NaN   \n",
       "29  ...      NaN      NaN        NaN    NaN      NaN    NaN   1.00      NaN   \n",
       "30  ...      NaN      NaN      0.660    NaN      NaN    NaN    NaN     1.00   \n",
       "31  ...     0.10      NaN        NaN    NaN    0.290    NaN    NaN      NaN   \n",
       "32  ...     0.55    0.614      0.800    0.6    0.730  0.780   0.77     0.49   \n",
       "\n",
       "      Zer     ML  \n",
       "0     NaN  0.630  \n",
       "1     NaN  0.660  \n",
       "2     NaN  0.465  \n",
       "3     NaN  0.513  \n",
       "4   0.667  0.714  \n",
       "5     NaN  0.578  \n",
       "6     NaN  0.620  \n",
       "7     NaN  0.824  \n",
       "8     NaN  0.290  \n",
       "9     NaN  0.680  \n",
       "10    NaN  0.470  \n",
       "11    NaN  0.525  \n",
       "12  0.750  0.840  \n",
       "13    NaN  0.816  \n",
       "14    NaN  0.720  \n",
       "15    NaN  0.467  \n",
       "16    NaN  0.575  \n",
       "17    NaN  0.745  \n",
       "18    NaN  0.615  \n",
       "19    NaN  0.880  \n",
       "20    NaN  0.833  \n",
       "21    NaN  0.630  \n",
       "22    NaN  0.840  \n",
       "23  0.100  0.550  \n",
       "24    NaN  0.614  \n",
       "25    NaN  0.800  \n",
       "26    NaN  0.600  \n",
       "27  0.290  0.730  \n",
       "28    NaN  0.780  \n",
       "29    NaN  0.770  \n",
       "30    NaN  0.490  \n",
       "31  1.000  0.714  \n",
       "32  0.714  1.000  \n",
       "\n",
       "[33 rows x 34 columns]"
      ]
     },
     "execution_count": 108,
     "metadata": {},
     "output_type": "execute_result"
    }
   ],
   "source": [
    "corr"
   ]
  },
  {
   "cell_type": "code",
   "execution_count": 110,
   "id": "d77fe71d",
   "metadata": {
    "scrolled": false
   },
   "outputs": [
    {
     "data": {
      "image/png": "[encoded data removed]",
      "text/plain": [
       "<Figure size 1800x720 with 2 Axes>"
      ]
     },
     "metadata": {},
     "output_type": "display_data"
    }
   ],
   "source": [
    "import seaborn as sns\n",
    "import matplotlib.pyplot as plt\n",
    "# You can change the values here to your taste.\n",
    "plt.figure(figsize=(25,10))\n",
    "sns.set(rc={'axes.facecolor':'white', 'figure.facecolor':'white'})\n",
    "corr.rename({\"Unnamed: 0\": \" \"}, axis=1, inplace=True)\n",
    "sns.heatmap(corr.set_index(\" \"), annot=True, cmap=\"YlGnBu\", linecolor=\"black\", linewidths=0.5)\n",
    "plt.title(\"Heatmap of Total Agreements\", fontsize=25, weight=\"bold\")\n",
    "plt.savefig(\"Heatmap_total_agreements.png\")\n",
    "plt.show()\n"
   ]
  }
 ],
 "metadata": {
  "kernelspec": {
   "display_name": "Python 3",
   "language": "python",
   "name": "python3"
  },
  "language_info": {
   "codemirror_mode": {
    "name": "ipython",
    "version": 3
   },
   "file_extension": ".py",
   "mimetype": "text/x-python",
   "name": "python",
   "nbconvert_exporter": "python",
   "pygments_lexer": "ipython3",
   "version": "3.7.6"
  }
 },
 "nbformat": 4,
 "nbformat_minor": 5
}
