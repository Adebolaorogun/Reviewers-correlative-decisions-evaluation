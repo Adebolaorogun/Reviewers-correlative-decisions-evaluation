{
 "cells": [
  {
   "cell_type": "code",
   "execution_count": 1,
   "id": "65c9ce83",
   "metadata": {},
   "outputs": [],
   "source": [
    "import pandas as pd \n",
    "from sklearn.metrics import cohen_kappa_score\n",
    "import numpy as np"
   ]
  },
  {
   "cell_type": "markdown",
   "id": "faf3ef9d",
   "metadata": {},
   "source": [
    "## Importing the dataset needed for the analysis"
   ]
  },
  {
   "cell_type": "code",
   "execution_count": 1,
   "id": "9bb9c179",
   "metadata": {},
   "outputs": [],
   "source": [
    "## Import the data here "
   ]
  },
  {
   "cell_type": "markdown",
   "id": "3bbcb6c2",
   "metadata": {},
   "source": [
    "## Formatting the ML dataset to work with the dataset."
   ]
  },
  {
   "cell_type": "code",
   "execution_count": 506,
   "id": "af3a9105",
   "metadata": {},
   "outputs": [],
   "source": [
    "ml_anon = pd.read_csv(\"## Input file path here## \")"
   ]
  },
  {
   "cell_type": "code",
   "execution_count": 507,
   "id": "bd55cb06",
   "metadata": {},
   "outputs": [],
   "source": [
    "ml_anon.drop(\"Unnamed: 0\", inplace=True, axis=1)"
   ]
  },
  {
   "cell_type": "code",
   "execution_count": 508,
   "id": "ee3ca1f9",
   "metadata": {},
   "outputs": [
    {
     "data": {
      "text/plain": [
       "array(['F', 'F', 'F', ..., 'F', 'F', 'F'], dtype='<U1')"
      ]
     },
     "execution_count": 508,
     "metadata": {},
     "output_type": "execute_result"
    }
   ],
   "source": [
    "np.where(ml_anon.prediction_score == 1, \"T\", \"F\")"
   ]
  },
  {
   "cell_type": "code",
   "execution_count": 509,
   "id": "18348f91",
   "metadata": {},
   "outputs": [],
   "source": [
    "ml_anon[\"Is Sybil? (T or F)\"] = np.where(ml_anon.prediction_score == 1, \"T\", \"F\")"
   ]
  },
  {
   "cell_type": "code",
   "execution_count": 510,
   "id": "de5b8ad2",
   "metadata": {},
   "outputs": [
    {
     "data": {
      "text/plain": [
       "Index(['handle', 'prediction_score', 'prediction_confidence', 'quant_1',\n",
       "       'quant_2', 'quant_3', 'quant_4', 'quant_5', 'quant_6', 'quant_7',\n",
       "       'Is Sybil? (T or F)'],\n",
       "      dtype='object')"
      ]
     },
     "execution_count": 510,
     "metadata": {},
     "output_type": "execute_result"
    }
   ],
   "source": [
    "ml_anon.columns"
   ]
  },
  {
   "cell_type": "code",
   "execution_count": 3,
   "id": "13484dbe",
   "metadata": {},
   "outputs": [],
   "source": [
    "names = [adebola, am, ann, anuj, elbeth, bfa, gold, bob, lkh, waka, trice, proof, emmanuel, fizzy, dog, flob, emma_j, greg,\n",
    "        grey, stel, jshua, kish, kylin, z4yr, hound, mount, nadalie, richard, ogunjo, am2, robot, ann2, steeges, vik, socal,\n",
    "        wolfman, zer, elbeth2, bob2, lkh2, fizzy2, trice2, flob2, greg2, grey2, stele2, hound2, richard2, ogunjo2, vik2, wolfman2, ]"
   ]
  },
  {
   "cell_type": "code",
   "execution_count": 4,
   "id": "261ea47a",
   "metadata": {},
   "outputs": [],
   "source": [
    "# Making a loop through all the datasheet of human evaluation,\n",
    "# then renaming the Unnamed: 0 column to handle so that all the data used for the analysis have a column in common\n",
    "for i in names:\n",
    "    i.rename({\"Unnamed: 0\": \"handle\"}, axis=1, inplace=True)"
   ]
  },
  {
   "cell_type": "code",
   "execution_count": 251,
   "id": "fb975393",
   "metadata": {},
   "outputs": [],
   "source": [
    "names = [adebola, am, ann, anuj, elbeth, bfa, gold, bob, lkh, waka, trice, proof, emmanuel, fizzy, dog, flob, emma_j, greg,\n",
    "        grey, stel, jshua, kish, kylin, z4yr, hound, mount, nadalie, richard, ogunjo, am2, robot, ann2, steeges, vik, socal,\n",
    "        wolfman, zer, elbeth2, bob2, lkh2, fizzy2, trice2, flob2, greg2, grey2, stele2, hound2, richard2, ogunjo2, vik2, wolfman2, ml_anon]"
   ]
  },
  {
   "cell_type": "code",
   "execution_count": 47,
   "id": "b06e8f6f",
   "metadata": {},
   "outputs": [],
   "source": [
    "def namestr(obj, namespace):\n",
    "    \"\"\"\n",
    "    This function makes it posible to retrive the name of a variable (stored_data).\n",
    "    \"\"\"\n",
    "    \n",
    "    return [name for name in namespace if namespace[name] is obj]\n"
   ]
  },
  {
   "cell_type": "code",
   "execution_count": 487,
   "id": "dc2f6db2",
   "metadata": {},
   "outputs": [],
   "source": [
    "def create_table(data1, data2):\n",
    "    \n",
    "    \"\"\"\n",
    "    This function creates a table for any two reviewer that share common handles reviewed.\n",
    "    \"\"\"\n",
    "    \n",
    "    df = pd.DataFrame()\n",
    "    \n",
    "    df = data1.merge(data2, on=\"handle\", suffixes=(namestr(data1, globals())[0], namestr(data2, globals())[0]))\n",
    "    \n",
    "    df.dropna(subset=[\"Is Sybil? (T or F)\" +namestr(data1, globals())[0], \"Is Sybil? (T or F)\" +namestr(data2, globals())[0]],\n",
    "             inplace=True)\n",
    "    \n",
    "    return df"
   ]
  },
  {
   "cell_type": "code",
   "execution_count": 488,
   "id": "150b3325",
   "metadata": {},
   "outputs": [],
   "source": [
    "## This cell loops through \n",
    "\n",
    "def find_common_handles(name):\n",
    "    \n",
    "    \"\"\"\n",
    "    This function loops through the list of reviewers data and returns the each reviewer and number of handles they have in \n",
    "    common with the \"name\" given.\n",
    "    \"\"\"\n",
    "    freq=[]\n",
    "    for i in names:\n",
    "        freq.append([namestr(i, globals())[0], create_table(name, i).shape[0]])\n",
    "    return freq"
   ]
  },
  {
   "cell_type": "code",
   "execution_count": 311,
   "id": "36dc8d12",
   "metadata": {},
   "outputs": [],
   "source": [
    "def total_agreement(data, name1, name2):\n",
    "    \n",
    "    \"\"\"\n",
    "    This function calculates the total agreement of between any two reviewer.\n",
    "    Ranges from 0 to 1.\n",
    "    A score of 1 denotes they made the same call on all handles the reviewed in common.\n",
    "    A score of 0 denotes they made the different call on all handles the reviewed in common.\n",
    "    \"\"\"\n",
    "    \n",
    "    lenght = data.shape[0]\n",
    "    \n",
    "    count = data.loc[data[\"Is Sybil? (T or F)\" + name1] == data[\"Is Sybil? (T or F)\" + name2]].shape[0]\n",
    "    \n",
    "    agreements = count\n",
    "    \n",
    "    return agreements/lenght\n",
    "    "
   ]
  },
  {
   "cell_type": "code",
   "execution_count": 309,
   "id": "899382f4",
   "metadata": {},
   "outputs": [],
   "source": [
    "def total_disagreement(data, name1, name2):\n",
    "    \n",
    "    \"\"\"\n",
    "    This function calculates the total disagreement of between any two reviewer.\n",
    "    Ranges from 0 to 1.\n",
    "    A score of 0 denotes they made the same call on all handles the reviewed in common.\n",
    "    A score of 1 denotes they made the different call on all handles the reviewed in common.\n",
    "    \"\"\"\n",
    "    \n",
    "    lenght = data.shape[0]\n",
    "    \n",
    "    count = data.loc[data[\"Is Sybil? (T or F)\" + name1] != data[\"Is Sybil? (T or F)\" + name2]].shape[0]\n",
    "    \n",
    "    disagreements = count\n",
    "    \n",
    "    return disagreements/lenght"
   ]
  },
  {
   "cell_type": "code",
   "execution_count": 324,
   "id": "d74ba032",
   "metadata": {},
   "outputs": [
    {
     "name": "stdout",
     "output_type": "stream",
     "text": [
      "The total disagreement between Fizzy and Richard is: 0.5\n",
      "The total agreement between Fizzy and Richard is: 0.5\n",
      "\n",
      "The total disagreement between Fizzy and Elbeth is: 1.0\n",
      "The total agreement between Fizzy and Elbeth is: 0.0\n"
     ]
    }
   ],
   "source": [
    "## This is an illustration of the functions \n",
    "disagreement= total_disagreement(fiz_ric, \"fizzy\", \"richard\")\n",
    "print(f\"The total disagreement between Fizzy and Richard is: {disagreement}\" )\n",
    "agreement = total_agreement(fiz_ric, \"fizzy\", \"richard\")\n",
    "print(f\"The total agreement between Fizzy and Richard is: {agreement}\\n\")\n",
    "\n",
    "disagreement= total_disagreement(fiz_elb, \"fizzy\", \"elbeth\")\n",
    "print(f\"The total disagreement between Fizzy and Elbeth is: {disagreement}\" )\n",
    "agreement = total_agreement(fiz_elb, \"fizzy\", \"elbeth\")\n",
    "print(f\"The total agreement between Fizzy and Elbeth is: {agreement}\")"
   ]
  },
  {
   "cell_type": "markdown",
   "id": "a69cbb7a",
   "metadata": {},
   "source": [
    "## Fizzy Interreliability "
   ]
  },
  {
   "cell_type": "code",
   "execution_count": 252,
   "id": "e847e1e2",
   "metadata": {
    "collapsed": true
   },
   "outputs": [
    {
     "data": {
      "text/plain": [
       "[['adebola', 0],\n",
       " ['am', 0],\n",
       " ['ann', 0],\n",
       " ['anuj', 1],\n",
       " ['elbeth', 4],\n",
       " ['bfa', 2],\n",
       " ['gold', 3],\n",
       " ['bob', 2],\n",
       " ['lkh', 1],\n",
       " ['waka', 0],\n",
       " ['trice', 1],\n",
       " ['proof', 0],\n",
       " ['emmanuel', 0],\n",
       " ['fizzy', 60],\n",
       " ['dog', 0],\n",
       " ['flob', 1],\n",
       " ['emma_j', 0],\n",
       " ['greg', 1],\n",
       " ['grey', 1],\n",
       " ['stel', 2],\n",
       " ['jshua', 0],\n",
       " ['kish', 0],\n",
       " ['kylin', 0],\n",
       " ['z4yr', 1],\n",
       " ['hound', 2],\n",
       " ['mount', 2],\n",
       " ['nadalie', 1],\n",
       " ['richard', 4],\n",
       " ['ogunjo', 0],\n",
       " ['am2', 1],\n",
       " ['robot', 0],\n",
       " ['ann2', 1],\n",
       " ['steeges', 1],\n",
       " ['vik', 1],\n",
       " ['socal', 3],\n",
       " ['wolfman', 1],\n",
       " ['zer', 2],\n",
       " ['elbeth2', 1],\n",
       " ['bob2', 3],\n",
       " ['lkh2', 0],\n",
       " ['fizzy2', 0],\n",
       " ['trice2', 1],\n",
       " ['flob2', 0],\n",
       " ['greg2', 0],\n",
       " ['grey2', 0],\n",
       " ['stele2', 0],\n",
       " ['hound2', 0],\n",
       " ['richard2', 0],\n",
       " ['ogunjo2', 2],\n",
       " ['vik2', 0],\n",
       " ['wolfman2', 0],\n",
       " ['ml_anon', 48]]"
      ]
     },
     "execution_count": 252,
     "metadata": {},
     "output_type": "execute_result"
    }
   ],
   "source": [
    "find_common_handles(fizzy)"
   ]
  },
  {
   "cell_type": "code",
   "execution_count": 330,
   "id": "ba8c996c",
   "metadata": {},
   "outputs": [],
   "source": [
    "## creating tables from those with atleast 3 common columns\n",
    "\n",
    "fiz_ric = create_table(fizzy, richard)\n",
    "fiz_elb = create_table(fizzy, elbeth)\n",
    "fiz_gold = create_table(fizzy, gold)\n",
    "## You can create a dataset like this for the others.\n",
    "fiz_ml = create_table(fizzy, ml_anon)"
   ]
  },
  {
   "cell_type": "code",
   "execution_count": 332,
   "id": "c618cdae",
   "metadata": {},
   "outputs": [
    {
     "data": {
      "text/html": [
       "<div>\n",
       "<style scoped>\n",
       "    .dataframe tbody tr th:only-of-type {\n",
       "        vertical-align: middle;\n",
       "    }\n",
       "\n",
       "    .dataframe tbody tr th {\n",
       "        vertical-align: top;\n",
       "    }\n",
       "\n",
       "    .dataframe thead th {\n",
       "        text-align: right;\n",
       "    }\n",
       "</style>\n",
       "<table border=\"1\" class=\"dataframe\">\n",
       "  <thead>\n",
       "    <tr style=\"text-align: right;\">\n",
       "      <th></th>\n",
       "      <th>handle</th>\n",
       "      <th>Is Sybil? (T or F)fizzy</th>\n",
       "      <th>Confidence (low, so-so, high)fizzy</th>\n",
       "      <th>Notesfizzy</th>\n",
       "      <th>gitcoin_urlfizzy</th>\n",
       "      <th>github_urlfizzy</th>\n",
       "      <th>Is Sybil? (T or F)elbeth</th>\n",
       "      <th>Confidence (low, so-so, high)elbeth</th>\n",
       "      <th>Noteselbeth</th>\n",
       "      <th>gitcoin_urlelbeth</th>\n",
       "      <th>github_urlelbeth</th>\n",
       "    </tr>\n",
       "  </thead>\n",
       "  <tbody>\n",
       "    <tr>\n",
       "      <th>0</th>\n",
       "      <td>nnnggel</td>\n",
       "      <td>F</td>\n",
       "      <td>soso</td>\n",
       "      <td>a few contributions</td>\n",
       "      <td>https://gitcoin.co/nnnggel</td>\n",
       "      <td>https://github.com/nnnggel</td>\n",
       "      <td>T</td>\n",
       "      <td>low</td>\n",
       "      <td>gitcoin fairly old with very old github accoun...</td>\n",
       "      <td>https://gitcoin.co/nnnggel</td>\n",
       "      <td>https://github.com/nnnggel</td>\n",
       "    </tr>\n",
       "    <tr>\n",
       "      <th>1</th>\n",
       "      <td>ariel841005</td>\n",
       "      <td>F</td>\n",
       "      <td>low</td>\n",
       "      <td>new account, no activity, no donations</td>\n",
       "      <td>https://gitcoin.co/ariel841005</td>\n",
       "      <td>https://github.com/ariel841005</td>\n",
       "      <td>T</td>\n",
       "      <td>high</td>\n",
       "      <td>gitcoin and github are fairly new, no activity...</td>\n",
       "      <td>https://gitcoin.co/ariel841005</td>\n",
       "      <td>https://github.com/ariel841005</td>\n",
       "    </tr>\n",
       "    <tr>\n",
       "      <th>2</th>\n",
       "      <td>qianggefcnb</td>\n",
       "      <td>F</td>\n",
       "      <td>soso</td>\n",
       "      <td>little contributions</td>\n",
       "      <td>https://gitcoin.co/qianggefcnb</td>\n",
       "      <td>https://github.com/qianggefcnb</td>\n",
       "      <td>T</td>\n",
       "      <td>high</td>\n",
       "      <td>gitcoin  and github are fairly old,  gitcoin d...</td>\n",
       "      <td>https://gitcoin.co/qianggefcnb</td>\n",
       "      <td>https://github.com/qianggefcnb</td>\n",
       "    </tr>\n",
       "    <tr>\n",
       "      <th>3</th>\n",
       "      <td>leshoashour</td>\n",
       "      <td>F</td>\n",
       "      <td>high</td>\n",
       "      <td>though new, made a single donation</td>\n",
       "      <td>https://gitcoin.co/leshoashour</td>\n",
       "      <td>https://github.com/leshoashour</td>\n",
       "      <td>T</td>\n",
       "      <td>high</td>\n",
       "      <td>gitcoin and github are new</td>\n",
       "      <td>https://gitcoin.co/leshoashour</td>\n",
       "      <td>https://github.com/leshoashour</td>\n",
       "    </tr>\n",
       "  </tbody>\n",
       "</table>\n",
       "</div>"
      ],
      "text/plain": [
       "        handle Is Sybil? (T or F)fizzy Confidence (low, so-so, high)fizzy  \\\n",
       "0      nnnggel                       F                               soso   \n",
       "1  ariel841005                       F                                low   \n",
       "2  qianggefcnb                       F                               soso   \n",
       "3  leshoashour                       F                               high   \n",
       "\n",
       "                               Notesfizzy                gitcoin_urlfizzy  \\\n",
       "0                     a few contributions      https://gitcoin.co/nnnggel   \n",
       "1  new account, no activity, no donations  https://gitcoin.co/ariel841005   \n",
       "2                    little contributions  https://gitcoin.co/qianggefcnb   \n",
       "3      though new, made a single donation  https://gitcoin.co/leshoashour   \n",
       "\n",
       "                  github_urlfizzy Is Sybil? (T or F)elbeth  \\\n",
       "0      https://github.com/nnnggel                       T    \n",
       "1  https://github.com/ariel841005                        T   \n",
       "2  https://github.com/qianggefcnb                        T   \n",
       "3  https://github.com/leshoashour                        T   \n",
       "\n",
       "  Confidence (low, so-so, high)elbeth  \\\n",
       "0                                 low   \n",
       "1                                high   \n",
       "2                                high   \n",
       "3                                high   \n",
       "\n",
       "                                         Noteselbeth  \\\n",
       "0  gitcoin fairly old with very old github accoun...   \n",
       "1  gitcoin and github are fairly new, no activity...   \n",
       "2  gitcoin  and github are fairly old,  gitcoin d...   \n",
       "3                         gitcoin and github are new   \n",
       "\n",
       "                gitcoin_urlelbeth                github_urlelbeth  \n",
       "0      https://gitcoin.co/nnnggel      https://github.com/nnnggel  \n",
       "1  https://gitcoin.co/ariel841005  https://github.com/ariel841005  \n",
       "2  https://gitcoin.co/qianggefcnb  https://github.com/qianggefcnb  \n",
       "3  https://gitcoin.co/leshoashour  https://github.com/leshoashour  "
      ]
     },
     "execution_count": 332,
     "metadata": {},
     "output_type": "execute_result"
    }
   ],
   "source": [
    "fiz_elb"
   ]
  },
  {
   "cell_type": "code",
   "execution_count": 331,
   "id": "0929c706",
   "metadata": {
    "scrolled": false
   },
   "outputs": [
    {
     "data": {
      "text/plain": [
       "(0.5, 0.0, 0.6666666666666666, 0.6666666666666666)"
      ]
     },
     "execution_count": 331,
     "metadata": {},
     "output_type": "execute_result"
    }
   ],
   "source": [
    "total_agreement(fiz_ric, \"fizzy\", \"richard\"), total_agreement(fiz_elb, \"fizzy\", \"elbeth\"), total_agreement(fiz_gold, \"fizzy\", \"gold\"), total_agreement(fiz_ml, \"fizzy\", \"ml_anon\")"
   ]
  },
  {
   "cell_type": "code",
   "execution_count": 256,
   "id": "7bee936c",
   "metadata": {},
   "outputs": [
    {
     "data": {
      "text/plain": [
       "[-0.33333333333333326, 0.0, 0.3999999999999999, -0.09090909090909083]"
      ]
     },
     "execution_count": 256,
     "metadata": {},
     "output_type": "execute_result"
    }
   ],
   "source": [
    "## Calculating the cohen kappa score.\n",
    "## You can copy and paste this code and edit it to have the tables you created for each reviewer and the names as in this cell\n",
    "## Places to edit is shown below:\n",
    "\n",
    "#                  here                       here     here                       here \n",
    "[cohen_kappa_score(fiz_ric[\"Is Sybil? (T or F)fizzy\"], fiz_ric[\"Is Sybil? (T or F)richard\"]),\n",
    " \n",
    "cohen_kappa_score(fiz_elb[\"Is Sybil? (T or F)fizzy\"], fiz_elb[\"Is Sybil? (T or F)elbeth\"]),\n",
    " \n",
    "cohen_kappa_score(fiz_gold[\"Is Sybil? (T or F)fizzy\"], fiz_gold[\"Is Sybil? (T or F)gold\"]),\n",
    " \n",
    "## This calculates the cohen kappa score of the ml_anon and the reviewer.\n",
    "cohen_kappa_score(fiz__ml[\"Is Sybil? (T or F)fizzy\"], fiz__ml[\"Is Sybil? (T or F)ml_anon\"])]"
   ]
  },
  {
   "cell_type": "code",
   "execution_count": 257,
   "id": "c943be71",
   "metadata": {},
   "outputs": [
    {
     "data": {
      "text/html": [
       "<div>\n",
       "<style scoped>\n",
       "    .dataframe tbody tr th:only-of-type {\n",
       "        vertical-align: middle;\n",
       "    }\n",
       "\n",
       "    .dataframe tbody tr th {\n",
       "        vertical-align: top;\n",
       "    }\n",
       "\n",
       "    .dataframe thead th {\n",
       "        text-align: right;\n",
       "    }\n",
       "</style>\n",
       "<table border=\"1\" class=\"dataframe\">\n",
       "  <thead>\n",
       "    <tr style=\"text-align: right;\">\n",
       "      <th></th>\n",
       "      <th>Reviewers</th>\n",
       "      <th>Correlations</th>\n",
       "    </tr>\n",
       "  </thead>\n",
       "  <tbody>\n",
       "    <tr>\n",
       "      <th>0</th>\n",
       "      <td>Richard</td>\n",
       "      <td>-0.333333</td>\n",
       "    </tr>\n",
       "    <tr>\n",
       "      <th>1</th>\n",
       "      <td>Elbeth</td>\n",
       "      <td>0.000000</td>\n",
       "    </tr>\n",
       "    <tr>\n",
       "      <th>2</th>\n",
       "      <td>Gold</td>\n",
       "      <td>0.400000</td>\n",
       "    </tr>\n",
       "    <tr>\n",
       "      <th>3</th>\n",
       "      <td>ML Anon</td>\n",
       "      <td>-0.090909</td>\n",
       "    </tr>\n",
       "  </tbody>\n",
       "</table>\n",
       "</div>"
      ],
      "text/plain": [
       "  Reviewers  Correlations\n",
       "0   Richard     -0.333333\n",
       "1    Elbeth      0.000000\n",
       "2      Gold      0.400000\n",
       "3   ML Anon     -0.090909"
      ]
     },
     "execution_count": 257,
     "metadata": {},
     "output_type": "execute_result"
    }
   ],
   "source": [
    "df = pd.DataFrame()\n",
    "df[\"Reviewers\"] = [\"Richard\", \"Elbeth\", \"Gold\", \"ML Anon\"]\n",
    "df[\"Correlations\"] = [-0.33333333333333326, 0.0, 0.3999999999999999, -0.09090909090909083]\n",
    "df"
   ]
  },
  {
   "cell_type": "code",
   "execution_count": 258,
   "id": "33857be0",
   "metadata": {},
   "outputs": [],
   "source": [
    "import plotly.express as px"
   ]
  },
  {
   "cell_type": "code",
   "execution_count": 259,
   "id": "8599ade4",
   "metadata": {},
   "outputs": [
    {
     "data": {
      "application/vnd.plotly.v1+json": {
       "config": {
        "plotlyServerURL": "https://plot.ly"
       },
       "data": [
        {
         "alignmentgroup": "True",
         "hovertemplate": "Reviewers=%{x}<br>Correlations=%{marker.color}<extra></extra>",
         "legendgroup": "",
         "marker": {
          "color": [
           -0.33333333333333326,
           0,
           0.3999999999999999,
           -0.09090909090909083
          ],
          "coloraxis": "coloraxis",
          "pattern": {
           "shape": ""
          }
         },
         "name": "",
         "offsetgroup": "",
         "orientation": "v",
         "showlegend": false,
         "textposition": "auto",
         "type": "bar",
         "x": [
          "Richard",
          "Elbeth",
          "Gold",
          "ML Anon"
         ],
         "xaxis": "x",
         "y": [
          -0.33333333333333326,
          0,
          0.3999999999999999,
          -0.09090909090909083
         ],
         "yaxis": "y"
        }
       ],
       "layout": {
        "barmode": "relative",
        "coloraxis": {
         "colorbar": {
          "title": {
           "text": "Correlations"
          }
         },
         "colorscale": [
          [
           0,
           "rgb(158,1,66)"
          ],
          [
           0.1,
           "rgb(213,62,79)"
          ],
          [
           0.2,
           "rgb(244,109,67)"
          ],
          [
           0.3,
           "rgb(253,174,97)"
          ],
          [
           0.4,
           "rgb(254,224,139)"
          ],
          [
           0.5,
           "rgb(255,255,191)"
          ],
          [
           0.6,
           "rgb(230,245,152)"
          ],
          [
           0.7,
           "rgb(171,221,164)"
          ],
          [
           0.8,
           "rgb(102,194,165)"
          ],
          [
           0.9,
           "rgb(50,136,189)"
          ],
          [
           1,
           "rgb(94,79,162)"
          ]
         ]
        },
        "legend": {
         "tracegroupgap": 0
        },
        "template": {
         "data": {
          "pie": [
           {
            "automargin": true,
            "type": "pie"
           }
          ],
          "scatter": [
           {
            "line": {
             "width": 3
            },
            "marker": {
             "size": 9
            },
            "type": "scatter"
           }
          ],
          "scatter3d": [
           {
            "line": {
             "width": 3
            },
            "marker": {
             "size": 9
            },
            "type": "scatter3d"
           }
          ],
          "scattergeo": [
           {
            "line": {
             "width": 3
            },
            "marker": {
             "size": 9
            },
            "type": "scattergeo"
           }
          ],
          "scattergl": [
           {
            "line": {
             "width": 3
            },
            "marker": {
             "size": 9
            },
            "type": "scattergl"
           }
          ],
          "scatterpolar": [
           {
            "line": {
             "width": 3
            },
            "marker": {
             "size": 9
            },
            "type": "scatterpolar"
           }
          ],
          "scatterpolargl": [
           {
            "line": {
             "width": 3
            },
            "marker": {
             "size": 9
            },
            "type": "scatterpolargl"
           }
          ],
          "scatterternary": [
           {
            "line": {
             "width": 3
            },
            "marker": {
             "size": 9
            },
            "type": "scatterternary"
           }
          ],
          "table": [
           {
            "cells": {
             "height": 30
            },
            "header": {
             "height": 36
            },
            "type": "table"
           }
          ]
         },
         "layout": {
          "font": {
           "size": 18
          },
          "xaxis": {
           "title": {
            "standoff": 15
           }
          },
          "yaxis": {
           "title": {
            "standoff": 15
           }
          }
         }
        },
        "title": {
         "text": "Cohen-kappa score of Fizzy with other reviewers"
        },
        "xaxis": {
         "anchor": "y",
         "domain": [
          0,
          1
         ],
         "title": {
          "text": "Reviewers"
         }
        },
        "yaxis": {
         "anchor": "x",
         "domain": [
          0,
          1
         ],
         "title": {
          "text": "Correlations"
         }
        }
       }
      },
      "text/html": [
       "<div>                            <div id=\"0aa6c1d2-4bb1-4454-8cd1-1cd78039ee7e\" class=\"plotly-graph-div\" style=\"height:525px; width:100%;\"></div>            <script type=\"text/javascript\">                require([\"plotly\"], function(Plotly) {                    window.PLOTLYENV=window.PLOTLYENV || {};                                    if (document.getElementById(\"0aa6c1d2-4bb1-4454-8cd1-1cd78039ee7e\")) {                    Plotly.newPlot(                        \"0aa6c1d2-4bb1-4454-8cd1-1cd78039ee7e\",                        [{\"alignmentgroup\":\"True\",\"hovertemplate\":\"Reviewers=%{x}<br>Correlations=%{marker.color}<extra></extra>\",\"legendgroup\":\"\",\"marker\":{\"color\":[-0.33333333333333326,0.0,0.3999999999999999,-0.09090909090909083],\"coloraxis\":\"coloraxis\",\"pattern\":{\"shape\":\"\"}},\"name\":\"\",\"offsetgroup\":\"\",\"orientation\":\"v\",\"showlegend\":false,\"textposition\":\"auto\",\"type\":\"bar\",\"x\":[\"Richard\",\"Elbeth\",\"Gold\",\"ML Anon\"],\"xaxis\":\"x\",\"y\":[-0.33333333333333326,0.0,0.3999999999999999,-0.09090909090909083],\"yaxis\":\"y\"}],                        {\"barmode\":\"relative\",\"coloraxis\":{\"colorbar\":{\"title\":{\"text\":\"Correlations\"}},\"colorscale\":[[0.0,\"rgb(158,1,66)\"],[0.1,\"rgb(213,62,79)\"],[0.2,\"rgb(244,109,67)\"],[0.3,\"rgb(253,174,97)\"],[0.4,\"rgb(254,224,139)\"],[0.5,\"rgb(255,255,191)\"],[0.6,\"rgb(230,245,152)\"],[0.7,\"rgb(171,221,164)\"],[0.8,\"rgb(102,194,165)\"],[0.9,\"rgb(50,136,189)\"],[1.0,\"rgb(94,79,162)\"]]},\"legend\":{\"tracegroupgap\":0},\"template\":{\"data\":{\"pie\":[{\"automargin\":true,\"type\":\"pie\"}],\"scatter\":[{\"line\":{\"width\":3},\"marker\":{\"size\":9},\"type\":\"scatter\"}],\"scatter3d\":[{\"line\":{\"width\":3},\"marker\":{\"size\":9},\"type\":\"scatter3d\"}],\"scattergeo\":[{\"line\":{\"width\":3},\"marker\":{\"size\":9},\"type\":\"scattergeo\"}],\"scattergl\":[{\"line\":{\"width\":3},\"marker\":{\"size\":9},\"type\":\"scattergl\"}],\"scatterpolar\":[{\"line\":{\"width\":3},\"marker\":{\"size\":9},\"type\":\"scatterpolar\"}],\"scatterpolargl\":[{\"line\":{\"width\":3},\"marker\":{\"size\":9},\"type\":\"scatterpolargl\"}],\"scatterternary\":[{\"line\":{\"width\":3},\"marker\":{\"size\":9},\"type\":\"scatterternary\"}],\"table\":[{\"cells\":{\"height\":30},\"header\":{\"height\":36},\"type\":\"table\"}]},\"layout\":{\"font\":{\"size\":18},\"xaxis\":{\"title\":{\"standoff\":15}},\"yaxis\":{\"title\":{\"standoff\":15}}}},\"title\":{\"text\":\"Cohen-kappa score of Fizzy with other reviewers\"},\"xaxis\":{\"anchor\":\"y\",\"domain\":[0.0,1.0],\"title\":{\"text\":\"Reviewers\"}},\"yaxis\":{\"anchor\":\"x\",\"domain\":[0.0,1.0],\"title\":{\"text\":\"Correlations\"}}},                        {\"responsive\": true}                    ).then(function(){\n",
       "                            \n",
       "var gd = document.getElementById('0aa6c1d2-4bb1-4454-8cd1-1cd78039ee7e');\n",
       "var x = new MutationObserver(function (mutations, observer) {{\n",
       "        var display = window.getComputedStyle(gd).display;\n",
       "        if (!display || display === 'none') {{\n",
       "            console.log([gd, 'removed!']);\n",
       "            Plotly.purge(gd);\n",
       "            observer.disconnect();\n",
       "        }}\n",
       "}});\n",
       "\n",
       "// Listen for the removal of the full notebook cells\n",
       "var notebookContainer = gd.closest('#notebook-container');\n",
       "if (notebookContainer) {{\n",
       "    x.observe(notebookContainer, {childList: true});\n",
       "}}\n",
       "\n",
       "// Listen for the clearing of the current output cell\n",
       "var outputEl = gd.closest('.output');\n",
       "if (outputEl) {{\n",
       "    x.observe(outputEl, {childList: true});\n",
       "}}\n",
       "\n",
       "                        })                };                });            </script>        </div>"
      ]
     },
     "metadata": {},
     "output_type": "display_data"
    }
   ],
   "source": [
    "px.bar(data_frame=df, \n",
    "      x= \"Reviewers\",\n",
    "      y=\"Correlations\",\n",
    "      color=\"Correlations\",\n",
    "       template=\"presentation\",\n",
    "      color_continuous_scale=px.colors.diverging.Spectral,\n",
    "       title=\"Cohen-kappa score of Fizzy with other reviewers\",\n",
    "      #width=500\n",
    "      )"
   ]
  },
  {
   "cell_type": "markdown",
   "id": "fca47f35",
   "metadata": {},
   "source": [
    "## Elbeth"
   ]
  },
  {
   "cell_type": "code",
   "execution_count": 95,
   "id": "7bc89173",
   "metadata": {
    "collapsed": true
   },
   "outputs": [
    {
     "data": {
      "text/plain": [
       "[['adebola', 0],\n",
       " ['am', 0],\n",
       " ['ann', 0],\n",
       " ['anuj', 1],\n",
       " ['elbeth', 60],\n",
       " ['bfa', 3],\n",
       " ['gold', 1],\n",
       " ['bob', 0],\n",
       " ['lkh', 2],\n",
       " ['waka', 2],\n",
       " ['trice', 5],\n",
       " ['proof', 2],\n",
       " ['emmanuel', 0],\n",
       " ['fizzy', 4],\n",
       " ['dog', 1],\n",
       " ['flob', 2],\n",
       " ['emma_j', 1],\n",
       " ['greg', 1],\n",
       " ['grey', 1],\n",
       " ['stel', 0],\n",
       " ['jshua', 1],\n",
       " ['kish', 0],\n",
       " ['kylin', 2],\n",
       " ['z4yr', 3],\n",
       " ['hound', 2],\n",
       " ['mount', 4],\n",
       " ['nadalie', 0],\n",
       " ['richard', 3],\n",
       " ['ogunjo', 0],\n",
       " ['am2', 1],\n",
       " ['robot', 3],\n",
       " ['ann2', 2],\n",
       " ['steeges', 0],\n",
       " ['vik', 1],\n",
       " ['socal', 2],\n",
       " ['wolfman', 0],\n",
       " ['zer', 1],\n",
       " ['elbeth2', 2],\n",
       " ['bob2', 0],\n",
       " ['lkh2', 1],\n",
       " ['fizzy2', 0],\n",
       " ['trice2', 0],\n",
       " ['flob2', 0],\n",
       " ['greg2', 0],\n",
       " ['grey2', 0],\n",
       " ['stele2', 1],\n",
       " ['hound2', 2],\n",
       " ['richard2', 1],\n",
       " ['ogunjo2', 0],\n",
       " ['vik2', 0],\n",
       " ['wolfman2', 0]]"
      ]
     },
     "execution_count": 95,
     "metadata": {},
     "output_type": "execute_result"
    }
   ],
   "source": [
    "find_common_handles(elbeth)"
   ]
  },
  {
   "cell_type": "code",
   "execution_count": 343,
   "id": "e86c2474",
   "metadata": {},
   "outputs": [],
   "source": [
    "elb_rich = create_table(elbeth, richard)\n",
    "elb_mount = create_table(elbeth, mount)\n",
    "elb_z4yr = create_table(elbeth, z4yr)\n",
    "elb_trice = create_table(elbeth, trice)\n",
    "elb_fiz = create_table(elbeth, fizzy)\n",
    "elb_ml = create_table(elbeth, ml_anon)"
   ]
  },
  {
   "cell_type": "code",
   "execution_count": 345,
   "id": "7ef4fed0",
   "metadata": {},
   "outputs": [
    {
     "data": {
      "text/plain": [
       "[0.0, 0.3333333333333333, 0.75, 0.6666666666666666, 0.6, 0.46511627906976744]"
      ]
     },
     "execution_count": 345,
     "metadata": {},
     "output_type": "execute_result"
    }
   ],
   "source": [
    "[total_agreement(elb_fiz, \"elbeth\", \"fizzy\"), total_agreement(elb_rich, \"elbeth\", \"richard\"),\n",
    " total_agreement(elb_mount, \"elbeth\", \"mount\"), total_agreement(elb_z4yr,\"elbeth\", \"z4yr\"),\n",
    " total_agreement(elb_trice,\"elbeth\", \"trice\"), total_agreement(elb_ml, \"elbeth\", \"ml_anon\")]"
   ]
  },
  {
   "cell_type": "code",
   "execution_count": 342,
   "id": "1a3f5fc0",
   "metadata": {},
   "outputs": [
    {
     "data": {
      "text/html": [
       "<div>\n",
       "<style scoped>\n",
       "    .dataframe tbody tr th:only-of-type {\n",
       "        vertical-align: middle;\n",
       "    }\n",
       "\n",
       "    .dataframe tbody tr th {\n",
       "        vertical-align: top;\n",
       "    }\n",
       "\n",
       "    .dataframe thead th {\n",
       "        text-align: right;\n",
       "    }\n",
       "</style>\n",
       "<table border=\"1\" class=\"dataframe\">\n",
       "  <thead>\n",
       "    <tr style=\"text-align: right;\">\n",
       "      <th></th>\n",
       "      <th>handle</th>\n",
       "      <th>Is Sybil? (T or F)elbeth</th>\n",
       "      <th>Confidence (low, so-so, high)elbeth</th>\n",
       "      <th>Noteselbeth</th>\n",
       "      <th>gitcoin_urlelbeth</th>\n",
       "      <th>github_urlelbeth</th>\n",
       "      <th>Is Sybil? (T or F)robot</th>\n",
       "      <th>Confidence (low, so-so, high)robot</th>\n",
       "      <th>Notesrobot</th>\n",
       "      <th>gitcoin_urlrobot</th>\n",
       "      <th>github_urlrobot</th>\n",
       "    </tr>\n",
       "  </thead>\n",
       "  <tbody>\n",
       "  </tbody>\n",
       "</table>\n",
       "</div>"
      ],
      "text/plain": [
       "Empty DataFrame\n",
       "Columns: [handle, Is Sybil? (T or F)elbeth, Confidence (low, so-so, high)elbeth, Noteselbeth, gitcoin_urlelbeth, github_urlelbeth, Is Sybil? (T or F)robot, Confidence (low, so-so, high)robot, Notesrobot, gitcoin_urlrobot, github_urlrobot]\n",
       "Index: []"
      ]
     },
     "execution_count": 342,
     "metadata": {},
     "output_type": "execute_result"
    }
   ],
   "source": [
    "elb_rob"
   ]
  },
  {
   "cell_type": "code",
   "execution_count": 102,
   "id": "524422ed",
   "metadata": {},
   "outputs": [
    {
     "data": {
      "text/plain": [
       "[0.0, 0.5, 0.3999999999999999, -0.25, 0.0]"
      ]
     },
     "execution_count": 102,
     "metadata": {},
     "output_type": "execute_result"
    }
   ],
   "source": [
    "[cohen_kappa_score(elb_rich[\"Is Sybil? (T or F)elbeth\"], elb_rich[\"Is Sybil? (T or F)richard\"]),\n",
    " \n",
    "cohen_kappa_score(elb_mount[\"Is Sybil? (T or F)elbeth\"], elb_mount[\"Is Sybil? (T or F)mount\"]),\n",
    " \n",
    "cohen_kappa_score(elb_z4yr[\"Is Sybil? (T or F)elbeth\"], elb_z4yr[\"Is Sybil? (T or F)z4yr\"]),\n",
    " \n",
    "cohen_kappa_score(elb_trice[\"Is Sybil? (T or F)elbeth\"], elb_trice[\"Is Sybil? (T or F)trice\"]),\n",
    " \n",
    "cohen_kappa_score(elb_fiz[\"Is Sybil? (T or F)elbeth\"], elb_fiz[\"Is Sybil? (T or F)fizzy\"]),]"
   ]
  },
  {
   "cell_type": "code",
   "execution_count": 103,
   "id": "baa875ef",
   "metadata": {},
   "outputs": [
    {
     "data": {
      "text/html": [
       "<div>\n",
       "<style scoped>\n",
       "    .dataframe tbody tr th:only-of-type {\n",
       "        vertical-align: middle;\n",
       "    }\n",
       "\n",
       "    .dataframe tbody tr th {\n",
       "        vertical-align: top;\n",
       "    }\n",
       "\n",
       "    .dataframe thead th {\n",
       "        text-align: right;\n",
       "    }\n",
       "</style>\n",
       "<table border=\"1\" class=\"dataframe\">\n",
       "  <thead>\n",
       "    <tr style=\"text-align: right;\">\n",
       "      <th></th>\n",
       "      <th>Reviewers</th>\n",
       "      <th>Correlations</th>\n",
       "    </tr>\n",
       "  </thead>\n",
       "  <tbody>\n",
       "    <tr>\n",
       "      <th>0</th>\n",
       "      <td>Richard</td>\n",
       "      <td>0.00</td>\n",
       "    </tr>\n",
       "    <tr>\n",
       "      <th>1</th>\n",
       "      <td>Mount</td>\n",
       "      <td>0.50</td>\n",
       "    </tr>\n",
       "    <tr>\n",
       "      <th>2</th>\n",
       "      <td>Z4yr</td>\n",
       "      <td>0.40</td>\n",
       "    </tr>\n",
       "    <tr>\n",
       "      <th>3</th>\n",
       "      <td>Trice</td>\n",
       "      <td>-0.25</td>\n",
       "    </tr>\n",
       "    <tr>\n",
       "      <th>4</th>\n",
       "      <td>Fizzy</td>\n",
       "      <td>0.00</td>\n",
       "    </tr>\n",
       "  </tbody>\n",
       "</table>\n",
       "</div>"
      ],
      "text/plain": [
       "  Reviewers  Correlations\n",
       "0   Richard          0.00\n",
       "1     Mount          0.50\n",
       "2      Z4yr          0.40\n",
       "3     Trice         -0.25\n",
       "4     Fizzy          0.00"
      ]
     },
     "execution_count": 103,
     "metadata": {},
     "output_type": "execute_result"
    }
   ],
   "source": [
    "df = pd.DataFrame()\n",
    "df[\"Reviewers\"] = [\"Richard\", \"Mount\", \"Z4yr\", \"Trice\", \"Fizzy\"]\n",
    "df[\"Correlations\"] = [0.0, 0.5, 0.3999999999999999, -0.25, 0.0]\n",
    "df"
   ]
  },
  {
   "cell_type": "code",
   "execution_count": 104,
   "id": "421a0468",
   "metadata": {
    "collapsed": true
   },
   "outputs": [
    {
     "data": {
      "application/vnd.plotly.v1+json": {
       "config": {
        "plotlyServerURL": "https://plot.ly"
       },
       "data": [
        {
         "alignmentgroup": "True",
         "hovertemplate": "Reviewers=%{x}<br>Correlations=%{marker.color}<extra></extra>",
         "legendgroup": "",
         "marker": {
          "color": [
           0,
           0.5,
           0.3999999999999999,
           -0.25,
           0
          ],
          "coloraxis": "coloraxis",
          "pattern": {
           "shape": ""
          }
         },
         "name": "",
         "offsetgroup": "",
         "orientation": "v",
         "showlegend": false,
         "textposition": "auto",
         "type": "bar",
         "x": [
          "Richard",
          "Mount",
          "Z4yr",
          "Trice",
          "Fizzy"
         ],
         "xaxis": "x",
         "y": [
          0,
          0.5,
          0.3999999999999999,
          -0.25,
          0
         ],
         "yaxis": "y"
        }
       ],
       "layout": {
        "barmode": "relative",
        "coloraxis": {
         "colorbar": {
          "title": {
           "text": "Correlations"
          }
         },
         "colorscale": [
          [
           0,
           "rgb(158,1,66)"
          ],
          [
           0.1,
           "rgb(213,62,79)"
          ],
          [
           0.2,
           "rgb(244,109,67)"
          ],
          [
           0.3,
           "rgb(253,174,97)"
          ],
          [
           0.4,
           "rgb(254,224,139)"
          ],
          [
           0.5,
           "rgb(255,255,191)"
          ],
          [
           0.6,
           "rgb(230,245,152)"
          ],
          [
           0.7,
           "rgb(171,221,164)"
          ],
          [
           0.8,
           "rgb(102,194,165)"
          ],
          [
           0.9,
           "rgb(50,136,189)"
          ],
          [
           1,
           "rgb(94,79,162)"
          ]
         ]
        },
        "legend": {
         "tracegroupgap": 0
        },
        "template": {
         "data": {
          "pie": [
           {
            "automargin": true,
            "type": "pie"
           }
          ],
          "scatter": [
           {
            "line": {
             "width": 3
            },
            "marker": {
             "size": 9
            },
            "type": "scatter"
           }
          ],
          "scatter3d": [
           {
            "line": {
             "width": 3
            },
            "marker": {
             "size": 9
            },
            "type": "scatter3d"
           }
          ],
          "scattergeo": [
           {
            "line": {
             "width": 3
            },
            "marker": {
             "size": 9
            },
            "type": "scattergeo"
           }
          ],
          "scattergl": [
           {
            "line": {
             "width": 3
            },
            "marker": {
             "size": 9
            },
            "type": "scattergl"
           }
          ],
          "scatterpolar": [
           {
            "line": {
             "width": 3
            },
            "marker": {
             "size": 9
            },
            "type": "scatterpolar"
           }
          ],
          "scatterpolargl": [
           {
            "line": {
             "width": 3
            },
            "marker": {
             "size": 9
            },
            "type": "scatterpolargl"
           }
          ],
          "scatterternary": [
           {
            "line": {
             "width": 3
            },
            "marker": {
             "size": 9
            },
            "type": "scatterternary"
           }
          ],
          "table": [
           {
            "cells": {
             "height": 30
            },
            "header": {
             "height": 36
            },
            "type": "table"
           }
          ]
         },
         "layout": {
          "font": {
           "size": 18
          },
          "xaxis": {
           "title": {
            "standoff": 15
           }
          },
          "yaxis": {
           "title": {
            "standoff": 15
           }
          }
         }
        },
        "title": {
         "text": "Cohen-kappa score of Elbeth with other reviewers"
        },
        "xaxis": {
         "anchor": "y",
         "domain": [
          0,
          1
         ],
         "title": {
          "text": "Reviewers"
         }
        },
        "yaxis": {
         "anchor": "x",
         "domain": [
          0,
          1
         ],
         "title": {
          "text": "Correlations"
         }
        }
       }
      },
      "text/html": [
       "<div>                            <div id=\"4d96cc4c-7066-4eee-a7bc-2c1d8c273f95\" class=\"plotly-graph-div\" style=\"height:525px; width:100%;\"></div>            <script type=\"text/javascript\">                require([\"plotly\"], function(Plotly) {                    window.PLOTLYENV=window.PLOTLYENV || {};                                    if (document.getElementById(\"4d96cc4c-7066-4eee-a7bc-2c1d8c273f95\")) {                    Plotly.newPlot(                        \"4d96cc4c-7066-4eee-a7bc-2c1d8c273f95\",                        [{\"alignmentgroup\":\"True\",\"hovertemplate\":\"Reviewers=%{x}<br>Correlations=%{marker.color}<extra></extra>\",\"legendgroup\":\"\",\"marker\":{\"color\":[0.0,0.5,0.3999999999999999,-0.25,0.0],\"coloraxis\":\"coloraxis\",\"pattern\":{\"shape\":\"\"}},\"name\":\"\",\"offsetgroup\":\"\",\"orientation\":\"v\",\"showlegend\":false,\"textposition\":\"auto\",\"type\":\"bar\",\"x\":[\"Richard\",\"Mount\",\"Z4yr\",\"Trice\",\"Fizzy\"],\"xaxis\":\"x\",\"y\":[0.0,0.5,0.3999999999999999,-0.25,0.0],\"yaxis\":\"y\"}],                        {\"barmode\":\"relative\",\"coloraxis\":{\"colorbar\":{\"title\":{\"text\":\"Correlations\"}},\"colorscale\":[[0.0,\"rgb(158,1,66)\"],[0.1,\"rgb(213,62,79)\"],[0.2,\"rgb(244,109,67)\"],[0.3,\"rgb(253,174,97)\"],[0.4,\"rgb(254,224,139)\"],[0.5,\"rgb(255,255,191)\"],[0.6,\"rgb(230,245,152)\"],[0.7,\"rgb(171,221,164)\"],[0.8,\"rgb(102,194,165)\"],[0.9,\"rgb(50,136,189)\"],[1.0,\"rgb(94,79,162)\"]]},\"legend\":{\"tracegroupgap\":0},\"template\":{\"data\":{\"pie\":[{\"automargin\":true,\"type\":\"pie\"}],\"scatter\":[{\"line\":{\"width\":3},\"marker\":{\"size\":9},\"type\":\"scatter\"}],\"scatter3d\":[{\"line\":{\"width\":3},\"marker\":{\"size\":9},\"type\":\"scatter3d\"}],\"scattergeo\":[{\"line\":{\"width\":3},\"marker\":{\"size\":9},\"type\":\"scattergeo\"}],\"scattergl\":[{\"line\":{\"width\":3},\"marker\":{\"size\":9},\"type\":\"scattergl\"}],\"scatterpolar\":[{\"line\":{\"width\":3},\"marker\":{\"size\":9},\"type\":\"scatterpolar\"}],\"scatterpolargl\":[{\"line\":{\"width\":3},\"marker\":{\"size\":9},\"type\":\"scatterpolargl\"}],\"scatterternary\":[{\"line\":{\"width\":3},\"marker\":{\"size\":9},\"type\":\"scatterternary\"}],\"table\":[{\"cells\":{\"height\":30},\"header\":{\"height\":36},\"type\":\"table\"}]},\"layout\":{\"font\":{\"size\":18},\"xaxis\":{\"title\":{\"standoff\":15}},\"yaxis\":{\"title\":{\"standoff\":15}}}},\"title\":{\"text\":\"Cohen-kappa score of Elbeth with other reviewers\"},\"xaxis\":{\"anchor\":\"y\",\"domain\":[0.0,1.0],\"title\":{\"text\":\"Reviewers\"}},\"yaxis\":{\"anchor\":\"x\",\"domain\":[0.0,1.0],\"title\":{\"text\":\"Correlations\"}}},                        {\"responsive\": true}                    ).then(function(){\n",
       "                            \n",
       "var gd = document.getElementById('4d96cc4c-7066-4eee-a7bc-2c1d8c273f95');\n",
       "var x = new MutationObserver(function (mutations, observer) {{\n",
       "        var display = window.getComputedStyle(gd).display;\n",
       "        if (!display || display === 'none') {{\n",
       "            console.log([gd, 'removed!']);\n",
       "            Plotly.purge(gd);\n",
       "            observer.disconnect();\n",
       "        }}\n",
       "}});\n",
       "\n",
       "// Listen for the removal of the full notebook cells\n",
       "var notebookContainer = gd.closest('#notebook-container');\n",
       "if (notebookContainer) {{\n",
       "    x.observe(notebookContainer, {childList: true});\n",
       "}}\n",
       "\n",
       "// Listen for the clearing of the current output cell\n",
       "var outputEl = gd.closest('.output');\n",
       "if (outputEl) {{\n",
       "    x.observe(outputEl, {childList: true});\n",
       "}}\n",
       "\n",
       "                        })                };                });            </script>        </div>"
      ]
     },
     "metadata": {},
     "output_type": "display_data"
    }
   ],
   "source": [
    "px.bar(data_frame=df, \n",
    "      x= \"Reviewers\",\n",
    "      y=\"Correlations\",\n",
    "      color=\"Correlations\",\n",
    "       template=\"presentation\",\n",
    "      color_continuous_scale=px.colors.diverging.Spectral,\n",
    "       title=\"Cohen-kappa score of Elbeth with other reviewers\",\n",
    "      #width=500\n",
    "      )"
   ]
  },
  {
   "cell_type": "markdown",
   "id": "62ca7916",
   "metadata": {},
   "source": [
    "## BFA"
   ]
  },
  {
   "cell_type": "code",
   "execution_count": 105,
   "id": "36b63e19",
   "metadata": {
    "collapsed": true
   },
   "outputs": [
    {
     "data": {
      "text/plain": [
       "[['adebola', 0],\n",
       " ['am', 0],\n",
       " ['ann', 0],\n",
       " ['anuj', 1],\n",
       " ['elbeth', 3],\n",
       " ['bfa', 60],\n",
       " ['gold', 3],\n",
       " ['bob', 1],\n",
       " ['lkh', 1],\n",
       " ['waka', 2],\n",
       " ['trice', 1],\n",
       " ['proof', 1],\n",
       " ['emmanuel', 1],\n",
       " ['fizzy', 2],\n",
       " ['dog', 5],\n",
       " ['flob', 2],\n",
       " ['emma_j', 1],\n",
       " ['greg', 0],\n",
       " ['grey', 1],\n",
       " ['stel', 0],\n",
       " ['jshua', 2],\n",
       " ['kish', 3],\n",
       " ['kylin', 0],\n",
       " ['z4yr', 0],\n",
       " ['hound', 0],\n",
       " ['mount', 2],\n",
       " ['nadalie', 1],\n",
       " ['richard', 2],\n",
       " ['ogunjo', 0],\n",
       " ['am2', 0],\n",
       " ['robot', 0],\n",
       " ['ann2', 1],\n",
       " ['steeges', 0],\n",
       " ['vik', 2],\n",
       " ['socal', 1],\n",
       " ['wolfman', 1],\n",
       " ['zer', 0],\n",
       " ['elbeth2', 2],\n",
       " ['bob2', 1],\n",
       " ['lkh2', 0],\n",
       " ['fizzy2', 3],\n",
       " ['trice2', 1],\n",
       " ['flob2', 0],\n",
       " ['greg2', 0],\n",
       " ['grey2', 1],\n",
       " ['stele2', 0],\n",
       " ['hound2', 1],\n",
       " ['richard2', 0],\n",
       " ['ogunjo2', 2],\n",
       " ['vik2', 0],\n",
       " ['wolfman2', 1]]"
      ]
     },
     "execution_count": 105,
     "metadata": {},
     "output_type": "execute_result"
    }
   ],
   "source": [
    "find_common_handles(bfa)"
   ]
  },
  {
   "cell_type": "code",
   "execution_count": 346,
   "id": "33bfaf09",
   "metadata": {},
   "outputs": [],
   "source": [
    "bfa_elbeth = create_table(bfa, elbeth)\n",
    "bfa_gold = create_table(bfa, gold)\n",
    "bfa_dog = create_table(bfa, dog)\n",
    "bfa_kish = create_table(bfa, kish)\n",
    "bfa_fizzy2 = create_table(bfa, fizzy2)\n",
    "bfa_ml = create_table(bfa, ml_anon)"
   ]
  },
  {
   "cell_type": "code",
   "execution_count": 348,
   "id": "a6521af2",
   "metadata": {},
   "outputs": [
    {
     "data": {
      "text/html": [
       "<div>\n",
       "<style scoped>\n",
       "    .dataframe tbody tr th:only-of-type {\n",
       "        vertical-align: middle;\n",
       "    }\n",
       "\n",
       "    .dataframe tbody tr th {\n",
       "        vertical-align: top;\n",
       "    }\n",
       "\n",
       "    .dataframe thead th {\n",
       "        text-align: right;\n",
       "    }\n",
       "</style>\n",
       "<table border=\"1\" class=\"dataframe\">\n",
       "  <thead>\n",
       "    <tr style=\"text-align: right;\">\n",
       "      <th></th>\n",
       "      <th>handle</th>\n",
       "      <th>Is Sybil? (T or F)bfa</th>\n",
       "      <th>Confidence (low, so-so, high)bfa</th>\n",
       "      <th>Notesbfa</th>\n",
       "      <th>gitcoin_urlbfa</th>\n",
       "      <th>github_urlbfa</th>\n",
       "      <th>Is Sybil? (T or F)fizzy2</th>\n",
       "      <th>Confidence (low, so-so, high)fizzy2</th>\n",
       "      <th>Notesfizzy2</th>\n",
       "      <th>gitcoin_urlfizzy2</th>\n",
       "      <th>github_urlfizzy2</th>\n",
       "    </tr>\n",
       "  </thead>\n",
       "  <tbody>\n",
       "  </tbody>\n",
       "</table>\n",
       "</div>"
      ],
      "text/plain": [
       "Empty DataFrame\n",
       "Columns: [handle, Is Sybil? (T or F)bfa, Confidence (low, so-so, high)bfa, Notesbfa, gitcoin_urlbfa, github_urlbfa, Is Sybil? (T or F)fizzy2, Confidence (low, so-so, high)fizzy2, Notesfizzy2, gitcoin_urlfizzy2, github_urlfizzy2]\n",
       "Index: []"
      ]
     },
     "execution_count": 348,
     "metadata": {},
     "output_type": "execute_result"
    }
   ],
   "source": [
    "bfa_fizzy2"
   ]
  },
  {
   "cell_type": "code",
   "execution_count": 349,
   "id": "eb04e800",
   "metadata": {},
   "outputs": [
    {
     "data": {
      "text/plain": [
       "[0.6666666666666666, 1.0, 0.8, 0.6666666666666666, 0.5128205128205128]"
      ]
     },
     "execution_count": 349,
     "metadata": {},
     "output_type": "execute_result"
    }
   ],
   "source": [
    "[total_agreement(bfa_elbeth, \"bfa\", \"elbeth\"), total_agreement(bfa_gold, \"bfa\", \"gold\"),\n",
    " total_agreement(bfa_dog, \"bfa\", \"dog\"), total_agreement(bfa_kish,\"bfa\", \"kish\"),\n",
    " total_agreement(bfa_ml, \"bfa\", \"ml_anon\")]"
   ]
  },
  {
   "cell_type": "code",
   "execution_count": 111,
   "id": "839011ea",
   "metadata": {},
   "outputs": [
    {
     "data": {
      "text/plain": [
       "[0.3999999999999999, 1.0, 0.5454545454545454, 0.0]"
      ]
     },
     "execution_count": 111,
     "metadata": {},
     "output_type": "execute_result"
    }
   ],
   "source": [
    "[cohen_kappa_score(bfa_elbeth[\"Is Sybil? (T or F)bfa\"], bfa_elbeth[\"Is Sybil? (T or F)elbeth\"]),\n",
    " \n",
    "cohen_kappa_score(bfa_gold[\"Is Sybil? (T or F)bfa\"], bfa_gold[\"Is Sybil? (T or F)gold\"]),\n",
    " \n",
    "cohen_kappa_score(bfa_dog[\"Is Sybil? (T or F)bfa\"], bfa_dog[\"Is Sybil? (T or F)dog\"]),\n",
    " \n",
    "cohen_kappa_score(bfa_kish[\"Is Sybil? (T or F)bfa\"], bfa_kish[\"Is Sybil? (T or F)kish\"])]"
   ]
  },
  {
   "cell_type": "code",
   "execution_count": 112,
   "id": "8c3f6079",
   "metadata": {},
   "outputs": [
    {
     "data": {
      "text/html": [
       "<div>\n",
       "<style scoped>\n",
       "    .dataframe tbody tr th:only-of-type {\n",
       "        vertical-align: middle;\n",
       "    }\n",
       "\n",
       "    .dataframe tbody tr th {\n",
       "        vertical-align: top;\n",
       "    }\n",
       "\n",
       "    .dataframe thead th {\n",
       "        text-align: right;\n",
       "    }\n",
       "</style>\n",
       "<table border=\"1\" class=\"dataframe\">\n",
       "  <thead>\n",
       "    <tr style=\"text-align: right;\">\n",
       "      <th></th>\n",
       "      <th>Reviewers</th>\n",
       "      <th>Correlations</th>\n",
       "    </tr>\n",
       "  </thead>\n",
       "  <tbody>\n",
       "    <tr>\n",
       "      <th>0</th>\n",
       "      <td>Elbeth</td>\n",
       "      <td>0.400000</td>\n",
       "    </tr>\n",
       "    <tr>\n",
       "      <th>1</th>\n",
       "      <td>Gold</td>\n",
       "      <td>1.000000</td>\n",
       "    </tr>\n",
       "    <tr>\n",
       "      <th>2</th>\n",
       "      <td>Dogg</td>\n",
       "      <td>0.545455</td>\n",
       "    </tr>\n",
       "    <tr>\n",
       "      <th>3</th>\n",
       "      <td>Kish</td>\n",
       "      <td>0.000000</td>\n",
       "    </tr>\n",
       "  </tbody>\n",
       "</table>\n",
       "</div>"
      ],
      "text/plain": [
       "  Reviewers  Correlations\n",
       "0    Elbeth      0.400000\n",
       "1      Gold      1.000000\n",
       "2      Dogg      0.545455\n",
       "3      Kish      0.000000"
      ]
     },
     "execution_count": 112,
     "metadata": {},
     "output_type": "execute_result"
    }
   ],
   "source": [
    "df = pd.DataFrame()\n",
    "df[\"Reviewers\"] = [\"Elbeth\", \"Gold\", \"Dogg\", \"Kish\"]\n",
    "df[\"Correlations\"] = [0.3999999999999999, 1.0, 0.5454545454545454, 0.0]\n",
    "df"
   ]
  },
  {
   "cell_type": "code",
   "execution_count": 113,
   "id": "13935765",
   "metadata": {},
   "outputs": [
    {
     "data": {
      "application/vnd.plotly.v1+json": {
       "config": {
        "plotlyServerURL": "https://plot.ly"
       },
       "data": [
        {
         "alignmentgroup": "True",
         "hovertemplate": "Reviewers=%{x}<br>Correlations=%{marker.color}<extra></extra>",
         "legendgroup": "",
         "marker": {
          "color": [
           0.3999999999999999,
           1,
           0.5454545454545454,
           0
          ],
          "coloraxis": "coloraxis",
          "pattern": {
           "shape": ""
          }
         },
         "name": "",
         "offsetgroup": "",
         "orientation": "v",
         "showlegend": false,
         "textposition": "auto",
         "type": "bar",
         "x": [
          "Elbeth",
          "Gold",
          "Dogg",
          "Kish"
         ],
         "xaxis": "x",
         "y": [
          0.3999999999999999,
          1,
          0.5454545454545454,
          0
         ],
         "yaxis": "y"
        }
       ],
       "layout": {
        "barmode": "relative",
        "coloraxis": {
         "colorbar": {
          "title": {
           "text": "Correlations"
          }
         },
         "colorscale": [
          [
           0,
           "rgb(158,1,66)"
          ],
          [
           0.1,
           "rgb(213,62,79)"
          ],
          [
           0.2,
           "rgb(244,109,67)"
          ],
          [
           0.3,
           "rgb(253,174,97)"
          ],
          [
           0.4,
           "rgb(254,224,139)"
          ],
          [
           0.5,
           "rgb(255,255,191)"
          ],
          [
           0.6,
           "rgb(230,245,152)"
          ],
          [
           0.7,
           "rgb(171,221,164)"
          ],
          [
           0.8,
           "rgb(102,194,165)"
          ],
          [
           0.9,
           "rgb(50,136,189)"
          ],
          [
           1,
           "rgb(94,79,162)"
          ]
         ]
        },
        "legend": {
         "tracegroupgap": 0
        },
        "template": {
         "data": {
          "pie": [
           {
            "automargin": true,
            "type": "pie"
           }
          ],
          "scatter": [
           {
            "line": {
             "width": 3
            },
            "marker": {
             "size": 9
            },
            "type": "scatter"
           }
          ],
          "scatter3d": [
           {
            "line": {
             "width": 3
            },
            "marker": {
             "size": 9
            },
            "type": "scatter3d"
           }
          ],
          "scattergeo": [
           {
            "line": {
             "width": 3
            },
            "marker": {
             "size": 9
            },
            "type": "scattergeo"
           }
          ],
          "scattergl": [
           {
            "line": {
             "width": 3
            },
            "marker": {
             "size": 9
            },
            "type": "scattergl"
           }
          ],
          "scatterpolar": [
           {
            "line": {
             "width": 3
            },
            "marker": {
             "size": 9
            },
            "type": "scatterpolar"
           }
          ],
          "scatterpolargl": [
           {
            "line": {
             "width": 3
            },
            "marker": {
             "size": 9
            },
            "type": "scatterpolargl"
           }
          ],
          "scatterternary": [
           {
            "line": {
             "width": 3
            },
            "marker": {
             "size": 9
            },
            "type": "scatterternary"
           }
          ],
          "table": [
           {
            "cells": {
             "height": 30
            },
            "header": {
             "height": 36
            },
            "type": "table"
           }
          ]
         },
         "layout": {
          "font": {
           "size": 18
          },
          "xaxis": {
           "title": {
            "standoff": 15
           }
          },
          "yaxis": {
           "title": {
            "standoff": 15
           }
          }
         }
        },
        "title": {
         "text": "Cohen-kappa score of BFA with other reviewers"
        },
        "xaxis": {
         "anchor": "y",
         "domain": [
          0,
          1
         ],
         "title": {
          "text": "Reviewers"
         }
        },
        "yaxis": {
         "anchor": "x",
         "domain": [
          0,
          1
         ],
         "title": {
          "text": "Correlations"
         }
        }
       }
      },
      "text/html": [
       "<div>                            <div id=\"65d7619e-f1b8-4fe1-a0d1-0e7a351f163c\" class=\"plotly-graph-div\" style=\"height:525px; width:100%;\"></div>            <script type=\"text/javascript\">                require([\"plotly\"], function(Plotly) {                    window.PLOTLYENV=window.PLOTLYENV || {};                                    if (document.getElementById(\"65d7619e-f1b8-4fe1-a0d1-0e7a351f163c\")) {                    Plotly.newPlot(                        \"65d7619e-f1b8-4fe1-a0d1-0e7a351f163c\",                        [{\"alignmentgroup\":\"True\",\"hovertemplate\":\"Reviewers=%{x}<br>Correlations=%{marker.color}<extra></extra>\",\"legendgroup\":\"\",\"marker\":{\"color\":[0.3999999999999999,1.0,0.5454545454545454,0.0],\"coloraxis\":\"coloraxis\",\"pattern\":{\"shape\":\"\"}},\"name\":\"\",\"offsetgroup\":\"\",\"orientation\":\"v\",\"showlegend\":false,\"textposition\":\"auto\",\"type\":\"bar\",\"x\":[\"Elbeth\",\"Gold\",\"Dogg\",\"Kish\"],\"xaxis\":\"x\",\"y\":[0.3999999999999999,1.0,0.5454545454545454,0.0],\"yaxis\":\"y\"}],                        {\"barmode\":\"relative\",\"coloraxis\":{\"colorbar\":{\"title\":{\"text\":\"Correlations\"}},\"colorscale\":[[0.0,\"rgb(158,1,66)\"],[0.1,\"rgb(213,62,79)\"],[0.2,\"rgb(244,109,67)\"],[0.3,\"rgb(253,174,97)\"],[0.4,\"rgb(254,224,139)\"],[0.5,\"rgb(255,255,191)\"],[0.6,\"rgb(230,245,152)\"],[0.7,\"rgb(171,221,164)\"],[0.8,\"rgb(102,194,165)\"],[0.9,\"rgb(50,136,189)\"],[1.0,\"rgb(94,79,162)\"]]},\"legend\":{\"tracegroupgap\":0},\"template\":{\"data\":{\"pie\":[{\"automargin\":true,\"type\":\"pie\"}],\"scatter\":[{\"line\":{\"width\":3},\"marker\":{\"size\":9},\"type\":\"scatter\"}],\"scatter3d\":[{\"line\":{\"width\":3},\"marker\":{\"size\":9},\"type\":\"scatter3d\"}],\"scattergeo\":[{\"line\":{\"width\":3},\"marker\":{\"size\":9},\"type\":\"scattergeo\"}],\"scattergl\":[{\"line\":{\"width\":3},\"marker\":{\"size\":9},\"type\":\"scattergl\"}],\"scatterpolar\":[{\"line\":{\"width\":3},\"marker\":{\"size\":9},\"type\":\"scatterpolar\"}],\"scatterpolargl\":[{\"line\":{\"width\":3},\"marker\":{\"size\":9},\"type\":\"scatterpolargl\"}],\"scatterternary\":[{\"line\":{\"width\":3},\"marker\":{\"size\":9},\"type\":\"scatterternary\"}],\"table\":[{\"cells\":{\"height\":30},\"header\":{\"height\":36},\"type\":\"table\"}]},\"layout\":{\"font\":{\"size\":18},\"xaxis\":{\"title\":{\"standoff\":15}},\"yaxis\":{\"title\":{\"standoff\":15}}}},\"title\":{\"text\":\"Cohen-kappa score of BFA with other reviewers\"},\"xaxis\":{\"anchor\":\"y\",\"domain\":[0.0,1.0],\"title\":{\"text\":\"Reviewers\"}},\"yaxis\":{\"anchor\":\"x\",\"domain\":[0.0,1.0],\"title\":{\"text\":\"Correlations\"}}},                        {\"responsive\": true}                    ).then(function(){\n",
       "                            \n",
       "var gd = document.getElementById('65d7619e-f1b8-4fe1-a0d1-0e7a351f163c');\n",
       "var x = new MutationObserver(function (mutations, observer) {{\n",
       "        var display = window.getComputedStyle(gd).display;\n",
       "        if (!display || display === 'none') {{\n",
       "            console.log([gd, 'removed!']);\n",
       "            Plotly.purge(gd);\n",
       "            observer.disconnect();\n",
       "        }}\n",
       "}});\n",
       "\n",
       "// Listen for the removal of the full notebook cells\n",
       "var notebookContainer = gd.closest('#notebook-container');\n",
       "if (notebookContainer) {{\n",
       "    x.observe(notebookContainer, {childList: true});\n",
       "}}\n",
       "\n",
       "// Listen for the clearing of the current output cell\n",
       "var outputEl = gd.closest('.output');\n",
       "if (outputEl) {{\n",
       "    x.observe(outputEl, {childList: true});\n",
       "}}\n",
       "\n",
       "                        })                };                });            </script>        </div>"
      ]
     },
     "metadata": {},
     "output_type": "display_data"
    }
   ],
   "source": [
    "px.bar(data_frame=df, \n",
    "      x= \"Reviewers\",\n",
    "      y=\"Correlations\",\n",
    "      color=\"Correlations\",\n",
    "       template=\"presentation\",\n",
    "      color_continuous_scale=px.colors.diverging.Spectral,\n",
    "       title=\"Cohen-kappa score of BFA with other reviewers\",\n",
    "      #width=500\n",
    "      )"
   ]
  },
  {
   "cell_type": "markdown",
   "id": "aad7aa91",
   "metadata": {},
   "source": [
    "## Gold"
   ]
  },
  {
   "cell_type": "code",
   "execution_count": 115,
   "id": "575dbf46",
   "metadata": {
    "collapsed": true
   },
   "outputs": [
    {
     "data": {
      "text/plain": [
       "[['adebola', 0],\n",
       " ['am', 0],\n",
       " ['ann', 0],\n",
       " ['anuj', 1],\n",
       " ['elbeth', 1],\n",
       " ['bfa', 3],\n",
       " ['gold', 60],\n",
       " ['bob', 0],\n",
       " ['lkh', 3],\n",
       " ['waka', 2],\n",
       " ['trice', 1],\n",
       " ['proof', 1],\n",
       " ['emmanuel', 1],\n",
       " ['fizzy', 3],\n",
       " ['dog', 1],\n",
       " ['flob', 1],\n",
       " ['emma_j', 1],\n",
       " ['greg', 0],\n",
       " ['grey', 0],\n",
       " ['stel', 1],\n",
       " ['jshua', 2],\n",
       " ['kish', 0],\n",
       " ['kylin', 2],\n",
       " ['z4yr', 4],\n",
       " ['hound', 0],\n",
       " ['mount', 1],\n",
       " ['nadalie', 2],\n",
       " ['richard', 1],\n",
       " ['ogunjo', 1],\n",
       " ['am2', 0],\n",
       " ['robot', 3],\n",
       " ['ann2', 2],\n",
       " ['steeges', 1],\n",
       " ['vik', 0],\n",
       " ['socal', 0],\n",
       " ['wolfman', 1],\n",
       " ['zer', 3],\n",
       " ['elbeth2', 1],\n",
       " ['bob2', 0],\n",
       " ['lkh2', 0],\n",
       " ['fizzy2', 2],\n",
       " ['trice2', 1],\n",
       " ['flob2', 1],\n",
       " ['greg2', 1],\n",
       " ['grey2', 0],\n",
       " ['stele2', 1],\n",
       " ['hound2', 1],\n",
       " ['richard2', 2],\n",
       " ['ogunjo2', 2],\n",
       " ['vik2', 2],\n",
       " ['wolfman2', 2]]"
      ]
     },
     "execution_count": 115,
     "metadata": {},
     "output_type": "execute_result"
    }
   ],
   "source": [
    "find_common_handles(gold)"
   ]
  },
  {
   "cell_type": "code",
   "execution_count": 350,
   "id": "084b2ba8",
   "metadata": {},
   "outputs": [],
   "source": [
    "gold_bfa = create_table(gold, bfa)\n",
    "gold_lkh = create_table(gold, lkh)\n",
    "gold_fizzy = create_table(gold, fizzy)\n",
    "gold_z4yr = create_table(gold, z4yr)\n",
    "gold_robot = create_table(gold, robot)\n",
    "gold_zer = create_table(gold, zer)\n",
    "gold_ml = create_table(gold, ml_anon)"
   ]
  },
  {
   "cell_type": "code",
   "execution_count": 352,
   "id": "a47331b7",
   "metadata": {},
   "outputs": [
    {
     "data": {
      "text/plain": [
       "[1.0,\n",
       " 0.3333333333333333,\n",
       " 0.6666666666666666,\n",
       " 0.75,\n",
       " 0.0,\n",
       " 0.6666666666666666,\n",
       " 0.7142857142857143]"
      ]
     },
     "execution_count": 352,
     "metadata": {},
     "output_type": "execute_result"
    }
   ],
   "source": [
    "[total_agreement(gold_bfa, \"gold\", \"bfa\"), total_agreement(gold_lkh, \"gold\", \"lkh\"),\n",
    " total_agreement(gold_fizzy, \"gold\", \"fizzy\"), total_agreement(gold_z4yr,\"gold\", \"z4yr\"),\n",
    " total_agreement(gold_robot,\"gold\", \"robot\"), total_agreement(gold_zer,\"gold\", \"zer\"),\n",
    " total_agreement(gold_ml, \"gold\", \"ml_anon\")]"
   ]
  },
  {
   "cell_type": "code",
   "execution_count": 124,
   "id": "be43745a",
   "metadata": {},
   "outputs": [
    {
     "data": {
      "text/plain": [
       "[1.0, 0.0, 0.3999999999999999, 0.5, 0.0]"
      ]
     },
     "execution_count": 124,
     "metadata": {},
     "output_type": "execute_result"
    }
   ],
   "source": [
    "[cohen_kappa_score(gold_bfa[\"Is Sybil? (T or F)gold\"], gold_bfa[\"Is Sybil? (T or F)bfa\"]),\n",
    " \n",
    "cohen_kappa_score(gold_lkh[\"Is Sybil? (T or F)gold\"], gold_lkh[\"Is Sybil? (T or F)lkh\"]),\n",
    " \n",
    "cohen_kappa_score(gold_fizzy[\"Is Sybil? (T or F)gold\"], gold_fizzy[\"Is Sybil? (T or F)fizzy\"]),\n",
    " \n",
    "cohen_kappa_score(gold_z4yr[\"Is Sybil? (T or F)gold\"], gold_z4yr[\"Is Sybil? (T or F)z4yr\"]),\n",
    " \n",
    "cohen_kappa_score(gold_zer[\"Is Sybil? (T or F)gold\"], gold_zer[\"Is Sybil? (T or F)zer\"])]"
   ]
  },
  {
   "cell_type": "code",
   "execution_count": 125,
   "id": "5446fa37",
   "metadata": {},
   "outputs": [
    {
     "data": {
      "text/html": [
       "<div>\n",
       "<style scoped>\n",
       "    .dataframe tbody tr th:only-of-type {\n",
       "        vertical-align: middle;\n",
       "    }\n",
       "\n",
       "    .dataframe tbody tr th {\n",
       "        vertical-align: top;\n",
       "    }\n",
       "\n",
       "    .dataframe thead th {\n",
       "        text-align: right;\n",
       "    }\n",
       "</style>\n",
       "<table border=\"1\" class=\"dataframe\">\n",
       "  <thead>\n",
       "    <tr style=\"text-align: right;\">\n",
       "      <th></th>\n",
       "      <th>Reviewers</th>\n",
       "      <th>Correlations</th>\n",
       "    </tr>\n",
       "  </thead>\n",
       "  <tbody>\n",
       "    <tr>\n",
       "      <th>0</th>\n",
       "      <td>BFA</td>\n",
       "      <td>1.0</td>\n",
       "    </tr>\n",
       "    <tr>\n",
       "      <th>1</th>\n",
       "      <td>LKH</td>\n",
       "      <td>0.0</td>\n",
       "    </tr>\n",
       "    <tr>\n",
       "      <th>2</th>\n",
       "      <td>Fizzy</td>\n",
       "      <td>0.4</td>\n",
       "    </tr>\n",
       "    <tr>\n",
       "      <th>3</th>\n",
       "      <td>z4yr</td>\n",
       "      <td>0.5</td>\n",
       "    </tr>\n",
       "    <tr>\n",
       "      <th>4</th>\n",
       "      <td>Zer</td>\n",
       "      <td>0.0</td>\n",
       "    </tr>\n",
       "  </tbody>\n",
       "</table>\n",
       "</div>"
      ],
      "text/plain": [
       "  Reviewers  Correlations\n",
       "0       BFA           1.0\n",
       "1       LKH           0.0\n",
       "2     Fizzy           0.4\n",
       "3      z4yr           0.5\n",
       "4       Zer           0.0"
      ]
     },
     "execution_count": 125,
     "metadata": {},
     "output_type": "execute_result"
    }
   ],
   "source": [
    "df = pd.DataFrame()\n",
    "df[\"Reviewers\"] = [\"BFA\", \"LKH\", \"Fizzy\", \"z4yr\", \"Zer\"]\n",
    "df[\"Correlations\"] = [1.0, 0.0, 0.3999999999999999, 0.5, 0.0]\n",
    "df"
   ]
  },
  {
   "cell_type": "code",
   "execution_count": 126,
   "id": "466ed656",
   "metadata": {},
   "outputs": [
    {
     "data": {
      "application/vnd.plotly.v1+json": {
       "config": {
        "plotlyServerURL": "https://plot.ly"
       },
       "data": [
        {
         "alignmentgroup": "True",
         "hovertemplate": "Reviewers=%{x}<br>Correlations=%{marker.color}<extra></extra>",
         "legendgroup": "",
         "marker": {
          "color": [
           1,
           0,
           0.3999999999999999,
           0.5,
           0
          ],
          "coloraxis": "coloraxis",
          "pattern": {
           "shape": ""
          }
         },
         "name": "",
         "offsetgroup": "",
         "orientation": "v",
         "showlegend": false,
         "textposition": "auto",
         "type": "bar",
         "x": [
          "BFA",
          "LKH",
          "Fizzy",
          "z4yr",
          "Zer"
         ],
         "xaxis": "x",
         "y": [
          1,
          0,
          0.3999999999999999,
          0.5,
          0
         ],
         "yaxis": "y"
        }
       ],
       "layout": {
        "barmode": "relative",
        "coloraxis": {
         "colorbar": {
          "title": {
           "text": "Correlations"
          }
         },
         "colorscale": [
          [
           0,
           "rgb(158,1,66)"
          ],
          [
           0.1,
           "rgb(213,62,79)"
          ],
          [
           0.2,
           "rgb(244,109,67)"
          ],
          [
           0.3,
           "rgb(253,174,97)"
          ],
          [
           0.4,
           "rgb(254,224,139)"
          ],
          [
           0.5,
           "rgb(255,255,191)"
          ],
          [
           0.6,
           "rgb(230,245,152)"
          ],
          [
           0.7,
           "rgb(171,221,164)"
          ],
          [
           0.8,
           "rgb(102,194,165)"
          ],
          [
           0.9,
           "rgb(50,136,189)"
          ],
          [
           1,
           "rgb(94,79,162)"
          ]
         ]
        },
        "legend": {
         "tracegroupgap": 0
        },
        "template": {
         "data": {
          "pie": [
           {
            "automargin": true,
            "type": "pie"
           }
          ],
          "scatter": [
           {
            "line": {
             "width": 3
            },
            "marker": {
             "size": 9
            },
            "type": "scatter"
           }
          ],
          "scatter3d": [
           {
            "line": {
             "width": 3
            },
            "marker": {
             "size": 9
            },
            "type": "scatter3d"
           }
          ],
          "scattergeo": [
           {
            "line": {
             "width": 3
            },
            "marker": {
             "size": 9
            },
            "type": "scattergeo"
           }
          ],
          "scattergl": [
           {
            "line": {
             "width": 3
            },
            "marker": {
             "size": 9
            },
            "type": "scattergl"
           }
          ],
          "scatterpolar": [
           {
            "line": {
             "width": 3
            },
            "marker": {
             "size": 9
            },
            "type": "scatterpolar"
           }
          ],
          "scatterpolargl": [
           {
            "line": {
             "width": 3
            },
            "marker": {
             "size": 9
            },
            "type": "scatterpolargl"
           }
          ],
          "scatterternary": [
           {
            "line": {
             "width": 3
            },
            "marker": {
             "size": 9
            },
            "type": "scatterternary"
           }
          ],
          "table": [
           {
            "cells": {
             "height": 30
            },
            "header": {
             "height": 36
            },
            "type": "table"
           }
          ]
         },
         "layout": {
          "font": {
           "size": 18
          },
          "xaxis": {
           "title": {
            "standoff": 15
           }
          },
          "yaxis": {
           "title": {
            "standoff": 15
           }
          }
         }
        },
        "title": {
         "text": "Cohen-kappa score of Gold with other reviewers"
        },
        "xaxis": {
         "anchor": "y",
         "domain": [
          0,
          1
         ],
         "title": {
          "text": "Reviewers"
         }
        },
        "yaxis": {
         "anchor": "x",
         "domain": [
          0,
          1
         ],
         "title": {
          "text": "Correlations"
         }
        }
       }
      },
      "text/html": [
       "<div>                            <div id=\"3e7afecf-ad86-49be-bb2c-b178f312ff2f\" class=\"plotly-graph-div\" style=\"height:525px; width:100%;\"></div>            <script type=\"text/javascript\">                require([\"plotly\"], function(Plotly) {                    window.PLOTLYENV=window.PLOTLYENV || {};                                    if (document.getElementById(\"3e7afecf-ad86-49be-bb2c-b178f312ff2f\")) {                    Plotly.newPlot(                        \"3e7afecf-ad86-49be-bb2c-b178f312ff2f\",                        [{\"alignmentgroup\":\"True\",\"hovertemplate\":\"Reviewers=%{x}<br>Correlations=%{marker.color}<extra></extra>\",\"legendgroup\":\"\",\"marker\":{\"color\":[1.0,0.0,0.3999999999999999,0.5,0.0],\"coloraxis\":\"coloraxis\",\"pattern\":{\"shape\":\"\"}},\"name\":\"\",\"offsetgroup\":\"\",\"orientation\":\"v\",\"showlegend\":false,\"textposition\":\"auto\",\"type\":\"bar\",\"x\":[\"BFA\",\"LKH\",\"Fizzy\",\"z4yr\",\"Zer\"],\"xaxis\":\"x\",\"y\":[1.0,0.0,0.3999999999999999,0.5,0.0],\"yaxis\":\"y\"}],                        {\"barmode\":\"relative\",\"coloraxis\":{\"colorbar\":{\"title\":{\"text\":\"Correlations\"}},\"colorscale\":[[0.0,\"rgb(158,1,66)\"],[0.1,\"rgb(213,62,79)\"],[0.2,\"rgb(244,109,67)\"],[0.3,\"rgb(253,174,97)\"],[0.4,\"rgb(254,224,139)\"],[0.5,\"rgb(255,255,191)\"],[0.6,\"rgb(230,245,152)\"],[0.7,\"rgb(171,221,164)\"],[0.8,\"rgb(102,194,165)\"],[0.9,\"rgb(50,136,189)\"],[1.0,\"rgb(94,79,162)\"]]},\"legend\":{\"tracegroupgap\":0},\"template\":{\"data\":{\"pie\":[{\"automargin\":true,\"type\":\"pie\"}],\"scatter\":[{\"line\":{\"width\":3},\"marker\":{\"size\":9},\"type\":\"scatter\"}],\"scatter3d\":[{\"line\":{\"width\":3},\"marker\":{\"size\":9},\"type\":\"scatter3d\"}],\"scattergeo\":[{\"line\":{\"width\":3},\"marker\":{\"size\":9},\"type\":\"scattergeo\"}],\"scattergl\":[{\"line\":{\"width\":3},\"marker\":{\"size\":9},\"type\":\"scattergl\"}],\"scatterpolar\":[{\"line\":{\"width\":3},\"marker\":{\"size\":9},\"type\":\"scatterpolar\"}],\"scatterpolargl\":[{\"line\":{\"width\":3},\"marker\":{\"size\":9},\"type\":\"scatterpolargl\"}],\"scatterternary\":[{\"line\":{\"width\":3},\"marker\":{\"size\":9},\"type\":\"scatterternary\"}],\"table\":[{\"cells\":{\"height\":30},\"header\":{\"height\":36},\"type\":\"table\"}]},\"layout\":{\"font\":{\"size\":18},\"xaxis\":{\"title\":{\"standoff\":15}},\"yaxis\":{\"title\":{\"standoff\":15}}}},\"title\":{\"text\":\"Cohen-kappa score of Gold with other reviewers\"},\"xaxis\":{\"anchor\":\"y\",\"domain\":[0.0,1.0],\"title\":{\"text\":\"Reviewers\"}},\"yaxis\":{\"anchor\":\"x\",\"domain\":[0.0,1.0],\"title\":{\"text\":\"Correlations\"}}},                        {\"responsive\": true}                    ).then(function(){\n",
       "                            \n",
       "var gd = document.getElementById('3e7afecf-ad86-49be-bb2c-b178f312ff2f');\n",
       "var x = new MutationObserver(function (mutations, observer) {{\n",
       "        var display = window.getComputedStyle(gd).display;\n",
       "        if (!display || display === 'none') {{\n",
       "            console.log([gd, 'removed!']);\n",
       "            Plotly.purge(gd);\n",
       "            observer.disconnect();\n",
       "        }}\n",
       "}});\n",
       "\n",
       "// Listen for the removal of the full notebook cells\n",
       "var notebookContainer = gd.closest('#notebook-container');\n",
       "if (notebookContainer) {{\n",
       "    x.observe(notebookContainer, {childList: true});\n",
       "}}\n",
       "\n",
       "// Listen for the clearing of the current output cell\n",
       "var outputEl = gd.closest('.output');\n",
       "if (outputEl) {{\n",
       "    x.observe(outputEl, {childList: true});\n",
       "}}\n",
       "\n",
       "                        })                };                });            </script>        </div>"
      ]
     },
     "metadata": {},
     "output_type": "display_data"
    }
   ],
   "source": [
    "px.bar(data_frame=df, \n",
    "      x= \"Reviewers\",\n",
    "      y=\"Correlations\",\n",
    "      color=\"Correlations\",\n",
    "       template=\"presentation\",\n",
    "      color_continuous_scale=px.colors.diverging.Spectral,\n",
    "       title=\"Cohen-kappa score of Gold with other reviewers\",\n",
    "      #width=500\n",
    "      )"
   ]
  },
  {
   "cell_type": "markdown",
   "id": "a9846441",
   "metadata": {},
   "source": [
    "## BOB"
   ]
  },
  {
   "cell_type": "code",
   "execution_count": 127,
   "id": "1dfa841e",
   "metadata": {
    "collapsed": true
   },
   "outputs": [
    {
     "data": {
      "text/plain": [
       "[['adebola', 1],\n",
       " ['am', 1],\n",
       " ['ann', 0],\n",
       " ['anuj', 2],\n",
       " ['elbeth', 0],\n",
       " ['bfa', 1],\n",
       " ['gold', 0],\n",
       " ['bob', 60],\n",
       " ['lkh', 3],\n",
       " ['waka', 4],\n",
       " ['trice', 0],\n",
       " ['proof', 1],\n",
       " ['emmanuel', 0],\n",
       " ['fizzy', 2],\n",
       " ['dog', 1],\n",
       " ['flob', 1],\n",
       " ['emma_j', 2],\n",
       " ['greg', 1],\n",
       " ['grey', 3],\n",
       " ['stel', 1],\n",
       " ['jshua', 0],\n",
       " ['kish', 2],\n",
       " ['kylin', 0],\n",
       " ['z4yr', 6],\n",
       " ['hound', 1],\n",
       " ['mount', 0],\n",
       " ['nadalie', 3],\n",
       " ['richard', 2],\n",
       " ['ogunjo', 1],\n",
       " ['am2', 2],\n",
       " ['robot', 2],\n",
       " ['ann2', 3],\n",
       " ['steeges', 1],\n",
       " ['vik', 1],\n",
       " ['socal', 0],\n",
       " ['wolfman', 1],\n",
       " ['zer', 1],\n",
       " ['elbeth2', 0],\n",
       " ['bob2', 0],\n",
       " ['lkh2', 2],\n",
       " ['fizzy2', 1],\n",
       " ['trice2', 1],\n",
       " ['flob2', 1],\n",
       " ['greg2', 2],\n",
       " ['grey2', 0],\n",
       " ['stele2', 1],\n",
       " ['hound2', 0],\n",
       " ['richard2', 0],\n",
       " ['ogunjo2', 0],\n",
       " ['vik2', 0],\n",
       " ['wolfman2', 0]]"
      ]
     },
     "execution_count": 127,
     "metadata": {},
     "output_type": "execute_result"
    }
   ],
   "source": [
    "find_common_handles(bob)"
   ]
  },
  {
   "cell_type": "code",
   "execution_count": 353,
   "id": "4476c8df",
   "metadata": {},
   "outputs": [],
   "source": [
    "bob_lkh = create_table(bob, lkh)\n",
    "bob_waka = create_table(bob, waka)\n",
    "bob_grey = create_table(bob, grey)\n",
    "bob_z4yr = create_table(bob, z4yr)\n",
    "bob_nadalie = create_table(bob, nadalie)\n",
    "bob_ann2 = create_table(bob, ann2)\n",
    "bob_ml = create_table(bob, ml_anon)"
   ]
  },
  {
   "cell_type": "code",
   "execution_count": 354,
   "id": "8a95e9a3",
   "metadata": {},
   "outputs": [
    {
     "data": {
      "text/plain": [
       "[1.0,\n",
       " 1.0,\n",
       " 1.0,\n",
       " 0.8333333333333334,\n",
       " 1.0,\n",
       " 0.6666666666666666,\n",
       " 0.5777777777777777]"
      ]
     },
     "execution_count": 354,
     "metadata": {},
     "output_type": "execute_result"
    }
   ],
   "source": [
    "[total_agreement(bob_lkh, \"bob\", \"lkh\"), total_agreement(bob_waka, \"bob\", \"waka\"),\n",
    " total_agreement(bob_grey, \"bob\", \"grey\"), total_agreement(bob_z4yr,\"bob\", \"z4yr\"),\n",
    " total_agreement(bob_nadalie,\"bob\", \"nadalie\"), total_agreement(bob_ann2,\"bob\", \"ann2\"),\n",
    " total_agreement(bob_ml, \"bob\", \"ml_anon\")]"
   ]
  },
  {
   "cell_type": "code",
   "execution_count": 131,
   "id": "9beaa89b",
   "metadata": {},
   "outputs": [
    {
     "name": "stderr",
     "output_type": "stream",
     "text": [
      "C:\\Users\\user\\AppData\\Roaming\\Python\\Python37\\site-packages\\sklearn\\metrics\\_classification.py:658: RuntimeWarning:\n",
      "\n",
      "invalid value encountered in true_divide\n",
      "\n"
     ]
    },
    {
     "data": {
      "text/plain": [
       "[1.0, nan, 0.0, 1.0, 0.3999999999999999]"
      ]
     },
     "execution_count": 131,
     "metadata": {},
     "output_type": "execute_result"
    }
   ],
   "source": [
    "[cohen_kappa_score(bob_lkh[\"Is Sybil? (T or F)bob\"], bob_lkh[\"Is Sybil? (T or F)lkh\"]),\n",
    " \n",
    "cohen_kappa_score(bob_grey[\"Is Sybil? (T or F)bob\"], bob_grey[\"Is Sybil? (T or F)grey\"]),\n",
    " \n",
    "cohen_kappa_score(bob_z4yr[\"Is Sybil? (T or F)bob\"], bob_z4yr[\"Is Sybil? (T or F)z4yr\"]),\n",
    " \n",
    "cohen_kappa_score(bob_nadalie[\"Is Sybil? (T or F)bob\"], bob_nadalie[\"Is Sybil? (T or F)nadalie\"]),\n",
    "\n",
    "cohen_kappa_score(bob_ann2[\"Is Sybil? (T or F)bob\"], bob_ann2[\"Is Sybil? (T or F)ann2\"])]"
   ]
  },
  {
   "cell_type": "code",
   "execution_count": 134,
   "id": "dd06bb6d",
   "metadata": {},
   "outputs": [
    {
     "data": {
      "text/html": [
       "<div>\n",
       "<style scoped>\n",
       "    .dataframe tbody tr th:only-of-type {\n",
       "        vertical-align: middle;\n",
       "    }\n",
       "\n",
       "    .dataframe tbody tr th {\n",
       "        vertical-align: top;\n",
       "    }\n",
       "\n",
       "    .dataframe thead th {\n",
       "        text-align: right;\n",
       "    }\n",
       "</style>\n",
       "<table border=\"1\" class=\"dataframe\">\n",
       "  <thead>\n",
       "    <tr style=\"text-align: right;\">\n",
       "      <th></th>\n",
       "      <th>Reviewers</th>\n",
       "      <th>Correlations</th>\n",
       "    </tr>\n",
       "  </thead>\n",
       "  <tbody>\n",
       "    <tr>\n",
       "      <th>0</th>\n",
       "      <td>LKH</td>\n",
       "      <td>1.0</td>\n",
       "    </tr>\n",
       "    <tr>\n",
       "      <th>1</th>\n",
       "      <td>Grey</td>\n",
       "      <td>NaN</td>\n",
       "    </tr>\n",
       "    <tr>\n",
       "      <th>2</th>\n",
       "      <td>Z4yr</td>\n",
       "      <td>0.0</td>\n",
       "    </tr>\n",
       "    <tr>\n",
       "      <th>3</th>\n",
       "      <td>Nadalie</td>\n",
       "      <td>1.0</td>\n",
       "    </tr>\n",
       "    <tr>\n",
       "      <th>4</th>\n",
       "      <td>Ann2</td>\n",
       "      <td>0.4</td>\n",
       "    </tr>\n",
       "  </tbody>\n",
       "</table>\n",
       "</div>"
      ],
      "text/plain": [
       "  Reviewers  Correlations\n",
       "0       LKH           1.0\n",
       "1      Grey           NaN\n",
       "2      Z4yr           0.0\n",
       "3   Nadalie           1.0\n",
       "4      Ann2           0.4"
      ]
     },
     "execution_count": 134,
     "metadata": {},
     "output_type": "execute_result"
    }
   ],
   "source": [
    "df = pd.DataFrame()\n",
    "df[\"Reviewers\"] = [\"LKH\", \"Grey\", \"Z4yr\", \"Nadalie\", \"Ann2\"]\n",
    "df[\"Correlations\"] = [1.0, np.NaN, 0.0, 1.0, 0.3999999999999999]\n",
    "df"
   ]
  },
  {
   "cell_type": "code",
   "execution_count": 135,
   "id": "b3621b1e",
   "metadata": {},
   "outputs": [
    {
     "data": {
      "application/vnd.plotly.v1+json": {
       "config": {
        "plotlyServerURL": "https://plot.ly"
       },
       "data": [
        {
         "alignmentgroup": "True",
         "hovertemplate": "Reviewers=%{x}<br>Correlations=%{marker.color}<extra></extra>",
         "legendgroup": "",
         "marker": {
          "color": [
           1,
           null,
           0,
           1,
           0.3999999999999999
          ],
          "coloraxis": "coloraxis",
          "pattern": {
           "shape": ""
          }
         },
         "name": "",
         "offsetgroup": "",
         "orientation": "v",
         "showlegend": false,
         "textposition": "auto",
         "type": "bar",
         "x": [
          "LKH",
          "Grey",
          "Z4yr",
          "Nadalie",
          "Ann2"
         ],
         "xaxis": "x",
         "y": [
          1,
          null,
          0,
          1,
          0.3999999999999999
         ],
         "yaxis": "y"
        }
       ],
       "layout": {
        "barmode": "relative",
        "coloraxis": {
         "colorbar": {
          "title": {
           "text": "Correlations"
          }
         },
         "colorscale": [
          [
           0,
           "rgb(158,1,66)"
          ],
          [
           0.1,
           "rgb(213,62,79)"
          ],
          [
           0.2,
           "rgb(244,109,67)"
          ],
          [
           0.3,
           "rgb(253,174,97)"
          ],
          [
           0.4,
           "rgb(254,224,139)"
          ],
          [
           0.5,
           "rgb(255,255,191)"
          ],
          [
           0.6,
           "rgb(230,245,152)"
          ],
          [
           0.7,
           "rgb(171,221,164)"
          ],
          [
           0.8,
           "rgb(102,194,165)"
          ],
          [
           0.9,
           "rgb(50,136,189)"
          ],
          [
           1,
           "rgb(94,79,162)"
          ]
         ]
        },
        "legend": {
         "tracegroupgap": 0
        },
        "template": {
         "data": {
          "pie": [
           {
            "automargin": true,
            "type": "pie"
           }
          ],
          "scatter": [
           {
            "line": {
             "width": 3
            },
            "marker": {
             "size": 9
            },
            "type": "scatter"
           }
          ],
          "scatter3d": [
           {
            "line": {
             "width": 3
            },
            "marker": {
             "size": 9
            },
            "type": "scatter3d"
           }
          ],
          "scattergeo": [
           {
            "line": {
             "width": 3
            },
            "marker": {
             "size": 9
            },
            "type": "scattergeo"
           }
          ],
          "scattergl": [
           {
            "line": {
             "width": 3
            },
            "marker": {
             "size": 9
            },
            "type": "scattergl"
           }
          ],
          "scatterpolar": [
           {
            "line": {
             "width": 3
            },
            "marker": {
             "size": 9
            },
            "type": "scatterpolar"
           }
          ],
          "scatterpolargl": [
           {
            "line": {
             "width": 3
            },
            "marker": {
             "size": 9
            },
            "type": "scatterpolargl"
           }
          ],
          "scatterternary": [
           {
            "line": {
             "width": 3
            },
            "marker": {
             "size": 9
            },
            "type": "scatterternary"
           }
          ],
          "table": [
           {
            "cells": {
             "height": 30
            },
            "header": {
             "height": 36
            },
            "type": "table"
           }
          ]
         },
         "layout": {
          "font": {
           "size": 18
          },
          "xaxis": {
           "title": {
            "standoff": 15
           }
          },
          "yaxis": {
           "title": {
            "standoff": 15
           }
          }
         }
        },
        "title": {
         "text": "Cohen-kappa score of Bob with other reviewers"
        },
        "xaxis": {
         "anchor": "y",
         "domain": [
          0,
          1
         ],
         "title": {
          "text": "Reviewers"
         }
        },
        "yaxis": {
         "anchor": "x",
         "domain": [
          0,
          1
         ],
         "title": {
          "text": "Correlations"
         }
        }
       }
      },
      "text/html": [
       "<div>                            <div id=\"68ca161a-819b-45e8-bff0-946c53d34686\" class=\"plotly-graph-div\" style=\"height:525px; width:100%;\"></div>            <script type=\"text/javascript\">                require([\"plotly\"], function(Plotly) {                    window.PLOTLYENV=window.PLOTLYENV || {};                                    if (document.getElementById(\"68ca161a-819b-45e8-bff0-946c53d34686\")) {                    Plotly.newPlot(                        \"68ca161a-819b-45e8-bff0-946c53d34686\",                        [{\"alignmentgroup\":\"True\",\"hovertemplate\":\"Reviewers=%{x}<br>Correlations=%{marker.color}<extra></extra>\",\"legendgroup\":\"\",\"marker\":{\"color\":[1.0,null,0.0,1.0,0.3999999999999999],\"coloraxis\":\"coloraxis\",\"pattern\":{\"shape\":\"\"}},\"name\":\"\",\"offsetgroup\":\"\",\"orientation\":\"v\",\"showlegend\":false,\"textposition\":\"auto\",\"type\":\"bar\",\"x\":[\"LKH\",\"Grey\",\"Z4yr\",\"Nadalie\",\"Ann2\"],\"xaxis\":\"x\",\"y\":[1.0,null,0.0,1.0,0.3999999999999999],\"yaxis\":\"y\"}],                        {\"barmode\":\"relative\",\"coloraxis\":{\"colorbar\":{\"title\":{\"text\":\"Correlations\"}},\"colorscale\":[[0.0,\"rgb(158,1,66)\"],[0.1,\"rgb(213,62,79)\"],[0.2,\"rgb(244,109,67)\"],[0.3,\"rgb(253,174,97)\"],[0.4,\"rgb(254,224,139)\"],[0.5,\"rgb(255,255,191)\"],[0.6,\"rgb(230,245,152)\"],[0.7,\"rgb(171,221,164)\"],[0.8,\"rgb(102,194,165)\"],[0.9,\"rgb(50,136,189)\"],[1.0,\"rgb(94,79,162)\"]]},\"legend\":{\"tracegroupgap\":0},\"template\":{\"data\":{\"pie\":[{\"automargin\":true,\"type\":\"pie\"}],\"scatter\":[{\"line\":{\"width\":3},\"marker\":{\"size\":9},\"type\":\"scatter\"}],\"scatter3d\":[{\"line\":{\"width\":3},\"marker\":{\"size\":9},\"type\":\"scatter3d\"}],\"scattergeo\":[{\"line\":{\"width\":3},\"marker\":{\"size\":9},\"type\":\"scattergeo\"}],\"scattergl\":[{\"line\":{\"width\":3},\"marker\":{\"size\":9},\"type\":\"scattergl\"}],\"scatterpolar\":[{\"line\":{\"width\":3},\"marker\":{\"size\":9},\"type\":\"scatterpolar\"}],\"scatterpolargl\":[{\"line\":{\"width\":3},\"marker\":{\"size\":9},\"type\":\"scatterpolargl\"}],\"scatterternary\":[{\"line\":{\"width\":3},\"marker\":{\"size\":9},\"type\":\"scatterternary\"}],\"table\":[{\"cells\":{\"height\":30},\"header\":{\"height\":36},\"type\":\"table\"}]},\"layout\":{\"font\":{\"size\":18},\"xaxis\":{\"title\":{\"standoff\":15}},\"yaxis\":{\"title\":{\"standoff\":15}}}},\"title\":{\"text\":\"Cohen-kappa score of Bob with other reviewers\"},\"xaxis\":{\"anchor\":\"y\",\"domain\":[0.0,1.0],\"title\":{\"text\":\"Reviewers\"}},\"yaxis\":{\"anchor\":\"x\",\"domain\":[0.0,1.0],\"title\":{\"text\":\"Correlations\"}}},                        {\"responsive\": true}                    ).then(function(){\n",
       "                            \n",
       "var gd = document.getElementById('68ca161a-819b-45e8-bff0-946c53d34686');\n",
       "var x = new MutationObserver(function (mutations, observer) {{\n",
       "        var display = window.getComputedStyle(gd).display;\n",
       "        if (!display || display === 'none') {{\n",
       "            console.log([gd, 'removed!']);\n",
       "            Plotly.purge(gd);\n",
       "            observer.disconnect();\n",
       "        }}\n",
       "}});\n",
       "\n",
       "// Listen for the removal of the full notebook cells\n",
       "var notebookContainer = gd.closest('#notebook-container');\n",
       "if (notebookContainer) {{\n",
       "    x.observe(notebookContainer, {childList: true});\n",
       "}}\n",
       "\n",
       "// Listen for the clearing of the current output cell\n",
       "var outputEl = gd.closest('.output');\n",
       "if (outputEl) {{\n",
       "    x.observe(outputEl, {childList: true});\n",
       "}}\n",
       "\n",
       "                        })                };                });            </script>        </div>"
      ]
     },
     "metadata": {},
     "output_type": "display_data"
    }
   ],
   "source": [
    "px.bar(data_frame=df, \n",
    "      x= \"Reviewers\",\n",
    "      y=\"Correlations\",\n",
    "      color=\"Correlations\",\n",
    "       template=\"presentation\",\n",
    "      color_continuous_scale=px.colors.diverging.Spectral,\n",
    "       title=\"Cohen-kappa score of Bob with other reviewers\",\n",
    "      #width=500\n",
    "      )"
   ]
  },
  {
   "cell_type": "markdown",
   "id": "f63f1c88",
   "metadata": {},
   "source": [
    "## LKH"
   ]
  },
  {
   "cell_type": "code",
   "execution_count": 136,
   "id": "92485d64",
   "metadata": {
    "collapsed": true
   },
   "outputs": [
    {
     "data": {
      "text/plain": [
       "[['adebola', 0],\n",
       " ['am', 0],\n",
       " ['ann', 0],\n",
       " ['anuj', 1],\n",
       " ['elbeth', 2],\n",
       " ['bfa', 1],\n",
       " ['gold', 3],\n",
       " ['bob', 3],\n",
       " ['lkh', 60],\n",
       " ['waka', 2],\n",
       " ['trice', 2],\n",
       " ['proof', 2],\n",
       " ['emmanuel', 2],\n",
       " ['fizzy', 1],\n",
       " ['dog', 3],\n",
       " ['flob', 2],\n",
       " ['emma_j', 1],\n",
       " ['greg', 1],\n",
       " ['grey', 0],\n",
       " ['stel', 3],\n",
       " ['jshua', 1],\n",
       " ['kish', 1],\n",
       " ['kylin', 2],\n",
       " ['z4yr', 3],\n",
       " ['hound', 4],\n",
       " ['mount', 1],\n",
       " ['nadalie', 2],\n",
       " ['richard', 4],\n",
       " ['ogunjo', 3],\n",
       " ['am2', 1],\n",
       " ['robot', 1],\n",
       " ['ann2', 2],\n",
       " ['steeges', 1],\n",
       " ['vik', 1],\n",
       " ['socal', 2],\n",
       " ['wolfman', 2],\n",
       " ['zer', 0],\n",
       " ['elbeth2', 2],\n",
       " ['bob2', 0],\n",
       " ['lkh2', 3],\n",
       " ['fizzy2', 1],\n",
       " ['trice2', 0],\n",
       " ['flob2', 1],\n",
       " ['greg2', 0],\n",
       " ['grey2', 2],\n",
       " ['stele2', 1],\n",
       " ['hound2', 0],\n",
       " ['richard2', 1],\n",
       " ['ogunjo2', 0],\n",
       " ['vik2', 0],\n",
       " ['wolfman2', 2]]"
      ]
     },
     "execution_count": 136,
     "metadata": {},
     "output_type": "execute_result"
    }
   ],
   "source": [
    "find_common_handles(lkh)"
   ]
  },
  {
   "cell_type": "code",
   "execution_count": 355,
   "id": "09d7924f",
   "metadata": {},
   "outputs": [],
   "source": [
    "lkh_gold = create_table(lkh, gold)\n",
    "lkh_bob = create_table(lkh, bob)\n",
    "lkh_dog = create_table(lkh, dog)\n",
    "lkh_stel = create_table(lkh, stel)\n",
    "lkh_z4yr = create_table(lkh, z4yr)\n",
    "lkh_hound = create_table(lkh, hound)\n",
    "lkh_ogunjo = create_table(lkh, ogunjo)\n",
    "lkh_lkh2 = create_table(lkh, lkh2)\n",
    "lkh_ml= create_table(lkh, ml_anon)"
   ]
  },
  {
   "cell_type": "code",
   "execution_count": 356,
   "id": "b82e0498",
   "metadata": {},
   "outputs": [
    {
     "data": {
      "text/plain": [
       "[0.3333333333333333,\n",
       " 1.0,\n",
       " 0.6666666666666666,\n",
       " 0.0,\n",
       " 0.3333333333333333,\n",
       " 1.0,\n",
       " 0.6666666666666666,\n",
       " 1.0,\n",
       " 0.6190476190476191]"
      ]
     },
     "execution_count": 356,
     "metadata": {},
     "output_type": "execute_result"
    }
   ],
   "source": [
    "[total_agreement(lkh_gold, \"lkh\", \"gold\"), total_agreement(lkh_bob, \"lkh\", \"bob\"),\n",
    " total_agreement(lkh_dog, \"lkh\", \"dog\"), total_agreement(lkh_stel,\"lkh\", \"stel\"),\n",
    " total_agreement(lkh_z4yr,\"lkh\", \"z4yr\"), total_agreement(lkh_hound,\"lkh\", \"hound\"),\n",
    "  total_agreement(lkh_ogunjo,\"lkh\", \"ogunjo\"), total_agreement(lkh_lkh2,\"lkh\", \"lkh2\"),\n",
    " total_agreement(lkh_ml, \"lkh\", \"ml_anon\")]"
   ]
  },
  {
   "cell_type": "code",
   "execution_count": 138,
   "id": "7d75d4a0",
   "metadata": {},
   "outputs": [
    {
     "data": {
      "text/plain": [
       "[0.0, 1.0, 0.0, 0.0, 0.0, 1.0, 0.3999999999999999]"
      ]
     },
     "execution_count": 138,
     "metadata": {},
     "output_type": "execute_result"
    }
   ],
   "source": [
    "[cohen_kappa_score(lkh_gold[\"Is Sybil? (T or F)lkh\"], lkh_gold[\"Is Sybil? (T or F)gold\"]),\n",
    " \n",
    "cohen_kappa_score(lkh_bob[\"Is Sybil? (T or F)lkh\"], lkh_bob[\"Is Sybil? (T or F)bob\"]),\n",
    " \n",
    "cohen_kappa_score(lkh_dog[\"Is Sybil? (T or F)lkh\"], lkh_dog[\"Is Sybil? (T or F)dog\"]),\n",
    " \n",
    "cohen_kappa_score(lkh_stel[\"Is Sybil? (T or F)lkh\"], lkh_stel[\"Is Sybil? (T or F)stel\"]),\n",
    "\n",
    "cohen_kappa_score(lkh_z4yr[\"Is Sybil? (T or F)lkh\"], lkh_z4yr[\"Is Sybil? (T or F)z4yr\"]),\n",
    "\n",
    "cohen_kappa_score(lkh_hound[\"Is Sybil? (T or F)lkh\"], lkh_hound[\"Is Sybil? (T or F)hound\"]),\n",
    " \n",
    "cohen_kappa_score(lkh_ogunjo[\"Is Sybil? (T or F)lkh\"], lkh_ogunjo[\"Is Sybil? (T or F)ogunjo\"])]"
   ]
  },
  {
   "cell_type": "code",
   "execution_count": 142,
   "id": "3931d2b6",
   "metadata": {},
   "outputs": [
    {
     "data": {
      "text/html": [
       "<div>\n",
       "<style scoped>\n",
       "    .dataframe tbody tr th:only-of-type {\n",
       "        vertical-align: middle;\n",
       "    }\n",
       "\n",
       "    .dataframe tbody tr th {\n",
       "        vertical-align: top;\n",
       "    }\n",
       "\n",
       "    .dataframe thead th {\n",
       "        text-align: right;\n",
       "    }\n",
       "</style>\n",
       "<table border=\"1\" class=\"dataframe\">\n",
       "  <thead>\n",
       "    <tr style=\"text-align: right;\">\n",
       "      <th></th>\n",
       "      <th>Reviewers</th>\n",
       "      <th>Correlations</th>\n",
       "    </tr>\n",
       "  </thead>\n",
       "  <tbody>\n",
       "    <tr>\n",
       "      <th>0</th>\n",
       "      <td>Gold</td>\n",
       "      <td>0.0</td>\n",
       "    </tr>\n",
       "    <tr>\n",
       "      <th>1</th>\n",
       "      <td>Bob</td>\n",
       "      <td>1.0</td>\n",
       "    </tr>\n",
       "    <tr>\n",
       "      <th>2</th>\n",
       "      <td>Dogg</td>\n",
       "      <td>0.0</td>\n",
       "    </tr>\n",
       "    <tr>\n",
       "      <th>3</th>\n",
       "      <td>Stelescuvlad</td>\n",
       "      <td>0.0</td>\n",
       "    </tr>\n",
       "    <tr>\n",
       "      <th>4</th>\n",
       "      <td>Z4yr</td>\n",
       "      <td>0.0</td>\n",
       "    </tr>\n",
       "    <tr>\n",
       "      <th>5</th>\n",
       "      <td>Hound</td>\n",
       "      <td>1.0</td>\n",
       "    </tr>\n",
       "    <tr>\n",
       "      <th>6</th>\n",
       "      <td>Ogunjosam</td>\n",
       "      <td>0.4</td>\n",
       "    </tr>\n",
       "  </tbody>\n",
       "</table>\n",
       "</div>"
      ],
      "text/plain": [
       "      Reviewers  Correlations\n",
       "0          Gold           0.0\n",
       "1           Bob           1.0\n",
       "2          Dogg           0.0\n",
       "3  Stelescuvlad           0.0\n",
       "4          Z4yr           0.0\n",
       "5         Hound           1.0\n",
       "6     Ogunjosam           0.4"
      ]
     },
     "execution_count": 142,
     "metadata": {},
     "output_type": "execute_result"
    }
   ],
   "source": [
    "df = pd.DataFrame()\n",
    "df[\"Reviewers\"] = [\"Gold\", \"Bob\", \"Dogg\", \"Stelescuvlad\", \"Z4yr\", \"Hound\", \"Ogunjosam\"]\n",
    "df[\"Correlations\"] = [0.0, 1.0, 0.0, 0.0, 0.0, 1.0, 0.3999999999999999]\n",
    "df"
   ]
  },
  {
   "cell_type": "code",
   "execution_count": 143,
   "id": "1c7dc4d1",
   "metadata": {},
   "outputs": [
    {
     "data": {
      "application/vnd.plotly.v1+json": {
       "config": {
        "plotlyServerURL": "https://plot.ly"
       },
       "data": [
        {
         "alignmentgroup": "True",
         "hovertemplate": "Reviewers=%{x}<br>Correlations=%{marker.color}<extra></extra>",
         "legendgroup": "",
         "marker": {
          "color": [
           0,
           1,
           0,
           0,
           0,
           1,
           0.3999999999999999
          ],
          "coloraxis": "coloraxis",
          "pattern": {
           "shape": ""
          }
         },
         "name": "",
         "offsetgroup": "",
         "orientation": "v",
         "showlegend": false,
         "textposition": "auto",
         "type": "bar",
         "x": [
          "Gold",
          "Bob",
          "Dogg",
          "Stelescuvlad",
          "Z4yr",
          "Hound",
          "Ogunjosam"
         ],
         "xaxis": "x",
         "y": [
          0,
          1,
          0,
          0,
          0,
          1,
          0.3999999999999999
         ],
         "yaxis": "y"
        }
       ],
       "layout": {
        "barmode": "relative",
        "coloraxis": {
         "colorbar": {
          "title": {
           "text": "Correlations"
          }
         },
         "colorscale": [
          [
           0,
           "rgb(158,1,66)"
          ],
          [
           0.1,
           "rgb(213,62,79)"
          ],
          [
           0.2,
           "rgb(244,109,67)"
          ],
          [
           0.3,
           "rgb(253,174,97)"
          ],
          [
           0.4,
           "rgb(254,224,139)"
          ],
          [
           0.5,
           "rgb(255,255,191)"
          ],
          [
           0.6,
           "rgb(230,245,152)"
          ],
          [
           0.7,
           "rgb(171,221,164)"
          ],
          [
           0.8,
           "rgb(102,194,165)"
          ],
          [
           0.9,
           "rgb(50,136,189)"
          ],
          [
           1,
           "rgb(94,79,162)"
          ]
         ]
        },
        "legend": {
         "tracegroupgap": 0
        },
        "template": {
         "data": {
          "pie": [
           {
            "automargin": true,
            "type": "pie"
           }
          ],
          "scatter": [
           {
            "line": {
             "width": 3
            },
            "marker": {
             "size": 9
            },
            "type": "scatter"
           }
          ],
          "scatter3d": [
           {
            "line": {
             "width": 3
            },
            "marker": {
             "size": 9
            },
            "type": "scatter3d"
           }
          ],
          "scattergeo": [
           {
            "line": {
             "width": 3
            },
            "marker": {
             "size": 9
            },
            "type": "scattergeo"
           }
          ],
          "scattergl": [
           {
            "line": {
             "width": 3
            },
            "marker": {
             "size": 9
            },
            "type": "scattergl"
           }
          ],
          "scatterpolar": [
           {
            "line": {
             "width": 3
            },
            "marker": {
             "size": 9
            },
            "type": "scatterpolar"
           }
          ],
          "scatterpolargl": [
           {
            "line": {
             "width": 3
            },
            "marker": {
             "size": 9
            },
            "type": "scatterpolargl"
           }
          ],
          "scatterternary": [
           {
            "line": {
             "width": 3
            },
            "marker": {
             "size": 9
            },
            "type": "scatterternary"
           }
          ],
          "table": [
           {
            "cells": {
             "height": 30
            },
            "header": {
             "height": 36
            },
            "type": "table"
           }
          ]
         },
         "layout": {
          "font": {
           "size": 18
          },
          "xaxis": {
           "title": {
            "standoff": 15
           }
          },
          "yaxis": {
           "title": {
            "standoff": 15
           }
          }
         }
        },
        "title": {
         "text": "Cohen-kappa score of LKH with other reviewers"
        },
        "xaxis": {
         "anchor": "y",
         "domain": [
          0,
          1
         ],
         "title": {
          "text": "Reviewers"
         }
        },
        "yaxis": {
         "anchor": "x",
         "domain": [
          0,
          1
         ],
         "title": {
          "text": "Correlations"
         }
        }
       }
      },
      "text/html": [
       "<div>                            <div id=\"e34daeb9-86a2-4da6-9afb-139343c65428\" class=\"plotly-graph-div\" style=\"height:525px; width:100%;\"></div>            <script type=\"text/javascript\">                require([\"plotly\"], function(Plotly) {                    window.PLOTLYENV=window.PLOTLYENV || {};                                    if (document.getElementById(\"e34daeb9-86a2-4da6-9afb-139343c65428\")) {                    Plotly.newPlot(                        \"e34daeb9-86a2-4da6-9afb-139343c65428\",                        [{\"alignmentgroup\":\"True\",\"hovertemplate\":\"Reviewers=%{x}<br>Correlations=%{marker.color}<extra></extra>\",\"legendgroup\":\"\",\"marker\":{\"color\":[0.0,1.0,0.0,0.0,0.0,1.0,0.3999999999999999],\"coloraxis\":\"coloraxis\",\"pattern\":{\"shape\":\"\"}},\"name\":\"\",\"offsetgroup\":\"\",\"orientation\":\"v\",\"showlegend\":false,\"textposition\":\"auto\",\"type\":\"bar\",\"x\":[\"Gold\",\"Bob\",\"Dogg\",\"Stelescuvlad\",\"Z4yr\",\"Hound\",\"Ogunjosam\"],\"xaxis\":\"x\",\"y\":[0.0,1.0,0.0,0.0,0.0,1.0,0.3999999999999999],\"yaxis\":\"y\"}],                        {\"barmode\":\"relative\",\"coloraxis\":{\"colorbar\":{\"title\":{\"text\":\"Correlations\"}},\"colorscale\":[[0.0,\"rgb(158,1,66)\"],[0.1,\"rgb(213,62,79)\"],[0.2,\"rgb(244,109,67)\"],[0.3,\"rgb(253,174,97)\"],[0.4,\"rgb(254,224,139)\"],[0.5,\"rgb(255,255,191)\"],[0.6,\"rgb(230,245,152)\"],[0.7,\"rgb(171,221,164)\"],[0.8,\"rgb(102,194,165)\"],[0.9,\"rgb(50,136,189)\"],[1.0,\"rgb(94,79,162)\"]]},\"legend\":{\"tracegroupgap\":0},\"template\":{\"data\":{\"pie\":[{\"automargin\":true,\"type\":\"pie\"}],\"scatter\":[{\"line\":{\"width\":3},\"marker\":{\"size\":9},\"type\":\"scatter\"}],\"scatter3d\":[{\"line\":{\"width\":3},\"marker\":{\"size\":9},\"type\":\"scatter3d\"}],\"scattergeo\":[{\"line\":{\"width\":3},\"marker\":{\"size\":9},\"type\":\"scattergeo\"}],\"scattergl\":[{\"line\":{\"width\":3},\"marker\":{\"size\":9},\"type\":\"scattergl\"}],\"scatterpolar\":[{\"line\":{\"width\":3},\"marker\":{\"size\":9},\"type\":\"scatterpolar\"}],\"scatterpolargl\":[{\"line\":{\"width\":3},\"marker\":{\"size\":9},\"type\":\"scatterpolargl\"}],\"scatterternary\":[{\"line\":{\"width\":3},\"marker\":{\"size\":9},\"type\":\"scatterternary\"}],\"table\":[{\"cells\":{\"height\":30},\"header\":{\"height\":36},\"type\":\"table\"}]},\"layout\":{\"font\":{\"size\":18},\"xaxis\":{\"title\":{\"standoff\":15}},\"yaxis\":{\"title\":{\"standoff\":15}}}},\"title\":{\"text\":\"Cohen-kappa score of LKH with other reviewers\"},\"xaxis\":{\"anchor\":\"y\",\"domain\":[0.0,1.0],\"title\":{\"text\":\"Reviewers\"}},\"yaxis\":{\"anchor\":\"x\",\"domain\":[0.0,1.0],\"title\":{\"text\":\"Correlations\"}}},                        {\"responsive\": true}                    ).then(function(){\n",
       "                            \n",
       "var gd = document.getElementById('e34daeb9-86a2-4da6-9afb-139343c65428');\n",
       "var x = new MutationObserver(function (mutations, observer) {{\n",
       "        var display = window.getComputedStyle(gd).display;\n",
       "        if (!display || display === 'none') {{\n",
       "            console.log([gd, 'removed!']);\n",
       "            Plotly.purge(gd);\n",
       "            observer.disconnect();\n",
       "        }}\n",
       "}});\n",
       "\n",
       "// Listen for the removal of the full notebook cells\n",
       "var notebookContainer = gd.closest('#notebook-container');\n",
       "if (notebookContainer) {{\n",
       "    x.observe(notebookContainer, {childList: true});\n",
       "}}\n",
       "\n",
       "// Listen for the clearing of the current output cell\n",
       "var outputEl = gd.closest('.output');\n",
       "if (outputEl) {{\n",
       "    x.observe(outputEl, {childList: true});\n",
       "}}\n",
       "\n",
       "                        })                };                });            </script>        </div>"
      ]
     },
     "metadata": {},
     "output_type": "display_data"
    }
   ],
   "source": [
    "px.bar(data_frame=df, \n",
    "      x= \"Reviewers\",\n",
    "      y=\"Correlations\",\n",
    "      color=\"Correlations\",\n",
    "       template=\"presentation\",\n",
    "      color_continuous_scale=px.colors.diverging.Spectral,\n",
    "       title=\"Cohen-kappa score of LKH with other reviewers\",\n",
    "      #width=500\n",
    "      )"
   ]
  },
  {
   "cell_type": "markdown",
   "id": "83739819",
   "metadata": {},
   "source": [
    "## Waka, Trice, Proof"
   ]
  },
  {
   "cell_type": "code",
   "execution_count": 169,
   "id": "4233b883",
   "metadata": {
    "collapsed": true
   },
   "outputs": [
    {
     "data": {
      "text/plain": [
       "[['adebola', 0],\n",
       " ['am', 1],\n",
       " ['ann', 0],\n",
       " ['anuj', 0],\n",
       " ['elbeth', 0],\n",
       " ['bfa', 0],\n",
       " ['gold', 0],\n",
       " ['bob', 2],\n",
       " ['lkh', 0],\n",
       " ['waka', 30],\n",
       " ['trice', 0],\n",
       " ['proof', 1],\n",
       " ['emmanuel', 0],\n",
       " ['fizzy', 0],\n",
       " ['dog', 0],\n",
       " ['flob', 2],\n",
       " ['emma_j', 0],\n",
       " ['greg', 1],\n",
       " ['grey', 2],\n",
       " ['stel', 0],\n",
       " ['jshua', 0],\n",
       " ['kish', 0],\n",
       " ['kylin', 0],\n",
       " ['z4yr', 0],\n",
       " ['hound', 0],\n",
       " ['mount', 1],\n",
       " ['nadalie', 1],\n",
       " ['richard', 0],\n",
       " ['ogunjo', 2],\n",
       " ['am2', 2],\n",
       " ['robot', 1],\n",
       " ['ann2', 0],\n",
       " ['steeges', 2],\n",
       " ['vik', 0],\n",
       " ['socal', 2],\n",
       " ['wolfman', 0],\n",
       " ['zer', 0],\n",
       " ['elbeth2', 1],\n",
       " ['bob2', 0],\n",
       " ['lkh2', 0],\n",
       " ['fizzy2', 0],\n",
       " ['trice2', 0],\n",
       " ['flob2', 0],\n",
       " ['greg2', 0],\n",
       " ['grey2', 0],\n",
       " ['stele2', 1],\n",
       " ['hound2', 2],\n",
       " ['richard2', 0],\n",
       " ['ogunjo2', 1],\n",
       " ['vik2', 0],\n",
       " ['wolfman2', 0]]"
      ]
     },
     "execution_count": 169,
     "metadata": {},
     "output_type": "execute_result"
    }
   ],
   "source": [
    "find_common_handles(waka)"
   ]
  },
  {
   "cell_type": "code",
   "execution_count": 357,
   "id": "18606084",
   "metadata": {},
   "outputs": [],
   "source": [
    "waka_bob = create_table(waka, bob)\n",
    "waka_flob = create_table(waka, flob)\n",
    "waka_ogunjo = create_table(waka, ogunjo)\n",
    "waka_steeges = create_table(waka, steeges)\n",
    "waka_greg = create_table(waka, greg)\n",
    "waka_grey = create_table(waka, grey)\n",
    "waka_hound2 = create_table(waka, hound2)\n",
    "waka_socal = create_table(waka, socal)\n",
    "waka_am2 = create_table(waka, am2)\n",
    "waka_ml =create_table(waka, ml_anon)"
   ]
  },
  {
   "cell_type": "code",
   "execution_count": 360,
   "id": "ffe68c1d",
   "metadata": {},
   "outputs": [
    {
     "data": {
      "text/plain": [
       "[1.0, 0.0, 1.0, 1.0, 0.0, 1.0, 1.0, 1.0, 0.0, 0.8235294117647058]"
      ]
     },
     "execution_count": 360,
     "metadata": {},
     "output_type": "execute_result"
    }
   ],
   "source": [
    "[total_agreement(waka_bob, \"waka\", \"bob\"),\n",
    " total_agreement(waka_flob, \"waka\", \"flob\"), total_agreement(waka_ogunjo,\"waka\", \"ogunjo\"),\n",
    " total_agreement(waka_steeges,\"waka\", \"steeges\"), total_agreement(waka_greg,\"waka\", \"greg\"),\n",
    " total_agreement(waka_grey,\"waka\", \"grey\"), total_agreement(waka_hound2,\"waka\", \"hound2\"),\n",
    " total_agreement(waka_socal,\"waka\", \"socal\"), total_agreement(waka_am2,\"waka\", \"am2\"),\n",
    " total_agreement(waka_ml, \"waka\", \"ml_anon\")]"
   ]
  },
  {
   "cell_type": "code",
   "execution_count": 359,
   "id": "b2bb2955",
   "metadata": {},
   "outputs": [
    {
     "data": {
      "text/html": [
       "<div>\n",
       "<style scoped>\n",
       "    .dataframe tbody tr th:only-of-type {\n",
       "        vertical-align: middle;\n",
       "    }\n",
       "\n",
       "    .dataframe tbody tr th {\n",
       "        vertical-align: top;\n",
       "    }\n",
       "\n",
       "    .dataframe thead th {\n",
       "        text-align: right;\n",
       "    }\n",
       "</style>\n",
       "<table border=\"1\" class=\"dataframe\">\n",
       "  <thead>\n",
       "    <tr style=\"text-align: right;\">\n",
       "      <th></th>\n",
       "      <th>handle</th>\n",
       "      <th>Is Sybil? (T or F)waka</th>\n",
       "      <th>Confidence (low, so-so, high)waka</th>\n",
       "      <th>Noteswaka</th>\n",
       "      <th>gitcoin_urlwaka</th>\n",
       "      <th>github_urlwaka</th>\n",
       "      <th>Is Sybil? (T or F)trice</th>\n",
       "      <th>Confidence (low, so-so, high)trice</th>\n",
       "      <th>Notestrice</th>\n",
       "      <th>gitcoin_urltrice</th>\n",
       "      <th>github_urltrice</th>\n",
       "    </tr>\n",
       "  </thead>\n",
       "  <tbody>\n",
       "  </tbody>\n",
       "</table>\n",
       "</div>"
      ],
      "text/plain": [
       "Empty DataFrame\n",
       "Columns: [handle, Is Sybil? (T or F)waka, Confidence (low, so-so, high)waka, Noteswaka, gitcoin_urlwaka, github_urlwaka, Is Sybil? (T or F)trice, Confidence (low, so-so, high)trice, Notestrice, gitcoin_urltrice, github_urltrice]\n",
       "Index: []"
      ]
     },
     "execution_count": 359,
     "metadata": {},
     "output_type": "execute_result"
    }
   ],
   "source": [
    "waka_trice"
   ]
  },
  {
   "cell_type": "code",
   "execution_count": 177,
   "id": "00024db9",
   "metadata": {
    "scrolled": true
   },
   "outputs": [
    {
     "name": "stderr",
     "output_type": "stream",
     "text": [
      "C:\\Users\\user\\AppData\\Roaming\\Python\\Python37\\site-packages\\sklearn\\metrics\\_classification.py:658: RuntimeWarning:\n",
      "\n",
      "invalid value encountered in true_divide\n",
      "\n",
      "C:\\Users\\user\\AppData\\Roaming\\Python\\Python37\\site-packages\\sklearn\\metrics\\_classification.py:658: RuntimeWarning:\n",
      "\n",
      "invalid value encountered in true_divide\n",
      "\n"
     ]
    },
    {
     "data": {
      "text/plain": [
       "[1.0, 0.0, 1.0, nan, 0.0, 1.0, nan, 1.0, 0.0]"
      ]
     },
     "execution_count": 177,
     "metadata": {},
     "output_type": "execute_result"
    }
   ],
   "source": [
    "[cohen_kappa_score(waka_bob[\"Is Sybil? (T or F)waka\"], waka_bob[\"Is Sybil? (T or F)bob\"]),\n",
    " \n",
    "cohen_kappa_score(waka_flob[\"Is Sybil? (T or F)waka\"], waka_flob[\"Is Sybil? (T or F)flob\"]),\n",
    " \n",
    "cohen_kappa_score(waka_ogunjo[\"Is Sybil? (T or F)waka\"], waka_ogunjo[\"Is Sybil? (T or F)ogunjo\"]),\n",
    "\n",
    "cohen_kappa_score(waka_steeges[\"Is Sybil? (T or F)waka\"], waka_steeges[\"Is Sybil? (T or F)steeges\"]),\n",
    "\n",
    "cohen_kappa_score(waka_greg[\"Is Sybil? (T or F)waka\"], waka_greg[\"Is Sybil? (T or F)greg\"]),\n",
    " \n",
    "cohen_kappa_score(waka_grey[\"Is Sybil? (T or F)waka\"], waka_grey[\"Is Sybil? (T or F)grey\"]),\n",
    "\n",
    "cohen_kappa_score(waka_hound2[\"Is Sybil? (T or F)waka\"], waka_hound2[\"Is Sybil? (T or F)hound2\"]),\n",
    "\n",
    "cohen_kappa_score(waka_socal[\"Is Sybil? (T or F)waka\"], waka_socal[\"Is Sybil? (T or F)socal\"]),\n",
    " \n",
    "cohen_kappa_score(waka_am2[\"Is Sybil? (T or F)waka\"], waka_am2[\"Is Sybil? (T or F)am2\"])]"
   ]
  },
  {
   "cell_type": "code",
   "execution_count": 183,
   "id": "45df64bf",
   "metadata": {
    "scrolled": true
   },
   "outputs": [
    {
     "data": {
      "text/html": [
       "<div>\n",
       "<style scoped>\n",
       "    .dataframe tbody tr th:only-of-type {\n",
       "        vertical-align: middle;\n",
       "    }\n",
       "\n",
       "    .dataframe tbody tr th {\n",
       "        vertical-align: top;\n",
       "    }\n",
       "\n",
       "    .dataframe thead th {\n",
       "        text-align: right;\n",
       "    }\n",
       "</style>\n",
       "<table border=\"1\" class=\"dataframe\">\n",
       "  <thead>\n",
       "    <tr style=\"text-align: right;\">\n",
       "      <th></th>\n",
       "      <th>Reviewers</th>\n",
       "      <th>Correlations</th>\n",
       "    </tr>\n",
       "  </thead>\n",
       "  <tbody>\n",
       "    <tr>\n",
       "      <th>0</th>\n",
       "      <td>Bob</td>\n",
       "      <td>1.0</td>\n",
       "    </tr>\n",
       "    <tr>\n",
       "      <th>1</th>\n",
       "      <td>Flob</td>\n",
       "      <td>0.0</td>\n",
       "    </tr>\n",
       "    <tr>\n",
       "      <th>2</th>\n",
       "      <td>Ogunjosam</td>\n",
       "      <td>1.0</td>\n",
       "    </tr>\n",
       "    <tr>\n",
       "      <th>3</th>\n",
       "      <td>Steeges</td>\n",
       "      <td>NaN</td>\n",
       "    </tr>\n",
       "    <tr>\n",
       "      <th>4</th>\n",
       "      <td>Greg</td>\n",
       "      <td>0.0</td>\n",
       "    </tr>\n",
       "    <tr>\n",
       "      <th>5</th>\n",
       "      <td>Grey</td>\n",
       "      <td>1.0</td>\n",
       "    </tr>\n",
       "    <tr>\n",
       "      <th>6</th>\n",
       "      <td>Hound</td>\n",
       "      <td>NaN</td>\n",
       "    </tr>\n",
       "    <tr>\n",
       "      <th>7</th>\n",
       "      <td>Socal</td>\n",
       "      <td>1.0</td>\n",
       "    </tr>\n",
       "    <tr>\n",
       "      <th>8</th>\n",
       "      <td>Am2</td>\n",
       "      <td>0.0</td>\n",
       "    </tr>\n",
       "  </tbody>\n",
       "</table>\n",
       "</div>"
      ],
      "text/plain": [
       "   Reviewers  Correlations\n",
       "0        Bob           1.0\n",
       "1       Flob           0.0\n",
       "2  Ogunjosam           1.0\n",
       "3    Steeges           NaN\n",
       "4       Greg           0.0\n",
       "5       Grey           1.0\n",
       "6      Hound           NaN\n",
       "7      Socal           1.0\n",
       "8        Am2           0.0"
      ]
     },
     "execution_count": 183,
     "metadata": {},
     "output_type": "execute_result"
    }
   ],
   "source": [
    "df = pd.DataFrame()\n",
    "df[\"Reviewers\"] = [\"Bob\", \"Flob\", \"Ogunjosam\", \"Steeges\", \"Greg\", \"Grey\", \"Hound\", \"Socal\", \"Am2\"]\n",
    "df[\"Correlations\"] = [1.0, 0.0, 1.0, np.NaN, 0.0, 1.0, np.NaN, 1.0, 0.0]\n",
    "df"
   ]
  },
  {
   "cell_type": "code",
   "execution_count": 185,
   "id": "954c11c7",
   "metadata": {
    "scrolled": false
   },
   "outputs": [
    {
     "data": {
      "application/vnd.plotly.v1+json": {
       "config": {
        "plotlyServerURL": "https://plot.ly"
       },
       "data": [
        {
         "alignmentgroup": "True",
         "hovertemplate": "Reviewers=%{x}<br>Correlations=%{marker.color}<extra></extra>",
         "legendgroup": "",
         "marker": {
          "color": [
           1,
           0,
           1,
           null,
           0,
           1,
           null,
           1,
           0
          ],
          "coloraxis": "coloraxis",
          "pattern": {
           "shape": ""
          }
         },
         "name": "",
         "offsetgroup": "",
         "orientation": "v",
         "showlegend": false,
         "textposition": "auto",
         "type": "bar",
         "x": [
          "Bob",
          "Flob",
          "Ogunjosam",
          "Steeges",
          "Greg",
          "Grey",
          "Hound",
          "Socal",
          "Am2"
         ],
         "xaxis": "x",
         "y": [
          1,
          0,
          1,
          null,
          0,
          1,
          null,
          1,
          0
         ],
         "yaxis": "y"
        }
       ],
       "layout": {
        "barmode": "relative",
        "coloraxis": {
         "colorbar": {
          "title": {
           "text": "Correlations"
          }
         },
         "colorscale": [
          [
           0,
           "rgb(158,1,66)"
          ],
          [
           0.1,
           "rgb(213,62,79)"
          ],
          [
           0.2,
           "rgb(244,109,67)"
          ],
          [
           0.3,
           "rgb(253,174,97)"
          ],
          [
           0.4,
           "rgb(254,224,139)"
          ],
          [
           0.5,
           "rgb(255,255,191)"
          ],
          [
           0.6,
           "rgb(230,245,152)"
          ],
          [
           0.7,
           "rgb(171,221,164)"
          ],
          [
           0.8,
           "rgb(102,194,165)"
          ],
          [
           0.9,
           "rgb(50,136,189)"
          ],
          [
           1,
           "rgb(94,79,162)"
          ]
         ]
        },
        "legend": {
         "tracegroupgap": 0
        },
        "template": {
         "data": {
          "pie": [
           {
            "automargin": true,
            "type": "pie"
           }
          ],
          "scatter": [
           {
            "line": {
             "width": 3
            },
            "marker": {
             "size": 9
            },
            "type": "scatter"
           }
          ],
          "scatter3d": [
           {
            "line": {
             "width": 3
            },
            "marker": {
             "size": 9
            },
            "type": "scatter3d"
           }
          ],
          "scattergeo": [
           {
            "line": {
             "width": 3
            },
            "marker": {
             "size": 9
            },
            "type": "scattergeo"
           }
          ],
          "scattergl": [
           {
            "line": {
             "width": 3
            },
            "marker": {
             "size": 9
            },
            "type": "scattergl"
           }
          ],
          "scatterpolar": [
           {
            "line": {
             "width": 3
            },
            "marker": {
             "size": 9
            },
            "type": "scatterpolar"
           }
          ],
          "scatterpolargl": [
           {
            "line": {
             "width": 3
            },
            "marker": {
             "size": 9
            },
            "type": "scatterpolargl"
           }
          ],
          "scatterternary": [
           {
            "line": {
             "width": 3
            },
            "marker": {
             "size": 9
            },
            "type": "scatterternary"
           }
          ],
          "table": [
           {
            "cells": {
             "height": 30
            },
            "header": {
             "height": 36
            },
            "type": "table"
           }
          ]
         },
         "layout": {
          "font": {
           "size": 18
          },
          "xaxis": {
           "title": {
            "standoff": 15
           }
          },
          "yaxis": {
           "title": {
            "standoff": 15
           }
          }
         }
        },
        "title": {
         "text": "Cohen-kappa score of Waka with other reviewers"
        },
        "xaxis": {
         "anchor": "y",
         "domain": [
          0,
          1
         ],
         "title": {
          "text": "Reviewers"
         }
        },
        "yaxis": {
         "anchor": "x",
         "domain": [
          0,
          1
         ],
         "title": {
          "text": "Correlations"
         }
        }
       }
      },
      "text/html": [
       "<div>                            <div id=\"27fbbcfd-34a9-468b-b4d8-0e12185a793a\" class=\"plotly-graph-div\" style=\"height:525px; width:100%;\"></div>            <script type=\"text/javascript\">                require([\"plotly\"], function(Plotly) {                    window.PLOTLYENV=window.PLOTLYENV || {};                                    if (document.getElementById(\"27fbbcfd-34a9-468b-b4d8-0e12185a793a\")) {                    Plotly.newPlot(                        \"27fbbcfd-34a9-468b-b4d8-0e12185a793a\",                        [{\"alignmentgroup\":\"True\",\"hovertemplate\":\"Reviewers=%{x}<br>Correlations=%{marker.color}<extra></extra>\",\"legendgroup\":\"\",\"marker\":{\"color\":[1.0,0.0,1.0,null,0.0,1.0,null,1.0,0.0],\"coloraxis\":\"coloraxis\",\"pattern\":{\"shape\":\"\"}},\"name\":\"\",\"offsetgroup\":\"\",\"orientation\":\"v\",\"showlegend\":false,\"textposition\":\"auto\",\"type\":\"bar\",\"x\":[\"Bob\",\"Flob\",\"Ogunjosam\",\"Steeges\",\"Greg\",\"Grey\",\"Hound\",\"Socal\",\"Am2\"],\"xaxis\":\"x\",\"y\":[1.0,0.0,1.0,null,0.0,1.0,null,1.0,0.0],\"yaxis\":\"y\"}],                        {\"barmode\":\"relative\",\"coloraxis\":{\"colorbar\":{\"title\":{\"text\":\"Correlations\"}},\"colorscale\":[[0.0,\"rgb(158,1,66)\"],[0.1,\"rgb(213,62,79)\"],[0.2,\"rgb(244,109,67)\"],[0.3,\"rgb(253,174,97)\"],[0.4,\"rgb(254,224,139)\"],[0.5,\"rgb(255,255,191)\"],[0.6,\"rgb(230,245,152)\"],[0.7,\"rgb(171,221,164)\"],[0.8,\"rgb(102,194,165)\"],[0.9,\"rgb(50,136,189)\"],[1.0,\"rgb(94,79,162)\"]]},\"legend\":{\"tracegroupgap\":0},\"template\":{\"data\":{\"pie\":[{\"automargin\":true,\"type\":\"pie\"}],\"scatter\":[{\"line\":{\"width\":3},\"marker\":{\"size\":9},\"type\":\"scatter\"}],\"scatter3d\":[{\"line\":{\"width\":3},\"marker\":{\"size\":9},\"type\":\"scatter3d\"}],\"scattergeo\":[{\"line\":{\"width\":3},\"marker\":{\"size\":9},\"type\":\"scattergeo\"}],\"scattergl\":[{\"line\":{\"width\":3},\"marker\":{\"size\":9},\"type\":\"scattergl\"}],\"scatterpolar\":[{\"line\":{\"width\":3},\"marker\":{\"size\":9},\"type\":\"scatterpolar\"}],\"scatterpolargl\":[{\"line\":{\"width\":3},\"marker\":{\"size\":9},\"type\":\"scatterpolargl\"}],\"scatterternary\":[{\"line\":{\"width\":3},\"marker\":{\"size\":9},\"type\":\"scatterternary\"}],\"table\":[{\"cells\":{\"height\":30},\"header\":{\"height\":36},\"type\":\"table\"}]},\"layout\":{\"font\":{\"size\":18},\"xaxis\":{\"title\":{\"standoff\":15}},\"yaxis\":{\"title\":{\"standoff\":15}}}},\"title\":{\"text\":\"Cohen-kappa score of Waka with other reviewers\"},\"xaxis\":{\"anchor\":\"y\",\"domain\":[0.0,1.0],\"title\":{\"text\":\"Reviewers\"}},\"yaxis\":{\"anchor\":\"x\",\"domain\":[0.0,1.0],\"title\":{\"text\":\"Correlations\"}}},                        {\"responsive\": true}                    ).then(function(){\n",
       "                            \n",
       "var gd = document.getElementById('27fbbcfd-34a9-468b-b4d8-0e12185a793a');\n",
       "var x = new MutationObserver(function (mutations, observer) {{\n",
       "        var display = window.getComputedStyle(gd).display;\n",
       "        if (!display || display === 'none') {{\n",
       "            console.log([gd, 'removed!']);\n",
       "            Plotly.purge(gd);\n",
       "            observer.disconnect();\n",
       "        }}\n",
       "}});\n",
       "\n",
       "// Listen for the removal of the full notebook cells\n",
       "var notebookContainer = gd.closest('#notebook-container');\n",
       "if (notebookContainer) {{\n",
       "    x.observe(notebookContainer, {childList: true});\n",
       "}}\n",
       "\n",
       "// Listen for the clearing of the current output cell\n",
       "var outputEl = gd.closest('.output');\n",
       "if (outputEl) {{\n",
       "    x.observe(outputEl, {childList: true});\n",
       "}}\n",
       "\n",
       "                        })                };                });            </script>        </div>"
      ]
     },
     "metadata": {},
     "output_type": "display_data"
    }
   ],
   "source": [
    "px.bar(data_frame=df, \n",
    "      x= \"Reviewers\",\n",
    "      y=\"Correlations\",\n",
    "      color=\"Correlations\",\n",
    "       template=\"presentation\",\n",
    "      color_continuous_scale=px.colors.diverging.Spectral,\n",
    "       title=\"Cohen-kappa score of Waka with other reviewers\",\n",
    "      #width=500\n",
    "      )"
   ]
  },
  {
   "cell_type": "markdown",
   "id": "09b567fd",
   "metadata": {},
   "source": [
    "## Trice"
   ]
  },
  {
   "cell_type": "code",
   "execution_count": 188,
   "id": "afc3b0f6",
   "metadata": {
    "collapsed": true
   },
   "outputs": [
    {
     "data": {
      "text/plain": [
       "[['adebola', 0],\n",
       " ['am', 0],\n",
       " ['ann', 0],\n",
       " ['anuj', 0],\n",
       " ['elbeth', 5],\n",
       " ['bfa', 1],\n",
       " ['gold', 1],\n",
       " ['bob', 0],\n",
       " ['lkh', 2],\n",
       " ['waka', 0],\n",
       " ['trice', 60],\n",
       " ['proof', 0],\n",
       " ['emmanuel', 2],\n",
       " ['fizzy', 1],\n",
       " ['dog', 2],\n",
       " ['flob', 1],\n",
       " ['emma_j', 0],\n",
       " ['greg', 2],\n",
       " ['grey', 2],\n",
       " ['stel', 1],\n",
       " ['jshua', 1],\n",
       " ['kish', 1],\n",
       " ['kylin', 2],\n",
       " ['z4yr', 2],\n",
       " ['hound', 1],\n",
       " ['mount', 1],\n",
       " ['nadalie', 1],\n",
       " ['richard', 2],\n",
       " ['ogunjo', 2],\n",
       " ['am2', 0],\n",
       " ['robot', 0],\n",
       " ['ann2', 1],\n",
       " ['steeges', 0],\n",
       " ['vik', 2],\n",
       " ['socal', 3],\n",
       " ['wolfman', 0],\n",
       " ['zer', 2],\n",
       " ['elbeth2', 2],\n",
       " ['bob2', 1],\n",
       " ['lkh2', 0],\n",
       " ['fizzy2', 0],\n",
       " ['trice2', 0],\n",
       " ['flob2', 0],\n",
       " ['greg2', 0],\n",
       " ['grey2', 0],\n",
       " ['stele2', 2],\n",
       " ['hound2', 1],\n",
       " ['richard2', 1],\n",
       " ['ogunjo2', 0],\n",
       " ['vik2', 0],\n",
       " ['wolfman2', 2]]"
      ]
     },
     "execution_count": 188,
     "metadata": {},
     "output_type": "execute_result"
    }
   ],
   "source": [
    "find_common_handles(trice)"
   ]
  },
  {
   "cell_type": "code",
   "execution_count": null,
   "id": "733ef9fc",
   "metadata": {},
   "outputs": [],
   "source": [
    "socal, elbeth, lkh, emmanuel, greg, grey, kylin, z4yr, richard, ogunjo, vik, zer, wolfman2"
   ]
  },
  {
   "cell_type": "code",
   "execution_count": 361,
   "id": "8ba32b95",
   "metadata": {},
   "outputs": [],
   "source": [
    "trice_socal = create_table(trice, socal)\n",
    "trice_elbeth = create_table(trice, elbeth)\n",
    "trice_lkh = create_table(trice, lkh)\n",
    "trice_emmanuel = create_table(trice, emmanuel)\n",
    "trice_greg = create_table(trice, greg)\n",
    "trice_grey = create_table(trice, grey)\n",
    "trice_kylin = create_table(trice, kylin)\n",
    "trice_z4yr = create_table(trice, z4yr)\n",
    "trice_richard = create_table(trice, richard)\n",
    "trice_ogunjo = create_table(trice, ogunjo)\n",
    "trice_vik = create_table(trice, vik)\n",
    "trice_zer = create_table(trice, zer)\n",
    "trice_wolfman = create_table(trice, wolfman2)\n",
    "trice_ml = create_table(trice, ml_anon)"
   ]
  },
  {
   "cell_type": "code",
   "execution_count": null,
   "id": "ef88f7d3",
   "metadata": {},
   "outputs": [],
   "source": []
  },
  {
   "cell_type": "code",
   "execution_count": 362,
   "id": "3ead20a6",
   "metadata": {},
   "outputs": [
    {
     "data": {
      "text/plain": [
       "[0.6666666666666666,\n",
       " 0.6,\n",
       " 0.5,\n",
       " 1.0,\n",
       " 0.5,\n",
       " 1.0,\n",
       " 0.0,\n",
       " 0.0,\n",
       " 0.0,\n",
       " 0.0,\n",
       " 0.5,\n",
       " 0.0,\n",
       " 0.5,\n",
       " 0.28205128205128205]"
      ]
     },
     "execution_count": 362,
     "metadata": {},
     "output_type": "execute_result"
    }
   ],
   "source": [
    "[total_agreement(trice_socal, \"trice\", \"socal\"), total_agreement(trice_elbeth, \"trice\", \"elbeth\"),\n",
    " total_agreement(trice_lkh, \"trice\", \"lkh\"), total_agreement(trice_emmanuel,\"trice\", \"emmanuel\"),\n",
    " total_agreement(trice_greg,\"trice\", \"greg\"), total_agreement(trice_grey,\"trice\", \"grey\"),\n",
    " total_agreement(trice_kylin,\"trice\", \"kylin\"), total_agreement(trice_z4yr,\"trice\", \"z4yr\"),\n",
    " total_agreement(trice_richard,\"trice\", \"richard\"), total_agreement(trice_ogunjo,\"trice\", \"ogunjo\"),\n",
    "  total_agreement(trice_vik,\"trice\", \"vik\"), total_agreement(trice_zer,\"trice\", \"zer\"),\n",
    " total_agreement(trice_wolfman, \"trice\", \"wolfman2\"), total_agreement(trice_ml, \"trice\", \"ml_anon\")]"
   ]
  },
  {
   "cell_type": "code",
   "execution_count": 194,
   "id": "4d397ac2",
   "metadata": {},
   "outputs": [
    {
     "name": "stderr",
     "output_type": "stream",
     "text": [
      "C:\\Users\\user\\AppData\\Roaming\\Python\\Python37\\site-packages\\sklearn\\metrics\\_classification.py:658: RuntimeWarning:\n",
      "\n",
      "invalid value encountered in true_divide\n",
      "\n"
     ]
    },
    {
     "data": {
      "text/plain": [
       "[0.0, -0.25, 0.0, 1.0, 0.0, nan, 0.0, 0.0, 0.0, 0.0, 0.0, 0.0, 0.0]"
      ]
     },
     "execution_count": 194,
     "metadata": {},
     "output_type": "execute_result"
    }
   ],
   "source": [
    "[cohen_kappa_score(trice_socal[\"Is Sybil? (T or F)trice\"], trice_socal[\"Is Sybil? (T or F)socal\"]),\n",
    " \n",
    "cohen_kappa_score(trice_elbeth[\"Is Sybil? (T or F)trice\"], trice_elbeth[\"Is Sybil? (T or F)elbeth\"]),\n",
    " \n",
    "cohen_kappa_score(trice_lkh[\"Is Sybil? (T or F)trice\"], trice_lkh[\"Is Sybil? (T or F)lkh\"]),\n",
    " \n",
    "cohen_kappa_score(trice_emmanuel[\"Is Sybil? (T or F)trice\"], trice_emmanuel[\"Is Sybil? (T or F)emmanuel\"]),\n",
    "\n",
    "cohen_kappa_score(trice_greg[\"Is Sybil? (T or F)trice\"], trice_greg[\"Is Sybil? (T or F)greg\"]),\n",
    " \n",
    "cohen_kappa_score(trice_grey[\"Is Sybil? (T or F)trice\"], trice_grey[\"Is Sybil? (T or F)grey\"]),\n",
    "\n",
    "cohen_kappa_score(trice_kylin[\"Is Sybil? (T or F)trice\"], trice_kylin[\"Is Sybil? (T or F)kylin\"]),\n",
    " \n",
    "cohen_kappa_score(trice_z4yr[\"Is Sybil? (T or F)trice\"], trice_z4yr[\"Is Sybil? (T or F)z4yr\"]),\n",
    "\n",
    "cohen_kappa_score(trice_richard[\"Is Sybil? (T or F)trice\"], trice_richard[\"Is Sybil? (T or F)richard\"]),\n",
    " \n",
    "cohen_kappa_score(trice_ogunjo[\"Is Sybil? (T or F)trice\"], trice_ogunjo[\"Is Sybil? (T or F)ogunjo\"]),\n",
    "\n",
    "cohen_kappa_score(trice_vik[\"Is Sybil? (T or F)trice\"], trice_vik[\"Is Sybil? (T or F)vik\"]),\n",
    " \n",
    "cohen_kappa_score(trice_zer[\"Is Sybil? (T or F)trice\"], trice_zer[\"Is Sybil? (T or F)zer\"]),\n",
    "\n",
    "cohen_kappa_score(trice_wolfman[\"Is Sybil? (T or F)trice\"], trice_wolfman[\"Is Sybil? (T or F)wolfman2\"]),]"
   ]
  },
  {
   "cell_type": "code",
   "execution_count": 196,
   "id": "7393ad63",
   "metadata": {},
   "outputs": [
    {
     "data": {
      "text/html": [
       "<div>\n",
       "<style scoped>\n",
       "    .dataframe tbody tr th:only-of-type {\n",
       "        vertical-align: middle;\n",
       "    }\n",
       "\n",
       "    .dataframe tbody tr th {\n",
       "        vertical-align: top;\n",
       "    }\n",
       "\n",
       "    .dataframe thead th {\n",
       "        text-align: right;\n",
       "    }\n",
       "</style>\n",
       "<table border=\"1\" class=\"dataframe\">\n",
       "  <thead>\n",
       "    <tr style=\"text-align: right;\">\n",
       "      <th></th>\n",
       "      <th>Reviewers</th>\n",
       "      <th>Correlations</th>\n",
       "    </tr>\n",
       "  </thead>\n",
       "  <tbody>\n",
       "    <tr>\n",
       "      <th>0</th>\n",
       "      <td>Socal</td>\n",
       "      <td>0.00</td>\n",
       "    </tr>\n",
       "    <tr>\n",
       "      <th>1</th>\n",
       "      <td>Elbeth</td>\n",
       "      <td>-0.25</td>\n",
       "    </tr>\n",
       "    <tr>\n",
       "      <th>2</th>\n",
       "      <td>LKH</td>\n",
       "      <td>0.00</td>\n",
       "    </tr>\n",
       "    <tr>\n",
       "      <th>3</th>\n",
       "      <td>Emmanuel</td>\n",
       "      <td>1.00</td>\n",
       "    </tr>\n",
       "    <tr>\n",
       "      <th>4</th>\n",
       "      <td>Greg</td>\n",
       "      <td>0.00</td>\n",
       "    </tr>\n",
       "    <tr>\n",
       "      <th>5</th>\n",
       "      <td>Grey</td>\n",
       "      <td>NaN</td>\n",
       "    </tr>\n",
       "    <tr>\n",
       "      <th>6</th>\n",
       "      <td>Kylin</td>\n",
       "      <td>0.00</td>\n",
       "    </tr>\n",
       "    <tr>\n",
       "      <th>7</th>\n",
       "      <td>Z4yr</td>\n",
       "      <td>0.00</td>\n",
       "    </tr>\n",
       "    <tr>\n",
       "      <th>8</th>\n",
       "      <td>Richard</td>\n",
       "      <td>0.00</td>\n",
       "    </tr>\n",
       "    <tr>\n",
       "      <th>9</th>\n",
       "      <td>Ogunjosam</td>\n",
       "      <td>0.00</td>\n",
       "    </tr>\n",
       "    <tr>\n",
       "      <th>10</th>\n",
       "      <td>Vik</td>\n",
       "      <td>0.00</td>\n",
       "    </tr>\n",
       "    <tr>\n",
       "      <th>11</th>\n",
       "      <td>Zer</td>\n",
       "      <td>0.00</td>\n",
       "    </tr>\n",
       "    <tr>\n",
       "      <th>12</th>\n",
       "      <td>Wolfman</td>\n",
       "      <td>0.00</td>\n",
       "    </tr>\n",
       "  </tbody>\n",
       "</table>\n",
       "</div>"
      ],
      "text/plain": [
       "    Reviewers  Correlations\n",
       "0       Socal          0.00\n",
       "1      Elbeth         -0.25\n",
       "2         LKH          0.00\n",
       "3    Emmanuel          1.00\n",
       "4        Greg          0.00\n",
       "5        Grey           NaN\n",
       "6       Kylin          0.00\n",
       "7        Z4yr          0.00\n",
       "8     Richard          0.00\n",
       "9   Ogunjosam          0.00\n",
       "10        Vik          0.00\n",
       "11        Zer          0.00\n",
       "12    Wolfman          0.00"
      ]
     },
     "execution_count": 196,
     "metadata": {},
     "output_type": "execute_result"
    }
   ],
   "source": [
    "df = pd.DataFrame()\n",
    "df[\"Reviewers\"] = [\"Socal\", \"Elbeth\", \"LKH\", \"Emmanuel\", \"Greg\", \"Grey\", \"Kylin\", \"Z4yr\", \"Richard\", \"Ogunjosam\", \"Vik\", \"Zer\", \"Wolfman\"]\n",
    "df[\"Correlations\"] = [0.0, -0.25, 0.0, 1.0, 0.0, np.NaN, 0.0, 0.0, 0.0, 0.0, 0.0, 0.0, 0.0]\n",
    "df"
   ]
  },
  {
   "cell_type": "code",
   "execution_count": 200,
   "id": "4d701e13",
   "metadata": {},
   "outputs": [
    {
     "data": {
      "application/vnd.plotly.v1+json": {
       "config": {
        "plotlyServerURL": "https://plot.ly"
       },
       "data": [
        {
         "alignmentgroup": "True",
         "hovertemplate": "Reviewers=%{x}<br>Correlations=%{marker.color}<extra></extra>",
         "legendgroup": "",
         "marker": {
          "color": [
           0,
           -0.25,
           0,
           1,
           0,
           null,
           0,
           0,
           0,
           0,
           0,
           0,
           0
          ],
          "coloraxis": "coloraxis",
          "pattern": {
           "shape": ""
          }
         },
         "name": "",
         "offsetgroup": "",
         "orientation": "v",
         "showlegend": false,
         "textposition": "auto",
         "type": "bar",
         "x": [
          "Socal",
          "Elbeth",
          "LKH",
          "Emmanuel",
          "Greg",
          "Grey",
          "Kylin",
          "Z4yr",
          "Richard",
          "Ogunjosam",
          "Vik",
          "Zer",
          "Wolfman"
         ],
         "xaxis": "x",
         "y": [
          0,
          -0.25,
          0,
          1,
          0,
          null,
          0,
          0,
          0,
          0,
          0,
          0,
          0
         ],
         "yaxis": "y"
        }
       ],
       "layout": {
        "barmode": "relative",
        "coloraxis": {
         "colorbar": {
          "title": {
           "text": "Correlations"
          }
         },
         "colorscale": [
          [
           0,
           "rgb(158,1,66)"
          ],
          [
           0.1,
           "rgb(213,62,79)"
          ],
          [
           0.2,
           "rgb(244,109,67)"
          ],
          [
           0.3,
           "rgb(253,174,97)"
          ],
          [
           0.4,
           "rgb(254,224,139)"
          ],
          [
           0.5,
           "rgb(255,255,191)"
          ],
          [
           0.6,
           "rgb(230,245,152)"
          ],
          [
           0.7,
           "rgb(171,221,164)"
          ],
          [
           0.8,
           "rgb(102,194,165)"
          ],
          [
           0.9,
           "rgb(50,136,189)"
          ],
          [
           1,
           "rgb(94,79,162)"
          ]
         ]
        },
        "legend": {
         "tracegroupgap": 0
        },
        "template": {
         "data": {
          "pie": [
           {
            "automargin": true,
            "type": "pie"
           }
          ],
          "scatter": [
           {
            "line": {
             "width": 3
            },
            "marker": {
             "size": 9
            },
            "type": "scatter"
           }
          ],
          "scatter3d": [
           {
            "line": {
             "width": 3
            },
            "marker": {
             "size": 9
            },
            "type": "scatter3d"
           }
          ],
          "scattergeo": [
           {
            "line": {
             "width": 3
            },
            "marker": {
             "size": 9
            },
            "type": "scattergeo"
           }
          ],
          "scattergl": [
           {
            "line": {
             "width": 3
            },
            "marker": {
             "size": 9
            },
            "type": "scattergl"
           }
          ],
          "scatterpolar": [
           {
            "line": {
             "width": 3
            },
            "marker": {
             "size": 9
            },
            "type": "scatterpolar"
           }
          ],
          "scatterpolargl": [
           {
            "line": {
             "width": 3
            },
            "marker": {
             "size": 9
            },
            "type": "scatterpolargl"
           }
          ],
          "scatterternary": [
           {
            "line": {
             "width": 3
            },
            "marker": {
             "size": 9
            },
            "type": "scatterternary"
           }
          ],
          "table": [
           {
            "cells": {
             "height": 30
            },
            "header": {
             "height": 36
            },
            "type": "table"
           }
          ]
         },
         "layout": {
          "font": {
           "size": 18
          },
          "xaxis": {
           "title": {
            "standoff": 15
           }
          },
          "yaxis": {
           "title": {
            "standoff": 15
           }
          }
         }
        },
        "title": {
         "text": "Cohen-kappa score of Trice with other reviewers"
        },
        "xaxis": {
         "anchor": "y",
         "domain": [
          0,
          1
         ],
         "title": {
          "text": "Reviewers"
         }
        },
        "yaxis": {
         "anchor": "x",
         "domain": [
          0,
          1
         ],
         "title": {
          "text": "Correlations"
         }
        }
       }
      },
      "text/html": [
       "<div>                            <div id=\"54309a92-28c4-44ee-88bb-b0f10486a7f0\" class=\"plotly-graph-div\" style=\"height:525px; width:100%;\"></div>            <script type=\"text/javascript\">                require([\"plotly\"], function(Plotly) {                    window.PLOTLYENV=window.PLOTLYENV || {};                                    if (document.getElementById(\"54309a92-28c4-44ee-88bb-b0f10486a7f0\")) {                    Plotly.newPlot(                        \"54309a92-28c4-44ee-88bb-b0f10486a7f0\",                        [{\"alignmentgroup\":\"True\",\"hovertemplate\":\"Reviewers=%{x}<br>Correlations=%{marker.color}<extra></extra>\",\"legendgroup\":\"\",\"marker\":{\"color\":[0.0,-0.25,0.0,1.0,0.0,null,0.0,0.0,0.0,0.0,0.0,0.0,0.0],\"coloraxis\":\"coloraxis\",\"pattern\":{\"shape\":\"\"}},\"name\":\"\",\"offsetgroup\":\"\",\"orientation\":\"v\",\"showlegend\":false,\"textposition\":\"auto\",\"type\":\"bar\",\"x\":[\"Socal\",\"Elbeth\",\"LKH\",\"Emmanuel\",\"Greg\",\"Grey\",\"Kylin\",\"Z4yr\",\"Richard\",\"Ogunjosam\",\"Vik\",\"Zer\",\"Wolfman\"],\"xaxis\":\"x\",\"y\":[0.0,-0.25,0.0,1.0,0.0,null,0.0,0.0,0.0,0.0,0.0,0.0,0.0],\"yaxis\":\"y\"}],                        {\"barmode\":\"relative\",\"coloraxis\":{\"colorbar\":{\"title\":{\"text\":\"Correlations\"}},\"colorscale\":[[0.0,\"rgb(158,1,66)\"],[0.1,\"rgb(213,62,79)\"],[0.2,\"rgb(244,109,67)\"],[0.3,\"rgb(253,174,97)\"],[0.4,\"rgb(254,224,139)\"],[0.5,\"rgb(255,255,191)\"],[0.6,\"rgb(230,245,152)\"],[0.7,\"rgb(171,221,164)\"],[0.8,\"rgb(102,194,165)\"],[0.9,\"rgb(50,136,189)\"],[1.0,\"rgb(94,79,162)\"]]},\"legend\":{\"tracegroupgap\":0},\"template\":{\"data\":{\"pie\":[{\"automargin\":true,\"type\":\"pie\"}],\"scatter\":[{\"line\":{\"width\":3},\"marker\":{\"size\":9},\"type\":\"scatter\"}],\"scatter3d\":[{\"line\":{\"width\":3},\"marker\":{\"size\":9},\"type\":\"scatter3d\"}],\"scattergeo\":[{\"line\":{\"width\":3},\"marker\":{\"size\":9},\"type\":\"scattergeo\"}],\"scattergl\":[{\"line\":{\"width\":3},\"marker\":{\"size\":9},\"type\":\"scattergl\"}],\"scatterpolar\":[{\"line\":{\"width\":3},\"marker\":{\"size\":9},\"type\":\"scatterpolar\"}],\"scatterpolargl\":[{\"line\":{\"width\":3},\"marker\":{\"size\":9},\"type\":\"scatterpolargl\"}],\"scatterternary\":[{\"line\":{\"width\":3},\"marker\":{\"size\":9},\"type\":\"scatterternary\"}],\"table\":[{\"cells\":{\"height\":30},\"header\":{\"height\":36},\"type\":\"table\"}]},\"layout\":{\"font\":{\"size\":18},\"xaxis\":{\"title\":{\"standoff\":15}},\"yaxis\":{\"title\":{\"standoff\":15}}}},\"title\":{\"text\":\"Cohen-kappa score of Trice with other reviewers\"},\"xaxis\":{\"anchor\":\"y\",\"domain\":[0.0,1.0],\"title\":{\"text\":\"Reviewers\"}},\"yaxis\":{\"anchor\":\"x\",\"domain\":[0.0,1.0],\"title\":{\"text\":\"Correlations\"}}},                        {\"responsive\": true}                    ).then(function(){\n",
       "                            \n",
       "var gd = document.getElementById('54309a92-28c4-44ee-88bb-b0f10486a7f0');\n",
       "var x = new MutationObserver(function (mutations, observer) {{\n",
       "        var display = window.getComputedStyle(gd).display;\n",
       "        if (!display || display === 'none') {{\n",
       "            console.log([gd, 'removed!']);\n",
       "            Plotly.purge(gd);\n",
       "            observer.disconnect();\n",
       "        }}\n",
       "}});\n",
       "\n",
       "// Listen for the removal of the full notebook cells\n",
       "var notebookContainer = gd.closest('#notebook-container');\n",
       "if (notebookContainer) {{\n",
       "    x.observe(notebookContainer, {childList: true});\n",
       "}}\n",
       "\n",
       "// Listen for the clearing of the current output cell\n",
       "var outputEl = gd.closest('.output');\n",
       "if (outputEl) {{\n",
       "    x.observe(outputEl, {childList: true});\n",
       "}}\n",
       "\n",
       "                        })                };                });            </script>        </div>"
      ]
     },
     "metadata": {},
     "output_type": "display_data"
    }
   ],
   "source": [
    "px.bar(data_frame=df, \n",
    "      x= \"Reviewers\",\n",
    "      y=\"Correlations\",\n",
    "      color=\"Correlations\",\n",
    "       template=\"presentation\",\n",
    "      color_continuous_scale=px.colors.diverging.Spectral,\n",
    "       title=\"Cohen-kappa score of Trice with other reviewers\",\n",
    "      #width=500\n",
    "      )"
   ]
  },
  {
   "cell_type": "markdown",
   "id": "c24ca8a9",
   "metadata": {},
   "source": [
    "## Proof"
   ]
  },
  {
   "cell_type": "code",
   "execution_count": 197,
   "id": "d6046131",
   "metadata": {
    "collapsed": true
   },
   "outputs": [
    {
     "data": {
      "text/plain": [
       "[['adebola', 0],\n",
       " ['am', 0],\n",
       " ['ann', 0],\n",
       " ['anuj', 1],\n",
       " ['elbeth', 2],\n",
       " ['bfa', 1],\n",
       " ['gold', 1],\n",
       " ['bob', 1],\n",
       " ['lkh', 2],\n",
       " ['waka', 1],\n",
       " ['trice', 0],\n",
       " ['proof', 60],\n",
       " ['emmanuel', 1],\n",
       " ['fizzy', 0],\n",
       " ['dog', 1],\n",
       " ['flob', 1],\n",
       " ['emma_j', 1],\n",
       " ['greg', 0],\n",
       " ['grey', 2],\n",
       " ['stel', 1],\n",
       " ['jshua', 4],\n",
       " ['kish', 1],\n",
       " ['kylin', 3],\n",
       " ['z4yr', 5],\n",
       " ['hound', 1],\n",
       " ['mount', 1],\n",
       " ['nadalie', 0],\n",
       " ['richard', 1],\n",
       " ['ogunjo', 1],\n",
       " ['am2', 2],\n",
       " ['robot', 0],\n",
       " ['ann2', 2],\n",
       " ['steeges', 3],\n",
       " ['vik', 1],\n",
       " ['socal', 1],\n",
       " ['wolfman', 2],\n",
       " ['zer', 0],\n",
       " ['elbeth2', 0],\n",
       " ['bob2', 0],\n",
       " ['lkh2', 0],\n",
       " ['fizzy2', 0],\n",
       " ['trice2', 0],\n",
       " ['flob2', 0],\n",
       " ['greg2', 0],\n",
       " ['grey2', 0],\n",
       " ['stele2', 2],\n",
       " ['hound2', 1],\n",
       " ['richard2', 0],\n",
       " ['ogunjo2', 2],\n",
       " ['vik2', 0],\n",
       " ['wolfman2', 2]]"
      ]
     },
     "execution_count": 197,
     "metadata": {},
     "output_type": "execute_result"
    }
   ],
   "source": [
    "find_common_handles(proof)"
   ]
  },
  {
   "cell_type": "code",
   "execution_count": 363,
   "id": "29476d42",
   "metadata": {},
   "outputs": [],
   "source": [
    "proof_steeges = create_table(proof, steeges)\n",
    "proof_z4yr = create_table(proof, z4yr)\n",
    "proof_kylin = create_table(proof, kylin)\n",
    "proof_jshua = create_table(proof, jshua)\n",
    "proof_ml = create_table(proof, ml_anon)"
   ]
  },
  {
   "cell_type": "code",
   "execution_count": 364,
   "id": "cd4673c1",
   "metadata": {},
   "outputs": [
    {
     "data": {
      "text/plain": [
       "[0.6666666666666666, 1.0, 1.0, 0.75, 0.6818181818181818]"
      ]
     },
     "execution_count": 364,
     "metadata": {},
     "output_type": "execute_result"
    }
   ],
   "source": [
    "[total_agreement(proof_steeges, \"proof\", \"steeges\"), total_agreement(proof_z4yr, \"proof\", \"z4yr\"),\n",
    " total_agreement(proof_kylin, \"proof\", \"kylin\"), total_agreement(proof_jshua,\"proof\", \"jshua\"),\n",
    " total_agreement(proof_ml, \"proof\", \"ml_anon\")]"
   ]
  },
  {
   "cell_type": "code",
   "execution_count": 199,
   "id": "7fbeffc8",
   "metadata": {},
   "outputs": [
    {
     "name": "stderr",
     "output_type": "stream",
     "text": [
      "C:\\Users\\user\\AppData\\Roaming\\Python\\Python37\\site-packages\\sklearn\\metrics\\_classification.py:658: RuntimeWarning:\n",
      "\n",
      "invalid value encountered in true_divide\n",
      "\n"
     ]
    },
    {
     "data": {
      "text/plain": [
       "[0.0, 1.0, nan, 0.0]"
      ]
     },
     "execution_count": 199,
     "metadata": {},
     "output_type": "execute_result"
    }
   ],
   "source": [
    "[cohen_kappa_score(proof_steeges[\"Is Sybil? (T or F)proof\"], proof_steeges[\"Is Sybil? (T or F)steeges\"]),\n",
    " \n",
    "cohen_kappa_score(proof_z4yr[\"Is Sybil? (T or F)proof\"], proof_z4yr[\"Is Sybil? (T or F)z4yr\"]),\n",
    " \n",
    "cohen_kappa_score(proof_kylin[\"Is Sybil? (T or F)proof\"], proof_kylin[\"Is Sybil? (T or F)kylin\"]),\n",
    " \n",
    "cohen_kappa_score(proof_jshua[\"Is Sybil? (T or F)proof\"], proof_jshua[\"Is Sybil? (T or F)jshua\"])]"
   ]
  },
  {
   "cell_type": "code",
   "execution_count": 201,
   "id": "184f1ce4",
   "metadata": {},
   "outputs": [
    {
     "data": {
      "text/html": [
       "<div>\n",
       "<style scoped>\n",
       "    .dataframe tbody tr th:only-of-type {\n",
       "        vertical-align: middle;\n",
       "    }\n",
       "\n",
       "    .dataframe tbody tr th {\n",
       "        vertical-align: top;\n",
       "    }\n",
       "\n",
       "    .dataframe thead th {\n",
       "        text-align: right;\n",
       "    }\n",
       "</style>\n",
       "<table border=\"1\" class=\"dataframe\">\n",
       "  <thead>\n",
       "    <tr style=\"text-align: right;\">\n",
       "      <th></th>\n",
       "      <th>Reviewers</th>\n",
       "      <th>Correlations</th>\n",
       "    </tr>\n",
       "  </thead>\n",
       "  <tbody>\n",
       "    <tr>\n",
       "      <th>0</th>\n",
       "      <td>Steeges</td>\n",
       "      <td>0.0</td>\n",
       "    </tr>\n",
       "    <tr>\n",
       "      <th>1</th>\n",
       "      <td>z4yr</td>\n",
       "      <td>1.0</td>\n",
       "    </tr>\n",
       "    <tr>\n",
       "      <th>2</th>\n",
       "      <td>Kylin</td>\n",
       "      <td>NaN</td>\n",
       "    </tr>\n",
       "    <tr>\n",
       "      <th>3</th>\n",
       "      <td>Jshua</td>\n",
       "      <td>0.0</td>\n",
       "    </tr>\n",
       "  </tbody>\n",
       "</table>\n",
       "</div>"
      ],
      "text/plain": [
       "  Reviewers  Correlations\n",
       "0   Steeges           0.0\n",
       "1      z4yr           1.0\n",
       "2     Kylin           NaN\n",
       "3     Jshua           0.0"
      ]
     },
     "execution_count": 201,
     "metadata": {},
     "output_type": "execute_result"
    }
   ],
   "source": [
    "df = pd.DataFrame()\n",
    "df[\"Reviewers\"] = [\"Steeges\", \"z4yr\", \"Kylin\", \"Jshua\"]\n",
    "df[\"Correlations\"] = [0.0, 1.0, np.NaN, 0.0]\n",
    "df"
   ]
  },
  {
   "cell_type": "code",
   "execution_count": 202,
   "id": "1688ebe0",
   "metadata": {
    "collapsed": true
   },
   "outputs": [
    {
     "data": {
      "application/vnd.plotly.v1+json": {
       "config": {
        "plotlyServerURL": "https://plot.ly"
       },
       "data": [
        {
         "alignmentgroup": "True",
         "hovertemplate": "Reviewers=%{x}<br>Correlations=%{marker.color}<extra></extra>",
         "legendgroup": "",
         "marker": {
          "color": [
           0,
           1,
           null,
           0
          ],
          "coloraxis": "coloraxis",
          "pattern": {
           "shape": ""
          }
         },
         "name": "",
         "offsetgroup": "",
         "orientation": "v",
         "showlegend": false,
         "textposition": "auto",
         "type": "bar",
         "x": [
          "Steeges",
          "z4yr",
          "Kylin",
          "Jshua"
         ],
         "xaxis": "x",
         "y": [
          0,
          1,
          null,
          0
         ],
         "yaxis": "y"
        }
       ],
       "layout": {
        "barmode": "relative",
        "coloraxis": {
         "colorbar": {
          "title": {
           "text": "Correlations"
          }
         },
         "colorscale": [
          [
           0,
           "rgb(158,1,66)"
          ],
          [
           0.1,
           "rgb(213,62,79)"
          ],
          [
           0.2,
           "rgb(244,109,67)"
          ],
          [
           0.3,
           "rgb(253,174,97)"
          ],
          [
           0.4,
           "rgb(254,224,139)"
          ],
          [
           0.5,
           "rgb(255,255,191)"
          ],
          [
           0.6,
           "rgb(230,245,152)"
          ],
          [
           0.7,
           "rgb(171,221,164)"
          ],
          [
           0.8,
           "rgb(102,194,165)"
          ],
          [
           0.9,
           "rgb(50,136,189)"
          ],
          [
           1,
           "rgb(94,79,162)"
          ]
         ]
        },
        "legend": {
         "tracegroupgap": 0
        },
        "template": {
         "data": {
          "pie": [
           {
            "automargin": true,
            "type": "pie"
           }
          ],
          "scatter": [
           {
            "line": {
             "width": 3
            },
            "marker": {
             "size": 9
            },
            "type": "scatter"
           }
          ],
          "scatter3d": [
           {
            "line": {
             "width": 3
            },
            "marker": {
             "size": 9
            },
            "type": "scatter3d"
           }
          ],
          "scattergeo": [
           {
            "line": {
             "width": 3
            },
            "marker": {
             "size": 9
            },
            "type": "scattergeo"
           }
          ],
          "scattergl": [
           {
            "line": {
             "width": 3
            },
            "marker": {
             "size": 9
            },
            "type": "scattergl"
           }
          ],
          "scatterpolar": [
           {
            "line": {
             "width": 3
            },
            "marker": {
             "size": 9
            },
            "type": "scatterpolar"
           }
          ],
          "scatterpolargl": [
           {
            "line": {
             "width": 3
            },
            "marker": {
             "size": 9
            },
            "type": "scatterpolargl"
           }
          ],
          "scatterternary": [
           {
            "line": {
             "width": 3
            },
            "marker": {
             "size": 9
            },
            "type": "scatterternary"
           }
          ],
          "table": [
           {
            "cells": {
             "height": 30
            },
            "header": {
             "height": 36
            },
            "type": "table"
           }
          ]
         },
         "layout": {
          "font": {
           "size": 18
          },
          "xaxis": {
           "title": {
            "standoff": 15
           }
          },
          "yaxis": {
           "title": {
            "standoff": 15
           }
          }
         }
        },
        "title": {
         "text": "Cohen-kappa score of Proof with other reviewers"
        },
        "xaxis": {
         "anchor": "y",
         "domain": [
          0,
          1
         ],
         "title": {
          "text": "Reviewers"
         }
        },
        "yaxis": {
         "anchor": "x",
         "domain": [
          0,
          1
         ],
         "title": {
          "text": "Correlations"
         }
        }
       }
      },
      "text/html": [
       "<div>                            <div id=\"51137ad4-54df-42c8-9cc3-3bd8d518e560\" class=\"plotly-graph-div\" style=\"height:525px; width:100%;\"></div>            <script type=\"text/javascript\">                require([\"plotly\"], function(Plotly) {                    window.PLOTLYENV=window.PLOTLYENV || {};                                    if (document.getElementById(\"51137ad4-54df-42c8-9cc3-3bd8d518e560\")) {                    Plotly.newPlot(                        \"51137ad4-54df-42c8-9cc3-3bd8d518e560\",                        [{\"alignmentgroup\":\"True\",\"hovertemplate\":\"Reviewers=%{x}<br>Correlations=%{marker.color}<extra></extra>\",\"legendgroup\":\"\",\"marker\":{\"color\":[0.0,1.0,null,0.0],\"coloraxis\":\"coloraxis\",\"pattern\":{\"shape\":\"\"}},\"name\":\"\",\"offsetgroup\":\"\",\"orientation\":\"v\",\"showlegend\":false,\"textposition\":\"auto\",\"type\":\"bar\",\"x\":[\"Steeges\",\"z4yr\",\"Kylin\",\"Jshua\"],\"xaxis\":\"x\",\"y\":[0.0,1.0,null,0.0],\"yaxis\":\"y\"}],                        {\"barmode\":\"relative\",\"coloraxis\":{\"colorbar\":{\"title\":{\"text\":\"Correlations\"}},\"colorscale\":[[0.0,\"rgb(158,1,66)\"],[0.1,\"rgb(213,62,79)\"],[0.2,\"rgb(244,109,67)\"],[0.3,\"rgb(253,174,97)\"],[0.4,\"rgb(254,224,139)\"],[0.5,\"rgb(255,255,191)\"],[0.6,\"rgb(230,245,152)\"],[0.7,\"rgb(171,221,164)\"],[0.8,\"rgb(102,194,165)\"],[0.9,\"rgb(50,136,189)\"],[1.0,\"rgb(94,79,162)\"]]},\"legend\":{\"tracegroupgap\":0},\"template\":{\"data\":{\"pie\":[{\"automargin\":true,\"type\":\"pie\"}],\"scatter\":[{\"line\":{\"width\":3},\"marker\":{\"size\":9},\"type\":\"scatter\"}],\"scatter3d\":[{\"line\":{\"width\":3},\"marker\":{\"size\":9},\"type\":\"scatter3d\"}],\"scattergeo\":[{\"line\":{\"width\":3},\"marker\":{\"size\":9},\"type\":\"scattergeo\"}],\"scattergl\":[{\"line\":{\"width\":3},\"marker\":{\"size\":9},\"type\":\"scattergl\"}],\"scatterpolar\":[{\"line\":{\"width\":3},\"marker\":{\"size\":9},\"type\":\"scatterpolar\"}],\"scatterpolargl\":[{\"line\":{\"width\":3},\"marker\":{\"size\":9},\"type\":\"scatterpolargl\"}],\"scatterternary\":[{\"line\":{\"width\":3},\"marker\":{\"size\":9},\"type\":\"scatterternary\"}],\"table\":[{\"cells\":{\"height\":30},\"header\":{\"height\":36},\"type\":\"table\"}]},\"layout\":{\"font\":{\"size\":18},\"xaxis\":{\"title\":{\"standoff\":15}},\"yaxis\":{\"title\":{\"standoff\":15}}}},\"title\":{\"text\":\"Cohen-kappa score of Proof with other reviewers\"},\"xaxis\":{\"anchor\":\"y\",\"domain\":[0.0,1.0],\"title\":{\"text\":\"Reviewers\"}},\"yaxis\":{\"anchor\":\"x\",\"domain\":[0.0,1.0],\"title\":{\"text\":\"Correlations\"}}},                        {\"responsive\": true}                    ).then(function(){\n",
       "                            \n",
       "var gd = document.getElementById('51137ad4-54df-42c8-9cc3-3bd8d518e560');\n",
       "var x = new MutationObserver(function (mutations, observer) {{\n",
       "        var display = window.getComputedStyle(gd).display;\n",
       "        if (!display || display === 'none') {{\n",
       "            console.log([gd, 'removed!']);\n",
       "            Plotly.purge(gd);\n",
       "            observer.disconnect();\n",
       "        }}\n",
       "}});\n",
       "\n",
       "// Listen for the removal of the full notebook cells\n",
       "var notebookContainer = gd.closest('#notebook-container');\n",
       "if (notebookContainer) {{\n",
       "    x.observe(notebookContainer, {childList: true});\n",
       "}}\n",
       "\n",
       "// Listen for the clearing of the current output cell\n",
       "var outputEl = gd.closest('.output');\n",
       "if (outputEl) {{\n",
       "    x.observe(outputEl, {childList: true});\n",
       "}}\n",
       "\n",
       "                        })                };                });            </script>        </div>"
      ]
     },
     "metadata": {},
     "output_type": "display_data"
    }
   ],
   "source": [
    "px.bar(data_frame=df, \n",
    "      x= \"Reviewers\",\n",
    "      y=\"Correlations\",\n",
    "      color=\"Correlations\",\n",
    "       template=\"presentation\",\n",
    "      color_continuous_scale=px.colors.diverging.Spectral,\n",
    "       title=\"Cohen-kappa score of Proof with other reviewers\",\n",
    "      #width=500\n",
    "      )"
   ]
  },
  {
   "cell_type": "code",
   "execution_count": null,
   "id": "7a53aa3d",
   "metadata": {},
   "outputs": [],
   "source": [
    "emmanuel, dog, flob, emma_j, greg"
   ]
  },
  {
   "cell_type": "markdown",
   "id": "6bd02273",
   "metadata": {},
   "source": [
    "## Emmanuel"
   ]
  },
  {
   "cell_type": "code",
   "execution_count": 203,
   "id": "e783cb05",
   "metadata": {
    "collapsed": true
   },
   "outputs": [
    {
     "data": {
      "text/plain": [
       "[['adebola', 0],\n",
       " ['am', 0],\n",
       " ['ann', 0],\n",
       " ['anuj', 0],\n",
       " ['elbeth', 0],\n",
       " ['bfa', 1],\n",
       " ['gold', 1],\n",
       " ['bob', 0],\n",
       " ['lkh', 2],\n",
       " ['waka', 0],\n",
       " ['trice', 2],\n",
       " ['proof', 1],\n",
       " ['emmanuel', 60],\n",
       " ['fizzy', 0],\n",
       " ['dog', 3],\n",
       " ['flob', 1],\n",
       " ['emma_j', 1],\n",
       " ['greg', 1],\n",
       " ['grey', 4],\n",
       " ['stel', 2],\n",
       " ['jshua', 0],\n",
       " ['kish', 1],\n",
       " ['kylin', 0],\n",
       " ['z4yr', 1],\n",
       " ['hound', 1],\n",
       " ['mount', 3],\n",
       " ['nadalie', 1],\n",
       " ['richard', 2],\n",
       " ['ogunjo', 0],\n",
       " ['am2', 2],\n",
       " ['robot', 0],\n",
       " ['ann2', 1],\n",
       " ['steeges', 2],\n",
       " ['vik', 3],\n",
       " ['socal', 1],\n",
       " ['wolfman', 0],\n",
       " ['zer', 0],\n",
       " ['elbeth2', 1],\n",
       " ['bob2', 0],\n",
       " ['lkh2', 0],\n",
       " ['fizzy2', 0],\n",
       " ['trice2', 0],\n",
       " ['flob2', 0],\n",
       " ['greg2', 1],\n",
       " ['grey2', 0],\n",
       " ['stele2', 1],\n",
       " ['hound2', 1],\n",
       " ['richard2', 0],\n",
       " ['ogunjo2', 0],\n",
       " ['vik2', 0],\n",
       " ['wolfman2', 2]]"
      ]
     },
     "execution_count": 203,
     "metadata": {},
     "output_type": "execute_result"
    }
   ],
   "source": [
    "find_common_handles(emmanuel)"
   ]
  },
  {
   "cell_type": "code",
   "execution_count": 365,
   "id": "cb43f876",
   "metadata": {},
   "outputs": [],
   "source": [
    "#dog, grey, mount\n",
    "\n",
    "emma_dog = create_table(emmanuel, dog)\n",
    "emma_grey = create_table(emmanuel, grey)\n",
    "emma_mount = create_table(emmanuel, mount)\n",
    "emma_ml = create_table(emmanuel, ml_anon)"
   ]
  },
  {
   "cell_type": "code",
   "execution_count": 366,
   "id": "beaaa41d",
   "metadata": {},
   "outputs": [
    {
     "data": {
      "text/plain": [
       "[0.3333333333333333, 0.5, 0.3333333333333333, 0.4666666666666667]"
      ]
     },
     "execution_count": 366,
     "metadata": {},
     "output_type": "execute_result"
    }
   ],
   "source": [
    "[total_agreement(emma_dog, \"emmanuel\", \"dog\"), total_agreement(emma_grey, \"emmanuel\", \"grey\"),\n",
    " total_agreement(emma_mount, \"emmanuel\", \"mount\"), total_agreement(emma_ml, \"emmanuel\", \"ml_anon\")]"
   ]
  },
  {
   "cell_type": "code",
   "execution_count": 206,
   "id": "7cded83c",
   "metadata": {},
   "outputs": [
    {
     "data": {
      "text/plain": [
       "[0.0, 0.19999999999999996, 0.0]"
      ]
     },
     "execution_count": 206,
     "metadata": {},
     "output_type": "execute_result"
    }
   ],
   "source": [
    "[cohen_kappa_score(emma_dog[\"Is Sybil? (T or F)emmanuel\"], emma_dog[\"Is Sybil? (T or F)dog\"]),\n",
    " \n",
    "cohen_kappa_score(emma_grey[\"Is Sybil? (T or F)emmanuel\"], emma_grey[\"Is Sybil? (T or F)grey\"]),\n",
    " \n",
    "cohen_kappa_score(emma_mount[\"Is Sybil? (T or F)emmanuel\"], emma_mount[\"Is Sybil? (T or F)mount\"])]"
   ]
  },
  {
   "cell_type": "code",
   "execution_count": 207,
   "id": "74a72512",
   "metadata": {},
   "outputs": [
    {
     "data": {
      "text/html": [
       "<div>\n",
       "<style scoped>\n",
       "    .dataframe tbody tr th:only-of-type {\n",
       "        vertical-align: middle;\n",
       "    }\n",
       "\n",
       "    .dataframe tbody tr th {\n",
       "        vertical-align: top;\n",
       "    }\n",
       "\n",
       "    .dataframe thead th {\n",
       "        text-align: right;\n",
       "    }\n",
       "</style>\n",
       "<table border=\"1\" class=\"dataframe\">\n",
       "  <thead>\n",
       "    <tr style=\"text-align: right;\">\n",
       "      <th></th>\n",
       "      <th>Reviewers</th>\n",
       "      <th>Correlations</th>\n",
       "    </tr>\n",
       "  </thead>\n",
       "  <tbody>\n",
       "    <tr>\n",
       "      <th>0</th>\n",
       "      <td>Dogg</td>\n",
       "      <td>0.0</td>\n",
       "    </tr>\n",
       "    <tr>\n",
       "      <th>1</th>\n",
       "      <td>Grey</td>\n",
       "      <td>0.2</td>\n",
       "    </tr>\n",
       "    <tr>\n",
       "      <th>2</th>\n",
       "      <td>Mount</td>\n",
       "      <td>0.0</td>\n",
       "    </tr>\n",
       "  </tbody>\n",
       "</table>\n",
       "</div>"
      ],
      "text/plain": [
       "  Reviewers  Correlations\n",
       "0      Dogg           0.0\n",
       "1      Grey           0.2\n",
       "2     Mount           0.0"
      ]
     },
     "execution_count": 207,
     "metadata": {},
     "output_type": "execute_result"
    }
   ],
   "source": [
    "df = pd.DataFrame()\n",
    "df[\"Reviewers\"] = [\"Dogg\", \"Grey\", \"Mount\"]\n",
    "df[\"Correlations\"] = [0.0, 0.19999999999999996, 0.0]\n",
    "df"
   ]
  },
  {
   "cell_type": "code",
   "execution_count": 208,
   "id": "795d1c83",
   "metadata": {
    "collapsed": true
   },
   "outputs": [
    {
     "data": {
      "application/vnd.plotly.v1+json": {
       "config": {
        "plotlyServerURL": "https://plot.ly"
       },
       "data": [
        {
         "alignmentgroup": "True",
         "hovertemplate": "Reviewers=%{x}<br>Correlations=%{marker.color}<extra></extra>",
         "legendgroup": "",
         "marker": {
          "color": [
           0,
           0.19999999999999996,
           0
          ],
          "coloraxis": "coloraxis",
          "pattern": {
           "shape": ""
          }
         },
         "name": "",
         "offsetgroup": "",
         "orientation": "v",
         "showlegend": false,
         "textposition": "auto",
         "type": "bar",
         "x": [
          "Dogg",
          "Grey",
          "Mount"
         ],
         "xaxis": "x",
         "y": [
          0,
          0.19999999999999996,
          0
         ],
         "yaxis": "y"
        }
       ],
       "layout": {
        "barmode": "relative",
        "coloraxis": {
         "colorbar": {
          "title": {
           "text": "Correlations"
          }
         },
         "colorscale": [
          [
           0,
           "rgb(158,1,66)"
          ],
          [
           0.1,
           "rgb(213,62,79)"
          ],
          [
           0.2,
           "rgb(244,109,67)"
          ],
          [
           0.3,
           "rgb(253,174,97)"
          ],
          [
           0.4,
           "rgb(254,224,139)"
          ],
          [
           0.5,
           "rgb(255,255,191)"
          ],
          [
           0.6,
           "rgb(230,245,152)"
          ],
          [
           0.7,
           "rgb(171,221,164)"
          ],
          [
           0.8,
           "rgb(102,194,165)"
          ],
          [
           0.9,
           "rgb(50,136,189)"
          ],
          [
           1,
           "rgb(94,79,162)"
          ]
         ]
        },
        "legend": {
         "tracegroupgap": 0
        },
        "template": {
         "data": {
          "pie": [
           {
            "automargin": true,
            "type": "pie"
           }
          ],
          "scatter": [
           {
            "line": {
             "width": 3
            },
            "marker": {
             "size": 9
            },
            "type": "scatter"
           }
          ],
          "scatter3d": [
           {
            "line": {
             "width": 3
            },
            "marker": {
             "size": 9
            },
            "type": "scatter3d"
           }
          ],
          "scattergeo": [
           {
            "line": {
             "width": 3
            },
            "marker": {
             "size": 9
            },
            "type": "scattergeo"
           }
          ],
          "scattergl": [
           {
            "line": {
             "width": 3
            },
            "marker": {
             "size": 9
            },
            "type": "scattergl"
           }
          ],
          "scatterpolar": [
           {
            "line": {
             "width": 3
            },
            "marker": {
             "size": 9
            },
            "type": "scatterpolar"
           }
          ],
          "scatterpolargl": [
           {
            "line": {
             "width": 3
            },
            "marker": {
             "size": 9
            },
            "type": "scatterpolargl"
           }
          ],
          "scatterternary": [
           {
            "line": {
             "width": 3
            },
            "marker": {
             "size": 9
            },
            "type": "scatterternary"
           }
          ],
          "table": [
           {
            "cells": {
             "height": 30
            },
            "header": {
             "height": 36
            },
            "type": "table"
           }
          ]
         },
         "layout": {
          "font": {
           "size": 18
          },
          "xaxis": {
           "title": {
            "standoff": 15
           }
          },
          "yaxis": {
           "title": {
            "standoff": 15
           }
          }
         }
        },
        "title": {
         "text": "Cohen-kappa score of Emmanuel with other reviewers"
        },
        "xaxis": {
         "anchor": "y",
         "domain": [
          0,
          1
         ],
         "title": {
          "text": "Reviewers"
         }
        },
        "yaxis": {
         "anchor": "x",
         "domain": [
          0,
          1
         ],
         "title": {
          "text": "Correlations"
         }
        }
       }
      },
      "text/html": [
       "<div>                            <div id=\"572e45a5-b39d-4569-a018-9fcc181a0d73\" class=\"plotly-graph-div\" style=\"height:525px; width:100%;\"></div>            <script type=\"text/javascript\">                require([\"plotly\"], function(Plotly) {                    window.PLOTLYENV=window.PLOTLYENV || {};                                    if (document.getElementById(\"572e45a5-b39d-4569-a018-9fcc181a0d73\")) {                    Plotly.newPlot(                        \"572e45a5-b39d-4569-a018-9fcc181a0d73\",                        [{\"alignmentgroup\":\"True\",\"hovertemplate\":\"Reviewers=%{x}<br>Correlations=%{marker.color}<extra></extra>\",\"legendgroup\":\"\",\"marker\":{\"color\":[0.0,0.19999999999999996,0.0],\"coloraxis\":\"coloraxis\",\"pattern\":{\"shape\":\"\"}},\"name\":\"\",\"offsetgroup\":\"\",\"orientation\":\"v\",\"showlegend\":false,\"textposition\":\"auto\",\"type\":\"bar\",\"x\":[\"Dogg\",\"Grey\",\"Mount\"],\"xaxis\":\"x\",\"y\":[0.0,0.19999999999999996,0.0],\"yaxis\":\"y\"}],                        {\"barmode\":\"relative\",\"coloraxis\":{\"colorbar\":{\"title\":{\"text\":\"Correlations\"}},\"colorscale\":[[0.0,\"rgb(158,1,66)\"],[0.1,\"rgb(213,62,79)\"],[0.2,\"rgb(244,109,67)\"],[0.3,\"rgb(253,174,97)\"],[0.4,\"rgb(254,224,139)\"],[0.5,\"rgb(255,255,191)\"],[0.6,\"rgb(230,245,152)\"],[0.7,\"rgb(171,221,164)\"],[0.8,\"rgb(102,194,165)\"],[0.9,\"rgb(50,136,189)\"],[1.0,\"rgb(94,79,162)\"]]},\"legend\":{\"tracegroupgap\":0},\"template\":{\"data\":{\"pie\":[{\"automargin\":true,\"type\":\"pie\"}],\"scatter\":[{\"line\":{\"width\":3},\"marker\":{\"size\":9},\"type\":\"scatter\"}],\"scatter3d\":[{\"line\":{\"width\":3},\"marker\":{\"size\":9},\"type\":\"scatter3d\"}],\"scattergeo\":[{\"line\":{\"width\":3},\"marker\":{\"size\":9},\"type\":\"scattergeo\"}],\"scattergl\":[{\"line\":{\"width\":3},\"marker\":{\"size\":9},\"type\":\"scattergl\"}],\"scatterpolar\":[{\"line\":{\"width\":3},\"marker\":{\"size\":9},\"type\":\"scatterpolar\"}],\"scatterpolargl\":[{\"line\":{\"width\":3},\"marker\":{\"size\":9},\"type\":\"scatterpolargl\"}],\"scatterternary\":[{\"line\":{\"width\":3},\"marker\":{\"size\":9},\"type\":\"scatterternary\"}],\"table\":[{\"cells\":{\"height\":30},\"header\":{\"height\":36},\"type\":\"table\"}]},\"layout\":{\"font\":{\"size\":18},\"xaxis\":{\"title\":{\"standoff\":15}},\"yaxis\":{\"title\":{\"standoff\":15}}}},\"title\":{\"text\":\"Cohen-kappa score of Emmanuel with other reviewers\"},\"xaxis\":{\"anchor\":\"y\",\"domain\":[0.0,1.0],\"title\":{\"text\":\"Reviewers\"}},\"yaxis\":{\"anchor\":\"x\",\"domain\":[0.0,1.0],\"title\":{\"text\":\"Correlations\"}}},                        {\"responsive\": true}                    ).then(function(){\n",
       "                            \n",
       "var gd = document.getElementById('572e45a5-b39d-4569-a018-9fcc181a0d73');\n",
       "var x = new MutationObserver(function (mutations, observer) {{\n",
       "        var display = window.getComputedStyle(gd).display;\n",
       "        if (!display || display === 'none') {{\n",
       "            console.log([gd, 'removed!']);\n",
       "            Plotly.purge(gd);\n",
       "            observer.disconnect();\n",
       "        }}\n",
       "}});\n",
       "\n",
       "// Listen for the removal of the full notebook cells\n",
       "var notebookContainer = gd.closest('#notebook-container');\n",
       "if (notebookContainer) {{\n",
       "    x.observe(notebookContainer, {childList: true});\n",
       "}}\n",
       "\n",
       "// Listen for the clearing of the current output cell\n",
       "var outputEl = gd.closest('.output');\n",
       "if (outputEl) {{\n",
       "    x.observe(outputEl, {childList: true});\n",
       "}}\n",
       "\n",
       "                        })                };                });            </script>        </div>"
      ]
     },
     "metadata": {},
     "output_type": "display_data"
    }
   ],
   "source": [
    "px.bar(data_frame=df, \n",
    "      x= \"Reviewers\",\n",
    "      y=\"Correlations\",\n",
    "      color=\"Correlations\",\n",
    "       template=\"presentation\",\n",
    "      color_continuous_scale=px.colors.diverging.Spectral,\n",
    "       title=\"Cohen-kappa score of Emmanuel with other reviewers\",\n",
    "      #width=500\n",
    "      )"
   ]
  },
  {
   "cell_type": "markdown",
   "id": "0a0dd270",
   "metadata": {},
   "source": [
    "## Dogg"
   ]
  },
  {
   "cell_type": "code",
   "execution_count": 209,
   "id": "be7645e3",
   "metadata": {
    "collapsed": true
   },
   "outputs": [
    {
     "data": {
      "text/plain": [
       "[['adebola', 0],\n",
       " ['am', 0],\n",
       " ['ann', 0],\n",
       " ['anuj', 2],\n",
       " ['elbeth', 1],\n",
       " ['bfa', 5],\n",
       " ['gold', 1],\n",
       " ['bob', 1],\n",
       " ['lkh', 3],\n",
       " ['waka', 0],\n",
       " ['trice', 2],\n",
       " ['proof', 1],\n",
       " ['emmanuel', 3],\n",
       " ['fizzy', 0],\n",
       " ['dog', 60],\n",
       " ['flob', 1],\n",
       " ['emma_j', 1],\n",
       " ['greg', 1],\n",
       " ['grey', 1],\n",
       " ['stel', 4],\n",
       " ['jshua', 0],\n",
       " ['kish', 0],\n",
       " ['kylin', 0],\n",
       " ['z4yr', 0],\n",
       " ['hound', 1],\n",
       " ['mount', 0],\n",
       " ['nadalie', 2],\n",
       " ['richard', 0],\n",
       " ['ogunjo', 0],\n",
       " ['am2', 1],\n",
       " ['robot', 0],\n",
       " ['ann2', 3],\n",
       " ['steeges', 1],\n",
       " ['vik', 2],\n",
       " ['socal', 1],\n",
       " ['wolfman', 2],\n",
       " ['zer', 1],\n",
       " ['elbeth2', 1],\n",
       " ['bob2', 3],\n",
       " ['lkh2', 0],\n",
       " ['fizzy2', 1],\n",
       " ['trice2', 0],\n",
       " ['flob2', 0],\n",
       " ['greg2', 2],\n",
       " ['grey2', 1],\n",
       " ['stele2', 1],\n",
       " ['hound2', 1],\n",
       " ['richard2', 1],\n",
       " ['ogunjo2', 0],\n",
       " ['vik2', 0],\n",
       " ['wolfman2', 0]]"
      ]
     },
     "execution_count": 209,
     "metadata": {},
     "output_type": "execute_result"
    }
   ],
   "source": [
    "find_common_handles(dog)"
   ]
  },
  {
   "cell_type": "code",
   "execution_count": 369,
   "id": "e030cc2b",
   "metadata": {},
   "outputs": [],
   "source": [
    "#bfa, emmanuel, bob2 ann2\n",
    "dog_bfa = create_table(dog, bfa)\n",
    "dog_emma = create_table(dog, emmanuel)\n",
    "dog_bob2 = create_table(dog, bob2)\n",
    "dog_ann2 = create_table(dog, ann2)\n",
    "dog_ml = create_table(dog, ml_anon)"
   ]
  },
  {
   "cell_type": "code",
   "execution_count": 370,
   "id": "31d9a98c",
   "metadata": {},
   "outputs": [
    {
     "data": {
      "text/plain": [
       "[0.8, 0.3333333333333333, 1.0, 0.6666666666666666, 0.525]"
      ]
     },
     "execution_count": 370,
     "metadata": {},
     "output_type": "execute_result"
    }
   ],
   "source": [
    "[total_agreement(dog_bfa, \"dog\", \"bfa\"), total_agreement(dog_emma, \"dog\", \"emmanuel\"),\n",
    " total_agreement(dog_bob2, \"dog\", \"bob2\"), total_agreement(dog_ann2, \"dog\", \"ann2\"),\n",
    " total_agreement(dog_ml, \"dog\", \"ml_anon\")]"
   ]
  },
  {
   "cell_type": "code",
   "execution_count": 211,
   "id": "713657e8",
   "metadata": {},
   "outputs": [
    {
     "name": "stderr",
     "output_type": "stream",
     "text": [
      "C:\\Users\\user\\AppData\\Roaming\\Python\\Python37\\site-packages\\sklearn\\metrics\\_classification.py:658: RuntimeWarning:\n",
      "\n",
      "invalid value encountered in true_divide\n",
      "\n"
     ]
    },
    {
     "data": {
      "text/plain": [
       "[0.5454545454545454, 0.0, nan, 0.0]"
      ]
     },
     "execution_count": 211,
     "metadata": {},
     "output_type": "execute_result"
    }
   ],
   "source": [
    "[cohen_kappa_score(dog_bfa[\"Is Sybil? (T or F)dog\"], dog_bfa[\"Is Sybil? (T or F)bfa\"]),\n",
    " \n",
    "cohen_kappa_score(dog_emma[\"Is Sybil? (T or F)dog\"], dog_emma[\"Is Sybil? (T or F)emmanuel\"]),\n",
    " \n",
    "cohen_kappa_score(dog_bob2[\"Is Sybil? (T or F)dog\"], dog_bob2[\"Is Sybil? (T or F)bob2\"]),\n",
    "\n",
    "cohen_kappa_score(dog_ann2[\"Is Sybil? (T or F)dog\"], dog_ann2[\"Is Sybil? (T or F)ann2\"])]"
   ]
  },
  {
   "cell_type": "code",
   "execution_count": 212,
   "id": "6fede1dd",
   "metadata": {
    "scrolled": true
   },
   "outputs": [
    {
     "data": {
      "text/html": [
       "<div>\n",
       "<style scoped>\n",
       "    .dataframe tbody tr th:only-of-type {\n",
       "        vertical-align: middle;\n",
       "    }\n",
       "\n",
       "    .dataframe tbody tr th {\n",
       "        vertical-align: top;\n",
       "    }\n",
       "\n",
       "    .dataframe thead th {\n",
       "        text-align: right;\n",
       "    }\n",
       "</style>\n",
       "<table border=\"1\" class=\"dataframe\">\n",
       "  <thead>\n",
       "    <tr style=\"text-align: right;\">\n",
       "      <th></th>\n",
       "      <th>Reviewers</th>\n",
       "      <th>Correlations</th>\n",
       "    </tr>\n",
       "  </thead>\n",
       "  <tbody>\n",
       "    <tr>\n",
       "      <th>0</th>\n",
       "      <td>BFA</td>\n",
       "      <td>0.545455</td>\n",
       "    </tr>\n",
       "    <tr>\n",
       "      <th>1</th>\n",
       "      <td>Emmanuel</td>\n",
       "      <td>0.000000</td>\n",
       "    </tr>\n",
       "    <tr>\n",
       "      <th>2</th>\n",
       "      <td>Bob</td>\n",
       "      <td>NaN</td>\n",
       "    </tr>\n",
       "    <tr>\n",
       "      <th>3</th>\n",
       "      <td>Ann</td>\n",
       "      <td>0.000000</td>\n",
       "    </tr>\n",
       "  </tbody>\n",
       "</table>\n",
       "</div>"
      ],
      "text/plain": [
       "  Reviewers  Correlations\n",
       "0       BFA      0.545455\n",
       "1  Emmanuel      0.000000\n",
       "2       Bob           NaN\n",
       "3       Ann      0.000000"
      ]
     },
     "execution_count": 212,
     "metadata": {},
     "output_type": "execute_result"
    }
   ],
   "source": [
    "nan = np.NaN\n",
    "\n",
    "df = pd.DataFrame()\n",
    "df[\"Reviewers\"] = [\"BFA\", \"Emmanuel\", \"Bob\", \"Ann\"]\n",
    "df[\"Correlations\"] = [0.5454545454545454, 0.0, nan, 0.0]\n",
    "df"
   ]
  },
  {
   "cell_type": "code",
   "execution_count": 213,
   "id": "acf897ac",
   "metadata": {
    "collapsed": true
   },
   "outputs": [
    {
     "data": {
      "application/vnd.plotly.v1+json": {
       "config": {
        "plotlyServerURL": "https://plot.ly"
       },
       "data": [
        {
         "alignmentgroup": "True",
         "hovertemplate": "Reviewers=%{x}<br>Correlations=%{marker.color}<extra></extra>",
         "legendgroup": "",
         "marker": {
          "color": [
           0.5454545454545454,
           0,
           null,
           0
          ],
          "coloraxis": "coloraxis",
          "pattern": {
           "shape": ""
          }
         },
         "name": "",
         "offsetgroup": "",
         "orientation": "v",
         "showlegend": false,
         "textposition": "auto",
         "type": "bar",
         "x": [
          "BFA",
          "Emmanuel",
          "Bob",
          "Ann"
         ],
         "xaxis": "x",
         "y": [
          0.5454545454545454,
          0,
          null,
          0
         ],
         "yaxis": "y"
        }
       ],
       "layout": {
        "barmode": "relative",
        "coloraxis": {
         "colorbar": {
          "title": {
           "text": "Correlations"
          }
         },
         "colorscale": [
          [
           0,
           "rgb(158,1,66)"
          ],
          [
           0.1,
           "rgb(213,62,79)"
          ],
          [
           0.2,
           "rgb(244,109,67)"
          ],
          [
           0.3,
           "rgb(253,174,97)"
          ],
          [
           0.4,
           "rgb(254,224,139)"
          ],
          [
           0.5,
           "rgb(255,255,191)"
          ],
          [
           0.6,
           "rgb(230,245,152)"
          ],
          [
           0.7,
           "rgb(171,221,164)"
          ],
          [
           0.8,
           "rgb(102,194,165)"
          ],
          [
           0.9,
           "rgb(50,136,189)"
          ],
          [
           1,
           "rgb(94,79,162)"
          ]
         ]
        },
        "legend": {
         "tracegroupgap": 0
        },
        "template": {
         "data": {
          "pie": [
           {
            "automargin": true,
            "type": "pie"
           }
          ],
          "scatter": [
           {
            "line": {
             "width": 3
            },
            "marker": {
             "size": 9
            },
            "type": "scatter"
           }
          ],
          "scatter3d": [
           {
            "line": {
             "width": 3
            },
            "marker": {
             "size": 9
            },
            "type": "scatter3d"
           }
          ],
          "scattergeo": [
           {
            "line": {
             "width": 3
            },
            "marker": {
             "size": 9
            },
            "type": "scattergeo"
           }
          ],
          "scattergl": [
           {
            "line": {
             "width": 3
            },
            "marker": {
             "size": 9
            },
            "type": "scattergl"
           }
          ],
          "scatterpolar": [
           {
            "line": {
             "width": 3
            },
            "marker": {
             "size": 9
            },
            "type": "scatterpolar"
           }
          ],
          "scatterpolargl": [
           {
            "line": {
             "width": 3
            },
            "marker": {
             "size": 9
            },
            "type": "scatterpolargl"
           }
          ],
          "scatterternary": [
           {
            "line": {
             "width": 3
            },
            "marker": {
             "size": 9
            },
            "type": "scatterternary"
           }
          ],
          "table": [
           {
            "cells": {
             "height": 30
            },
            "header": {
             "height": 36
            },
            "type": "table"
           }
          ]
         },
         "layout": {
          "font": {
           "size": 18
          },
          "xaxis": {
           "title": {
            "standoff": 15
           }
          },
          "yaxis": {
           "title": {
            "standoff": 15
           }
          }
         }
        },
        "title": {
         "text": "Cohen-kappa score of Dogg with other reviewers"
        },
        "xaxis": {
         "anchor": "y",
         "domain": [
          0,
          1
         ],
         "title": {
          "text": "Reviewers"
         }
        },
        "yaxis": {
         "anchor": "x",
         "domain": [
          0,
          1
         ],
         "title": {
          "text": "Correlations"
         }
        }
       }
      },
      "text/html": [
       "<div>                            <div id=\"de062b83-ffbd-4eea-93c1-6b960fc6685a\" class=\"plotly-graph-div\" style=\"height:525px; width:100%;\"></div>            <script type=\"text/javascript\">                require([\"plotly\"], function(Plotly) {                    window.PLOTLYENV=window.PLOTLYENV || {};                                    if (document.getElementById(\"de062b83-ffbd-4eea-93c1-6b960fc6685a\")) {                    Plotly.newPlot(                        \"de062b83-ffbd-4eea-93c1-6b960fc6685a\",                        [{\"alignmentgroup\":\"True\",\"hovertemplate\":\"Reviewers=%{x}<br>Correlations=%{marker.color}<extra></extra>\",\"legendgroup\":\"\",\"marker\":{\"color\":[0.5454545454545454,0.0,null,0.0],\"coloraxis\":\"coloraxis\",\"pattern\":{\"shape\":\"\"}},\"name\":\"\",\"offsetgroup\":\"\",\"orientation\":\"v\",\"showlegend\":false,\"textposition\":\"auto\",\"type\":\"bar\",\"x\":[\"BFA\",\"Emmanuel\",\"Bob\",\"Ann\"],\"xaxis\":\"x\",\"y\":[0.5454545454545454,0.0,null,0.0],\"yaxis\":\"y\"}],                        {\"barmode\":\"relative\",\"coloraxis\":{\"colorbar\":{\"title\":{\"text\":\"Correlations\"}},\"colorscale\":[[0.0,\"rgb(158,1,66)\"],[0.1,\"rgb(213,62,79)\"],[0.2,\"rgb(244,109,67)\"],[0.3,\"rgb(253,174,97)\"],[0.4,\"rgb(254,224,139)\"],[0.5,\"rgb(255,255,191)\"],[0.6,\"rgb(230,245,152)\"],[0.7,\"rgb(171,221,164)\"],[0.8,\"rgb(102,194,165)\"],[0.9,\"rgb(50,136,189)\"],[1.0,\"rgb(94,79,162)\"]]},\"legend\":{\"tracegroupgap\":0},\"template\":{\"data\":{\"pie\":[{\"automargin\":true,\"type\":\"pie\"}],\"scatter\":[{\"line\":{\"width\":3},\"marker\":{\"size\":9},\"type\":\"scatter\"}],\"scatter3d\":[{\"line\":{\"width\":3},\"marker\":{\"size\":9},\"type\":\"scatter3d\"}],\"scattergeo\":[{\"line\":{\"width\":3},\"marker\":{\"size\":9},\"type\":\"scattergeo\"}],\"scattergl\":[{\"line\":{\"width\":3},\"marker\":{\"size\":9},\"type\":\"scattergl\"}],\"scatterpolar\":[{\"line\":{\"width\":3},\"marker\":{\"size\":9},\"type\":\"scatterpolar\"}],\"scatterpolargl\":[{\"line\":{\"width\":3},\"marker\":{\"size\":9},\"type\":\"scatterpolargl\"}],\"scatterternary\":[{\"line\":{\"width\":3},\"marker\":{\"size\":9},\"type\":\"scatterternary\"}],\"table\":[{\"cells\":{\"height\":30},\"header\":{\"height\":36},\"type\":\"table\"}]},\"layout\":{\"font\":{\"size\":18},\"xaxis\":{\"title\":{\"standoff\":15}},\"yaxis\":{\"title\":{\"standoff\":15}}}},\"title\":{\"text\":\"Cohen-kappa score of Dogg with other reviewers\"},\"xaxis\":{\"anchor\":\"y\",\"domain\":[0.0,1.0],\"title\":{\"text\":\"Reviewers\"}},\"yaxis\":{\"anchor\":\"x\",\"domain\":[0.0,1.0],\"title\":{\"text\":\"Correlations\"}}},                        {\"responsive\": true}                    ).then(function(){\n",
       "                            \n",
       "var gd = document.getElementById('de062b83-ffbd-4eea-93c1-6b960fc6685a');\n",
       "var x = new MutationObserver(function (mutations, observer) {{\n",
       "        var display = window.getComputedStyle(gd).display;\n",
       "        if (!display || display === 'none') {{\n",
       "            console.log([gd, 'removed!']);\n",
       "            Plotly.purge(gd);\n",
       "            observer.disconnect();\n",
       "        }}\n",
       "}});\n",
       "\n",
       "// Listen for the removal of the full notebook cells\n",
       "var notebookContainer = gd.closest('#notebook-container');\n",
       "if (notebookContainer) {{\n",
       "    x.observe(notebookContainer, {childList: true});\n",
       "}}\n",
       "\n",
       "// Listen for the clearing of the current output cell\n",
       "var outputEl = gd.closest('.output');\n",
       "if (outputEl) {{\n",
       "    x.observe(outputEl, {childList: true});\n",
       "}}\n",
       "\n",
       "                        })                };                });            </script>        </div>"
      ]
     },
     "metadata": {},
     "output_type": "display_data"
    }
   ],
   "source": [
    "px.bar(data_frame=df, \n",
    "      x= \"Reviewers\",\n",
    "      y=\"Correlations\",\n",
    "      color=\"Correlations\",\n",
    "       template=\"presentation\",\n",
    "      color_continuous_scale=px.colors.diverging.Spectral,\n",
    "       title=\"Cohen-kappa score of Dogg with other reviewers\",\n",
    "      #width=500\n",
    "      )"
   ]
  },
  {
   "cell_type": "markdown",
   "id": "af9e7fd5",
   "metadata": {},
   "source": [
    "## Flob"
   ]
  },
  {
   "cell_type": "code",
   "execution_count": 214,
   "id": "65d5354d",
   "metadata": {
    "collapsed": true
   },
   "outputs": [
    {
     "data": {
      "text/plain": [
       "[['adebola', 1],\n",
       " ['am', 0],\n",
       " ['ann', 0],\n",
       " ['anuj', 0],\n",
       " ['elbeth', 2],\n",
       " ['bfa', 2],\n",
       " ['gold', 1],\n",
       " ['bob', 1],\n",
       " ['lkh', 2],\n",
       " ['waka', 2],\n",
       " ['trice', 1],\n",
       " ['proof', 1],\n",
       " ['emmanuel', 1],\n",
       " ['fizzy', 1],\n",
       " ['dog', 1],\n",
       " ['flob', 60],\n",
       " ['emma_j', 1],\n",
       " ['greg', 0],\n",
       " ['grey', 0],\n",
       " ['stel', 2],\n",
       " ['jshua', 2],\n",
       " ['kish', 2],\n",
       " ['kylin', 2],\n",
       " ['z4yr', 2],\n",
       " ['hound', 2],\n",
       " ['mount', 0],\n",
       " ['nadalie', 2],\n",
       " ['richard', 1],\n",
       " ['ogunjo', 1],\n",
       " ['am2', 2],\n",
       " ['robot', 0],\n",
       " ['ann2', 3],\n",
       " ['steeges', 2],\n",
       " ['vik', 2],\n",
       " ['socal', 0],\n",
       " ['wolfman', 1],\n",
       " ['zer', 4],\n",
       " ['elbeth2', 2],\n",
       " ['bob2', 1],\n",
       " ['lkh2', 0],\n",
       " ['fizzy2', 0],\n",
       " ['trice2', 0],\n",
       " ['flob2', 0],\n",
       " ['greg2', 0],\n",
       " ['grey2', 2],\n",
       " ['stele2', 1],\n",
       " ['hound2', 0],\n",
       " ['richard2', 1],\n",
       " ['ogunjo2', 0],\n",
       " ['vik2', 0],\n",
       " ['wolfman2', 2]]"
      ]
     },
     "execution_count": 214,
     "metadata": {},
     "output_type": "execute_result"
    }
   ],
   "source": [
    "find_common_handles(flob)"
   ]
  },
  {
   "cell_type": "code",
   "execution_count": 371,
   "id": "447f4a93",
   "metadata": {},
   "outputs": [],
   "source": [
    "flob_ann2 = create_table(flob, ann2)\n",
    "flob_zer = create_table(flob, zer)\n",
    "flob_ml = create_table(flob, ml_anon)"
   ]
  },
  {
   "cell_type": "code",
   "execution_count": 373,
   "id": "cf43e405",
   "metadata": {},
   "outputs": [
    {
     "data": {
      "text/plain": [
       "[0.6666666666666666, 0.75, 0.8421052631578947]"
      ]
     },
     "execution_count": 373,
     "metadata": {},
     "output_type": "execute_result"
    }
   ],
   "source": [
    "[total_agreement(flob_ann2, \"flob\", \"ann2\"), total_agreement(flob_zer, \"flob\", \"zer\"),\n",
    " total_agreement(flob_ml, \"flob\", \"ml_anon\")]"
   ]
  },
  {
   "cell_type": "code",
   "execution_count": 217,
   "id": "9d235a3a",
   "metadata": {},
   "outputs": [
    {
     "data": {
      "text/plain": [
       "[0.0, 0.0]"
      ]
     },
     "execution_count": 217,
     "metadata": {},
     "output_type": "execute_result"
    }
   ],
   "source": [
    "[cohen_kappa_score(flob_ann2[\"Is Sybil? (T or F)flob\"], flob_ann2[\"Is Sybil? (T or F)ann2\"]),\n",
    " \n",
    "cohen_kappa_score(flob_zer[\"Is Sybil? (T or F)flob\"], flob_zer[\"Is Sybil? (T or F)zer\"])]"
   ]
  },
  {
   "cell_type": "code",
   "execution_count": 218,
   "id": "3ef0cc2b",
   "metadata": {},
   "outputs": [
    {
     "data": {
      "text/html": [
       "<div>\n",
       "<style scoped>\n",
       "    .dataframe tbody tr th:only-of-type {\n",
       "        vertical-align: middle;\n",
       "    }\n",
       "\n",
       "    .dataframe tbody tr th {\n",
       "        vertical-align: top;\n",
       "    }\n",
       "\n",
       "    .dataframe thead th {\n",
       "        text-align: right;\n",
       "    }\n",
       "</style>\n",
       "<table border=\"1\" class=\"dataframe\">\n",
       "  <thead>\n",
       "    <tr style=\"text-align: right;\">\n",
       "      <th></th>\n",
       "      <th>Reviewers</th>\n",
       "      <th>Correlations</th>\n",
       "    </tr>\n",
       "  </thead>\n",
       "  <tbody>\n",
       "    <tr>\n",
       "      <th>0</th>\n",
       "      <td>Ann</td>\n",
       "      <td>0.0</td>\n",
       "    </tr>\n",
       "    <tr>\n",
       "      <th>1</th>\n",
       "      <td>Zer</td>\n",
       "      <td>0.0</td>\n",
       "    </tr>\n",
       "  </tbody>\n",
       "</table>\n",
       "</div>"
      ],
      "text/plain": [
       "  Reviewers  Correlations\n",
       "0       Ann           0.0\n",
       "1       Zer           0.0"
      ]
     },
     "execution_count": 218,
     "metadata": {},
     "output_type": "execute_result"
    }
   ],
   "source": [
    "df = pd.DataFrame()\n",
    "df[\"Reviewers\"] = [\"Ann\", \"Zer\"]\n",
    "df[\"Correlations\"] = [0.0, 0.0]\n",
    "df"
   ]
  },
  {
   "cell_type": "markdown",
   "id": "1dbcc6c1",
   "metadata": {},
   "source": [
    "## Emma_J"
   ]
  },
  {
   "cell_type": "code",
   "execution_count": 219,
   "id": "190b2812",
   "metadata": {
    "collapsed": true
   },
   "outputs": [
    {
     "data": {
      "text/plain": [
       "[['adebola', 0],\n",
       " ['am', 0],\n",
       " ['ann', 1],\n",
       " ['anuj', 2],\n",
       " ['elbeth', 1],\n",
       " ['bfa', 1],\n",
       " ['gold', 1],\n",
       " ['bob', 2],\n",
       " ['lkh', 1],\n",
       " ['waka', 0],\n",
       " ['trice', 0],\n",
       " ['proof', 1],\n",
       " ['emmanuel', 1],\n",
       " ['fizzy', 0],\n",
       " ['dog', 1],\n",
       " ['flob', 1],\n",
       " ['emma_j', 60],\n",
       " ['greg', 0],\n",
       " ['grey', 1],\n",
       " ['stel', 0],\n",
       " ['jshua', 1],\n",
       " ['kish', 1],\n",
       " ['kylin', 0],\n",
       " ['z4yr', 0],\n",
       " ['hound', 2],\n",
       " ['mount', 1],\n",
       " ['nadalie', 3],\n",
       " ['richard', 1],\n",
       " ['ogunjo', 3],\n",
       " ['am2', 1],\n",
       " ['robot', 0],\n",
       " ['ann2', 2],\n",
       " ['steeges', 3],\n",
       " ['vik', 0],\n",
       " ['socal', 0],\n",
       " ['wolfman', 2],\n",
       " ['zer', 1],\n",
       " ['elbeth2', 1],\n",
       " ['bob2', 0],\n",
       " ['lkh2', 0],\n",
       " ['fizzy2', 1],\n",
       " ['trice2', 0],\n",
       " ['flob2', 0],\n",
       " ['greg2', 1],\n",
       " ['grey2', 2],\n",
       " ['stele2', 3],\n",
       " ['hound2', 0],\n",
       " ['richard2', 2],\n",
       " ['ogunjo2', 0],\n",
       " ['vik2', 0],\n",
       " ['wolfman2', 0]]"
      ]
     },
     "execution_count": 219,
     "metadata": {},
     "output_type": "execute_result"
    }
   ],
   "source": [
    "find_common_handles(emma_j)"
   ]
  },
  {
   "cell_type": "code",
   "execution_count": 376,
   "id": "6e659e53",
   "metadata": {},
   "outputs": [],
   "source": [
    "emma_j_steeges = create_table(emma_j, steeges)\n",
    "emma_j_nadalie = create_table(emma_j, nadalie)\n",
    "emma_j_ogunjo = create_table(emma_j, ogunjo)\n",
    "emma_j_ml = create_table(emma_j, ml_anon)"
   ]
  },
  {
   "cell_type": "code",
   "execution_count": 377,
   "id": "30a66a60",
   "metadata": {},
   "outputs": [
    {
     "data": {
      "text/plain": [
       "[1.0, 0.3333333333333333, 0.6666666666666666, 0.8157894736842105]"
      ]
     },
     "execution_count": 377,
     "metadata": {},
     "output_type": "execute_result"
    }
   ],
   "source": [
    "[total_agreement(emma_j_steeges, \"emma_j\", \"steeges\"), total_agreement(emma_j_nadalie, \"emma_j\", \"nadalie\"),\n",
    " total_agreement(emma_j_ogunjo, \"emma_j\", \"ogunjo\"), total_agreement(emma_j_ml, \"emma_j\", \"ml_anon\")]"
   ]
  },
  {
   "cell_type": "code",
   "execution_count": null,
   "id": "32f814ab",
   "metadata": {},
   "outputs": [],
   "source": [
    "names = [adebola, am, ann, anuj, elbeth, bfa, gold, bob, lkh, waka, trice, proof, emmanuel, fizzy, dog, flob, emma_j, greg,\n",
    "        grey, stel, jshua, kish, kylin, z4yr, hound, mount, nadalie, richard, ogunjo, am2, robot, ann2, steeges, vik, socal,\n",
    "        wolfman, zer, elbeth2, bob2, lkh2, fizzy2, trice2, flob2, greg2, grey2, stele2, hound2, richard2, ogunjo2, vik2, wolfman2, ml_anon]"
   ]
  },
  {
   "cell_type": "markdown",
   "id": "047e8c27",
   "metadata": {},
   "source": [
    "## Greg"
   ]
  },
  {
   "cell_type": "code",
   "execution_count": 378,
   "id": "56acbfb8",
   "metadata": {
    "collapsed": true
   },
   "outputs": [
    {
     "data": {
      "text/plain": [
       "[['adebola', 0],\n",
       " ['am', 0],\n",
       " ['ann', 0],\n",
       " ['anuj', 1],\n",
       " ['elbeth', 1],\n",
       " ['bfa', 0],\n",
       " ['gold', 0],\n",
       " ['bob', 1],\n",
       " ['lkh', 1],\n",
       " ['waka', 1],\n",
       " ['trice', 2],\n",
       " ['proof', 0],\n",
       " ['emmanuel', 1],\n",
       " ['fizzy', 1],\n",
       " ['dog', 1],\n",
       " ['flob', 0],\n",
       " ['emma_j', 0],\n",
       " ['greg', 60],\n",
       " ['grey', 1],\n",
       " ['stel', 0],\n",
       " ['jshua', 5],\n",
       " ['kish', 2],\n",
       " ['kylin', 2],\n",
       " ['z4yr', 2],\n",
       " ['hound', 2],\n",
       " ['mount', 3],\n",
       " ['nadalie', 1],\n",
       " ['richard', 5],\n",
       " ['ogunjo', 2],\n",
       " ['am2', 0],\n",
       " ['robot', 2],\n",
       " ['ann2', 3],\n",
       " ['steeges', 0],\n",
       " ['vik', 3],\n",
       " ['socal', 2],\n",
       " ['wolfman', 2],\n",
       " ['zer', 2],\n",
       " ['elbeth2', 0],\n",
       " ['bob2', 1],\n",
       " ['lkh2', 0],\n",
       " ['fizzy2', 0],\n",
       " ['trice2', 1],\n",
       " ['flob2', 0],\n",
       " ['greg2', 0],\n",
       " ['grey2', 0],\n",
       " ['stele2', 1],\n",
       " ['hound2', 0],\n",
       " ['richard2', 2],\n",
       " ['ogunjo2', 0],\n",
       " ['vik2', 0],\n",
       " ['wolfman2', 1],\n",
       " ['ml_anon', 47]]"
      ]
     },
     "execution_count": 378,
     "metadata": {},
     "output_type": "execute_result"
    }
   ],
   "source": [
    "find_common_handles(greg)"
   ]
  },
  {
   "cell_type": "code",
   "execution_count": null,
   "id": "2cc45388",
   "metadata": {},
   "outputs": [],
   "source": []
  },
  {
   "cell_type": "code",
   "execution_count": 379,
   "id": "3992977c",
   "metadata": {},
   "outputs": [],
   "source": [
    "greg_jshua = create_table(greg, jshua)\n",
    "greg_mount = create_table(greg, mount)\n",
    "greg_richard = create_table(greg, richard)\n",
    "greg_ann2 = create_table(greg, ann2)\n",
    "greg_vik = create_table(greg, vik)\n",
    "greg_ml = create_table(greg, ml_anon)"
   ]
  },
  {
   "cell_type": "code",
   "execution_count": 380,
   "id": "d55b2454",
   "metadata": {},
   "outputs": [
    {
     "data": {
      "text/plain": [
       "[0.8, 0.6666666666666666, 0.8, 0.6666666666666666, 1.0, 0.723404255319149]"
      ]
     },
     "execution_count": 380,
     "metadata": {},
     "output_type": "execute_result"
    }
   ],
   "source": [
    "[total_agreement(greg_jshua, \"greg\", \"jshua\"), total_agreement(greg_mount, \"greg\", \"mount\"),\n",
    " total_agreement(greg_richard, \"greg\", \"richard\"), total_agreement(greg_ann2,\"greg\", \"ann2\"),\n",
    " total_agreement(greg_vik,\"greg\", \"vik\"), total_agreement(greg_ml, \"greg\", \"ml_anon\")]"
   ]
  },
  {
   "cell_type": "code",
   "execution_count": 381,
   "id": "2fa2c01b",
   "metadata": {},
   "outputs": [
    {
     "data": {
      "text/plain": [
       "52"
      ]
     },
     "execution_count": 381,
     "metadata": {},
     "output_type": "execute_result"
    }
   ],
   "source": [
    "len(names)"
   ]
  },
  {
   "cell_type": "markdown",
   "id": "e77fb73b",
   "metadata": {},
   "source": [
    "## Grey"
   ]
  },
  {
   "cell_type": "code",
   "execution_count": 382,
   "id": "7c79dbe1",
   "metadata": {
    "collapsed": true
   },
   "outputs": [
    {
     "data": {
      "text/plain": [
       "[['adebola', 0],\n",
       " ['am', 0],\n",
       " ['ann', 1],\n",
       " ['anuj', 2],\n",
       " ['elbeth', 1],\n",
       " ['bfa', 1],\n",
       " ['gold', 0],\n",
       " ['bob', 3],\n",
       " ['lkh', 0],\n",
       " ['waka', 2],\n",
       " ['trice', 2],\n",
       " ['proof', 2],\n",
       " ['emmanuel', 4],\n",
       " ['fizzy', 1],\n",
       " ['dog', 1],\n",
       " ['flob', 0],\n",
       " ['emma_j', 1],\n",
       " ['greg', 1],\n",
       " ['grey', 60],\n",
       " ['stel', 2],\n",
       " ['jshua', 0],\n",
       " ['kish', 2],\n",
       " ['kylin', 2],\n",
       " ['z4yr', 2],\n",
       " ['hound', 2],\n",
       " ['mount', 3],\n",
       " ['nadalie', 2],\n",
       " ['richard', 2],\n",
       " ['ogunjo', 3],\n",
       " ['am2', 1],\n",
       " ['robot', 0],\n",
       " ['ann2', 1],\n",
       " ['steeges', 1],\n",
       " ['vik', 1],\n",
       " ['socal', 1],\n",
       " ['wolfman', 1],\n",
       " ['zer', 0],\n",
       " ['elbeth2', 2],\n",
       " ['bob2', 0],\n",
       " ['lkh2', 0],\n",
       " ['fizzy2', 0],\n",
       " ['trice2', 0],\n",
       " ['flob2', 0],\n",
       " ['greg2', 1],\n",
       " ['grey2', 0],\n",
       " ['stele2', 1],\n",
       " ['hound2', 0],\n",
       " ['richard2', 0],\n",
       " ['ogunjo2', 1],\n",
       " ['vik2', 0],\n",
       " ['wolfman2', 1],\n",
       " ['ml_anon', 45]]"
      ]
     },
     "execution_count": 382,
     "metadata": {},
     "output_type": "execute_result"
    }
   ],
   "source": [
    "find_common_handles(grey)"
   ]
  },
  {
   "cell_type": "code",
   "execution_count": 383,
   "id": "5ef83664",
   "metadata": {},
   "outputs": [],
   "source": [
    "grey_bob = create_table(grey, bob)\n",
    "grey_emma = create_table(grey, emmanuel)\n",
    "grey_mount = create_table(grey, mount)\n",
    "grey_ogunjo = create_table(grey, ogunjo)\n",
    "grey_ml = create_table(grey, ml_anon)"
   ]
  },
  {
   "cell_type": "code",
   "execution_count": 384,
   "id": "11dfdb9f",
   "metadata": {},
   "outputs": [
    {
     "data": {
      "text/plain": [
       "[1.0, 0.5, 0.6666666666666666, 0.6666666666666666, 0.4666666666666667]"
      ]
     },
     "execution_count": 384,
     "metadata": {},
     "output_type": "execute_result"
    }
   ],
   "source": [
    "[total_agreement(grey_bob, \"grey\", \"bob\"), total_agreement(grey_emma, \"grey\", \"emmanuel\"),\n",
    " total_agreement(grey_mount, \"grey\", \"mount\"), total_agreement(grey_ogunjo,\"grey\", \"ogunjo\"),\n",
    " total_agreement(grey_ml, \"grey\", \"ml_anon\")]"
   ]
  },
  {
   "cell_type": "markdown",
   "id": "fe35a724",
   "metadata": {},
   "source": [
    "## Stel"
   ]
  },
  {
   "cell_type": "code",
   "execution_count": 385,
   "id": "bdc902ef",
   "metadata": {
    "collapsed": true
   },
   "outputs": [
    {
     "data": {
      "text/plain": [
       "[['adebola', 0],\n",
       " ['am', 0],\n",
       " ['ann', 0],\n",
       " ['anuj', 2],\n",
       " ['elbeth', 0],\n",
       " ['bfa', 0],\n",
       " ['gold', 1],\n",
       " ['bob', 1],\n",
       " ['lkh', 3],\n",
       " ['waka', 0],\n",
       " ['trice', 1],\n",
       " ['proof', 1],\n",
       " ['emmanuel', 2],\n",
       " ['fizzy', 2],\n",
       " ['dog', 4],\n",
       " ['flob', 2],\n",
       " ['emma_j', 0],\n",
       " ['greg', 0],\n",
       " ['grey', 2],\n",
       " ['stel', 60],\n",
       " ['jshua', 1],\n",
       " ['kish', 0],\n",
       " ['kylin', 0],\n",
       " ['z4yr', 0],\n",
       " ['hound', 3],\n",
       " ['mount', 3],\n",
       " ['nadalie', 2],\n",
       " ['richard', 0],\n",
       " ['ogunjo', 0],\n",
       " ['am2', 2],\n",
       " ['robot', 1],\n",
       " ['ann2', 2],\n",
       " ['steeges', 1],\n",
       " ['vik', 3],\n",
       " ['socal', 2],\n",
       " ['wolfman', 3],\n",
       " ['zer', 0],\n",
       " ['elbeth2', 3],\n",
       " ['bob2', 1],\n",
       " ['lkh2', 0],\n",
       " ['fizzy2', 1],\n",
       " ['trice2', 0],\n",
       " ['flob2', 0],\n",
       " ['greg2', 0],\n",
       " ['grey2', 0],\n",
       " ['stele2', 1],\n",
       " ['hound2', 0],\n",
       " ['richard2', 1],\n",
       " ['ogunjo2', 1],\n",
       " ['vik2', 0],\n",
       " ['wolfman2', 0],\n",
       " ['ml_anon', 40]]"
      ]
     },
     "execution_count": 385,
     "metadata": {},
     "output_type": "execute_result"
    }
   ],
   "source": [
    "find_common_handles(stel)"
   ]
  },
  {
   "cell_type": "code",
   "execution_count": 387,
   "id": "dea15487",
   "metadata": {},
   "outputs": [],
   "source": [
    "stel_dog = create_table(stel, dog)\n",
    "stel_hound = create_table(stel, hound)\n",
    "stel_mount = create_table(stel, mount)\n",
    "stel_vik = create_table(stel, vik)\n",
    "stel_wolf = create_table(stel, wolfman)\n",
    "stel_elbeth2 = create_table(stel, elbeth2)\n",
    "stel_ml = create_table(stel, ml_anon)"
   ]
  },
  {
   "cell_type": "code",
   "execution_count": 389,
   "id": "ed0cea82",
   "metadata": {
    "collapsed": true
   },
   "outputs": [
    {
     "data": {
      "text/plain": [
       "[0.5,\n",
       " 0.3333333333333333,\n",
       " 0.6666666666666666,\n",
       " 0.6666666666666666,\n",
       " 0.6666666666666666,\n",
       " 0.3333333333333333,\n",
       " 0.575]"
      ]
     },
     "execution_count": 389,
     "metadata": {},
     "output_type": "execute_result"
    }
   ],
   "source": [
    "[total_agreement(stel_dog, \"stel\", \"dog\"), total_agreement(stel_hound, \"stel\", \"hound\"),\n",
    " total_agreement(stel_mount, \"stel\", \"mount\"), total_agreement(stel_vik,\"stel\", \"vik\"),\n",
    " total_agreement(stel_wolf,\"stel\", \"wolfman\"), total_agreement(stel_elbeth2,\"stel\", \"elbeth2\"),\n",
    " total_agreement(stel_ml, \"stel\", \"ml_anon\")]"
   ]
  },
  {
   "cell_type": "markdown",
   "id": "59a39fa5",
   "metadata": {},
   "source": [
    "###  Jshua"
   ]
  },
  {
   "cell_type": "code",
   "execution_count": 390,
   "id": "739322ba",
   "metadata": {
    "collapsed": true
   },
   "outputs": [
    {
     "data": {
      "text/plain": [
       "[['adebola', 0],\n",
       " ['am', 0],\n",
       " ['ann', 0],\n",
       " ['anuj', 0],\n",
       " ['elbeth', 1],\n",
       " ['bfa', 2],\n",
       " ['gold', 2],\n",
       " ['bob', 0],\n",
       " ['lkh', 1],\n",
       " ['waka', 0],\n",
       " ['trice', 1],\n",
       " ['proof', 4],\n",
       " ['emmanuel', 0],\n",
       " ['fizzy', 0],\n",
       " ['dog', 0],\n",
       " ['flob', 2],\n",
       " ['emma_j', 1],\n",
       " ['greg', 5],\n",
       " ['grey', 0],\n",
       " ['stel', 1],\n",
       " ['jshua', 60],\n",
       " ['kish', 3],\n",
       " ['kylin', 0],\n",
       " ['z4yr', 1],\n",
       " ['hound', 3],\n",
       " ['mount', 2],\n",
       " ['nadalie', 0],\n",
       " ['richard', 0],\n",
       " ['ogunjo', 1],\n",
       " ['am2', 1],\n",
       " ['robot', 1],\n",
       " ['ann2', 4],\n",
       " ['steeges', 3],\n",
       " ['vik', 1],\n",
       " ['socal', 1],\n",
       " ['wolfman', 4],\n",
       " ['zer', 0],\n",
       " ['elbeth2', 0],\n",
       " ['bob2', 0],\n",
       " ['lkh2', 0],\n",
       " ['fizzy2', 0],\n",
       " ['trice2', 0],\n",
       " ['flob2', 0],\n",
       " ['greg2', 0],\n",
       " ['grey2', 0],\n",
       " ['stele2', 1],\n",
       " ['hound2', 1],\n",
       " ['richard2', 1],\n",
       " ['ogunjo2', 0],\n",
       " ['vik2', 0],\n",
       " ['wolfman2', 1],\n",
       " ['ml_anon', 47]]"
      ]
     },
     "execution_count": 390,
     "metadata": {},
     "output_type": "execute_result"
    }
   ],
   "source": [
    "find_common_handles(jshua)"
   ]
  },
  {
   "cell_type": "code",
   "execution_count": 391,
   "id": "55b2234a",
   "metadata": {},
   "outputs": [],
   "source": [
    "jhsua_kish = create_table(jshua, kish)\n",
    "jshua_hound = create_table(jshua, hound)\n",
    "jshua_ann2 = create_table(jshua, ann2)\n",
    "jshua_steeges = create_table(jshua, steeges)\n",
    "jshua_wolf = create_table(jshua, wolfman)\n",
    "jshua_ml = create_table(jshua, ml_anon)"
   ]
  },
  {
   "cell_type": "code",
   "execution_count": 393,
   "id": "7673bed7",
   "metadata": {},
   "outputs": [
    {
     "data": {
      "text/plain": [
       "[0.6666666666666666, 0.6666666666666666, 0.75, 1.0, 0.5, 0.7446808510638298]"
      ]
     },
     "execution_count": 393,
     "metadata": {},
     "output_type": "execute_result"
    }
   ],
   "source": [
    "[total_agreement(jhsua_kish, \"jshua\", \"kish\"), total_agreement(jshua_hound, \"jshua\", \"hound\"),\n",
    " total_agreement(jshua_ann2, \"jshua\", \"ann2\"), total_agreement(jshua_steeges,\"jshua\", \"steeges\"),\n",
    " total_agreement(jshua_wolf,\"jshua\", \"wolfman\"), total_agreement(jshua_ml, \"jshua\", \"ml_anon\")]"
   ]
  },
  {
   "cell_type": "markdown",
   "id": "1233f7b4",
   "metadata": {},
   "source": [
    "## Kish"
   ]
  },
  {
   "cell_type": "code",
   "execution_count": 394,
   "id": "8076c8ac",
   "metadata": {
    "collapsed": true
   },
   "outputs": [
    {
     "data": {
      "text/plain": [
       "[['adebola', 1],\n",
       " ['am', 0],\n",
       " ['ann', 0],\n",
       " ['anuj', 0],\n",
       " ['elbeth', 0],\n",
       " ['bfa', 3],\n",
       " ['gold', 0],\n",
       " ['bob', 2],\n",
       " ['lkh', 1],\n",
       " ['waka', 0],\n",
       " ['trice', 1],\n",
       " ['proof', 1],\n",
       " ['emmanuel', 1],\n",
       " ['fizzy', 0],\n",
       " ['dog', 0],\n",
       " ['flob', 2],\n",
       " ['emma_j', 1],\n",
       " ['greg', 2],\n",
       " ['grey', 2],\n",
       " ['stel', 0],\n",
       " ['jshua', 3],\n",
       " ['kish', 60],\n",
       " ['kylin', 1],\n",
       " ['z4yr', 0],\n",
       " ['hound', 2],\n",
       " ['mount', 1],\n",
       " ['nadalie', 2],\n",
       " ['richard', 2],\n",
       " ['ogunjo', 1],\n",
       " ['am2', 1],\n",
       " ['robot', 0],\n",
       " ['ann2', 1],\n",
       " ['steeges', 0],\n",
       " ['vik', 1],\n",
       " ['socal', 1],\n",
       " ['wolfman', 1],\n",
       " ['zer', 0],\n",
       " ['elbeth2', 1],\n",
       " ['bob2', 1],\n",
       " ['lkh2', 1],\n",
       " ['fizzy2', 1],\n",
       " ['trice2', 0],\n",
       " ['flob2', 0],\n",
       " ['greg2', 0],\n",
       " ['grey2', 1],\n",
       " ['stele2', 1],\n",
       " ['hound2', 0],\n",
       " ['richard2', 1],\n",
       " ['ogunjo2', 1],\n",
       " ['vik2', 0],\n",
       " ['wolfman2', 0],\n",
       " ['ml_anon', 39]]"
      ]
     },
     "execution_count": 394,
     "metadata": {},
     "output_type": "execute_result"
    }
   ],
   "source": [
    "find_common_handles(kish)"
   ]
  },
  {
   "cell_type": "code",
   "execution_count": 395,
   "id": "22e8dddb",
   "metadata": {},
   "outputs": [],
   "source": [
    "kish_ml = create_table(kish, ml_anon)"
   ]
  },
  {
   "cell_type": "code",
   "execution_count": 396,
   "id": "762260e9",
   "metadata": {},
   "outputs": [
    {
     "data": {
      "text/plain": [
       "0.6153846153846154"
      ]
     },
     "execution_count": 396,
     "metadata": {},
     "output_type": "execute_result"
    }
   ],
   "source": [
    "total_agreement(kish_ml, \"kish\", \"ml_anon\")"
   ]
  },
  {
   "cell_type": "markdown",
   "id": "1bacb81f",
   "metadata": {},
   "source": [
    "## Kylin"
   ]
  },
  {
   "cell_type": "code",
   "execution_count": 397,
   "id": "ad988d84",
   "metadata": {
    "collapsed": true
   },
   "outputs": [
    {
     "data": {
      "text/plain": [
       "[['adebola', 0],\n",
       " ['am', 0],\n",
       " ['ann', 0],\n",
       " ['anuj', 1],\n",
       " ['elbeth', 2],\n",
       " ['bfa', 0],\n",
       " ['gold', 2],\n",
       " ['bob', 0],\n",
       " ['lkh', 2],\n",
       " ['waka', 0],\n",
       " ['trice', 2],\n",
       " ['proof', 3],\n",
       " ['emmanuel', 0],\n",
       " ['fizzy', 0],\n",
       " ['dog', 0],\n",
       " ['flob', 2],\n",
       " ['emma_j', 0],\n",
       " ['greg', 2],\n",
       " ['grey', 2],\n",
       " ['stel', 0],\n",
       " ['jshua', 0],\n",
       " ['kish', 1],\n",
       " ['kylin', 60],\n",
       " ['z4yr', 1],\n",
       " ['hound', 3],\n",
       " ['mount', 1],\n",
       " ['nadalie', 4],\n",
       " ['richard', 3],\n",
       " ['ogunjo', 1],\n",
       " ['am2', 1],\n",
       " ['robot', 0],\n",
       " ['ann2', 0],\n",
       " ['steeges', 2],\n",
       " ['vik', 2],\n",
       " ['socal', 0],\n",
       " ['wolfman', 0],\n",
       " ['zer', 1],\n",
       " ['elbeth2', 1],\n",
       " ['bob2', 0],\n",
       " ['lkh2', 0],\n",
       " ['fizzy2', 0],\n",
       " ['trice2', 0],\n",
       " ['flob2', 1],\n",
       " ['greg2', 0],\n",
       " ['grey2', 0],\n",
       " ['stele2', 0],\n",
       " ['hound2', 0],\n",
       " ['richard2', 0],\n",
       " ['ogunjo2', 1],\n",
       " ['vik2', 0],\n",
       " ['wolfman2', 0],\n",
       " ['ml_anon', 41]]"
      ]
     },
     "execution_count": 397,
     "metadata": {},
     "output_type": "execute_result"
    }
   ],
   "source": [
    "find_common_handles(kylin)"
   ]
  },
  {
   "cell_type": "code",
   "execution_count": 398,
   "id": "6fb587ca",
   "metadata": {},
   "outputs": [],
   "source": [
    "kylin_hound = create_table(kylin, hound)\n",
    "kylin_nada = create_table(kylin, nadalie)\n",
    "kylin_richard = create_table(kylin, richard)\n",
    "kylin_ml = create_table(kylin, ml_anon)"
   ]
  },
  {
   "cell_type": "code",
   "execution_count": 400,
   "id": "d8ce65cc",
   "metadata": {},
   "outputs": [
    {
     "data": {
      "text/plain": [
       "[0.5, 0.6666666666666666, 1.0, 0.8780487804878049]"
      ]
     },
     "execution_count": 400,
     "metadata": {},
     "output_type": "execute_result"
    }
   ],
   "source": [
    "[total_agreement(kylin_nada, \"kylin\", \"nadalie\"), total_agreement(kylin_hound, \"kylin\", \"hound\"),\n",
    " total_agreement(kylin_richard,\"kylin\", \"richard\"), total_agreement(kylin_ml, \"kylin\", \"ml_anon\")]"
   ]
  },
  {
   "cell_type": "markdown",
   "id": "bd65eec7",
   "metadata": {},
   "source": [
    "## Z4yr"
   ]
  },
  {
   "cell_type": "code",
   "execution_count": 401,
   "id": "3ce02bdb",
   "metadata": {
    "collapsed": true
   },
   "outputs": [
    {
     "data": {
      "text/plain": [
       "[['adebola', 1],\n",
       " ['am', 0],\n",
       " ['ann', 0],\n",
       " ['anuj', 1],\n",
       " ['elbeth', 3],\n",
       " ['bfa', 0],\n",
       " ['gold', 4],\n",
       " ['bob', 6],\n",
       " ['lkh', 3],\n",
       " ['waka', 0],\n",
       " ['trice', 2],\n",
       " ['proof', 5],\n",
       " ['emmanuel', 1],\n",
       " ['fizzy', 1],\n",
       " ['dog', 0],\n",
       " ['flob', 2],\n",
       " ['emma_j', 0],\n",
       " ['greg', 2],\n",
       " ['grey', 2],\n",
       " ['stel', 0],\n",
       " ['jshua', 1],\n",
       " ['kish', 0],\n",
       " ['kylin', 1],\n",
       " ['z4yr', 60],\n",
       " ['hound', 2],\n",
       " ['mount', 2],\n",
       " ['nadalie', 0],\n",
       " ['richard', 2],\n",
       " ['ogunjo', 0],\n",
       " ['am2', 1],\n",
       " ['robot', 0],\n",
       " ['ann2', 3],\n",
       " ['steeges', 3],\n",
       " ['vik', 0],\n",
       " ['socal', 0],\n",
       " ['wolfman', 1],\n",
       " ['zer', 1],\n",
       " ['elbeth2', 0],\n",
       " ['bob2', 1],\n",
       " ['lkh2', 0],\n",
       " ['fizzy2', 0],\n",
       " ['trice2', 0],\n",
       " ['flob2', 0],\n",
       " ['greg2', 0],\n",
       " ['grey2', 0],\n",
       " ['stele2', 0],\n",
       " ['hound2', 0],\n",
       " ['richard2', 0],\n",
       " ['ogunjo2', 0],\n",
       " ['vik2', 0],\n",
       " ['wolfman2', 1],\n",
       " ['ml_anon', 42]]"
      ]
     },
     "execution_count": 401,
     "metadata": {},
     "output_type": "execute_result"
    }
   ],
   "source": [
    "find_common_handles(z4yr)"
   ]
  },
  {
   "cell_type": "code",
   "execution_count": 402,
   "id": "6e2dc469",
   "metadata": {},
   "outputs": [],
   "source": [
    "z4yr_ann2 = create_table(z4yr, ann2)\n",
    "z4yr_steeges = create_table(z4yr, steeges)\n",
    "z4yr_ml = create_table(z4yr, ml_anon)"
   ]
  },
  {
   "cell_type": "code",
   "execution_count": 403,
   "id": "71d69683",
   "metadata": {},
   "outputs": [
    {
     "data": {
      "text/plain": [
       "[0.3333333333333333, 1.0, 0.8333333333333334]"
      ]
     },
     "execution_count": 403,
     "metadata": {},
     "output_type": "execute_result"
    }
   ],
   "source": [
    "[total_agreement(z4yr_ann2, \"z4yr\", \"ann2\"), total_agreement(z4yr_steeges, \"z4yr\", \"steeges\"),\n",
    " total_agreement(z4yr_ml, \"z4yr\", \"ml_anon\")]"
   ]
  },
  {
   "cell_type": "markdown",
   "id": "a50bed42",
   "metadata": {},
   "source": [
    "## Hound"
   ]
  },
  {
   "cell_type": "code",
   "execution_count": 404,
   "id": "670faa44",
   "metadata": {
    "collapsed": true
   },
   "outputs": [
    {
     "data": {
      "text/plain": [
       "[['adebola', 0],\n",
       " ['am', 0],\n",
       " ['ann', 1],\n",
       " ['anuj', 1],\n",
       " ['elbeth', 2],\n",
       " ['bfa', 0],\n",
       " ['gold', 0],\n",
       " ['bob', 1],\n",
       " ['lkh', 4],\n",
       " ['waka', 0],\n",
       " ['trice', 1],\n",
       " ['proof', 1],\n",
       " ['emmanuel', 1],\n",
       " ['fizzy', 2],\n",
       " ['dog', 1],\n",
       " ['flob', 2],\n",
       " ['emma_j', 2],\n",
       " ['greg', 2],\n",
       " ['grey', 2],\n",
       " ['stel', 3],\n",
       " ['jshua', 3],\n",
       " ['kish', 2],\n",
       " ['kylin', 3],\n",
       " ['z4yr', 2],\n",
       " ['hound', 60],\n",
       " ['mount', 0],\n",
       " ['nadalie', 2],\n",
       " ['richard', 2],\n",
       " ['ogunjo', 0],\n",
       " ['am2', 1],\n",
       " ['robot', 2],\n",
       " ['ann2', 2],\n",
       " ['steeges', 0],\n",
       " ['vik', 2],\n",
       " ['socal', 3],\n",
       " ['wolfman', 2],\n",
       " ['zer', 2],\n",
       " ['elbeth2', 1],\n",
       " ['bob2', 0],\n",
       " ['lkh2', 1],\n",
       " ['fizzy2', 0],\n",
       " ['trice2', 0],\n",
       " ['flob2', 0],\n",
       " ['greg2', 0],\n",
       " ['grey2', 0],\n",
       " ['stele2', 1],\n",
       " ['hound2', 2],\n",
       " ['richard2', 0],\n",
       " ['ogunjo2', 1],\n",
       " ['vik2', 0],\n",
       " ['wolfman2', 0],\n",
       " ['ml_anon', 43]]"
      ]
     },
     "execution_count": 404,
     "metadata": {},
     "output_type": "execute_result"
    }
   ],
   "source": [
    "find_common_handles(hound)"
   ]
  },
  {
   "cell_type": "code",
   "execution_count": 405,
   "id": "d0e21dad",
   "metadata": {},
   "outputs": [],
   "source": [
    "hound_socal = create_table(hound, socal)\n",
    "hound_ml = create_table(hound, ml_anon)"
   ]
  },
  {
   "cell_type": "code",
   "execution_count": 406,
   "id": "ba23add8",
   "metadata": {},
   "outputs": [
    {
     "data": {
      "text/plain": [
       "[1.0, 0.627906976744186]"
      ]
     },
     "execution_count": 406,
     "metadata": {},
     "output_type": "execute_result"
    }
   ],
   "source": [
    "[ total_agreement(hound_socal, \"hound\", \"socal\"), total_agreement(hound_ml, \"hound\", \"ml_anon\")]"
   ]
  },
  {
   "cell_type": "markdown",
   "id": "7dbb2e35",
   "metadata": {},
   "source": [
    "## Mount"
   ]
  },
  {
   "cell_type": "code",
   "execution_count": 407,
   "id": "c3c741cd",
   "metadata": {
    "collapsed": true
   },
   "outputs": [
    {
     "data": {
      "text/plain": [
       "[['adebola', 0],\n",
       " ['am', 0],\n",
       " ['ann', 0],\n",
       " ['anuj', 0],\n",
       " ['elbeth', 4],\n",
       " ['bfa', 2],\n",
       " ['gold', 1],\n",
       " ['bob', 0],\n",
       " ['lkh', 1],\n",
       " ['waka', 1],\n",
       " ['trice', 1],\n",
       " ['proof', 1],\n",
       " ['emmanuel', 3],\n",
       " ['fizzy', 2],\n",
       " ['dog', 0],\n",
       " ['flob', 0],\n",
       " ['emma_j', 1],\n",
       " ['greg', 3],\n",
       " ['grey', 3],\n",
       " ['stel', 3],\n",
       " ['jshua', 2],\n",
       " ['kish', 1],\n",
       " ['kylin', 1],\n",
       " ['z4yr', 2],\n",
       " ['hound', 0],\n",
       " ['mount', 58],\n",
       " ['nadalie', 1],\n",
       " ['richard', 4],\n",
       " ['ogunjo', 0],\n",
       " ['am2', 0],\n",
       " ['robot', 0],\n",
       " ['ann2', 1],\n",
       " ['steeges', 3],\n",
       " ['vik', 4],\n",
       " ['socal', 1],\n",
       " ['wolfman', 0],\n",
       " ['zer', 2],\n",
       " ['elbeth2', 3],\n",
       " ['bob2', 0],\n",
       " ['lkh2', 0],\n",
       " ['fizzy2', 0],\n",
       " ['trice2', 0],\n",
       " ['flob2', 0],\n",
       " ['greg2', 1],\n",
       " ['grey2', 0],\n",
       " ['stele2', 0],\n",
       " ['hound2', 1],\n",
       " ['richard2', 0],\n",
       " ['ogunjo2', 0],\n",
       " ['vik2', 0],\n",
       " ['wolfman2', 0],\n",
       " ['ml_anon', 43]]"
      ]
     },
     "execution_count": 407,
     "metadata": {},
     "output_type": "execute_result"
    }
   ],
   "source": [
    "find_common_handles(mount)"
   ]
  },
  {
   "cell_type": "code",
   "execution_count": 408,
   "id": "f52c1caf",
   "metadata": {},
   "outputs": [],
   "source": [
    "mount_richard = create_table(mount, richard)\n",
    "mount_steeges = create_table(mount, steeges)\n",
    "mount_vik = create_table(mount, vik)\n",
    "mount_elbeth2 = create_table(mount, elbeth2)\n",
    "mount_ml = create_table(mount, ml_anon)"
   ]
  },
  {
   "cell_type": "code",
   "execution_count": 409,
   "id": "56ae8a62",
   "metadata": {},
   "outputs": [
    {
     "data": {
      "text/plain": [
       "[1.0, 1.0, 1.0, 0.0, 0.8372093023255814]"
      ]
     },
     "execution_count": 409,
     "metadata": {},
     "output_type": "execute_result"
    }
   ],
   "source": [
    "[total_agreement(mount_richard, \"mount\", \"richard\"), total_agreement(mount_steeges, \"mount\", \"steeges\"),\n",
    " total_agreement(mount_vik,\"mount\", \"vik\"), total_agreement(mount_elbeth2,\"mount\", \"elbeth2\"),\n",
    " total_agreement(mount_ml, \"mount\", \"ml_anon\")]"
   ]
  },
  {
   "cell_type": "markdown",
   "id": "75f69409",
   "metadata": {},
   "source": [
    "## Nadalie"
   ]
  },
  {
   "cell_type": "code",
   "execution_count": 410,
   "id": "6abc7a14",
   "metadata": {
    "collapsed": true
   },
   "outputs": [
    {
     "data": {
      "text/plain": [
       "[['adebola', 0],\n",
       " ['am', 0],\n",
       " ['ann', 0],\n",
       " ['anuj', 1],\n",
       " ['elbeth', 0],\n",
       " ['bfa', 1],\n",
       " ['gold', 2],\n",
       " ['bob', 3],\n",
       " ['lkh', 2],\n",
       " ['waka', 1],\n",
       " ['trice', 1],\n",
       " ['proof', 0],\n",
       " ['emmanuel', 1],\n",
       " ['fizzy', 1],\n",
       " ['dog', 2],\n",
       " ['flob', 2],\n",
       " ['emma_j', 3],\n",
       " ['greg', 1],\n",
       " ['grey', 2],\n",
       " ['stel', 2],\n",
       " ['jshua', 0],\n",
       " ['kish', 2],\n",
       " ['kylin', 4],\n",
       " ['z4yr', 0],\n",
       " ['hound', 2],\n",
       " ['mount', 1],\n",
       " ['nadalie', 60],\n",
       " ['richard', 2],\n",
       " ['ogunjo', 1],\n",
       " ['am2', 1],\n",
       " ['robot', 2],\n",
       " ['ann2', 2],\n",
       " ['steeges', 3],\n",
       " ['vik', 1],\n",
       " ['socal', 0],\n",
       " ['wolfman', 0],\n",
       " ['zer', 5],\n",
       " ['elbeth2', 2],\n",
       " ['bob2', 1],\n",
       " ['lkh2', 0],\n",
       " ['fizzy2', 0],\n",
       " ['trice2', 0],\n",
       " ['flob2', 0],\n",
       " ['greg2', 0],\n",
       " ['grey2', 0],\n",
       " ['stele2', 4],\n",
       " ['hound2', 0],\n",
       " ['richard2', 1],\n",
       " ['ogunjo2', 1],\n",
       " ['vik2', 0],\n",
       " ['wolfman2', 1],\n",
       " ['ml_anon', 44]]"
      ]
     },
     "execution_count": 410,
     "metadata": {},
     "output_type": "execute_result"
    }
   ],
   "source": [
    "find_common_handles(nadalie)"
   ]
  },
  {
   "cell_type": "code",
   "execution_count": 411,
   "id": "83a3366f",
   "metadata": {},
   "outputs": [],
   "source": [
    "nadalie_steeges = create_table(nadalie, steeges)\n",
    "nadalie_zer = create_table(nadalie, zer)\n",
    "nadalie_ml = create_table(nadalie, ml_anon)"
   ]
  },
  {
   "cell_type": "code",
   "execution_count": 412,
   "id": "eb8ce64e",
   "metadata": {},
   "outputs": [
    {
     "data": {
      "text/plain": [
       "[0.3333333333333333, 1.0, 0.5454545454545454]"
      ]
     },
     "execution_count": 412,
     "metadata": {},
     "output_type": "execute_result"
    }
   ],
   "source": [
    " [total_agreement(nadalie_steeges,\"nadalie\", \"steeges\"), total_agreement(nadalie_zer,\"nadalie\", \"zer\"),\n",
    " total_agreement(nadalie_ml, \"nadalie\", \"ml_anon\")]"
   ]
  },
  {
   "cell_type": "markdown",
   "id": "0dce9c0e",
   "metadata": {},
   "source": [
    "## Richard"
   ]
  },
  {
   "cell_type": "code",
   "execution_count": 413,
   "id": "ecec2afd",
   "metadata": {
    "collapsed": true
   },
   "outputs": [
    {
     "data": {
      "text/plain": [
       "[['adebola', 1],\n",
       " ['am', 0],\n",
       " ['ann', 0],\n",
       " ['anuj', 1],\n",
       " ['elbeth', 3],\n",
       " ['bfa', 2],\n",
       " ['gold', 1],\n",
       " ['bob', 2],\n",
       " ['lkh', 4],\n",
       " ['waka', 0],\n",
       " ['trice', 2],\n",
       " ['proof', 1],\n",
       " ['emmanuel', 2],\n",
       " ['fizzy', 4],\n",
       " ['dog', 0],\n",
       " ['flob', 1],\n",
       " ['emma_j', 1],\n",
       " ['greg', 5],\n",
       " ['grey', 2],\n",
       " ['stel', 0],\n",
       " ['jshua', 0],\n",
       " ['kish', 2],\n",
       " ['kylin', 3],\n",
       " ['z4yr', 2],\n",
       " ['hound', 2],\n",
       " ['mount', 4],\n",
       " ['nadalie', 2],\n",
       " ['richard', 60],\n",
       " ['ogunjo', 0],\n",
       " ['am2', 0],\n",
       " ['robot', 2],\n",
       " ['ann2', 2],\n",
       " ['steeges', 1],\n",
       " ['vik', 0],\n",
       " ['socal', 2],\n",
       " ['wolfman', 0],\n",
       " ['zer', 2],\n",
       " ['elbeth2', 2],\n",
       " ['bob2', 2],\n",
       " ['lkh2', 0],\n",
       " ['fizzy2', 0],\n",
       " ['trice2', 0],\n",
       " ['flob2', 0],\n",
       " ['greg2', 0],\n",
       " ['grey2', 0],\n",
       " ['stele2', 1],\n",
       " ['hound2', 0],\n",
       " ['richard2', 3],\n",
       " ['ogunjo2', 1],\n",
       " ['vik2', 0],\n",
       " ['wolfman2', 0],\n",
       " ['ml_anon', 44]]"
      ]
     },
     "execution_count": 413,
     "metadata": {},
     "output_type": "execute_result"
    }
   ],
   "source": [
    "find_common_handles(richard)"
   ]
  },
  {
   "cell_type": "code",
   "execution_count": 414,
   "id": "bcf80766",
   "metadata": {},
   "outputs": [],
   "source": [
    "ric_lkh = create_table(richard, lkh)\n",
    "ric_ric2 = create_table(richard, richard2)\n",
    "ric_ml = create_table(richard, ml_anon)"
   ]
  },
  {
   "cell_type": "code",
   "execution_count": 415,
   "id": "e6b498a2",
   "metadata": {},
   "outputs": [
    {
     "data": {
      "text/plain": [
       "[0.75, 0.6666666666666666, 0.6136363636363636]"
      ]
     },
     "execution_count": 415,
     "metadata": {},
     "output_type": "execute_result"
    }
   ],
   "source": [
    " [total_agreement(ric_lkh,\"richard\", \"lkh\"), total_agreement(ric_ric2,\"richard\", \"richard2\"),\n",
    " total_agreement(ric_ml, \"richard\", \"ml_anon\")]"
   ]
  },
  {
   "cell_type": "markdown",
   "id": "b7c9e04a",
   "metadata": {},
   "source": [
    "## Ogunjosam"
   ]
  },
  {
   "cell_type": "code",
   "execution_count": 416,
   "id": "9b8d3e39",
   "metadata": {
    "collapsed": true
   },
   "outputs": [
    {
     "data": {
      "text/plain": [
       "[['adebola', 0],\n",
       " ['am', 0],\n",
       " ['ann', 0],\n",
       " ['anuj', 0],\n",
       " ['elbeth', 0],\n",
       " ['bfa', 0],\n",
       " ['gold', 1],\n",
       " ['bob', 1],\n",
       " ['lkh', 3],\n",
       " ['waka', 2],\n",
       " ['trice', 2],\n",
       " ['proof', 1],\n",
       " ['emmanuel', 0],\n",
       " ['fizzy', 0],\n",
       " ['dog', 0],\n",
       " ['flob', 1],\n",
       " ['emma_j', 3],\n",
       " ['greg', 2],\n",
       " ['grey', 3],\n",
       " ['stel', 0],\n",
       " ['jshua', 1],\n",
       " ['kish', 1],\n",
       " ['kylin', 1],\n",
       " ['z4yr', 0],\n",
       " ['hound', 0],\n",
       " ['mount', 0],\n",
       " ['nadalie', 1],\n",
       " ['richard', 0],\n",
       " ['ogunjo', 60],\n",
       " ['am2', 1],\n",
       " ['robot', 1],\n",
       " ['ann2', 1],\n",
       " ['steeges', 1],\n",
       " ['vik', 1],\n",
       " ['socal', 2],\n",
       " ['wolfman', 3],\n",
       " ['zer', 2],\n",
       " ['elbeth2', 1],\n",
       " ['bob2', 0],\n",
       " ['lkh2', 0],\n",
       " ['fizzy2', 1],\n",
       " ['trice2', 1],\n",
       " ['flob2', 1],\n",
       " ['greg2', 0],\n",
       " ['grey2', 1],\n",
       " ['stele2', 2],\n",
       " ['hound2', 1],\n",
       " ['richard2', 1],\n",
       " ['ogunjo2', 0],\n",
       " ['vik2', 0],\n",
       " ['wolfman2', 0],\n",
       " ['ml_anon', 40]]"
      ]
     },
     "execution_count": 416,
     "metadata": {},
     "output_type": "execute_result"
    }
   ],
   "source": [
    "find_common_handles(ogunjo)"
   ]
  },
  {
   "cell_type": "code",
   "execution_count": 417,
   "id": "6a50d555",
   "metadata": {},
   "outputs": [],
   "source": [
    "ogunjo_wolf = create_table(ogunjo, wolfman)\n",
    "ogunjo_ml = create_table(ogunjo, ml_anon)"
   ]
  },
  {
   "cell_type": "code",
   "execution_count": 418,
   "id": "07097f86",
   "metadata": {},
   "outputs": [
    {
     "data": {
      "text/plain": [
       "[0.6666666666666666, 0.8]"
      ]
     },
     "execution_count": 418,
     "metadata": {},
     "output_type": "execute_result"
    }
   ],
   "source": [
    " [ total_agreement(ogunjo_wolf,\"ogunjo\", \"wolfman\"), total_agreement(ogunjo_ml, \"ogunjo\", \"ml_anon\")]"
   ]
  },
  {
   "cell_type": "markdown",
   "id": "47e9525b",
   "metadata": {},
   "source": [
    "## Am2"
   ]
  },
  {
   "cell_type": "code",
   "execution_count": 419,
   "id": "8ab6a530",
   "metadata": {
    "collapsed": true
   },
   "outputs": [
    {
     "data": {
      "text/plain": [
       "[['adebola', 0],\n",
       " ['am', 0],\n",
       " ['ann', 0],\n",
       " ['anuj', 1],\n",
       " ['elbeth', 1],\n",
       " ['bfa', 0],\n",
       " ['gold', 0],\n",
       " ['bob', 2],\n",
       " ['lkh', 1],\n",
       " ['waka', 2],\n",
       " ['trice', 0],\n",
       " ['proof', 2],\n",
       " ['emmanuel', 2],\n",
       " ['fizzy', 1],\n",
       " ['dog', 1],\n",
       " ['flob', 2],\n",
       " ['emma_j', 1],\n",
       " ['greg', 0],\n",
       " ['grey', 1],\n",
       " ['stel', 2],\n",
       " ['jshua', 1],\n",
       " ['kish', 1],\n",
       " ['kylin', 1],\n",
       " ['z4yr', 1],\n",
       " ['hound', 1],\n",
       " ['mount', 0],\n",
       " ['nadalie', 1],\n",
       " ['richard', 0],\n",
       " ['ogunjo', 1],\n",
       " ['am2', 60],\n",
       " ['robot', 0],\n",
       " ['ann2', 3],\n",
       " ['steeges', 1],\n",
       " ['vik', 1],\n",
       " ['socal', 0],\n",
       " ['wolfman', 0],\n",
       " ['zer', 0],\n",
       " ['elbeth2', 1],\n",
       " ['bob2', 0],\n",
       " ['lkh2', 0],\n",
       " ['fizzy2', 0],\n",
       " ['trice2', 0],\n",
       " ['flob2', 0],\n",
       " ['greg2', 0],\n",
       " ['grey2', 2],\n",
       " ['stele2', 0],\n",
       " ['hound2', 0],\n",
       " ['richard2', 1],\n",
       " ['ogunjo2', 1],\n",
       " ['vik2', 0],\n",
       " ['wolfman2', 1],\n",
       " ['ml_anon', 44]]"
      ]
     },
     "execution_count": 419,
     "metadata": {},
     "output_type": "execute_result"
    }
   ],
   "source": [
    "find_common_handles(am2)"
   ]
  },
  {
   "cell_type": "code",
   "execution_count": 421,
   "id": "f4a1a82b",
   "metadata": {},
   "outputs": [
    {
     "data": {
      "text/plain": [
       "[0.0, 0.0, 0.0, 1.0, 1.0, 0.6666666666666666, 0.5, 0.6136363636363636]"
      ]
     },
     "execution_count": 421,
     "metadata": {},
     "output_type": "execute_result"
    }
   ],
   "source": [
    "am_bob = create_table(am2, bob)\n",
    "am_waka = create_table(am2, waka)\n",
    "am_emma = create_table(am2, emmanuel)\n",
    "am_flob = create_table(am2, flob)\n",
    "am_stel = create_table(am2, stel)\n",
    "am_ann2 = create_table(am2, ann2)\n",
    "am_grey2 = create_table(am2, grey2)\n",
    "am_ml = create_table(am2, ml_anon)\n",
    "\n",
    "[total_agreement(am_bob, \"am2\", \"bob\"), total_agreement(am_waka, \"am2\", \"waka\"),\n",
    " total_agreement(am_emma, \"am2\", \"emmanuel\"), total_agreement(am_flob,\"am2\", \"flob\"),\n",
    " total_agreement(am_stel, \"am2\", \"stel\"), total_agreement(am_ann2,\"am2\", \"ann2\"),\n",
    " total_agreement(am_grey2,\"am2\", \"grey2\"), total_agreement(am_ml, \"am2\", \"ml_anon\")]"
   ]
  },
  {
   "cell_type": "markdown",
   "id": "a9fc144c",
   "metadata": {},
   "source": [
    "## Robot"
   ]
  },
  {
   "cell_type": "code",
   "execution_count": 422,
   "id": "bcb2b24d",
   "metadata": {
    "collapsed": true
   },
   "outputs": [
    {
     "data": {
      "text/plain": [
       "[['adebola', 0],\n",
       " ['am', 0],\n",
       " ['ann', 0],\n",
       " ['anuj', 1],\n",
       " ['elbeth', 0],\n",
       " ['bfa', 0],\n",
       " ['gold', 1],\n",
       " ['bob', 1],\n",
       " ['lkh', 0],\n",
       " ['waka', 1],\n",
       " ['trice', 0],\n",
       " ['proof', 0],\n",
       " ['emmanuel', 0],\n",
       " ['fizzy', 0],\n",
       " ['dog', 0],\n",
       " ['flob', 0],\n",
       " ['emma_j', 0],\n",
       " ['greg', 2],\n",
       " ['grey', 0],\n",
       " ['stel', 1],\n",
       " ['jshua', 1],\n",
       " ['kish', 0],\n",
       " ['kylin', 0],\n",
       " ['z4yr', 0],\n",
       " ['hound', 2],\n",
       " ['mount', 0],\n",
       " ['nadalie', 2],\n",
       " ['richard', 2],\n",
       " ['ogunjo', 1],\n",
       " ['am2', 0],\n",
       " ['robot', 15],\n",
       " ['ann2', 2],\n",
       " ['steeges', 0],\n",
       " ['vik', 0],\n",
       " ['socal', 0],\n",
       " ['wolfman', 0],\n",
       " ['zer', 1],\n",
       " ['elbeth2', 0],\n",
       " ['bob2', 0],\n",
       " ['lkh2', 0],\n",
       " ['fizzy2', 0],\n",
       " ['trice2', 0],\n",
       " ['flob2', 0],\n",
       " ['greg2', 0],\n",
       " ['grey2', 0],\n",
       " ['stele2', 1],\n",
       " ['hound2', 0],\n",
       " ['richard2', 1],\n",
       " ['ogunjo2', 1],\n",
       " ['vik2', 0],\n",
       " ['wolfman2', 0],\n",
       " ['ml_anon', 10]]"
      ]
     },
     "execution_count": 422,
     "metadata": {},
     "output_type": "execute_result"
    }
   ],
   "source": [
    "find_common_handles(robot)"
   ]
  },
  {
   "cell_type": "code",
   "execution_count": 423,
   "id": "8a5d6792",
   "metadata": {},
   "outputs": [],
   "source": [
    "rob_greg = create_table(robot, greg)\n",
    "rob_nada = create_table(robot, nadalie)\n",
    "rob_ric = create_table(robot, richard)\n",
    "rob_ml = create_table(robot, ml_anon)"
   ]
  },
  {
   "cell_type": "code",
   "execution_count": 424,
   "id": "59b64e5a",
   "metadata": {},
   "outputs": [
    {
     "data": {
      "text/plain": [
       "[1.0, 1.0, 1.0, 0.6]"
      ]
     },
     "execution_count": 424,
     "metadata": {},
     "output_type": "execute_result"
    }
   ],
   "source": [
    " [total_agreement(rob_greg,\"robot\", \"greg\"), total_agreement(rob_nada,\"robot\", \"nadalie\"),\n",
    " total_agreement(rob_ric,\"robot\", \"richard\"), total_agreement(rob_ml, \"robot\", \"ml_anon\")]"
   ]
  },
  {
   "cell_type": "markdown",
   "id": "79140ef2",
   "metadata": {},
   "source": [
    "## ANN2"
   ]
  },
  {
   "cell_type": "code",
   "execution_count": 425,
   "id": "3fa163c1",
   "metadata": {
    "collapsed": true
   },
   "outputs": [
    {
     "data": {
      "text/plain": [
       "[['adebola', 0],\n",
       " ['am', 0],\n",
       " ['ann', 0],\n",
       " ['anuj', 1],\n",
       " ['elbeth', 2],\n",
       " ['bfa', 1],\n",
       " ['gold', 2],\n",
       " ['bob', 3],\n",
       " ['lkh', 2],\n",
       " ['waka', 0],\n",
       " ['trice', 1],\n",
       " ['proof', 2],\n",
       " ['emmanuel', 1],\n",
       " ['fizzy', 1],\n",
       " ['dog', 3],\n",
       " ['flob', 3],\n",
       " ['emma_j', 2],\n",
       " ['greg', 3],\n",
       " ['grey', 1],\n",
       " ['stel', 2],\n",
       " ['jshua', 4],\n",
       " ['kish', 1],\n",
       " ['kylin', 0],\n",
       " ['z4yr', 3],\n",
       " ['hound', 2],\n",
       " ['mount', 1],\n",
       " ['nadalie', 2],\n",
       " ['richard', 2],\n",
       " ['ogunjo', 1],\n",
       " ['am2', 3],\n",
       " ['robot', 2],\n",
       " ['ann2', 60],\n",
       " ['steeges', 2],\n",
       " ['vik', 0],\n",
       " ['socal', 0],\n",
       " ['wolfman', 2],\n",
       " ['zer', 1],\n",
       " ['elbeth2', 2],\n",
       " ['bob2', 1],\n",
       " ['lkh2', 0],\n",
       " ['fizzy2', 0],\n",
       " ['trice2', 0],\n",
       " ['flob2', 0],\n",
       " ['greg2', 0],\n",
       " ['grey2', 0],\n",
       " ['stele2', 1],\n",
       " ['hound2', 1],\n",
       " ['richard2', 3],\n",
       " ['ogunjo2', 0],\n",
       " ['vik2', 0],\n",
       " ['wolfman2', 1],\n",
       " ['ml_anon', 41]]"
      ]
     },
     "execution_count": 425,
     "metadata": {},
     "output_type": "execute_result"
    }
   ],
   "source": [
    "find_common_handles(ann2)"
   ]
  },
  {
   "cell_type": "code",
   "execution_count": 426,
   "id": "31c3a6f3",
   "metadata": {},
   "outputs": [
    {
     "data": {
      "text/plain": [
       "[0.6666666666666666, 0.5853658536585366]"
      ]
     },
     "execution_count": 426,
     "metadata": {},
     "output_type": "execute_result"
    }
   ],
   "source": [
    "ann2_ric2 = create_table(ann2, richard2)\n",
    "ann2_ml = create_table(ann2, ml_anon)\n",
    "\n",
    "[total_agreement(ann2_ric2,\"ann2\", \"richard2\"), total_agreement(ann2_ml, \"ann2\", \"ml_anon\")]"
   ]
  },
  {
   "cell_type": "markdown",
   "id": "8211806b",
   "metadata": {},
   "source": [
    "## Steeges"
   ]
  },
  {
   "cell_type": "code",
   "execution_count": 427,
   "id": "8b432471",
   "metadata": {
    "collapsed": true
   },
   "outputs": [
    {
     "data": {
      "text/plain": [
       "[['adebola', 0],\n",
       " ['am', 0],\n",
       " ['ann', 0],\n",
       " ['anuj', 3],\n",
       " ['elbeth', 0],\n",
       " ['bfa', 0],\n",
       " ['gold', 1],\n",
       " ['bob', 1],\n",
       " ['lkh', 1],\n",
       " ['waka', 2],\n",
       " ['trice', 0],\n",
       " ['proof', 3],\n",
       " ['emmanuel', 2],\n",
       " ['fizzy', 1],\n",
       " ['dog', 1],\n",
       " ['flob', 2],\n",
       " ['emma_j', 3],\n",
       " ['greg', 0],\n",
       " ['grey', 1],\n",
       " ['stel', 1],\n",
       " ['jshua', 3],\n",
       " ['kish', 0],\n",
       " ['kylin', 2],\n",
       " ['z4yr', 3],\n",
       " ['hound', 0],\n",
       " ['mount', 3],\n",
       " ['nadalie', 3],\n",
       " ['richard', 1],\n",
       " ['ogunjo', 1],\n",
       " ['am2', 1],\n",
       " ['robot', 0],\n",
       " ['ann2', 2],\n",
       " ['steeges', 60],\n",
       " ['vik', 3],\n",
       " ['socal', 0],\n",
       " ['wolfman', 2],\n",
       " ['zer', 7],\n",
       " ['elbeth2', 1],\n",
       " ['bob2', 0],\n",
       " ['lkh2', 0],\n",
       " ['fizzy2', 0],\n",
       " ['trice2', 0],\n",
       " ['flob2', 0],\n",
       " ['greg2', 0],\n",
       " ['grey2', 0],\n",
       " ['stele2', 2],\n",
       " ['hound2', 1],\n",
       " ['richard2', 0],\n",
       " ['ogunjo2', 0],\n",
       " ['vik2', 0],\n",
       " ['wolfman2', 3],\n",
       " ['ml_anon', 44]]"
      ]
     },
     "execution_count": 427,
     "metadata": {},
     "output_type": "execute_result"
    }
   ],
   "source": [
    "find_common_handles(steeges)"
   ]
  },
  {
   "cell_type": "code",
   "execution_count": 437,
   "id": "ca9cb9c7",
   "metadata": {},
   "outputs": [],
   "source": [
    "steeges_anuj = create_table(steeges, anuj)\n",
    "steeges_vik = create_table(steeges, vik)\n",
    "steeges_zer = create_table(steeges, zer)\n",
    "steeges_wolf = create_table(steeges, wolfman2)\n",
    "steeges_ml = create_table(steeges, ml_anon)"
   ]
  },
  {
   "cell_type": "code",
   "execution_count": 438,
   "id": "a2266bf8",
   "metadata": {},
   "outputs": [
    {
     "data": {
      "text/plain": [
       "[0.3333333333333333, 1.0, 0.2857142857142857, 1.0, 0.7272727272727273]"
      ]
     },
     "execution_count": 438,
     "metadata": {},
     "output_type": "execute_result"
    }
   ],
   "source": [
    " [total_agreement(steeges_anuj,\"steeges\", \"anuj\"), total_agreement(steeges_vik,\"steeges\", \"vik\"),\n",
    " total_agreement(steeges_zer,\"steeges\", \"zer\"), total_agreement(steeges_wolf,\"steeges\", \"wolfman2\"),\n",
    "  total_agreement(steeges_ml, \"steeges\", \"ml_anon\")]"
   ]
  },
  {
   "cell_type": "markdown",
   "id": "fc7df0da",
   "metadata": {},
   "source": [
    "## Vik"
   ]
  },
  {
   "cell_type": "code",
   "execution_count": 439,
   "id": "6f7be065",
   "metadata": {
    "collapsed": true
   },
   "outputs": [
    {
     "data": {
      "text/plain": [
       "[['adebola', 0],\n",
       " ['am', 1],\n",
       " ['ann', 0],\n",
       " ['anuj', 2],\n",
       " ['elbeth', 1],\n",
       " ['bfa', 2],\n",
       " ['gold', 0],\n",
       " ['bob', 1],\n",
       " ['lkh', 1],\n",
       " ['waka', 0],\n",
       " ['trice', 2],\n",
       " ['proof', 1],\n",
       " ['emmanuel', 3],\n",
       " ['fizzy', 1],\n",
       " ['dog', 2],\n",
       " ['flob', 2],\n",
       " ['emma_j', 0],\n",
       " ['greg', 3],\n",
       " ['grey', 1],\n",
       " ['stel', 3],\n",
       " ['jshua', 1],\n",
       " ['kish', 1],\n",
       " ['kylin', 2],\n",
       " ['z4yr', 0],\n",
       " ['hound', 2],\n",
       " ['mount', 4],\n",
       " ['nadalie', 1],\n",
       " ['richard', 0],\n",
       " ['ogunjo', 1],\n",
       " ['am2', 1],\n",
       " ['robot', 0],\n",
       " ['ann2', 0],\n",
       " ['steeges', 3],\n",
       " ['vik', 60],\n",
       " ['socal', 0],\n",
       " ['wolfman', 2],\n",
       " ['zer', 2],\n",
       " ['elbeth2', 0],\n",
       " ['bob2', 0],\n",
       " ['lkh2', 0],\n",
       " ['fizzy2', 1],\n",
       " ['trice2', 0],\n",
       " ['flob2', 0],\n",
       " ['greg2', 1],\n",
       " ['grey2', 2],\n",
       " ['stele2', 0],\n",
       " ['hound2', 2],\n",
       " ['richard2', 2],\n",
       " ['ogunjo2', 0],\n",
       " ['vik2', 0],\n",
       " ['wolfman2', 2],\n",
       " ['ml_anon', 41]]"
      ]
     },
     "execution_count": 439,
     "metadata": {},
     "output_type": "execute_result"
    }
   ],
   "source": [
    "find_common_handles(vik)"
   ]
  },
  {
   "cell_type": "code",
   "execution_count": 440,
   "id": "2b4b6989",
   "metadata": {},
   "outputs": [],
   "source": [
    "vik_emma = create_table(vik, emmanuel)\n",
    "vik_ml = create_table(vik, ml_anon)"
   ]
  },
  {
   "cell_type": "code",
   "execution_count": 442,
   "id": "2565999a",
   "metadata": {},
   "outputs": [
    {
     "data": {
      "text/plain": [
       "[0.3333333333333333, 0.7804878048780488]"
      ]
     },
     "execution_count": 442,
     "metadata": {},
     "output_type": "execute_result"
    }
   ],
   "source": [
    "[total_agreement(vik_emma,\"vik\", \"emmanuel\"), total_agreement(vik_ml, \"vik\", \"ml_anon\")]"
   ]
  },
  {
   "cell_type": "markdown",
   "id": "36876deb",
   "metadata": {},
   "source": [
    "## Socal"
   ]
  },
  {
   "cell_type": "code",
   "execution_count": 443,
   "id": "54b8f160",
   "metadata": {
    "collapsed": true
   },
   "outputs": [
    {
     "data": {
      "text/plain": [
       "[['adebola', 0],\n",
       " ['am', 0],\n",
       " ['ann', 0],\n",
       " ['anuj', 1],\n",
       " ['elbeth', 2],\n",
       " ['bfa', 1],\n",
       " ['gold', 0],\n",
       " ['bob', 0],\n",
       " ['lkh', 2],\n",
       " ['waka', 2],\n",
       " ['trice', 3],\n",
       " ['proof', 1],\n",
       " ['emmanuel', 1],\n",
       " ['fizzy', 3],\n",
       " ['dog', 1],\n",
       " ['flob', 0],\n",
       " ['emma_j', 0],\n",
       " ['greg', 2],\n",
       " ['grey', 1],\n",
       " ['stel', 2],\n",
       " ['jshua', 1],\n",
       " ['kish', 1],\n",
       " ['kylin', 0],\n",
       " ['z4yr', 0],\n",
       " ['hound', 3],\n",
       " ['mount', 1],\n",
       " ['nadalie', 0],\n",
       " ['richard', 2],\n",
       " ['ogunjo', 2],\n",
       " ['am2', 0],\n",
       " ['robot', 0],\n",
       " ['ann2', 0],\n",
       " ['steeges', 0],\n",
       " ['vik', 0],\n",
       " ['socal', 60],\n",
       " ['wolfman', 1],\n",
       " ['zer', 0],\n",
       " ['elbeth2', 1],\n",
       " ['bob2', 0],\n",
       " ['lkh2', 0],\n",
       " ['fizzy2', 1],\n",
       " ['trice2', 0],\n",
       " ['flob2', 0],\n",
       " ['greg2', 0],\n",
       " ['grey2', 0],\n",
       " ['stele2', 0],\n",
       " ['hound2', 1],\n",
       " ['richard2', 1],\n",
       " ['ogunjo2', 0],\n",
       " ['vik2', 0],\n",
       " ['wolfman2', 1],\n",
       " ['ml_anon', 44]]"
      ]
     },
     "execution_count": 443,
     "metadata": {},
     "output_type": "execute_result"
    }
   ],
   "source": [
    "find_common_handles(socal)"
   ]
  },
  {
   "cell_type": "code",
   "execution_count": 444,
   "id": "5c87f7dd",
   "metadata": {},
   "outputs": [
    {
     "data": {
      "text/plain": [
       "[0.3333333333333333, 1.0, 0.7727272727272727]"
      ]
     },
     "execution_count": 444,
     "metadata": {},
     "output_type": "execute_result"
    }
   ],
   "source": [
    "socal_fizzy = create_table(socal, fizzy)\n",
    "socal_hound = create_table(socal, hound)\n",
    "socal_ml = create_table(socal, ml_anon)\n",
    "\n",
    "\n",
    "[total_agreement(socal_fizzy,\"socal\", \"fizzy\"), total_agreement(socal_hound,\"socal\", \"hound\"),\n",
    " total_agreement(socal_ml, \"socal\", \"ml_anon\")]"
   ]
  },
  {
   "cell_type": "code",
   "execution_count": 512,
   "id": "9d2d0d43",
   "metadata": {},
   "outputs": [],
   "source": [
    "names = [adebola, am, ann, anuj, elbeth, bfa, gold, bob, lkh, waka, trice, proof, emmanuel, fizzy, dog, flob, emma_j, greg,\n",
    "        grey, stel, jshua, kish, kylin, z4yr, hound, mount, nadalie, richard, ogunjo, am2, robot, ann2, steeges, vik, socal,\n",
    "        wolfman, zer, elbeth2, bob2, lkh2, fizzy2, trice2, flob2, greg2, grey2, stele2, hound2, richard2, ogunjo2, vik2, wolfman2, ml_anon]"
   ]
  },
  {
   "cell_type": "markdown",
   "id": "6a7a22df",
   "metadata": {},
   "source": [
    "## Wolfman"
   ]
  },
  {
   "cell_type": "code",
   "execution_count": 458,
   "id": "344c2d12",
   "metadata": {
    "collapsed": true
   },
   "outputs": [
    {
     "data": {
      "text/plain": [
       "[['adebola', 0],\n",
       " ['am', 0],\n",
       " ['ann', 0],\n",
       " ['anuj', 0],\n",
       " ['elbeth', 0],\n",
       " ['bfa', 1],\n",
       " ['gold', 1],\n",
       " ['bob', 1],\n",
       " ['lkh', 2],\n",
       " ['waka', 0],\n",
       " ['trice', 0],\n",
       " ['proof', 2],\n",
       " ['emmanuel', 0],\n",
       " ['fizzy', 1],\n",
       " ['dog', 2],\n",
       " ['flob', 1],\n",
       " ['emma_j', 2],\n",
       " ['greg', 2],\n",
       " ['grey', 1],\n",
       " ['stel', 3],\n",
       " ['jshua', 4],\n",
       " ['kish', 1],\n",
       " ['kylin', 0],\n",
       " ['z4yr', 1],\n",
       " ['hound', 2],\n",
       " ['mount', 0],\n",
       " ['nadalie', 0],\n",
       " ['richard', 0],\n",
       " ['ogunjo', 3],\n",
       " ['am2', 0],\n",
       " ['robot', 0],\n",
       " ['ann2', 2],\n",
       " ['steeges', 2],\n",
       " ['vik', 2],\n",
       " ['socal', 1],\n",
       " ['wolfman', 60],\n",
       " ['zer', 1],\n",
       " ['elbeth2', 0],\n",
       " ['bob2', 0],\n",
       " ['lkh2', 1],\n",
       " ['fizzy2', 0],\n",
       " ['trice2', 0],\n",
       " ['flob2', 0],\n",
       " ['greg2', 0],\n",
       " ['grey2', 0],\n",
       " ['stele2', 0],\n",
       " ['hound2', 0],\n",
       " ['richard2', 1],\n",
       " ['ogunjo2', 1],\n",
       " ['vik2', 0],\n",
       " ['wolfman2', 0],\n",
       " ['ml_anon', 41]]"
      ]
     },
     "execution_count": 458,
     "metadata": {},
     "output_type": "execute_result"
    }
   ],
   "source": [
    "find_common_handles(wolfman)"
   ]
  },
  {
   "cell_type": "code",
   "execution_count": 459,
   "id": "2306353c",
   "metadata": {},
   "outputs": [],
   "source": [
    "wolf_ml = create_table(wolfman, ml_anon)"
   ]
  },
  {
   "cell_type": "code",
   "execution_count": 460,
   "id": "5f8dc9e7",
   "metadata": {},
   "outputs": [
    {
     "data": {
      "text/plain": [
       "0.4878048780487805"
      ]
     },
     "execution_count": 460,
     "metadata": {},
     "output_type": "execute_result"
    }
   ],
   "source": [
    "total_agreement(wolf_ml,\"wolfman\", \"ml_anon\" )"
   ]
  },
  {
   "cell_type": "markdown",
   "id": "5d34cace",
   "metadata": {},
   "source": [
    "## Zer"
   ]
  },
  {
   "cell_type": "code",
   "execution_count": 461,
   "id": "1b0f16a4",
   "metadata": {
    "collapsed": true
   },
   "outputs": [
    {
     "data": {
      "text/plain": [
       "[['adebola', 0],\n",
       " ['am', 1],\n",
       " ['ann', 0],\n",
       " ['anuj', 0],\n",
       " ['elbeth', 1],\n",
       " ['bfa', 0],\n",
       " ['gold', 3],\n",
       " ['bob', 1],\n",
       " ['lkh', 0],\n",
       " ['waka', 0],\n",
       " ['trice', 2],\n",
       " ['proof', 0],\n",
       " ['emmanuel', 0],\n",
       " ['fizzy', 2],\n",
       " ['dog', 1],\n",
       " ['flob', 4],\n",
       " ['emma_j', 1],\n",
       " ['greg', 2],\n",
       " ['grey', 0],\n",
       " ['stel', 0],\n",
       " ['jshua', 0],\n",
       " ['kish', 0],\n",
       " ['kylin', 1],\n",
       " ['z4yr', 1],\n",
       " ['hound', 2],\n",
       " ['mount', 2],\n",
       " ['nadalie', 5],\n",
       " ['richard', 2],\n",
       " ['ogunjo', 2],\n",
       " ['am2', 0],\n",
       " ['robot', 1],\n",
       " ['ann2', 1],\n",
       " ['steeges', 7],\n",
       " ['vik', 2],\n",
       " ['socal', 0],\n",
       " ['wolfman', 1],\n",
       " ['zer', 60],\n",
       " ['elbeth2', 1],\n",
       " ['bob2', 0],\n",
       " ['lkh2', 0],\n",
       " ['fizzy2', 0],\n",
       " ['trice2', 0],\n",
       " ['flob2', 0],\n",
       " ['greg2', 1],\n",
       " ['grey2', 0],\n",
       " ['stele2', 1],\n",
       " ['hound2', 0],\n",
       " ['richard2', 1],\n",
       " ['ogunjo2', 1],\n",
       " ['vik2', 0],\n",
       " ['wolfman2', 1],\n",
       " ['ml_anon', 42]]"
      ]
     },
     "execution_count": 461,
     "metadata": {},
     "output_type": "execute_result"
    }
   ],
   "source": [
    "find_common_handles(zer)"
   ]
  },
  {
   "cell_type": "code",
   "execution_count": 462,
   "id": "d12bb985",
   "metadata": {},
   "outputs": [],
   "source": [
    "zer_ml = create_table(zer, ml_anon)"
   ]
  },
  {
   "cell_type": "code",
   "execution_count": 463,
   "id": "2dfeb73b",
   "metadata": {},
   "outputs": [
    {
     "data": {
      "text/plain": [
       "0.7142857142857143"
      ]
     },
     "execution_count": 463,
     "metadata": {},
     "output_type": "execute_result"
    }
   ],
   "source": [
    "total_agreement(zer_ml, \"zer\", \"ml_anon\")"
   ]
  },
  {
   "cell_type": "code",
   "execution_count": 513,
   "id": "4aea7cb3",
   "metadata": {
    "collapsed": true
   },
   "outputs": [
    {
     "data": {
      "text/plain": [
       "[['adebola', 0],\n",
       " ['am', 0],\n",
       " ['ann', 0],\n",
       " ['anuj', 1],\n",
       " ['elbeth', 62],\n",
       " ['bfa', 2],\n",
       " ['gold', 1],\n",
       " ['bob', 0],\n",
       " ['lkh', 2],\n",
       " ['waka', 1],\n",
       " ['trice', 2],\n",
       " ['proof', 0],\n",
       " ['emmanuel', 1],\n",
       " ['fizzy', 1],\n",
       " ['dog', 1],\n",
       " ['flob', 2],\n",
       " ['emma_j', 1],\n",
       " ['greg', 0],\n",
       " ['grey', 2],\n",
       " ['stel', 3],\n",
       " ['jshua', 0],\n",
       " ['kish', 1],\n",
       " ['kylin', 1],\n",
       " ['z4yr', 0],\n",
       " ['hound', 1],\n",
       " ['mount', 3],\n",
       " ['nadalie', 2],\n",
       " ['richard', 2],\n",
       " ['ogunjo', 1],\n",
       " ['am2', 1],\n",
       " ['robot', 0],\n",
       " ['ann2', 2],\n",
       " ['steeges', 1],\n",
       " ['vik', 0],\n",
       " ['socal', 1],\n",
       " ['wolfman', 0],\n",
       " ['zer', 1],\n",
       " ['elbeth2', 60],\n",
       " ['bob2', 0],\n",
       " ['lkh2', 0],\n",
       " ['fizzy2', 2],\n",
       " ['trice2', 0],\n",
       " ['flob2', 0],\n",
       " ['greg2', 1],\n",
       " ['grey2', 1],\n",
       " ['stele2', 0],\n",
       " ['hound2', 0],\n",
       " ['richard2', 0],\n",
       " ['ogunjo2', 0],\n",
       " ['vik2', 0],\n",
       " ['wolfman2', 0],\n",
       " ['ml_anon', 18]]"
      ]
     },
     "execution_count": 513,
     "metadata": {},
     "output_type": "execute_result"
    }
   ],
   "source": [
    "find_common_handles(elbeth2)"
   ]
  },
  {
   "cell_type": "code",
   "execution_count": 477,
   "id": "bc3cb2c7",
   "metadata": {},
   "outputs": [],
   "source": [
    "elb2_ml = create_table(elbeth2, ml_anon)"
   ]
  },
  {
   "cell_type": "code",
   "execution_count": 466,
   "id": "938d53a6",
   "metadata": {},
   "outputs": [
    {
     "data": {
      "text/plain": [
       "0.2777777777777778"
      ]
     },
     "execution_count": 466,
     "metadata": {},
     "output_type": "execute_result"
    }
   ],
   "source": [
    "total_agreement(elb2_ml, \"elbeth2\", \"ml_anon\")"
   ]
  },
  {
   "cell_type": "code",
   "execution_count": 473,
   "id": "748594dd",
   "metadata": {},
   "outputs": [
    {
     "data": {
      "text/plain": [
       "0"
      ]
     },
     "execution_count": 473,
     "metadata": {},
     "output_type": "execute_result"
    }
   ],
   "source": [
    "elbeth = pd.concat([elbeth, elbeth2])\n",
    "elbeth.duplicated().sum()"
   ]
  },
  {
   "cell_type": "code",
   "execution_count": 483,
   "id": "31d5e271",
   "metadata": {},
   "outputs": [],
   "source": [
    "elbeth.reset_index(drop=True, inplace=True)"
   ]
  },
  {
   "cell_type": "code",
   "execution_count": 504,
   "id": "10729a19",
   "metadata": {
    "collapsed": true
   },
   "outputs": [
    {
     "ename": "KeyError",
     "evalue": "['Is Sybil? (T or F)anuj', 'Is Sybil? (T or F)ml_anon']",
     "output_type": "error",
     "traceback": [
      "\u001b[1;31m---------------------------------------------------------------------------\u001b[0m",
      "\u001b[1;31mKeyError\u001b[0m                                  Traceback (most recent call last)",
      "\u001b[1;32m~\\AppData\\Local\\Temp/ipykernel_21688/1949661153.py\u001b[0m in \u001b[0;36m<module>\u001b[1;34m\u001b[0m\n\u001b[1;32m----> 1\u001b[1;33m \u001b[0mfind_common_handles\u001b[0m\u001b[1;33m(\u001b[0m\u001b[0manuj\u001b[0m\u001b[1;33m)\u001b[0m\u001b[1;33m\u001b[0m\u001b[1;33m\u001b[0m\u001b[0m\n\u001b[0m",
      "\u001b[1;32m~\\AppData\\Local\\Temp/ipykernel_21688/4250259450.py\u001b[0m in \u001b[0;36mfind_common_handles\u001b[1;34m(name)\u001b[0m\n\u001b[0;32m      9\u001b[0m     \u001b[0mfreq\u001b[0m\u001b[1;33m=\u001b[0m\u001b[1;33m[\u001b[0m\u001b[1;33m]\u001b[0m\u001b[1;33m\u001b[0m\u001b[1;33m\u001b[0m\u001b[0m\n\u001b[0;32m     10\u001b[0m     \u001b[1;32mfor\u001b[0m \u001b[0mi\u001b[0m \u001b[1;32min\u001b[0m \u001b[0mnames\u001b[0m\u001b[1;33m:\u001b[0m\u001b[1;33m\u001b[0m\u001b[1;33m\u001b[0m\u001b[0m\n\u001b[1;32m---> 11\u001b[1;33m         \u001b[0mfreq\u001b[0m\u001b[1;33m.\u001b[0m\u001b[0mappend\u001b[0m\u001b[1;33m(\u001b[0m\u001b[1;33m[\u001b[0m\u001b[0mnamestr\u001b[0m\u001b[1;33m(\u001b[0m\u001b[0mi\u001b[0m\u001b[1;33m,\u001b[0m \u001b[0mglobals\u001b[0m\u001b[1;33m(\u001b[0m\u001b[1;33m)\u001b[0m\u001b[1;33m)\u001b[0m\u001b[1;33m[\u001b[0m\u001b[1;36m0\u001b[0m\u001b[1;33m]\u001b[0m\u001b[1;33m,\u001b[0m \u001b[0mcreate_table\u001b[0m\u001b[1;33m(\u001b[0m\u001b[0mname\u001b[0m\u001b[1;33m,\u001b[0m \u001b[0mi\u001b[0m\u001b[1;33m)\u001b[0m\u001b[1;33m.\u001b[0m\u001b[0mshape\u001b[0m\u001b[1;33m[\u001b[0m\u001b[1;36m0\u001b[0m\u001b[1;33m]\u001b[0m\u001b[1;33m]\u001b[0m\u001b[1;33m)\u001b[0m\u001b[1;33m\u001b[0m\u001b[1;33m\u001b[0m\u001b[0m\n\u001b[0m\u001b[0;32m     12\u001b[0m     \u001b[1;32mreturn\u001b[0m \u001b[0mfreq\u001b[0m\u001b[1;33m\u001b[0m\u001b[1;33m\u001b[0m\u001b[0m\n",
      "\u001b[1;32m~\\AppData\\Local\\Temp/ipykernel_21688/1167890214.py\u001b[0m in \u001b[0;36mcreate_table\u001b[1;34m(data1, data2)\u001b[0m\n\u001b[0;32m     10\u001b[0m \u001b[1;33m\u001b[0m\u001b[0m\n\u001b[0;32m     11\u001b[0m     df.dropna(subset=[\"Is Sybil? (T or F)\" +namestr(data1, globals())[0], \"Is Sybil? (T or F)\" +namestr(data2, globals())[0]],\n\u001b[1;32m---> 12\u001b[1;33m              inplace=True)\n\u001b[0m\u001b[0;32m     13\u001b[0m \u001b[1;33m\u001b[0m\u001b[0m\n\u001b[0;32m     14\u001b[0m     \u001b[1;32mreturn\u001b[0m \u001b[0mdf\u001b[0m\u001b[1;33m\u001b[0m\u001b[1;33m\u001b[0m\u001b[0m\n",
      "\u001b[1;32m~\\AppData\\Roaming\\Python\\Python37\\site-packages\\pandas\\util\\_decorators.py\u001b[0m in \u001b[0;36mwrapper\u001b[1;34m(*args, **kwargs)\u001b[0m\n\u001b[0;32m    309\u001b[0m                     \u001b[0mstacklevel\u001b[0m\u001b[1;33m=\u001b[0m\u001b[0mstacklevel\u001b[0m\u001b[1;33m,\u001b[0m\u001b[1;33m\u001b[0m\u001b[1;33m\u001b[0m\u001b[0m\n\u001b[0;32m    310\u001b[0m                 )\n\u001b[1;32m--> 311\u001b[1;33m             \u001b[1;32mreturn\u001b[0m \u001b[0mfunc\u001b[0m\u001b[1;33m(\u001b[0m\u001b[1;33m*\u001b[0m\u001b[0margs\u001b[0m\u001b[1;33m,\u001b[0m \u001b[1;33m**\u001b[0m\u001b[0mkwargs\u001b[0m\u001b[1;33m)\u001b[0m\u001b[1;33m\u001b[0m\u001b[1;33m\u001b[0m\u001b[0m\n\u001b[0m\u001b[0;32m    312\u001b[0m \u001b[1;33m\u001b[0m\u001b[0m\n\u001b[0;32m    313\u001b[0m         \u001b[1;32mreturn\u001b[0m \u001b[0mwrapper\u001b[0m\u001b[1;33m\u001b[0m\u001b[1;33m\u001b[0m\u001b[0m\n",
      "\u001b[1;32m~\\AppData\\Roaming\\Python\\Python37\\site-packages\\pandas\\core\\frame.py\u001b[0m in \u001b[0;36mdropna\u001b[1;34m(self, axis, how, thresh, subset, inplace)\u001b[0m\n\u001b[0;32m   5951\u001b[0m             \u001b[0mcheck\u001b[0m \u001b[1;33m=\u001b[0m \u001b[0mindices\u001b[0m \u001b[1;33m==\u001b[0m \u001b[1;33m-\u001b[0m\u001b[1;36m1\u001b[0m\u001b[1;33m\u001b[0m\u001b[1;33m\u001b[0m\u001b[0m\n\u001b[0;32m   5952\u001b[0m             \u001b[1;32mif\u001b[0m \u001b[0mcheck\u001b[0m\u001b[1;33m.\u001b[0m\u001b[0many\u001b[0m\u001b[1;33m(\u001b[0m\u001b[1;33m)\u001b[0m\u001b[1;33m:\u001b[0m\u001b[1;33m\u001b[0m\u001b[1;33m\u001b[0m\u001b[0m\n\u001b[1;32m-> 5953\u001b[1;33m                 \u001b[1;32mraise\u001b[0m \u001b[0mKeyError\u001b[0m\u001b[1;33m(\u001b[0m\u001b[0mlist\u001b[0m\u001b[1;33m(\u001b[0m\u001b[0mnp\u001b[0m\u001b[1;33m.\u001b[0m\u001b[0mcompress\u001b[0m\u001b[1;33m(\u001b[0m\u001b[0mcheck\u001b[0m\u001b[1;33m,\u001b[0m \u001b[0msubset\u001b[0m\u001b[1;33m)\u001b[0m\u001b[1;33m)\u001b[0m\u001b[1;33m)\u001b[0m\u001b[1;33m\u001b[0m\u001b[1;33m\u001b[0m\u001b[0m\n\u001b[0m\u001b[0;32m   5954\u001b[0m             \u001b[0magg_obj\u001b[0m \u001b[1;33m=\u001b[0m \u001b[0mself\u001b[0m\u001b[1;33m.\u001b[0m\u001b[0mtake\u001b[0m\u001b[1;33m(\u001b[0m\u001b[0mindices\u001b[0m\u001b[1;33m,\u001b[0m \u001b[0maxis\u001b[0m\u001b[1;33m=\u001b[0m\u001b[0magg_axis\u001b[0m\u001b[1;33m)\u001b[0m\u001b[1;33m\u001b[0m\u001b[1;33m\u001b[0m\u001b[0m\n\u001b[0;32m   5955\u001b[0m \u001b[1;33m\u001b[0m\u001b[0m\n",
      "\u001b[1;31mKeyError\u001b[0m: ['Is Sybil? (T or F)anuj', 'Is Sybil? (T or F)ml_anon']"
     ]
    }
   ],
   "source": [
    "find_common_handles(anuj)"
   ]
  },
  {
   "cell_type": "code",
   "execution_count": 500,
   "id": "485bedc9",
   "metadata": {},
   "outputs": [
    {
     "data": {
      "text/plain": [
       "['ml_anon']"
      ]
     },
     "execution_count": 500,
     "metadata": {},
     "output_type": "execute_result"
    }
   ],
   "source": [
    "namestr(ml_anon, globals())"
   ]
  },
  {
   "cell_type": "code",
   "execution_count": 515,
   "id": "1e90d789",
   "metadata": {
    "collapsed": true
   },
   "outputs": [
    {
     "data": {
      "text/plain": [
       "[['adebola', 0],\n",
       " ['am', 0],\n",
       " ['ann', 0],\n",
       " ['anuj', 2],\n",
       " ['elbeth', 124],\n",
       " ['bfa', 5],\n",
       " ['gold', 2],\n",
       " ['bob', 0],\n",
       " ['lkh', 4],\n",
       " ['waka', 1],\n",
       " ['trice', 7],\n",
       " ['proof', 2],\n",
       " ['emmanuel', 1],\n",
       " ['fizzy', 5],\n",
       " ['dog', 2],\n",
       " ['flob', 4],\n",
       " ['emma_j', 2],\n",
       " ['greg', 1],\n",
       " ['grey', 3],\n",
       " ['stel', 3],\n",
       " ['jshua', 1],\n",
       " ['kish', 1],\n",
       " ['kylin', 3],\n",
       " ['z4yr', 3],\n",
       " ['hound', 3],\n",
       " ['mount', 7],\n",
       " ['nadalie', 2],\n",
       " ['richard', 5],\n",
       " ['ogunjo', 1],\n",
       " ['am2', 2],\n",
       " ['robot', 0],\n",
       " ['ann2', 4],\n",
       " ['steeges', 1],\n",
       " ['vik', 1],\n",
       " ['socal', 3],\n",
       " ['wolfman', 0],\n",
       " ['zer', 2],\n",
       " ['elbeth2', 62],\n",
       " ['bob2', 0],\n",
       " ['lkh2', 0],\n",
       " ['fizzy2', 2],\n",
       " ['trice2', 0],\n",
       " ['flob2', 0],\n",
       " ['greg2', 1],\n",
       " ['grey2', 1],\n",
       " ['stele2', 1],\n",
       " ['hound2', 2],\n",
       " ['richard2', 1],\n",
       " ['ogunjo2', 0],\n",
       " ['vik2', 0],\n",
       " ['wolfman2', 0],\n",
       " ['ml_anon', 61]]"
      ]
     },
     "execution_count": 515,
     "metadata": {},
     "output_type": "execute_result"
    }
   ],
   "source": [
    "find_common_handles(elbeth)"
   ]
  },
  {
   "cell_type": "code",
   "execution_count": 516,
   "id": "075a41be",
   "metadata": {},
   "outputs": [
    {
     "data": {
      "text/plain": [
       "[0.8,\n",
       " 1.0,\n",
       " 0.5714285714285714,\n",
       " 0.2,\n",
       " 0.6666666666666666,\n",
       " 0.3333333333333333,\n",
       " 0.3333333333333333,\n",
       " 0.6666666666666666,\n",
       " 0.3333333333333333,\n",
       " 0.42857142857142855,\n",
       " 0.2,\n",
       " 0.5,\n",
       " 0.6666666666666666,\n",
       " 0.4098360655737705]"
      ]
     },
     "execution_count": 516,
     "metadata": {},
     "output_type": "execute_result"
    }
   ],
   "source": [
    "elbeth = pd.concat([elbeth, elbeth2])\n",
    "elbeth.duplicated().sum()\n",
    "\n",
    "elbeth.reset_index(drop=True, inplace=True)\n",
    "\n",
    "trice_socal = create_table(elbeth, bfa)\n",
    "trice_elbeth = create_table(elbeth, lkh)\n",
    "trice_lkh = create_table(elbeth, trice)\n",
    "trice_emmanuel = create_table(elbeth, fizzy)\n",
    "trice_greg = create_table(elbeth, grey)\n",
    "trice_grey = create_table(elbeth, stel)\n",
    "trice_kylin = create_table(elbeth, kylin)\n",
    "trice_z4yr = create_table(elbeth, z4yr)\n",
    "trice_richard = create_table(elbeth, hound)\n",
    "trice_ogunjo = create_table(elbeth, mount)\n",
    "trice_vik = create_table(elbeth, richard)\n",
    "trice_zer = create_table(elbeth, ann2)\n",
    "trice_wolfman = create_table(elbeth, socal)\n",
    "trice_ml = create_table(elbeth, ml_anon)\n",
    "\n",
    "\n",
    "[total_agreement(trice_socal, \"elbeth\", \"bfa\"), total_agreement(trice_elbeth, \"elbeth\", \"lkh\"),\n",
    " total_agreement(trice_lkh, \"elbeth\", \"trice\"), total_agreement(trice_emmanuel,\"elbeth\", \"fizzy\"),\n",
    " total_agreement(trice_greg,\"elbeth\", \"grey\"), total_agreement(trice_grey,\"elbeth\", \"stel\"),\n",
    " total_agreement(trice_kylin,\"elbeth\", \"kylin\"), total_agreement(trice_z4yr,\"elbeth\", \"z4yr\"),\n",
    " total_agreement(trice_richard,\"elbeth\", \"hound\"), total_agreement(trice_ogunjo,\"elbeth\", \"mount\"),\n",
    "  total_agreement(trice_vik,\"elbeth\", \"richard\"), total_agreement(trice_zer,\"elbeth\", \"ann2\"),\n",
    " total_agreement(trice_wolfman, \"elbeth\", \"socal\"), total_agreement(trice_ml, \"elbeth\", \"ml_anon\")]"
   ]
  },
  {
   "cell_type": "code",
   "execution_count": 519,
   "id": "c9a8f743",
   "metadata": {},
   "outputs": [],
   "source": [
    "dff = pd.concat([bob, bob2])\n",
    "dff.duplicated().sum()\n",
    "\n",
    "dff.reset_index(drop=True, inplace=True)"
   ]
  },
  {
   "cell_type": "code",
   "execution_count": 520,
   "id": "bc316691",
   "metadata": {
    "collapsed": true
   },
   "outputs": [
    {
     "data": {
      "text/plain": [
       "[['adebola', 1],\n",
       " ['am', 1],\n",
       " ['ann', 0],\n",
       " ['anuj', 3],\n",
       " ['_482', 0],\n",
       " ['bfa', 2],\n",
       " ['gold', 0],\n",
       " ['bob', 60],\n",
       " ['lkh', 3],\n",
       " ['waka', 2],\n",
       " ['trice', 1],\n",
       " ['proof', 1],\n",
       " ['emmanuel', 0],\n",
       " ['fizzy', 5],\n",
       " ['dog', 4],\n",
       " ['flob', 2],\n",
       " ['emma_j', 2],\n",
       " ['greg', 2],\n",
       " ['grey', 3],\n",
       " ['stel', 2],\n",
       " ['jshua', 0],\n",
       " ['kish', 3],\n",
       " ['kylin', 0],\n",
       " ['z4yr', 7],\n",
       " ['hound', 1],\n",
       " ['mount', 0],\n",
       " ['nadalie', 4],\n",
       " ['richard', 4],\n",
       " ['ogunjo', 1],\n",
       " ['am2', 2],\n",
       " ['robot', 1],\n",
       " ['ann2', 4],\n",
       " ['steeges', 1],\n",
       " ['vik', 1],\n",
       " ['socal', 0],\n",
       " ['wolfman', 1],\n",
       " ['zer', 1],\n",
       " ['elbeth2', 0],\n",
       " ['bob2', 60],\n",
       " ['lkh2', 0],\n",
       " ['fizzy2', 2],\n",
       " ['trice2', 0],\n",
       " ['flob2', 0],\n",
       " ['greg2', 2],\n",
       " ['grey2', 0],\n",
       " ['stele2', 1],\n",
       " ['hound2', 1],\n",
       " ['richard2', 0],\n",
       " ['ogunjo2', 0],\n",
       " ['vik2', 0],\n",
       " ['wolfman2', 0],\n",
       " ['ml_anon', 56]]"
      ]
     },
     "execution_count": 520,
     "metadata": {},
     "output_type": "execute_result"
    }
   ],
   "source": [
    "find_common_handles(dff)"
   ]
  },
  {
   "cell_type": "code",
   "execution_count": 523,
   "id": "77c97f7f",
   "metadata": {},
   "outputs": [
    {
     "data": {
      "text/plain": [
       "[0.0,\n",
       " 1.0,\n",
       " 1.0,\n",
       " 0.0,\n",
       " 1.0,\n",
       " 0.0,\n",
       " 0.8333333333333334,\n",
       " 1.0,\n",
       " 0.5,\n",
       " 0.6666666666666666,\n",
       " 0.5777777777777777]"
      ]
     },
     "execution_count": 523,
     "metadata": {},
     "output_type": "execute_result"
    }
   ],
   "source": [
    "trice_socal = create_table(bob, anuj)\n",
    "trice_elbeth = create_table(bob, lkh)\n",
    "trice_emmanuel = create_table(bob, fizzy)\n",
    "trice_greg = create_table(bob, dog)\n",
    "trice_grey = create_table(bob, grey)\n",
    "trice_kylin = create_table(bob, kish)\n",
    "trice_z4yr = create_table(bob, z4yr)\n",
    "trice_richard = create_table(bob, nadalie)\n",
    "trice_vik = create_table(bob, richard)\n",
    "trice_zer = create_table(bob, ann2)\n",
    "trice_ml = create_table(bob, ml_anon)\n",
    "\n",
    "\n",
    "[total_agreement(trice_socal, \"bob\", \"anuj\"), total_agreement(trice_elbeth, \"bob\", \"lkh\"),\n",
    " total_agreement(trice_emmanuel,\"bob\", \"fizzy\"),total_agreement(trice_greg,\"bob\", \"dog\"),\n",
    " total_agreement(trice_grey,\"bob\", \"grey\"),total_agreement(trice_kylin,\"bob\", \"kish\"),\n",
    " total_agreement(trice_z4yr,\"bob\", \"z4yr\"), total_agreement(trice_richard,\"bob\", \"nadalie\"),\n",
    "  total_agreement(trice_vik,\"bob\", \"richard\"), total_agreement(trice_zer,\"bob\", \"ann2\"),\n",
    "  total_agreement(trice_ml, \"bob\", \"ml_anon\")]"
   ]
  },
  {
   "cell_type": "code",
   "execution_count": 524,
   "id": "fde2055b",
   "metadata": {
    "collapsed": true
   },
   "outputs": [
    {
     "data": {
      "text/plain": [
       "[['adebola', 0],\n",
       " ['am', 0],\n",
       " ['ann', 0],\n",
       " ['anuj', 40],\n",
       " ['_482', 2],\n",
       " ['bfa', 1],\n",
       " ['gold', 0],\n",
       " ['bob', 1],\n",
       " ['lkh', 1],\n",
       " ['waka', 0],\n",
       " ['trice', 0],\n",
       " ['proof', 1],\n",
       " ['emmanuel', 0],\n",
       " ['fizzy', 1],\n",
       " ['dog', 2],\n",
       " ['flob', 0],\n",
       " ['emma_j', 2],\n",
       " ['greg', 1],\n",
       " ['grey', 2],\n",
       " ['stel', 2],\n",
       " ['jshua', 0],\n",
       " ['kish', 0],\n",
       " ['kylin', 1],\n",
       " ['z4yr', 1],\n",
       " ['hound', 1],\n",
       " ['mount', 0],\n",
       " ['nadalie', 1],\n",
       " ['richard', 1],\n",
       " ['ogunjo', 0],\n",
       " ['am2', 1],\n",
       " ['robot', 1],\n",
       " ['ann2', 1],\n",
       " ['steeges', 3],\n",
       " ['vik', 2],\n",
       " ['socal', 1],\n",
       " ['wolfman', 0],\n",
       " ['zer', 0],\n",
       " ['elbeth2', 1],\n",
       " ['bob2', 2],\n",
       " ['lkh2', 0],\n",
       " ['fizzy2', 0],\n",
       " ['trice2', 0],\n",
       " ['flob2', 0],\n",
       " ['greg2', 0],\n",
       " ['grey2', 0],\n",
       " ['stele2', 2],\n",
       " ['hound2', 1],\n",
       " ['richard2', 2],\n",
       " ['ogunjo2', 1],\n",
       " ['vik2', 0],\n",
       " ['wolfman2', 0],\n",
       " ['ml_anon', 27]]"
      ]
     },
     "execution_count": 524,
     "metadata": {},
     "output_type": "execute_result"
    }
   ],
   "source": [
    "find_common_handles(anuj)"
   ]
  },
  {
   "cell_type": "code",
   "execution_count": 525,
   "id": "f60f2f61",
   "metadata": {},
   "outputs": [
    {
     "data": {
      "text/plain": [
       "[0.3333333333333333, 0.6296296296296297]"
      ]
     },
     "execution_count": 525,
     "metadata": {},
     "output_type": "execute_result"
    }
   ],
   "source": [
    "anuj_steeges = create_table(anuj, steeges)\n",
    "anuj_ml = create_table(anuj, ml_anon)\n",
    "\n",
    "[total_agreement(anuj_steeges, \"anuj\", \"steeges\"), total_agreement(anuj_ml, \"anuj\", \"ml_anon\")]"
   ]
  },
  {
   "cell_type": "code",
   "execution_count": 527,
   "id": "cb4a4d55",
   "metadata": {},
   "outputs": [],
   "source": [
    "dff = pd.concat([lkh, lkh2])\n",
    "dff.duplicated().sum()\n",
    "\n",
    "dff.reset_index(drop=True, inplace=True)"
   ]
  },
  {
   "cell_type": "code",
   "execution_count": 528,
   "id": "1ec41866",
   "metadata": {},
   "outputs": [
    {
     "data": {
      "text/plain": [
       "[['adebola', 0],\n",
       " ['am', 0],\n",
       " ['ann', 0],\n",
       " ['anuj', 1],\n",
       " ['_482', 4],\n",
       " ['bfa', 1],\n",
       " ['gold', 3],\n",
       " ['bob', 3],\n",
       " ['lkh', 61],\n",
       " ['waka', 0],\n",
       " ['trice', 2],\n",
       " ['proof', 2],\n",
       " ['emmanuel', 2],\n",
       " ['fizzy', 1],\n",
       " ['dog', 3],\n",
       " ['flob', 2],\n",
       " ['emma_j', 1],\n",
       " ['greg', 1],\n",
       " ['grey', 0],\n",
       " ['stel', 3],\n",
       " ['jshua', 1],\n",
       " ['kish', 2],\n",
       " ['kylin', 2],\n",
       " ['z4yr', 3],\n",
       " ['hound', 5],\n",
       " ['mount', 1],\n",
       " ['nadalie', 2],\n",
       " ['richard', 4],\n",
       " ['ogunjo', 3],\n",
       " ['am2', 1],\n",
       " ['robot', 0],\n",
       " ['ann2', 2],\n",
       " ['steeges', 1],\n",
       " ['vik', 1],\n",
       " ['socal', 2],\n",
       " ['wolfman', 3],\n",
       " ['zer', 0],\n",
       " ['elbeth2', 2],\n",
       " ['bob2', 0],\n",
       " ['lkh2', 6],\n",
       " ['fizzy2', 1],\n",
       " ['trice2', 0],\n",
       " ['flob2', 0],\n",
       " ['greg2', 0],\n",
       " ['grey2', 2],\n",
       " ['stele2', 1],\n",
       " ['hound2', 0],\n",
       " ['richard2', 1],\n",
       " ['ogunjo2', 0],\n",
       " ['vik2', 0],\n",
       " ['wolfman2', 2],\n",
       " ['ml_anon', 42]]"
      ]
     },
     "execution_count": 528,
     "metadata": {},
     "output_type": "execute_result"
    }
   ],
   "source": [
    "find_common_handles(dff)"
   ]
  },
  {
   "cell_type": "code",
   "execution_count": null,
   "id": "56a1e433",
   "metadata": {},
   "outputs": [],
   "source": []
  },
  {
   "cell_type": "code",
   "execution_count": 546,
   "id": "5096dd32",
   "metadata": {},
   "outputs": [],
   "source": [
    "corr = pd.read_excel(\"./correlation.xlsx\")"
   ]
  },
  {
   "cell_type": "code",
   "execution_count": 553,
   "id": "f811d243",
   "metadata": {},
   "outputs": [],
   "source": [
    "corr2 = pd.read_excel(\"./total_agreement_1.xlsx\")"
   ]
  },
  {
   "cell_type": "code",
   "execution_count": 554,
   "id": "3d36a6e0",
   "metadata": {},
   "outputs": [
    {
     "data": {
      "text/html": [
       "<div>\n",
       "<style scoped>\n",
       "    .dataframe tbody tr th:only-of-type {\n",
       "        vertical-align: middle;\n",
       "    }\n",
       "\n",
       "    .dataframe tbody tr th {\n",
       "        vertical-align: top;\n",
       "    }\n",
       "\n",
       "    .dataframe thead th {\n",
       "        text-align: right;\n",
       "    }\n",
       "</style>\n",
       "<table border=\"1\" class=\"dataframe\">\n",
       "  <thead>\n",
       "    <tr style=\"text-align: right;\">\n",
       "      <th></th>\n",
       "      <th>Unnamed: 0</th>\n",
       "      <th>Anuj</th>\n",
       "      <th>Fizzy</th>\n",
       "      <th>Elbeth</th>\n",
       "      <th>Bfa</th>\n",
       "      <th>Gold</th>\n",
       "      <th>Bob</th>\n",
       "      <th>Lkh</th>\n",
       "      <th>Waka</th>\n",
       "      <th>Trice</th>\n",
       "      <th>...</th>\n",
       "      <th>Nadalie</th>\n",
       "      <th>Richard</th>\n",
       "      <th>Ogunjosam</th>\n",
       "      <th>Robot</th>\n",
       "      <th>Steeges</th>\n",
       "      <th>Vik</th>\n",
       "      <th>Socal</th>\n",
       "      <th>Wolfman</th>\n",
       "      <th>Zer</th>\n",
       "      <th>ML</th>\n",
       "    </tr>\n",
       "  </thead>\n",
       "  <tbody>\n",
       "    <tr>\n",
       "      <th>0</th>\n",
       "      <td>Anuj</td>\n",
       "      <td>1.00</td>\n",
       "      <td>NaN</td>\n",
       "      <td>NaN</td>\n",
       "      <td>NaN</td>\n",
       "      <td>NaN</td>\n",
       "      <td>NaN</td>\n",
       "      <td>NaN</td>\n",
       "      <td>NaN</td>\n",
       "      <td>NaN</td>\n",
       "      <td>...</td>\n",
       "      <td>NaN</td>\n",
       "      <td>NaN</td>\n",
       "      <td>NaN</td>\n",
       "      <td>NaN</td>\n",
       "      <td>0.330</td>\n",
       "      <td>NaN</td>\n",
       "      <td>NaN</td>\n",
       "      <td>NaN</td>\n",
       "      <td>NaN</td>\n",
       "      <td>0.630</td>\n",
       "    </tr>\n",
       "    <tr>\n",
       "      <th>1</th>\n",
       "      <td>Fizzy</td>\n",
       "      <td>NaN</td>\n",
       "      <td>1.00</td>\n",
       "      <td>0.000</td>\n",
       "      <td>NaN</td>\n",
       "      <td>0.660</td>\n",
       "      <td>NaN</td>\n",
       "      <td>NaN</td>\n",
       "      <td>NaN</td>\n",
       "      <td>NaN</td>\n",
       "      <td>...</td>\n",
       "      <td>NaN</td>\n",
       "      <td>NaN</td>\n",
       "      <td>NaN</td>\n",
       "      <td>NaN</td>\n",
       "      <td>NaN</td>\n",
       "      <td>NaN</td>\n",
       "      <td>0.33</td>\n",
       "      <td>NaN</td>\n",
       "      <td>NaN</td>\n",
       "      <td>0.660</td>\n",
       "    </tr>\n",
       "    <tr>\n",
       "      <th>2</th>\n",
       "      <td>Elbeth</td>\n",
       "      <td>NaN</td>\n",
       "      <td>0.00</td>\n",
       "      <td>1.000</td>\n",
       "      <td>0.667</td>\n",
       "      <td>NaN</td>\n",
       "      <td>NaN</td>\n",
       "      <td>NaN</td>\n",
       "      <td>NaN</td>\n",
       "      <td>0.667</td>\n",
       "      <td>...</td>\n",
       "      <td>NaN</td>\n",
       "      <td>0.330</td>\n",
       "      <td>NaN</td>\n",
       "      <td>NaN</td>\n",
       "      <td>NaN</td>\n",
       "      <td>NaN</td>\n",
       "      <td>NaN</td>\n",
       "      <td>NaN</td>\n",
       "      <td>NaN</td>\n",
       "      <td>0.465</td>\n",
       "    </tr>\n",
       "    <tr>\n",
       "      <th>3</th>\n",
       "      <td>Bfa</td>\n",
       "      <td>NaN</td>\n",
       "      <td>NaN</td>\n",
       "      <td>0.667</td>\n",
       "      <td>1.000</td>\n",
       "      <td>1.000</td>\n",
       "      <td>NaN</td>\n",
       "      <td>NaN</td>\n",
       "      <td>NaN</td>\n",
       "      <td>NaN</td>\n",
       "      <td>...</td>\n",
       "      <td>NaN</td>\n",
       "      <td>NaN</td>\n",
       "      <td>NaN</td>\n",
       "      <td>NaN</td>\n",
       "      <td>NaN</td>\n",
       "      <td>NaN</td>\n",
       "      <td>NaN</td>\n",
       "      <td>NaN</td>\n",
       "      <td>NaN</td>\n",
       "      <td>0.513</td>\n",
       "    </tr>\n",
       "    <tr>\n",
       "      <th>4</th>\n",
       "      <td>Gold</td>\n",
       "      <td>NaN</td>\n",
       "      <td>0.66</td>\n",
       "      <td>NaN</td>\n",
       "      <td>1.000</td>\n",
       "      <td>1.000</td>\n",
       "      <td>NaN</td>\n",
       "      <td>0.330</td>\n",
       "      <td>NaN</td>\n",
       "      <td>NaN</td>\n",
       "      <td>...</td>\n",
       "      <td>NaN</td>\n",
       "      <td>NaN</td>\n",
       "      <td>NaN</td>\n",
       "      <td>0.0</td>\n",
       "      <td>NaN</td>\n",
       "      <td>NaN</td>\n",
       "      <td>NaN</td>\n",
       "      <td>NaN</td>\n",
       "      <td>0.667</td>\n",
       "      <td>0.714</td>\n",
       "    </tr>\n",
       "    <tr>\n",
       "      <th>5</th>\n",
       "      <td>Bob</td>\n",
       "      <td>NaN</td>\n",
       "      <td>NaN</td>\n",
       "      <td>NaN</td>\n",
       "      <td>NaN</td>\n",
       "      <td>NaN</td>\n",
       "      <td>1.000</td>\n",
       "      <td>1.000</td>\n",
       "      <td>1.000</td>\n",
       "      <td>NaN</td>\n",
       "      <td>...</td>\n",
       "      <td>1.00</td>\n",
       "      <td>NaN</td>\n",
       "      <td>NaN</td>\n",
       "      <td>NaN</td>\n",
       "      <td>NaN</td>\n",
       "      <td>NaN</td>\n",
       "      <td>NaN</td>\n",
       "      <td>NaN</td>\n",
       "      <td>NaN</td>\n",
       "      <td>0.578</td>\n",
       "    </tr>\n",
       "    <tr>\n",
       "      <th>6</th>\n",
       "      <td>Lkh</td>\n",
       "      <td>NaN</td>\n",
       "      <td>NaN</td>\n",
       "      <td>NaN</td>\n",
       "      <td>NaN</td>\n",
       "      <td>0.330</td>\n",
       "      <td>1.000</td>\n",
       "      <td>1.000</td>\n",
       "      <td>NaN</td>\n",
       "      <td>0.500</td>\n",
       "      <td>...</td>\n",
       "      <td>NaN</td>\n",
       "      <td>NaN</td>\n",
       "      <td>0.667</td>\n",
       "      <td>NaN</td>\n",
       "      <td>NaN</td>\n",
       "      <td>NaN</td>\n",
       "      <td>NaN</td>\n",
       "      <td>NaN</td>\n",
       "      <td>NaN</td>\n",
       "      <td>0.620</td>\n",
       "    </tr>\n",
       "    <tr>\n",
       "      <th>7</th>\n",
       "      <td>Waka</td>\n",
       "      <td>NaN</td>\n",
       "      <td>NaN</td>\n",
       "      <td>NaN</td>\n",
       "      <td>NaN</td>\n",
       "      <td>NaN</td>\n",
       "      <td>1.000</td>\n",
       "      <td>NaN</td>\n",
       "      <td>1.000</td>\n",
       "      <td>NaN</td>\n",
       "      <td>...</td>\n",
       "      <td>NaN</td>\n",
       "      <td>NaN</td>\n",
       "      <td>1.000</td>\n",
       "      <td>NaN</td>\n",
       "      <td>1.000</td>\n",
       "      <td>NaN</td>\n",
       "      <td>1.00</td>\n",
       "      <td>NaN</td>\n",
       "      <td>NaN</td>\n",
       "      <td>0.824</td>\n",
       "    </tr>\n",
       "    <tr>\n",
       "      <th>8</th>\n",
       "      <td>Trice</td>\n",
       "      <td>NaN</td>\n",
       "      <td>NaN</td>\n",
       "      <td>0.667</td>\n",
       "      <td>NaN</td>\n",
       "      <td>NaN</td>\n",
       "      <td>NaN</td>\n",
       "      <td>0.500</td>\n",
       "      <td>NaN</td>\n",
       "      <td>1.000</td>\n",
       "      <td>...</td>\n",
       "      <td>NaN</td>\n",
       "      <td>0.000</td>\n",
       "      <td>0.000</td>\n",
       "      <td>NaN</td>\n",
       "      <td>NaN</td>\n",
       "      <td>0.500</td>\n",
       "      <td>NaN</td>\n",
       "      <td>NaN</td>\n",
       "      <td>NaN</td>\n",
       "      <td>0.290</td>\n",
       "    </tr>\n",
       "    <tr>\n",
       "      <th>9</th>\n",
       "      <td>Proof</td>\n",
       "      <td>NaN</td>\n",
       "      <td>NaN</td>\n",
       "      <td>NaN</td>\n",
       "      <td>NaN</td>\n",
       "      <td>NaN</td>\n",
       "      <td>NaN</td>\n",
       "      <td>NaN</td>\n",
       "      <td>NaN</td>\n",
       "      <td>NaN</td>\n",
       "      <td>...</td>\n",
       "      <td>NaN</td>\n",
       "      <td>NaN</td>\n",
       "      <td>NaN</td>\n",
       "      <td>NaN</td>\n",
       "      <td>0.667</td>\n",
       "      <td>NaN</td>\n",
       "      <td>NaN</td>\n",
       "      <td>NaN</td>\n",
       "      <td>NaN</td>\n",
       "      <td>0.680</td>\n",
       "    </tr>\n",
       "    <tr>\n",
       "      <th>10</th>\n",
       "      <td>Emmanuel</td>\n",
       "      <td>NaN</td>\n",
       "      <td>NaN</td>\n",
       "      <td>NaN</td>\n",
       "      <td>NaN</td>\n",
       "      <td>NaN</td>\n",
       "      <td>NaN</td>\n",
       "      <td>NaN</td>\n",
       "      <td>NaN</td>\n",
       "      <td>1.000</td>\n",
       "      <td>...</td>\n",
       "      <td>NaN</td>\n",
       "      <td>NaN</td>\n",
       "      <td>NaN</td>\n",
       "      <td>NaN</td>\n",
       "      <td>NaN</td>\n",
       "      <td>NaN</td>\n",
       "      <td>NaN</td>\n",
       "      <td>NaN</td>\n",
       "      <td>NaN</td>\n",
       "      <td>0.470</td>\n",
       "    </tr>\n",
       "    <tr>\n",
       "      <th>11</th>\n",
       "      <td>Dogg</td>\n",
       "      <td>NaN</td>\n",
       "      <td>NaN</td>\n",
       "      <td>NaN</td>\n",
       "      <td>0.800</td>\n",
       "      <td>NaN</td>\n",
       "      <td>NaN</td>\n",
       "      <td>0.667</td>\n",
       "      <td>NaN</td>\n",
       "      <td>NaN</td>\n",
       "      <td>...</td>\n",
       "      <td>NaN</td>\n",
       "      <td>NaN</td>\n",
       "      <td>NaN</td>\n",
       "      <td>NaN</td>\n",
       "      <td>NaN</td>\n",
       "      <td>NaN</td>\n",
       "      <td>NaN</td>\n",
       "      <td>NaN</td>\n",
       "      <td>NaN</td>\n",
       "      <td>0.525</td>\n",
       "    </tr>\n",
       "    <tr>\n",
       "      <th>12</th>\n",
       "      <td>Flob</td>\n",
       "      <td>NaN</td>\n",
       "      <td>NaN</td>\n",
       "      <td>NaN</td>\n",
       "      <td>NaN</td>\n",
       "      <td>NaN</td>\n",
       "      <td>NaN</td>\n",
       "      <td>NaN</td>\n",
       "      <td>0.000</td>\n",
       "      <td>NaN</td>\n",
       "      <td>...</td>\n",
       "      <td>NaN</td>\n",
       "      <td>NaN</td>\n",
       "      <td>NaN</td>\n",
       "      <td>NaN</td>\n",
       "      <td>NaN</td>\n",
       "      <td>NaN</td>\n",
       "      <td>NaN</td>\n",
       "      <td>NaN</td>\n",
       "      <td>0.750</td>\n",
       "      <td>0.840</td>\n",
       "    </tr>\n",
       "    <tr>\n",
       "      <th>13</th>\n",
       "      <td>Emmanuel.J</td>\n",
       "      <td>NaN</td>\n",
       "      <td>NaN</td>\n",
       "      <td>NaN</td>\n",
       "      <td>NaN</td>\n",
       "      <td>NaN</td>\n",
       "      <td>NaN</td>\n",
       "      <td>NaN</td>\n",
       "      <td>NaN</td>\n",
       "      <td>NaN</td>\n",
       "      <td>...</td>\n",
       "      <td>0.33</td>\n",
       "      <td>NaN</td>\n",
       "      <td>0.667</td>\n",
       "      <td>NaN</td>\n",
       "      <td>1.000</td>\n",
       "      <td>NaN</td>\n",
       "      <td>NaN</td>\n",
       "      <td>NaN</td>\n",
       "      <td>NaN</td>\n",
       "      <td>0.816</td>\n",
       "    </tr>\n",
       "    <tr>\n",
       "      <th>14</th>\n",
       "      <td>Greg</td>\n",
       "      <td>NaN</td>\n",
       "      <td>NaN</td>\n",
       "      <td>NaN</td>\n",
       "      <td>NaN</td>\n",
       "      <td>NaN</td>\n",
       "      <td>NaN</td>\n",
       "      <td>NaN</td>\n",
       "      <td>0.000</td>\n",
       "      <td>0.500</td>\n",
       "      <td>...</td>\n",
       "      <td>NaN</td>\n",
       "      <td>0.800</td>\n",
       "      <td>NaN</td>\n",
       "      <td>NaN</td>\n",
       "      <td>NaN</td>\n",
       "      <td>1.000</td>\n",
       "      <td>NaN</td>\n",
       "      <td>NaN</td>\n",
       "      <td>NaN</td>\n",
       "      <td>0.720</td>\n",
       "    </tr>\n",
       "    <tr>\n",
       "      <th>15</th>\n",
       "      <td>Grey</td>\n",
       "      <td>NaN</td>\n",
       "      <td>NaN</td>\n",
       "      <td>NaN</td>\n",
       "      <td>NaN</td>\n",
       "      <td>NaN</td>\n",
       "      <td>1.000</td>\n",
       "      <td>NaN</td>\n",
       "      <td>1.000</td>\n",
       "      <td>1.000</td>\n",
       "      <td>...</td>\n",
       "      <td>NaN</td>\n",
       "      <td>NaN</td>\n",
       "      <td>0.667</td>\n",
       "      <td>1.0</td>\n",
       "      <td>NaN</td>\n",
       "      <td>NaN</td>\n",
       "      <td>NaN</td>\n",
       "      <td>NaN</td>\n",
       "      <td>NaN</td>\n",
       "      <td>0.467</td>\n",
       "    </tr>\n",
       "    <tr>\n",
       "      <th>16</th>\n",
       "      <td>Stel</td>\n",
       "      <td>NaN</td>\n",
       "      <td>NaN</td>\n",
       "      <td>NaN</td>\n",
       "      <td>NaN</td>\n",
       "      <td>NaN</td>\n",
       "      <td>NaN</td>\n",
       "      <td>0.000</td>\n",
       "      <td>NaN</td>\n",
       "      <td>NaN</td>\n",
       "      <td>...</td>\n",
       "      <td>NaN</td>\n",
       "      <td>NaN</td>\n",
       "      <td>NaN</td>\n",
       "      <td>NaN</td>\n",
       "      <td>NaN</td>\n",
       "      <td>0.667</td>\n",
       "      <td>NaN</td>\n",
       "      <td>0.66</td>\n",
       "      <td>NaN</td>\n",
       "      <td>0.575</td>\n",
       "    </tr>\n",
       "    <tr>\n",
       "      <th>17</th>\n",
       "      <td>Jshua</td>\n",
       "      <td>NaN</td>\n",
       "      <td>NaN</td>\n",
       "      <td>NaN</td>\n",
       "      <td>NaN</td>\n",
       "      <td>NaN</td>\n",
       "      <td>NaN</td>\n",
       "      <td>NaN</td>\n",
       "      <td>NaN</td>\n",
       "      <td>NaN</td>\n",
       "      <td>...</td>\n",
       "      <td>NaN</td>\n",
       "      <td>NaN</td>\n",
       "      <td>NaN</td>\n",
       "      <td>NaN</td>\n",
       "      <td>1.000</td>\n",
       "      <td>NaN</td>\n",
       "      <td>NaN</td>\n",
       "      <td>0.50</td>\n",
       "      <td>NaN</td>\n",
       "      <td>0.745</td>\n",
       "    </tr>\n",
       "    <tr>\n",
       "      <th>18</th>\n",
       "      <td>Kish</td>\n",
       "      <td>NaN</td>\n",
       "      <td>NaN</td>\n",
       "      <td>NaN</td>\n",
       "      <td>0.667</td>\n",
       "      <td>NaN</td>\n",
       "      <td>NaN</td>\n",
       "      <td>NaN</td>\n",
       "      <td>NaN</td>\n",
       "      <td>NaN</td>\n",
       "      <td>...</td>\n",
       "      <td>NaN</td>\n",
       "      <td>NaN</td>\n",
       "      <td>NaN</td>\n",
       "      <td>NaN</td>\n",
       "      <td>NaN</td>\n",
       "      <td>NaN</td>\n",
       "      <td>NaN</td>\n",
       "      <td>NaN</td>\n",
       "      <td>NaN</td>\n",
       "      <td>0.615</td>\n",
       "    </tr>\n",
       "    <tr>\n",
       "      <th>19</th>\n",
       "      <td>Kylin</td>\n",
       "      <td>NaN</td>\n",
       "      <td>NaN</td>\n",
       "      <td>NaN</td>\n",
       "      <td>NaN</td>\n",
       "      <td>NaN</td>\n",
       "      <td>NaN</td>\n",
       "      <td>NaN</td>\n",
       "      <td>NaN</td>\n",
       "      <td>0.000</td>\n",
       "      <td>...</td>\n",
       "      <td>0.50</td>\n",
       "      <td>1.000</td>\n",
       "      <td>NaN</td>\n",
       "      <td>NaN</td>\n",
       "      <td>NaN</td>\n",
       "      <td>NaN</td>\n",
       "      <td>NaN</td>\n",
       "      <td>NaN</td>\n",
       "      <td>NaN</td>\n",
       "      <td>0.880</td>\n",
       "    </tr>\n",
       "    <tr>\n",
       "      <th>20</th>\n",
       "      <td>z4yr</td>\n",
       "      <td>NaN</td>\n",
       "      <td>NaN</td>\n",
       "      <td>0.667</td>\n",
       "      <td>NaN</td>\n",
       "      <td>0.750</td>\n",
       "      <td>0.830</td>\n",
       "      <td>0.330</td>\n",
       "      <td>NaN</td>\n",
       "      <td>0.000</td>\n",
       "      <td>...</td>\n",
       "      <td>NaN</td>\n",
       "      <td>NaN</td>\n",
       "      <td>NaN</td>\n",
       "      <td>NaN</td>\n",
       "      <td>1.000</td>\n",
       "      <td>NaN</td>\n",
       "      <td>NaN</td>\n",
       "      <td>NaN</td>\n",
       "      <td>NaN</td>\n",
       "      <td>0.833</td>\n",
       "    </tr>\n",
       "    <tr>\n",
       "      <th>21</th>\n",
       "      <td>Hound</td>\n",
       "      <td>NaN</td>\n",
       "      <td>NaN</td>\n",
       "      <td>NaN</td>\n",
       "      <td>NaN</td>\n",
       "      <td>NaN</td>\n",
       "      <td>NaN</td>\n",
       "      <td>NaN</td>\n",
       "      <td>NaN</td>\n",
       "      <td>NaN</td>\n",
       "      <td>...</td>\n",
       "      <td>NaN</td>\n",
       "      <td>NaN</td>\n",
       "      <td>NaN</td>\n",
       "      <td>NaN</td>\n",
       "      <td>NaN</td>\n",
       "      <td>NaN</td>\n",
       "      <td>1.00</td>\n",
       "      <td>NaN</td>\n",
       "      <td>NaN</td>\n",
       "      <td>0.630</td>\n",
       "    </tr>\n",
       "    <tr>\n",
       "      <th>22</th>\n",
       "      <td>Mount</td>\n",
       "      <td>NaN</td>\n",
       "      <td>NaN</td>\n",
       "      <td>0.750</td>\n",
       "      <td>NaN</td>\n",
       "      <td>NaN</td>\n",
       "      <td>NaN</td>\n",
       "      <td>NaN</td>\n",
       "      <td>NaN</td>\n",
       "      <td>NaN</td>\n",
       "      <td>...</td>\n",
       "      <td>NaN</td>\n",
       "      <td>1.000</td>\n",
       "      <td>NaN</td>\n",
       "      <td>NaN</td>\n",
       "      <td>1.000</td>\n",
       "      <td>1.000</td>\n",
       "      <td>NaN</td>\n",
       "      <td>NaN</td>\n",
       "      <td>NaN</td>\n",
       "      <td>0.840</td>\n",
       "    </tr>\n",
       "    <tr>\n",
       "      <th>23</th>\n",
       "      <td>Nadalie</td>\n",
       "      <td>NaN</td>\n",
       "      <td>NaN</td>\n",
       "      <td>NaN</td>\n",
       "      <td>NaN</td>\n",
       "      <td>NaN</td>\n",
       "      <td>1.000</td>\n",
       "      <td>NaN</td>\n",
       "      <td>NaN</td>\n",
       "      <td>NaN</td>\n",
       "      <td>...</td>\n",
       "      <td>1.00</td>\n",
       "      <td>NaN</td>\n",
       "      <td>NaN</td>\n",
       "      <td>1.0</td>\n",
       "      <td>0.330</td>\n",
       "      <td>NaN</td>\n",
       "      <td>NaN</td>\n",
       "      <td>NaN</td>\n",
       "      <td>0.100</td>\n",
       "      <td>0.550</td>\n",
       "    </tr>\n",
       "    <tr>\n",
       "      <th>24</th>\n",
       "      <td>Richard</td>\n",
       "      <td>NaN</td>\n",
       "      <td>NaN</td>\n",
       "      <td>0.330</td>\n",
       "      <td>NaN</td>\n",
       "      <td>NaN</td>\n",
       "      <td>NaN</td>\n",
       "      <td>NaN</td>\n",
       "      <td>NaN</td>\n",
       "      <td>0.000</td>\n",
       "      <td>...</td>\n",
       "      <td>NaN</td>\n",
       "      <td>1.000</td>\n",
       "      <td>NaN</td>\n",
       "      <td>1.0</td>\n",
       "      <td>NaN</td>\n",
       "      <td>NaN</td>\n",
       "      <td>NaN</td>\n",
       "      <td>NaN</td>\n",
       "      <td>NaN</td>\n",
       "      <td>0.614</td>\n",
       "    </tr>\n",
       "    <tr>\n",
       "      <th>25</th>\n",
       "      <td>Ogunjosam</td>\n",
       "      <td>NaN</td>\n",
       "      <td>NaN</td>\n",
       "      <td>NaN</td>\n",
       "      <td>NaN</td>\n",
       "      <td>NaN</td>\n",
       "      <td>NaN</td>\n",
       "      <td>0.667</td>\n",
       "      <td>1.000</td>\n",
       "      <td>0.000</td>\n",
       "      <td>...</td>\n",
       "      <td>NaN</td>\n",
       "      <td>NaN</td>\n",
       "      <td>1.000</td>\n",
       "      <td>NaN</td>\n",
       "      <td>NaN</td>\n",
       "      <td>NaN</td>\n",
       "      <td>NaN</td>\n",
       "      <td>0.66</td>\n",
       "      <td>NaN</td>\n",
       "      <td>0.800</td>\n",
       "    </tr>\n",
       "    <tr>\n",
       "      <th>26</th>\n",
       "      <td>Robot</td>\n",
       "      <td>NaN</td>\n",
       "      <td>NaN</td>\n",
       "      <td>NaN</td>\n",
       "      <td>NaN</td>\n",
       "      <td>0.000</td>\n",
       "      <td>NaN</td>\n",
       "      <td>NaN</td>\n",
       "      <td>NaN</td>\n",
       "      <td>NaN</td>\n",
       "      <td>...</td>\n",
       "      <td>1.00</td>\n",
       "      <td>1.000</td>\n",
       "      <td>NaN</td>\n",
       "      <td>1.0</td>\n",
       "      <td>NaN</td>\n",
       "      <td>NaN</td>\n",
       "      <td>NaN</td>\n",
       "      <td>NaN</td>\n",
       "      <td>NaN</td>\n",
       "      <td>0.600</td>\n",
       "    </tr>\n",
       "    <tr>\n",
       "      <th>27</th>\n",
       "      <td>Steeges</td>\n",
       "      <td>0.33</td>\n",
       "      <td>NaN</td>\n",
       "      <td>NaN</td>\n",
       "      <td>NaN</td>\n",
       "      <td>NaN</td>\n",
       "      <td>NaN</td>\n",
       "      <td>NaN</td>\n",
       "      <td>1.000</td>\n",
       "      <td>NaN</td>\n",
       "      <td>...</td>\n",
       "      <td>0.33</td>\n",
       "      <td>NaN</td>\n",
       "      <td>NaN</td>\n",
       "      <td>NaN</td>\n",
       "      <td>1.000</td>\n",
       "      <td>1.000</td>\n",
       "      <td>NaN</td>\n",
       "      <td>NaN</td>\n",
       "      <td>0.290</td>\n",
       "      <td>0.730</td>\n",
       "    </tr>\n",
       "    <tr>\n",
       "      <th>28</th>\n",
       "      <td>Vik</td>\n",
       "      <td>NaN</td>\n",
       "      <td>NaN</td>\n",
       "      <td>NaN</td>\n",
       "      <td>NaN</td>\n",
       "      <td>NaN</td>\n",
       "      <td>NaN</td>\n",
       "      <td>NaN</td>\n",
       "      <td>NaN</td>\n",
       "      <td>0.500</td>\n",
       "      <td>...</td>\n",
       "      <td>NaN</td>\n",
       "      <td>NaN</td>\n",
       "      <td>NaN</td>\n",
       "      <td>NaN</td>\n",
       "      <td>1.000</td>\n",
       "      <td>1.000</td>\n",
       "      <td>NaN</td>\n",
       "      <td>NaN</td>\n",
       "      <td>NaN</td>\n",
       "      <td>0.780</td>\n",
       "    </tr>\n",
       "    <tr>\n",
       "      <th>29</th>\n",
       "      <td>Socal</td>\n",
       "      <td>NaN</td>\n",
       "      <td>0.33</td>\n",
       "      <td>NaN</td>\n",
       "      <td>NaN</td>\n",
       "      <td>NaN</td>\n",
       "      <td>NaN</td>\n",
       "      <td>NaN</td>\n",
       "      <td>1.000</td>\n",
       "      <td>0.667</td>\n",
       "      <td>...</td>\n",
       "      <td>NaN</td>\n",
       "      <td>NaN</td>\n",
       "      <td>NaN</td>\n",
       "      <td>NaN</td>\n",
       "      <td>NaN</td>\n",
       "      <td>NaN</td>\n",
       "      <td>1.00</td>\n",
       "      <td>NaN</td>\n",
       "      <td>NaN</td>\n",
       "      <td>0.770</td>\n",
       "    </tr>\n",
       "    <tr>\n",
       "      <th>30</th>\n",
       "      <td>Wolfman</td>\n",
       "      <td>NaN</td>\n",
       "      <td>NaN</td>\n",
       "      <td>NaN</td>\n",
       "      <td>NaN</td>\n",
       "      <td>NaN</td>\n",
       "      <td>NaN</td>\n",
       "      <td>NaN</td>\n",
       "      <td>NaN</td>\n",
       "      <td>NaN</td>\n",
       "      <td>...</td>\n",
       "      <td>NaN</td>\n",
       "      <td>NaN</td>\n",
       "      <td>0.660</td>\n",
       "      <td>NaN</td>\n",
       "      <td>NaN</td>\n",
       "      <td>NaN</td>\n",
       "      <td>NaN</td>\n",
       "      <td>1.00</td>\n",
       "      <td>NaN</td>\n",
       "      <td>0.490</td>\n",
       "    </tr>\n",
       "    <tr>\n",
       "      <th>31</th>\n",
       "      <td>Zer</td>\n",
       "      <td>NaN</td>\n",
       "      <td>NaN</td>\n",
       "      <td>NaN</td>\n",
       "      <td>NaN</td>\n",
       "      <td>0.667</td>\n",
       "      <td>NaN</td>\n",
       "      <td>NaN</td>\n",
       "      <td>NaN</td>\n",
       "      <td>NaN</td>\n",
       "      <td>...</td>\n",
       "      <td>0.10</td>\n",
       "      <td>NaN</td>\n",
       "      <td>NaN</td>\n",
       "      <td>NaN</td>\n",
       "      <td>0.290</td>\n",
       "      <td>NaN</td>\n",
       "      <td>NaN</td>\n",
       "      <td>NaN</td>\n",
       "      <td>1.000</td>\n",
       "      <td>0.714</td>\n",
       "    </tr>\n",
       "    <tr>\n",
       "      <th>32</th>\n",
       "      <td>ML</td>\n",
       "      <td>0.63</td>\n",
       "      <td>0.66</td>\n",
       "      <td>0.465</td>\n",
       "      <td>0.513</td>\n",
       "      <td>0.714</td>\n",
       "      <td>0.578</td>\n",
       "      <td>0.620</td>\n",
       "      <td>0.824</td>\n",
       "      <td>0.290</td>\n",
       "      <td>...</td>\n",
       "      <td>0.55</td>\n",
       "      <td>0.614</td>\n",
       "      <td>0.800</td>\n",
       "      <td>0.6</td>\n",
       "      <td>0.730</td>\n",
       "      <td>0.780</td>\n",
       "      <td>0.77</td>\n",
       "      <td>0.49</td>\n",
       "      <td>0.714</td>\n",
       "      <td>1.000</td>\n",
       "    </tr>\n",
       "  </tbody>\n",
       "</table>\n",
       "<p>33 rows × 34 columns</p>\n",
       "</div>"
      ],
      "text/plain": [
       "    Unnamed: 0  Anuj  Fizzy  Elbeth    Bfa   Gold    Bob    Lkh   Waka  Trice  \\\n",
       "0         Anuj  1.00    NaN     NaN    NaN    NaN    NaN    NaN    NaN    NaN   \n",
       "1        Fizzy   NaN   1.00   0.000    NaN  0.660    NaN    NaN    NaN    NaN   \n",
       "2       Elbeth   NaN   0.00   1.000  0.667    NaN    NaN    NaN    NaN  0.667   \n",
       "3          Bfa   NaN    NaN   0.667  1.000  1.000    NaN    NaN    NaN    NaN   \n",
       "4         Gold   NaN   0.66     NaN  1.000  1.000    NaN  0.330    NaN    NaN   \n",
       "5          Bob   NaN    NaN     NaN    NaN    NaN  1.000  1.000  1.000    NaN   \n",
       "6          Lkh   NaN    NaN     NaN    NaN  0.330  1.000  1.000    NaN  0.500   \n",
       "7         Waka   NaN    NaN     NaN    NaN    NaN  1.000    NaN  1.000    NaN   \n",
       "8        Trice   NaN    NaN   0.667    NaN    NaN    NaN  0.500    NaN  1.000   \n",
       "9        Proof   NaN    NaN     NaN    NaN    NaN    NaN    NaN    NaN    NaN   \n",
       "10    Emmanuel   NaN    NaN     NaN    NaN    NaN    NaN    NaN    NaN  1.000   \n",
       "11        Dogg   NaN    NaN     NaN  0.800    NaN    NaN  0.667    NaN    NaN   \n",
       "12        Flob   NaN    NaN     NaN    NaN    NaN    NaN    NaN  0.000    NaN   \n",
       "13  Emmanuel.J   NaN    NaN     NaN    NaN    NaN    NaN    NaN    NaN    NaN   \n",
       "14        Greg   NaN    NaN     NaN    NaN    NaN    NaN    NaN  0.000  0.500   \n",
       "15        Grey   NaN    NaN     NaN    NaN    NaN  1.000    NaN  1.000  1.000   \n",
       "16        Stel   NaN    NaN     NaN    NaN    NaN    NaN  0.000    NaN    NaN   \n",
       "17       Jshua   NaN    NaN     NaN    NaN    NaN    NaN    NaN    NaN    NaN   \n",
       "18        Kish   NaN    NaN     NaN  0.667    NaN    NaN    NaN    NaN    NaN   \n",
       "19       Kylin   NaN    NaN     NaN    NaN    NaN    NaN    NaN    NaN  0.000   \n",
       "20        z4yr   NaN    NaN   0.667    NaN  0.750  0.830  0.330    NaN  0.000   \n",
       "21       Hound   NaN    NaN     NaN    NaN    NaN    NaN    NaN    NaN    NaN   \n",
       "22       Mount   NaN    NaN   0.750    NaN    NaN    NaN    NaN    NaN    NaN   \n",
       "23     Nadalie   NaN    NaN     NaN    NaN    NaN  1.000    NaN    NaN    NaN   \n",
       "24     Richard   NaN    NaN   0.330    NaN    NaN    NaN    NaN    NaN  0.000   \n",
       "25   Ogunjosam   NaN    NaN     NaN    NaN    NaN    NaN  0.667  1.000  0.000   \n",
       "26       Robot   NaN    NaN     NaN    NaN  0.000    NaN    NaN    NaN    NaN   \n",
       "27     Steeges  0.33    NaN     NaN    NaN    NaN    NaN    NaN  1.000    NaN   \n",
       "28         Vik   NaN    NaN     NaN    NaN    NaN    NaN    NaN    NaN  0.500   \n",
       "29       Socal   NaN   0.33     NaN    NaN    NaN    NaN    NaN  1.000  0.667   \n",
       "30     Wolfman   NaN    NaN     NaN    NaN    NaN    NaN    NaN    NaN    NaN   \n",
       "31         Zer   NaN    NaN     NaN    NaN  0.667    NaN    NaN    NaN    NaN   \n",
       "32          ML  0.63   0.66   0.465  0.513  0.714  0.578  0.620  0.824  0.290   \n",
       "\n",
       "    ...  Nadalie  Richard  Ogunjosam  Robot  Steeges    Vik  Socal  Wolfman  \\\n",
       "0   ...      NaN      NaN        NaN    NaN    0.330    NaN    NaN      NaN   \n",
       "1   ...      NaN      NaN        NaN    NaN      NaN    NaN   0.33      NaN   \n",
       "2   ...      NaN    0.330        NaN    NaN      NaN    NaN    NaN      NaN   \n",
       "3   ...      NaN      NaN        NaN    NaN      NaN    NaN    NaN      NaN   \n",
       "4   ...      NaN      NaN        NaN    0.0      NaN    NaN    NaN      NaN   \n",
       "5   ...     1.00      NaN        NaN    NaN      NaN    NaN    NaN      NaN   \n",
       "6   ...      NaN      NaN      0.667    NaN      NaN    NaN    NaN      NaN   \n",
       "7   ...      NaN      NaN      1.000    NaN    1.000    NaN   1.00      NaN   \n",
       "8   ...      NaN    0.000      0.000    NaN      NaN  0.500    NaN      NaN   \n",
       "9   ...      NaN      NaN        NaN    NaN    0.667    NaN    NaN      NaN   \n",
       "10  ...      NaN      NaN        NaN    NaN      NaN    NaN    NaN      NaN   \n",
       "11  ...      NaN      NaN        NaN    NaN      NaN    NaN    NaN      NaN   \n",
       "12  ...      NaN      NaN        NaN    NaN      NaN    NaN    NaN      NaN   \n",
       "13  ...     0.33      NaN      0.667    NaN    1.000    NaN    NaN      NaN   \n",
       "14  ...      NaN    0.800        NaN    NaN      NaN  1.000    NaN      NaN   \n",
       "15  ...      NaN      NaN      0.667    1.0      NaN    NaN    NaN      NaN   \n",
       "16  ...      NaN      NaN        NaN    NaN      NaN  0.667    NaN     0.66   \n",
       "17  ...      NaN      NaN        NaN    NaN    1.000    NaN    NaN     0.50   \n",
       "18  ...      NaN      NaN        NaN    NaN      NaN    NaN    NaN      NaN   \n",
       "19  ...     0.50    1.000        NaN    NaN      NaN    NaN    NaN      NaN   \n",
       "20  ...      NaN      NaN        NaN    NaN    1.000    NaN    NaN      NaN   \n",
       "21  ...      NaN      NaN        NaN    NaN      NaN    NaN   1.00      NaN   \n",
       "22  ...      NaN    1.000        NaN    NaN    1.000  1.000    NaN      NaN   \n",
       "23  ...     1.00      NaN        NaN    1.0    0.330    NaN    NaN      NaN   \n",
       "24  ...      NaN    1.000        NaN    1.0      NaN    NaN    NaN      NaN   \n",
       "25  ...      NaN      NaN      1.000    NaN      NaN    NaN    NaN     0.66   \n",
       "26  ...     1.00    1.000        NaN    1.0      NaN    NaN    NaN      NaN   \n",
       "27  ...     0.33      NaN        NaN    NaN    1.000  1.000    NaN      NaN   \n",
       "28  ...      NaN      NaN        NaN    NaN    1.000  1.000    NaN      NaN   \n",
       "29  ...      NaN      NaN        NaN    NaN      NaN    NaN   1.00      NaN   \n",
       "30  ...      NaN      NaN      0.660    NaN      NaN    NaN    NaN     1.00   \n",
       "31  ...     0.10      NaN        NaN    NaN    0.290    NaN    NaN      NaN   \n",
       "32  ...     0.55    0.614      0.800    0.6    0.730  0.780   0.77     0.49   \n",
       "\n",
       "      Zer     ML  \n",
       "0     NaN  0.630  \n",
       "1     NaN  0.660  \n",
       "2     NaN  0.465  \n",
       "3     NaN  0.513  \n",
       "4   0.667  0.714  \n",
       "5     NaN  0.578  \n",
       "6     NaN  0.620  \n",
       "7     NaN  0.824  \n",
       "8     NaN  0.290  \n",
       "9     NaN  0.680  \n",
       "10    NaN  0.470  \n",
       "11    NaN  0.525  \n",
       "12  0.750  0.840  \n",
       "13    NaN  0.816  \n",
       "14    NaN  0.720  \n",
       "15    NaN  0.467  \n",
       "16    NaN  0.575  \n",
       "17    NaN  0.745  \n",
       "18    NaN  0.615  \n",
       "19    NaN  0.880  \n",
       "20    NaN  0.833  \n",
       "21    NaN  0.630  \n",
       "22    NaN  0.840  \n",
       "23  0.100  0.550  \n",
       "24    NaN  0.614  \n",
       "25    NaN  0.800  \n",
       "26    NaN  0.600  \n",
       "27  0.290  0.730  \n",
       "28    NaN  0.780  \n",
       "29    NaN  0.770  \n",
       "30    NaN  0.490  \n",
       "31  1.000  0.714  \n",
       "32  0.714  1.000  \n",
       "\n",
       "[33 rows x 34 columns]"
      ]
     },
     "execution_count": 554,
     "metadata": {},
     "output_type": "execute_result"
    }
   ],
   "source": [
    "corr2"
   ]
  },
  {
   "cell_type": "code",
   "execution_count": 555,
   "id": "43f30fed",
   "metadata": {},
   "outputs": [],
   "source": [
    "corr.fillna(999, inplace=True)"
   ]
  },
  {
   "cell_type": "code",
   "execution_count": 557,
   "id": "d77fe71d",
   "metadata": {
    "scrolled": false
   },
   "outputs": [
    {
     "data": {
      "image/png": "[encoded data removed]",
      "text/plain": [
       "<Figure size 1800x720 with 2 Axes>"
      ]
     },
     "metadata": {},
     "output_type": "display_data"
    }
   ],
   "source": [
    "import seaborn as sns\n",
    "import matplotlib.pyplot as plt\n",
    "# You can change the values here to your taste.\n",
    "plt.figure(figsize=(25,10))\n",
    "sns.set(rc={'axes.facecolor':'white', 'figure.facecolor':'white'})\n",
    "corr2.rename({\"Unnamed: 0\": \" \"}, axis=1, inplace=True)\n",
    "sns.heatmap(corr2.set_index(\" \"), annot=True, cmap=\"YlGnBu\", linecolor=\"red\", linewidths=0.5)\n",
    "plt.title(\"Heatmap of Total Agreements\", fontsize=20)\n",
    "plt.savefig(\"Heatmap_total_agreements.png\")\n",
    "plt.show()\n"
   ]
  },
  {
   "cell_type": "code",
   "execution_count": 548,
   "id": "d2d3c833",
   "metadata": {},
   "outputs": [
    {
     "data": {
      "image/png": "[encoded data removed]",
      "text/plain": [
       "<Figure size 1080x432 with 2 Axes>"
      ]
     },
     "metadata": {},
     "output_type": "display_data"
    }
   ],
   "source": [
    "import seaborn as sns\n",
    "import matplotlib.pyplot as plt\n",
    "# You can change the values here to your taste.\n",
    "plt.figure(figsize=(15,6))\n",
    "sns.set(rc={'axes.facecolor':'lightblue', 'figure.facecolor':'white'})\n",
    "corr.rename({\"Unnamed: 0\": \" \"}, axis=1, inplace=True)\n",
    "sns.heatmap(corr.set_index(\" \"), annot=True)\n",
    "plt.title(\"Heatmap of Interrater Reliability\")\n",
    "#plt.savefig(\"heatmap.png\")\n",
    "plt.show()\n"
   ]
  },
  {
   "cell_type": "code",
   "execution_count": 544,
   "id": "21a1ca92",
   "metadata": {},
   "outputs": [
    {
     "data": {
      "text/html": [
       "<div>\n",
       "<style scoped>\n",
       "    .dataframe tbody tr th:only-of-type {\n",
       "        vertical-align: middle;\n",
       "    }\n",
       "\n",
       "    .dataframe tbody tr th {\n",
       "        vertical-align: top;\n",
       "    }\n",
       "\n",
       "    .dataframe thead th {\n",
       "        text-align: right;\n",
       "    }\n",
       "</style>\n",
       "<table border=\"1\" class=\"dataframe\">\n",
       "  <thead>\n",
       "    <tr style=\"text-align: right;\">\n",
       "      <th></th>\n",
       "      <th></th>\n",
       "      <th>ogunjosam</th>\n",
       "      <th>Hound</th>\n",
       "      <th>Stelescuvlad</th>\n",
       "      <th>Bob</th>\n",
       "      <th>Fizzy</th>\n",
       "      <th>Richard</th>\n",
       "      <th>Elbeth</th>\n",
       "      <th>Gold</th>\n",
       "      <th>Mount</th>\n",
       "      <th>...</th>\n",
       "      <th>Z4yr</th>\n",
       "      <th>Trice</th>\n",
       "      <th>Dogg</th>\n",
       "      <th>Kish</th>\n",
       "      <th>Bfa</th>\n",
       "      <th>LKH</th>\n",
       "      <th>Zer</th>\n",
       "      <th>Grey</th>\n",
       "      <th>Nadalie</th>\n",
       "      <th>Ann2</th>\n",
       "    </tr>\n",
       "  </thead>\n",
       "  <tbody>\n",
       "    <tr>\n",
       "      <th>0</th>\n",
       "      <td>ogunjosam</td>\n",
       "      <td>-</td>\n",
       "      <td>-</td>\n",
       "      <td>-</td>\n",
       "      <td>-</td>\n",
       "      <td>-</td>\n",
       "      <td>-</td>\n",
       "      <td>-</td>\n",
       "      <td>-</td>\n",
       "      <td>-</td>\n",
       "      <td>...</td>\n",
       "      <td>-</td>\n",
       "      <td>-</td>\n",
       "      <td>-</td>\n",
       "      <td>-</td>\n",
       "      <td>-</td>\n",
       "      <td>-</td>\n",
       "      <td>-</td>\n",
       "      <td>-</td>\n",
       "      <td>-</td>\n",
       "      <td>-</td>\n",
       "    </tr>\n",
       "    <tr>\n",
       "      <th>1</th>\n",
       "      <td>Hound</td>\n",
       "      <td>-</td>\n",
       "      <td>-</td>\n",
       "      <td>-</td>\n",
       "      <td>-</td>\n",
       "      <td>-</td>\n",
       "      <td>-</td>\n",
       "      <td>-</td>\n",
       "      <td>-</td>\n",
       "      <td>-</td>\n",
       "      <td>...</td>\n",
       "      <td>-</td>\n",
       "      <td>-</td>\n",
       "      <td>-</td>\n",
       "      <td>-</td>\n",
       "      <td>-</td>\n",
       "      <td>-</td>\n",
       "      <td>-</td>\n",
       "      <td>-</td>\n",
       "      <td>-</td>\n",
       "      <td>-</td>\n",
       "    </tr>\n",
       "    <tr>\n",
       "      <th>2</th>\n",
       "      <td>Stelescuvlad</td>\n",
       "      <td>-</td>\n",
       "      <td>-</td>\n",
       "      <td>-</td>\n",
       "      <td>-</td>\n",
       "      <td>-</td>\n",
       "      <td>-</td>\n",
       "      <td>-</td>\n",
       "      <td>-</td>\n",
       "      <td>-</td>\n",
       "      <td>...</td>\n",
       "      <td>-</td>\n",
       "      <td>-</td>\n",
       "      <td>-</td>\n",
       "      <td>-</td>\n",
       "      <td>-</td>\n",
       "      <td>-</td>\n",
       "      <td>-</td>\n",
       "      <td>-</td>\n",
       "      <td>-</td>\n",
       "      <td>-</td>\n",
       "    </tr>\n",
       "    <tr>\n",
       "      <th>3</th>\n",
       "      <td>Bob</td>\n",
       "      <td>-</td>\n",
       "      <td>-</td>\n",
       "      <td>-</td>\n",
       "      <td>-</td>\n",
       "      <td>-</td>\n",
       "      <td>-</td>\n",
       "      <td>-</td>\n",
       "      <td>-</td>\n",
       "      <td>-</td>\n",
       "      <td>...</td>\n",
       "      <td>0.0</td>\n",
       "      <td>-</td>\n",
       "      <td>-</td>\n",
       "      <td>-</td>\n",
       "      <td>-</td>\n",
       "      <td>1.0</td>\n",
       "      <td>-</td>\n",
       "      <td>-</td>\n",
       "      <td>1.0</td>\n",
       "      <td>0.4</td>\n",
       "    </tr>\n",
       "    <tr>\n",
       "      <th>4</th>\n",
       "      <td>Fizzy</td>\n",
       "      <td>-</td>\n",
       "      <td>-</td>\n",
       "      <td>-</td>\n",
       "      <td>-</td>\n",
       "      <td>1.0</td>\n",
       "      <td>-0.33</td>\n",
       "      <td>0.0</td>\n",
       "      <td>0.39</td>\n",
       "      <td>-</td>\n",
       "      <td>...</td>\n",
       "      <td>-</td>\n",
       "      <td>-</td>\n",
       "      <td>-</td>\n",
       "      <td>-</td>\n",
       "      <td>-</td>\n",
       "      <td>-</td>\n",
       "      <td>-</td>\n",
       "      <td>-</td>\n",
       "      <td>-</td>\n",
       "      <td>-</td>\n",
       "    </tr>\n",
       "    <tr>\n",
       "      <th>5</th>\n",
       "      <td>Richard</td>\n",
       "      <td>-</td>\n",
       "      <td>-</td>\n",
       "      <td>-</td>\n",
       "      <td>-</td>\n",
       "      <td>-</td>\n",
       "      <td>-</td>\n",
       "      <td>-</td>\n",
       "      <td>-</td>\n",
       "      <td>-</td>\n",
       "      <td>...</td>\n",
       "      <td>-</td>\n",
       "      <td>-</td>\n",
       "      <td>-</td>\n",
       "      <td>-</td>\n",
       "      <td>-</td>\n",
       "      <td>-</td>\n",
       "      <td>-</td>\n",
       "      <td>-</td>\n",
       "      <td>-</td>\n",
       "      <td>-</td>\n",
       "    </tr>\n",
       "    <tr>\n",
       "      <th>6</th>\n",
       "      <td>Elbeth</td>\n",
       "      <td>-</td>\n",
       "      <td>-</td>\n",
       "      <td>-</td>\n",
       "      <td>-</td>\n",
       "      <td>0.0</td>\n",
       "      <td>0.0</td>\n",
       "      <td>-</td>\n",
       "      <td>-</td>\n",
       "      <td>0.5</td>\n",
       "      <td>...</td>\n",
       "      <td>0.4</td>\n",
       "      <td>-0.25</td>\n",
       "      <td>-</td>\n",
       "      <td>-</td>\n",
       "      <td>-</td>\n",
       "      <td>-</td>\n",
       "      <td>-</td>\n",
       "      <td>-</td>\n",
       "      <td>-</td>\n",
       "      <td>-</td>\n",
       "    </tr>\n",
       "    <tr>\n",
       "      <th>7</th>\n",
       "      <td>Gold</td>\n",
       "      <td>-</td>\n",
       "      <td>-</td>\n",
       "      <td>-</td>\n",
       "      <td>-</td>\n",
       "      <td>0.4</td>\n",
       "      <td>-</td>\n",
       "      <td>-</td>\n",
       "      <td>-</td>\n",
       "      <td>-</td>\n",
       "      <td>...</td>\n",
       "      <td>0.5</td>\n",
       "      <td>-</td>\n",
       "      <td>-</td>\n",
       "      <td>-</td>\n",
       "      <td>1.0</td>\n",
       "      <td>0.0</td>\n",
       "      <td>0.0</td>\n",
       "      <td>-</td>\n",
       "      <td>-</td>\n",
       "      <td>-</td>\n",
       "    </tr>\n",
       "    <tr>\n",
       "      <th>8</th>\n",
       "      <td>Mount</td>\n",
       "      <td>-</td>\n",
       "      <td>-</td>\n",
       "      <td>-</td>\n",
       "      <td>-</td>\n",
       "      <td>-</td>\n",
       "      <td>-</td>\n",
       "      <td>-</td>\n",
       "      <td>-</td>\n",
       "      <td>-</td>\n",
       "      <td>...</td>\n",
       "      <td>-</td>\n",
       "      <td>-</td>\n",
       "      <td>-</td>\n",
       "      <td>-</td>\n",
       "      <td>-</td>\n",
       "      <td>-</td>\n",
       "      <td>-</td>\n",
       "      <td>-</td>\n",
       "      <td>-</td>\n",
       "      <td>-</td>\n",
       "    </tr>\n",
       "    <tr>\n",
       "      <th>9</th>\n",
       "      <td>Robot</td>\n",
       "      <td>-</td>\n",
       "      <td>-</td>\n",
       "      <td>-</td>\n",
       "      <td>-</td>\n",
       "      <td>-</td>\n",
       "      <td>-</td>\n",
       "      <td>-</td>\n",
       "      <td>-</td>\n",
       "      <td>-</td>\n",
       "      <td>...</td>\n",
       "      <td>-</td>\n",
       "      <td>-</td>\n",
       "      <td>-</td>\n",
       "      <td>-</td>\n",
       "      <td>-</td>\n",
       "      <td>-</td>\n",
       "      <td>-</td>\n",
       "      <td>-</td>\n",
       "      <td>-</td>\n",
       "      <td>-</td>\n",
       "    </tr>\n",
       "    <tr>\n",
       "      <th>10</th>\n",
       "      <td>Z4yr</td>\n",
       "      <td>-</td>\n",
       "      <td>-</td>\n",
       "      <td>-</td>\n",
       "      <td>-</td>\n",
       "      <td>-</td>\n",
       "      <td>-</td>\n",
       "      <td>-</td>\n",
       "      <td>-</td>\n",
       "      <td>-</td>\n",
       "      <td>...</td>\n",
       "      <td>-</td>\n",
       "      <td>-</td>\n",
       "      <td>-</td>\n",
       "      <td>-</td>\n",
       "      <td>-</td>\n",
       "      <td>-</td>\n",
       "      <td>-</td>\n",
       "      <td>-</td>\n",
       "      <td>-</td>\n",
       "      <td>-</td>\n",
       "    </tr>\n",
       "    <tr>\n",
       "      <th>11</th>\n",
       "      <td>Trice</td>\n",
       "      <td>-</td>\n",
       "      <td>-</td>\n",
       "      <td>-</td>\n",
       "      <td>-</td>\n",
       "      <td>-</td>\n",
       "      <td>-</td>\n",
       "      <td>-</td>\n",
       "      <td>-</td>\n",
       "      <td>-</td>\n",
       "      <td>...</td>\n",
       "      <td>-</td>\n",
       "      <td>-</td>\n",
       "      <td>-</td>\n",
       "      <td>-</td>\n",
       "      <td>-</td>\n",
       "      <td>-</td>\n",
       "      <td>-</td>\n",
       "      <td>-</td>\n",
       "      <td>-</td>\n",
       "      <td>-</td>\n",
       "    </tr>\n",
       "    <tr>\n",
       "      <th>12</th>\n",
       "      <td>Dogg</td>\n",
       "      <td>-</td>\n",
       "      <td>-</td>\n",
       "      <td>-</td>\n",
       "      <td>-</td>\n",
       "      <td>-</td>\n",
       "      <td>-</td>\n",
       "      <td>-</td>\n",
       "      <td>-</td>\n",
       "      <td>-</td>\n",
       "      <td>...</td>\n",
       "      <td>-</td>\n",
       "      <td>-</td>\n",
       "      <td>-</td>\n",
       "      <td>-</td>\n",
       "      <td>-</td>\n",
       "      <td>-</td>\n",
       "      <td>-</td>\n",
       "      <td>-</td>\n",
       "      <td>-</td>\n",
       "      <td>-</td>\n",
       "    </tr>\n",
       "    <tr>\n",
       "      <th>13</th>\n",
       "      <td>Kish</td>\n",
       "      <td>-</td>\n",
       "      <td>-</td>\n",
       "      <td>-</td>\n",
       "      <td>-</td>\n",
       "      <td>-</td>\n",
       "      <td>-</td>\n",
       "      <td>-</td>\n",
       "      <td>-</td>\n",
       "      <td>-</td>\n",
       "      <td>...</td>\n",
       "      <td>-</td>\n",
       "      <td>-</td>\n",
       "      <td>-</td>\n",
       "      <td>-</td>\n",
       "      <td>-</td>\n",
       "      <td>-</td>\n",
       "      <td>-</td>\n",
       "      <td>-</td>\n",
       "      <td>-</td>\n",
       "      <td>-</td>\n",
       "    </tr>\n",
       "    <tr>\n",
       "      <th>14</th>\n",
       "      <td>Bfa</td>\n",
       "      <td>-</td>\n",
       "      <td>-</td>\n",
       "      <td>-</td>\n",
       "      <td>-</td>\n",
       "      <td>-</td>\n",
       "      <td>-</td>\n",
       "      <td>0.4</td>\n",
       "      <td>1.0</td>\n",
       "      <td>-</td>\n",
       "      <td>...</td>\n",
       "      <td>-</td>\n",
       "      <td>-</td>\n",
       "      <td>0.545</td>\n",
       "      <td>0.0</td>\n",
       "      <td>-</td>\n",
       "      <td>-</td>\n",
       "      <td>-</td>\n",
       "      <td>-</td>\n",
       "      <td>-</td>\n",
       "      <td>-</td>\n",
       "    </tr>\n",
       "    <tr>\n",
       "      <th>15</th>\n",
       "      <td>LKH</td>\n",
       "      <td>0.4</td>\n",
       "      <td>1.0</td>\n",
       "      <td>0.0</td>\n",
       "      <td>1.0</td>\n",
       "      <td>-</td>\n",
       "      <td>-</td>\n",
       "      <td>-</td>\n",
       "      <td>-</td>\n",
       "      <td>-</td>\n",
       "      <td>...</td>\n",
       "      <td>0.0</td>\n",
       "      <td>-</td>\n",
       "      <td>0.0</td>\n",
       "      <td>-</td>\n",
       "      <td>-</td>\n",
       "      <td>-</td>\n",
       "      <td>-</td>\n",
       "      <td>-</td>\n",
       "      <td>-</td>\n",
       "      <td>-</td>\n",
       "    </tr>\n",
       "    <tr>\n",
       "      <th>16</th>\n",
       "      <td>Zer</td>\n",
       "      <td>-</td>\n",
       "      <td>-</td>\n",
       "      <td>-</td>\n",
       "      <td>-</td>\n",
       "      <td>-</td>\n",
       "      <td>-</td>\n",
       "      <td>-</td>\n",
       "      <td>-</td>\n",
       "      <td>-</td>\n",
       "      <td>...</td>\n",
       "      <td>-</td>\n",
       "      <td>-</td>\n",
       "      <td>-</td>\n",
       "      <td>-</td>\n",
       "      <td>-</td>\n",
       "      <td>-</td>\n",
       "      <td>-</td>\n",
       "      <td>-</td>\n",
       "      <td>-</td>\n",
       "      <td>-</td>\n",
       "    </tr>\n",
       "    <tr>\n",
       "      <th>17</th>\n",
       "      <td>Grey</td>\n",
       "      <td>-</td>\n",
       "      <td>-</td>\n",
       "      <td>-</td>\n",
       "      <td>-</td>\n",
       "      <td>-</td>\n",
       "      <td>-</td>\n",
       "      <td>-</td>\n",
       "      <td>-</td>\n",
       "      <td>-</td>\n",
       "      <td>...</td>\n",
       "      <td>-</td>\n",
       "      <td>-</td>\n",
       "      <td>-</td>\n",
       "      <td>-</td>\n",
       "      <td>-</td>\n",
       "      <td>-</td>\n",
       "      <td>-</td>\n",
       "      <td>-</td>\n",
       "      <td>-</td>\n",
       "      <td>-</td>\n",
       "    </tr>\n",
       "    <tr>\n",
       "      <th>18</th>\n",
       "      <td>Nadalie</td>\n",
       "      <td>-</td>\n",
       "      <td>-</td>\n",
       "      <td>-</td>\n",
       "      <td>-</td>\n",
       "      <td>-</td>\n",
       "      <td>-</td>\n",
       "      <td>-</td>\n",
       "      <td>-</td>\n",
       "      <td>-</td>\n",
       "      <td>...</td>\n",
       "      <td>-</td>\n",
       "      <td>-</td>\n",
       "      <td>-</td>\n",
       "      <td>-</td>\n",
       "      <td>-</td>\n",
       "      <td>-</td>\n",
       "      <td>-</td>\n",
       "      <td>-</td>\n",
       "      <td>-</td>\n",
       "      <td>-</td>\n",
       "    </tr>\n",
       "    <tr>\n",
       "      <th>19</th>\n",
       "      <td>Ann2</td>\n",
       "      <td>-</td>\n",
       "      <td>-</td>\n",
       "      <td>-</td>\n",
       "      <td>-</td>\n",
       "      <td>-</td>\n",
       "      <td>-</td>\n",
       "      <td>-</td>\n",
       "      <td>-</td>\n",
       "      <td>-</td>\n",
       "      <td>...</td>\n",
       "      <td>-</td>\n",
       "      <td>-</td>\n",
       "      <td>-</td>\n",
       "      <td>-</td>\n",
       "      <td>-</td>\n",
       "      <td>-</td>\n",
       "      <td>-</td>\n",
       "      <td>-</td>\n",
       "      <td>-</td>\n",
       "      <td>-</td>\n",
       "    </tr>\n",
       "  </tbody>\n",
       "</table>\n",
       "<p>20 rows × 21 columns</p>\n",
       "</div>"
      ],
      "text/plain": [
       "                 ogunjosam Hound Stelescuvlad  Bob Fizzy Richard Elbeth  Gold  \\\n",
       "0      ogunjosam         -     -            -    -     -       -      -     -   \n",
       "1          Hound         -     -            -    -     -       -      -     -   \n",
       "2   Stelescuvlad         -     -            -    -     -       -      -     -   \n",
       "3            Bob         -     -            -    -     -       -      -     -   \n",
       "4          Fizzy         -     -            -    -   1.0   -0.33    0.0  0.39   \n",
       "5        Richard         -     -            -    -     -       -      -     -   \n",
       "6         Elbeth         -     -            -    -   0.0     0.0      -     -   \n",
       "7           Gold         -     -            -    -   0.4       -      -     -   \n",
       "8          Mount         -     -            -    -     -       -      -     -   \n",
       "9          Robot         -     -            -    -     -       -      -     -   \n",
       "10          Z4yr         -     -            -    -     -       -      -     -   \n",
       "11         Trice         -     -            -    -     -       -      -     -   \n",
       "12          Dogg         -     -            -    -     -       -      -     -   \n",
       "13          Kish         -     -            -    -     -       -      -     -   \n",
       "14           Bfa         -     -            -    -     -       -    0.4   1.0   \n",
       "15           LKH       0.4   1.0          0.0  1.0     -       -      -     -   \n",
       "16           Zer         -     -            -    -     -       -      -     -   \n",
       "17          Grey         -     -            -    -     -       -      -     -   \n",
       "18       Nadalie         -     -            -    -     -       -      -     -   \n",
       "19          Ann2         -     -            -    -     -       -      -     -   \n",
       "\n",
       "   Mount  ... Z4yr Trice   Dogg Kish  Bfa  LKH  Zer Grey Nadalie Ann2  \n",
       "0      -  ...    -     -      -    -    -    -    -    -       -    -  \n",
       "1      -  ...    -     -      -    -    -    -    -    -       -    -  \n",
       "2      -  ...    -     -      -    -    -    -    -    -       -    -  \n",
       "3      -  ...  0.0     -      -    -    -  1.0    -    -     1.0  0.4  \n",
       "4      -  ...    -     -      -    -    -    -    -    -       -    -  \n",
       "5      -  ...    -     -      -    -    -    -    -    -       -    -  \n",
       "6    0.5  ...  0.4 -0.25      -    -    -    -    -    -       -    -  \n",
       "7      -  ...  0.5     -      -    -  1.0  0.0  0.0    -       -    -  \n",
       "8      -  ...    -     -      -    -    -    -    -    -       -    -  \n",
       "9      -  ...    -     -      -    -    -    -    -    -       -    -  \n",
       "10     -  ...    -     -      -    -    -    -    -    -       -    -  \n",
       "11     -  ...    -     -      -    -    -    -    -    -       -    -  \n",
       "12     -  ...    -     -      -    -    -    -    -    -       -    -  \n",
       "13     -  ...    -     -      -    -    -    -    -    -       -    -  \n",
       "14     -  ...    -     -  0.545  0.0    -    -    -    -       -    -  \n",
       "15     -  ...  0.0     -    0.0    -    -    -    -    -       -    -  \n",
       "16     -  ...    -     -      -    -    -    -    -    -       -    -  \n",
       "17     -  ...    -     -      -    -    -    -    -    -       -    -  \n",
       "18     -  ...    -     -      -    -    -    -    -    -       -    -  \n",
       "19     -  ...    -     -      -    -    -    -    -    -       -    -  \n",
       "\n",
       "[20 rows x 21 columns]"
      ]
     },
     "execution_count": 544,
     "metadata": {},
     "output_type": "execute_result"
    }
   ],
   "source": [
    "corr"
   ]
  },
  {
   "cell_type": "code",
   "execution_count": null,
   "id": "429f2d52",
   "metadata": {},
   "outputs": [],
   "source": []
  }
 ],
 "metadata": {
  "kernelspec": {
   "display_name": "Python 3",
   "language": "python",
   "name": "python3"
  },
  "language_info": {
   "codemirror_mode": {
    "name": "ipython",
    "version": 3
   },
   "file_extension": ".py",
   "mimetype": "text/x-python",
   "name": "python",
   "nbconvert_exporter": "python",
   "pygments_lexer": "ipython3",
   "version": "3.7.6"
  }
 },
 "nbformat": 4,
 "nbformat_minor": 5
}
