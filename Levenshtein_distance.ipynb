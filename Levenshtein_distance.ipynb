{
 "cells": [
  {
   "cell_type": "markdown",
   "id": "419dff86",
   "metadata": {},
   "source": [
    "### Levenshtein distance\n",
    "\n",
    "In information theory, linguistics, and computer science, the Levenshtein distance is a string metric for measuring the difference between two sequences. Informally, the Levenshtein distance between two words is the minimum number of single-character edits (insertions, deletions or substitutions) required to change one word into the other.\n",
    "\n",
    "With this analysis done, we can compare how close any pair of handles are which gives an indication of a sybil or non sybil account. "
   ]
  },
  {
   "cell_type": "markdown",
   "id": "129d9239",
   "metadata": {},
   "source": [
    "### Importing the necessary libraries"
   ]
  },
  {
   "cell_type": "code",
   "execution_count": null,
   "id": "07f142be",
   "metadata": {},
   "outputs": [],
   "source": [
    "## To install the jellyfish library.\n",
    "\n",
    "!pip install jellyfish"
   ]
  },
  {
   "cell_type": "code",
   "execution_count": 1,
   "id": "65c9ce83",
   "metadata": {},
   "outputs": [],
   "source": [
    "## For data manipulation\n",
    "import pandas as pd\n",
    "from difflib import SequenceMatcher\n",
    "\n",
    "## For numerical computations\n",
    "import numpy as np\n",
    "\n",
    "## For Visualizations\n",
    "import seaborn as sns \n",
    "import matplotlib.pyplot as plt\n",
    "\n",
    "## To calculate the Levenshtein distance.\n",
    "import jellyfish"
   ]
  },
  {
   "cell_type": "markdown",
   "id": "faf3ef9d",
   "metadata": {},
   "source": [
    "### Importing the dataset needed for the analysis"
   ]
  },
  {
   "cell_type": "code",
   "execution_count": 1,
   "id": "9bb9c179",
   "metadata": {},
   "outputs": [],
   "source": [
    "### Import the dataset here"
   ]
  },
  {
   "cell_type": "code",
   "execution_count": 3,
   "id": "5cc6f727",
   "metadata": {},
   "outputs": [],
   "source": [
    "# Storing each reviewer dataset in a list, for easy iteration.\n",
    "\n",
    "\n",
    "names = [Adebola, AM2021, Anuj, Elbeth, BFA, Iamgold, Bobjiang, LKH, FizzyMidas,Tricelex, OxProof,\n",
    "         Emmanel, Doggfather, EmmanuelJacobson, Flobisnitz, Greg, GreyTrainer, Stelescuvlad,\n",
    "         Jshua, Kylin, TheHound, MountManu, Nadalie, Richard, Ogunsojosam, RobotTeddy,\n",
    "         AnnAnna, Socal, Steegecs, ViktorLiu, Wolfman, ZER8, Kishoraditya, AnnAnna2, Waka, CassCee ]"
   ]
  },
  {
   "cell_type": "code",
   "execution_count": 4,
   "id": "261ea47a",
   "metadata": {},
   "outputs": [],
   "source": [
    "# Making a loop through all the datasheet of human evaluation,\n",
    "# then renaming the Unnamed: 0 column to handle so that all the data used for the analysis have a column in common\n",
    "for i in names:\n",
    "    i.rename({\"Unnamed: 0\": \"handle\"}, axis=1, inplace=True)"
   ]
  },
  {
   "cell_type": "markdown",
   "id": "b8550eef",
   "metadata": {},
   "source": [
    "Since the analysis is to compare all the available handles, we will concatenate the datasets of each reviewer to a single datasets. \n",
    "\n",
    "This dataset will have all the handles reviewed."
   ]
  },
  {
   "cell_type": "code",
   "execution_count": 5,
   "id": "f70552f3",
   "metadata": {},
   "outputs": [],
   "source": [
    "concat_data = pd.concat(names)"
   ]
  },
  {
   "cell_type": "code",
   "execution_count": 6,
   "id": "aeaa5c7c",
   "metadata": {},
   "outputs": [
    {
     "data": {
      "text/plain": [
       "(2050, 6)"
      ]
     },
     "execution_count": 6,
     "metadata": {},
     "output_type": "execute_result"
    }
   ],
   "source": [
    "concat_data.shape"
   ]
  },
  {
   "cell_type": "markdown",
   "id": "eec8b2ee",
   "metadata": {},
   "source": [
    "After concatenating the datasets of each reviewer, we have 2050 handle.\n",
    "\n",
    "Since our analysis is based of the comparisions of handles, we can just drop off rows with duplicated handles to avoid repetitions."
   ]
  },
  {
   "cell_type": "code",
   "execution_count": 7,
   "id": "1346ae20",
   "metadata": {},
   "outputs": [],
   "source": [
    "concat_data.drop_duplicates(subset=[\"handle\"], inplace=True)"
   ]
  },
  {
   "cell_type": "code",
   "execution_count": 8,
   "id": "705f97b0",
   "metadata": {},
   "outputs": [
    {
     "data": {
      "text/plain": [
       "(1432, 6)"
      ]
     },
     "execution_count": 8,
     "metadata": {},
     "output_type": "execute_result"
    }
   ],
   "source": [
    "concat_data.shape"
   ]
  },
  {
   "cell_type": "markdown",
   "id": "534e5bba",
   "metadata": {},
   "source": [
    "Now we have a dataset with 1432, rows of unique handles."
   ]
  },
  {
   "cell_type": "code",
   "execution_count": 139,
   "id": "0493f7aa",
   "metadata": {},
   "outputs": [],
   "source": [
    "Anuj = ## Import the datasets for each reviewer here.\n",
    "Elbeth = ## Import the datasets for each reviewer here.\n",
    "BFA = ## Import the datasets for each reviewer here.\n",
    "Iamgold = ## Import the datasets for each reviewer here.\n",
    "Bobjiang = ## Import the datasets for each reviewer here.\n",
    "LKH = ## Import the datasets for each reviewer here.\n",
    "FizzyMidas = ## Import the datasets for each reviewer here.\n",
    "Tricelex = ## Import the datasets for each reviewer here.\n",
    "OxProof = ## Import the datasets for each reviewer here.\n",
    "Emmanel = ## Import the datasets for each reviewer here.\n",
    "Doggfather = ## Import the datasets for each reviewer here.\n",
    "EmmanuelJacobson = ## Import the datasets for each reviewer here.\n",
    "Flobisnitz = ## Import the datasets for each reviewer here.\n",
    "Greg = ## Import the datasets for each reviewer here.\n",
    "GreyTrainer = ## Import the datasets for each reviewer here.\n",
    "Stelescuvlad = ## Import the datasets for each reviewer here.\n",
    "TheHoundNo2 = ## Import the datasets for each reviewer here.\n",
    "Jshua = ## Import the datasets for each reviewer here.\n",
    "Kish = ## Import the datasets for each reviewer here.\n",
    "Kylin = ## Import the datasets for each reviewer here.\n",
    "Z4yr0 = ## Import the datasets for each reviewer here.\n",
    "TheHound = ## Import the datasets for each reviewer here.\n",
    "MountManu = ## Import the datasets for each reviewer here.\n",
    "Nadalie = ## Import the datasets for each reviewer here.\n",
    "Richard = ## Import the datasets for each reviewer here.\n",
    "Ogunsojosam = ## Import the datasets for each reviewer here.\n",
    "AM2021 = ## Import the datasets for each reviewer here.\n",
    "RobotTeddy = ## Import the datasets for each reviewer here.\n",
    "AnnAnna = ## Import the datasets for each reviewer here.\n",
    "Socal = ## Import the datasets for each reviewer here.\n",
    "Steegecs = ## Import the datasets for each reviewer here.\n",
    "ViktorLiu = ## Import the datasets for each reviewer here.\n",
    "Wolfman = ## Import the datasets for each reviewer here.\n",
    "ZER8 = ## Import the datasets for each reviewer here.\n",
    "Adebola = ## Import the datasets for each reviewer here."
   ]
  },
  {
   "cell_type": "code",
   "execution_count": 140,
   "id": "67ed8aef",
   "metadata": {},
   "outputs": [],
   "source": [
    "names = [Adebola, AM2021, Anuj, Elbeth, BFA, Iamgold, Bobjiang, LKH, FizzyMidas,Tricelex, OxProof,\n",
    "         Emmanel, Doggfather, EmmanuelJacobson, Flobisnitz, Greg, GreyTrainer, Stelescuvlad,\n",
    "        Kish, Jshua, Kylin, Z4yr0, TheHound, MountManu, Nadalie, Richard, Ogunsojosam, RobotTeddy,\n",
    "         AnnAnna, Socal, Steegecs, ViktorLiu, Wolfman, ZER8, TheHoundNo2, ]"
   ]
  },
  {
   "cell_type": "code",
   "execution_count": 145,
   "id": "cc376ba8",
   "metadata": {},
   "outputs": [],
   "source": [
    "# Making a loop through all the datasheet of human evaluation,\n",
    "# then renaming the Unnamed: 0 column to handle so that all the data used for the analysis have a column in common\n",
    "for i in names:\n",
    "    i.rename({\"Unnamed: 0\": \"handle\"}, axis=1, inplace=True)"
   ]
  },
  {
   "cell_type": "code",
   "execution_count": 146,
   "id": "39bffa84",
   "metadata": {},
   "outputs": [],
   "source": [
    "concat_data1 = pd.concat(names)"
   ]
  },
  {
   "cell_type": "code",
   "execution_count": 147,
   "id": "382043e2",
   "metadata": {},
   "outputs": [
    {
     "data": {
      "text/html": [
       "<div>\n",
       "<style scoped>\n",
       "    .dataframe tbody tr th:only-of-type {\n",
       "        vertical-align: middle;\n",
       "    }\n",
       "\n",
       "    .dataframe tbody tr th {\n",
       "        vertical-align: top;\n",
       "    }\n",
       "\n",
       "    .dataframe thead th {\n",
       "        text-align: right;\n",
       "    }\n",
       "</style>\n",
       "<table border=\"1\" class=\"dataframe\">\n",
       "  <thead>\n",
       "    <tr style=\"text-align: right;\">\n",
       "      <th></th>\n",
       "      <th>handle</th>\n",
       "      <th>Is Sybil? (T or F)</th>\n",
       "      <th>Confidence (low, so-so, high)</th>\n",
       "      <th>Notes</th>\n",
       "      <th>gitcoin_url</th>\n",
       "      <th>github_url</th>\n",
       "    </tr>\n",
       "  </thead>\n",
       "  <tbody>\n",
       "    <tr>\n",
       "      <th>0</th>\n",
       "      <td>danielsheldon-eth</td>\n",
       "      <td>T</td>\n",
       "      <td>low</td>\n",
       "      <td>new accounts (github and gitcoin), just one gr...</td>\n",
       "      <td>https://gitcoin.co/danielsheldon-eth</td>\n",
       "      <td>https://github.com/danielsheldon-eth</td>\n",
       "    </tr>\n",
       "    <tr>\n",
       "      <th>1</th>\n",
       "      <td>coinkafasi</td>\n",
       "      <td>F</td>\n",
       "      <td>High</td>\n",
       "      <td>relatively old gitcoin account with a lot of a...</td>\n",
       "      <td>https://gitcoin.co/coinkafasi</td>\n",
       "      <td>https://github.com/coinkafasi</td>\n",
       "    </tr>\n",
       "    <tr>\n",
       "      <th>2</th>\n",
       "      <td>laiyazhou</td>\n",
       "      <td>F</td>\n",
       "      <td>High</td>\n",
       "      <td>Old accounts with alot of activities</td>\n",
       "      <td>https://gitcoin.co/laiyazhou</td>\n",
       "      <td>https://github.com/laiyazhou</td>\n",
       "    </tr>\n",
       "    <tr>\n",
       "      <th>3</th>\n",
       "      <td>tsaikoga</td>\n",
       "      <td>F</td>\n",
       "      <td>High</td>\n",
       "      <td>Old accounts with alot of activities</td>\n",
       "      <td>https://gitcoin.co/tsaikoga</td>\n",
       "      <td>https://github.com/tsaikoga</td>\n",
       "    </tr>\n",
       "    <tr>\n",
       "      <th>4</th>\n",
       "      <td>khaitick</td>\n",
       "      <td>F</td>\n",
       "      <td>so-so</td>\n",
       "      <td>old accounts with little fundings spread acros...</td>\n",
       "      <td>https://gitcoin.co/khaitick</td>\n",
       "      <td>https://github.com/khaitick</td>\n",
       "    </tr>\n",
       "  </tbody>\n",
       "</table>\n",
       "</div>"
      ],
      "text/plain": [
       "              handle Is Sybil? (T or F) Confidence (low, so-so, high)  \\\n",
       "0  danielsheldon-eth                  T                           low   \n",
       "1         coinkafasi                  F                          High   \n",
       "2          laiyazhou                  F                          High   \n",
       "3           tsaikoga                  F                          High   \n",
       "4           khaitick                  F                         so-so   \n",
       "\n",
       "                                               Notes  \\\n",
       "0  new accounts (github and gitcoin), just one gr...   \n",
       "1  relatively old gitcoin account with a lot of a...   \n",
       "2              Old accounts with alot of activities    \n",
       "3              Old accounts with alot of activities    \n",
       "4  old accounts with little fundings spread acros...   \n",
       "\n",
       "                            gitcoin_url                            github_url  \n",
       "0  https://gitcoin.co/danielsheldon-eth  https://github.com/danielsheldon-eth  \n",
       "1         https://gitcoin.co/coinkafasi         https://github.com/coinkafasi  \n",
       "2          https://gitcoin.co/laiyazhou          https://github.com/laiyazhou  \n",
       "3           https://gitcoin.co/tsaikoga           https://github.com/tsaikoga  \n",
       "4           https://gitcoin.co/khaitick           https://github.com/khaitick  "
      ]
     },
     "execution_count": 147,
     "metadata": {},
     "output_type": "execute_result"
    }
   ],
   "source": [
    "concat_data1.head()"
   ]
  },
  {
   "cell_type": "code",
   "execution_count": 148,
   "id": "cc0630bf",
   "metadata": {},
   "outputs": [
    {
     "data": {
      "text/plain": [
       "(1695, 6)"
      ]
     },
     "execution_count": 148,
     "metadata": {},
     "output_type": "execute_result"
    }
   ],
   "source": [
    "concat_data1.drop_duplicates(subset=[\"handle\"], inplace=True)\n",
    "concat_data1.shape"
   ]
  },
  {
   "cell_type": "code",
   "execution_count": 149,
   "id": "f65b2976",
   "metadata": {},
   "outputs": [],
   "source": [
    "def clean(names):\n",
    "    for i in names:\n",
    "        i.rename({\"Unnamed: 0\": \"handle\"}, axis=1, inplace=True)\n",
    "    concat_ = pd.concat(names)\n",
    "    concat_.drop_duplicates(subset=[\"handle\"], inplace=True)\n",
    "    return concat_\n",
    "    \n",
    "    "
   ]
  },
  {
   "cell_type": "code",
   "execution_count": 150,
   "id": "96b24017",
   "metadata": {},
   "outputs": [],
   "source": [
    "ZER8 = pd.read_excel(\"./GR13_Human_Evaluation_-_FINAL.xlsx\", sheet_name=74)\n",
    "ViktorLiu = pd.read_excel(\"./GR13_Human_Evaluation_-_FINAL.xlsx\", sheet_name=75)\n",
    "Wolfman = pd.read_excel(\"./GR13_Human_Evaluation_-_FINAL.xlsx\", sheet_name=76)\n",
    "Steegecs = pd.read_excel(\"./GR13_Human_Evaluation_-_FINAL.xlsx\", sheet_name=77)\n",
    "Socal = pd.read_excel(\"./GR13_Human_Evaluation_-_FINAL.xlsx\", sheet_name=78)\n",
    "AnnAnna = pd.read_excel(\"./GR13_Human_Evaluation_-_FINAL.xlsx\", sheet_name=79)\n",
    "Lawrence = pd.read_excel(\"./GR13_Human_Evaluation_-_FINAL.xlsx\", sheet_name=80)\n",
    "AM2021 = pd.read_excel(\"./GR13_Human_Evaluation_-_FINAL.xlsx\", sheet_name=81)\n",
    "Ogunsojosam = pd.read_excel(\"./GR13_Human_Evaluation_-_FINAL.xlsx\", sheet_name=82)\n",
    "Richard = pd.read_excel(\"./GR13_Human_Evaluation_-_FINAL.xlsx\", sheet_name=83)\n",
    "Nadalie = pd.read_excel(\"./GR13_Human_Evaluation_-_FINAL.xlsx\", sheet_name=84)\n",
    "MountManu = pd.read_excel(\"./GR13_Human_Evaluation_-_FINAL.xlsx\", sheet_name=85)\n",
    "TheHound = pd.read_excel(\"./GR13_Human_Evaluation_-_FINAL.xlsx\", sheet_name=86)\n",
    "Z4yr0 = pd.read_excel(\"./GR13_Human_Evaluation_-_FINAL.xlsx\", sheet_name=87)\n",
    "Kylin = pd.read_excel(\"./GR13_Human_Evaluation_-_FINAL.xlsx\", sheet_name=88)\n",
    "Kish = pd.read_excel(\"./GR13_Human_Evaluation_-_FINAL.xlsx\", sheet_name=89)\n",
    "Jshua = pd.read_excel(\"./GR13_Human_Evaluation_-_FINAL.xlsx\", sheet_name=90)\n",
    "Adebola2 = pd.read_excel(\"./GR13_Human_Evaluation_-_FINAL.xlsx\", sheet_name=91)\n",
    "Stelescuvlad = pd.read_excel(\"./GR13_Human_Evaluation_-_FINAL.xlsx\", sheet_name=92)\n",
    "GreyTrainer = pd.read_excel(\"./GR13_Human_Evaluation_-_FINAL.xlsx\", sheet_name=93)\n",
    "Greg = pd.read_excel(\"./GR13_Human_Evaluation_-_FINAL.xlsx\", sheet_name=94)\n",
    "EmmanuelJacobson = pd.read_excel(\"./GR13_Human_Evaluation_-_FINAL.xlsx\", sheet_name=95)\n",
    "Flobisnitz = pd.read_excel(\"./GR13_Human_Evaluation_-_FINAL.xlsx\", sheet_name=96)\n",
    "FizzyMidas = pd.read_excel(\"./GR13_Human_Evaluation_-_FINAL.xlsx\", sheet_name=97)\n",
    "Doggfather = pd.read_excel(\"./GR13_Human_Evaluation_-_FINAL.xlsx\", sheet_name=98)\n",
    "Emmanuel = pd.read_excel(\"./GR13_Human_Evaluation_-_FINAL.xlsx\", sheet_name=99)\n",
    "OxProof = pd.read_excel(\"./GR13_Human_Evaluation_-_FINAL.xlsx\", sheet_name=100)\n",
    "Tricelex = pd.read_excel(\"./GR13_Human_Evaluation_-_FINAL.xlsx\", sheet_name=101)\n",
    "Anuj = pd.read_excel(\"./GR13_Human_Evaluation_-_FINAL.xlsx\", sheet_name=102)\n",
    "LKH = pd.read_excel(\"./GR13_Human_Evaluation_-_FINAL.xlsx\", sheet_name=103)\n",
    "Bobjiang = pd.read_excel(\"./GR13_Human_Evaluation_-_FINAL.xlsx\", sheet_name=104)\n",
    "Iamgold = pd.read_excel(\"./GR13_Human_Evaluation_-_FINAL.xlsx\", sheet_name=105)\n",
    "BFA = pd.read_excel(\"./GR13_Human_Evaluation_-_FINAL.xlsx\", sheet_name=106)\n",
    "Adebola = pd.read_excel(\"./GR13_Human_Evaluation_-_FINAL.xlsx\", sheet_name=107)\n",
    "Elbeth = pd.read_excel(\"./GR13_Human_Evaluation_-_FINAL.xlsx\", sheet_name=108)"
   ]
  },
  {
   "cell_type": "code",
   "execution_count": 152,
   "id": "d471908c",
   "metadata": {},
   "outputs": [],
   "source": [
    "\n",
    "names = [Adebola, AM2021, Anuj, Elbeth, BFA, Iamgold, Bobjiang, LKH, FizzyMidas,Tricelex, OxProof,\n",
    "         Emmanuel, Doggfather, EmmanuelJacobson, Flobisnitz, Greg, GreyTrainer, Stelescuvlad,\n",
    "        Kish, Jshua, Kylin, Z4yr0, TheHound, MountManu, Nadalie, Richard, Ogunsojosam, \n",
    "         AnnAnna, Socal, Steegecs, ViktorLiu, Wolfman, ZER8, Lawrence  ]"
   ]
  },
  {
   "cell_type": "code",
   "execution_count": 153,
   "id": "775d4c12",
   "metadata": {},
   "outputs": [],
   "source": [
    "concat_data2 = clean(names)"
   ]
  },
  {
   "cell_type": "code",
   "execution_count": 154,
   "id": "c482564e",
   "metadata": {},
   "outputs": [
    {
     "data": {
      "text/plain": [
       "(1820, 6)"
      ]
     },
     "execution_count": 154,
     "metadata": {},
     "output_type": "execute_result"
    }
   ],
   "source": [
    "concat_data2.shape"
   ]
  },
  {
   "cell_type": "markdown",
   "id": "0d0e4aac",
   "metadata": {},
   "source": [
    "## Round 4"
   ]
  },
  {
   "cell_type": "code",
   "execution_count": 155,
   "id": "c09655ea",
   "metadata": {},
   "outputs": [],
   "source": [
    "ZER8 = pd.read_excel(\"./GR13_Human_Evaluation_-_FINAL.xlsx\", sheet_name=109)\n",
    "Wolfman = pd.read_excel(\"./GR13_Human_Evaluation_-_FINAL.xlsx\", sheet_name=110)\n",
    "ViktorLiu = pd.read_excel(\"./GR13_Human_Evaluation_-_FINAL.xlsx\", sheet_name=111)\n",
    "Steegecs = pd.read_excel(\"./GR13_Human_Evaluation_-_FINAL.xlsx\", sheet_name=112)\n",
    "Socal = pd.read_excel(\"./GR13_Human_Evaluation_-_FINAL.xlsx\", sheet_name=113)\n",
    "AnnAnna = pd.read_excel(\"./GR13_Human_Evaluation_-_FINAL.xlsx\", sheet_name=114)\n",
    "RobotTeddy = pd.read_excel(\"./GR13_Human_Evaluation_-_FINAL.xlsx\", sheet_name=115)\n",
    "AM2021 = pd.read_excel(\"./GR13_Human_Evaluation_-_FINAL.xlsx\", sheet_name=116)\n",
    "Ogunsojosam = pd.read_excel(\"./GR13_Human_Evaluation_-_FINAL.xlsx\", sheet_name=117)\n",
    "Richard = pd.read_excel(\"./GR13_Human_Evaluation_-_FINAL.xlsx\", sheet_name=118)\n",
    "Nadalie = pd.read_excel(\"./GR13_Human_Evaluation_-_FINAL.xlsx\", sheet_name=119)\n",
    "MountManu = pd.read_excel(\"./GR13_Human_Evaluation_-_FINAL.xlsx\", sheet_name=120)\n",
    "TheHound = pd.read_excel(\"./GR13_Human_Evaluation_-_FINAL.xlsx\", sheet_name=121)\n",
    "Z4yr0 = pd.read_excel(\"./GR13_Human_Evaluation_-_FINAL.xlsx\", sheet_name=122)\n",
    "Kylin = pd.read_excel(\"./GR13_Human_Evaluation_-_FINAL.xlsx\", sheet_name=123)\n",
    "Kish = pd.read_excel(\"./GR13_Human_Evaluation_-_FINAL.xlsx\", sheet_name=124)\n",
    "Jshua = pd.read_excel(\"./GR13_Human_Evaluation_-_FINAL.xlsx\", sheet_name=125)\n",
    "Lawrence = pd.read_excel(\"./GR13_Human_Evaluation_-_FINAL.xlsx\", sheet_name=126)\n",
    "Stelescuvlad = pd.read_excel(\"./GR13_Human_Evaluation_-_FINAL.xlsx\", sheet_name=127)\n",
    "GreyTrainer = pd.read_excel(\"./GR13_Human_Evaluation_-_FINAL.xlsx\", sheet_name=128)\n",
    "Greg = pd.read_excel(\"./GR13_Human_Evaluation_-_FINAL.xlsx\", sheet_name=129)\n",
    "EmmanuelJacobson = pd.read_excel(\"./GR13_Human_Evaluation_-_FINAL.xlsx\", sheet_name=130)\n",
    "Flobisnitz = pd.read_excel(\"./GR13_Human_Evaluation_-_FINAL.xlsx\", sheet_name=131)\n",
    "FizzyMidas = pd.read_excel(\"./GR13_Human_Evaluation_-_FINAL.xlsx\", sheet_name=132)\n",
    "Doggfather = pd.read_excel(\"./GR13_Human_Evaluation_-_FINAL.xlsx\", sheet_name=133)\n",
    "Emmanuel = pd.read_excel(\"./GR13_Human_Evaluation_-_FINAL.xlsx\", sheet_name=134)\n",
    "OxProof = pd.read_excel(\"./GR13_Human_Evaluation_-_FINAL.xlsx\", sheet_name=135)\n",
    "Tricelex = pd.read_excel(\"./GR13_Human_Evaluation_-_FINAL.xlsx\", sheet_name=136)\n",
    "Walter = pd.read_excel(\"./GR13_Human_Evaluation_-_FINAL.xlsx\", sheet_name=137)\n",
    "LKH = pd.read_excel(\"./GR13_Human_Evaluation_-_FINAL.xlsx\", sheet_name=138)\n",
    "Bobjiang = pd.read_excel(\"./GR13_Human_Evaluation_-_FINAL.xlsx\", sheet_name=139)\n",
    "Iamgold = pd.read_excel(\"./GR13_Human_Evaluation_-_FINAL.xlsx\", sheet_name=140)\n",
    "BFA = pd.read_excel(\"./GR13_Human_Evaluation_-_FINAL.xlsx\", sheet_name=141)\n",
    "Elbeth = pd.read_excel(\"./GR13_Human_Evaluation_-_FINAL.xlsx\", sheet_name=142)\n",
    "Anuj = pd.read_excel(\"./GR13_Human_Evaluation_-_FINAL.xlsx\", sheet_name=143)\n",
    "Adebola = pd.read_excel(\"./GR13_Human_Evaluation_-_FINAL.xlsx\", sheet_name=144)"
   ]
  },
  {
   "cell_type": "code",
   "execution_count": 156,
   "id": "9fb26052",
   "metadata": {},
   "outputs": [],
   "source": [
    "\n",
    "names = [Adebola, AM2021, Anuj, Elbeth, BFA, Iamgold, Bobjiang, LKH, FizzyMidas,Tricelex, OxProof,\n",
    "         Emmanuel, Doggfather, EmmanuelJacobson, Flobisnitz, Greg, GreyTrainer, Stelescuvlad,\n",
    "        Kish, Jshua, Kylin, Z4yr0, TheHound, MountManu, Nadalie, Richard, Ogunsojosam, \n",
    "         AnnAnna, Socal, Steegecs, ViktorLiu, Wolfman, ZER8, Lawrence ,Walter, RobotTeddy]"
   ]
  },
  {
   "cell_type": "code",
   "execution_count": 157,
   "id": "0ad4ad9f",
   "metadata": {},
   "outputs": [
    {
     "data": {
      "text/plain": [
       "(2016, 6)"
      ]
     },
     "execution_count": 157,
     "metadata": {},
     "output_type": "execute_result"
    }
   ],
   "source": [
    "concat_data3 = clean(names)\n",
    "concat_data3.shape"
   ]
  },
  {
   "cell_type": "markdown",
   "id": "d66d4999",
   "metadata": {},
   "source": [
    "# Round 5"
   ]
  },
  {
   "cell_type": "code",
   "execution_count": 158,
   "id": "fb1cdc8c",
   "metadata": {},
   "outputs": [],
   "source": [
    "ZER8 = pd.read_excel(\"./GR13_Human_Evaluation_-_FINAL.xlsx\", sheet_name=143)\n",
    "Wolfman = pd.read_excel(\"./GR13_Human_Evaluation_-_FINAL.xlsx\", sheet_name=144)\n",
    "ViktorLiu = pd.read_excel(\"./GR13_Human_Evaluation_-_FINAL.xlsx\", sheet_name=145)\n",
    "Steegecs = pd.read_excel(\"./GR13_Human_Evaluation_-_FINAL.xlsx\", sheet_name=146)\n",
    "Socal = pd.read_excel(\"./GR13_Human_Evaluation_-_FINAL.xlsx\", sheet_name=147)\n",
    "AnnAnna = pd.read_excel(\"./GR13_Human_Evaluation_-_FINAL.xlsx\", sheet_name=148)\n",
    "RobotTeddy = pd.read_excel(\"./GR13_Human_Evaluation_-_FINAL.xlsx\", sheet_name=149)\n",
    "AM2021 = pd.read_excel(\"./GR13_Human_Evaluation_-_FINAL.xlsx\", sheet_name=150)\n",
    "Ogunsojosam = pd.read_excel(\"./GR13_Human_Evaluation_-_FINAL.xlsx\", sheet_name=151)\n",
    "Richard = pd.read_excel(\"./GR13_Human_Evaluation_-_FINAL.xlsx\", sheet_name=152)\n",
    "Nadalie = pd.read_excel(\"./GR13_Human_Evaluation_-_FINAL.xlsx\", sheet_name=153)\n",
    "MountManu = pd.read_excel(\"./GR13_Human_Evaluation_-_FINAL.xlsx\", sheet_name=154)\n",
    "TheHound = pd.read_excel(\"./GR13_Human_Evaluation_-_FINAL.xlsx\", sheet_name=155)\n",
    "Z4yr0 = pd.read_excel(\"./GR13_Human_Evaluation_-_FINAL.xlsx\", sheet_name=156)\n",
    "Kylin = pd.read_excel(\"./GR13_Human_Evaluation_-_FINAL.xlsx\", sheet_name=157)\n",
    "Kish = pd.read_excel(\"./GR13_Human_Evaluation_-_FINAL.xlsx\", sheet_name=158)\n",
    "Jshua = pd.read_excel(\"./GR13_Human_Evaluation_-_FINAL.xlsx\", sheet_name=159)\n",
    "Anuj = pd.read_excel(\"./GR13_Human_Evaluation_-_FINAL.xlsx\", sheet_name=160)\n",
    "Stelescuvlad = pd.read_excel(\"./GR13_Human_Evaluation_-_FINAL.xlsx\", sheet_name=161)\n",
    "GreyTrainer = pd.read_excel(\"./GR13_Human_Evaluation_-_FINAL.xlsx\", sheet_name=162)\n",
    "Greg = pd.read_excel(\"./GR13_Human_Evaluation_-_FINAL.xlsx\", sheet_name=163)\n",
    "sheet11 = pd.read_excel(\"./GR13_Human_Evaluation_-_FINAL.xlsx\", sheet_name=164)\n",
    "#EmmanuelJacobson = pd.read_excel(\"./GR13_Human_Evaluation_-_FINAL.xlsx\", sheet_name=130)\n",
    "Flobisnitz = pd.read_excel(\"./GR13_Human_Evaluation_-_FINAL.xlsx\", sheet_name=165)\n",
    "FizzyMidas = pd.read_excel(\"./GR13_Human_Evaluation_-_FINAL.xlsx\", sheet_name=166)\n",
    "Doggfather = pd.read_excel(\"./GR13_Human_Evaluation_-_FINAL.xlsx\", sheet_name=167)\n",
    "Emmanuel = pd.read_excel(\"./GR13_Human_Evaluation_-_FINAL.xlsx\", sheet_name=168)\n",
    "OxProof = pd.read_excel(\"./GR13_Human_Evaluation_-_FINAL.xlsx\", sheet_name=169)\n",
    "Tricelex = pd.read_excel(\"./GR13_Human_Evaluation_-_FINAL.xlsx\", sheet_name=170)\n",
    "Adebola = pd.read_excel(\"./GR13_Human_Evaluation_-_FINAL.xlsx\", sheet_name=171)\n",
    "LKH = pd.read_excel(\"./GR13_Human_Evaluation_-_FINAL.xlsx\", sheet_name=172)\n",
    "Bobjiang = pd.read_excel(\"./GR13_Human_Evaluation_-_FINAL.xlsx\", sheet_name=173)\n",
    "Iamgold = pd.read_excel(\"./GR13_Human_Evaluation_-_FINAL.xlsx\", sheet_name=174)\n",
    "BFA = pd.read_excel(\"./GR13_Human_Evaluation_-_FINAL.xlsx\", sheet_name=175)\n",
    "hes =  pd.read_excel(\"./GR13_Human_Evaluation_-_FINAL.xlsx\", sheet_name=176)\n",
    "Elbeth = pd.read_excel(\"./GR13_Human_Evaluation_-_FINAL.xlsx\", sheet_name=177)"
   ]
  },
  {
   "cell_type": "code",
   "execution_count": 159,
   "id": "17f191f5",
   "metadata": {},
   "outputs": [],
   "source": [
    "names = [Adebola, AM2021, Anuj, Elbeth, BFA, Iamgold, Bobjiang, LKH, FizzyMidas,Tricelex, OxProof,\n",
    "         Emmanuel, Doggfather, sheet11, Flobisnitz, Greg, GreyTrainer, Stelescuvlad,\n",
    "        Kish, Jshua, Kylin, Z4yr0, TheHound, MountManu, Nadalie, Richard, Ogunsojosam, \n",
    "         AnnAnna, Socal, Steegecs, ViktorLiu, Wolfman, ZER8, RobotTeddy, hes ]"
   ]
  },
  {
   "cell_type": "code",
   "execution_count": 160,
   "id": "40716741",
   "metadata": {},
   "outputs": [
    {
     "data": {
      "text/plain": [
       "(1941, 6)"
      ]
     },
     "execution_count": 160,
     "metadata": {},
     "output_type": "execute_result"
    }
   ],
   "source": [
    "concat_data4 = clean(names)\n",
    "concat_data4.shape"
   ]
  },
  {
   "cell_type": "code",
   "execution_count": 161,
   "id": "72e3c7c9",
   "metadata": {},
   "outputs": [
    {
     "data": {
      "text/plain": [
       "(8904, 6)"
      ]
     },
     "execution_count": 161,
     "metadata": {},
     "output_type": "execute_result"
    }
   ],
   "source": [
    "data = pd.concat([concat_data, concat_data1, concat_data2, concat_data3, concat_data4])\n",
    "data.shape"
   ]
  },
  {
   "cell_type": "code",
   "execution_count": 162,
   "id": "13b73cff",
   "metadata": {},
   "outputs": [
    {
     "data": {
      "text/plain": [
       "(6858, 6)"
      ]
     },
     "execution_count": 162,
     "metadata": {},
     "output_type": "execute_result"
    }
   ],
   "source": [
    "data.drop_duplicates(subset=[\"handle\"], inplace=True)\n",
    "data.shape"
   ]
  },
  {
   "cell_type": "code",
   "execution_count": null,
   "id": "dc29cdc2",
   "metadata": {},
   "outputs": [],
   "source": []
  },
  {
   "cell_type": "code",
   "execution_count": null,
   "id": "9c47e3b6",
   "metadata": {},
   "outputs": [],
   "source": []
  },
  {
   "cell_type": "code",
   "execution_count": null,
   "id": "d6f14b38",
   "metadata": {},
   "outputs": [],
   "source": []
  },
  {
   "cell_type": "code",
   "execution_count": null,
   "id": "e9aa4ec2",
   "metadata": {},
   "outputs": [],
   "source": []
  },
  {
   "cell_type": "code",
   "execution_count": null,
   "id": "fc6cb2f9",
   "metadata": {},
   "outputs": [],
   "source": []
  },
  {
   "cell_type": "code",
   "execution_count": null,
   "id": "5c04ba11",
   "metadata": {},
   "outputs": [],
   "source": []
  },
  {
   "cell_type": "code",
   "execution_count": null,
   "id": "b853bdd7",
   "metadata": {},
   "outputs": [],
   "source": []
  },
  {
   "cell_type": "code",
   "execution_count": 10,
   "id": "f395fa7d",
   "metadata": {},
   "outputs": [
    {
     "data": {
      "text/plain": [
       "'\\nc = ax.pcolor(alpha0)\\nfig.colorbar(c,ax=ax)\\n'"
      ]
     },
     "execution_count": 10,
     "metadata": {},
     "output_type": "execute_result"
    }
   ],
   "source": [
    "# -*- coding: utf-8 -*-\n",
    "\"\"\"\n",
    "Created on Wed Jan 26 10:56:48 2022\n",
    "\n",
    "@author: Ogunjo Samuel\n",
    "\"\"\"\n",
    "\n",
    "# -*- coding: utf-8 -*-\n",
    "\"\"\"\n",
    "Created on Sat Jan 22 09:47:59 2022\n",
    "\n",
    "@author: Ogunjo Samuel\n",
    "\"\"\"\n",
    "\n",
    "## I limited the handles to the first 1000. You can remove the [:1000] to run it on all the 1432 handles.\n",
    "x = concat_data[\"handle\"][:1000]\n",
    "\n",
    "y = x.unique()\n",
    "\n",
    "## This creates a zero matrix shaped len of x (1000) X len of x(1000)\n",
    "alpha0 = np.zeros((len(x),len(x)))\n",
    "k = 0; g = 0;\n",
    "## This loop calculates the Levenshtein distance of all the handles.\n",
    "for ii,i in enumerate(y):\n",
    "    \n",
    "    for jj, j in enumerate(x):\n",
    "        \n",
    "        s = jellyfish.levenshtein_distance(i,j)\n",
    "        \n",
    "        #print(s)\n",
    "        alpha0[ii][jj] = s\n",
    "            \n",
    "        #k = k + 1; g = g + 1\n",
    "\n",
    "#fig, ax = plt.subplots(figsize=(25,10))\n",
    "\n",
    "## This creates the dataframe showing the Levenshtein distance of any pair of handles.\n",
    "Ld = pd.DataFrame(alpha0,columns=x,index=x)\n",
    "#hz = hy[hy > 0.4].dropna(axis=1,how='all')\n",
    "#sns.heatmap(hy, annot=True)\n",
    "'''\n",
    "c = ax.pcolor(alpha0)\n",
    "fig.colorbar(c,ax=ax)\n",
    "'''"
   ]
  },
  {
   "cell_type": "code",
   "execution_count": 12,
   "id": "4d3720db",
   "metadata": {},
   "outputs": [
    {
     "data": {
      "text/plain": [
       "(1000, 1000)"
      ]
     },
     "execution_count": 12,
     "metadata": {},
     "output_type": "execute_result"
    }
   ],
   "source": [
    "## Checking the shape of the matrix.\n",
    "Ld.shape"
   ]
  },
  {
   "cell_type": "code",
   "execution_count": 13,
   "id": "57502fd6",
   "metadata": {},
   "outputs": [
    {
     "data": {
      "text/html": [
       "<div>\n",
       "<style scoped>\n",
       "    .dataframe tbody tr th:only-of-type {\n",
       "        vertical-align: middle;\n",
       "    }\n",
       "\n",
       "    .dataframe tbody tr th {\n",
       "        vertical-align: top;\n",
       "    }\n",
       "\n",
       "    .dataframe thead th {\n",
       "        text-align: right;\n",
       "    }\n",
       "</style>\n",
       "<table border=\"1\" class=\"dataframe\">\n",
       "  <thead>\n",
       "    <tr style=\"text-align: right;\">\n",
       "      <th>handle</th>\n",
       "      <th>connorpaca</th>\n",
       "      <th>okeaguugochukwu</th>\n",
       "      <th>takgod1</th>\n",
       "      <th>0xfkr</th>\n",
       "      <th>amitabha3366</th>\n",
       "      <th>ashkan6868</th>\n",
       "      <th>rookie23</th>\n",
       "      <th>mywork0</th>\n",
       "      <th>fenghaoda168</th>\n",
       "      <th>filiptronicek</th>\n",
       "      <th>...</th>\n",
       "      <th>setyo14</th>\n",
       "      <th>wackerow</th>\n",
       "      <th>calculator</th>\n",
       "      <th>sumocats</th>\n",
       "      <th>tianyaowang5</th>\n",
       "      <th>davycodez</th>\n",
       "      <th>ernopp</th>\n",
       "      <th>harperjustine</th>\n",
       "      <th>lulambelzi</th>\n",
       "      <th>ferdi071291</th>\n",
       "    </tr>\n",
       "    <tr>\n",
       "      <th>handle</th>\n",
       "      <th></th>\n",
       "      <th></th>\n",
       "      <th></th>\n",
       "      <th></th>\n",
       "      <th></th>\n",
       "      <th></th>\n",
       "      <th></th>\n",
       "      <th></th>\n",
       "      <th></th>\n",
       "      <th></th>\n",
       "      <th></th>\n",
       "      <th></th>\n",
       "      <th></th>\n",
       "      <th></th>\n",
       "      <th></th>\n",
       "      <th></th>\n",
       "      <th></th>\n",
       "      <th></th>\n",
       "      <th></th>\n",
       "      <th></th>\n",
       "      <th></th>\n",
       "    </tr>\n",
       "  </thead>\n",
       "  <tbody>\n",
       "    <tr>\n",
       "      <th>connorpaca</th>\n",
       "      <td>0.0</td>\n",
       "      <td>14.0</td>\n",
       "      <td>9.0</td>\n",
       "      <td>9.0</td>\n",
       "      <td>11.0</td>\n",
       "      <td>10.0</td>\n",
       "      <td>8.0</td>\n",
       "      <td>8.0</td>\n",
       "      <td>10.0</td>\n",
       "      <td>11.0</td>\n",
       "      <td>...</td>\n",
       "      <td>9.0</td>\n",
       "      <td>9.0</td>\n",
       "      <td>9.0</td>\n",
       "      <td>8.0</td>\n",
       "      <td>10.0</td>\n",
       "      <td>10.0</td>\n",
       "      <td>7.0</td>\n",
       "      <td>12.0</td>\n",
       "      <td>10.0</td>\n",
       "      <td>11.0</td>\n",
       "    </tr>\n",
       "    <tr>\n",
       "      <th>okeaguugochukwu</th>\n",
       "      <td>14.0</td>\n",
       "      <td>0.0</td>\n",
       "      <td>12.0</td>\n",
       "      <td>14.0</td>\n",
       "      <td>14.0</td>\n",
       "      <td>14.0</td>\n",
       "      <td>14.0</td>\n",
       "      <td>13.0</td>\n",
       "      <td>12.0</td>\n",
       "      <td>14.0</td>\n",
       "      <td>...</td>\n",
       "      <td>13.0</td>\n",
       "      <td>12.0</td>\n",
       "      <td>13.0</td>\n",
       "      <td>12.0</td>\n",
       "      <td>13.0</td>\n",
       "      <td>13.0</td>\n",
       "      <td>13.0</td>\n",
       "      <td>14.0</td>\n",
       "      <td>14.0</td>\n",
       "      <td>14.0</td>\n",
       "    </tr>\n",
       "    <tr>\n",
       "      <th>takgod1</th>\n",
       "      <td>9.0</td>\n",
       "      <td>12.0</td>\n",
       "      <td>0.0</td>\n",
       "      <td>7.0</td>\n",
       "      <td>10.0</td>\n",
       "      <td>9.0</td>\n",
       "      <td>7.0</td>\n",
       "      <td>7.0</td>\n",
       "      <td>8.0</td>\n",
       "      <td>12.0</td>\n",
       "      <td>...</td>\n",
       "      <td>6.0</td>\n",
       "      <td>6.0</td>\n",
       "      <td>9.0</td>\n",
       "      <td>8.0</td>\n",
       "      <td>9.0</td>\n",
       "      <td>6.0</td>\n",
       "      <td>6.0</td>\n",
       "      <td>12.0</td>\n",
       "      <td>9.0</td>\n",
       "      <td>10.0</td>\n",
       "    </tr>\n",
       "    <tr>\n",
       "      <th>0xfkr</th>\n",
       "      <td>9.0</td>\n",
       "      <td>14.0</td>\n",
       "      <td>7.0</td>\n",
       "      <td>0.0</td>\n",
       "      <td>12.0</td>\n",
       "      <td>9.0</td>\n",
       "      <td>7.0</td>\n",
       "      <td>6.0</td>\n",
       "      <td>12.0</td>\n",
       "      <td>12.0</td>\n",
       "      <td>...</td>\n",
       "      <td>7.0</td>\n",
       "      <td>6.0</td>\n",
       "      <td>9.0</td>\n",
       "      <td>8.0</td>\n",
       "      <td>12.0</td>\n",
       "      <td>9.0</td>\n",
       "      <td>6.0</td>\n",
       "      <td>12.0</td>\n",
       "      <td>10.0</td>\n",
       "      <td>10.0</td>\n",
       "    </tr>\n",
       "    <tr>\n",
       "      <th>amitabha3366</th>\n",
       "      <td>11.0</td>\n",
       "      <td>14.0</td>\n",
       "      <td>10.0</td>\n",
       "      <td>12.0</td>\n",
       "      <td>0.0</td>\n",
       "      <td>9.0</td>\n",
       "      <td>11.0</td>\n",
       "      <td>11.0</td>\n",
       "      <td>10.0</td>\n",
       "      <td>12.0</td>\n",
       "      <td>...</td>\n",
       "      <td>11.0</td>\n",
       "      <td>11.0</td>\n",
       "      <td>11.0</td>\n",
       "      <td>11.0</td>\n",
       "      <td>11.0</td>\n",
       "      <td>11.0</td>\n",
       "      <td>12.0</td>\n",
       "      <td>12.0</td>\n",
       "      <td>11.0</td>\n",
       "      <td>12.0</td>\n",
       "    </tr>\n",
       "    <tr>\n",
       "      <th>...</th>\n",
       "      <td>...</td>\n",
       "      <td>...</td>\n",
       "      <td>...</td>\n",
       "      <td>...</td>\n",
       "      <td>...</td>\n",
       "      <td>...</td>\n",
       "      <td>...</td>\n",
       "      <td>...</td>\n",
       "      <td>...</td>\n",
       "      <td>...</td>\n",
       "      <td>...</td>\n",
       "      <td>...</td>\n",
       "      <td>...</td>\n",
       "      <td>...</td>\n",
       "      <td>...</td>\n",
       "      <td>...</td>\n",
       "      <td>...</td>\n",
       "      <td>...</td>\n",
       "      <td>...</td>\n",
       "      <td>...</td>\n",
       "      <td>...</td>\n",
       "    </tr>\n",
       "    <tr>\n",
       "      <th>davycodez</th>\n",
       "      <td>10.0</td>\n",
       "      <td>13.0</td>\n",
       "      <td>6.0</td>\n",
       "      <td>9.0</td>\n",
       "      <td>11.0</td>\n",
       "      <td>10.0</td>\n",
       "      <td>9.0</td>\n",
       "      <td>7.0</td>\n",
       "      <td>10.0</td>\n",
       "      <td>11.0</td>\n",
       "      <td>...</td>\n",
       "      <td>7.0</td>\n",
       "      <td>8.0</td>\n",
       "      <td>9.0</td>\n",
       "      <td>8.0</td>\n",
       "      <td>9.0</td>\n",
       "      <td>0.0</td>\n",
       "      <td>8.0</td>\n",
       "      <td>12.0</td>\n",
       "      <td>9.0</td>\n",
       "      <td>11.0</td>\n",
       "    </tr>\n",
       "    <tr>\n",
       "      <th>ernopp</th>\n",
       "      <td>7.0</td>\n",
       "      <td>13.0</td>\n",
       "      <td>6.0</td>\n",
       "      <td>6.0</td>\n",
       "      <td>12.0</td>\n",
       "      <td>9.0</td>\n",
       "      <td>7.0</td>\n",
       "      <td>6.0</td>\n",
       "      <td>10.0</td>\n",
       "      <td>11.0</td>\n",
       "      <td>...</td>\n",
       "      <td>5.0</td>\n",
       "      <td>7.0</td>\n",
       "      <td>10.0</td>\n",
       "      <td>7.0</td>\n",
       "      <td>10.0</td>\n",
       "      <td>8.0</td>\n",
       "      <td>0.0</td>\n",
       "      <td>11.0</td>\n",
       "      <td>10.0</td>\n",
       "      <td>9.0</td>\n",
       "    </tr>\n",
       "    <tr>\n",
       "      <th>harperjustine</th>\n",
       "      <td>12.0</td>\n",
       "      <td>14.0</td>\n",
       "      <td>12.0</td>\n",
       "      <td>12.0</td>\n",
       "      <td>12.0</td>\n",
       "      <td>12.0</td>\n",
       "      <td>12.0</td>\n",
       "      <td>12.0</td>\n",
       "      <td>13.0</td>\n",
       "      <td>11.0</td>\n",
       "      <td>...</td>\n",
       "      <td>12.0</td>\n",
       "      <td>10.0</td>\n",
       "      <td>11.0</td>\n",
       "      <td>12.0</td>\n",
       "      <td>13.0</td>\n",
       "      <td>12.0</td>\n",
       "      <td>11.0</td>\n",
       "      <td>0.0</td>\n",
       "      <td>12.0</td>\n",
       "      <td>12.0</td>\n",
       "    </tr>\n",
       "    <tr>\n",
       "      <th>lulambelzi</th>\n",
       "      <td>10.0</td>\n",
       "      <td>14.0</td>\n",
       "      <td>9.0</td>\n",
       "      <td>10.0</td>\n",
       "      <td>11.0</td>\n",
       "      <td>10.0</td>\n",
       "      <td>9.0</td>\n",
       "      <td>10.0</td>\n",
       "      <td>11.0</td>\n",
       "      <td>11.0</td>\n",
       "      <td>...</td>\n",
       "      <td>10.0</td>\n",
       "      <td>8.0</td>\n",
       "      <td>9.0</td>\n",
       "      <td>8.0</td>\n",
       "      <td>11.0</td>\n",
       "      <td>9.0</td>\n",
       "      <td>10.0</td>\n",
       "      <td>12.0</td>\n",
       "      <td>0.0</td>\n",
       "      <td>11.0</td>\n",
       "    </tr>\n",
       "    <tr>\n",
       "      <th>ferdi071291</th>\n",
       "      <td>11.0</td>\n",
       "      <td>14.0</td>\n",
       "      <td>10.0</td>\n",
       "      <td>10.0</td>\n",
       "      <td>12.0</td>\n",
       "      <td>11.0</td>\n",
       "      <td>9.0</td>\n",
       "      <td>11.0</td>\n",
       "      <td>10.0</td>\n",
       "      <td>12.0</td>\n",
       "      <td>...</td>\n",
       "      <td>9.0</td>\n",
       "      <td>11.0</td>\n",
       "      <td>11.0</td>\n",
       "      <td>11.0</td>\n",
       "      <td>12.0</td>\n",
       "      <td>11.0</td>\n",
       "      <td>9.0</td>\n",
       "      <td>12.0</td>\n",
       "      <td>11.0</td>\n",
       "      <td>0.0</td>\n",
       "    </tr>\n",
       "  </tbody>\n",
       "</table>\n",
       "<p>1000 rows × 1000 columns</p>\n",
       "</div>"
      ],
      "text/plain": [
       "handle           connorpaca  okeaguugochukwu  takgod1  0xfkr  amitabha3366  \\\n",
       "handle                                                                       \n",
       "connorpaca              0.0             14.0      9.0    9.0          11.0   \n",
       "okeaguugochukwu        14.0              0.0     12.0   14.0          14.0   \n",
       "takgod1                 9.0             12.0      0.0    7.0          10.0   \n",
       "0xfkr                   9.0             14.0      7.0    0.0          12.0   \n",
       "amitabha3366           11.0             14.0     10.0   12.0           0.0   \n",
       "...                     ...              ...      ...    ...           ...   \n",
       "davycodez              10.0             13.0      6.0    9.0          11.0   \n",
       "ernopp                  7.0             13.0      6.0    6.0          12.0   \n",
       "harperjustine          12.0             14.0     12.0   12.0          12.0   \n",
       "lulambelzi             10.0             14.0      9.0   10.0          11.0   \n",
       "ferdi071291            11.0             14.0     10.0   10.0          12.0   \n",
       "\n",
       "handle           ashkan6868  rookie23  mywork0  fenghaoda168  filiptronicek  \\\n",
       "handle                                                                        \n",
       "connorpaca             10.0       8.0      8.0          10.0           11.0   \n",
       "okeaguugochukwu        14.0      14.0     13.0          12.0           14.0   \n",
       "takgod1                 9.0       7.0      7.0           8.0           12.0   \n",
       "0xfkr                   9.0       7.0      6.0          12.0           12.0   \n",
       "amitabha3366            9.0      11.0     11.0          10.0           12.0   \n",
       "...                     ...       ...      ...           ...            ...   \n",
       "davycodez              10.0       9.0      7.0          10.0           11.0   \n",
       "ernopp                  9.0       7.0      6.0          10.0           11.0   \n",
       "harperjustine          12.0      12.0     12.0          13.0           11.0   \n",
       "lulambelzi             10.0       9.0     10.0          11.0           11.0   \n",
       "ferdi071291            11.0       9.0     11.0          10.0           12.0   \n",
       "\n",
       "handle           ...  setyo14  wackerow  calculator  sumocats  tianyaowang5  \\\n",
       "handle           ...                                                          \n",
       "connorpaca       ...      9.0       9.0         9.0       8.0          10.0   \n",
       "okeaguugochukwu  ...     13.0      12.0        13.0      12.0          13.0   \n",
       "takgod1          ...      6.0       6.0         9.0       8.0           9.0   \n",
       "0xfkr            ...      7.0       6.0         9.0       8.0          12.0   \n",
       "amitabha3366     ...     11.0      11.0        11.0      11.0          11.0   \n",
       "...              ...      ...       ...         ...       ...           ...   \n",
       "davycodez        ...      7.0       8.0         9.0       8.0           9.0   \n",
       "ernopp           ...      5.0       7.0        10.0       7.0          10.0   \n",
       "harperjustine    ...     12.0      10.0        11.0      12.0          13.0   \n",
       "lulambelzi       ...     10.0       8.0         9.0       8.0          11.0   \n",
       "ferdi071291      ...      9.0      11.0        11.0      11.0          12.0   \n",
       "\n",
       "handle           davycodez  ernopp  harperjustine  lulambelzi  ferdi071291  \n",
       "handle                                                                      \n",
       "connorpaca            10.0     7.0           12.0        10.0         11.0  \n",
       "okeaguugochukwu       13.0    13.0           14.0        14.0         14.0  \n",
       "takgod1                6.0     6.0           12.0         9.0         10.0  \n",
       "0xfkr                  9.0     6.0           12.0        10.0         10.0  \n",
       "amitabha3366          11.0    12.0           12.0        11.0         12.0  \n",
       "...                    ...     ...            ...         ...          ...  \n",
       "davycodez              0.0     8.0           12.0         9.0         11.0  \n",
       "ernopp                 8.0     0.0           11.0        10.0          9.0  \n",
       "harperjustine         12.0    11.0            0.0        12.0         12.0  \n",
       "lulambelzi             9.0    10.0           12.0         0.0         11.0  \n",
       "ferdi071291           11.0     9.0           12.0        11.0          0.0  \n",
       "\n",
       "[1000 rows x 1000 columns]"
      ]
     },
     "execution_count": 13,
     "metadata": {},
     "output_type": "execute_result"
    }
   ],
   "source": [
    "## This is the result of the Levenshtein distance\n",
    "Ld"
   ]
  },
  {
   "cell_type": "markdown",
   "id": "01868440",
   "metadata": {},
   "source": [
    "Due to the size of the outputed dataset, It might be quite difficult to visualize all the result.\n",
    "\n",
    "Let's try to take the mean (average) of all the score for each account."
   ]
  },
  {
   "cell_type": "code",
   "execution_count": 14,
   "id": "c9255cf9",
   "metadata": {},
   "outputs": [],
   "source": [
    "ld_avg = pd.DataFrame()\n",
    "ld_avg[\"handles\"] = Ld.iloc[:, :].mean().index\n",
    "ld_avg[\"Average\"] = Ld.iloc[:, :].mean().values\n"
   ]
  },
  {
   "cell_type": "code",
   "execution_count": 32,
   "id": "bac18d8e",
   "metadata": {},
   "outputs": [
    {
     "data": {
      "text/html": [
       "<div>\n",
       "<style scoped>\n",
       "    .dataframe tbody tr th:only-of-type {\n",
       "        vertical-align: middle;\n",
       "    }\n",
       "\n",
       "    .dataframe tbody tr th {\n",
       "        vertical-align: top;\n",
       "    }\n",
       "\n",
       "    .dataframe thead th {\n",
       "        text-align: right;\n",
       "    }\n",
       "</style>\n",
       "<table border=\"1\" class=\"dataframe\">\n",
       "  <thead>\n",
       "    <tr style=\"text-align: right;\">\n",
       "      <th></th>\n",
       "      <th>handles</th>\n",
       "      <th>Average</th>\n",
       "    </tr>\n",
       "  </thead>\n",
       "  <tbody>\n",
       "    <tr>\n",
       "      <th>0</th>\n",
       "      <td>connorpaca</td>\n",
       "      <td>9.704</td>\n",
       "    </tr>\n",
       "    <tr>\n",
       "      <th>1</th>\n",
       "      <td>okeaguugochukwu</td>\n",
       "      <td>13.574</td>\n",
       "    </tr>\n",
       "    <tr>\n",
       "      <th>2</th>\n",
       "      <td>takgod1</td>\n",
       "      <td>8.468</td>\n",
       "    </tr>\n",
       "    <tr>\n",
       "      <th>3</th>\n",
       "      <td>0xfkr</td>\n",
       "      <td>8.865</td>\n",
       "    </tr>\n",
       "    <tr>\n",
       "      <th>4</th>\n",
       "      <td>amitabha3366</td>\n",
       "      <td>11.009</td>\n",
       "    </tr>\n",
       "  </tbody>\n",
       "</table>\n",
       "</div>"
      ],
      "text/plain": [
       "           handles  Average\n",
       "0       connorpaca    9.704\n",
       "1  okeaguugochukwu   13.574\n",
       "2          takgod1    8.468\n",
       "3            0xfkr    8.865\n",
       "4     amitabha3366   11.009"
      ]
     },
     "execution_count": 32,
     "metadata": {},
     "output_type": "execute_result"
    }
   ],
   "source": [
    "ld_avg.head()"
   ]
  },
  {
   "cell_type": "code",
   "execution_count": 24,
   "id": "0b70b7cc",
   "metadata": {},
   "outputs": [],
   "source": [
    "ld_avg.to_csv(\"./Levenshtein_distance_average_1000.csv\")"
   ]
  },
  {
   "cell_type": "code",
   "execution_count": 163,
   "id": "3e61f1a1",
   "metadata": {},
   "outputs": [],
   "source": [
    "def Levenshtein_distance(data):\n",
    "    distances = []\n",
    "    userss = []\n",
    "    for name in data[\"handle\"]:\n",
    "        x = data[\"handle\"]\n",
    "\n",
    "        y = [name]\n",
    "\n",
    "        ## This creates a zero matrix shaped len of x (1000) X len of x(1000)\n",
    "        alpha0 = np.zeros(len(x))\n",
    "        k = 0; g = 0;\n",
    "        ## This loop calculates the Levenshtein distance of all the handles.\n",
    "        for ii,i in enumerate(y):\n",
    "\n",
    "\n",
    "            for jj, j in enumerate(x):\n",
    "                userss.append(j)\n",
    "\n",
    "                s = jellyfish.levenshtein_distance(i,j)\n",
    "\n",
    "                #print(s)\n",
    "                alpha0[jj] = s\n",
    "\n",
    "        distances.append(alpha0)\n",
    "    return distances, userss"
   ]
  },
  {
   "cell_type": "code",
   "execution_count": 168,
   "id": "86843e82",
   "metadata": {},
   "outputs": [],
   "source": [
    "distancess, usersss = Levenshtein_distance(data)"
   ]
  },
  {
   "cell_type": "code",
   "execution_count": 169,
   "id": "ab4d0b2f",
   "metadata": {},
   "outputs": [
    {
     "data": {
      "text/plain": [
       "6858"
      ]
     },
     "execution_count": 169,
     "metadata": {},
     "output_type": "execute_result"
    }
   ],
   "source": [
    "len(userss)"
   ]
  },
  {
   "cell_type": "code",
   "execution_count": 170,
   "id": "b6d81222",
   "metadata": {},
   "outputs": [],
   "source": [
    "distance_joined = []\n",
    "for i in range(6858):\n",
    "    distance_joined.extend(distancess[i])"
   ]
  },
  {
   "cell_type": "code",
   "execution_count": 171,
   "id": "9e0b2c50",
   "metadata": {},
   "outputs": [],
   "source": [
    "handless = []\n",
    "for i in data[\"handle\"]:\n",
    "    handless.append([i] * 6858)"
   ]
  },
  {
   "cell_type": "code",
   "execution_count": 172,
   "id": "0464865a",
   "metadata": {},
   "outputs": [],
   "source": [
    "list_ = []\n",
    "for i in range(6858):\n",
    "    list_.extend(handless[i])"
   ]
  },
  {
   "cell_type": "code",
   "execution_count": 174,
   "id": "4963a5f3",
   "metadata": {},
   "outputs": [],
   "source": [
    "df = pd.DataFrame()\n",
    "df[\"Account 1\"] = list_\n",
    "df[\"account 2\"] = usersss\n",
    "df[\"Distance\"] = distance_joined"
   ]
  },
  {
   "cell_type": "code",
   "execution_count": 175,
   "id": "c6f9841c",
   "metadata": {},
   "outputs": [
    {
     "data": {
      "text/plain": [
       "(47032164, 3)"
      ]
     },
     "execution_count": 175,
     "metadata": {},
     "output_type": "execute_result"
    }
   ],
   "source": [
    "df.shape"
   ]
  },
  {
   "cell_type": "code",
   "execution_count": 176,
   "id": "c4725dc5",
   "metadata": {},
   "outputs": [],
   "source": [
    "df.sort_values(by=\"Distance\", inplace=True)\n",
    "# To remove the diagonals.\n",
    "dff = df[6858:]"
   ]
  },
  {
   "cell_type": "code",
   "execution_count": 177,
   "id": "d192ef59",
   "metadata": {},
   "outputs": [],
   "source": [
    "dff.reset_index(drop=True, inplace=True)"
   ]
  },
  {
   "cell_type": "code",
   "execution_count": 179,
   "id": "916e188b",
   "metadata": {},
   "outputs": [
    {
     "data": {
      "text/html": [
       "<div>\n",
       "<style scoped>\n",
       "    .dataframe tbody tr th:only-of-type {\n",
       "        vertical-align: middle;\n",
       "    }\n",
       "\n",
       "    .dataframe tbody tr th {\n",
       "        vertical-align: top;\n",
       "    }\n",
       "\n",
       "    .dataframe thead th {\n",
       "        text-align: right;\n",
       "    }\n",
       "</style>\n",
       "<table border=\"1\" class=\"dataframe\">\n",
       "  <thead>\n",
       "    <tr style=\"text-align: right;\">\n",
       "      <th></th>\n",
       "      <th>Account 1</th>\n",
       "      <th>account 2</th>\n",
       "      <th>Distance</th>\n",
       "    </tr>\n",
       "  </thead>\n",
       "  <tbody>\n",
       "    <tr>\n",
       "      <th>0</th>\n",
       "      <td>cryptozr27</td>\n",
       "      <td>cryptozr29</td>\n",
       "      <td>1.0</td>\n",
       "    </tr>\n",
       "    <tr>\n",
       "      <th>1</th>\n",
       "      <td>maozx001</td>\n",
       "      <td>maozx002</td>\n",
       "      <td>1.0</td>\n",
       "    </tr>\n",
       "    <tr>\n",
       "      <th>2</th>\n",
       "      <td>cryptozr38</td>\n",
       "      <td>cryptozr32</td>\n",
       "      <td>1.0</td>\n",
       "    </tr>\n",
       "    <tr>\n",
       "      <th>3</th>\n",
       "      <td>jansenliuhappy7</td>\n",
       "      <td>jansenliuhappy2</td>\n",
       "      <td>1.0</td>\n",
       "    </tr>\n",
       "    <tr>\n",
       "      <th>4</th>\n",
       "      <td>hghahari</td>\n",
       "      <td>mghahari</td>\n",
       "      <td>1.0</td>\n",
       "    </tr>\n",
       "  </tbody>\n",
       "</table>\n",
       "</div>"
      ],
      "text/plain": [
       "         Account 1        account 2  Distance\n",
       "0       cryptozr27       cryptozr29       1.0\n",
       "1         maozx001         maozx002       1.0\n",
       "2       cryptozr38       cryptozr32       1.0\n",
       "3  jansenliuhappy7  jansenliuhappy2       1.0\n",
       "4         hghahari         mghahari       1.0"
      ]
     },
     "execution_count": 179,
     "metadata": {},
     "output_type": "execute_result"
    }
   ],
   "source": [
    "dff.head()"
   ]
  },
  {
   "cell_type": "code",
   "execution_count": 180,
   "id": "cc3cfffb",
   "metadata": {},
   "outputs": [],
   "source": [
    "dff.to_csv(\"./Levenshtein_distance_total_handles.csv\", index=False)"
   ]
  },
  {
   "cell_type": "code",
   "execution_count": 182,
   "id": "494086c2",
   "metadata": {},
   "outputs": [],
   "source": [
    "dfs = dff.loc[dff[\"Distance\"] <= 3]"
   ]
  },
  {
   "cell_type": "code",
   "execution_count": 183,
   "id": "1fc81ec1",
   "metadata": {},
   "outputs": [],
   "source": [
    "dfs.to_csv(\"./Handles_with_distance(0-3).csv\", index=False)"
   ]
  },
  {
   "cell_type": "code",
   "execution_count": 188,
   "id": "56d6dc5c",
   "metadata": {},
   "outputs": [
    {
     "data": {
      "text/plain": [
       "'\\nc = ax.pcolor(alpha0)\\nfig.colorbar(c,ax=ax)\\n'"
      ]
     },
     "execution_count": 188,
     "metadata": {},
     "output_type": "execute_result"
    }
   ],
   "source": [
    "# -*- coding: utf-8 -*-\n",
    "\"\"\"\n",
    "Created on Wed Jan 26 10:56:48 2022\n",
    "\n",
    "@author: Ogunjo Samuel\n",
    "\"\"\"\n",
    "\n",
    "# -*- coding: utf-8 -*-\n",
    "\"\"\"\n",
    "Created on Sat Jan 22 09:47:59 2022\n",
    "\n",
    "@author: Ogunjo Samuel\n",
    "\"\"\"\n",
    "\n",
    "## I limited the handles to the first 1000. You can remove the [:1000] to run it on all the 1432 handles.\n",
    "x = data[\"handle\"]\n",
    "\n",
    "y = x.unique()\n",
    "\n",
    "## This creates a zero matrix shaped len of x (1000) X len of x(1000)\n",
    "alpha0 = np.zeros((len(x),len(x)))\n",
    "k = 0; g = 0;\n",
    "## This loop calculates the Levenshtein distance of all the handles.\n",
    "for ii,i in enumerate(y):\n",
    "    \n",
    "    for jj, j in enumerate(x):\n",
    "        \n",
    "        s = jellyfish.levenshtein_distance(i,j)\n",
    "        \n",
    "        #print(s)\n",
    "        alpha0[ii][jj] = s\n",
    "            \n",
    "        #k = k + 1; g = g + 1\n",
    "\n",
    "#fig, ax = plt.subplots(figsize=(25,10))\n",
    "\n",
    "## This creates the dataframe showing the Levenshtein distance of any pair of handles.\n",
    "total_df = pd.DataFrame(alpha0,columns=x,index=x)\n",
    "#hz = hy[hy > 0.4].dropna(axis=1,how='all')\n",
    "#sns.heatmap(hy, annot=True)\n",
    "'''\n",
    "c = ax.pcolor(alpha0)\n",
    "fig.colorbar(c,ax=ax)\n",
    "'''"
   ]
  },
  {
   "cell_type": "code",
   "execution_count": 199,
   "id": "0c1d35ca",
   "metadata": {},
   "outputs": [],
   "source": [
    "summation = []\n",
    "for i in range(6858):\n",
    "    summation.append(sum(pd.Series(total_df.iloc[i, :]).sort_values().values[:2]))"
   ]
  },
  {
   "cell_type": "code",
   "execution_count": 203,
   "id": "4169e752",
   "metadata": {},
   "outputs": [
    {
     "data": {
      "text/plain": [
       "array([0., 9.])"
      ]
     },
     "execution_count": 203,
     "metadata": {},
     "output_type": "execute_result"
    }
   ],
   "source": [
    "pd.Series(total_df.iloc[1, :]).sort_values().values[:2]"
   ]
  },
  {
   "cell_type": "code",
   "execution_count": 211,
   "id": "012fa7c2",
   "metadata": {},
   "outputs": [],
   "source": [
    "total_df1 = pd.DataFrame()\n",
    "total_df1[\"handles\"] = total_df.iloc[:, :].min().index\n",
    "total_df1[\"Distance\"] = summation\n"
   ]
  },
  {
   "cell_type": "code",
   "execution_count": 212,
   "id": "2d0305ef",
   "metadata": {},
   "outputs": [],
   "source": [
    "total_df1 = total_df1.loc[total_df1[\"Distance\"] <= 3]"
   ]
  },
  {
   "cell_type": "code",
   "execution_count": 217,
   "id": "cebc2645",
   "metadata": {},
   "outputs": [],
   "source": [
    "dfs = dfs.sort_values(by= [\"Account 1\", \"account 2\"])"
   ]
  },
  {
   "cell_type": "code",
   "execution_count": 219,
   "id": "02c9e2a9",
   "metadata": {},
   "outputs": [],
   "source": [
    "dfs.reset_index(drop=True, inplace=True)"
   ]
  },
  {
   "cell_type": "code",
   "execution_count": 220,
   "id": "45934b8a",
   "metadata": {},
   "outputs": [],
   "source": [
    "dfs.to_csv(\"./Distances(0-3)_sorted.csv\", index=False)"
   ]
  },
  {
   "cell_type": "code",
   "execution_count": null,
   "id": "6f8d8812",
   "metadata": {},
   "outputs": [],
   "source": []
  }
 ],
 "metadata": {
  "kernelspec": {
   "display_name": "Python 3",
   "language": "python",
   "name": "python3"
  },
  "language_info": {
   "codemirror_mode": {
    "name": "ipython",
    "version": 3
   },
   "file_extension": ".py",
   "mimetype": "text/x-python",
   "name": "python",
   "nbconvert_exporter": "python",
   "pygments_lexer": "ipython3",
   "version": "3.7.6"
  }
 },
 "nbformat": 4,
 "nbformat_minor": 5
}
