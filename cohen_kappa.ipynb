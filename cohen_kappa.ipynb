{
 "cells": [
  {
   "cell_type": "code",
   "execution_count": 1,
   "id": "1638867e",
   "metadata": {},
   "outputs": [],
   "source": [
    "import pandas as pd \n",
    "from sklearn.metrics import cohen_kappa_score\n",
    "import numpy as np"
   ]
  },
  {
   "cell_type": "markdown",
   "id": "90d656e5",
   "metadata": {},
   "source": [
    "## Importing the dataset needed for the analysis"
   ]
  },
  {
   "cell_type": "code",
   "execution_count": 1,
   "id": "2721e048",
   "metadata": {},
   "outputs": [],
   "source": [
    "## Import the data as required"
   ]
  },
  {
   "cell_type": "markdown",
   "id": "eedb39b1",
   "metadata": {},
   "source": [
    "## Formatting the ML dataset to work with the dataset."
   ]
  },
  {
   "cell_type": "code",
   "execution_count": 3,
   "id": "2a7c89ff",
   "metadata": {},
   "outputs": [],
   "source": [
    "ml_anon = pd.read_csv(\"## Import the datasets for each reviewer here.\")"
   ]
  },
  {
   "cell_type": "code",
   "execution_count": 4,
   "id": "0fda9461",
   "metadata": {},
   "outputs": [],
   "source": [
    "ml_anon.drop(\"Unnamed: 0\", inplace=True, axis=1)"
   ]
  },
  {
   "cell_type": "code",
   "execution_count": 5,
   "id": "362ff8e7",
   "metadata": {},
   "outputs": [
    {
     "data": {
      "text/plain": [
       "array(['F', 'F', 'F', ..., 'F', 'F', 'F'], dtype='<U1')"
      ]
     },
     "execution_count": 5,
     "metadata": {},
     "output_type": "execute_result"
    }
   ],
   "source": [
    "np.where(ml_anon.prediction_score == 1, \"T\", \"F\")"
   ]
  },
  {
   "cell_type": "code",
   "execution_count": 6,
   "id": "5ec7f9c0",
   "metadata": {},
   "outputs": [],
   "source": [
    "ml_anon[\"Is Sybil? (T or F)\"] = np.where(ml_anon.prediction_score == 1, \"T\", \"F\")"
   ]
  },
  {
   "cell_type": "code",
   "execution_count": 7,
   "id": "608fef3a",
   "metadata": {},
   "outputs": [
    {
     "data": {
      "text/plain": [
       "Index(['handle', 'prediction_score', 'prediction_confidence', 'quant_1',\n",
       "       'quant_2', 'quant_3', 'quant_4', 'quant_5', 'quant_6', 'quant_7',\n",
       "       'Is Sybil? (T or F)'],\n",
       "      dtype='object')"
      ]
     },
     "execution_count": 7,
     "metadata": {},
     "output_type": "execute_result"
    }
   ],
   "source": [
    "ml_anon.columns"
   ]
  },
  {
   "cell_type": "code",
   "execution_count": 9,
   "id": "5d1325f5",
   "metadata": {},
   "outputs": [],
   "source": [
    "names = [adebola, am, ann, anuj, elbeth, bfa, gold, bob, lkh, waka, trice, proof, emmanuel, fizzy, dog, flob, emma_j, greg,\n",
    "        grey, stel, jshua, kish, kylin, z4yr, hound, mount, nadalie, richard, ogunjo, am2, robot, ann2, steeges, vik, socal,\n",
    "        wolfman, zer, ml_anon ]"
   ]
  },
  {
   "cell_type": "code",
   "execution_count": 10,
   "id": "0ea1200b",
   "metadata": {},
   "outputs": [],
   "source": [
    "# Making a loop through all the datasheet of human evaluation,\n",
    "# then renaming the Unnamed: 0 column to handle so that all the data used for the analysis have a column in common\n",
    "for i in names:\n",
    "    i.rename({\"Unnamed: 0\": \"handle\"}, axis=1, inplace=True)"
   ]
  },
  {
   "cell_type": "code",
   "execution_count": 11,
   "id": "6f64660e",
   "metadata": {},
   "outputs": [],
   "source": [
    "def namestr(obj, namespace):\n",
    "    \"\"\"\n",
    "    This function makes it posible to retrive the name of a variable (stored_data).\n",
    "    \"\"\"\n",
    "    \n",
    "    return [name for name in namespace if namespace[name] is obj]\n"
   ]
  },
  {
   "cell_type": "code",
   "execution_count": 12,
   "id": "06cc8a52",
   "metadata": {},
   "outputs": [],
   "source": [
    "def create_table(data1, data2):\n",
    "    \n",
    "    \"\"\"\n",
    "    This function creates a table for any two reviewer that share common handles reviewed.\n",
    "    \"\"\"\n",
    "    \n",
    "    df = pd.DataFrame()\n",
    "    \n",
    "    df = data1.merge(data2, on=\"handle\", suffixes=(namestr(data1, globals())[0], namestr(data2, globals())[0]))\n",
    "    \n",
    "    df.dropna(subset=[\"Is Sybil? (T or F)\" +namestr(data1, globals())[0], \"Is Sybil? (T or F)\" +namestr(data2, globals())[0]],\n",
    "             inplace=True)\n",
    "    \n",
    "    return df"
   ]
  },
  {
   "cell_type": "code",
   "execution_count": 13,
   "id": "7eff50ac",
   "metadata": {},
   "outputs": [],
   "source": [
    "## This cell loops through \n",
    "\n",
    "def find_common_handles(name):\n",
    "    \n",
    "    \"\"\"\n",
    "    This function loops through the list of reviewers data and returns the each reviewer and number of handles they have in \n",
    "    common with the \"name\" given.\n",
    "    \"\"\"\n",
    "    freq=[]\n",
    "    for i in names:\n",
    "        freq.append([namestr(i, globals())[0], create_table(name, i).shape[0]])\n",
    "    return freq"
   ]
  },
  {
   "cell_type": "code",
   "execution_count": 14,
   "id": "799a05b2",
   "metadata": {},
   "outputs": [],
   "source": [
    "def total_agreement(data, name1, name2):\n",
    "    \n",
    "    \"\"\"\n",
    "    This function calculates the total agreement of between any two reviewer.\n",
    "    Ranges from 0 to 1.\n",
    "    A score of 1 denotes they made the same call on all handles the reviewed in common.\n",
    "    A score of 0 denotes they made the different call on all handles the reviewed in common.\n",
    "    \"\"\"\n",
    "    \n",
    "    lenght = data.shape[0]\n",
    "    \n",
    "    count = data.loc[data[\"Is Sybil? (T or F)\" + name1] == data[\"Is Sybil? (T or F)\" + name2]].shape[0]\n",
    "    \n",
    "    agreements = count\n",
    "    \n",
    "    return agreements/lenght\n",
    "    "
   ]
  },
  {
   "cell_type": "code",
   "execution_count": 15,
   "id": "d5150615",
   "metadata": {},
   "outputs": [],
   "source": [
    "def total_disagreement(data, name1, name2):\n",
    "    \n",
    "    \"\"\"\n",
    "    This function calculates the total disagreement of between any two reviewer.\n",
    "    Ranges from 0 to 1.\n",
    "    A score of 0 denotes they made the same call on all handles the reviewed in common.\n",
    "    A score of 1 denotes they made the different call on all handles the reviewed in common.\n",
    "    \"\"\"\n",
    "    \n",
    "    lenght = data.shape[0]\n",
    "    \n",
    "    count = data.loc[data[\"Is Sybil? (T or F)\" + name1] != data[\"Is Sybil? (T or F)\" + name2]].shape[0]\n",
    "    \n",
    "    disagreements = count\n",
    "    \n",
    "    return disagreements/lenght"
   ]
  },
  {
   "cell_type": "code",
   "execution_count": 324,
   "id": "9fffcddd",
   "metadata": {},
   "outputs": [
    {
     "name": "stdout",
     "output_type": "stream",
     "text": [
      "The total disagreement between Fizzy and Richard is: 0.5\n",
      "The total agreement between Fizzy and Richard is: 0.5\n",
      "\n",
      "The total disagreement between Fizzy and Elbeth is: 1.0\n",
      "The total agreement between Fizzy and Elbeth is: 0.0\n"
     ]
    }
   ],
   "source": [
    "## This is an illustration of the functions \n",
    "disagreement= total_disagreement(fiz_ric, \"fizzy\", \"richard\")\n",
    "print(f\"The total disagreement between Fizzy and Richard is: {disagreement}\" )\n",
    "agreement = total_agreement(fiz_ric, \"fizzy\", \"richard\")\n",
    "print(f\"The total agreement between Fizzy and Richard is: {agreement}\\n\")\n",
    "\n",
    "disagreement= total_disagreement(fiz_elb, \"fizzy\", \"elbeth\")\n",
    "print(f\"The total disagreement between Fizzy and Elbeth is: {disagreement}\" )\n",
    "agreement = total_agreement(fiz_elb, \"fizzy\", \"elbeth\")\n",
    "print(f\"The total agreement between Fizzy and Elbeth is: {agreement}\")"
   ]
  },
  {
   "cell_type": "markdown",
   "id": "8ce9554c",
   "metadata": {},
   "source": [
    "## Fizzy Interreliability "
   ]
  },
  {
   "cell_type": "code",
   "execution_count": 27,
   "id": "a28ad3cf",
   "metadata": {},
   "outputs": [
    {
     "data": {
      "text/plain": [
       "[['adebola', 0],\n",
       " ['am', 0],\n",
       " ['ann', 0],\n",
       " ['anuj', 1],\n",
       " ['elbeth', 4],\n",
       " ['bfa', 2],\n",
       " ['gold', 3],\n",
       " ['bob', 2],\n",
       " ['lkh', 1],\n",
       " ['waka', 0],\n",
       " ['trice', 1],\n",
       " ['proof', 0],\n",
       " ['emmanuel', 0],\n",
       " ['fizzy', 60],\n",
       " ['dog', 0],\n",
       " ['flob', 1],\n",
       " ['emma_j', 0],\n",
       " ['greg', 1],\n",
       " ['grey', 1],\n",
       " ['stel', 2],\n",
       " ['jshua', 0],\n",
       " ['kish', 0],\n",
       " ['kylin', 0],\n",
       " ['z4yr', 1],\n",
       " ['hound', 2],\n",
       " ['mount', 2],\n",
       " ['nadalie', 1],\n",
       " ['richard', 4],\n",
       " ['ogunjo', 0],\n",
       " ['am2', 1],\n",
       " ['robot', 0],\n",
       " ['ann2', 1],\n",
       " ['steeges', 1],\n",
       " ['vik', 1],\n",
       " ['socal', 3],\n",
       " ['wolfman', 1],\n",
       " ['zer', 2],\n",
       " ['ml_anon', 48]]"
      ]
     },
     "execution_count": 27,
     "metadata": {},
     "output_type": "execute_result"
    }
   ],
   "source": [
    "find_common_handles(fizzy)"
   ]
  },
  {
   "cell_type": "code",
   "execution_count": 24,
   "id": "1f68f1f3",
   "metadata": {},
   "outputs": [],
   "source": [
    "def cohen(data1, data2):\n",
    "    \n",
    "    \"\"\"\n",
    "    This function creates the table and calculate the Cohen_kappa score at once.\n",
    "    \"\"\"\n",
    "    \n",
    "    data = create_table(data1, data2)\n",
    "    \n",
    "    return cohen_kappa_score(data[\"Is Sybil? (T or F)\" + namestr(data1,globals())[0]],\n",
    "                            data[\"Is Sybil? (T or F)\" +namestr(data2, globals())[0]])"
   ]
  },
  {
   "cell_type": "code",
   "execution_count": 28,
   "id": "33d16c67",
   "metadata": {},
   "outputs": [
    {
     "data": {
      "text/plain": [
       "[-0.33333333333333326, 0.0, 0.3999999999999999, -0.5, -0.09090909090909083]"
      ]
     },
     "execution_count": 28,
     "metadata": {},
     "output_type": "execute_result"
    }
   ],
   "source": [
    "[cohen(fizzy, richard), cohen(fizzy, elbeth), cohen(fizzy, gold), cohen(fizzy, socal), cohen(fizzy, ml_anon)]"
   ]
  },
  {
   "cell_type": "code",
   "execution_count": 330,
   "id": "46543669",
   "metadata": {},
   "outputs": [],
   "source": [
    "## creating tables from those with atleast 3 common columns\n",
    "\n",
    "fiz_ric = create_table(fizzy, richard)\n",
    "fiz_elb = create_table(fizzy, elbeth)\n",
    "fiz_gold = create_table(fizzy, gold)\n",
    "## You can create a dataset like this for the others.\n",
    "fiz_ml = create_table(fizzy, ml_anon)"
   ]
  },
  {
   "cell_type": "code",
   "execution_count": 21,
   "id": "6bdfb1be",
   "metadata": {},
   "outputs": [
    {
     "data": {
      "text/plain": [
       "'Is sybilfizzy'"
      ]
     },
     "execution_count": 21,
     "metadata": {},
     "output_type": "execute_result"
    }
   ],
   "source": [
    "\"Is sybil\" + namestr(fizzy, globals())[0]"
   ]
  },
  {
   "cell_type": "code",
   "execution_count": 331,
   "id": "c0428228",
   "metadata": {
    "scrolled": false
   },
   "outputs": [
    {
     "data": {
      "text/plain": [
       "(0.5, 0.0, 0.6666666666666666, 0.6666666666666666)"
      ]
     },
     "execution_count": 331,
     "metadata": {},
     "output_type": "execute_result"
    }
   ],
   "source": [
    "total_agreement(fiz_ric, \"fizzy\", \"richard\"), total_agreement(fiz_elb, \"fizzy\", \"elbeth\"), total_agreement(fiz_gold, \"fizzy\", \"gold\"), total_agreement(fiz_ml, \"fizzy\", \"ml_anon\")"
   ]
  },
  {
   "cell_type": "code",
   "execution_count": 256,
   "id": "e48866ab",
   "metadata": {},
   "outputs": [
    {
     "data": {
      "text/plain": [
       "[-0.33333333333333326, 0.0, 0.3999999999999999, -0.09090909090909083]"
      ]
     },
     "execution_count": 256,
     "metadata": {},
     "output_type": "execute_result"
    }
   ],
   "source": [
    "## Calculating the cohen kappa score.\n",
    "## You can copy and paste this code and edit it to have the tables you created for each reviewer and the names as in this cell\n",
    "## Places to edit is shown below:\n",
    "\n",
    "#                  here                       here     here                       here \n",
    "[cohen_kappa_score(fiz_ric[\"Is Sybil? (T or F)fizzy\"], fiz_ric[\"Is Sybil? (T or F)richard\"]),\n",
    " \n",
    "cohen_kappa_score(fiz_elb[\"Is Sybil? (T or F)fizzy\"], fiz_elb[\"Is Sybil? (T or F)elbeth\"]),\n",
    " \n",
    "cohen_kappa_score(fiz_gold[\"Is Sybil? (T or F)fizzy\"], fiz_gold[\"Is Sybil? (T or F)gold\"]),\n",
    " \n",
    "## This calculates the cohen kappa score of the ml_anon and the reviewer.\n",
    "cohen_kappa_score(fiz__ml[\"Is Sybil? (T or F)fizzy\"], fiz__ml[\"Is Sybil? (T or F)ml_anon\"])]"
   ]
  },
  {
   "cell_type": "code",
   "execution_count": 257,
   "id": "56cbd2f9",
   "metadata": {},
   "outputs": [
    {
     "data": {
      "text/html": [
       "<div>\n",
       "<style scoped>\n",
       "    .dataframe tbody tr th:only-of-type {\n",
       "        vertical-align: middle;\n",
       "    }\n",
       "\n",
       "    .dataframe tbody tr th {\n",
       "        vertical-align: top;\n",
       "    }\n",
       "\n",
       "    .dataframe thead th {\n",
       "        text-align: right;\n",
       "    }\n",
       "</style>\n",
       "<table border=\"1\" class=\"dataframe\">\n",
       "  <thead>\n",
       "    <tr style=\"text-align: right;\">\n",
       "      <th></th>\n",
       "      <th>Reviewers</th>\n",
       "      <th>Correlations</th>\n",
       "    </tr>\n",
       "  </thead>\n",
       "  <tbody>\n",
       "    <tr>\n",
       "      <th>0</th>\n",
       "      <td>Richard</td>\n",
       "      <td>-0.333333</td>\n",
       "    </tr>\n",
       "    <tr>\n",
       "      <th>1</th>\n",
       "      <td>Elbeth</td>\n",
       "      <td>0.000000</td>\n",
       "    </tr>\n",
       "    <tr>\n",
       "      <th>2</th>\n",
       "      <td>Gold</td>\n",
       "      <td>0.400000</td>\n",
       "    </tr>\n",
       "    <tr>\n",
       "      <th>3</th>\n",
       "      <td>ML Anon</td>\n",
       "      <td>-0.090909</td>\n",
       "    </tr>\n",
       "  </tbody>\n",
       "</table>\n",
       "</div>"
      ],
      "text/plain": [
       "  Reviewers  Correlations\n",
       "0   Richard     -0.333333\n",
       "1    Elbeth      0.000000\n",
       "2      Gold      0.400000\n",
       "3   ML Anon     -0.090909"
      ]
     },
     "execution_count": 257,
     "metadata": {},
     "output_type": "execute_result"
    }
   ],
   "source": [
    "df = pd.DataFrame()\n",
    "df[\"Reviewers\"] = [\"Richard\", \"Elbeth\", \"Gold\", \"ML Anon\"]\n",
    "df[\"Correlations\"] = [-0.33333333333333326, 0.0, 0.3999999999999999, -0.09090909090909083]\n",
    "df"
   ]
  },
  {
   "cell_type": "code",
   "execution_count": 258,
   "id": "7f464202",
   "metadata": {},
   "outputs": [],
   "source": [
    "import plotly.express as px"
   ]
  },
  {
   "cell_type": "code",
   "execution_count": 259,
   "id": "c12e6df6",
   "metadata": {},
   "outputs": [
    {
     "data": {
      "application/vnd.plotly.v1+json": {
       "config": {
        "plotlyServerURL": "https://plot.ly"
       },
       "data": [
        {
         "alignmentgroup": "True",
         "hovertemplate": "Reviewers=%{x}<br>Correlations=%{marker.color}<extra></extra>",
         "legendgroup": "",
         "marker": {
          "color": [
           -0.33333333333333326,
           0,
           0.3999999999999999,
           -0.09090909090909083
          ],
          "coloraxis": "coloraxis",
          "pattern": {
           "shape": ""
          }
         },
         "name": "",
         "offsetgroup": "",
         "orientation": "v",
         "showlegend": false,
         "textposition": "auto",
         "type": "bar",
         "x": [
          "Richard",
          "Elbeth",
          "Gold",
          "ML Anon"
         ],
         "xaxis": "x",
         "y": [
          -0.33333333333333326,
          0,
          0.3999999999999999,
          -0.09090909090909083
         ],
         "yaxis": "y"
        }
       ],
       "layout": {
        "barmode": "relative",
        "coloraxis": {
         "colorbar": {
          "title": {
           "text": "Correlations"
          }
         },
         "colorscale": [
          [
           0,
           "rgb(158,1,66)"
          ],
          [
           0.1,
           "rgb(213,62,79)"
          ],
          [
           0.2,
           "rgb(244,109,67)"
          ],
          [
           0.3,
           "rgb(253,174,97)"
          ],
          [
           0.4,
           "rgb(254,224,139)"
          ],
          [
           0.5,
           "rgb(255,255,191)"
          ],
          [
           0.6,
           "rgb(230,245,152)"
          ],
          [
           0.7,
           "rgb(171,221,164)"
          ],
          [
           0.8,
           "rgb(102,194,165)"
          ],
          [
           0.9,
           "rgb(50,136,189)"
          ],
          [
           1,
           "rgb(94,79,162)"
          ]
         ]
        },
        "legend": {
         "tracegroupgap": 0
        },
        "template": {
         "data": {
          "pie": [
           {
            "automargin": true,
            "type": "pie"
           }
          ],
          "scatter": [
           {
            "line": {
             "width": 3
            },
            "marker": {
             "size": 9
            },
            "type": "scatter"
           }
          ],
          "scatter3d": [
           {
            "line": {
             "width": 3
            },
            "marker": {
             "size": 9
            },
            "type": "scatter3d"
           }
          ],
          "scattergeo": [
           {
            "line": {
             "width": 3
            },
            "marker": {
             "size": 9
            },
            "type": "scattergeo"
           }
          ],
          "scattergl": [
           {
            "line": {
             "width": 3
            },
            "marker": {
             "size": 9
            },
            "type": "scattergl"
           }
          ],
          "scatterpolar": [
           {
            "line": {
             "width": 3
            },
            "marker": {
             "size": 9
            },
            "type": "scatterpolar"
           }
          ],
          "scatterpolargl": [
           {
            "line": {
             "width": 3
            },
            "marker": {
             "size": 9
            },
            "type": "scatterpolargl"
           }
          ],
          "scatterternary": [
           {
            "line": {
             "width": 3
            },
            "marker": {
             "size": 9
            },
            "type": "scatterternary"
           }
          ],
          "table": [
           {
            "cells": {
             "height": 30
            },
            "header": {
             "height": 36
            },
            "type": "table"
           }
          ]
         },
         "layout": {
          "font": {
           "size": 18
          },
          "xaxis": {
           "title": {
            "standoff": 15
           }
          },
          "yaxis": {
           "title": {
            "standoff": 15
           }
          }
         }
        },
        "title": {
         "text": "Cohen-kappa score of Fizzy with other reviewers"
        },
        "xaxis": {
         "anchor": "y",
         "domain": [
          0,
          1
         ],
         "title": {
          "text": "Reviewers"
         }
        },
        "yaxis": {
         "anchor": "x",
         "domain": [
          0,
          1
         ],
         "title": {
          "text": "Correlations"
         }
        }
       }
      },
      "text/html": [
       "<div>                            <div id=\"0aa6c1d2-4bb1-4454-8cd1-1cd78039ee7e\" class=\"plotly-graph-div\" style=\"height:525px; width:100%;\"></div>            <script type=\"text/javascript\">                require([\"plotly\"], function(Plotly) {                    window.PLOTLYENV=window.PLOTLYENV || {};                                    if (document.getElementById(\"0aa6c1d2-4bb1-4454-8cd1-1cd78039ee7e\")) {                    Plotly.newPlot(                        \"0aa6c1d2-4bb1-4454-8cd1-1cd78039ee7e\",                        [{\"alignmentgroup\":\"True\",\"hovertemplate\":\"Reviewers=%{x}<br>Correlations=%{marker.color}<extra></extra>\",\"legendgroup\":\"\",\"marker\":{\"color\":[-0.33333333333333326,0.0,0.3999999999999999,-0.09090909090909083],\"coloraxis\":\"coloraxis\",\"pattern\":{\"shape\":\"\"}},\"name\":\"\",\"offsetgroup\":\"\",\"orientation\":\"v\",\"showlegend\":false,\"textposition\":\"auto\",\"type\":\"bar\",\"x\":[\"Richard\",\"Elbeth\",\"Gold\",\"ML Anon\"],\"xaxis\":\"x\",\"y\":[-0.33333333333333326,0.0,0.3999999999999999,-0.09090909090909083],\"yaxis\":\"y\"}],                        {\"barmode\":\"relative\",\"coloraxis\":{\"colorbar\":{\"title\":{\"text\":\"Correlations\"}},\"colorscale\":[[0.0,\"rgb(158,1,66)\"],[0.1,\"rgb(213,62,79)\"],[0.2,\"rgb(244,109,67)\"],[0.3,\"rgb(253,174,97)\"],[0.4,\"rgb(254,224,139)\"],[0.5,\"rgb(255,255,191)\"],[0.6,\"rgb(230,245,152)\"],[0.7,\"rgb(171,221,164)\"],[0.8,\"rgb(102,194,165)\"],[0.9,\"rgb(50,136,189)\"],[1.0,\"rgb(94,79,162)\"]]},\"legend\":{\"tracegroupgap\":0},\"template\":{\"data\":{\"pie\":[{\"automargin\":true,\"type\":\"pie\"}],\"scatter\":[{\"line\":{\"width\":3},\"marker\":{\"size\":9},\"type\":\"scatter\"}],\"scatter3d\":[{\"line\":{\"width\":3},\"marker\":{\"size\":9},\"type\":\"scatter3d\"}],\"scattergeo\":[{\"line\":{\"width\":3},\"marker\":{\"size\":9},\"type\":\"scattergeo\"}],\"scattergl\":[{\"line\":{\"width\":3},\"marker\":{\"size\":9},\"type\":\"scattergl\"}],\"scatterpolar\":[{\"line\":{\"width\":3},\"marker\":{\"size\":9},\"type\":\"scatterpolar\"}],\"scatterpolargl\":[{\"line\":{\"width\":3},\"marker\":{\"size\":9},\"type\":\"scatterpolargl\"}],\"scatterternary\":[{\"line\":{\"width\":3},\"marker\":{\"size\":9},\"type\":\"scatterternary\"}],\"table\":[{\"cells\":{\"height\":30},\"header\":{\"height\":36},\"type\":\"table\"}]},\"layout\":{\"font\":{\"size\":18},\"xaxis\":{\"title\":{\"standoff\":15}},\"yaxis\":{\"title\":{\"standoff\":15}}}},\"title\":{\"text\":\"Cohen-kappa score of Fizzy with other reviewers\"},\"xaxis\":{\"anchor\":\"y\",\"domain\":[0.0,1.0],\"title\":{\"text\":\"Reviewers\"}},\"yaxis\":{\"anchor\":\"x\",\"domain\":[0.0,1.0],\"title\":{\"text\":\"Correlations\"}}},                        {\"responsive\": true}                    ).then(function(){\n",
       "                            \n",
       "var gd = document.getElementById('0aa6c1d2-4bb1-4454-8cd1-1cd78039ee7e');\n",
       "var x = new MutationObserver(function (mutations, observer) {{\n",
       "        var display = window.getComputedStyle(gd).display;\n",
       "        if (!display || display === 'none') {{\n",
       "            console.log([gd, 'removed!']);\n",
       "            Plotly.purge(gd);\n",
       "            observer.disconnect();\n",
       "        }}\n",
       "}});\n",
       "\n",
       "// Listen for the removal of the full notebook cells\n",
       "var notebookContainer = gd.closest('#notebook-container');\n",
       "if (notebookContainer) {{\n",
       "    x.observe(notebookContainer, {childList: true});\n",
       "}}\n",
       "\n",
       "// Listen for the clearing of the current output cell\n",
       "var outputEl = gd.closest('.output');\n",
       "if (outputEl) {{\n",
       "    x.observe(outputEl, {childList: true});\n",
       "}}\n",
       "\n",
       "                        })                };                });            </script>        </div>"
      ]
     },
     "metadata": {},
     "output_type": "display_data"
    }
   ],
   "source": [
    "px.bar(data_frame=df, \n",
    "      x= \"Reviewers\",\n",
    "      y=\"Correlations\",\n",
    "      color=\"Correlations\",\n",
    "       template=\"presentation\",\n",
    "      color_continuous_scale=px.colors.diverging.Spectral,\n",
    "       title=\"Cohen-kappa score of Fizzy with other reviewers\",\n",
    "      #width=500\n",
    "      )"
   ]
  },
  {
   "cell_type": "markdown",
   "id": "b3ab3801",
   "metadata": {},
   "source": [
    "## Elbeth"
   ]
  },
  {
   "cell_type": "code",
   "execution_count": 95,
   "id": "82c47860",
   "metadata": {
    "collapsed": true
   },
   "outputs": [
    {
     "data": {
      "text/plain": [
       "[['adebola', 0],\n",
       " ['am', 0],\n",
       " ['ann', 0],\n",
       " ['anuj', 1],\n",
       " ['elbeth', 60],\n",
       " ['bfa', 3],\n",
       " ['gold', 1],\n",
       " ['bob', 0],\n",
       " ['lkh', 2],\n",
       " ['waka', 2],\n",
       " ['trice', 5],\n",
       " ['proof', 2],\n",
       " ['emmanuel', 0],\n",
       " ['fizzy', 4],\n",
       " ['dog', 1],\n",
       " ['flob', 2],\n",
       " ['emma_j', 1],\n",
       " ['greg', 1],\n",
       " ['grey', 1],\n",
       " ['stel', 0],\n",
       " ['jshua', 1],\n",
       " ['kish', 0],\n",
       " ['kylin', 2],\n",
       " ['z4yr', 3],\n",
       " ['hound', 2],\n",
       " ['mount', 4],\n",
       " ['nadalie', 0],\n",
       " ['richard', 3],\n",
       " ['ogunjo', 0],\n",
       " ['am2', 1],\n",
       " ['robot', 3],\n",
       " ['ann2', 2],\n",
       " ['steeges', 0],\n",
       " ['vik', 1],\n",
       " ['socal', 2],\n",
       " ['wolfman', 0],\n",
       " ['zer', 1],\n",
       " ['elbeth2', 2],\n",
       " ['bob2', 0],\n",
       " ['lkh2', 1],\n",
       " ['fizzy2', 0],\n",
       " ['trice2', 0],\n",
       " ['flob2', 0],\n",
       " ['greg2', 0],\n",
       " ['grey2', 0],\n",
       " ['stele2', 1],\n",
       " ['hound2', 2],\n",
       " ['richard2', 1],\n",
       " ['ogunjo2', 0],\n",
       " ['vik2', 0],\n",
       " ['wolfman2', 0]]"
      ]
     },
     "execution_count": 95,
     "metadata": {},
     "output_type": "execute_result"
    }
   ],
   "source": [
    "find_common_handles(elbeth)"
   ]
  },
  {
   "cell_type": "code",
   "execution_count": 343,
   "id": "c744e2a3",
   "metadata": {},
   "outputs": [],
   "source": [
    "elb_rich = create_table(elbeth, richard)\n",
    "elb_mount = create_table(elbeth, mount)\n",
    "elb_z4yr = create_table(elbeth, z4yr)\n",
    "elb_trice = create_table(elbeth, trice)\n",
    "elb_fiz = create_table(elbeth, fizzy)\n",
    "elb_ml = create_table(elbeth, ml_anon)"
   ]
  },
  {
   "cell_type": "code",
   "execution_count": 345,
   "id": "f3d481f8",
   "metadata": {},
   "outputs": [
    {
     "data": {
      "text/plain": [
       "[0.0, 0.3333333333333333, 0.75, 0.6666666666666666, 0.6, 0.46511627906976744]"
      ]
     },
     "execution_count": 345,
     "metadata": {},
     "output_type": "execute_result"
    }
   ],
   "source": [
    "[total_agreement(elb_fiz, \"elbeth\", \"fizzy\"), total_agreement(elb_rich, \"elbeth\", \"richard\"),\n",
    " total_agreement(elb_mount, \"elbeth\", \"mount\"), total_agreement(elb_z4yr,\"elbeth\", \"z4yr\"),\n",
    " total_agreement(elb_trice,\"elbeth\", \"trice\"), total_agreement(elb_ml, \"elbeth\", \"ml_anon\")]"
   ]
  },
  {
   "cell_type": "code",
   "execution_count": 29,
   "id": "45ac3646",
   "metadata": {},
   "outputs": [
    {
     "data": {
      "text/plain": [
       "[0.0, 0.5, 0.3999999999999999, -0.25, 0.0, 0.1682085786375106]"
      ]
     },
     "execution_count": 29,
     "metadata": {},
     "output_type": "execute_result"
    }
   ],
   "source": [
    "[cohen(elbeth, richard), cohen(elbeth, mount), cohen(elbeth, z4yr), cohen(elbeth, trice),\n",
    " cohen(elbeth, fizzy), cohen(elbeth, ml_anon)]"
   ]
  },
  {
   "cell_type": "code",
   "execution_count": 102,
   "id": "bb251c48",
   "metadata": {},
   "outputs": [
    {
     "data": {
      "text/plain": [
       "[0.0, 0.5, 0.3999999999999999, -0.25, 0.0]"
      ]
     },
     "execution_count": 102,
     "metadata": {},
     "output_type": "execute_result"
    }
   ],
   "source": [
    "[cohen_kappa_score(elb_rich[\"Is Sybil? (T or F)elbeth\"], elb_rich[\"Is Sybil? (T or F)richard\"]),\n",
    " \n",
    "cohen_kappa_score(elb_mount[\"Is Sybil? (T or F)elbeth\"], elb_mount[\"Is Sybil? (T or F)mount\"]),\n",
    " \n",
    "cohen_kappa_score(elb_z4yr[\"Is Sybil? (T or F)elbeth\"], elb_z4yr[\"Is Sybil? (T or F)z4yr\"]),\n",
    " \n",
    "cohen_kappa_score(elb_trice[\"Is Sybil? (T or F)elbeth\"], elb_trice[\"Is Sybil? (T or F)trice\"]),\n",
    " \n",
    "cohen_kappa_score(elb_fiz[\"Is Sybil? (T or F)elbeth\"], elb_fiz[\"Is Sybil? (T or F)fizzy\"]),]"
   ]
  },
  {
   "cell_type": "code",
   "execution_count": 103,
   "id": "f8c85b1e",
   "metadata": {},
   "outputs": [
    {
     "data": {
      "text/html": [
       "<div>\n",
       "<style scoped>\n",
       "    .dataframe tbody tr th:only-of-type {\n",
       "        vertical-align: middle;\n",
       "    }\n",
       "\n",
       "    .dataframe tbody tr th {\n",
       "        vertical-align: top;\n",
       "    }\n",
       "\n",
       "    .dataframe thead th {\n",
       "        text-align: right;\n",
       "    }\n",
       "</style>\n",
       "<table border=\"1\" class=\"dataframe\">\n",
       "  <thead>\n",
       "    <tr style=\"text-align: right;\">\n",
       "      <th></th>\n",
       "      <th>Reviewers</th>\n",
       "      <th>Correlations</th>\n",
       "    </tr>\n",
       "  </thead>\n",
       "  <tbody>\n",
       "    <tr>\n",
       "      <th>0</th>\n",
       "      <td>Richard</td>\n",
       "      <td>0.00</td>\n",
       "    </tr>\n",
       "    <tr>\n",
       "      <th>1</th>\n",
       "      <td>Mount</td>\n",
       "      <td>0.50</td>\n",
       "    </tr>\n",
       "    <tr>\n",
       "      <th>2</th>\n",
       "      <td>Z4yr</td>\n",
       "      <td>0.40</td>\n",
       "    </tr>\n",
       "    <tr>\n",
       "      <th>3</th>\n",
       "      <td>Trice</td>\n",
       "      <td>-0.25</td>\n",
       "    </tr>\n",
       "    <tr>\n",
       "      <th>4</th>\n",
       "      <td>Fizzy</td>\n",
       "      <td>0.00</td>\n",
       "    </tr>\n",
       "  </tbody>\n",
       "</table>\n",
       "</div>"
      ],
      "text/plain": [
       "  Reviewers  Correlations\n",
       "0   Richard          0.00\n",
       "1     Mount          0.50\n",
       "2      Z4yr          0.40\n",
       "3     Trice         -0.25\n",
       "4     Fizzy          0.00"
      ]
     },
     "execution_count": 103,
     "metadata": {},
     "output_type": "execute_result"
    }
   ],
   "source": [
    "df = pd.DataFrame()\n",
    "df[\"Reviewers\"] = [\"Richard\", \"Mount\", \"Z4yr\", \"Trice\", \"Fizzy\"]\n",
    "df[\"Correlations\"] = [0.0, 0.5, 0.3999999999999999, -0.25, 0.0]\n",
    "df"
   ]
  },
  {
   "cell_type": "code",
   "execution_count": 104,
   "id": "3627a199",
   "metadata": {
    "collapsed": true
   },
   "outputs": [
    {
     "data": {
      "application/vnd.plotly.v1+json": {
       "config": {
        "plotlyServerURL": "https://plot.ly"
       },
       "data": [
        {
         "alignmentgroup": "True",
         "hovertemplate": "Reviewers=%{x}<br>Correlations=%{marker.color}<extra></extra>",
         "legendgroup": "",
         "marker": {
          "color": [
           0,
           0.5,
           0.3999999999999999,
           -0.25,
           0
          ],
          "coloraxis": "coloraxis",
          "pattern": {
           "shape": ""
          }
         },
         "name": "",
         "offsetgroup": "",
         "orientation": "v",
         "showlegend": false,
         "textposition": "auto",
         "type": "bar",
         "x": [
          "Richard",
          "Mount",
          "Z4yr",
          "Trice",
          "Fizzy"
         ],
         "xaxis": "x",
         "y": [
          0,
          0.5,
          0.3999999999999999,
          -0.25,
          0
         ],
         "yaxis": "y"
        }
       ],
       "layout": {
        "barmode": "relative",
        "coloraxis": {
         "colorbar": {
          "title": {
           "text": "Correlations"
          }
         },
         "colorscale": [
          [
           0,
           "rgb(158,1,66)"
          ],
          [
           0.1,
           "rgb(213,62,79)"
          ],
          [
           0.2,
           "rgb(244,109,67)"
          ],
          [
           0.3,
           "rgb(253,174,97)"
          ],
          [
           0.4,
           "rgb(254,224,139)"
          ],
          [
           0.5,
           "rgb(255,255,191)"
          ],
          [
           0.6,
           "rgb(230,245,152)"
          ],
          [
           0.7,
           "rgb(171,221,164)"
          ],
          [
           0.8,
           "rgb(102,194,165)"
          ],
          [
           0.9,
           "rgb(50,136,189)"
          ],
          [
           1,
           "rgb(94,79,162)"
          ]
         ]
        },
        "legend": {
         "tracegroupgap": 0
        },
        "template": {
         "data": {
          "pie": [
           {
            "automargin": true,
            "type": "pie"
           }
          ],
          "scatter": [
           {
            "line": {
             "width": 3
            },
            "marker": {
             "size": 9
            },
            "type": "scatter"
           }
          ],
          "scatter3d": [
           {
            "line": {
             "width": 3
            },
            "marker": {
             "size": 9
            },
            "type": "scatter3d"
           }
          ],
          "scattergeo": [
           {
            "line": {
             "width": 3
            },
            "marker": {
             "size": 9
            },
            "type": "scattergeo"
           }
          ],
          "scattergl": [
           {
            "line": {
             "width": 3
            },
            "marker": {
             "size": 9
            },
            "type": "scattergl"
           }
          ],
          "scatterpolar": [
           {
            "line": {
             "width": 3
            },
            "marker": {
             "size": 9
            },
            "type": "scatterpolar"
           }
          ],
          "scatterpolargl": [
           {
            "line": {
             "width": 3
            },
            "marker": {
             "size": 9
            },
            "type": "scatterpolargl"
           }
          ],
          "scatterternary": [
           {
            "line": {
             "width": 3
            },
            "marker": {
             "size": 9
            },
            "type": "scatterternary"
           }
          ],
          "table": [
           {
            "cells": {
             "height": 30
            },
            "header": {
             "height": 36
            },
            "type": "table"
           }
          ]
         },
         "layout": {
          "font": {
           "size": 18
          },
          "xaxis": {
           "title": {
            "standoff": 15
           }
          },
          "yaxis": {
           "title": {
            "standoff": 15
           }
          }
         }
        },
        "title": {
         "text": "Cohen-kappa score of Elbeth with other reviewers"
        },
        "xaxis": {
         "anchor": "y",
         "domain": [
          0,
          1
         ],
         "title": {
          "text": "Reviewers"
         }
        },
        "yaxis": {
         "anchor": "x",
         "domain": [
          0,
          1
         ],
         "title": {
          "text": "Correlations"
         }
        }
       }
      },
      "text/html": [
       "<div>                            <div id=\"4d96cc4c-7066-4eee-a7bc-2c1d8c273f95\" class=\"plotly-graph-div\" style=\"height:525px; width:100%;\"></div>            <script type=\"text/javascript\">                require([\"plotly\"], function(Plotly) {                    window.PLOTLYENV=window.PLOTLYENV || {};                                    if (document.getElementById(\"4d96cc4c-7066-4eee-a7bc-2c1d8c273f95\")) {                    Plotly.newPlot(                        \"4d96cc4c-7066-4eee-a7bc-2c1d8c273f95\",                        [{\"alignmentgroup\":\"True\",\"hovertemplate\":\"Reviewers=%{x}<br>Correlations=%{marker.color}<extra></extra>\",\"legendgroup\":\"\",\"marker\":{\"color\":[0.0,0.5,0.3999999999999999,-0.25,0.0],\"coloraxis\":\"coloraxis\",\"pattern\":{\"shape\":\"\"}},\"name\":\"\",\"offsetgroup\":\"\",\"orientation\":\"v\",\"showlegend\":false,\"textposition\":\"auto\",\"type\":\"bar\",\"x\":[\"Richard\",\"Mount\",\"Z4yr\",\"Trice\",\"Fizzy\"],\"xaxis\":\"x\",\"y\":[0.0,0.5,0.3999999999999999,-0.25,0.0],\"yaxis\":\"y\"}],                        {\"barmode\":\"relative\",\"coloraxis\":{\"colorbar\":{\"title\":{\"text\":\"Correlations\"}},\"colorscale\":[[0.0,\"rgb(158,1,66)\"],[0.1,\"rgb(213,62,79)\"],[0.2,\"rgb(244,109,67)\"],[0.3,\"rgb(253,174,97)\"],[0.4,\"rgb(254,224,139)\"],[0.5,\"rgb(255,255,191)\"],[0.6,\"rgb(230,245,152)\"],[0.7,\"rgb(171,221,164)\"],[0.8,\"rgb(102,194,165)\"],[0.9,\"rgb(50,136,189)\"],[1.0,\"rgb(94,79,162)\"]]},\"legend\":{\"tracegroupgap\":0},\"template\":{\"data\":{\"pie\":[{\"automargin\":true,\"type\":\"pie\"}],\"scatter\":[{\"line\":{\"width\":3},\"marker\":{\"size\":9},\"type\":\"scatter\"}],\"scatter3d\":[{\"line\":{\"width\":3},\"marker\":{\"size\":9},\"type\":\"scatter3d\"}],\"scattergeo\":[{\"line\":{\"width\":3},\"marker\":{\"size\":9},\"type\":\"scattergeo\"}],\"scattergl\":[{\"line\":{\"width\":3},\"marker\":{\"size\":9},\"type\":\"scattergl\"}],\"scatterpolar\":[{\"line\":{\"width\":3},\"marker\":{\"size\":9},\"type\":\"scatterpolar\"}],\"scatterpolargl\":[{\"line\":{\"width\":3},\"marker\":{\"size\":9},\"type\":\"scatterpolargl\"}],\"scatterternary\":[{\"line\":{\"width\":3},\"marker\":{\"size\":9},\"type\":\"scatterternary\"}],\"table\":[{\"cells\":{\"height\":30},\"header\":{\"height\":36},\"type\":\"table\"}]},\"layout\":{\"font\":{\"size\":18},\"xaxis\":{\"title\":{\"standoff\":15}},\"yaxis\":{\"title\":{\"standoff\":15}}}},\"title\":{\"text\":\"Cohen-kappa score of Elbeth with other reviewers\"},\"xaxis\":{\"anchor\":\"y\",\"domain\":[0.0,1.0],\"title\":{\"text\":\"Reviewers\"}},\"yaxis\":{\"anchor\":\"x\",\"domain\":[0.0,1.0],\"title\":{\"text\":\"Correlations\"}}},                        {\"responsive\": true}                    ).then(function(){\n",
       "                            \n",
       "var gd = document.getElementById('4d96cc4c-7066-4eee-a7bc-2c1d8c273f95');\n",
       "var x = new MutationObserver(function (mutations, observer) {{\n",
       "        var display = window.getComputedStyle(gd).display;\n",
       "        if (!display || display === 'none') {{\n",
       "            console.log([gd, 'removed!']);\n",
       "            Plotly.purge(gd);\n",
       "            observer.disconnect();\n",
       "        }}\n",
       "}});\n",
       "\n",
       "// Listen for the removal of the full notebook cells\n",
       "var notebookContainer = gd.closest('#notebook-container');\n",
       "if (notebookContainer) {{\n",
       "    x.observe(notebookContainer, {childList: true});\n",
       "}}\n",
       "\n",
       "// Listen for the clearing of the current output cell\n",
       "var outputEl = gd.closest('.output');\n",
       "if (outputEl) {{\n",
       "    x.observe(outputEl, {childList: true});\n",
       "}}\n",
       "\n",
       "                        })                };                });            </script>        </div>"
      ]
     },
     "metadata": {},
     "output_type": "display_data"
    }
   ],
   "source": [
    "px.bar(data_frame=df, \n",
    "      x= \"Reviewers\",\n",
    "      y=\"Correlations\",\n",
    "      color=\"Correlations\",\n",
    "       template=\"presentation\",\n",
    "      color_continuous_scale=px.colors.diverging.Spectral,\n",
    "       title=\"Cohen-kappa score of Elbeth with other reviewers\",\n",
    "      #width=500\n",
    "      )"
   ]
  },
  {
   "cell_type": "markdown",
   "id": "69ed8a14",
   "metadata": {},
   "source": [
    "## BFA"
   ]
  },
  {
   "cell_type": "code",
   "execution_count": 105,
   "id": "8d4fbaaa",
   "metadata": {
    "collapsed": true
   },
   "outputs": [
    {
     "data": {
      "text/plain": [
       "[['adebola', 0],\n",
       " ['am', 0],\n",
       " ['ann', 0],\n",
       " ['anuj', 1],\n",
       " ['elbeth', 3],\n",
       " ['bfa', 60],\n",
       " ['gold', 3],\n",
       " ['bob', 1],\n",
       " ['lkh', 1],\n",
       " ['waka', 2],\n",
       " ['trice', 1],\n",
       " ['proof', 1],\n",
       " ['emmanuel', 1],\n",
       " ['fizzy', 2],\n",
       " ['dog', 5],\n",
       " ['flob', 2],\n",
       " ['emma_j', 1],\n",
       " ['greg', 0],\n",
       " ['grey', 1],\n",
       " ['stel', 0],\n",
       " ['jshua', 2],\n",
       " ['kish', 3],\n",
       " ['kylin', 0],\n",
       " ['z4yr', 0],\n",
       " ['hound', 0],\n",
       " ['mount', 2],\n",
       " ['nadalie', 1],\n",
       " ['richard', 2],\n",
       " ['ogunjo', 0],\n",
       " ['am2', 0],\n",
       " ['robot', 0],\n",
       " ['ann2', 1],\n",
       " ['steeges', 0],\n",
       " ['vik', 2],\n",
       " ['socal', 1],\n",
       " ['wolfman', 1],\n",
       " ['zer', 0],\n",
       " ['elbeth2', 2],\n",
       " ['bob2', 1],\n",
       " ['lkh2', 0],\n",
       " ['fizzy2', 3],\n",
       " ['trice2', 1],\n",
       " ['flob2', 0],\n",
       " ['greg2', 0],\n",
       " ['grey2', 1],\n",
       " ['stele2', 0],\n",
       " ['hound2', 1],\n",
       " ['richard2', 0],\n",
       " ['ogunjo2', 2],\n",
       " ['vik2', 0],\n",
       " ['wolfman2', 1]]"
      ]
     },
     "execution_count": 105,
     "metadata": {},
     "output_type": "execute_result"
    }
   ],
   "source": [
    "find_common_handles(bfa)"
   ]
  },
  {
   "cell_type": "code",
   "execution_count": 346,
   "id": "97d91893",
   "metadata": {},
   "outputs": [],
   "source": [
    "bfa_elbeth = create_table(bfa, elbeth)\n",
    "bfa_gold = create_table(bfa, gold)\n",
    "bfa_dog = create_table(bfa, dog)\n",
    "bfa_kish = create_table(bfa, kish)\n",
    "bfa_ml = create_table(bfa, ml_anon)"
   ]
  },
  {
   "cell_type": "code",
   "execution_count": 30,
   "id": "5f7a2e50",
   "metadata": {},
   "outputs": [
    {
     "data": {
      "text/plain": [
       "[0.3999999999999999, 1.0, 0.5454545454545454, 0.0, 0.1104441776710684]"
      ]
     },
     "execution_count": 30,
     "metadata": {},
     "output_type": "execute_result"
    }
   ],
   "source": [
    "[cohen(bfa, elbeth), cohen(bfa, gold), cohen(bfa, dog), cohen(bfa, kish),\n",
    " cohen(bfa, ml_anon)]"
   ]
  },
  {
   "cell_type": "code",
   "execution_count": 349,
   "id": "08eb5114",
   "metadata": {},
   "outputs": [
    {
     "data": {
      "text/plain": [
       "[0.6666666666666666, 1.0, 0.8, 0.6666666666666666, 0.5128205128205128]"
      ]
     },
     "execution_count": 349,
     "metadata": {},
     "output_type": "execute_result"
    }
   ],
   "source": [
    "[total_agreement(bfa_elbeth, \"bfa\", \"elbeth\"), total_agreement(bfa_gold, \"bfa\", \"gold\"),\n",
    " total_agreement(bfa_dog, \"bfa\", \"dog\"), total_agreement(bfa_kish,\"bfa\", \"kish\"),\n",
    " total_agreement(bfa_ml, \"bfa\", \"ml_anon\")]"
   ]
  },
  {
   "cell_type": "code",
   "execution_count": 111,
   "id": "aa45043f",
   "metadata": {},
   "outputs": [
    {
     "data": {
      "text/plain": [
       "[0.3999999999999999, 1.0, 0.5454545454545454, 0.0]"
      ]
     },
     "execution_count": 111,
     "metadata": {},
     "output_type": "execute_result"
    }
   ],
   "source": [
    "[cohen_kappa_score(bfa_elbeth[\"Is Sybil? (T or F)bfa\"], bfa_elbeth[\"Is Sybil? (T or F)elbeth\"]),\n",
    " \n",
    "cohen_kappa_score(bfa_gold[\"Is Sybil? (T or F)bfa\"], bfa_gold[\"Is Sybil? (T or F)gold\"]),\n",
    " \n",
    "cohen_kappa_score(bfa_dog[\"Is Sybil? (T or F)bfa\"], bfa_dog[\"Is Sybil? (T or F)dog\"]),\n",
    " \n",
    "cohen_kappa_score(bfa_kish[\"Is Sybil? (T or F)bfa\"], bfa_kish[\"Is Sybil? (T or F)kish\"])]"
   ]
  },
  {
   "cell_type": "code",
   "execution_count": 112,
   "id": "20f4da26",
   "metadata": {},
   "outputs": [
    {
     "data": {
      "text/html": [
       "<div>\n",
       "<style scoped>\n",
       "    .dataframe tbody tr th:only-of-type {\n",
       "        vertical-align: middle;\n",
       "    }\n",
       "\n",
       "    .dataframe tbody tr th {\n",
       "        vertical-align: top;\n",
       "    }\n",
       "\n",
       "    .dataframe thead th {\n",
       "        text-align: right;\n",
       "    }\n",
       "</style>\n",
       "<table border=\"1\" class=\"dataframe\">\n",
       "  <thead>\n",
       "    <tr style=\"text-align: right;\">\n",
       "      <th></th>\n",
       "      <th>Reviewers</th>\n",
       "      <th>Correlations</th>\n",
       "    </tr>\n",
       "  </thead>\n",
       "  <tbody>\n",
       "    <tr>\n",
       "      <th>0</th>\n",
       "      <td>Elbeth</td>\n",
       "      <td>0.400000</td>\n",
       "    </tr>\n",
       "    <tr>\n",
       "      <th>1</th>\n",
       "      <td>Gold</td>\n",
       "      <td>1.000000</td>\n",
       "    </tr>\n",
       "    <tr>\n",
       "      <th>2</th>\n",
       "      <td>Dogg</td>\n",
       "      <td>0.545455</td>\n",
       "    </tr>\n",
       "    <tr>\n",
       "      <th>3</th>\n",
       "      <td>Kish</td>\n",
       "      <td>0.000000</td>\n",
       "    </tr>\n",
       "  </tbody>\n",
       "</table>\n",
       "</div>"
      ],
      "text/plain": [
       "  Reviewers  Correlations\n",
       "0    Elbeth      0.400000\n",
       "1      Gold      1.000000\n",
       "2      Dogg      0.545455\n",
       "3      Kish      0.000000"
      ]
     },
     "execution_count": 112,
     "metadata": {},
     "output_type": "execute_result"
    }
   ],
   "source": [
    "df = pd.DataFrame()\n",
    "df[\"Reviewers\"] = [\"Elbeth\", \"Gold\", \"Dogg\", \"Kish\"]\n",
    "df[\"Correlations\"] = [0.3999999999999999, 1.0, 0.5454545454545454, 0.0]\n",
    "df"
   ]
  },
  {
   "cell_type": "code",
   "execution_count": 113,
   "id": "71ae8624",
   "metadata": {},
   "outputs": [
    {
     "data": {
      "application/vnd.plotly.v1+json": {
       "config": {
        "plotlyServerURL": "https://plot.ly"
       },
       "data": [
        {
         "alignmentgroup": "True",
         "hovertemplate": "Reviewers=%{x}<br>Correlations=%{marker.color}<extra></extra>",
         "legendgroup": "",
         "marker": {
          "color": [
           0.3999999999999999,
           1,
           0.5454545454545454,
           0
          ],
          "coloraxis": "coloraxis",
          "pattern": {
           "shape": ""
          }
         },
         "name": "",
         "offsetgroup": "",
         "orientation": "v",
         "showlegend": false,
         "textposition": "auto",
         "type": "bar",
         "x": [
          "Elbeth",
          "Gold",
          "Dogg",
          "Kish"
         ],
         "xaxis": "x",
         "y": [
          0.3999999999999999,
          1,
          0.5454545454545454,
          0
         ],
         "yaxis": "y"
        }
       ],
       "layout": {
        "barmode": "relative",
        "coloraxis": {
         "colorbar": {
          "title": {
           "text": "Correlations"
          }
         },
         "colorscale": [
          [
           0,
           "rgb(158,1,66)"
          ],
          [
           0.1,
           "rgb(213,62,79)"
          ],
          [
           0.2,
           "rgb(244,109,67)"
          ],
          [
           0.3,
           "rgb(253,174,97)"
          ],
          [
           0.4,
           "rgb(254,224,139)"
          ],
          [
           0.5,
           "rgb(255,255,191)"
          ],
          [
           0.6,
           "rgb(230,245,152)"
          ],
          [
           0.7,
           "rgb(171,221,164)"
          ],
          [
           0.8,
           "rgb(102,194,165)"
          ],
          [
           0.9,
           "rgb(50,136,189)"
          ],
          [
           1,
           "rgb(94,79,162)"
          ]
         ]
        },
        "legend": {
         "tracegroupgap": 0
        },
        "template": {
         "data": {
          "pie": [
           {
            "automargin": true,
            "type": "pie"
           }
          ],
          "scatter": [
           {
            "line": {
             "width": 3
            },
            "marker": {
             "size": 9
            },
            "type": "scatter"
           }
          ],
          "scatter3d": [
           {
            "line": {
             "width": 3
            },
            "marker": {
             "size": 9
            },
            "type": "scatter3d"
           }
          ],
          "scattergeo": [
           {
            "line": {
             "width": 3
            },
            "marker": {
             "size": 9
            },
            "type": "scattergeo"
           }
          ],
          "scattergl": [
           {
            "line": {
             "width": 3
            },
            "marker": {
             "size": 9
            },
            "type": "scattergl"
           }
          ],
          "scatterpolar": [
           {
            "line": {
             "width": 3
            },
            "marker": {
             "size": 9
            },
            "type": "scatterpolar"
           }
          ],
          "scatterpolargl": [
           {
            "line": {
             "width": 3
            },
            "marker": {
             "size": 9
            },
            "type": "scatterpolargl"
           }
          ],
          "scatterternary": [
           {
            "line": {
             "width": 3
            },
            "marker": {
             "size": 9
            },
            "type": "scatterternary"
           }
          ],
          "table": [
           {
            "cells": {
             "height": 30
            },
            "header": {
             "height": 36
            },
            "type": "table"
           }
          ]
         },
         "layout": {
          "font": {
           "size": 18
          },
          "xaxis": {
           "title": {
            "standoff": 15
           }
          },
          "yaxis": {
           "title": {
            "standoff": 15
           }
          }
         }
        },
        "title": {
         "text": "Cohen-kappa score of BFA with other reviewers"
        },
        "xaxis": {
         "anchor": "y",
         "domain": [
          0,
          1
         ],
         "title": {
          "text": "Reviewers"
         }
        },
        "yaxis": {
         "anchor": "x",
         "domain": [
          0,
          1
         ],
         "title": {
          "text": "Correlations"
         }
        }
       }
      },
      "text/html": [
       "<div>                            <div id=\"65d7619e-f1b8-4fe1-a0d1-0e7a351f163c\" class=\"plotly-graph-div\" style=\"height:525px; width:100%;\"></div>            <script type=\"text/javascript\">                require([\"plotly\"], function(Plotly) {                    window.PLOTLYENV=window.PLOTLYENV || {};                                    if (document.getElementById(\"65d7619e-f1b8-4fe1-a0d1-0e7a351f163c\")) {                    Plotly.newPlot(                        \"65d7619e-f1b8-4fe1-a0d1-0e7a351f163c\",                        [{\"alignmentgroup\":\"True\",\"hovertemplate\":\"Reviewers=%{x}<br>Correlations=%{marker.color}<extra></extra>\",\"legendgroup\":\"\",\"marker\":{\"color\":[0.3999999999999999,1.0,0.5454545454545454,0.0],\"coloraxis\":\"coloraxis\",\"pattern\":{\"shape\":\"\"}},\"name\":\"\",\"offsetgroup\":\"\",\"orientation\":\"v\",\"showlegend\":false,\"textposition\":\"auto\",\"type\":\"bar\",\"x\":[\"Elbeth\",\"Gold\",\"Dogg\",\"Kish\"],\"xaxis\":\"x\",\"y\":[0.3999999999999999,1.0,0.5454545454545454,0.0],\"yaxis\":\"y\"}],                        {\"barmode\":\"relative\",\"coloraxis\":{\"colorbar\":{\"title\":{\"text\":\"Correlations\"}},\"colorscale\":[[0.0,\"rgb(158,1,66)\"],[0.1,\"rgb(213,62,79)\"],[0.2,\"rgb(244,109,67)\"],[0.3,\"rgb(253,174,97)\"],[0.4,\"rgb(254,224,139)\"],[0.5,\"rgb(255,255,191)\"],[0.6,\"rgb(230,245,152)\"],[0.7,\"rgb(171,221,164)\"],[0.8,\"rgb(102,194,165)\"],[0.9,\"rgb(50,136,189)\"],[1.0,\"rgb(94,79,162)\"]]},\"legend\":{\"tracegroupgap\":0},\"template\":{\"data\":{\"pie\":[{\"automargin\":true,\"type\":\"pie\"}],\"scatter\":[{\"line\":{\"width\":3},\"marker\":{\"size\":9},\"type\":\"scatter\"}],\"scatter3d\":[{\"line\":{\"width\":3},\"marker\":{\"size\":9},\"type\":\"scatter3d\"}],\"scattergeo\":[{\"line\":{\"width\":3},\"marker\":{\"size\":9},\"type\":\"scattergeo\"}],\"scattergl\":[{\"line\":{\"width\":3},\"marker\":{\"size\":9},\"type\":\"scattergl\"}],\"scatterpolar\":[{\"line\":{\"width\":3},\"marker\":{\"size\":9},\"type\":\"scatterpolar\"}],\"scatterpolargl\":[{\"line\":{\"width\":3},\"marker\":{\"size\":9},\"type\":\"scatterpolargl\"}],\"scatterternary\":[{\"line\":{\"width\":3},\"marker\":{\"size\":9},\"type\":\"scatterternary\"}],\"table\":[{\"cells\":{\"height\":30},\"header\":{\"height\":36},\"type\":\"table\"}]},\"layout\":{\"font\":{\"size\":18},\"xaxis\":{\"title\":{\"standoff\":15}},\"yaxis\":{\"title\":{\"standoff\":15}}}},\"title\":{\"text\":\"Cohen-kappa score of BFA with other reviewers\"},\"xaxis\":{\"anchor\":\"y\",\"domain\":[0.0,1.0],\"title\":{\"text\":\"Reviewers\"}},\"yaxis\":{\"anchor\":\"x\",\"domain\":[0.0,1.0],\"title\":{\"text\":\"Correlations\"}}},                        {\"responsive\": true}                    ).then(function(){\n",
       "                            \n",
       "var gd = document.getElementById('65d7619e-f1b8-4fe1-a0d1-0e7a351f163c');\n",
       "var x = new MutationObserver(function (mutations, observer) {{\n",
       "        var display = window.getComputedStyle(gd).display;\n",
       "        if (!display || display === 'none') {{\n",
       "            console.log([gd, 'removed!']);\n",
       "            Plotly.purge(gd);\n",
       "            observer.disconnect();\n",
       "        }}\n",
       "}});\n",
       "\n",
       "// Listen for the removal of the full notebook cells\n",
       "var notebookContainer = gd.closest('#notebook-container');\n",
       "if (notebookContainer) {{\n",
       "    x.observe(notebookContainer, {childList: true});\n",
       "}}\n",
       "\n",
       "// Listen for the clearing of the current output cell\n",
       "var outputEl = gd.closest('.output');\n",
       "if (outputEl) {{\n",
       "    x.observe(outputEl, {childList: true});\n",
       "}}\n",
       "\n",
       "                        })                };                });            </script>        </div>"
      ]
     },
     "metadata": {},
     "output_type": "display_data"
    }
   ],
   "source": [
    "px.bar(data_frame=df, \n",
    "      x= \"Reviewers\",\n",
    "      y=\"Correlations\",\n",
    "      color=\"Correlations\",\n",
    "       template=\"presentation\",\n",
    "      color_continuous_scale=px.colors.diverging.Spectral,\n",
    "       title=\"Cohen-kappa score of BFA with other reviewers\",\n",
    "      #width=500\n",
    "      )"
   ]
  },
  {
   "cell_type": "markdown",
   "id": "c9eeb8d4",
   "metadata": {},
   "source": [
    "## Gold"
   ]
  },
  {
   "cell_type": "code",
   "execution_count": 115,
   "id": "0873d886",
   "metadata": {
    "collapsed": true
   },
   "outputs": [
    {
     "data": {
      "text/plain": [
       "[['adebola', 0],\n",
       " ['am', 0],\n",
       " ['ann', 0],\n",
       " ['anuj', 1],\n",
       " ['elbeth', 1],\n",
       " ['bfa', 3],\n",
       " ['gold', 60],\n",
       " ['bob', 0],\n",
       " ['lkh', 3],\n",
       " ['waka', 2],\n",
       " ['trice', 1],\n",
       " ['proof', 1],\n",
       " ['emmanuel', 1],\n",
       " ['fizzy', 3],\n",
       " ['dog', 1],\n",
       " ['flob', 1],\n",
       " ['emma_j', 1],\n",
       " ['greg', 0],\n",
       " ['grey', 0],\n",
       " ['stel', 1],\n",
       " ['jshua', 2],\n",
       " ['kish', 0],\n",
       " ['kylin', 2],\n",
       " ['z4yr', 4],\n",
       " ['hound', 0],\n",
       " ['mount', 1],\n",
       " ['nadalie', 2],\n",
       " ['richard', 1],\n",
       " ['ogunjo', 1],\n",
       " ['am2', 0],\n",
       " ['robot', 3],\n",
       " ['ann2', 2],\n",
       " ['steeges', 1],\n",
       " ['vik', 0],\n",
       " ['socal', 0],\n",
       " ['wolfman', 1],\n",
       " ['zer', 3],\n",
       " ['elbeth2', 1],\n",
       " ['bob2', 0],\n",
       " ['lkh2', 0],\n",
       " ['fizzy2', 2],\n",
       " ['trice2', 1],\n",
       " ['flob2', 1],\n",
       " ['greg2', 1],\n",
       " ['grey2', 0],\n",
       " ['stele2', 1],\n",
       " ['hound2', 1],\n",
       " ['richard2', 2],\n",
       " ['ogunjo2', 2],\n",
       " ['vik2', 2],\n",
       " ['wolfman2', 2]]"
      ]
     },
     "execution_count": 115,
     "metadata": {},
     "output_type": "execute_result"
    }
   ],
   "source": [
    "find_common_handles(gold)"
   ]
  },
  {
   "cell_type": "code",
   "execution_count": 350,
   "id": "036f31b9",
   "metadata": {},
   "outputs": [],
   "source": [
    "gold_bfa = create_table(gold, bfa)\n",
    "gold_lkh = create_table(gold, lkh)\n",
    "gold_fizzy = create_table(gold, fizzy)\n",
    "gold_z4yr = create_table(gold, z4yr)\n",
    "gold_robot = create_table(gold, robot)\n",
    "gold_zer = create_table(gold, zer)\n",
    "gold_ml = create_table(gold, ml_anon)"
   ]
  },
  {
   "cell_type": "code",
   "execution_count": 31,
   "id": "de9f45b3",
   "metadata": {},
   "outputs": [
    {
     "data": {
      "text/plain": [
       "0.38983050847457634"
      ]
     },
     "execution_count": 31,
     "metadata": {},
     "output_type": "execute_result"
    }
   ],
   "source": [
    "cohen(gold, ml_anon)"
   ]
  },
  {
   "cell_type": "code",
   "execution_count": 352,
   "id": "caf27e52",
   "metadata": {},
   "outputs": [
    {
     "data": {
      "text/plain": [
       "[1.0,\n",
       " 0.3333333333333333,\n",
       " 0.6666666666666666,\n",
       " 0.75,\n",
       " 0.0,\n",
       " 0.6666666666666666,\n",
       " 0.7142857142857143]"
      ]
     },
     "execution_count": 352,
     "metadata": {},
     "output_type": "execute_result"
    }
   ],
   "source": [
    "[total_agreement(gold_bfa, \"gold\", \"bfa\"), total_agreement(gold_lkh, \"gold\", \"lkh\"),\n",
    " total_agreement(gold_fizzy, \"gold\", \"fizzy\"), total_agreement(gold_z4yr,\"gold\", \"z4yr\"),\n",
    " total_agreement(gold_robot,\"gold\", \"robot\"), total_agreement(gold_zer,\"gold\", \"zer\"),\n",
    " total_agreement(gold_ml, \"gold\", \"ml_anon\")]"
   ]
  },
  {
   "cell_type": "code",
   "execution_count": 124,
   "id": "312e8b92",
   "metadata": {},
   "outputs": [
    {
     "data": {
      "text/plain": [
       "[1.0, 0.0, 0.3999999999999999, 0.5, 0.0]"
      ]
     },
     "execution_count": 124,
     "metadata": {},
     "output_type": "execute_result"
    }
   ],
   "source": [
    "[cohen_kappa_score(gold_bfa[\"Is Sybil? (T or F)gold\"], gold_bfa[\"Is Sybil? (T or F)bfa\"]),\n",
    " \n",
    "cohen_kappa_score(gold_lkh[\"Is Sybil? (T or F)gold\"], gold_lkh[\"Is Sybil? (T or F)lkh\"]),\n",
    " \n",
    "cohen_kappa_score(gold_fizzy[\"Is Sybil? (T or F)gold\"], gold_fizzy[\"Is Sybil? (T or F)fizzy\"]),\n",
    " \n",
    "cohen_kappa_score(gold_z4yr[\"Is Sybil? (T or F)gold\"], gold_z4yr[\"Is Sybil? (T or F)z4yr\"]),\n",
    " \n",
    "cohen_kappa_score(gold_zer[\"Is Sybil? (T or F)gold\"], gold_zer[\"Is Sybil? (T or F)zer\"])]"
   ]
  },
  {
   "cell_type": "code",
   "execution_count": 125,
   "id": "9045ba2d",
   "metadata": {},
   "outputs": [
    {
     "data": {
      "text/html": [
       "<div>\n",
       "<style scoped>\n",
       "    .dataframe tbody tr th:only-of-type {\n",
       "        vertical-align: middle;\n",
       "    }\n",
       "\n",
       "    .dataframe tbody tr th {\n",
       "        vertical-align: top;\n",
       "    }\n",
       "\n",
       "    .dataframe thead th {\n",
       "        text-align: right;\n",
       "    }\n",
       "</style>\n",
       "<table border=\"1\" class=\"dataframe\">\n",
       "  <thead>\n",
       "    <tr style=\"text-align: right;\">\n",
       "      <th></th>\n",
       "      <th>Reviewers</th>\n",
       "      <th>Correlations</th>\n",
       "    </tr>\n",
       "  </thead>\n",
       "  <tbody>\n",
       "    <tr>\n",
       "      <th>0</th>\n",
       "      <td>BFA</td>\n",
       "      <td>1.0</td>\n",
       "    </tr>\n",
       "    <tr>\n",
       "      <th>1</th>\n",
       "      <td>LKH</td>\n",
       "      <td>0.0</td>\n",
       "    </tr>\n",
       "    <tr>\n",
       "      <th>2</th>\n",
       "      <td>Fizzy</td>\n",
       "      <td>0.4</td>\n",
       "    </tr>\n",
       "    <tr>\n",
       "      <th>3</th>\n",
       "      <td>z4yr</td>\n",
       "      <td>0.5</td>\n",
       "    </tr>\n",
       "    <tr>\n",
       "      <th>4</th>\n",
       "      <td>Zer</td>\n",
       "      <td>0.0</td>\n",
       "    </tr>\n",
       "  </tbody>\n",
       "</table>\n",
       "</div>"
      ],
      "text/plain": [
       "  Reviewers  Correlations\n",
       "0       BFA           1.0\n",
       "1       LKH           0.0\n",
       "2     Fizzy           0.4\n",
       "3      z4yr           0.5\n",
       "4       Zer           0.0"
      ]
     },
     "execution_count": 125,
     "metadata": {},
     "output_type": "execute_result"
    }
   ],
   "source": [
    "df = pd.DataFrame()\n",
    "df[\"Reviewers\"] = [\"BFA\", \"LKH\", \"Fizzy\", \"z4yr\", \"Zer\"]\n",
    "df[\"Correlations\"] = [1.0, 0.0, 0.3999999999999999, 0.5, 0.0]\n",
    "df"
   ]
  },
  {
   "cell_type": "code",
   "execution_count": 126,
   "id": "3fce5b78",
   "metadata": {},
   "outputs": [
    {
     "data": {
      "application/vnd.plotly.v1+json": {
       "config": {
        "plotlyServerURL": "https://plot.ly"
       },
       "data": [
        {
         "alignmentgroup": "True",
         "hovertemplate": "Reviewers=%{x}<br>Correlations=%{marker.color}<extra></extra>",
         "legendgroup": "",
         "marker": {
          "color": [
           1,
           0,
           0.3999999999999999,
           0.5,
           0
          ],
          "coloraxis": "coloraxis",
          "pattern": {
           "shape": ""
          }
         },
         "name": "",
         "offsetgroup": "",
         "orientation": "v",
         "showlegend": false,
         "textposition": "auto",
         "type": "bar",
         "x": [
          "BFA",
          "LKH",
          "Fizzy",
          "z4yr",
          "Zer"
         ],
         "xaxis": "x",
         "y": [
          1,
          0,
          0.3999999999999999,
          0.5,
          0
         ],
         "yaxis": "y"
        }
       ],
       "layout": {
        "barmode": "relative",
        "coloraxis": {
         "colorbar": {
          "title": {
           "text": "Correlations"
          }
         },
         "colorscale": [
          [
           0,
           "rgb(158,1,66)"
          ],
          [
           0.1,
           "rgb(213,62,79)"
          ],
          [
           0.2,
           "rgb(244,109,67)"
          ],
          [
           0.3,
           "rgb(253,174,97)"
          ],
          [
           0.4,
           "rgb(254,224,139)"
          ],
          [
           0.5,
           "rgb(255,255,191)"
          ],
          [
           0.6,
           "rgb(230,245,152)"
          ],
          [
           0.7,
           "rgb(171,221,164)"
          ],
          [
           0.8,
           "rgb(102,194,165)"
          ],
          [
           0.9,
           "rgb(50,136,189)"
          ],
          [
           1,
           "rgb(94,79,162)"
          ]
         ]
        },
        "legend": {
         "tracegroupgap": 0
        },
        "template": {
         "data": {
          "pie": [
           {
            "automargin": true,
            "type": "pie"
           }
          ],
          "scatter": [
           {
            "line": {
             "width": 3
            },
            "marker": {
             "size": 9
            },
            "type": "scatter"
           }
          ],
          "scatter3d": [
           {
            "line": {
             "width": 3
            },
            "marker": {
             "size": 9
            },
            "type": "scatter3d"
           }
          ],
          "scattergeo": [
           {
            "line": {
             "width": 3
            },
            "marker": {
             "size": 9
            },
            "type": "scattergeo"
           }
          ],
          "scattergl": [
           {
            "line": {
             "width": 3
            },
            "marker": {
             "size": 9
            },
            "type": "scattergl"
           }
          ],
          "scatterpolar": [
           {
            "line": {
             "width": 3
            },
            "marker": {
             "size": 9
            },
            "type": "scatterpolar"
           }
          ],
          "scatterpolargl": [
           {
            "line": {
             "width": 3
            },
            "marker": {
             "size": 9
            },
            "type": "scatterpolargl"
           }
          ],
          "scatterternary": [
           {
            "line": {
             "width": 3
            },
            "marker": {
             "size": 9
            },
            "type": "scatterternary"
           }
          ],
          "table": [
           {
            "cells": {
             "height": 30
            },
            "header": {
             "height": 36
            },
            "type": "table"
           }
          ]
         },
         "layout": {
          "font": {
           "size": 18
          },
          "xaxis": {
           "title": {
            "standoff": 15
           }
          },
          "yaxis": {
           "title": {
            "standoff": 15
           }
          }
         }
        },
        "title": {
         "text": "Cohen-kappa score of Gold with other reviewers"
        },
        "xaxis": {
         "anchor": "y",
         "domain": [
          0,
          1
         ],
         "title": {
          "text": "Reviewers"
         }
        },
        "yaxis": {
         "anchor": "x",
         "domain": [
          0,
          1
         ],
         "title": {
          "text": "Correlations"
         }
        }
       }
      },
      "text/html": [
       "<div>                            <div id=\"3e7afecf-ad86-49be-bb2c-b178f312ff2f\" class=\"plotly-graph-div\" style=\"height:525px; width:100%;\"></div>            <script type=\"text/javascript\">                require([\"plotly\"], function(Plotly) {                    window.PLOTLYENV=window.PLOTLYENV || {};                                    if (document.getElementById(\"3e7afecf-ad86-49be-bb2c-b178f312ff2f\")) {                    Plotly.newPlot(                        \"3e7afecf-ad86-49be-bb2c-b178f312ff2f\",                        [{\"alignmentgroup\":\"True\",\"hovertemplate\":\"Reviewers=%{x}<br>Correlations=%{marker.color}<extra></extra>\",\"legendgroup\":\"\",\"marker\":{\"color\":[1.0,0.0,0.3999999999999999,0.5,0.0],\"coloraxis\":\"coloraxis\",\"pattern\":{\"shape\":\"\"}},\"name\":\"\",\"offsetgroup\":\"\",\"orientation\":\"v\",\"showlegend\":false,\"textposition\":\"auto\",\"type\":\"bar\",\"x\":[\"BFA\",\"LKH\",\"Fizzy\",\"z4yr\",\"Zer\"],\"xaxis\":\"x\",\"y\":[1.0,0.0,0.3999999999999999,0.5,0.0],\"yaxis\":\"y\"}],                        {\"barmode\":\"relative\",\"coloraxis\":{\"colorbar\":{\"title\":{\"text\":\"Correlations\"}},\"colorscale\":[[0.0,\"rgb(158,1,66)\"],[0.1,\"rgb(213,62,79)\"],[0.2,\"rgb(244,109,67)\"],[0.3,\"rgb(253,174,97)\"],[0.4,\"rgb(254,224,139)\"],[0.5,\"rgb(255,255,191)\"],[0.6,\"rgb(230,245,152)\"],[0.7,\"rgb(171,221,164)\"],[0.8,\"rgb(102,194,165)\"],[0.9,\"rgb(50,136,189)\"],[1.0,\"rgb(94,79,162)\"]]},\"legend\":{\"tracegroupgap\":0},\"template\":{\"data\":{\"pie\":[{\"automargin\":true,\"type\":\"pie\"}],\"scatter\":[{\"line\":{\"width\":3},\"marker\":{\"size\":9},\"type\":\"scatter\"}],\"scatter3d\":[{\"line\":{\"width\":3},\"marker\":{\"size\":9},\"type\":\"scatter3d\"}],\"scattergeo\":[{\"line\":{\"width\":3},\"marker\":{\"size\":9},\"type\":\"scattergeo\"}],\"scattergl\":[{\"line\":{\"width\":3},\"marker\":{\"size\":9},\"type\":\"scattergl\"}],\"scatterpolar\":[{\"line\":{\"width\":3},\"marker\":{\"size\":9},\"type\":\"scatterpolar\"}],\"scatterpolargl\":[{\"line\":{\"width\":3},\"marker\":{\"size\":9},\"type\":\"scatterpolargl\"}],\"scatterternary\":[{\"line\":{\"width\":3},\"marker\":{\"size\":9},\"type\":\"scatterternary\"}],\"table\":[{\"cells\":{\"height\":30},\"header\":{\"height\":36},\"type\":\"table\"}]},\"layout\":{\"font\":{\"size\":18},\"xaxis\":{\"title\":{\"standoff\":15}},\"yaxis\":{\"title\":{\"standoff\":15}}}},\"title\":{\"text\":\"Cohen-kappa score of Gold with other reviewers\"},\"xaxis\":{\"anchor\":\"y\",\"domain\":[0.0,1.0],\"title\":{\"text\":\"Reviewers\"}},\"yaxis\":{\"anchor\":\"x\",\"domain\":[0.0,1.0],\"title\":{\"text\":\"Correlations\"}}},                        {\"responsive\": true}                    ).then(function(){\n",
       "                            \n",
       "var gd = document.getElementById('3e7afecf-ad86-49be-bb2c-b178f312ff2f');\n",
       "var x = new MutationObserver(function (mutations, observer) {{\n",
       "        var display = window.getComputedStyle(gd).display;\n",
       "        if (!display || display === 'none') {{\n",
       "            console.log([gd, 'removed!']);\n",
       "            Plotly.purge(gd);\n",
       "            observer.disconnect();\n",
       "        }}\n",
       "}});\n",
       "\n",
       "// Listen for the removal of the full notebook cells\n",
       "var notebookContainer = gd.closest('#notebook-container');\n",
       "if (notebookContainer) {{\n",
       "    x.observe(notebookContainer, {childList: true});\n",
       "}}\n",
       "\n",
       "// Listen for the clearing of the current output cell\n",
       "var outputEl = gd.closest('.output');\n",
       "if (outputEl) {{\n",
       "    x.observe(outputEl, {childList: true});\n",
       "}}\n",
       "\n",
       "                        })                };                });            </script>        </div>"
      ]
     },
     "metadata": {},
     "output_type": "display_data"
    }
   ],
   "source": [
    "px.bar(data_frame=df, \n",
    "      x= \"Reviewers\",\n",
    "      y=\"Correlations\",\n",
    "      color=\"Correlations\",\n",
    "       template=\"presentation\",\n",
    "      color_continuous_scale=px.colors.diverging.Spectral,\n",
    "       title=\"Cohen-kappa score of Gold with other reviewers\",\n",
    "      #width=500\n",
    "      )"
   ]
  },
  {
   "cell_type": "markdown",
   "id": "cfd0a926",
   "metadata": {},
   "source": [
    "## BOB"
   ]
  },
  {
   "cell_type": "code",
   "execution_count": 127,
   "id": "2dec53b5",
   "metadata": {
    "collapsed": true
   },
   "outputs": [
    {
     "data": {
      "text/plain": [
       "[['adebola', 1],\n",
       " ['am', 1],\n",
       " ['ann', 0],\n",
       " ['anuj', 2],\n",
       " ['elbeth', 0],\n",
       " ['bfa', 1],\n",
       " ['gold', 0],\n",
       " ['bob', 60],\n",
       " ['lkh', 3],\n",
       " ['waka', 4],\n",
       " ['trice', 0],\n",
       " ['proof', 1],\n",
       " ['emmanuel', 0],\n",
       " ['fizzy', 2],\n",
       " ['dog', 1],\n",
       " ['flob', 1],\n",
       " ['emma_j', 2],\n",
       " ['greg', 1],\n",
       " ['grey', 3],\n",
       " ['stel', 1],\n",
       " ['jshua', 0],\n",
       " ['kish', 2],\n",
       " ['kylin', 0],\n",
       " ['z4yr', 6],\n",
       " ['hound', 1],\n",
       " ['mount', 0],\n",
       " ['nadalie', 3],\n",
       " ['richard', 2],\n",
       " ['ogunjo', 1],\n",
       " ['am2', 2],\n",
       " ['robot', 2],\n",
       " ['ann2', 3],\n",
       " ['steeges', 1],\n",
       " ['vik', 1],\n",
       " ['socal', 0],\n",
       " ['wolfman', 1],\n",
       " ['zer', 1],\n",
       " ['elbeth2', 0],\n",
       " ['bob2', 0],\n",
       " ['lkh2', 2],\n",
       " ['fizzy2', 1],\n",
       " ['trice2', 1],\n",
       " ['flob2', 1],\n",
       " ['greg2', 2],\n",
       " ['grey2', 0],\n",
       " ['stele2', 1],\n",
       " ['hound2', 0],\n",
       " ['richard2', 0],\n",
       " ['ogunjo2', 0],\n",
       " ['vik2', 0],\n",
       " ['wolfman2', 0]]"
      ]
     },
     "execution_count": 127,
     "metadata": {},
     "output_type": "execute_result"
    }
   ],
   "source": [
    "find_common_handles(bob)"
   ]
  },
  {
   "cell_type": "code",
   "execution_count": 353,
   "id": "0fece9c9",
   "metadata": {},
   "outputs": [],
   "source": [
    "bob_lkh = create_table(bob, lkh)\n",
    "bob_waka = create_table(bob, waka)\n",
    "bob_grey = create_table(bob, grey)\n",
    "bob_z4yr = create_table(bob, z4yr)\n",
    "bob_nadalie = create_table(bob, nadalie)\n",
    "bob_ml = create_table(bob, ml_anon)"
   ]
  },
  {
   "cell_type": "code",
   "execution_count": 354,
   "id": "d1ba2617",
   "metadata": {},
   "outputs": [
    {
     "data": {
      "text/plain": [
       "[1.0,\n",
       " 1.0,\n",
       " 1.0,\n",
       " 0.8333333333333334,\n",
       " 1.0,\n",
       " 0.6666666666666666,\n",
       " 0.5777777777777777]"
      ]
     },
     "execution_count": 354,
     "metadata": {},
     "output_type": "execute_result"
    }
   ],
   "source": [
    "[total_agreement(bob_lkh, \"bob\", \"lkh\"), total_agreement(bob_waka, \"bob\", \"waka\"),\n",
    " total_agreement(bob_grey, \"bob\", \"grey\"), total_agreement(bob_z4yr,\"bob\", \"z4yr\"),\n",
    " total_agreement(bob_nadalie,\"bob\", \"nadalie\"), total_agreement(bob_ml, \"bob\", \"ml_anon\")]"
   ]
  },
  {
   "cell_type": "code",
   "execution_count": 33,
   "id": "11d48f88",
   "metadata": {},
   "outputs": [
    {
     "data": {
      "text/plain": [
       "(1.0, 0.020618556701030855)"
      ]
     },
     "execution_count": 33,
     "metadata": {},
     "output_type": "execute_result"
    }
   ],
   "source": [
    "cohen(bob, waka), cohen(bob, ml_anon)"
   ]
  },
  {
   "cell_type": "code",
   "execution_count": 131,
   "id": "b48f1117",
   "metadata": {},
   "outputs": [
    {
     "name": "stderr",
     "output_type": "stream",
     "text": [
      "C:\\Users\\user\\AppData\\Roaming\\Python\\Python37\\site-packages\\sklearn\\metrics\\_classification.py:658: RuntimeWarning:\n",
      "\n",
      "invalid value encountered in true_divide\n",
      "\n"
     ]
    },
    {
     "data": {
      "text/plain": [
       "[1.0, nan, 0.0, 1.0, 0.3999999999999999]"
      ]
     },
     "execution_count": 131,
     "metadata": {},
     "output_type": "execute_result"
    }
   ],
   "source": [
    "[cohen_kappa_score(bob_lkh[\"Is Sybil? (T or F)bob\"], bob_lkh[\"Is Sybil? (T or F)lkh\"]),\n",
    " \n",
    "cohen_kappa_score(bob_grey[\"Is Sybil? (T or F)bob\"], bob_grey[\"Is Sybil? (T or F)grey\"]),\n",
    " \n",
    "cohen_kappa_score(bob_z4yr[\"Is Sybil? (T or F)bob\"], bob_z4yr[\"Is Sybil? (T or F)z4yr\"]),\n",
    " \n",
    "cohen_kappa_score(bob_nadalie[\"Is Sybil? (T or F)bob\"], bob_nadalie[\"Is Sybil? (T or F)nadalie\"]),\n",
    "\n",
    "cohen_kappa_score(bob_ann2[\"Is Sybil? (T or F)bob\"], bob_ann2[\"Is Sybil? (T or F)ann2\"])]"
   ]
  },
  {
   "cell_type": "code",
   "execution_count": 134,
   "id": "addca36d",
   "metadata": {},
   "outputs": [
    {
     "data": {
      "text/html": [
       "<div>\n",
       "<style scoped>\n",
       "    .dataframe tbody tr th:only-of-type {\n",
       "        vertical-align: middle;\n",
       "    }\n",
       "\n",
       "    .dataframe tbody tr th {\n",
       "        vertical-align: top;\n",
       "    }\n",
       "\n",
       "    .dataframe thead th {\n",
       "        text-align: right;\n",
       "    }\n",
       "</style>\n",
       "<table border=\"1\" class=\"dataframe\">\n",
       "  <thead>\n",
       "    <tr style=\"text-align: right;\">\n",
       "      <th></th>\n",
       "      <th>Reviewers</th>\n",
       "      <th>Correlations</th>\n",
       "    </tr>\n",
       "  </thead>\n",
       "  <tbody>\n",
       "    <tr>\n",
       "      <th>0</th>\n",
       "      <td>LKH</td>\n",
       "      <td>1.0</td>\n",
       "    </tr>\n",
       "    <tr>\n",
       "      <th>1</th>\n",
       "      <td>Grey</td>\n",
       "      <td>NaN</td>\n",
       "    </tr>\n",
       "    <tr>\n",
       "      <th>2</th>\n",
       "      <td>Z4yr</td>\n",
       "      <td>0.0</td>\n",
       "    </tr>\n",
       "    <tr>\n",
       "      <th>3</th>\n",
       "      <td>Nadalie</td>\n",
       "      <td>1.0</td>\n",
       "    </tr>\n",
       "    <tr>\n",
       "      <th>4</th>\n",
       "      <td>Ann2</td>\n",
       "      <td>0.4</td>\n",
       "    </tr>\n",
       "  </tbody>\n",
       "</table>\n",
       "</div>"
      ],
      "text/plain": [
       "  Reviewers  Correlations\n",
       "0       LKH           1.0\n",
       "1      Grey           NaN\n",
       "2      Z4yr           0.0\n",
       "3   Nadalie           1.0\n",
       "4      Ann2           0.4"
      ]
     },
     "execution_count": 134,
     "metadata": {},
     "output_type": "execute_result"
    }
   ],
   "source": [
    "df = pd.DataFrame()\n",
    "df[\"Reviewers\"] = [\"LKH\", \"Grey\", \"Z4yr\", \"Nadalie\", \"Ann2\"]\n",
    "df[\"Correlations\"] = [1.0, np.NaN, 0.0, 1.0, 0.3999999999999999]\n",
    "df"
   ]
  },
  {
   "cell_type": "code",
   "execution_count": 135,
   "id": "448f9527",
   "metadata": {},
   "outputs": [
    {
     "data": {
      "application/vnd.plotly.v1+json": {
       "config": {
        "plotlyServerURL": "https://plot.ly"
       },
       "data": [
        {
         "alignmentgroup": "True",
         "hovertemplate": "Reviewers=%{x}<br>Correlations=%{marker.color}<extra></extra>",
         "legendgroup": "",
         "marker": {
          "color": [
           1,
           null,
           0,
           1,
           0.3999999999999999
          ],
          "coloraxis": "coloraxis",
          "pattern": {
           "shape": ""
          }
         },
         "name": "",
         "offsetgroup": "",
         "orientation": "v",
         "showlegend": false,
         "textposition": "auto",
         "type": "bar",
         "x": [
          "LKH",
          "Grey",
          "Z4yr",
          "Nadalie",
          "Ann2"
         ],
         "xaxis": "x",
         "y": [
          1,
          null,
          0,
          1,
          0.3999999999999999
         ],
         "yaxis": "y"
        }
       ],
       "layout": {
        "barmode": "relative",
        "coloraxis": {
         "colorbar": {
          "title": {
           "text": "Correlations"
          }
         },
         "colorscale": [
          [
           0,
           "rgb(158,1,66)"
          ],
          [
           0.1,
           "rgb(213,62,79)"
          ],
          [
           0.2,
           "rgb(244,109,67)"
          ],
          [
           0.3,
           "rgb(253,174,97)"
          ],
          [
           0.4,
           "rgb(254,224,139)"
          ],
          [
           0.5,
           "rgb(255,255,191)"
          ],
          [
           0.6,
           "rgb(230,245,152)"
          ],
          [
           0.7,
           "rgb(171,221,164)"
          ],
          [
           0.8,
           "rgb(102,194,165)"
          ],
          [
           0.9,
           "rgb(50,136,189)"
          ],
          [
           1,
           "rgb(94,79,162)"
          ]
         ]
        },
        "legend": {
         "tracegroupgap": 0
        },
        "template": {
         "data": {
          "pie": [
           {
            "automargin": true,
            "type": "pie"
           }
          ],
          "scatter": [
           {
            "line": {
             "width": 3
            },
            "marker": {
             "size": 9
            },
            "type": "scatter"
           }
          ],
          "scatter3d": [
           {
            "line": {
             "width": 3
            },
            "marker": {
             "size": 9
            },
            "type": "scatter3d"
           }
          ],
          "scattergeo": [
           {
            "line": {
             "width": 3
            },
            "marker": {
             "size": 9
            },
            "type": "scattergeo"
           }
          ],
          "scattergl": [
           {
            "line": {
             "width": 3
            },
            "marker": {
             "size": 9
            },
            "type": "scattergl"
           }
          ],
          "scatterpolar": [
           {
            "line": {
             "width": 3
            },
            "marker": {
             "size": 9
            },
            "type": "scatterpolar"
           }
          ],
          "scatterpolargl": [
           {
            "line": {
             "width": 3
            },
            "marker": {
             "size": 9
            },
            "type": "scatterpolargl"
           }
          ],
          "scatterternary": [
           {
            "line": {
             "width": 3
            },
            "marker": {
             "size": 9
            },
            "type": "scatterternary"
           }
          ],
          "table": [
           {
            "cells": {
             "height": 30
            },
            "header": {
             "height": 36
            },
            "type": "table"
           }
          ]
         },
         "layout": {
          "font": {
           "size": 18
          },
          "xaxis": {
           "title": {
            "standoff": 15
           }
          },
          "yaxis": {
           "title": {
            "standoff": 15
           }
          }
         }
        },
        "title": {
         "text": "Cohen-kappa score of Bob with other reviewers"
        },
        "xaxis": {
         "anchor": "y",
         "domain": [
          0,
          1
         ],
         "title": {
          "text": "Reviewers"
         }
        },
        "yaxis": {
         "anchor": "x",
         "domain": [
          0,
          1
         ],
         "title": {
          "text": "Correlations"
         }
        }
       }
      },
      "text/html": [
       "<div>                            <div id=\"68ca161a-819b-45e8-bff0-946c53d34686\" class=\"plotly-graph-div\" style=\"height:525px; width:100%;\"></div>            <script type=\"text/javascript\">                require([\"plotly\"], function(Plotly) {                    window.PLOTLYENV=window.PLOTLYENV || {};                                    if (document.getElementById(\"68ca161a-819b-45e8-bff0-946c53d34686\")) {                    Plotly.newPlot(                        \"68ca161a-819b-45e8-bff0-946c53d34686\",                        [{\"alignmentgroup\":\"True\",\"hovertemplate\":\"Reviewers=%{x}<br>Correlations=%{marker.color}<extra></extra>\",\"legendgroup\":\"\",\"marker\":{\"color\":[1.0,null,0.0,1.0,0.3999999999999999],\"coloraxis\":\"coloraxis\",\"pattern\":{\"shape\":\"\"}},\"name\":\"\",\"offsetgroup\":\"\",\"orientation\":\"v\",\"showlegend\":false,\"textposition\":\"auto\",\"type\":\"bar\",\"x\":[\"LKH\",\"Grey\",\"Z4yr\",\"Nadalie\",\"Ann2\"],\"xaxis\":\"x\",\"y\":[1.0,null,0.0,1.0,0.3999999999999999],\"yaxis\":\"y\"}],                        {\"barmode\":\"relative\",\"coloraxis\":{\"colorbar\":{\"title\":{\"text\":\"Correlations\"}},\"colorscale\":[[0.0,\"rgb(158,1,66)\"],[0.1,\"rgb(213,62,79)\"],[0.2,\"rgb(244,109,67)\"],[0.3,\"rgb(253,174,97)\"],[0.4,\"rgb(254,224,139)\"],[0.5,\"rgb(255,255,191)\"],[0.6,\"rgb(230,245,152)\"],[0.7,\"rgb(171,221,164)\"],[0.8,\"rgb(102,194,165)\"],[0.9,\"rgb(50,136,189)\"],[1.0,\"rgb(94,79,162)\"]]},\"legend\":{\"tracegroupgap\":0},\"template\":{\"data\":{\"pie\":[{\"automargin\":true,\"type\":\"pie\"}],\"scatter\":[{\"line\":{\"width\":3},\"marker\":{\"size\":9},\"type\":\"scatter\"}],\"scatter3d\":[{\"line\":{\"width\":3},\"marker\":{\"size\":9},\"type\":\"scatter3d\"}],\"scattergeo\":[{\"line\":{\"width\":3},\"marker\":{\"size\":9},\"type\":\"scattergeo\"}],\"scattergl\":[{\"line\":{\"width\":3},\"marker\":{\"size\":9},\"type\":\"scattergl\"}],\"scatterpolar\":[{\"line\":{\"width\":3},\"marker\":{\"size\":9},\"type\":\"scatterpolar\"}],\"scatterpolargl\":[{\"line\":{\"width\":3},\"marker\":{\"size\":9},\"type\":\"scatterpolargl\"}],\"scatterternary\":[{\"line\":{\"width\":3},\"marker\":{\"size\":9},\"type\":\"scatterternary\"}],\"table\":[{\"cells\":{\"height\":30},\"header\":{\"height\":36},\"type\":\"table\"}]},\"layout\":{\"font\":{\"size\":18},\"xaxis\":{\"title\":{\"standoff\":15}},\"yaxis\":{\"title\":{\"standoff\":15}}}},\"title\":{\"text\":\"Cohen-kappa score of Bob with other reviewers\"},\"xaxis\":{\"anchor\":\"y\",\"domain\":[0.0,1.0],\"title\":{\"text\":\"Reviewers\"}},\"yaxis\":{\"anchor\":\"x\",\"domain\":[0.0,1.0],\"title\":{\"text\":\"Correlations\"}}},                        {\"responsive\": true}                    ).then(function(){\n",
       "                            \n",
       "var gd = document.getElementById('68ca161a-819b-45e8-bff0-946c53d34686');\n",
       "var x = new MutationObserver(function (mutations, observer) {{\n",
       "        var display = window.getComputedStyle(gd).display;\n",
       "        if (!display || display === 'none') {{\n",
       "            console.log([gd, 'removed!']);\n",
       "            Plotly.purge(gd);\n",
       "            observer.disconnect();\n",
       "        }}\n",
       "}});\n",
       "\n",
       "// Listen for the removal of the full notebook cells\n",
       "var notebookContainer = gd.closest('#notebook-container');\n",
       "if (notebookContainer) {{\n",
       "    x.observe(notebookContainer, {childList: true});\n",
       "}}\n",
       "\n",
       "// Listen for the clearing of the current output cell\n",
       "var outputEl = gd.closest('.output');\n",
       "if (outputEl) {{\n",
       "    x.observe(outputEl, {childList: true});\n",
       "}}\n",
       "\n",
       "                        })                };                });            </script>        </div>"
      ]
     },
     "metadata": {},
     "output_type": "display_data"
    }
   ],
   "source": [
    "px.bar(data_frame=df, \n",
    "      x= \"Reviewers\",\n",
    "      y=\"Correlations\",\n",
    "      color=\"Correlations\",\n",
    "       template=\"presentation\",\n",
    "      color_continuous_scale=px.colors.diverging.Spectral,\n",
    "       title=\"Cohen-kappa score of Bob with other reviewers\",\n",
    "      #width=500\n",
    "      )"
   ]
  },
  {
   "cell_type": "markdown",
   "id": "b854788f",
   "metadata": {},
   "source": [
    "## LKH"
   ]
  },
  {
   "cell_type": "code",
   "execution_count": 136,
   "id": "843e0d6c",
   "metadata": {
    "collapsed": true
   },
   "outputs": [
    {
     "data": {
      "text/plain": [
       "[['adebola', 0],\n",
       " ['am', 0],\n",
       " ['ann', 0],\n",
       " ['anuj', 1],\n",
       " ['elbeth', 2],\n",
       " ['bfa', 1],\n",
       " ['gold', 3],\n",
       " ['bob', 3],\n",
       " ['lkh', 60],\n",
       " ['waka', 2],\n",
       " ['trice', 2],\n",
       " ['proof', 2],\n",
       " ['emmanuel', 2],\n",
       " ['fizzy', 1],\n",
       " ['dog', 3],\n",
       " ['flob', 2],\n",
       " ['emma_j', 1],\n",
       " ['greg', 1],\n",
       " ['grey', 0],\n",
       " ['stel', 3],\n",
       " ['jshua', 1],\n",
       " ['kish', 1],\n",
       " ['kylin', 2],\n",
       " ['z4yr', 3],\n",
       " ['hound', 4],\n",
       " ['mount', 1],\n",
       " ['nadalie', 2],\n",
       " ['richard', 4],\n",
       " ['ogunjo', 3],\n",
       " ['am2', 1],\n",
       " ['robot', 1],\n",
       " ['ann2', 2],\n",
       " ['steeges', 1],\n",
       " ['vik', 1],\n",
       " ['socal', 2],\n",
       " ['wolfman', 2],\n",
       " ['zer', 0],\n",
       " ['elbeth2', 2],\n",
       " ['bob2', 0],\n",
       " ['lkh2', 3],\n",
       " ['fizzy2', 1],\n",
       " ['trice2', 0],\n",
       " ['flob2', 1],\n",
       " ['greg2', 0],\n",
       " ['grey2', 2],\n",
       " ['stele2', 1],\n",
       " ['hound2', 0],\n",
       " ['richard2', 1],\n",
       " ['ogunjo2', 0],\n",
       " ['vik2', 0],\n",
       " ['wolfman2', 2]]"
      ]
     },
     "execution_count": 136,
     "metadata": {},
     "output_type": "execute_result"
    }
   ],
   "source": [
    "find_common_handles(lkh)"
   ]
  },
  {
   "cell_type": "code",
   "execution_count": 355,
   "id": "cb5e7497",
   "metadata": {},
   "outputs": [],
   "source": [
    "lkh_gold = create_table(lkh, gold)\n",
    "lkh_bob = create_table(lkh, bob)\n",
    "lkh_dog = create_table(lkh, dog)\n",
    "lkh_stel = create_table(lkh, stel)\n",
    "lkh_z4yr = create_table(lkh, z4yr)\n",
    "lkh_hound = create_table(lkh, hound)\n",
    "lkh_ogunjo = create_table(lkh, ogunjo)\n",
    "lkh_lkh2 = create_table(lkh, lkh2)\n",
    "lkh_ml= create_table(lkh, ml_anon)"
   ]
  },
  {
   "cell_type": "code",
   "execution_count": 356,
   "id": "f0b767a4",
   "metadata": {},
   "outputs": [
    {
     "data": {
      "text/plain": [
       "[0.3333333333333333,\n",
       " 1.0,\n",
       " 0.6666666666666666,\n",
       " 0.0,\n",
       " 0.3333333333333333,\n",
       " 1.0,\n",
       " 0.6666666666666666,\n",
       " 1.0,\n",
       " 0.6190476190476191]"
      ]
     },
     "execution_count": 356,
     "metadata": {},
     "output_type": "execute_result"
    }
   ],
   "source": [
    "[total_agreement(lkh_gold, \"lkh\", \"gold\"), total_agreement(lkh_bob, \"lkh\", \"bob\"),\n",
    " total_agreement(lkh_dog, \"lkh\", \"dog\"), total_agreement(lkh_stel,\"lkh\", \"stel\"),\n",
    " total_agreement(lkh_z4yr,\"lkh\", \"z4yr\"), total_agreement(lkh_hound,\"lkh\", \"hound\"),\n",
    "  total_agreement(lkh_ogunjo,\"lkh\", \"ogunjo\"), total_agreement(lkh_lkh2,\"lkh\", \"lkh2\"),\n",
    " total_agreement(lkh_ml, \"lkh\", \"ml_anon\")]"
   ]
  },
  {
   "cell_type": "code",
   "execution_count": 138,
   "id": "f2b8fd79",
   "metadata": {},
   "outputs": [
    {
     "data": {
      "text/plain": [
       "[0.0, 1.0, 0.0, 0.0, 0.0, 1.0, 0.3999999999999999]"
      ]
     },
     "execution_count": 138,
     "metadata": {},
     "output_type": "execute_result"
    }
   ],
   "source": [
    "[cohen_kappa_score(lkh_gold[\"Is Sybil? (T or F)lkh\"], lkh_gold[\"Is Sybil? (T or F)gold\"]),\n",
    " \n",
    "cohen_kappa_score(lkh_bob[\"Is Sybil? (T or F)lkh\"], lkh_bob[\"Is Sybil? (T or F)bob\"]),\n",
    " \n",
    "cohen_kappa_score(lkh_dog[\"Is Sybil? (T or F)lkh\"], lkh_dog[\"Is Sybil? (T or F)dog\"]),\n",
    " \n",
    "cohen_kappa_score(lkh_stel[\"Is Sybil? (T or F)lkh\"], lkh_stel[\"Is Sybil? (T or F)stel\"]),\n",
    "\n",
    "cohen_kappa_score(lkh_z4yr[\"Is Sybil? (T or F)lkh\"], lkh_z4yr[\"Is Sybil? (T or F)z4yr\"]),\n",
    "\n",
    "cohen_kappa_score(lkh_hound[\"Is Sybil? (T or F)lkh\"], lkh_hound[\"Is Sybil? (T or F)hound\"]),\n",
    " \n",
    "cohen_kappa_score(lkh_ogunjo[\"Is Sybil? (T or F)lkh\"], lkh_ogunjo[\"Is Sybil? (T or F)ogunjo\"])]"
   ]
  },
  {
   "cell_type": "code",
   "execution_count": 34,
   "id": "72304235",
   "metadata": {},
   "outputs": [
    {
     "data": {
      "text/plain": [
       "0.18347509113001215"
      ]
     },
     "execution_count": 34,
     "metadata": {},
     "output_type": "execute_result"
    }
   ],
   "source": [
    "cohen(lkh, ml_anon)"
   ]
  },
  {
   "cell_type": "code",
   "execution_count": 142,
   "id": "03c24414",
   "metadata": {},
   "outputs": [
    {
     "data": {
      "text/html": [
       "<div>\n",
       "<style scoped>\n",
       "    .dataframe tbody tr th:only-of-type {\n",
       "        vertical-align: middle;\n",
       "    }\n",
       "\n",
       "    .dataframe tbody tr th {\n",
       "        vertical-align: top;\n",
       "    }\n",
       "\n",
       "    .dataframe thead th {\n",
       "        text-align: right;\n",
       "    }\n",
       "</style>\n",
       "<table border=\"1\" class=\"dataframe\">\n",
       "  <thead>\n",
       "    <tr style=\"text-align: right;\">\n",
       "      <th></th>\n",
       "      <th>Reviewers</th>\n",
       "      <th>Correlations</th>\n",
       "    </tr>\n",
       "  </thead>\n",
       "  <tbody>\n",
       "    <tr>\n",
       "      <th>0</th>\n",
       "      <td>Gold</td>\n",
       "      <td>0.0</td>\n",
       "    </tr>\n",
       "    <tr>\n",
       "      <th>1</th>\n",
       "      <td>Bob</td>\n",
       "      <td>1.0</td>\n",
       "    </tr>\n",
       "    <tr>\n",
       "      <th>2</th>\n",
       "      <td>Dogg</td>\n",
       "      <td>0.0</td>\n",
       "    </tr>\n",
       "    <tr>\n",
       "      <th>3</th>\n",
       "      <td>Stelescuvlad</td>\n",
       "      <td>0.0</td>\n",
       "    </tr>\n",
       "    <tr>\n",
       "      <th>4</th>\n",
       "      <td>Z4yr</td>\n",
       "      <td>0.0</td>\n",
       "    </tr>\n",
       "    <tr>\n",
       "      <th>5</th>\n",
       "      <td>Hound</td>\n",
       "      <td>1.0</td>\n",
       "    </tr>\n",
       "    <tr>\n",
       "      <th>6</th>\n",
       "      <td>Ogunjosam</td>\n",
       "      <td>0.4</td>\n",
       "    </tr>\n",
       "  </tbody>\n",
       "</table>\n",
       "</div>"
      ],
      "text/plain": [
       "      Reviewers  Correlations\n",
       "0          Gold           0.0\n",
       "1           Bob           1.0\n",
       "2          Dogg           0.0\n",
       "3  Stelescuvlad           0.0\n",
       "4          Z4yr           0.0\n",
       "5         Hound           1.0\n",
       "6     Ogunjosam           0.4"
      ]
     },
     "execution_count": 142,
     "metadata": {},
     "output_type": "execute_result"
    }
   ],
   "source": [
    "df = pd.DataFrame()\n",
    "df[\"Reviewers\"] = [\"Gold\", \"Bob\", \"Dogg\", \"Stelescuvlad\", \"Z4yr\", \"Hound\", \"Ogunjosam\"]\n",
    "df[\"Correlations\"] = [0.0, 1.0, 0.0, 0.0, 0.0, 1.0, 0.3999999999999999]\n",
    "df"
   ]
  },
  {
   "cell_type": "code",
   "execution_count": 143,
   "id": "4cdb3f15",
   "metadata": {},
   "outputs": [
    {
     "data": {
      "application/vnd.plotly.v1+json": {
       "config": {
        "plotlyServerURL": "https://plot.ly"
       },
       "data": [
        {
         "alignmentgroup": "True",
         "hovertemplate": "Reviewers=%{x}<br>Correlations=%{marker.color}<extra></extra>",
         "legendgroup": "",
         "marker": {
          "color": [
           0,
           1,
           0,
           0,
           0,
           1,
           0.3999999999999999
          ],
          "coloraxis": "coloraxis",
          "pattern": {
           "shape": ""
          }
         },
         "name": "",
         "offsetgroup": "",
         "orientation": "v",
         "showlegend": false,
         "textposition": "auto",
         "type": "bar",
         "x": [
          "Gold",
          "Bob",
          "Dogg",
          "Stelescuvlad",
          "Z4yr",
          "Hound",
          "Ogunjosam"
         ],
         "xaxis": "x",
         "y": [
          0,
          1,
          0,
          0,
          0,
          1,
          0.3999999999999999
         ],
         "yaxis": "y"
        }
       ],
       "layout": {
        "barmode": "relative",
        "coloraxis": {
         "colorbar": {
          "title": {
           "text": "Correlations"
          }
         },
         "colorscale": [
          [
           0,
           "rgb(158,1,66)"
          ],
          [
           0.1,
           "rgb(213,62,79)"
          ],
          [
           0.2,
           "rgb(244,109,67)"
          ],
          [
           0.3,
           "rgb(253,174,97)"
          ],
          [
           0.4,
           "rgb(254,224,139)"
          ],
          [
           0.5,
           "rgb(255,255,191)"
          ],
          [
           0.6,
           "rgb(230,245,152)"
          ],
          [
           0.7,
           "rgb(171,221,164)"
          ],
          [
           0.8,
           "rgb(102,194,165)"
          ],
          [
           0.9,
           "rgb(50,136,189)"
          ],
          [
           1,
           "rgb(94,79,162)"
          ]
         ]
        },
        "legend": {
         "tracegroupgap": 0
        },
        "template": {
         "data": {
          "pie": [
           {
            "automargin": true,
            "type": "pie"
           }
          ],
          "scatter": [
           {
            "line": {
             "width": 3
            },
            "marker": {
             "size": 9
            },
            "type": "scatter"
           }
          ],
          "scatter3d": [
           {
            "line": {
             "width": 3
            },
            "marker": {
             "size": 9
            },
            "type": "scatter3d"
           }
          ],
          "scattergeo": [
           {
            "line": {
             "width": 3
            },
            "marker": {
             "size": 9
            },
            "type": "scattergeo"
           }
          ],
          "scattergl": [
           {
            "line": {
             "width": 3
            },
            "marker": {
             "size": 9
            },
            "type": "scattergl"
           }
          ],
          "scatterpolar": [
           {
            "line": {
             "width": 3
            },
            "marker": {
             "size": 9
            },
            "type": "scatterpolar"
           }
          ],
          "scatterpolargl": [
           {
            "line": {
             "width": 3
            },
            "marker": {
             "size": 9
            },
            "type": "scatterpolargl"
           }
          ],
          "scatterternary": [
           {
            "line": {
             "width": 3
            },
            "marker": {
             "size": 9
            },
            "type": "scatterternary"
           }
          ],
          "table": [
           {
            "cells": {
             "height": 30
            },
            "header": {
             "height": 36
            },
            "type": "table"
           }
          ]
         },
         "layout": {
          "font": {
           "size": 18
          },
          "xaxis": {
           "title": {
            "standoff": 15
           }
          },
          "yaxis": {
           "title": {
            "standoff": 15
           }
          }
         }
        },
        "title": {
         "text": "Cohen-kappa score of LKH with other reviewers"
        },
        "xaxis": {
         "anchor": "y",
         "domain": [
          0,
          1
         ],
         "title": {
          "text": "Reviewers"
         }
        },
        "yaxis": {
         "anchor": "x",
         "domain": [
          0,
          1
         ],
         "title": {
          "text": "Correlations"
         }
        }
       }
      },
      "text/html": [
       "<div>                            <div id=\"e34daeb9-86a2-4da6-9afb-139343c65428\" class=\"plotly-graph-div\" style=\"height:525px; width:100%;\"></div>            <script type=\"text/javascript\">                require([\"plotly\"], function(Plotly) {                    window.PLOTLYENV=window.PLOTLYENV || {};                                    if (document.getElementById(\"e34daeb9-86a2-4da6-9afb-139343c65428\")) {                    Plotly.newPlot(                        \"e34daeb9-86a2-4da6-9afb-139343c65428\",                        [{\"alignmentgroup\":\"True\",\"hovertemplate\":\"Reviewers=%{x}<br>Correlations=%{marker.color}<extra></extra>\",\"legendgroup\":\"\",\"marker\":{\"color\":[0.0,1.0,0.0,0.0,0.0,1.0,0.3999999999999999],\"coloraxis\":\"coloraxis\",\"pattern\":{\"shape\":\"\"}},\"name\":\"\",\"offsetgroup\":\"\",\"orientation\":\"v\",\"showlegend\":false,\"textposition\":\"auto\",\"type\":\"bar\",\"x\":[\"Gold\",\"Bob\",\"Dogg\",\"Stelescuvlad\",\"Z4yr\",\"Hound\",\"Ogunjosam\"],\"xaxis\":\"x\",\"y\":[0.0,1.0,0.0,0.0,0.0,1.0,0.3999999999999999],\"yaxis\":\"y\"}],                        {\"barmode\":\"relative\",\"coloraxis\":{\"colorbar\":{\"title\":{\"text\":\"Correlations\"}},\"colorscale\":[[0.0,\"rgb(158,1,66)\"],[0.1,\"rgb(213,62,79)\"],[0.2,\"rgb(244,109,67)\"],[0.3,\"rgb(253,174,97)\"],[0.4,\"rgb(254,224,139)\"],[0.5,\"rgb(255,255,191)\"],[0.6,\"rgb(230,245,152)\"],[0.7,\"rgb(171,221,164)\"],[0.8,\"rgb(102,194,165)\"],[0.9,\"rgb(50,136,189)\"],[1.0,\"rgb(94,79,162)\"]]},\"legend\":{\"tracegroupgap\":0},\"template\":{\"data\":{\"pie\":[{\"automargin\":true,\"type\":\"pie\"}],\"scatter\":[{\"line\":{\"width\":3},\"marker\":{\"size\":9},\"type\":\"scatter\"}],\"scatter3d\":[{\"line\":{\"width\":3},\"marker\":{\"size\":9},\"type\":\"scatter3d\"}],\"scattergeo\":[{\"line\":{\"width\":3},\"marker\":{\"size\":9},\"type\":\"scattergeo\"}],\"scattergl\":[{\"line\":{\"width\":3},\"marker\":{\"size\":9},\"type\":\"scattergl\"}],\"scatterpolar\":[{\"line\":{\"width\":3},\"marker\":{\"size\":9},\"type\":\"scatterpolar\"}],\"scatterpolargl\":[{\"line\":{\"width\":3},\"marker\":{\"size\":9},\"type\":\"scatterpolargl\"}],\"scatterternary\":[{\"line\":{\"width\":3},\"marker\":{\"size\":9},\"type\":\"scatterternary\"}],\"table\":[{\"cells\":{\"height\":30},\"header\":{\"height\":36},\"type\":\"table\"}]},\"layout\":{\"font\":{\"size\":18},\"xaxis\":{\"title\":{\"standoff\":15}},\"yaxis\":{\"title\":{\"standoff\":15}}}},\"title\":{\"text\":\"Cohen-kappa score of LKH with other reviewers\"},\"xaxis\":{\"anchor\":\"y\",\"domain\":[0.0,1.0],\"title\":{\"text\":\"Reviewers\"}},\"yaxis\":{\"anchor\":\"x\",\"domain\":[0.0,1.0],\"title\":{\"text\":\"Correlations\"}}},                        {\"responsive\": true}                    ).then(function(){\n",
       "                            \n",
       "var gd = document.getElementById('e34daeb9-86a2-4da6-9afb-139343c65428');\n",
       "var x = new MutationObserver(function (mutations, observer) {{\n",
       "        var display = window.getComputedStyle(gd).display;\n",
       "        if (!display || display === 'none') {{\n",
       "            console.log([gd, 'removed!']);\n",
       "            Plotly.purge(gd);\n",
       "            observer.disconnect();\n",
       "        }}\n",
       "}});\n",
       "\n",
       "// Listen for the removal of the full notebook cells\n",
       "var notebookContainer = gd.closest('#notebook-container');\n",
       "if (notebookContainer) {{\n",
       "    x.observe(notebookContainer, {childList: true});\n",
       "}}\n",
       "\n",
       "// Listen for the clearing of the current output cell\n",
       "var outputEl = gd.closest('.output');\n",
       "if (outputEl) {{\n",
       "    x.observe(outputEl, {childList: true});\n",
       "}}\n",
       "\n",
       "                        })                };                });            </script>        </div>"
      ]
     },
     "metadata": {},
     "output_type": "display_data"
    }
   ],
   "source": [
    "px.bar(data_frame=df, \n",
    "      x= \"Reviewers\",\n",
    "      y=\"Correlations\",\n",
    "      color=\"Correlations\",\n",
    "       template=\"presentation\",\n",
    "      color_continuous_scale=px.colors.diverging.Spectral,\n",
    "       title=\"Cohen-kappa score of LKH with other reviewers\",\n",
    "      #width=500\n",
    "      )"
   ]
  },
  {
   "cell_type": "markdown",
   "id": "0c93577e",
   "metadata": {},
   "source": [
    "## Waka, Trice, Proof"
   ]
  },
  {
   "cell_type": "code",
   "execution_count": 169,
   "id": "eafb1bbb",
   "metadata": {
    "collapsed": true
   },
   "outputs": [
    {
     "data": {
      "text/plain": [
       "[['adebola', 0],\n",
       " ['am', 1],\n",
       " ['ann', 0],\n",
       " ['anuj', 0],\n",
       " ['elbeth', 0],\n",
       " ['bfa', 0],\n",
       " ['gold', 0],\n",
       " ['bob', 2],\n",
       " ['lkh', 0],\n",
       " ['waka', 30],\n",
       " ['trice', 0],\n",
       " ['proof', 1],\n",
       " ['emmanuel', 0],\n",
       " ['fizzy', 0],\n",
       " ['dog', 0],\n",
       " ['flob', 2],\n",
       " ['emma_j', 0],\n",
       " ['greg', 1],\n",
       " ['grey', 2],\n",
       " ['stel', 0],\n",
       " ['jshua', 0],\n",
       " ['kish', 0],\n",
       " ['kylin', 0],\n",
       " ['z4yr', 0],\n",
       " ['hound', 0],\n",
       " ['mount', 1],\n",
       " ['nadalie', 1],\n",
       " ['richard', 0],\n",
       " ['ogunjo', 2],\n",
       " ['am2', 2],\n",
       " ['robot', 1],\n",
       " ['ann2', 0],\n",
       " ['steeges', 2],\n",
       " ['vik', 0],\n",
       " ['socal', 2],\n",
       " ['wolfman', 0],\n",
       " ['zer', 0],\n",
       " ['elbeth2', 1],\n",
       " ['bob2', 0],\n",
       " ['lkh2', 0],\n",
       " ['fizzy2', 0],\n",
       " ['trice2', 0],\n",
       " ['flob2', 0],\n",
       " ['greg2', 0],\n",
       " ['grey2', 0],\n",
       " ['stele2', 1],\n",
       " ['hound2', 2],\n",
       " ['richard2', 0],\n",
       " ['ogunjo2', 1],\n",
       " ['vik2', 0],\n",
       " ['wolfman2', 0]]"
      ]
     },
     "execution_count": 169,
     "metadata": {},
     "output_type": "execute_result"
    }
   ],
   "source": [
    "find_common_handles(waka)"
   ]
  },
  {
   "cell_type": "code",
   "execution_count": 357,
   "id": "671991d3",
   "metadata": {},
   "outputs": [],
   "source": [
    "waka_bob = create_table(waka, bob)\n",
    "waka_flob = create_table(waka, flob)\n",
    "waka_ogunjo = create_table(waka, ogunjo)\n",
    "waka_steeges = create_table(waka, steeges)\n",
    "waka_greg = create_table(waka, greg)\n",
    "waka_grey = create_table(waka, grey)\n",
    "waka_hound2 = create_table(waka, hound2)\n",
    "waka_socal = create_table(waka, socal)\n",
    "waka_am2 = create_table(waka, am2)\n",
    "waka_ml =create_table(waka, ml_anon)"
   ]
  },
  {
   "cell_type": "code",
   "execution_count": 360,
   "id": "9613aff9",
   "metadata": {},
   "outputs": [
    {
     "data": {
      "text/plain": [
       "[1.0, 0.0, 1.0, 1.0, 0.0, 1.0, 1.0, 1.0, 0.0, 0.8235294117647058]"
      ]
     },
     "execution_count": 360,
     "metadata": {},
     "output_type": "execute_result"
    }
   ],
   "source": [
    "[total_agreement(waka_bob, \"waka\", \"bob\"),\n",
    " total_agreement(waka_flob, \"waka\", \"flob\"), total_agreement(waka_ogunjo,\"waka\", \"ogunjo\"),\n",
    " total_agreement(waka_steeges,\"waka\", \"steeges\"), total_agreement(waka_greg,\"waka\", \"greg\"),\n",
    " total_agreement(waka_grey,\"waka\", \"grey\"), total_agreement(waka_hound2,\"waka\", \"hound2\"),\n",
    " total_agreement(waka_socal,\"waka\", \"socal\"), total_agreement(waka_am2,\"waka\", \"am2\"),\n",
    " total_agreement(waka_ml, \"waka\", \"ml_anon\")]"
   ]
  },
  {
   "cell_type": "code",
   "execution_count": 359,
   "id": "7573c5ea",
   "metadata": {},
   "outputs": [
    {
     "data": {
      "text/html": [
       "<div>\n",
       "<style scoped>\n",
       "    .dataframe tbody tr th:only-of-type {\n",
       "        vertical-align: middle;\n",
       "    }\n",
       "\n",
       "    .dataframe tbody tr th {\n",
       "        vertical-align: top;\n",
       "    }\n",
       "\n",
       "    .dataframe thead th {\n",
       "        text-align: right;\n",
       "    }\n",
       "</style>\n",
       "<table border=\"1\" class=\"dataframe\">\n",
       "  <thead>\n",
       "    <tr style=\"text-align: right;\">\n",
       "      <th></th>\n",
       "      <th>handle</th>\n",
       "      <th>Is Sybil? (T or F)waka</th>\n",
       "      <th>Confidence (low, so-so, high)waka</th>\n",
       "      <th>Noteswaka</th>\n",
       "      <th>gitcoin_urlwaka</th>\n",
       "      <th>github_urlwaka</th>\n",
       "      <th>Is Sybil? (T or F)trice</th>\n",
       "      <th>Confidence (low, so-so, high)trice</th>\n",
       "      <th>Notestrice</th>\n",
       "      <th>gitcoin_urltrice</th>\n",
       "      <th>github_urltrice</th>\n",
       "    </tr>\n",
       "  </thead>\n",
       "  <tbody>\n",
       "  </tbody>\n",
       "</table>\n",
       "</div>"
      ],
      "text/plain": [
       "Empty DataFrame\n",
       "Columns: [handle, Is Sybil? (T or F)waka, Confidence (low, so-so, high)waka, Noteswaka, gitcoin_urlwaka, github_urlwaka, Is Sybil? (T or F)trice, Confidence (low, so-so, high)trice, Notestrice, gitcoin_urltrice, github_urltrice]\n",
       "Index: []"
      ]
     },
     "execution_count": 359,
     "metadata": {},
     "output_type": "execute_result"
    }
   ],
   "source": [
    "waka_trice"
   ]
  },
  {
   "cell_type": "code",
   "execution_count": 177,
   "id": "acc9c767",
   "metadata": {
    "scrolled": true
   },
   "outputs": [
    {
     "name": "stderr",
     "output_type": "stream",
     "text": [
      "C:\\Users\\user\\AppData\\Roaming\\Python\\Python37\\site-packages\\sklearn\\metrics\\_classification.py:658: RuntimeWarning:\n",
      "\n",
      "invalid value encountered in true_divide\n",
      "\n",
      "C:\\Users\\user\\AppData\\Roaming\\Python\\Python37\\site-packages\\sklearn\\metrics\\_classification.py:658: RuntimeWarning:\n",
      "\n",
      "invalid value encountered in true_divide\n",
      "\n"
     ]
    },
    {
     "data": {
      "text/plain": [
       "[1.0, 0.0, 1.0, nan, 0.0, 1.0, nan, 1.0, 0.0]"
      ]
     },
     "execution_count": 177,
     "metadata": {},
     "output_type": "execute_result"
    }
   ],
   "source": [
    "[cohen_kappa_score(waka_bob[\"Is Sybil? (T or F)waka\"], waka_bob[\"Is Sybil? (T or F)bob\"]),\n",
    " \n",
    "cohen_kappa_score(waka_flob[\"Is Sybil? (T or F)waka\"], waka_flob[\"Is Sybil? (T or F)flob\"]),\n",
    " \n",
    "cohen_kappa_score(waka_ogunjo[\"Is Sybil? (T or F)waka\"], waka_ogunjo[\"Is Sybil? (T or F)ogunjo\"]),\n",
    "\n",
    "cohen_kappa_score(waka_steeges[\"Is Sybil? (T or F)waka\"], waka_steeges[\"Is Sybil? (T or F)steeges\"]),\n",
    "\n",
    "cohen_kappa_score(waka_greg[\"Is Sybil? (T or F)waka\"], waka_greg[\"Is Sybil? (T or F)greg\"]),\n",
    " \n",
    "cohen_kappa_score(waka_grey[\"Is Sybil? (T or F)waka\"], waka_grey[\"Is Sybil? (T or F)grey\"]),\n",
    "\n",
    "cohen_kappa_score(waka_hound2[\"Is Sybil? (T or F)waka\"], waka_hound2[\"Is Sybil? (T or F)hound2\"]),\n",
    "\n",
    "cohen_kappa_score(waka_socal[\"Is Sybil? (T or F)waka\"], waka_socal[\"Is Sybil? (T or F)socal\"]),\n",
    " \n",
    "cohen_kappa_score(waka_am2[\"Is Sybil? (T or F)waka\"], waka_am2[\"Is Sybil? (T or F)am2\"])]"
   ]
  },
  {
   "cell_type": "code",
   "execution_count": 35,
   "id": "6b41dcaf",
   "metadata": {},
   "outputs": [
    {
     "data": {
      "text/plain": [
       "0.48484848484848486"
      ]
     },
     "execution_count": 35,
     "metadata": {},
     "output_type": "execute_result"
    }
   ],
   "source": [
    "cohen(waka, ml_anon)"
   ]
  },
  {
   "cell_type": "code",
   "execution_count": 183,
   "id": "12672fb3",
   "metadata": {
    "scrolled": true
   },
   "outputs": [
    {
     "data": {
      "text/html": [
       "<div>\n",
       "<style scoped>\n",
       "    .dataframe tbody tr th:only-of-type {\n",
       "        vertical-align: middle;\n",
       "    }\n",
       "\n",
       "    .dataframe tbody tr th {\n",
       "        vertical-align: top;\n",
       "    }\n",
       "\n",
       "    .dataframe thead th {\n",
       "        text-align: right;\n",
       "    }\n",
       "</style>\n",
       "<table border=\"1\" class=\"dataframe\">\n",
       "  <thead>\n",
       "    <tr style=\"text-align: right;\">\n",
       "      <th></th>\n",
       "      <th>Reviewers</th>\n",
       "      <th>Correlations</th>\n",
       "    </tr>\n",
       "  </thead>\n",
       "  <tbody>\n",
       "    <tr>\n",
       "      <th>0</th>\n",
       "      <td>Bob</td>\n",
       "      <td>1.0</td>\n",
       "    </tr>\n",
       "    <tr>\n",
       "      <th>1</th>\n",
       "      <td>Flob</td>\n",
       "      <td>0.0</td>\n",
       "    </tr>\n",
       "    <tr>\n",
       "      <th>2</th>\n",
       "      <td>Ogunjosam</td>\n",
       "      <td>1.0</td>\n",
       "    </tr>\n",
       "    <tr>\n",
       "      <th>3</th>\n",
       "      <td>Steeges</td>\n",
       "      <td>NaN</td>\n",
       "    </tr>\n",
       "    <tr>\n",
       "      <th>4</th>\n",
       "      <td>Greg</td>\n",
       "      <td>0.0</td>\n",
       "    </tr>\n",
       "    <tr>\n",
       "      <th>5</th>\n",
       "      <td>Grey</td>\n",
       "      <td>1.0</td>\n",
       "    </tr>\n",
       "    <tr>\n",
       "      <th>6</th>\n",
       "      <td>Hound</td>\n",
       "      <td>NaN</td>\n",
       "    </tr>\n",
       "    <tr>\n",
       "      <th>7</th>\n",
       "      <td>Socal</td>\n",
       "      <td>1.0</td>\n",
       "    </tr>\n",
       "    <tr>\n",
       "      <th>8</th>\n",
       "      <td>Am2</td>\n",
       "      <td>0.0</td>\n",
       "    </tr>\n",
       "  </tbody>\n",
       "</table>\n",
       "</div>"
      ],
      "text/plain": [
       "   Reviewers  Correlations\n",
       "0        Bob           1.0\n",
       "1       Flob           0.0\n",
       "2  Ogunjosam           1.0\n",
       "3    Steeges           NaN\n",
       "4       Greg           0.0\n",
       "5       Grey           1.0\n",
       "6      Hound           NaN\n",
       "7      Socal           1.0\n",
       "8        Am2           0.0"
      ]
     },
     "execution_count": 183,
     "metadata": {},
     "output_type": "execute_result"
    }
   ],
   "source": [
    "df = pd.DataFrame()\n",
    "df[\"Reviewers\"] = [\"Bob\", \"Flob\", \"Ogunjosam\", \"Steeges\", \"Greg\", \"Grey\", \"Hound\", \"Socal\", \"Am2\"]\n",
    "df[\"Correlations\"] = [1.0, 0.0, 1.0, np.NaN, 0.0, 1.0, np.NaN, 1.0, 0.0]\n",
    "df"
   ]
  },
  {
   "cell_type": "code",
   "execution_count": 185,
   "id": "7f87a544",
   "metadata": {
    "scrolled": false
   },
   "outputs": [
    {
     "data": {
      "application/vnd.plotly.v1+json": {
       "config": {
        "plotlyServerURL": "https://plot.ly"
       },
       "data": [
        {
         "alignmentgroup": "True",
         "hovertemplate": "Reviewers=%{x}<br>Correlations=%{marker.color}<extra></extra>",
         "legendgroup": "",
         "marker": {
          "color": [
           1,
           0,
           1,
           null,
           0,
           1,
           null,
           1,
           0
          ],
          "coloraxis": "coloraxis",
          "pattern": {
           "shape": ""
          }
         },
         "name": "",
         "offsetgroup": "",
         "orientation": "v",
         "showlegend": false,
         "textposition": "auto",
         "type": "bar",
         "x": [
          "Bob",
          "Flob",
          "Ogunjosam",
          "Steeges",
          "Greg",
          "Grey",
          "Hound",
          "Socal",
          "Am2"
         ],
         "xaxis": "x",
         "y": [
          1,
          0,
          1,
          null,
          0,
          1,
          null,
          1,
          0
         ],
         "yaxis": "y"
        }
       ],
       "layout": {
        "barmode": "relative",
        "coloraxis": {
         "colorbar": {
          "title": {
           "text": "Correlations"
          }
         },
         "colorscale": [
          [
           0,
           "rgb(158,1,66)"
          ],
          [
           0.1,
           "rgb(213,62,79)"
          ],
          [
           0.2,
           "rgb(244,109,67)"
          ],
          [
           0.3,
           "rgb(253,174,97)"
          ],
          [
           0.4,
           "rgb(254,224,139)"
          ],
          [
           0.5,
           "rgb(255,255,191)"
          ],
          [
           0.6,
           "rgb(230,245,152)"
          ],
          [
           0.7,
           "rgb(171,221,164)"
          ],
          [
           0.8,
           "rgb(102,194,165)"
          ],
          [
           0.9,
           "rgb(50,136,189)"
          ],
          [
           1,
           "rgb(94,79,162)"
          ]
         ]
        },
        "legend": {
         "tracegroupgap": 0
        },
        "template": {
         "data": {
          "pie": [
           {
            "automargin": true,
            "type": "pie"
           }
          ],
          "scatter": [
           {
            "line": {
             "width": 3
            },
            "marker": {
             "size": 9
            },
            "type": "scatter"
           }
          ],
          "scatter3d": [
           {
            "line": {
             "width": 3
            },
            "marker": {
             "size": 9
            },
            "type": "scatter3d"
           }
          ],
          "scattergeo": [
           {
            "line": {
             "width": 3
            },
            "marker": {
             "size": 9
            },
            "type": "scattergeo"
           }
          ],
          "scattergl": [
           {
            "line": {
             "width": 3
            },
            "marker": {
             "size": 9
            },
            "type": "scattergl"
           }
          ],
          "scatterpolar": [
           {
            "line": {
             "width": 3
            },
            "marker": {
             "size": 9
            },
            "type": "scatterpolar"
           }
          ],
          "scatterpolargl": [
           {
            "line": {
             "width": 3
            },
            "marker": {
             "size": 9
            },
            "type": "scatterpolargl"
           }
          ],
          "scatterternary": [
           {
            "line": {
             "width": 3
            },
            "marker": {
             "size": 9
            },
            "type": "scatterternary"
           }
          ],
          "table": [
           {
            "cells": {
             "height": 30
            },
            "header": {
             "height": 36
            },
            "type": "table"
           }
          ]
         },
         "layout": {
          "font": {
           "size": 18
          },
          "xaxis": {
           "title": {
            "standoff": 15
           }
          },
          "yaxis": {
           "title": {
            "standoff": 15
           }
          }
         }
        },
        "title": {
         "text": "Cohen-kappa score of Waka with other reviewers"
        },
        "xaxis": {
         "anchor": "y",
         "domain": [
          0,
          1
         ],
         "title": {
          "text": "Reviewers"
         }
        },
        "yaxis": {
         "anchor": "x",
         "domain": [
          0,
          1
         ],
         "title": {
          "text": "Correlations"
         }
        }
       }
      },
      "text/html": [
       "<div>                            <div id=\"27fbbcfd-34a9-468b-b4d8-0e12185a793a\" class=\"plotly-graph-div\" style=\"height:525px; width:100%;\"></div>            <script type=\"text/javascript\">                require([\"plotly\"], function(Plotly) {                    window.PLOTLYENV=window.PLOTLYENV || {};                                    if (document.getElementById(\"27fbbcfd-34a9-468b-b4d8-0e12185a793a\")) {                    Plotly.newPlot(                        \"27fbbcfd-34a9-468b-b4d8-0e12185a793a\",                        [{\"alignmentgroup\":\"True\",\"hovertemplate\":\"Reviewers=%{x}<br>Correlations=%{marker.color}<extra></extra>\",\"legendgroup\":\"\",\"marker\":{\"color\":[1.0,0.0,1.0,null,0.0,1.0,null,1.0,0.0],\"coloraxis\":\"coloraxis\",\"pattern\":{\"shape\":\"\"}},\"name\":\"\",\"offsetgroup\":\"\",\"orientation\":\"v\",\"showlegend\":false,\"textposition\":\"auto\",\"type\":\"bar\",\"x\":[\"Bob\",\"Flob\",\"Ogunjosam\",\"Steeges\",\"Greg\",\"Grey\",\"Hound\",\"Socal\",\"Am2\"],\"xaxis\":\"x\",\"y\":[1.0,0.0,1.0,null,0.0,1.0,null,1.0,0.0],\"yaxis\":\"y\"}],                        {\"barmode\":\"relative\",\"coloraxis\":{\"colorbar\":{\"title\":{\"text\":\"Correlations\"}},\"colorscale\":[[0.0,\"rgb(158,1,66)\"],[0.1,\"rgb(213,62,79)\"],[0.2,\"rgb(244,109,67)\"],[0.3,\"rgb(253,174,97)\"],[0.4,\"rgb(254,224,139)\"],[0.5,\"rgb(255,255,191)\"],[0.6,\"rgb(230,245,152)\"],[0.7,\"rgb(171,221,164)\"],[0.8,\"rgb(102,194,165)\"],[0.9,\"rgb(50,136,189)\"],[1.0,\"rgb(94,79,162)\"]]},\"legend\":{\"tracegroupgap\":0},\"template\":{\"data\":{\"pie\":[{\"automargin\":true,\"type\":\"pie\"}],\"scatter\":[{\"line\":{\"width\":3},\"marker\":{\"size\":9},\"type\":\"scatter\"}],\"scatter3d\":[{\"line\":{\"width\":3},\"marker\":{\"size\":9},\"type\":\"scatter3d\"}],\"scattergeo\":[{\"line\":{\"width\":3},\"marker\":{\"size\":9},\"type\":\"scattergeo\"}],\"scattergl\":[{\"line\":{\"width\":3},\"marker\":{\"size\":9},\"type\":\"scattergl\"}],\"scatterpolar\":[{\"line\":{\"width\":3},\"marker\":{\"size\":9},\"type\":\"scatterpolar\"}],\"scatterpolargl\":[{\"line\":{\"width\":3},\"marker\":{\"size\":9},\"type\":\"scatterpolargl\"}],\"scatterternary\":[{\"line\":{\"width\":3},\"marker\":{\"size\":9},\"type\":\"scatterternary\"}],\"table\":[{\"cells\":{\"height\":30},\"header\":{\"height\":36},\"type\":\"table\"}]},\"layout\":{\"font\":{\"size\":18},\"xaxis\":{\"title\":{\"standoff\":15}},\"yaxis\":{\"title\":{\"standoff\":15}}}},\"title\":{\"text\":\"Cohen-kappa score of Waka with other reviewers\"},\"xaxis\":{\"anchor\":\"y\",\"domain\":[0.0,1.0],\"title\":{\"text\":\"Reviewers\"}},\"yaxis\":{\"anchor\":\"x\",\"domain\":[0.0,1.0],\"title\":{\"text\":\"Correlations\"}}},                        {\"responsive\": true}                    ).then(function(){\n",
       "                            \n",
       "var gd = document.getElementById('27fbbcfd-34a9-468b-b4d8-0e12185a793a');\n",
       "var x = new MutationObserver(function (mutations, observer) {{\n",
       "        var display = window.getComputedStyle(gd).display;\n",
       "        if (!display || display === 'none') {{\n",
       "            console.log([gd, 'removed!']);\n",
       "            Plotly.purge(gd);\n",
       "            observer.disconnect();\n",
       "        }}\n",
       "}});\n",
       "\n",
       "// Listen for the removal of the full notebook cells\n",
       "var notebookContainer = gd.closest('#notebook-container');\n",
       "if (notebookContainer) {{\n",
       "    x.observe(notebookContainer, {childList: true});\n",
       "}}\n",
       "\n",
       "// Listen for the clearing of the current output cell\n",
       "var outputEl = gd.closest('.output');\n",
       "if (outputEl) {{\n",
       "    x.observe(outputEl, {childList: true});\n",
       "}}\n",
       "\n",
       "                        })                };                });            </script>        </div>"
      ]
     },
     "metadata": {},
     "output_type": "display_data"
    }
   ],
   "source": [
    "px.bar(data_frame=df, \n",
    "      x= \"Reviewers\",\n",
    "      y=\"Correlations\",\n",
    "      color=\"Correlations\",\n",
    "       template=\"presentation\",\n",
    "      color_continuous_scale=px.colors.diverging.Spectral,\n",
    "       title=\"Cohen-kappa score of Waka with other reviewers\",\n",
    "      #width=500\n",
    "      )"
   ]
  },
  {
   "cell_type": "markdown",
   "id": "4d497048",
   "metadata": {},
   "source": [
    "## Trice"
   ]
  },
  {
   "cell_type": "code",
   "execution_count": 188,
   "id": "863fa0b7",
   "metadata": {
    "collapsed": true
   },
   "outputs": [
    {
     "data": {
      "text/plain": [
       "[['adebola', 0],\n",
       " ['am', 0],\n",
       " ['ann', 0],\n",
       " ['anuj', 0],\n",
       " ['elbeth', 5],\n",
       " ['bfa', 1],\n",
       " ['gold', 1],\n",
       " ['bob', 0],\n",
       " ['lkh', 2],\n",
       " ['waka', 0],\n",
       " ['trice', 60],\n",
       " ['proof', 0],\n",
       " ['emmanuel', 2],\n",
       " ['fizzy', 1],\n",
       " ['dog', 2],\n",
       " ['flob', 1],\n",
       " ['emma_j', 0],\n",
       " ['greg', 2],\n",
       " ['grey', 2],\n",
       " ['stel', 1],\n",
       " ['jshua', 1],\n",
       " ['kish', 1],\n",
       " ['kylin', 2],\n",
       " ['z4yr', 2],\n",
       " ['hound', 1],\n",
       " ['mount', 1],\n",
       " ['nadalie', 1],\n",
       " ['richard', 2],\n",
       " ['ogunjo', 2],\n",
       " ['am2', 0],\n",
       " ['robot', 0],\n",
       " ['ann2', 1],\n",
       " ['steeges', 0],\n",
       " ['vik', 2],\n",
       " ['socal', 3],\n",
       " ['wolfman', 0],\n",
       " ['zer', 2],\n",
       " ['elbeth2', 2],\n",
       " ['bob2', 1],\n",
       " ['lkh2', 0],\n",
       " ['fizzy2', 0],\n",
       " ['trice2', 0],\n",
       " ['flob2', 0],\n",
       " ['greg2', 0],\n",
       " ['grey2', 0],\n",
       " ['stele2', 2],\n",
       " ['hound2', 1],\n",
       " ['richard2', 1],\n",
       " ['ogunjo2', 0],\n",
       " ['vik2', 0],\n",
       " ['wolfman2', 2]]"
      ]
     },
     "execution_count": 188,
     "metadata": {},
     "output_type": "execute_result"
    }
   ],
   "source": [
    "find_common_handles(trice)"
   ]
  },
  {
   "cell_type": "code",
   "execution_count": null,
   "id": "de8df95c",
   "metadata": {},
   "outputs": [],
   "source": [
    "socal, elbeth, lkh, emmanuel, greg, grey, kylin, z4yr, richard, ogunjo, vik, zer, wolfman2"
   ]
  },
  {
   "cell_type": "code",
   "execution_count": 361,
   "id": "cbe9d180",
   "metadata": {},
   "outputs": [],
   "source": [
    "trice_socal = create_table(trice, socal)\n",
    "trice_elbeth = create_table(trice, elbeth)\n",
    "trice_lkh = create_table(trice, lkh)\n",
    "trice_emmanuel = create_table(trice, emmanuel)\n",
    "trice_greg = create_table(trice, greg)\n",
    "trice_grey = create_table(trice, grey)\n",
    "trice_kylin = create_table(trice, kylin)\n",
    "trice_z4yr = create_table(trice, z4yr)\n",
    "trice_richard = create_table(trice, richard)\n",
    "trice_ogunjo = create_table(trice, ogunjo)\n",
    "trice_vik = create_table(trice, vik)\n",
    "trice_zer = create_table(trice, zer)\n",
    "trice_wolfman = create_table(trice, wolfman2)\n",
    "trice_ml = create_table(trice, ml_anon)"
   ]
  },
  {
   "cell_type": "code",
   "execution_count": null,
   "id": "cfe8edb5",
   "metadata": {},
   "outputs": [],
   "source": []
  },
  {
   "cell_type": "code",
   "execution_count": 362,
   "id": "fcc7963e",
   "metadata": {},
   "outputs": [
    {
     "data": {
      "text/plain": [
       "[0.6666666666666666,\n",
       " 0.6,\n",
       " 0.5,\n",
       " 1.0,\n",
       " 0.5,\n",
       " 1.0,\n",
       " 0.0,\n",
       " 0.0,\n",
       " 0.0,\n",
       " 0.0,\n",
       " 0.5,\n",
       " 0.0,\n",
       " 0.5,\n",
       " 0.28205128205128205]"
      ]
     },
     "execution_count": 362,
     "metadata": {},
     "output_type": "execute_result"
    }
   ],
   "source": [
    "[total_agreement(trice_socal, \"trice\", \"socal\"), total_agreement(trice_elbeth, \"trice\", \"elbeth\"),\n",
    " total_agreement(trice_lkh, \"trice\", \"lkh\"), total_agreement(trice_emmanuel,\"trice\", \"emmanuel\"),\n",
    " total_agreement(trice_greg,\"trice\", \"greg\"), total_agreement(trice_grey,\"trice\", \"grey\"),\n",
    " total_agreement(trice_kylin,\"trice\", \"kylin\"), total_agreement(trice_z4yr,\"trice\", \"z4yr\"),\n",
    " total_agreement(trice_richard,\"trice\", \"richard\"), total_agreement(trice_ogunjo,\"trice\", \"ogunjo\"),\n",
    "  total_agreement(trice_vik,\"trice\", \"vik\"), total_agreement(trice_zer,\"trice\", \"zer\"),\n",
    " total_agreement(trice_wolfman, \"trice\", \"wolfman2\"), total_agreement(trice_ml, \"trice\", \"ml_anon\")]"
   ]
  },
  {
   "cell_type": "code",
   "execution_count": 194,
   "id": "c70a9948",
   "metadata": {},
   "outputs": [
    {
     "name": "stderr",
     "output_type": "stream",
     "text": [
      "C:\\Users\\user\\AppData\\Roaming\\Python\\Python37\\site-packages\\sklearn\\metrics\\_classification.py:658: RuntimeWarning:\n",
      "\n",
      "invalid value encountered in true_divide\n",
      "\n"
     ]
    },
    {
     "data": {
      "text/plain": [
       "[0.0, -0.25, 0.0, 1.0, 0.0, nan, 0.0, 0.0, 0.0, 0.0, 0.0, 0.0, 0.0]"
      ]
     },
     "execution_count": 194,
     "metadata": {},
     "output_type": "execute_result"
    }
   ],
   "source": [
    "[cohen_kappa_score(trice_socal[\"Is Sybil? (T or F)trice\"], trice_socal[\"Is Sybil? (T or F)socal\"]),\n",
    " \n",
    "cohen_kappa_score(trice_elbeth[\"Is Sybil? (T or F)trice\"], trice_elbeth[\"Is Sybil? (T or F)elbeth\"]),\n",
    " \n",
    "cohen_kappa_score(trice_lkh[\"Is Sybil? (T or F)trice\"], trice_lkh[\"Is Sybil? (T or F)lkh\"]),\n",
    " \n",
    "cohen_kappa_score(trice_emmanuel[\"Is Sybil? (T or F)trice\"], trice_emmanuel[\"Is Sybil? (T or F)emmanuel\"]),\n",
    "\n",
    "cohen_kappa_score(trice_greg[\"Is Sybil? (T or F)trice\"], trice_greg[\"Is Sybil? (T or F)greg\"]),\n",
    " \n",
    "cohen_kappa_score(trice_grey[\"Is Sybil? (T or F)trice\"], trice_grey[\"Is Sybil? (T or F)grey\"]),\n",
    "\n",
    "cohen_kappa_score(trice_kylin[\"Is Sybil? (T or F)trice\"], trice_kylin[\"Is Sybil? (T or F)kylin\"]),\n",
    " \n",
    "cohen_kappa_score(trice_z4yr[\"Is Sybil? (T or F)trice\"], trice_z4yr[\"Is Sybil? (T or F)z4yr\"]),\n",
    "\n",
    "cohen_kappa_score(trice_richard[\"Is Sybil? (T or F)trice\"], trice_richard[\"Is Sybil? (T or F)richard\"]),\n",
    " \n",
    "cohen_kappa_score(trice_ogunjo[\"Is Sybil? (T or F)trice\"], trice_ogunjo[\"Is Sybil? (T or F)ogunjo\"]),\n",
    "\n",
    "cohen_kappa_score(trice_vik[\"Is Sybil? (T or F)trice\"], trice_vik[\"Is Sybil? (T or F)vik\"]),\n",
    " \n",
    "cohen_kappa_score(trice_zer[\"Is Sybil? (T or F)trice\"], trice_zer[\"Is Sybil? (T or F)zer\"]),\n",
    "\n",
    "cohen_kappa_score(trice_wolfman[\"Is Sybil? (T or F)trice\"], trice_wolfman[\"Is Sybil? (T or F)wolfman2\"]),]"
   ]
  },
  {
   "cell_type": "code",
   "execution_count": 36,
   "id": "67531a93",
   "metadata": {},
   "outputs": [
    {
     "data": {
      "text/plain": [
       "0.001828153564899404"
      ]
     },
     "execution_count": 36,
     "metadata": {},
     "output_type": "execute_result"
    }
   ],
   "source": [
    "cohen(trice, ml_anon)"
   ]
  },
  {
   "cell_type": "code",
   "execution_count": 196,
   "id": "b9d4cc20",
   "metadata": {},
   "outputs": [
    {
     "data": {
      "text/html": [
       "<div>\n",
       "<style scoped>\n",
       "    .dataframe tbody tr th:only-of-type {\n",
       "        vertical-align: middle;\n",
       "    }\n",
       "\n",
       "    .dataframe tbody tr th {\n",
       "        vertical-align: top;\n",
       "    }\n",
       "\n",
       "    .dataframe thead th {\n",
       "        text-align: right;\n",
       "    }\n",
       "</style>\n",
       "<table border=\"1\" class=\"dataframe\">\n",
       "  <thead>\n",
       "    <tr style=\"text-align: right;\">\n",
       "      <th></th>\n",
       "      <th>Reviewers</th>\n",
       "      <th>Correlations</th>\n",
       "    </tr>\n",
       "  </thead>\n",
       "  <tbody>\n",
       "    <tr>\n",
       "      <th>0</th>\n",
       "      <td>Socal</td>\n",
       "      <td>0.00</td>\n",
       "    </tr>\n",
       "    <tr>\n",
       "      <th>1</th>\n",
       "      <td>Elbeth</td>\n",
       "      <td>-0.25</td>\n",
       "    </tr>\n",
       "    <tr>\n",
       "      <th>2</th>\n",
       "      <td>LKH</td>\n",
       "      <td>0.00</td>\n",
       "    </tr>\n",
       "    <tr>\n",
       "      <th>3</th>\n",
       "      <td>Emmanuel</td>\n",
       "      <td>1.00</td>\n",
       "    </tr>\n",
       "    <tr>\n",
       "      <th>4</th>\n",
       "      <td>Greg</td>\n",
       "      <td>0.00</td>\n",
       "    </tr>\n",
       "    <tr>\n",
       "      <th>5</th>\n",
       "      <td>Grey</td>\n",
       "      <td>NaN</td>\n",
       "    </tr>\n",
       "    <tr>\n",
       "      <th>6</th>\n",
       "      <td>Kylin</td>\n",
       "      <td>0.00</td>\n",
       "    </tr>\n",
       "    <tr>\n",
       "      <th>7</th>\n",
       "      <td>Z4yr</td>\n",
       "      <td>0.00</td>\n",
       "    </tr>\n",
       "    <tr>\n",
       "      <th>8</th>\n",
       "      <td>Richard</td>\n",
       "      <td>0.00</td>\n",
       "    </tr>\n",
       "    <tr>\n",
       "      <th>9</th>\n",
       "      <td>Ogunjosam</td>\n",
       "      <td>0.00</td>\n",
       "    </tr>\n",
       "    <tr>\n",
       "      <th>10</th>\n",
       "      <td>Vik</td>\n",
       "      <td>0.00</td>\n",
       "    </tr>\n",
       "    <tr>\n",
       "      <th>11</th>\n",
       "      <td>Zer</td>\n",
       "      <td>0.00</td>\n",
       "    </tr>\n",
       "    <tr>\n",
       "      <th>12</th>\n",
       "      <td>Wolfman</td>\n",
       "      <td>0.00</td>\n",
       "    </tr>\n",
       "  </tbody>\n",
       "</table>\n",
       "</div>"
      ],
      "text/plain": [
       "    Reviewers  Correlations\n",
       "0       Socal          0.00\n",
       "1      Elbeth         -0.25\n",
       "2         LKH          0.00\n",
       "3    Emmanuel          1.00\n",
       "4        Greg          0.00\n",
       "5        Grey           NaN\n",
       "6       Kylin          0.00\n",
       "7        Z4yr          0.00\n",
       "8     Richard          0.00\n",
       "9   Ogunjosam          0.00\n",
       "10        Vik          0.00\n",
       "11        Zer          0.00\n",
       "12    Wolfman          0.00"
      ]
     },
     "execution_count": 196,
     "metadata": {},
     "output_type": "execute_result"
    }
   ],
   "source": [
    "df = pd.DataFrame()\n",
    "df[\"Reviewers\"] = [\"Socal\", \"Elbeth\", \"LKH\", \"Emmanuel\", \"Greg\", \"Grey\", \"Kylin\", \"Z4yr\", \"Richard\", \"Ogunjosam\", \"Vik\", \"Zer\", \"Wolfman\"]\n",
    "df[\"Correlations\"] = [0.0, -0.25, 0.0, 1.0, 0.0, np.NaN, 0.0, 0.0, 0.0, 0.0, 0.0, 0.0, 0.0]\n",
    "df"
   ]
  },
  {
   "cell_type": "code",
   "execution_count": 200,
   "id": "babce9e4",
   "metadata": {},
   "outputs": [
    {
     "data": {
      "application/vnd.plotly.v1+json": {
       "config": {
        "plotlyServerURL": "https://plot.ly"
       },
       "data": [
        {
         "alignmentgroup": "True",
         "hovertemplate": "Reviewers=%{x}<br>Correlations=%{marker.color}<extra></extra>",
         "legendgroup": "",
         "marker": {
          "color": [
           0,
           -0.25,
           0,
           1,
           0,
           null,
           0,
           0,
           0,
           0,
           0,
           0,
           0
          ],
          "coloraxis": "coloraxis",
          "pattern": {
           "shape": ""
          }
         },
         "name": "",
         "offsetgroup": "",
         "orientation": "v",
         "showlegend": false,
         "textposition": "auto",
         "type": "bar",
         "x": [
          "Socal",
          "Elbeth",
          "LKH",
          "Emmanuel",
          "Greg",
          "Grey",
          "Kylin",
          "Z4yr",
          "Richard",
          "Ogunjosam",
          "Vik",
          "Zer",
          "Wolfman"
         ],
         "xaxis": "x",
         "y": [
          0,
          -0.25,
          0,
          1,
          0,
          null,
          0,
          0,
          0,
          0,
          0,
          0,
          0
         ],
         "yaxis": "y"
        }
       ],
       "layout": {
        "barmode": "relative",
        "coloraxis": {
         "colorbar": {
          "title": {
           "text": "Correlations"
          }
         },
         "colorscale": [
          [
           0,
           "rgb(158,1,66)"
          ],
          [
           0.1,
           "rgb(213,62,79)"
          ],
          [
           0.2,
           "rgb(244,109,67)"
          ],
          [
           0.3,
           "rgb(253,174,97)"
          ],
          [
           0.4,
           "rgb(254,224,139)"
          ],
          [
           0.5,
           "rgb(255,255,191)"
          ],
          [
           0.6,
           "rgb(230,245,152)"
          ],
          [
           0.7,
           "rgb(171,221,164)"
          ],
          [
           0.8,
           "rgb(102,194,165)"
          ],
          [
           0.9,
           "rgb(50,136,189)"
          ],
          [
           1,
           "rgb(94,79,162)"
          ]
         ]
        },
        "legend": {
         "tracegroupgap": 0
        },
        "template": {
         "data": {
          "pie": [
           {
            "automargin": true,
            "type": "pie"
           }
          ],
          "scatter": [
           {
            "line": {
             "width": 3
            },
            "marker": {
             "size": 9
            },
            "type": "scatter"
           }
          ],
          "scatter3d": [
           {
            "line": {
             "width": 3
            },
            "marker": {
             "size": 9
            },
            "type": "scatter3d"
           }
          ],
          "scattergeo": [
           {
            "line": {
             "width": 3
            },
            "marker": {
             "size": 9
            },
            "type": "scattergeo"
           }
          ],
          "scattergl": [
           {
            "line": {
             "width": 3
            },
            "marker": {
             "size": 9
            },
            "type": "scattergl"
           }
          ],
          "scatterpolar": [
           {
            "line": {
             "width": 3
            },
            "marker": {
             "size": 9
            },
            "type": "scatterpolar"
           }
          ],
          "scatterpolargl": [
           {
            "line": {
             "width": 3
            },
            "marker": {
             "size": 9
            },
            "type": "scatterpolargl"
           }
          ],
          "scatterternary": [
           {
            "line": {
             "width": 3
            },
            "marker": {
             "size": 9
            },
            "type": "scatterternary"
           }
          ],
          "table": [
           {
            "cells": {
             "height": 30
            },
            "header": {
             "height": 36
            },
            "type": "table"
           }
          ]
         },
         "layout": {
          "font": {
           "size": 18
          },
          "xaxis": {
           "title": {
            "standoff": 15
           }
          },
          "yaxis": {
           "title": {
            "standoff": 15
           }
          }
         }
        },
        "title": {
         "text": "Cohen-kappa score of Trice with other reviewers"
        },
        "xaxis": {
         "anchor": "y",
         "domain": [
          0,
          1
         ],
         "title": {
          "text": "Reviewers"
         }
        },
        "yaxis": {
         "anchor": "x",
         "domain": [
          0,
          1
         ],
         "title": {
          "text": "Correlations"
         }
        }
       }
      },
      "text/html": [
       "<div>                            <div id=\"54309a92-28c4-44ee-88bb-b0f10486a7f0\" class=\"plotly-graph-div\" style=\"height:525px; width:100%;\"></div>            <script type=\"text/javascript\">                require([\"plotly\"], function(Plotly) {                    window.PLOTLYENV=window.PLOTLYENV || {};                                    if (document.getElementById(\"54309a92-28c4-44ee-88bb-b0f10486a7f0\")) {                    Plotly.newPlot(                        \"54309a92-28c4-44ee-88bb-b0f10486a7f0\",                        [{\"alignmentgroup\":\"True\",\"hovertemplate\":\"Reviewers=%{x}<br>Correlations=%{marker.color}<extra></extra>\",\"legendgroup\":\"\",\"marker\":{\"color\":[0.0,-0.25,0.0,1.0,0.0,null,0.0,0.0,0.0,0.0,0.0,0.0,0.0],\"coloraxis\":\"coloraxis\",\"pattern\":{\"shape\":\"\"}},\"name\":\"\",\"offsetgroup\":\"\",\"orientation\":\"v\",\"showlegend\":false,\"textposition\":\"auto\",\"type\":\"bar\",\"x\":[\"Socal\",\"Elbeth\",\"LKH\",\"Emmanuel\",\"Greg\",\"Grey\",\"Kylin\",\"Z4yr\",\"Richard\",\"Ogunjosam\",\"Vik\",\"Zer\",\"Wolfman\"],\"xaxis\":\"x\",\"y\":[0.0,-0.25,0.0,1.0,0.0,null,0.0,0.0,0.0,0.0,0.0,0.0,0.0],\"yaxis\":\"y\"}],                        {\"barmode\":\"relative\",\"coloraxis\":{\"colorbar\":{\"title\":{\"text\":\"Correlations\"}},\"colorscale\":[[0.0,\"rgb(158,1,66)\"],[0.1,\"rgb(213,62,79)\"],[0.2,\"rgb(244,109,67)\"],[0.3,\"rgb(253,174,97)\"],[0.4,\"rgb(254,224,139)\"],[0.5,\"rgb(255,255,191)\"],[0.6,\"rgb(230,245,152)\"],[0.7,\"rgb(171,221,164)\"],[0.8,\"rgb(102,194,165)\"],[0.9,\"rgb(50,136,189)\"],[1.0,\"rgb(94,79,162)\"]]},\"legend\":{\"tracegroupgap\":0},\"template\":{\"data\":{\"pie\":[{\"automargin\":true,\"type\":\"pie\"}],\"scatter\":[{\"line\":{\"width\":3},\"marker\":{\"size\":9},\"type\":\"scatter\"}],\"scatter3d\":[{\"line\":{\"width\":3},\"marker\":{\"size\":9},\"type\":\"scatter3d\"}],\"scattergeo\":[{\"line\":{\"width\":3},\"marker\":{\"size\":9},\"type\":\"scattergeo\"}],\"scattergl\":[{\"line\":{\"width\":3},\"marker\":{\"size\":9},\"type\":\"scattergl\"}],\"scatterpolar\":[{\"line\":{\"width\":3},\"marker\":{\"size\":9},\"type\":\"scatterpolar\"}],\"scatterpolargl\":[{\"line\":{\"width\":3},\"marker\":{\"size\":9},\"type\":\"scatterpolargl\"}],\"scatterternary\":[{\"line\":{\"width\":3},\"marker\":{\"size\":9},\"type\":\"scatterternary\"}],\"table\":[{\"cells\":{\"height\":30},\"header\":{\"height\":36},\"type\":\"table\"}]},\"layout\":{\"font\":{\"size\":18},\"xaxis\":{\"title\":{\"standoff\":15}},\"yaxis\":{\"title\":{\"standoff\":15}}}},\"title\":{\"text\":\"Cohen-kappa score of Trice with other reviewers\"},\"xaxis\":{\"anchor\":\"y\",\"domain\":[0.0,1.0],\"title\":{\"text\":\"Reviewers\"}},\"yaxis\":{\"anchor\":\"x\",\"domain\":[0.0,1.0],\"title\":{\"text\":\"Correlations\"}}},                        {\"responsive\": true}                    ).then(function(){\n",
       "                            \n",
       "var gd = document.getElementById('54309a92-28c4-44ee-88bb-b0f10486a7f0');\n",
       "var x = new MutationObserver(function (mutations, observer) {{\n",
       "        var display = window.getComputedStyle(gd).display;\n",
       "        if (!display || display === 'none') {{\n",
       "            console.log([gd, 'removed!']);\n",
       "            Plotly.purge(gd);\n",
       "            observer.disconnect();\n",
       "        }}\n",
       "}});\n",
       "\n",
       "// Listen for the removal of the full notebook cells\n",
       "var notebookContainer = gd.closest('#notebook-container');\n",
       "if (notebookContainer) {{\n",
       "    x.observe(notebookContainer, {childList: true});\n",
       "}}\n",
       "\n",
       "// Listen for the clearing of the current output cell\n",
       "var outputEl = gd.closest('.output');\n",
       "if (outputEl) {{\n",
       "    x.observe(outputEl, {childList: true});\n",
       "}}\n",
       "\n",
       "                        })                };                });            </script>        </div>"
      ]
     },
     "metadata": {},
     "output_type": "display_data"
    }
   ],
   "source": [
    "px.bar(data_frame=df, \n",
    "      x= \"Reviewers\",\n",
    "      y=\"Correlations\",\n",
    "      color=\"Correlations\",\n",
    "       template=\"presentation\",\n",
    "      color_continuous_scale=px.colors.diverging.Spectral,\n",
    "       title=\"Cohen-kappa score of Trice with other reviewers\",\n",
    "      #width=500\n",
    "      )"
   ]
  },
  {
   "cell_type": "markdown",
   "id": "2741f929",
   "metadata": {},
   "source": [
    "## Proof"
   ]
  },
  {
   "cell_type": "code",
   "execution_count": 197,
   "id": "47a22469",
   "metadata": {
    "collapsed": true
   },
   "outputs": [
    {
     "data": {
      "text/plain": [
       "[['adebola', 0],\n",
       " ['am', 0],\n",
       " ['ann', 0],\n",
       " ['anuj', 1],\n",
       " ['elbeth', 2],\n",
       " ['bfa', 1],\n",
       " ['gold', 1],\n",
       " ['bob', 1],\n",
       " ['lkh', 2],\n",
       " ['waka', 1],\n",
       " ['trice', 0],\n",
       " ['proof', 60],\n",
       " ['emmanuel', 1],\n",
       " ['fizzy', 0],\n",
       " ['dog', 1],\n",
       " ['flob', 1],\n",
       " ['emma_j', 1],\n",
       " ['greg', 0],\n",
       " ['grey', 2],\n",
       " ['stel', 1],\n",
       " ['jshua', 4],\n",
       " ['kish', 1],\n",
       " ['kylin', 3],\n",
       " ['z4yr', 5],\n",
       " ['hound', 1],\n",
       " ['mount', 1],\n",
       " ['nadalie', 0],\n",
       " ['richard', 1],\n",
       " ['ogunjo', 1],\n",
       " ['am2', 2],\n",
       " ['robot', 0],\n",
       " ['ann2', 2],\n",
       " ['steeges', 3],\n",
       " ['vik', 1],\n",
       " ['socal', 1],\n",
       " ['wolfman', 2],\n",
       " ['zer', 0],\n",
       " ['elbeth2', 0],\n",
       " ['bob2', 0],\n",
       " ['lkh2', 0],\n",
       " ['fizzy2', 0],\n",
       " ['trice2', 0],\n",
       " ['flob2', 0],\n",
       " ['greg2', 0],\n",
       " ['grey2', 0],\n",
       " ['stele2', 2],\n",
       " ['hound2', 1],\n",
       " ['richard2', 0],\n",
       " ['ogunjo2', 2],\n",
       " ['vik2', 0],\n",
       " ['wolfman2', 2]]"
      ]
     },
     "execution_count": 197,
     "metadata": {},
     "output_type": "execute_result"
    }
   ],
   "source": [
    "find_common_handles(proof)"
   ]
  },
  {
   "cell_type": "code",
   "execution_count": 363,
   "id": "4494c4f4",
   "metadata": {},
   "outputs": [],
   "source": [
    "proof_steeges = create_table(proof, steeges)\n",
    "proof_z4yr = create_table(proof, z4yr)\n",
    "proof_kylin = create_table(proof, kylin)\n",
    "proof_jshua = create_table(proof, jshua)\n",
    "proof_ml = create_table(proof, ml_anon)"
   ]
  },
  {
   "cell_type": "code",
   "execution_count": 364,
   "id": "c1780ca8",
   "metadata": {},
   "outputs": [
    {
     "data": {
      "text/plain": [
       "[0.6666666666666666, 1.0, 1.0, 0.75, 0.6818181818181818]"
      ]
     },
     "execution_count": 364,
     "metadata": {},
     "output_type": "execute_result"
    }
   ],
   "source": [
    "[total_agreement(proof_steeges, \"proof\", \"steeges\"), total_agreement(proof_z4yr, \"proof\", \"z4yr\"),\n",
    " total_agreement(proof_kylin, \"proof\", \"kylin\"), total_agreement(proof_jshua,\"proof\", \"jshua\"),\n",
    " total_agreement(proof_ml, \"proof\", \"ml_anon\")]"
   ]
  },
  {
   "cell_type": "code",
   "execution_count": 199,
   "id": "865a73de",
   "metadata": {},
   "outputs": [
    {
     "name": "stderr",
     "output_type": "stream",
     "text": [
      "C:\\Users\\user\\AppData\\Roaming\\Python\\Python37\\site-packages\\sklearn\\metrics\\_classification.py:658: RuntimeWarning:\n",
      "\n",
      "invalid value encountered in true_divide\n",
      "\n"
     ]
    },
    {
     "data": {
      "text/plain": [
       "[0.0, 1.0, nan, 0.0]"
      ]
     },
     "execution_count": 199,
     "metadata": {},
     "output_type": "execute_result"
    }
   ],
   "source": [
    "[cohen_kappa_score(proof_steeges[\"Is Sybil? (T or F)proof\"], proof_steeges[\"Is Sybil? (T or F)steeges\"]),\n",
    " \n",
    "cohen_kappa_score(proof_z4yr[\"Is Sybil? (T or F)proof\"], proof_z4yr[\"Is Sybil? (T or F)z4yr\"]),\n",
    " \n",
    "cohen_kappa_score(proof_kylin[\"Is Sybil? (T or F)proof\"], proof_kylin[\"Is Sybil? (T or F)kylin\"]),\n",
    " \n",
    "cohen_kappa_score(proof_jshua[\"Is Sybil? (T or F)proof\"], proof_jshua[\"Is Sybil? (T or F)jshua\"])]"
   ]
  },
  {
   "cell_type": "code",
   "execution_count": 37,
   "id": "b8d159bc",
   "metadata": {},
   "outputs": [
    {
     "data": {
      "text/plain": [
       "0.2666666666666666"
      ]
     },
     "execution_count": 37,
     "metadata": {},
     "output_type": "execute_result"
    }
   ],
   "source": [
    "cohen(proof, ml_anon)"
   ]
  },
  {
   "cell_type": "code",
   "execution_count": 201,
   "id": "dfe512fe",
   "metadata": {},
   "outputs": [
    {
     "data": {
      "text/html": [
       "<div>\n",
       "<style scoped>\n",
       "    .dataframe tbody tr th:only-of-type {\n",
       "        vertical-align: middle;\n",
       "    }\n",
       "\n",
       "    .dataframe tbody tr th {\n",
       "        vertical-align: top;\n",
       "    }\n",
       "\n",
       "    .dataframe thead th {\n",
       "        text-align: right;\n",
       "    }\n",
       "</style>\n",
       "<table border=\"1\" class=\"dataframe\">\n",
       "  <thead>\n",
       "    <tr style=\"text-align: right;\">\n",
       "      <th></th>\n",
       "      <th>Reviewers</th>\n",
       "      <th>Correlations</th>\n",
       "    </tr>\n",
       "  </thead>\n",
       "  <tbody>\n",
       "    <tr>\n",
       "      <th>0</th>\n",
       "      <td>Steeges</td>\n",
       "      <td>0.0</td>\n",
       "    </tr>\n",
       "    <tr>\n",
       "      <th>1</th>\n",
       "      <td>z4yr</td>\n",
       "      <td>1.0</td>\n",
       "    </tr>\n",
       "    <tr>\n",
       "      <th>2</th>\n",
       "      <td>Kylin</td>\n",
       "      <td>NaN</td>\n",
       "    </tr>\n",
       "    <tr>\n",
       "      <th>3</th>\n",
       "      <td>Jshua</td>\n",
       "      <td>0.0</td>\n",
       "    </tr>\n",
       "  </tbody>\n",
       "</table>\n",
       "</div>"
      ],
      "text/plain": [
       "  Reviewers  Correlations\n",
       "0   Steeges           0.0\n",
       "1      z4yr           1.0\n",
       "2     Kylin           NaN\n",
       "3     Jshua           0.0"
      ]
     },
     "execution_count": 201,
     "metadata": {},
     "output_type": "execute_result"
    }
   ],
   "source": [
    "df = pd.DataFrame()\n",
    "df[\"Reviewers\"] = [\"Steeges\", \"z4yr\", \"Kylin\", \"Jshua\"]\n",
    "df[\"Correlations\"] = [0.0, 1.0, np.NaN, 0.0]\n",
    "df"
   ]
  },
  {
   "cell_type": "code",
   "execution_count": 202,
   "id": "0efd02ee",
   "metadata": {
    "collapsed": true
   },
   "outputs": [
    {
     "data": {
      "application/vnd.plotly.v1+json": {
       "config": {
        "plotlyServerURL": "https://plot.ly"
       },
       "data": [
        {
         "alignmentgroup": "True",
         "hovertemplate": "Reviewers=%{x}<br>Correlations=%{marker.color}<extra></extra>",
         "legendgroup": "",
         "marker": {
          "color": [
           0,
           1,
           null,
           0
          ],
          "coloraxis": "coloraxis",
          "pattern": {
           "shape": ""
          }
         },
         "name": "",
         "offsetgroup": "",
         "orientation": "v",
         "showlegend": false,
         "textposition": "auto",
         "type": "bar",
         "x": [
          "Steeges",
          "z4yr",
          "Kylin",
          "Jshua"
         ],
         "xaxis": "x",
         "y": [
          0,
          1,
          null,
          0
         ],
         "yaxis": "y"
        }
       ],
       "layout": {
        "barmode": "relative",
        "coloraxis": {
         "colorbar": {
          "title": {
           "text": "Correlations"
          }
         },
         "colorscale": [
          [
           0,
           "rgb(158,1,66)"
          ],
          [
           0.1,
           "rgb(213,62,79)"
          ],
          [
           0.2,
           "rgb(244,109,67)"
          ],
          [
           0.3,
           "rgb(253,174,97)"
          ],
          [
           0.4,
           "rgb(254,224,139)"
          ],
          [
           0.5,
           "rgb(255,255,191)"
          ],
          [
           0.6,
           "rgb(230,245,152)"
          ],
          [
           0.7,
           "rgb(171,221,164)"
          ],
          [
           0.8,
           "rgb(102,194,165)"
          ],
          [
           0.9,
           "rgb(50,136,189)"
          ],
          [
           1,
           "rgb(94,79,162)"
          ]
         ]
        },
        "legend": {
         "tracegroupgap": 0
        },
        "template": {
         "data": {
          "pie": [
           {
            "automargin": true,
            "type": "pie"
           }
          ],
          "scatter": [
           {
            "line": {
             "width": 3
            },
            "marker": {
             "size": 9
            },
            "type": "scatter"
           }
          ],
          "scatter3d": [
           {
            "line": {
             "width": 3
            },
            "marker": {
             "size": 9
            },
            "type": "scatter3d"
           }
          ],
          "scattergeo": [
           {
            "line": {
             "width": 3
            },
            "marker": {
             "size": 9
            },
            "type": "scattergeo"
           }
          ],
          "scattergl": [
           {
            "line": {
             "width": 3
            },
            "marker": {
             "size": 9
            },
            "type": "scattergl"
           }
          ],
          "scatterpolar": [
           {
            "line": {
             "width": 3
            },
            "marker": {
             "size": 9
            },
            "type": "scatterpolar"
           }
          ],
          "scatterpolargl": [
           {
            "line": {
             "width": 3
            },
            "marker": {
             "size": 9
            },
            "type": "scatterpolargl"
           }
          ],
          "scatterternary": [
           {
            "line": {
             "width": 3
            },
            "marker": {
             "size": 9
            },
            "type": "scatterternary"
           }
          ],
          "table": [
           {
            "cells": {
             "height": 30
            },
            "header": {
             "height": 36
            },
            "type": "table"
           }
          ]
         },
         "layout": {
          "font": {
           "size": 18
          },
          "xaxis": {
           "title": {
            "standoff": 15
           }
          },
          "yaxis": {
           "title": {
            "standoff": 15
           }
          }
         }
        },
        "title": {
         "text": "Cohen-kappa score of Proof with other reviewers"
        },
        "xaxis": {
         "anchor": "y",
         "domain": [
          0,
          1
         ],
         "title": {
          "text": "Reviewers"
         }
        },
        "yaxis": {
         "anchor": "x",
         "domain": [
          0,
          1
         ],
         "title": {
          "text": "Correlations"
         }
        }
       }
      },
      "text/html": [
       "<div>                            <div id=\"51137ad4-54df-42c8-9cc3-3bd8d518e560\" class=\"plotly-graph-div\" style=\"height:525px; width:100%;\"></div>            <script type=\"text/javascript\">                require([\"plotly\"], function(Plotly) {                    window.PLOTLYENV=window.PLOTLYENV || {};                                    if (document.getElementById(\"51137ad4-54df-42c8-9cc3-3bd8d518e560\")) {                    Plotly.newPlot(                        \"51137ad4-54df-42c8-9cc3-3bd8d518e560\",                        [{\"alignmentgroup\":\"True\",\"hovertemplate\":\"Reviewers=%{x}<br>Correlations=%{marker.color}<extra></extra>\",\"legendgroup\":\"\",\"marker\":{\"color\":[0.0,1.0,null,0.0],\"coloraxis\":\"coloraxis\",\"pattern\":{\"shape\":\"\"}},\"name\":\"\",\"offsetgroup\":\"\",\"orientation\":\"v\",\"showlegend\":false,\"textposition\":\"auto\",\"type\":\"bar\",\"x\":[\"Steeges\",\"z4yr\",\"Kylin\",\"Jshua\"],\"xaxis\":\"x\",\"y\":[0.0,1.0,null,0.0],\"yaxis\":\"y\"}],                        {\"barmode\":\"relative\",\"coloraxis\":{\"colorbar\":{\"title\":{\"text\":\"Correlations\"}},\"colorscale\":[[0.0,\"rgb(158,1,66)\"],[0.1,\"rgb(213,62,79)\"],[0.2,\"rgb(244,109,67)\"],[0.3,\"rgb(253,174,97)\"],[0.4,\"rgb(254,224,139)\"],[0.5,\"rgb(255,255,191)\"],[0.6,\"rgb(230,245,152)\"],[0.7,\"rgb(171,221,164)\"],[0.8,\"rgb(102,194,165)\"],[0.9,\"rgb(50,136,189)\"],[1.0,\"rgb(94,79,162)\"]]},\"legend\":{\"tracegroupgap\":0},\"template\":{\"data\":{\"pie\":[{\"automargin\":true,\"type\":\"pie\"}],\"scatter\":[{\"line\":{\"width\":3},\"marker\":{\"size\":9},\"type\":\"scatter\"}],\"scatter3d\":[{\"line\":{\"width\":3},\"marker\":{\"size\":9},\"type\":\"scatter3d\"}],\"scattergeo\":[{\"line\":{\"width\":3},\"marker\":{\"size\":9},\"type\":\"scattergeo\"}],\"scattergl\":[{\"line\":{\"width\":3},\"marker\":{\"size\":9},\"type\":\"scattergl\"}],\"scatterpolar\":[{\"line\":{\"width\":3},\"marker\":{\"size\":9},\"type\":\"scatterpolar\"}],\"scatterpolargl\":[{\"line\":{\"width\":3},\"marker\":{\"size\":9},\"type\":\"scatterpolargl\"}],\"scatterternary\":[{\"line\":{\"width\":3},\"marker\":{\"size\":9},\"type\":\"scatterternary\"}],\"table\":[{\"cells\":{\"height\":30},\"header\":{\"height\":36},\"type\":\"table\"}]},\"layout\":{\"font\":{\"size\":18},\"xaxis\":{\"title\":{\"standoff\":15}},\"yaxis\":{\"title\":{\"standoff\":15}}}},\"title\":{\"text\":\"Cohen-kappa score of Proof with other reviewers\"},\"xaxis\":{\"anchor\":\"y\",\"domain\":[0.0,1.0],\"title\":{\"text\":\"Reviewers\"}},\"yaxis\":{\"anchor\":\"x\",\"domain\":[0.0,1.0],\"title\":{\"text\":\"Correlations\"}}},                        {\"responsive\": true}                    ).then(function(){\n",
       "                            \n",
       "var gd = document.getElementById('51137ad4-54df-42c8-9cc3-3bd8d518e560');\n",
       "var x = new MutationObserver(function (mutations, observer) {{\n",
       "        var display = window.getComputedStyle(gd).display;\n",
       "        if (!display || display === 'none') {{\n",
       "            console.log([gd, 'removed!']);\n",
       "            Plotly.purge(gd);\n",
       "            observer.disconnect();\n",
       "        }}\n",
       "}});\n",
       "\n",
       "// Listen for the removal of the full notebook cells\n",
       "var notebookContainer = gd.closest('#notebook-container');\n",
       "if (notebookContainer) {{\n",
       "    x.observe(notebookContainer, {childList: true});\n",
       "}}\n",
       "\n",
       "// Listen for the clearing of the current output cell\n",
       "var outputEl = gd.closest('.output');\n",
       "if (outputEl) {{\n",
       "    x.observe(outputEl, {childList: true});\n",
       "}}\n",
       "\n",
       "                        })                };                });            </script>        </div>"
      ]
     },
     "metadata": {},
     "output_type": "display_data"
    }
   ],
   "source": [
    "px.bar(data_frame=df, \n",
    "      x= \"Reviewers\",\n",
    "      y=\"Correlations\",\n",
    "      color=\"Correlations\",\n",
    "       template=\"presentation\",\n",
    "      color_continuous_scale=px.colors.diverging.Spectral,\n",
    "       title=\"Cohen-kappa score of Proof with other reviewers\",\n",
    "      #width=500\n",
    "      )"
   ]
  },
  {
   "cell_type": "code",
   "execution_count": null,
   "id": "14beef6f",
   "metadata": {},
   "outputs": [],
   "source": [
    "emmanuel, dog, flob, emma_j, greg"
   ]
  },
  {
   "cell_type": "markdown",
   "id": "d7aeeb50",
   "metadata": {},
   "source": [
    "## Emmanuel"
   ]
  },
  {
   "cell_type": "code",
   "execution_count": 203,
   "id": "41bb36af",
   "metadata": {
    "collapsed": true
   },
   "outputs": [
    {
     "data": {
      "text/plain": [
       "[['adebola', 0],\n",
       " ['am', 0],\n",
       " ['ann', 0],\n",
       " ['anuj', 0],\n",
       " ['elbeth', 0],\n",
       " ['bfa', 1],\n",
       " ['gold', 1],\n",
       " ['bob', 0],\n",
       " ['lkh', 2],\n",
       " ['waka', 0],\n",
       " ['trice', 2],\n",
       " ['proof', 1],\n",
       " ['emmanuel', 60],\n",
       " ['fizzy', 0],\n",
       " ['dog', 3],\n",
       " ['flob', 1],\n",
       " ['emma_j', 1],\n",
       " ['greg', 1],\n",
       " ['grey', 4],\n",
       " ['stel', 2],\n",
       " ['jshua', 0],\n",
       " ['kish', 1],\n",
       " ['kylin', 0],\n",
       " ['z4yr', 1],\n",
       " ['hound', 1],\n",
       " ['mount', 3],\n",
       " ['nadalie', 1],\n",
       " ['richard', 2],\n",
       " ['ogunjo', 0],\n",
       " ['am2', 2],\n",
       " ['robot', 0],\n",
       " ['ann2', 1],\n",
       " ['steeges', 2],\n",
       " ['vik', 3],\n",
       " ['socal', 1],\n",
       " ['wolfman', 0],\n",
       " ['zer', 0],\n",
       " ['elbeth2', 1],\n",
       " ['bob2', 0],\n",
       " ['lkh2', 0],\n",
       " ['fizzy2', 0],\n",
       " ['trice2', 0],\n",
       " ['flob2', 0],\n",
       " ['greg2', 1],\n",
       " ['grey2', 0],\n",
       " ['stele2', 1],\n",
       " ['hound2', 1],\n",
       " ['richard2', 0],\n",
       " ['ogunjo2', 0],\n",
       " ['vik2', 0],\n",
       " ['wolfman2', 2]]"
      ]
     },
     "execution_count": 203,
     "metadata": {},
     "output_type": "execute_result"
    }
   ],
   "source": [
    "find_common_handles(emmanuel)"
   ]
  },
  {
   "cell_type": "code",
   "execution_count": 365,
   "id": "67e6e7d1",
   "metadata": {},
   "outputs": [],
   "source": [
    "#dog, grey, mount\n",
    "\n",
    "emma_dog = create_table(emmanuel, dog)\n",
    "emma_grey = create_table(emmanuel, grey)\n",
    "emma_mount = create_table(emmanuel, mount)\n",
    "emma_ml = create_table(emmanuel, ml_anon)"
   ]
  },
  {
   "cell_type": "code",
   "execution_count": 366,
   "id": "7ef86f1e",
   "metadata": {},
   "outputs": [
    {
     "data": {
      "text/plain": [
       "[0.3333333333333333, 0.5, 0.3333333333333333, 0.4666666666666667]"
      ]
     },
     "execution_count": 366,
     "metadata": {},
     "output_type": "execute_result"
    }
   ],
   "source": [
    "[total_agreement(emma_dog, \"emmanuel\", \"dog\"), total_agreement(emma_grey, \"emmanuel\", \"grey\"),\n",
    " total_agreement(emma_mount, \"emmanuel\", \"mount\"), total_agreement(emma_ml, \"emmanuel\", \"ml_anon\")]"
   ]
  },
  {
   "cell_type": "code",
   "execution_count": 206,
   "id": "13cdae8c",
   "metadata": {},
   "outputs": [
    {
     "data": {
      "text/plain": [
       "[0.0, 0.19999999999999996, 0.0]"
      ]
     },
     "execution_count": 206,
     "metadata": {},
     "output_type": "execute_result"
    }
   ],
   "source": [
    "[cohen_kappa_score(emma_dog[\"Is Sybil? (T or F)emmanuel\"], emma_dog[\"Is Sybil? (T or F)dog\"]),\n",
    " \n",
    "cohen_kappa_score(emma_grey[\"Is Sybil? (T or F)emmanuel\"], emma_grey[\"Is Sybil? (T or F)grey\"]),\n",
    " \n",
    "cohen_kappa_score(emma_mount[\"Is Sybil? (T or F)emmanuel\"], emma_mount[\"Is Sybil? (T or F)mount\"])]"
   ]
  },
  {
   "cell_type": "code",
   "execution_count": 38,
   "id": "329e8d73",
   "metadata": {},
   "outputs": [
    {
     "data": {
      "text/plain": [
       "-0.0821643286573146"
      ]
     },
     "execution_count": 38,
     "metadata": {},
     "output_type": "execute_result"
    }
   ],
   "source": [
    "cohen(emmanuel, ml_anon)"
   ]
  },
  {
   "cell_type": "code",
   "execution_count": 207,
   "id": "e07f5bb9",
   "metadata": {},
   "outputs": [
    {
     "data": {
      "text/html": [
       "<div>\n",
       "<style scoped>\n",
       "    .dataframe tbody tr th:only-of-type {\n",
       "        vertical-align: middle;\n",
       "    }\n",
       "\n",
       "    .dataframe tbody tr th {\n",
       "        vertical-align: top;\n",
       "    }\n",
       "\n",
       "    .dataframe thead th {\n",
       "        text-align: right;\n",
       "    }\n",
       "</style>\n",
       "<table border=\"1\" class=\"dataframe\">\n",
       "  <thead>\n",
       "    <tr style=\"text-align: right;\">\n",
       "      <th></th>\n",
       "      <th>Reviewers</th>\n",
       "      <th>Correlations</th>\n",
       "    </tr>\n",
       "  </thead>\n",
       "  <tbody>\n",
       "    <tr>\n",
       "      <th>0</th>\n",
       "      <td>Dogg</td>\n",
       "      <td>0.0</td>\n",
       "    </tr>\n",
       "    <tr>\n",
       "      <th>1</th>\n",
       "      <td>Grey</td>\n",
       "      <td>0.2</td>\n",
       "    </tr>\n",
       "    <tr>\n",
       "      <th>2</th>\n",
       "      <td>Mount</td>\n",
       "      <td>0.0</td>\n",
       "    </tr>\n",
       "  </tbody>\n",
       "</table>\n",
       "</div>"
      ],
      "text/plain": [
       "  Reviewers  Correlations\n",
       "0      Dogg           0.0\n",
       "1      Grey           0.2\n",
       "2     Mount           0.0"
      ]
     },
     "execution_count": 207,
     "metadata": {},
     "output_type": "execute_result"
    }
   ],
   "source": [
    "df = pd.DataFrame()\n",
    "df[\"Reviewers\"] = [\"Dogg\", \"Grey\", \"Mount\"]\n",
    "df[\"Correlations\"] = [0.0, 0.19999999999999996, 0.0]\n",
    "df"
   ]
  },
  {
   "cell_type": "code",
   "execution_count": 208,
   "id": "b587538f",
   "metadata": {
    "collapsed": true
   },
   "outputs": [
    {
     "data": {
      "application/vnd.plotly.v1+json": {
       "config": {
        "plotlyServerURL": "https://plot.ly"
       },
       "data": [
        {
         "alignmentgroup": "True",
         "hovertemplate": "Reviewers=%{x}<br>Correlations=%{marker.color}<extra></extra>",
         "legendgroup": "",
         "marker": {
          "color": [
           0,
           0.19999999999999996,
           0
          ],
          "coloraxis": "coloraxis",
          "pattern": {
           "shape": ""
          }
         },
         "name": "",
         "offsetgroup": "",
         "orientation": "v",
         "showlegend": false,
         "textposition": "auto",
         "type": "bar",
         "x": [
          "Dogg",
          "Grey",
          "Mount"
         ],
         "xaxis": "x",
         "y": [
          0,
          0.19999999999999996,
          0
         ],
         "yaxis": "y"
        }
       ],
       "layout": {
        "barmode": "relative",
        "coloraxis": {
         "colorbar": {
          "title": {
           "text": "Correlations"
          }
         },
         "colorscale": [
          [
           0,
           "rgb(158,1,66)"
          ],
          [
           0.1,
           "rgb(213,62,79)"
          ],
          [
           0.2,
           "rgb(244,109,67)"
          ],
          [
           0.3,
           "rgb(253,174,97)"
          ],
          [
           0.4,
           "rgb(254,224,139)"
          ],
          [
           0.5,
           "rgb(255,255,191)"
          ],
          [
           0.6,
           "rgb(230,245,152)"
          ],
          [
           0.7,
           "rgb(171,221,164)"
          ],
          [
           0.8,
           "rgb(102,194,165)"
          ],
          [
           0.9,
           "rgb(50,136,189)"
          ],
          [
           1,
           "rgb(94,79,162)"
          ]
         ]
        },
        "legend": {
         "tracegroupgap": 0
        },
        "template": {
         "data": {
          "pie": [
           {
            "automargin": true,
            "type": "pie"
           }
          ],
          "scatter": [
           {
            "line": {
             "width": 3
            },
            "marker": {
             "size": 9
            },
            "type": "scatter"
           }
          ],
          "scatter3d": [
           {
            "line": {
             "width": 3
            },
            "marker": {
             "size": 9
            },
            "type": "scatter3d"
           }
          ],
          "scattergeo": [
           {
            "line": {
             "width": 3
            },
            "marker": {
             "size": 9
            },
            "type": "scattergeo"
           }
          ],
          "scattergl": [
           {
            "line": {
             "width": 3
            },
            "marker": {
             "size": 9
            },
            "type": "scattergl"
           }
          ],
          "scatterpolar": [
           {
            "line": {
             "width": 3
            },
            "marker": {
             "size": 9
            },
            "type": "scatterpolar"
           }
          ],
          "scatterpolargl": [
           {
            "line": {
             "width": 3
            },
            "marker": {
             "size": 9
            },
            "type": "scatterpolargl"
           }
          ],
          "scatterternary": [
           {
            "line": {
             "width": 3
            },
            "marker": {
             "size": 9
            },
            "type": "scatterternary"
           }
          ],
          "table": [
           {
            "cells": {
             "height": 30
            },
            "header": {
             "height": 36
            },
            "type": "table"
           }
          ]
         },
         "layout": {
          "font": {
           "size": 18
          },
          "xaxis": {
           "title": {
            "standoff": 15
           }
          },
          "yaxis": {
           "title": {
            "standoff": 15
           }
          }
         }
        },
        "title": {
         "text": "Cohen-kappa score of Emmanuel with other reviewers"
        },
        "xaxis": {
         "anchor": "y",
         "domain": [
          0,
          1
         ],
         "title": {
          "text": "Reviewers"
         }
        },
        "yaxis": {
         "anchor": "x",
         "domain": [
          0,
          1
         ],
         "title": {
          "text": "Correlations"
         }
        }
       }
      },
      "text/html": [
       "<div>                            <div id=\"572e45a5-b39d-4569-a018-9fcc181a0d73\" class=\"plotly-graph-div\" style=\"height:525px; width:100%;\"></div>            <script type=\"text/javascript\">                require([\"plotly\"], function(Plotly) {                    window.PLOTLYENV=window.PLOTLYENV || {};                                    if (document.getElementById(\"572e45a5-b39d-4569-a018-9fcc181a0d73\")) {                    Plotly.newPlot(                        \"572e45a5-b39d-4569-a018-9fcc181a0d73\",                        [{\"alignmentgroup\":\"True\",\"hovertemplate\":\"Reviewers=%{x}<br>Correlations=%{marker.color}<extra></extra>\",\"legendgroup\":\"\",\"marker\":{\"color\":[0.0,0.19999999999999996,0.0],\"coloraxis\":\"coloraxis\",\"pattern\":{\"shape\":\"\"}},\"name\":\"\",\"offsetgroup\":\"\",\"orientation\":\"v\",\"showlegend\":false,\"textposition\":\"auto\",\"type\":\"bar\",\"x\":[\"Dogg\",\"Grey\",\"Mount\"],\"xaxis\":\"x\",\"y\":[0.0,0.19999999999999996,0.0],\"yaxis\":\"y\"}],                        {\"barmode\":\"relative\",\"coloraxis\":{\"colorbar\":{\"title\":{\"text\":\"Correlations\"}},\"colorscale\":[[0.0,\"rgb(158,1,66)\"],[0.1,\"rgb(213,62,79)\"],[0.2,\"rgb(244,109,67)\"],[0.3,\"rgb(253,174,97)\"],[0.4,\"rgb(254,224,139)\"],[0.5,\"rgb(255,255,191)\"],[0.6,\"rgb(230,245,152)\"],[0.7,\"rgb(171,221,164)\"],[0.8,\"rgb(102,194,165)\"],[0.9,\"rgb(50,136,189)\"],[1.0,\"rgb(94,79,162)\"]]},\"legend\":{\"tracegroupgap\":0},\"template\":{\"data\":{\"pie\":[{\"automargin\":true,\"type\":\"pie\"}],\"scatter\":[{\"line\":{\"width\":3},\"marker\":{\"size\":9},\"type\":\"scatter\"}],\"scatter3d\":[{\"line\":{\"width\":3},\"marker\":{\"size\":9},\"type\":\"scatter3d\"}],\"scattergeo\":[{\"line\":{\"width\":3},\"marker\":{\"size\":9},\"type\":\"scattergeo\"}],\"scattergl\":[{\"line\":{\"width\":3},\"marker\":{\"size\":9},\"type\":\"scattergl\"}],\"scatterpolar\":[{\"line\":{\"width\":3},\"marker\":{\"size\":9},\"type\":\"scatterpolar\"}],\"scatterpolargl\":[{\"line\":{\"width\":3},\"marker\":{\"size\":9},\"type\":\"scatterpolargl\"}],\"scatterternary\":[{\"line\":{\"width\":3},\"marker\":{\"size\":9},\"type\":\"scatterternary\"}],\"table\":[{\"cells\":{\"height\":30},\"header\":{\"height\":36},\"type\":\"table\"}]},\"layout\":{\"font\":{\"size\":18},\"xaxis\":{\"title\":{\"standoff\":15}},\"yaxis\":{\"title\":{\"standoff\":15}}}},\"title\":{\"text\":\"Cohen-kappa score of Emmanuel with other reviewers\"},\"xaxis\":{\"anchor\":\"y\",\"domain\":[0.0,1.0],\"title\":{\"text\":\"Reviewers\"}},\"yaxis\":{\"anchor\":\"x\",\"domain\":[0.0,1.0],\"title\":{\"text\":\"Correlations\"}}},                        {\"responsive\": true}                    ).then(function(){\n",
       "                            \n",
       "var gd = document.getElementById('572e45a5-b39d-4569-a018-9fcc181a0d73');\n",
       "var x = new MutationObserver(function (mutations, observer) {{\n",
       "        var display = window.getComputedStyle(gd).display;\n",
       "        if (!display || display === 'none') {{\n",
       "            console.log([gd, 'removed!']);\n",
       "            Plotly.purge(gd);\n",
       "            observer.disconnect();\n",
       "        }}\n",
       "}});\n",
       "\n",
       "// Listen for the removal of the full notebook cells\n",
       "var notebookContainer = gd.closest('#notebook-container');\n",
       "if (notebookContainer) {{\n",
       "    x.observe(notebookContainer, {childList: true});\n",
       "}}\n",
       "\n",
       "// Listen for the clearing of the current output cell\n",
       "var outputEl = gd.closest('.output');\n",
       "if (outputEl) {{\n",
       "    x.observe(outputEl, {childList: true});\n",
       "}}\n",
       "\n",
       "                        })                };                });            </script>        </div>"
      ]
     },
     "metadata": {},
     "output_type": "display_data"
    }
   ],
   "source": [
    "px.bar(data_frame=df, \n",
    "      x= \"Reviewers\",\n",
    "      y=\"Correlations\",\n",
    "      color=\"Correlations\",\n",
    "       template=\"presentation\",\n",
    "      color_continuous_scale=px.colors.diverging.Spectral,\n",
    "       title=\"Cohen-kappa score of Emmanuel with other reviewers\",\n",
    "      #width=500\n",
    "      )"
   ]
  },
  {
   "cell_type": "markdown",
   "id": "4d420d22",
   "metadata": {},
   "source": [
    "## Dogg"
   ]
  },
  {
   "cell_type": "code",
   "execution_count": 209,
   "id": "74a9282e",
   "metadata": {
    "collapsed": true
   },
   "outputs": [
    {
     "data": {
      "text/plain": [
       "[['adebola', 0],\n",
       " ['am', 0],\n",
       " ['ann', 0],\n",
       " ['anuj', 2],\n",
       " ['elbeth', 1],\n",
       " ['bfa', 5],\n",
       " ['gold', 1],\n",
       " ['bob', 1],\n",
       " ['lkh', 3],\n",
       " ['waka', 0],\n",
       " ['trice', 2],\n",
       " ['proof', 1],\n",
       " ['emmanuel', 3],\n",
       " ['fizzy', 0],\n",
       " ['dog', 60],\n",
       " ['flob', 1],\n",
       " ['emma_j', 1],\n",
       " ['greg', 1],\n",
       " ['grey', 1],\n",
       " ['stel', 4],\n",
       " ['jshua', 0],\n",
       " ['kish', 0],\n",
       " ['kylin', 0],\n",
       " ['z4yr', 0],\n",
       " ['hound', 1],\n",
       " ['mount', 0],\n",
       " ['nadalie', 2],\n",
       " ['richard', 0],\n",
       " ['ogunjo', 0],\n",
       " ['am2', 1],\n",
       " ['robot', 0],\n",
       " ['ann2', 3],\n",
       " ['steeges', 1],\n",
       " ['vik', 2],\n",
       " ['socal', 1],\n",
       " ['wolfman', 2],\n",
       " ['zer', 1],\n",
       " ['elbeth2', 1],\n",
       " ['bob2', 3],\n",
       " ['lkh2', 0],\n",
       " ['fizzy2', 1],\n",
       " ['trice2', 0],\n",
       " ['flob2', 0],\n",
       " ['greg2', 2],\n",
       " ['grey2', 1],\n",
       " ['stele2', 1],\n",
       " ['hound2', 1],\n",
       " ['richard2', 1],\n",
       " ['ogunjo2', 0],\n",
       " ['vik2', 0],\n",
       " ['wolfman2', 0]]"
      ]
     },
     "execution_count": 209,
     "metadata": {},
     "output_type": "execute_result"
    }
   ],
   "source": [
    "find_common_handles(dog)"
   ]
  },
  {
   "cell_type": "code",
   "execution_count": 369,
   "id": "60831754",
   "metadata": {},
   "outputs": [],
   "source": [
    "#bfa, emmanuel, bob2 ann2\n",
    "dog_bfa = create_table(dog, bfa)\n",
    "dog_emma = create_table(dog, emmanuel)\n",
    "dog_bob2 = create_table(dog, bob2)\n",
    "dog_ann2 = create_table(dog, ann2)\n",
    "dog_ml = create_table(dog, ml_anon)"
   ]
  },
  {
   "cell_type": "code",
   "execution_count": 370,
   "id": "7ea01a2b",
   "metadata": {},
   "outputs": [
    {
     "data": {
      "text/plain": [
       "[0.8, 0.3333333333333333, 1.0, 0.6666666666666666, 0.525]"
      ]
     },
     "execution_count": 370,
     "metadata": {},
     "output_type": "execute_result"
    }
   ],
   "source": [
    "[total_agreement(dog_bfa, \"dog\", \"bfa\"), total_agreement(dog_emma, \"dog\", \"emmanuel\"),\n",
    " total_agreement(dog_bob2, \"dog\", \"bob2\"), total_agreement(dog_ann2, \"dog\", \"ann2\"),\n",
    " total_agreement(dog_ml, \"dog\", \"ml_anon\")]"
   ]
  },
  {
   "cell_type": "code",
   "execution_count": 211,
   "id": "947b5dfd",
   "metadata": {},
   "outputs": [
    {
     "name": "stderr",
     "output_type": "stream",
     "text": [
      "C:\\Users\\user\\AppData\\Roaming\\Python\\Python37\\site-packages\\sklearn\\metrics\\_classification.py:658: RuntimeWarning:\n",
      "\n",
      "invalid value encountered in true_divide\n",
      "\n"
     ]
    },
    {
     "data": {
      "text/plain": [
       "[0.5454545454545454, 0.0, nan, 0.0]"
      ]
     },
     "execution_count": 211,
     "metadata": {},
     "output_type": "execute_result"
    }
   ],
   "source": [
    "[cohen_kappa_score(dog_bfa[\"Is Sybil? (T or F)dog\"], dog_bfa[\"Is Sybil? (T or F)bfa\"]),\n",
    " \n",
    "cohen_kappa_score(dog_emma[\"Is Sybil? (T or F)dog\"], dog_emma[\"Is Sybil? (T or F)emmanuel\"]),\n",
    " \n",
    "cohen_kappa_score(dog_bob2[\"Is Sybil? (T or F)dog\"], dog_bob2[\"Is Sybil? (T or F)bob2\"]),\n",
    "\n",
    "cohen_kappa_score(dog_ann2[\"Is Sybil? (T or F)dog\"], dog_ann2[\"Is Sybil? (T or F)ann2\"])]"
   ]
  },
  {
   "cell_type": "code",
   "execution_count": 39,
   "id": "050f89d4",
   "metadata": {},
   "outputs": [
    {
     "data": {
      "text/plain": [
       "0.17391304347826086"
      ]
     },
     "execution_count": 39,
     "metadata": {},
     "output_type": "execute_result"
    }
   ],
   "source": [
    "cohen(dog, ml_anon)"
   ]
  },
  {
   "cell_type": "code",
   "execution_count": 212,
   "id": "43bc2983",
   "metadata": {
    "scrolled": true
   },
   "outputs": [
    {
     "data": {
      "text/html": [
       "<div>\n",
       "<style scoped>\n",
       "    .dataframe tbody tr th:only-of-type {\n",
       "        vertical-align: middle;\n",
       "    }\n",
       "\n",
       "    .dataframe tbody tr th {\n",
       "        vertical-align: top;\n",
       "    }\n",
       "\n",
       "    .dataframe thead th {\n",
       "        text-align: right;\n",
       "    }\n",
       "</style>\n",
       "<table border=\"1\" class=\"dataframe\">\n",
       "  <thead>\n",
       "    <tr style=\"text-align: right;\">\n",
       "      <th></th>\n",
       "      <th>Reviewers</th>\n",
       "      <th>Correlations</th>\n",
       "    </tr>\n",
       "  </thead>\n",
       "  <tbody>\n",
       "    <tr>\n",
       "      <th>0</th>\n",
       "      <td>BFA</td>\n",
       "      <td>0.545455</td>\n",
       "    </tr>\n",
       "    <tr>\n",
       "      <th>1</th>\n",
       "      <td>Emmanuel</td>\n",
       "      <td>0.000000</td>\n",
       "    </tr>\n",
       "    <tr>\n",
       "      <th>2</th>\n",
       "      <td>Bob</td>\n",
       "      <td>NaN</td>\n",
       "    </tr>\n",
       "    <tr>\n",
       "      <th>3</th>\n",
       "      <td>Ann</td>\n",
       "      <td>0.000000</td>\n",
       "    </tr>\n",
       "  </tbody>\n",
       "</table>\n",
       "</div>"
      ],
      "text/plain": [
       "  Reviewers  Correlations\n",
       "0       BFA      0.545455\n",
       "1  Emmanuel      0.000000\n",
       "2       Bob           NaN\n",
       "3       Ann      0.000000"
      ]
     },
     "execution_count": 212,
     "metadata": {},
     "output_type": "execute_result"
    }
   ],
   "source": [
    "nan = np.NaN\n",
    "\n",
    "df = pd.DataFrame()\n",
    "df[\"Reviewers\"] = [\"BFA\", \"Emmanuel\", \"Bob\", \"Ann\"]\n",
    "df[\"Correlations\"] = [0.5454545454545454, 0.0, nan, 0.0]\n",
    "df"
   ]
  },
  {
   "cell_type": "code",
   "execution_count": 213,
   "id": "41b479d0",
   "metadata": {
    "collapsed": true
   },
   "outputs": [
    {
     "data": {
      "application/vnd.plotly.v1+json": {
       "config": {
        "plotlyServerURL": "https://plot.ly"
       },
       "data": [
        {
         "alignmentgroup": "True",
         "hovertemplate": "Reviewers=%{x}<br>Correlations=%{marker.color}<extra></extra>",
         "legendgroup": "",
         "marker": {
          "color": [
           0.5454545454545454,
           0,
           null,
           0
          ],
          "coloraxis": "coloraxis",
          "pattern": {
           "shape": ""
          }
         },
         "name": "",
         "offsetgroup": "",
         "orientation": "v",
         "showlegend": false,
         "textposition": "auto",
         "type": "bar",
         "x": [
          "BFA",
          "Emmanuel",
          "Bob",
          "Ann"
         ],
         "xaxis": "x",
         "y": [
          0.5454545454545454,
          0,
          null,
          0
         ],
         "yaxis": "y"
        }
       ],
       "layout": {
        "barmode": "relative",
        "coloraxis": {
         "colorbar": {
          "title": {
           "text": "Correlations"
          }
         },
         "colorscale": [
          [
           0,
           "rgb(158,1,66)"
          ],
          [
           0.1,
           "rgb(213,62,79)"
          ],
          [
           0.2,
           "rgb(244,109,67)"
          ],
          [
           0.3,
           "rgb(253,174,97)"
          ],
          [
           0.4,
           "rgb(254,224,139)"
          ],
          [
           0.5,
           "rgb(255,255,191)"
          ],
          [
           0.6,
           "rgb(230,245,152)"
          ],
          [
           0.7,
           "rgb(171,221,164)"
          ],
          [
           0.8,
           "rgb(102,194,165)"
          ],
          [
           0.9,
           "rgb(50,136,189)"
          ],
          [
           1,
           "rgb(94,79,162)"
          ]
         ]
        },
        "legend": {
         "tracegroupgap": 0
        },
        "template": {
         "data": {
          "pie": [
           {
            "automargin": true,
            "type": "pie"
           }
          ],
          "scatter": [
           {
            "line": {
             "width": 3
            },
            "marker": {
             "size": 9
            },
            "type": "scatter"
           }
          ],
          "scatter3d": [
           {
            "line": {
             "width": 3
            },
            "marker": {
             "size": 9
            },
            "type": "scatter3d"
           }
          ],
          "scattergeo": [
           {
            "line": {
             "width": 3
            },
            "marker": {
             "size": 9
            },
            "type": "scattergeo"
           }
          ],
          "scattergl": [
           {
            "line": {
             "width": 3
            },
            "marker": {
             "size": 9
            },
            "type": "scattergl"
           }
          ],
          "scatterpolar": [
           {
            "line": {
             "width": 3
            },
            "marker": {
             "size": 9
            },
            "type": "scatterpolar"
           }
          ],
          "scatterpolargl": [
           {
            "line": {
             "width": 3
            },
            "marker": {
             "size": 9
            },
            "type": "scatterpolargl"
           }
          ],
          "scatterternary": [
           {
            "line": {
             "width": 3
            },
            "marker": {
             "size": 9
            },
            "type": "scatterternary"
           }
          ],
          "table": [
           {
            "cells": {
             "height": 30
            },
            "header": {
             "height": 36
            },
            "type": "table"
           }
          ]
         },
         "layout": {
          "font": {
           "size": 18
          },
          "xaxis": {
           "title": {
            "standoff": 15
           }
          },
          "yaxis": {
           "title": {
            "standoff": 15
           }
          }
         }
        },
        "title": {
         "text": "Cohen-kappa score of Dogg with other reviewers"
        },
        "xaxis": {
         "anchor": "y",
         "domain": [
          0,
          1
         ],
         "title": {
          "text": "Reviewers"
         }
        },
        "yaxis": {
         "anchor": "x",
         "domain": [
          0,
          1
         ],
         "title": {
          "text": "Correlations"
         }
        }
       }
      },
      "text/html": [
       "<div>                            <div id=\"de062b83-ffbd-4eea-93c1-6b960fc6685a\" class=\"plotly-graph-div\" style=\"height:525px; width:100%;\"></div>            <script type=\"text/javascript\">                require([\"plotly\"], function(Plotly) {                    window.PLOTLYENV=window.PLOTLYENV || {};                                    if (document.getElementById(\"de062b83-ffbd-4eea-93c1-6b960fc6685a\")) {                    Plotly.newPlot(                        \"de062b83-ffbd-4eea-93c1-6b960fc6685a\",                        [{\"alignmentgroup\":\"True\",\"hovertemplate\":\"Reviewers=%{x}<br>Correlations=%{marker.color}<extra></extra>\",\"legendgroup\":\"\",\"marker\":{\"color\":[0.5454545454545454,0.0,null,0.0],\"coloraxis\":\"coloraxis\",\"pattern\":{\"shape\":\"\"}},\"name\":\"\",\"offsetgroup\":\"\",\"orientation\":\"v\",\"showlegend\":false,\"textposition\":\"auto\",\"type\":\"bar\",\"x\":[\"BFA\",\"Emmanuel\",\"Bob\",\"Ann\"],\"xaxis\":\"x\",\"y\":[0.5454545454545454,0.0,null,0.0],\"yaxis\":\"y\"}],                        {\"barmode\":\"relative\",\"coloraxis\":{\"colorbar\":{\"title\":{\"text\":\"Correlations\"}},\"colorscale\":[[0.0,\"rgb(158,1,66)\"],[0.1,\"rgb(213,62,79)\"],[0.2,\"rgb(244,109,67)\"],[0.3,\"rgb(253,174,97)\"],[0.4,\"rgb(254,224,139)\"],[0.5,\"rgb(255,255,191)\"],[0.6,\"rgb(230,245,152)\"],[0.7,\"rgb(171,221,164)\"],[0.8,\"rgb(102,194,165)\"],[0.9,\"rgb(50,136,189)\"],[1.0,\"rgb(94,79,162)\"]]},\"legend\":{\"tracegroupgap\":0},\"template\":{\"data\":{\"pie\":[{\"automargin\":true,\"type\":\"pie\"}],\"scatter\":[{\"line\":{\"width\":3},\"marker\":{\"size\":9},\"type\":\"scatter\"}],\"scatter3d\":[{\"line\":{\"width\":3},\"marker\":{\"size\":9},\"type\":\"scatter3d\"}],\"scattergeo\":[{\"line\":{\"width\":3},\"marker\":{\"size\":9},\"type\":\"scattergeo\"}],\"scattergl\":[{\"line\":{\"width\":3},\"marker\":{\"size\":9},\"type\":\"scattergl\"}],\"scatterpolar\":[{\"line\":{\"width\":3},\"marker\":{\"size\":9},\"type\":\"scatterpolar\"}],\"scatterpolargl\":[{\"line\":{\"width\":3},\"marker\":{\"size\":9},\"type\":\"scatterpolargl\"}],\"scatterternary\":[{\"line\":{\"width\":3},\"marker\":{\"size\":9},\"type\":\"scatterternary\"}],\"table\":[{\"cells\":{\"height\":30},\"header\":{\"height\":36},\"type\":\"table\"}]},\"layout\":{\"font\":{\"size\":18},\"xaxis\":{\"title\":{\"standoff\":15}},\"yaxis\":{\"title\":{\"standoff\":15}}}},\"title\":{\"text\":\"Cohen-kappa score of Dogg with other reviewers\"},\"xaxis\":{\"anchor\":\"y\",\"domain\":[0.0,1.0],\"title\":{\"text\":\"Reviewers\"}},\"yaxis\":{\"anchor\":\"x\",\"domain\":[0.0,1.0],\"title\":{\"text\":\"Correlations\"}}},                        {\"responsive\": true}                    ).then(function(){\n",
       "                            \n",
       "var gd = document.getElementById('de062b83-ffbd-4eea-93c1-6b960fc6685a');\n",
       "var x = new MutationObserver(function (mutations, observer) {{\n",
       "        var display = window.getComputedStyle(gd).display;\n",
       "        if (!display || display === 'none') {{\n",
       "            console.log([gd, 'removed!']);\n",
       "            Plotly.purge(gd);\n",
       "            observer.disconnect();\n",
       "        }}\n",
       "}});\n",
       "\n",
       "// Listen for the removal of the full notebook cells\n",
       "var notebookContainer = gd.closest('#notebook-container');\n",
       "if (notebookContainer) {{\n",
       "    x.observe(notebookContainer, {childList: true});\n",
       "}}\n",
       "\n",
       "// Listen for the clearing of the current output cell\n",
       "var outputEl = gd.closest('.output');\n",
       "if (outputEl) {{\n",
       "    x.observe(outputEl, {childList: true});\n",
       "}}\n",
       "\n",
       "                        })                };                });            </script>        </div>"
      ]
     },
     "metadata": {},
     "output_type": "display_data"
    }
   ],
   "source": [
    "px.bar(data_frame=df, \n",
    "      x= \"Reviewers\",\n",
    "      y=\"Correlations\",\n",
    "      color=\"Correlations\",\n",
    "       template=\"presentation\",\n",
    "      color_continuous_scale=px.colors.diverging.Spectral,\n",
    "       title=\"Cohen-kappa score of Dogg with other reviewers\",\n",
    "      #width=500\n",
    "      )"
   ]
  },
  {
   "cell_type": "markdown",
   "id": "4b8d88b7",
   "metadata": {},
   "source": [
    "## Flob"
   ]
  },
  {
   "cell_type": "code",
   "execution_count": 214,
   "id": "ce02bacf",
   "metadata": {
    "collapsed": true
   },
   "outputs": [
    {
     "data": {
      "text/plain": [
       "[['adebola', 1],\n",
       " ['am', 0],\n",
       " ['ann', 0],\n",
       " ['anuj', 0],\n",
       " ['elbeth', 2],\n",
       " ['bfa', 2],\n",
       " ['gold', 1],\n",
       " ['bob', 1],\n",
       " ['lkh', 2],\n",
       " ['waka', 2],\n",
       " ['trice', 1],\n",
       " ['proof', 1],\n",
       " ['emmanuel', 1],\n",
       " ['fizzy', 1],\n",
       " ['dog', 1],\n",
       " ['flob', 60],\n",
       " ['emma_j', 1],\n",
       " ['greg', 0],\n",
       " ['grey', 0],\n",
       " ['stel', 2],\n",
       " ['jshua', 2],\n",
       " ['kish', 2],\n",
       " ['kylin', 2],\n",
       " ['z4yr', 2],\n",
       " ['hound', 2],\n",
       " ['mount', 0],\n",
       " ['nadalie', 2],\n",
       " ['richard', 1],\n",
       " ['ogunjo', 1],\n",
       " ['am2', 2],\n",
       " ['robot', 0],\n",
       " ['ann2', 3],\n",
       " ['steeges', 2],\n",
       " ['vik', 2],\n",
       " ['socal', 0],\n",
       " ['wolfman', 1],\n",
       " ['zer', 4],\n",
       " ['elbeth2', 2],\n",
       " ['bob2', 1],\n",
       " ['lkh2', 0],\n",
       " ['fizzy2', 0],\n",
       " ['trice2', 0],\n",
       " ['flob2', 0],\n",
       " ['greg2', 0],\n",
       " ['grey2', 2],\n",
       " ['stele2', 1],\n",
       " ['hound2', 0],\n",
       " ['richard2', 1],\n",
       " ['ogunjo2', 0],\n",
       " ['vik2', 0],\n",
       " ['wolfman2', 2]]"
      ]
     },
     "execution_count": 214,
     "metadata": {},
     "output_type": "execute_result"
    }
   ],
   "source": [
    "find_common_handles(flob)"
   ]
  },
  {
   "cell_type": "code",
   "execution_count": 371,
   "id": "91c465e7",
   "metadata": {},
   "outputs": [],
   "source": [
    "flob_ann2 = create_table(flob, ann2)\n",
    "flob_zer = create_table(flob, zer)\n",
    "flob_ml = create_table(flob, ml_anon)"
   ]
  },
  {
   "cell_type": "code",
   "execution_count": 373,
   "id": "95c9a64a",
   "metadata": {},
   "outputs": [
    {
     "data": {
      "text/plain": [
       "[0.6666666666666666, 0.75, 0.8421052631578947]"
      ]
     },
     "execution_count": 373,
     "metadata": {},
     "output_type": "execute_result"
    }
   ],
   "source": [
    "[total_agreement(flob_ann2, \"flob\", \"ann2\"), total_agreement(flob_zer, \"flob\", \"zer\"),\n",
    " total_agreement(flob_ml, \"flob\", \"ml_anon\")]"
   ]
  },
  {
   "cell_type": "code",
   "execution_count": 217,
   "id": "0bdd91fa",
   "metadata": {},
   "outputs": [
    {
     "data": {
      "text/plain": [
       "[0.0, 0.0]"
      ]
     },
     "execution_count": 217,
     "metadata": {},
     "output_type": "execute_result"
    }
   ],
   "source": [
    "[cohen_kappa_score(flob_ann2[\"Is Sybil? (T or F)flob\"], flob_ann2[\"Is Sybil? (T or F)ann2\"]),\n",
    " \n",
    "cohen_kappa_score(flob_zer[\"Is Sybil? (T or F)flob\"], flob_zer[\"Is Sybil? (T or F)zer\"])]"
   ]
  },
  {
   "cell_type": "code",
   "execution_count": 40,
   "id": "025697f2",
   "metadata": {},
   "outputs": [
    {
     "data": {
      "text/plain": [
       "0.3254437869822485"
      ]
     },
     "execution_count": 40,
     "metadata": {},
     "output_type": "execute_result"
    }
   ],
   "source": [
    "cohen(flob, ml_anon)"
   ]
  },
  {
   "cell_type": "code",
   "execution_count": 218,
   "id": "6fb91027",
   "metadata": {},
   "outputs": [
    {
     "data": {
      "text/html": [
       "<div>\n",
       "<style scoped>\n",
       "    .dataframe tbody tr th:only-of-type {\n",
       "        vertical-align: middle;\n",
       "    }\n",
       "\n",
       "    .dataframe tbody tr th {\n",
       "        vertical-align: top;\n",
       "    }\n",
       "\n",
       "    .dataframe thead th {\n",
       "        text-align: right;\n",
       "    }\n",
       "</style>\n",
       "<table border=\"1\" class=\"dataframe\">\n",
       "  <thead>\n",
       "    <tr style=\"text-align: right;\">\n",
       "      <th></th>\n",
       "      <th>Reviewers</th>\n",
       "      <th>Correlations</th>\n",
       "    </tr>\n",
       "  </thead>\n",
       "  <tbody>\n",
       "    <tr>\n",
       "      <th>0</th>\n",
       "      <td>Ann</td>\n",
       "      <td>0.0</td>\n",
       "    </tr>\n",
       "    <tr>\n",
       "      <th>1</th>\n",
       "      <td>Zer</td>\n",
       "      <td>0.0</td>\n",
       "    </tr>\n",
       "  </tbody>\n",
       "</table>\n",
       "</div>"
      ],
      "text/plain": [
       "  Reviewers  Correlations\n",
       "0       Ann           0.0\n",
       "1       Zer           0.0"
      ]
     },
     "execution_count": 218,
     "metadata": {},
     "output_type": "execute_result"
    }
   ],
   "source": [
    "df = pd.DataFrame()\n",
    "df[\"Reviewers\"] = [\"Ann\", \"Zer\"]\n",
    "df[\"Correlations\"] = [0.0, 0.0]\n",
    "df"
   ]
  },
  {
   "cell_type": "markdown",
   "id": "f756056c",
   "metadata": {},
   "source": [
    "## Emma_J"
   ]
  },
  {
   "cell_type": "code",
   "execution_count": 219,
   "id": "4873cb5a",
   "metadata": {
    "collapsed": true
   },
   "outputs": [
    {
     "data": {
      "text/plain": [
       "[['adebola', 0],\n",
       " ['am', 0],\n",
       " ['ann', 1],\n",
       " ['anuj', 2],\n",
       " ['elbeth', 1],\n",
       " ['bfa', 1],\n",
       " ['gold', 1],\n",
       " ['bob', 2],\n",
       " ['lkh', 1],\n",
       " ['waka', 0],\n",
       " ['trice', 0],\n",
       " ['proof', 1],\n",
       " ['emmanuel', 1],\n",
       " ['fizzy', 0],\n",
       " ['dog', 1],\n",
       " ['flob', 1],\n",
       " ['emma_j', 60],\n",
       " ['greg', 0],\n",
       " ['grey', 1],\n",
       " ['stel', 0],\n",
       " ['jshua', 1],\n",
       " ['kish', 1],\n",
       " ['kylin', 0],\n",
       " ['z4yr', 0],\n",
       " ['hound', 2],\n",
       " ['mount', 1],\n",
       " ['nadalie', 3],\n",
       " ['richard', 1],\n",
       " ['ogunjo', 3],\n",
       " ['am2', 1],\n",
       " ['robot', 0],\n",
       " ['ann2', 2],\n",
       " ['steeges', 3],\n",
       " ['vik', 0],\n",
       " ['socal', 0],\n",
       " ['wolfman', 2],\n",
       " ['zer', 1],\n",
       " ['elbeth2', 1],\n",
       " ['bob2', 0],\n",
       " ['lkh2', 0],\n",
       " ['fizzy2', 1],\n",
       " ['trice2', 0],\n",
       " ['flob2', 0],\n",
       " ['greg2', 1],\n",
       " ['grey2', 2],\n",
       " ['stele2', 3],\n",
       " ['hound2', 0],\n",
       " ['richard2', 2],\n",
       " ['ogunjo2', 0],\n",
       " ['vik2', 0],\n",
       " ['wolfman2', 0]]"
      ]
     },
     "execution_count": 219,
     "metadata": {},
     "output_type": "execute_result"
    }
   ],
   "source": [
    "find_common_handles(emma_j)"
   ]
  },
  {
   "cell_type": "code",
   "execution_count": 376,
   "id": "e0ffe3d3",
   "metadata": {},
   "outputs": [],
   "source": [
    "emma_j_steeges = create_table(emma_j, steeges)\n",
    "emma_j_nadalie = create_table(emma_j, nadalie)\n",
    "emma_j_ogunjo = create_table(emma_j, ogunjo)\n",
    "emma_j_ml = create_table(emma_j, ml_anon)"
   ]
  },
  {
   "cell_type": "code",
   "execution_count": 41,
   "id": "74c21963",
   "metadata": {},
   "outputs": [
    {
     "data": {
      "text/plain": [
       "[1.0, -0.5, 0.3999999999999999, 0.130718954248366]"
      ]
     },
     "execution_count": 41,
     "metadata": {},
     "output_type": "execute_result"
    }
   ],
   "source": [
    "[cohen(emma_j, steeges), cohen(emma_j, nadalie), cohen(emma_j, ogunjo), cohen(emma_j, ml_anon)]"
   ]
  },
  {
   "cell_type": "code",
   "execution_count": 377,
   "id": "f127edb2",
   "metadata": {},
   "outputs": [
    {
     "data": {
      "text/plain": [
       "[1.0, 0.3333333333333333, 0.6666666666666666, 0.8157894736842105]"
      ]
     },
     "execution_count": 377,
     "metadata": {},
     "output_type": "execute_result"
    }
   ],
   "source": [
    "[total_agreement(emma_j_steeges, \"emma_j\", \"steeges\"), total_agreement(emma_j_nadalie, \"emma_j\", \"nadalie\"),\n",
    " total_agreement(emma_j_ogunjo, \"emma_j\", \"ogunjo\"), total_agreement(emma_j_ml, \"emma_j\", \"ml_anon\")]"
   ]
  },
  {
   "cell_type": "code",
   "execution_count": null,
   "id": "b20fd216",
   "metadata": {},
   "outputs": [],
   "source": [
    "names = [adebola, am, ann, anuj, elbeth, bfa, gold, bob, lkh, waka, trice, proof, emmanuel, fizzy, dog, flob, emma_j, greg,\n",
    "        grey, stel, jshua, kish, kylin, z4yr, hound, mount, nadalie, richard, ogunjo, am2, robot, ann2, steeges, vik, socal,\n",
    "        wolfman, zer, elbeth2, bob2, lkh2, fizzy2, trice2, flob2, greg2, grey2, stele2, hound2, richard2, ogunjo2, vik2, wolfman2, ml_anon]"
   ]
  },
  {
   "cell_type": "markdown",
   "id": "2225aa95",
   "metadata": {},
   "source": [
    "## Greg"
   ]
  },
  {
   "cell_type": "code",
   "execution_count": 378,
   "id": "4e4115da",
   "metadata": {
    "collapsed": true
   },
   "outputs": [
    {
     "data": {
      "text/plain": [
       "[['adebola', 0],\n",
       " ['am', 0],\n",
       " ['ann', 0],\n",
       " ['anuj', 1],\n",
       " ['elbeth', 1],\n",
       " ['bfa', 0],\n",
       " ['gold', 0],\n",
       " ['bob', 1],\n",
       " ['lkh', 1],\n",
       " ['waka', 1],\n",
       " ['trice', 2],\n",
       " ['proof', 0],\n",
       " ['emmanuel', 1],\n",
       " ['fizzy', 1],\n",
       " ['dog', 1],\n",
       " ['flob', 0],\n",
       " ['emma_j', 0],\n",
       " ['greg', 60],\n",
       " ['grey', 1],\n",
       " ['stel', 0],\n",
       " ['jshua', 5],\n",
       " ['kish', 2],\n",
       " ['kylin', 2],\n",
       " ['z4yr', 2],\n",
       " ['hound', 2],\n",
       " ['mount', 3],\n",
       " ['nadalie', 1],\n",
       " ['richard', 5],\n",
       " ['ogunjo', 2],\n",
       " ['am2', 0],\n",
       " ['robot', 2],\n",
       " ['ann2', 3],\n",
       " ['steeges', 0],\n",
       " ['vik', 3],\n",
       " ['socal', 2],\n",
       " ['wolfman', 2],\n",
       " ['zer', 2],\n",
       " ['elbeth2', 0],\n",
       " ['bob2', 1],\n",
       " ['lkh2', 0],\n",
       " ['fizzy2', 0],\n",
       " ['trice2', 1],\n",
       " ['flob2', 0],\n",
       " ['greg2', 0],\n",
       " ['grey2', 0],\n",
       " ['stele2', 1],\n",
       " ['hound2', 0],\n",
       " ['richard2', 2],\n",
       " ['ogunjo2', 0],\n",
       " ['vik2', 0],\n",
       " ['wolfman2', 1],\n",
       " ['ml_anon', 47]]"
      ]
     },
     "execution_count": 378,
     "metadata": {},
     "output_type": "execute_result"
    }
   ],
   "source": [
    "find_common_handles(greg)"
   ]
  },
  {
   "cell_type": "code",
   "execution_count": 42,
   "id": "96c87b26",
   "metadata": {},
   "outputs": [
    {
     "name": "stderr",
     "output_type": "stream",
     "text": [
      "C:\\Users\\user\\AppData\\Roaming\\Python\\Python37\\site-packages\\sklearn\\metrics\\_classification.py:658: RuntimeWarning: invalid value encountered in true_divide\n",
      "  k = np.sum(w_mat * confusion) / np.sum(w_mat * expected)\n"
     ]
    },
    {
     "data": {
      "text/plain": [
       "[0.5454545454545454, 0.0, 0.0, nan, 0.2952710495963091]"
      ]
     },
     "execution_count": 42,
     "metadata": {},
     "output_type": "execute_result"
    }
   ],
   "source": [
    "[cohen(greg, jshua), cohen(greg, mount), cohen(greg, richard),\n",
    " cohen(greg, vik), cohen(greg, ml_anon)]"
   ]
  },
  {
   "cell_type": "code",
   "execution_count": 379,
   "id": "d232942a",
   "metadata": {},
   "outputs": [],
   "source": [
    "greg_jshua = create_table(greg, jshua)\n",
    "greg_mount = create_table(greg, mount)\n",
    "greg_richard = create_table(greg, richard)\n",
    "greg_ann2 = create_table(greg, ann2)\n",
    "greg_vik = create_table(greg, vik)\n",
    "greg_ml = create_table(greg, ml_anon)"
   ]
  },
  {
   "cell_type": "code",
   "execution_count": 380,
   "id": "1d30b14a",
   "metadata": {},
   "outputs": [
    {
     "data": {
      "text/plain": [
       "[0.8, 0.6666666666666666, 0.8, 0.6666666666666666, 1.0, 0.723404255319149]"
      ]
     },
     "execution_count": 380,
     "metadata": {},
     "output_type": "execute_result"
    }
   ],
   "source": [
    "[total_agreement(greg_jshua, \"greg\", \"jshua\"), total_agreement(greg_mount, \"greg\", \"mount\"),\n",
    " total_agreement(greg_richard, \"greg\", \"richard\"), total_agreement(greg_ann2,\"greg\", \"ann2\"),\n",
    " total_agreement(greg_vik,\"greg\", \"vik\"), total_agreement(greg_ml, \"greg\", \"ml_anon\")]"
   ]
  },
  {
   "cell_type": "code",
   "execution_count": 381,
   "id": "fb90eaf1",
   "metadata": {},
   "outputs": [
    {
     "data": {
      "text/plain": [
       "52"
      ]
     },
     "execution_count": 381,
     "metadata": {},
     "output_type": "execute_result"
    }
   ],
   "source": [
    "len(names)"
   ]
  },
  {
   "cell_type": "markdown",
   "id": "828b6f5a",
   "metadata": {},
   "source": [
    "## Grey"
   ]
  },
  {
   "cell_type": "code",
   "execution_count": 382,
   "id": "a50caa58",
   "metadata": {
    "collapsed": true
   },
   "outputs": [
    {
     "data": {
      "text/plain": [
       "[['adebola', 0],\n",
       " ['am', 0],\n",
       " ['ann', 1],\n",
       " ['anuj', 2],\n",
       " ['elbeth', 1],\n",
       " ['bfa', 1],\n",
       " ['gold', 0],\n",
       " ['bob', 3],\n",
       " ['lkh', 0],\n",
       " ['waka', 2],\n",
       " ['trice', 2],\n",
       " ['proof', 2],\n",
       " ['emmanuel', 4],\n",
       " ['fizzy', 1],\n",
       " ['dog', 1],\n",
       " ['flob', 0],\n",
       " ['emma_j', 1],\n",
       " ['greg', 1],\n",
       " ['grey', 60],\n",
       " ['stel', 2],\n",
       " ['jshua', 0],\n",
       " ['kish', 2],\n",
       " ['kylin', 2],\n",
       " ['z4yr', 2],\n",
       " ['hound', 2],\n",
       " ['mount', 3],\n",
       " ['nadalie', 2],\n",
       " ['richard', 2],\n",
       " ['ogunjo', 3],\n",
       " ['am2', 1],\n",
       " ['robot', 0],\n",
       " ['ann2', 1],\n",
       " ['steeges', 1],\n",
       " ['vik', 1],\n",
       " ['socal', 1],\n",
       " ['wolfman', 1],\n",
       " ['zer', 0],\n",
       " ['elbeth2', 2],\n",
       " ['bob2', 0],\n",
       " ['lkh2', 0],\n",
       " ['fizzy2', 0],\n",
       " ['trice2', 0],\n",
       " ['flob2', 0],\n",
       " ['greg2', 1],\n",
       " ['grey2', 0],\n",
       " ['stele2', 1],\n",
       " ['hound2', 0],\n",
       " ['richard2', 0],\n",
       " ['ogunjo2', 1],\n",
       " ['vik2', 0],\n",
       " ['wolfman2', 1],\n",
       " ['ml_anon', 45]]"
      ]
     },
     "execution_count": 382,
     "metadata": {},
     "output_type": "execute_result"
    }
   ],
   "source": [
    "find_common_handles(grey)"
   ]
  },
  {
   "cell_type": "code",
   "execution_count": 383,
   "id": "f4a9bf4b",
   "metadata": {},
   "outputs": [],
   "source": [
    "grey_bob = create_table(grey, bob)\n",
    "grey_emma = create_table(grey, emmanuel)\n",
    "grey_mount = create_table(grey, mount)\n",
    "grey_ogunjo = create_table(grey, ogunjo)\n",
    "grey_ml = create_table(grey, ml_anon)"
   ]
  },
  {
   "cell_type": "code",
   "execution_count": 43,
   "id": "ce3f6212",
   "metadata": {},
   "outputs": [
    {
     "name": "stderr",
     "output_type": "stream",
     "text": [
      "C:\\Users\\user\\AppData\\Roaming\\Python\\Python37\\site-packages\\sklearn\\metrics\\_classification.py:658: RuntimeWarning: invalid value encountered in true_divide\n",
      "  k = np.sum(w_mat * confusion) / np.sum(w_mat * expected)\n"
     ]
    },
    {
     "data": {
      "text/plain": [
       "[nan, 0.19999999999999996, 0.0, 0.3999999999999999, 0.12903225806451613]"
      ]
     },
     "execution_count": 43,
     "metadata": {},
     "output_type": "execute_result"
    }
   ],
   "source": [
    "[cohen(grey, bob), cohen(grey, emmanuel), cohen(grey, mount),\n",
    " cohen(grey, ogunjo), cohen(grey, ml_anon)]"
   ]
  },
  {
   "cell_type": "code",
   "execution_count": 384,
   "id": "38bd2a19",
   "metadata": {},
   "outputs": [
    {
     "data": {
      "text/plain": [
       "[1.0, 0.5, 0.6666666666666666, 0.6666666666666666, 0.4666666666666667]"
      ]
     },
     "execution_count": 384,
     "metadata": {},
     "output_type": "execute_result"
    }
   ],
   "source": [
    "[total_agreement(grey_bob, \"grey\", \"bob\"), total_agreement(grey_emma, \"grey\", \"emmanuel\"),\n",
    " total_agreement(grey_mount, \"grey\", \"mount\"), total_agreement(grey_ogunjo,\"grey\", \"ogunjo\"),\n",
    " total_agreement(grey_ml, \"grey\", \"ml_anon\")]"
   ]
  },
  {
   "cell_type": "markdown",
   "id": "0fb685f7",
   "metadata": {},
   "source": [
    "## Stel"
   ]
  },
  {
   "cell_type": "code",
   "execution_count": 385,
   "id": "1a7bebee",
   "metadata": {
    "collapsed": true
   },
   "outputs": [
    {
     "data": {
      "text/plain": [
       "[['adebola', 0],\n",
       " ['am', 0],\n",
       " ['ann', 0],\n",
       " ['anuj', 2],\n",
       " ['elbeth', 0],\n",
       " ['bfa', 0],\n",
       " ['gold', 1],\n",
       " ['bob', 1],\n",
       " ['lkh', 3],\n",
       " ['waka', 0],\n",
       " ['trice', 1],\n",
       " ['proof', 1],\n",
       " ['emmanuel', 2],\n",
       " ['fizzy', 2],\n",
       " ['dog', 4],\n",
       " ['flob', 2],\n",
       " ['emma_j', 0],\n",
       " ['greg', 0],\n",
       " ['grey', 2],\n",
       " ['stel', 60],\n",
       " ['jshua', 1],\n",
       " ['kish', 0],\n",
       " ['kylin', 0],\n",
       " ['z4yr', 0],\n",
       " ['hound', 3],\n",
       " ['mount', 3],\n",
       " ['nadalie', 2],\n",
       " ['richard', 0],\n",
       " ['ogunjo', 0],\n",
       " ['am2', 2],\n",
       " ['robot', 1],\n",
       " ['ann2', 2],\n",
       " ['steeges', 1],\n",
       " ['vik', 3],\n",
       " ['socal', 2],\n",
       " ['wolfman', 3],\n",
       " ['zer', 0],\n",
       " ['elbeth2', 3],\n",
       " ['bob2', 1],\n",
       " ['lkh2', 0],\n",
       " ['fizzy2', 1],\n",
       " ['trice2', 0],\n",
       " ['flob2', 0],\n",
       " ['greg2', 0],\n",
       " ['grey2', 0],\n",
       " ['stele2', 1],\n",
       " ['hound2', 0],\n",
       " ['richard2', 1],\n",
       " ['ogunjo2', 1],\n",
       " ['vik2', 0],\n",
       " ['wolfman2', 0],\n",
       " ['ml_anon', 40]]"
      ]
     },
     "execution_count": 385,
     "metadata": {},
     "output_type": "execute_result"
    }
   ],
   "source": [
    "find_common_handles(stel)"
   ]
  },
  {
   "cell_type": "code",
   "execution_count": 387,
   "id": "d5df60ac",
   "metadata": {},
   "outputs": [],
   "source": [
    "stel_dog = create_table(stel, dog)\n",
    "stel_hound = create_table(stel, hound)\n",
    "stel_mount = create_table(stel, mount)\n",
    "stel_vik = create_table(stel, vik)\n",
    "stel_wolf = create_table(stel, wolfman)\n",
    "stel_elbeth2 = create_table(stel, elbeth2)\n",
    "stel_ml = create_table(stel, ml_anon)"
   ]
  },
  {
   "cell_type": "code",
   "execution_count": 44,
   "id": "96c37a8f",
   "metadata": {},
   "outputs": [
    {
     "data": {
      "text/plain": [
       "[0.19999999999999996, -0.5, 0.0, 0.0, 0.0, -0.1258278145695364]"
      ]
     },
     "execution_count": 44,
     "metadata": {},
     "output_type": "execute_result"
    }
   ],
   "source": [
    "[cohen(stel, dog), cohen(stel, hound), cohen(stel, mount), cohen(stel, vik), cohen(stel, wolfman),\n",
    "  cohen(stel, ml_anon)]"
   ]
  },
  {
   "cell_type": "code",
   "execution_count": 389,
   "id": "e83cabed",
   "metadata": {
    "collapsed": true
   },
   "outputs": [
    {
     "data": {
      "text/plain": [
       "[0.5,\n",
       " 0.3333333333333333,\n",
       " 0.6666666666666666,\n",
       " 0.6666666666666666,\n",
       " 0.6666666666666666,\n",
       " 0.3333333333333333,\n",
       " 0.575]"
      ]
     },
     "execution_count": 389,
     "metadata": {},
     "output_type": "execute_result"
    }
   ],
   "source": [
    "[total_agreement(stel_dog, \"stel\", \"dog\"), total_agreement(stel_hound, \"stel\", \"hound\"),\n",
    " total_agreement(stel_mount, \"stel\", \"mount\"), total_agreement(stel_vik,\"stel\", \"vik\"),\n",
    " total_agreement(stel_wolf,\"stel\", \"wolfman\"), total_agreement(stel_elbeth2,\"stel\", \"elbeth2\"),\n",
    " total_agreement(stel_ml, \"stel\", \"ml_anon\")]"
   ]
  },
  {
   "cell_type": "markdown",
   "id": "eb0521ab",
   "metadata": {},
   "source": [
    "###  Jshua"
   ]
  },
  {
   "cell_type": "code",
   "execution_count": 390,
   "id": "7b8568fc",
   "metadata": {
    "collapsed": true
   },
   "outputs": [
    {
     "data": {
      "text/plain": [
       "[['adebola', 0],\n",
       " ['am', 0],\n",
       " ['ann', 0],\n",
       " ['anuj', 0],\n",
       " ['elbeth', 1],\n",
       " ['bfa', 2],\n",
       " ['gold', 2],\n",
       " ['bob', 0],\n",
       " ['lkh', 1],\n",
       " ['waka', 0],\n",
       " ['trice', 1],\n",
       " ['proof', 4],\n",
       " ['emmanuel', 0],\n",
       " ['fizzy', 0],\n",
       " ['dog', 0],\n",
       " ['flob', 2],\n",
       " ['emma_j', 1],\n",
       " ['greg', 5],\n",
       " ['grey', 0],\n",
       " ['stel', 1],\n",
       " ['jshua', 60],\n",
       " ['kish', 3],\n",
       " ['kylin', 0],\n",
       " ['z4yr', 1],\n",
       " ['hound', 3],\n",
       " ['mount', 2],\n",
       " ['nadalie', 0],\n",
       " ['richard', 0],\n",
       " ['ogunjo', 1],\n",
       " ['am2', 1],\n",
       " ['robot', 1],\n",
       " ['ann2', 4],\n",
       " ['steeges', 3],\n",
       " ['vik', 1],\n",
       " ['socal', 1],\n",
       " ['wolfman', 4],\n",
       " ['zer', 0],\n",
       " ['elbeth2', 0],\n",
       " ['bob2', 0],\n",
       " ['lkh2', 0],\n",
       " ['fizzy2', 0],\n",
       " ['trice2', 0],\n",
       " ['flob2', 0],\n",
       " ['greg2', 0],\n",
       " ['grey2', 0],\n",
       " ['stele2', 1],\n",
       " ['hound2', 1],\n",
       " ['richard2', 1],\n",
       " ['ogunjo2', 0],\n",
       " ['vik2', 0],\n",
       " ['wolfman2', 1],\n",
       " ['ml_anon', 47]]"
      ]
     },
     "execution_count": 390,
     "metadata": {},
     "output_type": "execute_result"
    }
   ],
   "source": [
    "find_common_handles(jshua)"
   ]
  },
  {
   "cell_type": "code",
   "execution_count": 391,
   "id": "a9a07540",
   "metadata": {},
   "outputs": [],
   "source": [
    "jhsua_kish = create_table(jshua, kish)\n",
    "jshua_hound = create_table(jshua, hound)\n",
    "jshua_ann2 = create_table(jshua, ann2)\n",
    "jshua_steeges = create_table(jshua, steeges)\n",
    "jshua_wolf = create_table(jshua, wolfman)\n",
    "jshua_ml = create_table(jshua, ml_anon)"
   ]
  },
  {
   "cell_type": "code",
   "execution_count": 45,
   "id": "b042a1af",
   "metadata": {},
   "outputs": [
    {
     "name": "stderr",
     "output_type": "stream",
     "text": [
      "C:\\Users\\user\\AppData\\Roaming\\Python\\Python37\\site-packages\\sklearn\\metrics\\_classification.py:658: RuntimeWarning: invalid value encountered in true_divide\n",
      "  k = np.sum(w_mat * confusion) / np.sum(w_mat * expected)\n"
     ]
    },
    {
     "data": {
      "text/plain": [
       "[0.3999999999999999, 0.0, nan, 0.19999999999999996, 0.26943005181347157]"
      ]
     },
     "execution_count": 45,
     "metadata": {},
     "output_type": "execute_result"
    }
   ],
   "source": [
    "[cohen(jshua, kish), cohen(jshua, hound), cohen(jshua, steeges), cohen(jshua, wolfman),\n",
    "  cohen(jshua, ml_anon)]"
   ]
  },
  {
   "cell_type": "code",
   "execution_count": 393,
   "id": "4645675b",
   "metadata": {},
   "outputs": [
    {
     "data": {
      "text/plain": [
       "[0.6666666666666666, 0.6666666666666666, 0.75, 1.0, 0.5, 0.7446808510638298]"
      ]
     },
     "execution_count": 393,
     "metadata": {},
     "output_type": "execute_result"
    }
   ],
   "source": [
    "[total_agreement(jhsua_kish, \"jshua\", \"kish\"), total_agreement(jshua_hound, \"jshua\", \"hound\"),\n",
    " total_agreement(jshua_ann2, \"jshua\", \"ann2\"), total_agreement(jshua_steeges,\"jshua\", \"steeges\"),\n",
    " total_agreement(jshua_wolf,\"jshua\", \"wolfman\"), total_agreement(jshua_ml, \"jshua\", \"ml_anon\")]"
   ]
  },
  {
   "cell_type": "markdown",
   "id": "d5997c44",
   "metadata": {},
   "source": [
    "## Kish"
   ]
  },
  {
   "cell_type": "code",
   "execution_count": 394,
   "id": "17793dea",
   "metadata": {
    "collapsed": true
   },
   "outputs": [
    {
     "data": {
      "text/plain": [
       "[['adebola', 1],\n",
       " ['am', 0],\n",
       " ['ann', 0],\n",
       " ['anuj', 0],\n",
       " ['elbeth', 0],\n",
       " ['bfa', 3],\n",
       " ['gold', 0],\n",
       " ['bob', 2],\n",
       " ['lkh', 1],\n",
       " ['waka', 0],\n",
       " ['trice', 1],\n",
       " ['proof', 1],\n",
       " ['emmanuel', 1],\n",
       " ['fizzy', 0],\n",
       " ['dog', 0],\n",
       " ['flob', 2],\n",
       " ['emma_j', 1],\n",
       " ['greg', 2],\n",
       " ['grey', 2],\n",
       " ['stel', 0],\n",
       " ['jshua', 3],\n",
       " ['kish', 60],\n",
       " ['kylin', 1],\n",
       " ['z4yr', 0],\n",
       " ['hound', 2],\n",
       " ['mount', 1],\n",
       " ['nadalie', 2],\n",
       " ['richard', 2],\n",
       " ['ogunjo', 1],\n",
       " ['am2', 1],\n",
       " ['robot', 0],\n",
       " ['ann2', 1],\n",
       " ['steeges', 0],\n",
       " ['vik', 1],\n",
       " ['socal', 1],\n",
       " ['wolfman', 1],\n",
       " ['zer', 0],\n",
       " ['elbeth2', 1],\n",
       " ['bob2', 1],\n",
       " ['lkh2', 1],\n",
       " ['fizzy2', 1],\n",
       " ['trice2', 0],\n",
       " ['flob2', 0],\n",
       " ['greg2', 0],\n",
       " ['grey2', 1],\n",
       " ['stele2', 1],\n",
       " ['hound2', 0],\n",
       " ['richard2', 1],\n",
       " ['ogunjo2', 1],\n",
       " ['vik2', 0],\n",
       " ['wolfman2', 0],\n",
       " ['ml_anon', 39]]"
      ]
     },
     "execution_count": 394,
     "metadata": {},
     "output_type": "execute_result"
    }
   ],
   "source": [
    "find_common_handles(kish)"
   ]
  },
  {
   "cell_type": "code",
   "execution_count": 395,
   "id": "088b29a1",
   "metadata": {},
   "outputs": [],
   "source": [
    "kish_ml = create_table(kish, ml_anon)"
   ]
  },
  {
   "cell_type": "code",
   "execution_count": 396,
   "id": "6a0c06fe",
   "metadata": {},
   "outputs": [
    {
     "data": {
      "text/plain": [
       "0.6153846153846154"
      ]
     },
     "execution_count": 396,
     "metadata": {},
     "output_type": "execute_result"
    }
   ],
   "source": [
    "total_agreement(kish_ml, \"kish\", \"ml_anon\")"
   ]
  },
  {
   "cell_type": "code",
   "execution_count": 46,
   "id": "14f5c90f",
   "metadata": {},
   "outputs": [
    {
     "data": {
      "text/plain": [
       "0.09302325581395354"
      ]
     },
     "execution_count": 46,
     "metadata": {},
     "output_type": "execute_result"
    }
   ],
   "source": [
    "cohen(kish, ml_anon)"
   ]
  },
  {
   "cell_type": "markdown",
   "id": "eadb1ffb",
   "metadata": {},
   "source": [
    "## Kylin"
   ]
  },
  {
   "cell_type": "code",
   "execution_count": 397,
   "id": "696dd8a8",
   "metadata": {
    "collapsed": true
   },
   "outputs": [
    {
     "data": {
      "text/plain": [
       "[['adebola', 0],\n",
       " ['am', 0],\n",
       " ['ann', 0],\n",
       " ['anuj', 1],\n",
       " ['elbeth', 2],\n",
       " ['bfa', 0],\n",
       " ['gold', 2],\n",
       " ['bob', 0],\n",
       " ['lkh', 2],\n",
       " ['waka', 0],\n",
       " ['trice', 2],\n",
       " ['proof', 3],\n",
       " ['emmanuel', 0],\n",
       " ['fizzy', 0],\n",
       " ['dog', 0],\n",
       " ['flob', 2],\n",
       " ['emma_j', 0],\n",
       " ['greg', 2],\n",
       " ['grey', 2],\n",
       " ['stel', 0],\n",
       " ['jshua', 0],\n",
       " ['kish', 1],\n",
       " ['kylin', 60],\n",
       " ['z4yr', 1],\n",
       " ['hound', 3],\n",
       " ['mount', 1],\n",
       " ['nadalie', 4],\n",
       " ['richard', 3],\n",
       " ['ogunjo', 1],\n",
       " ['am2', 1],\n",
       " ['robot', 0],\n",
       " ['ann2', 0],\n",
       " ['steeges', 2],\n",
       " ['vik', 2],\n",
       " ['socal', 0],\n",
       " ['wolfman', 0],\n",
       " ['zer', 1],\n",
       " ['elbeth2', 1],\n",
       " ['bob2', 0],\n",
       " ['lkh2', 0],\n",
       " ['fizzy2', 0],\n",
       " ['trice2', 0],\n",
       " ['flob2', 1],\n",
       " ['greg2', 0],\n",
       " ['grey2', 0],\n",
       " ['stele2', 0],\n",
       " ['hound2', 0],\n",
       " ['richard2', 0],\n",
       " ['ogunjo2', 1],\n",
       " ['vik2', 0],\n",
       " ['wolfman2', 0],\n",
       " ['ml_anon', 41]]"
      ]
     },
     "execution_count": 397,
     "metadata": {},
     "output_type": "execute_result"
    }
   ],
   "source": [
    "find_common_handles(kylin)"
   ]
  },
  {
   "cell_type": "code",
   "execution_count": 398,
   "id": "b4a8e8fa",
   "metadata": {},
   "outputs": [],
   "source": [
    "kylin_hound = create_table(kylin, hound)\n",
    "kylin_nada = create_table(kylin, nadalie)\n",
    "kylin_richard = create_table(kylin, richard)\n",
    "kylin_ml = create_table(kylin, ml_anon)"
   ]
  },
  {
   "cell_type": "code",
   "execution_count": 47,
   "id": "1e10db5c",
   "metadata": {},
   "outputs": [
    {
     "name": "stderr",
     "output_type": "stream",
     "text": [
      "C:\\Users\\user\\AppData\\Roaming\\Python\\Python37\\site-packages\\sklearn\\metrics\\_classification.py:658: RuntimeWarning: invalid value encountered in true_divide\n",
      "  k = np.sum(w_mat * confusion) / np.sum(w_mat * expected)\n"
     ]
    },
    {
     "data": {
      "text/plain": [
       "[0.3999999999999999, 0.19999999999999996, nan, 0.5474613686534217]"
      ]
     },
     "execution_count": 47,
     "metadata": {},
     "output_type": "execute_result"
    }
   ],
   "source": [
    "[cohen(kylin, hound), cohen(kylin, nadalie), cohen(kylin, richard), cohen(kylin, ml_anon)]"
   ]
  },
  {
   "cell_type": "code",
   "execution_count": 400,
   "id": "9c5f987a",
   "metadata": {},
   "outputs": [
    {
     "data": {
      "text/plain": [
       "[0.5, 0.6666666666666666, 1.0, 0.8780487804878049]"
      ]
     },
     "execution_count": 400,
     "metadata": {},
     "output_type": "execute_result"
    }
   ],
   "source": [
    "[total_agreement(kylin_nada, \"kylin\", \"nadalie\"), total_agreement(kylin_hound, \"kylin\", \"hound\"),\n",
    " total_agreement(kylin_richard,\"kylin\", \"richard\"), total_agreement(kylin_ml, \"kylin\", \"ml_anon\")]"
   ]
  },
  {
   "cell_type": "markdown",
   "id": "654cc957",
   "metadata": {},
   "source": [
    "## Z4yr"
   ]
  },
  {
   "cell_type": "code",
   "execution_count": 401,
   "id": "86b233c3",
   "metadata": {
    "collapsed": true
   },
   "outputs": [
    {
     "data": {
      "text/plain": [
       "[['adebola', 1],\n",
       " ['am', 0],\n",
       " ['ann', 0],\n",
       " ['anuj', 1],\n",
       " ['elbeth', 3],\n",
       " ['bfa', 0],\n",
       " ['gold', 4],\n",
       " ['bob', 6],\n",
       " ['lkh', 3],\n",
       " ['waka', 0],\n",
       " ['trice', 2],\n",
       " ['proof', 5],\n",
       " ['emmanuel', 1],\n",
       " ['fizzy', 1],\n",
       " ['dog', 0],\n",
       " ['flob', 2],\n",
       " ['emma_j', 0],\n",
       " ['greg', 2],\n",
       " ['grey', 2],\n",
       " ['stel', 0],\n",
       " ['jshua', 1],\n",
       " ['kish', 0],\n",
       " ['kylin', 1],\n",
       " ['z4yr', 60],\n",
       " ['hound', 2],\n",
       " ['mount', 2],\n",
       " ['nadalie', 0],\n",
       " ['richard', 2],\n",
       " ['ogunjo', 0],\n",
       " ['am2', 1],\n",
       " ['robot', 0],\n",
       " ['ann2', 3],\n",
       " ['steeges', 3],\n",
       " ['vik', 0],\n",
       " ['socal', 0],\n",
       " ['wolfman', 1],\n",
       " ['zer', 1],\n",
       " ['elbeth2', 0],\n",
       " ['bob2', 1],\n",
       " ['lkh2', 0],\n",
       " ['fizzy2', 0],\n",
       " ['trice2', 0],\n",
       " ['flob2', 0],\n",
       " ['greg2', 0],\n",
       " ['grey2', 0],\n",
       " ['stele2', 0],\n",
       " ['hound2', 0],\n",
       " ['richard2', 0],\n",
       " ['ogunjo2', 0],\n",
       " ['vik2', 0],\n",
       " ['wolfman2', 1],\n",
       " ['ml_anon', 42]]"
      ]
     },
     "execution_count": 401,
     "metadata": {},
     "output_type": "execute_result"
    }
   ],
   "source": [
    "find_common_handles(z4yr)"
   ]
  },
  {
   "cell_type": "code",
   "execution_count": 402,
   "id": "abf247d8",
   "metadata": {},
   "outputs": [],
   "source": [
    "z4yr_ann2 = create_table(z4yr, ann2)\n",
    "z4yr_steeges = create_table(z4yr, steeges)\n",
    "z4yr_ml = create_table(z4yr, ml_anon)"
   ]
  },
  {
   "cell_type": "code",
   "execution_count": 48,
   "id": "3b93192c",
   "metadata": {},
   "outputs": [
    {
     "data": {
      "text/plain": [
       "[1.0, 0.36909871244635195]"
      ]
     },
     "execution_count": 48,
     "metadata": {},
     "output_type": "execute_result"
    }
   ],
   "source": [
    "[cohen(z4yr, steeges), cohen(z4yr, ml_anon)]"
   ]
  },
  {
   "cell_type": "code",
   "execution_count": 403,
   "id": "588886fd",
   "metadata": {},
   "outputs": [
    {
     "data": {
      "text/plain": [
       "[0.3333333333333333, 1.0, 0.8333333333333334]"
      ]
     },
     "execution_count": 403,
     "metadata": {},
     "output_type": "execute_result"
    }
   ],
   "source": [
    "[total_agreement(z4yr_ann2, \"z4yr\", \"ann2\"), total_agreement(z4yr_steeges, \"z4yr\", \"steeges\"),\n",
    " total_agreement(z4yr_ml, \"z4yr\", \"ml_anon\")]"
   ]
  },
  {
   "cell_type": "markdown",
   "id": "8af7b0cc",
   "metadata": {},
   "source": [
    "## Hound"
   ]
  },
  {
   "cell_type": "code",
   "execution_count": 404,
   "id": "6091b870",
   "metadata": {
    "collapsed": true
   },
   "outputs": [
    {
     "data": {
      "text/plain": [
       "[['adebola', 0],\n",
       " ['am', 0],\n",
       " ['ann', 1],\n",
       " ['anuj', 1],\n",
       " ['elbeth', 2],\n",
       " ['bfa', 0],\n",
       " ['gold', 0],\n",
       " ['bob', 1],\n",
       " ['lkh', 4],\n",
       " ['waka', 0],\n",
       " ['trice', 1],\n",
       " ['proof', 1],\n",
       " ['emmanuel', 1],\n",
       " ['fizzy', 2],\n",
       " ['dog', 1],\n",
       " ['flob', 2],\n",
       " ['emma_j', 2],\n",
       " ['greg', 2],\n",
       " ['grey', 2],\n",
       " ['stel', 3],\n",
       " ['jshua', 3],\n",
       " ['kish', 2],\n",
       " ['kylin', 3],\n",
       " ['z4yr', 2],\n",
       " ['hound', 60],\n",
       " ['mount', 0],\n",
       " ['nadalie', 2],\n",
       " ['richard', 2],\n",
       " ['ogunjo', 0],\n",
       " ['am2', 1],\n",
       " ['robot', 2],\n",
       " ['ann2', 2],\n",
       " ['steeges', 0],\n",
       " ['vik', 2],\n",
       " ['socal', 3],\n",
       " ['wolfman', 2],\n",
       " ['zer', 2],\n",
       " ['elbeth2', 1],\n",
       " ['bob2', 0],\n",
       " ['lkh2', 1],\n",
       " ['fizzy2', 0],\n",
       " ['trice2', 0],\n",
       " ['flob2', 0],\n",
       " ['greg2', 0],\n",
       " ['grey2', 0],\n",
       " ['stele2', 1],\n",
       " ['hound2', 2],\n",
       " ['richard2', 0],\n",
       " ['ogunjo2', 1],\n",
       " ['vik2', 0],\n",
       " ['wolfman2', 0],\n",
       " ['ml_anon', 43]]"
      ]
     },
     "execution_count": 404,
     "metadata": {},
     "output_type": "execute_result"
    }
   ],
   "source": [
    "find_common_handles(hound)"
   ]
  },
  {
   "cell_type": "code",
   "execution_count": 405,
   "id": "1f00463b",
   "metadata": {},
   "outputs": [],
   "source": [
    "hound_socal = create_table(hound, socal)\n",
    "hound_ml = create_table(hound, ml_anon)"
   ]
  },
  {
   "cell_type": "code",
   "execution_count": 49,
   "id": "2ec79665",
   "metadata": {},
   "outputs": [
    {
     "name": "stderr",
     "output_type": "stream",
     "text": [
      "C:\\Users\\user\\AppData\\Roaming\\Python\\Python37\\site-packages\\sklearn\\metrics\\_classification.py:658: RuntimeWarning: invalid value encountered in true_divide\n",
      "  k = np.sum(w_mat * confusion) / np.sum(w_mat * expected)\n"
     ]
    },
    {
     "data": {
      "text/plain": [
       "[nan, 0.08753315649867366]"
      ]
     },
     "execution_count": 49,
     "metadata": {},
     "output_type": "execute_result"
    }
   ],
   "source": [
    "[cohen(hound, socal), cohen(hound, ml_anon)]"
   ]
  },
  {
   "cell_type": "code",
   "execution_count": 406,
   "id": "ac35de8c",
   "metadata": {},
   "outputs": [
    {
     "data": {
      "text/plain": [
       "[1.0, 0.627906976744186]"
      ]
     },
     "execution_count": 406,
     "metadata": {},
     "output_type": "execute_result"
    }
   ],
   "source": [
    "[ total_agreement(hound_socal, \"hound\", \"socal\"), total_agreement(hound_ml, \"hound\", \"ml_anon\")]"
   ]
  },
  {
   "cell_type": "markdown",
   "id": "e175978d",
   "metadata": {},
   "source": [
    "## Mount"
   ]
  },
  {
   "cell_type": "code",
   "execution_count": 407,
   "id": "b5a11d5e",
   "metadata": {
    "collapsed": true
   },
   "outputs": [
    {
     "data": {
      "text/plain": [
       "[['adebola', 0],\n",
       " ['am', 0],\n",
       " ['ann', 0],\n",
       " ['anuj', 0],\n",
       " ['elbeth', 4],\n",
       " ['bfa', 2],\n",
       " ['gold', 1],\n",
       " ['bob', 0],\n",
       " ['lkh', 1],\n",
       " ['waka', 1],\n",
       " ['trice', 1],\n",
       " ['proof', 1],\n",
       " ['emmanuel', 3],\n",
       " ['fizzy', 2],\n",
       " ['dog', 0],\n",
       " ['flob', 0],\n",
       " ['emma_j', 1],\n",
       " ['greg', 3],\n",
       " ['grey', 3],\n",
       " ['stel', 3],\n",
       " ['jshua', 2],\n",
       " ['kish', 1],\n",
       " ['kylin', 1],\n",
       " ['z4yr', 2],\n",
       " ['hound', 0],\n",
       " ['mount', 58],\n",
       " ['nadalie', 1],\n",
       " ['richard', 4],\n",
       " ['ogunjo', 0],\n",
       " ['am2', 0],\n",
       " ['robot', 0],\n",
       " ['ann2', 1],\n",
       " ['steeges', 3],\n",
       " ['vik', 4],\n",
       " ['socal', 1],\n",
       " ['wolfman', 0],\n",
       " ['zer', 2],\n",
       " ['elbeth2', 3],\n",
       " ['bob2', 0],\n",
       " ['lkh2', 0],\n",
       " ['fizzy2', 0],\n",
       " ['trice2', 0],\n",
       " ['flob2', 0],\n",
       " ['greg2', 1],\n",
       " ['grey2', 0],\n",
       " ['stele2', 0],\n",
       " ['hound2', 1],\n",
       " ['richard2', 0],\n",
       " ['ogunjo2', 0],\n",
       " ['vik2', 0],\n",
       " ['wolfman2', 0],\n",
       " ['ml_anon', 43]]"
      ]
     },
     "execution_count": 407,
     "metadata": {},
     "output_type": "execute_result"
    }
   ],
   "source": [
    "find_common_handles(mount)"
   ]
  },
  {
   "cell_type": "code",
   "execution_count": 408,
   "id": "a21343c1",
   "metadata": {},
   "outputs": [],
   "source": [
    "mount_richard = create_table(mount, richard)\n",
    "mount_steeges = create_table(mount, steeges)\n",
    "mount_vik = create_table(mount, vik)\n",
    "mount_elbeth2 = create_table(mount, elbeth2)\n",
    "mount_ml = create_table(mount, ml_anon)"
   ]
  },
  {
   "cell_type": "code",
   "execution_count": 409,
   "id": "82626b01",
   "metadata": {},
   "outputs": [
    {
     "data": {
      "text/plain": [
       "[1.0, 1.0, 1.0, 0.0, 0.8372093023255814]"
      ]
     },
     "execution_count": 409,
     "metadata": {},
     "output_type": "execute_result"
    }
   ],
   "source": [
    "[total_agreement(mount_richard, \"mount\", \"richard\"), total_agreement(mount_steeges, \"mount\", \"steeges\"),\n",
    " total_agreement(mount_vik,\"mount\", \"vik\"), total_agreement(mount_elbeth2,\"mount\", \"elbeth2\"),\n",
    " total_agreement(mount_ml, \"mount\", \"ml_anon\")]"
   ]
  },
  {
   "cell_type": "code",
   "execution_count": 50,
   "id": "e9b04cd7",
   "metadata": {},
   "outputs": [
    {
     "name": "stderr",
     "output_type": "stream",
     "text": [
      "C:\\Users\\user\\AppData\\Roaming\\Python\\Python37\\site-packages\\sklearn\\metrics\\_classification.py:658: RuntimeWarning: invalid value encountered in true_divide\n",
      "  k = np.sum(w_mat * confusion) / np.sum(w_mat * expected)\n",
      "C:\\Users\\user\\AppData\\Roaming\\Python\\Python37\\site-packages\\sklearn\\metrics\\_classification.py:658: RuntimeWarning: invalid value encountered in true_divide\n",
      "  k = np.sum(w_mat * confusion) / np.sum(w_mat * expected)\n",
      "C:\\Users\\user\\AppData\\Roaming\\Python\\Python37\\site-packages\\sklearn\\metrics\\_classification.py:658: RuntimeWarning: invalid value encountered in true_divide\n",
      "  k = np.sum(w_mat * confusion) / np.sum(w_mat * expected)\n"
     ]
    },
    {
     "data": {
      "text/plain": [
       "[nan, nan, nan, 0.13256484149855907]"
      ]
     },
     "execution_count": 50,
     "metadata": {},
     "output_type": "execute_result"
    }
   ],
   "source": [
    "[cohen(mount, richard), cohen(mount, steeges), cohen(mount, vik), cohen(mount, ml_anon)]"
   ]
  },
  {
   "cell_type": "markdown",
   "id": "be89db8b",
   "metadata": {},
   "source": [
    "## Nadalie"
   ]
  },
  {
   "cell_type": "code",
   "execution_count": 410,
   "id": "9f2c2c9c",
   "metadata": {
    "collapsed": true
   },
   "outputs": [
    {
     "data": {
      "text/plain": [
       "[['adebola', 0],\n",
       " ['am', 0],\n",
       " ['ann', 0],\n",
       " ['anuj', 1],\n",
       " ['elbeth', 0],\n",
       " ['bfa', 1],\n",
       " ['gold', 2],\n",
       " ['bob', 3],\n",
       " ['lkh', 2],\n",
       " ['waka', 1],\n",
       " ['trice', 1],\n",
       " ['proof', 0],\n",
       " ['emmanuel', 1],\n",
       " ['fizzy', 1],\n",
       " ['dog', 2],\n",
       " ['flob', 2],\n",
       " ['emma_j', 3],\n",
       " ['greg', 1],\n",
       " ['grey', 2],\n",
       " ['stel', 2],\n",
       " ['jshua', 0],\n",
       " ['kish', 2],\n",
       " ['kylin', 4],\n",
       " ['z4yr', 0],\n",
       " ['hound', 2],\n",
       " ['mount', 1],\n",
       " ['nadalie', 60],\n",
       " ['richard', 2],\n",
       " ['ogunjo', 1],\n",
       " ['am2', 1],\n",
       " ['robot', 2],\n",
       " ['ann2', 2],\n",
       " ['steeges', 3],\n",
       " ['vik', 1],\n",
       " ['socal', 0],\n",
       " ['wolfman', 0],\n",
       " ['zer', 5],\n",
       " ['elbeth2', 2],\n",
       " ['bob2', 1],\n",
       " ['lkh2', 0],\n",
       " ['fizzy2', 0],\n",
       " ['trice2', 0],\n",
       " ['flob2', 0],\n",
       " ['greg2', 0],\n",
       " ['grey2', 0],\n",
       " ['stele2', 4],\n",
       " ['hound2', 0],\n",
       " ['richard2', 1],\n",
       " ['ogunjo2', 1],\n",
       " ['vik2', 0],\n",
       " ['wolfman2', 1],\n",
       " ['ml_anon', 44]]"
      ]
     },
     "execution_count": 410,
     "metadata": {},
     "output_type": "execute_result"
    }
   ],
   "source": [
    "find_common_handles(nadalie)"
   ]
  },
  {
   "cell_type": "code",
   "execution_count": 411,
   "id": "afb784d6",
   "metadata": {},
   "outputs": [],
   "source": [
    "nadalie_steeges = create_table(nadalie, steeges)\n",
    "nadalie_zer = create_table(nadalie, zer)\n",
    "nadalie_ml = create_table(nadalie, ml_anon)"
   ]
  },
  {
   "cell_type": "code",
   "execution_count": 412,
   "id": "e0ec0be0",
   "metadata": {},
   "outputs": [
    {
     "data": {
      "text/plain": [
       "[0.3333333333333333, 1.0, 0.5454545454545454]"
      ]
     },
     "execution_count": 412,
     "metadata": {},
     "output_type": "execute_result"
    }
   ],
   "source": [
    " [total_agreement(nadalie_steeges,\"nadalie\", \"steeges\"), total_agreement(nadalie_zer,\"nadalie\", \"zer\"),\n",
    " total_agreement(nadalie_ml, \"nadalie\", \"ml_anon\")]"
   ]
  },
  {
   "cell_type": "code",
   "execution_count": 51,
   "id": "bbfa8e8e",
   "metadata": {},
   "outputs": [
    {
     "data": {
      "text/plain": [
       "[-0.5, 1.0, 0.14728682170542629]"
      ]
     },
     "execution_count": 51,
     "metadata": {},
     "output_type": "execute_result"
    }
   ],
   "source": [
    "[cohen(nadalie, steeges), cohen(nadalie, zer), cohen(nadalie, ml_anon)]"
   ]
  },
  {
   "cell_type": "markdown",
   "id": "894cd044",
   "metadata": {},
   "source": [
    "## Richard"
   ]
  },
  {
   "cell_type": "code",
   "execution_count": 413,
   "id": "f5e9772e",
   "metadata": {
    "collapsed": true
   },
   "outputs": [
    {
     "data": {
      "text/plain": [
       "[['adebola', 1],\n",
       " ['am', 0],\n",
       " ['ann', 0],\n",
       " ['anuj', 1],\n",
       " ['elbeth', 3],\n",
       " ['bfa', 2],\n",
       " ['gold', 1],\n",
       " ['bob', 2],\n",
       " ['lkh', 4],\n",
       " ['waka', 0],\n",
       " ['trice', 2],\n",
       " ['proof', 1],\n",
       " ['emmanuel', 2],\n",
       " ['fizzy', 4],\n",
       " ['dog', 0],\n",
       " ['flob', 1],\n",
       " ['emma_j', 1],\n",
       " ['greg', 5],\n",
       " ['grey', 2],\n",
       " ['stel', 0],\n",
       " ['jshua', 0],\n",
       " ['kish', 2],\n",
       " ['kylin', 3],\n",
       " ['z4yr', 2],\n",
       " ['hound', 2],\n",
       " ['mount', 4],\n",
       " ['nadalie', 2],\n",
       " ['richard', 60],\n",
       " ['ogunjo', 0],\n",
       " ['am2', 0],\n",
       " ['robot', 2],\n",
       " ['ann2', 2],\n",
       " ['steeges', 1],\n",
       " ['vik', 0],\n",
       " ['socal', 2],\n",
       " ['wolfman', 0],\n",
       " ['zer', 2],\n",
       " ['elbeth2', 2],\n",
       " ['bob2', 2],\n",
       " ['lkh2', 0],\n",
       " ['fizzy2', 0],\n",
       " ['trice2', 0],\n",
       " ['flob2', 0],\n",
       " ['greg2', 0],\n",
       " ['grey2', 0],\n",
       " ['stele2', 1],\n",
       " ['hound2', 0],\n",
       " ['richard2', 3],\n",
       " ['ogunjo2', 1],\n",
       " ['vik2', 0],\n",
       " ['wolfman2', 0],\n",
       " ['ml_anon', 44]]"
      ]
     },
     "execution_count": 413,
     "metadata": {},
     "output_type": "execute_result"
    }
   ],
   "source": [
    "find_common_handles(richard)"
   ]
  },
  {
   "cell_type": "code",
   "execution_count": 414,
   "id": "b9a355ca",
   "metadata": {},
   "outputs": [],
   "source": [
    "ric_lkh = create_table(richard, lkh)\n",
    "ric_ric2 = create_table(richard, richard2)\n",
    "ric_ml = create_table(richard, ml_anon)"
   ]
  },
  {
   "cell_type": "code",
   "execution_count": 415,
   "id": "469ea57c",
   "metadata": {},
   "outputs": [
    {
     "data": {
      "text/plain": [
       "[0.75, 0.6666666666666666, 0.6136363636363636]"
      ]
     },
     "execution_count": 415,
     "metadata": {},
     "output_type": "execute_result"
    }
   ],
   "source": [
    " [total_agreement(ric_lkh,\"richard\", \"lkh\"), total_agreement(ric_ric2,\"richard\", \"richard2\"),\n",
    " total_agreement(ric_ml, \"richard\", \"ml_anon\")]"
   ]
  },
  {
   "cell_type": "code",
   "execution_count": 52,
   "id": "f46753b5",
   "metadata": {},
   "outputs": [
    {
     "data": {
      "text/plain": [
       "[0.0, -0.04469273743016755]"
      ]
     },
     "execution_count": 52,
     "metadata": {},
     "output_type": "execute_result"
    }
   ],
   "source": [
    "[cohen(richard, lkh), cohen(richard, ml_anon)]"
   ]
  },
  {
   "cell_type": "markdown",
   "id": "91bbb157",
   "metadata": {},
   "source": [
    "## Ogunjosam"
   ]
  },
  {
   "cell_type": "code",
   "execution_count": 416,
   "id": "088ebbce",
   "metadata": {
    "collapsed": true
   },
   "outputs": [
    {
     "data": {
      "text/plain": [
       "[['adebola', 0],\n",
       " ['am', 0],\n",
       " ['ann', 0],\n",
       " ['anuj', 0],\n",
       " ['elbeth', 0],\n",
       " ['bfa', 0],\n",
       " ['gold', 1],\n",
       " ['bob', 1],\n",
       " ['lkh', 3],\n",
       " ['waka', 2],\n",
       " ['trice', 2],\n",
       " ['proof', 1],\n",
       " ['emmanuel', 0],\n",
       " ['fizzy', 0],\n",
       " ['dog', 0],\n",
       " ['flob', 1],\n",
       " ['emma_j', 3],\n",
       " ['greg', 2],\n",
       " ['grey', 3],\n",
       " ['stel', 0],\n",
       " ['jshua', 1],\n",
       " ['kish', 1],\n",
       " ['kylin', 1],\n",
       " ['z4yr', 0],\n",
       " ['hound', 0],\n",
       " ['mount', 0],\n",
       " ['nadalie', 1],\n",
       " ['richard', 0],\n",
       " ['ogunjo', 60],\n",
       " ['am2', 1],\n",
       " ['robot', 1],\n",
       " ['ann2', 1],\n",
       " ['steeges', 1],\n",
       " ['vik', 1],\n",
       " ['socal', 2],\n",
       " ['wolfman', 3],\n",
       " ['zer', 2],\n",
       " ['elbeth2', 1],\n",
       " ['bob2', 0],\n",
       " ['lkh2', 0],\n",
       " ['fizzy2', 1],\n",
       " ['trice2', 1],\n",
       " ['flob2', 1],\n",
       " ['greg2', 0],\n",
       " ['grey2', 1],\n",
       " ['stele2', 2],\n",
       " ['hound2', 1],\n",
       " ['richard2', 1],\n",
       " ['ogunjo2', 0],\n",
       " ['vik2', 0],\n",
       " ['wolfman2', 0],\n",
       " ['ml_anon', 40]]"
      ]
     },
     "execution_count": 416,
     "metadata": {},
     "output_type": "execute_result"
    }
   ],
   "source": [
    "find_common_handles(ogunjo)"
   ]
  },
  {
   "cell_type": "code",
   "execution_count": 417,
   "id": "01593f5c",
   "metadata": {},
   "outputs": [],
   "source": [
    "ogunjo_wolf = create_table(ogunjo, wolfman)\n",
    "ogunjo_ml = create_table(ogunjo, ml_anon)"
   ]
  },
  {
   "cell_type": "code",
   "execution_count": 53,
   "id": "0afac717",
   "metadata": {},
   "outputs": [
    {
     "data": {
      "text/plain": [
       "[0.3999999999999999, 0.42652329749103934]"
      ]
     },
     "execution_count": 53,
     "metadata": {},
     "output_type": "execute_result"
    }
   ],
   "source": [
    "[cohen(ogunjo, wolfman), cohen(ogunjo, ml_anon)]"
   ]
  },
  {
   "cell_type": "code",
   "execution_count": 418,
   "id": "0461aeda",
   "metadata": {},
   "outputs": [
    {
     "data": {
      "text/plain": [
       "[0.6666666666666666, 0.8]"
      ]
     },
     "execution_count": 418,
     "metadata": {},
     "output_type": "execute_result"
    }
   ],
   "source": [
    " [ total_agreement(ogunjo_wolf,\"ogunjo\", \"wolfman\"), total_agreement(ogunjo_ml, \"ogunjo\", \"ml_anon\")]"
   ]
  },
  {
   "cell_type": "markdown",
   "id": "21efb7a1",
   "metadata": {},
   "source": [
    "## Robot"
   ]
  },
  {
   "cell_type": "code",
   "execution_count": 422,
   "id": "42c67e55",
   "metadata": {
    "collapsed": true
   },
   "outputs": [
    {
     "data": {
      "text/plain": [
       "[['adebola', 0],\n",
       " ['am', 0],\n",
       " ['ann', 0],\n",
       " ['anuj', 1],\n",
       " ['elbeth', 0],\n",
       " ['bfa', 0],\n",
       " ['gold', 1],\n",
       " ['bob', 1],\n",
       " ['lkh', 0],\n",
       " ['waka', 1],\n",
       " ['trice', 0],\n",
       " ['proof', 0],\n",
       " ['emmanuel', 0],\n",
       " ['fizzy', 0],\n",
       " ['dog', 0],\n",
       " ['flob', 0],\n",
       " ['emma_j', 0],\n",
       " ['greg', 2],\n",
       " ['grey', 0],\n",
       " ['stel', 1],\n",
       " ['jshua', 1],\n",
       " ['kish', 0],\n",
       " ['kylin', 0],\n",
       " ['z4yr', 0],\n",
       " ['hound', 2],\n",
       " ['mount', 0],\n",
       " ['nadalie', 2],\n",
       " ['richard', 2],\n",
       " ['ogunjo', 1],\n",
       " ['am2', 0],\n",
       " ['robot', 15],\n",
       " ['ann2', 2],\n",
       " ['steeges', 0],\n",
       " ['vik', 0],\n",
       " ['socal', 0],\n",
       " ['wolfman', 0],\n",
       " ['zer', 1],\n",
       " ['elbeth2', 0],\n",
       " ['bob2', 0],\n",
       " ['lkh2', 0],\n",
       " ['fizzy2', 0],\n",
       " ['trice2', 0],\n",
       " ['flob2', 0],\n",
       " ['greg2', 0],\n",
       " ['grey2', 0],\n",
       " ['stele2', 1],\n",
       " ['hound2', 0],\n",
       " ['richard2', 1],\n",
       " ['ogunjo2', 1],\n",
       " ['vik2', 0],\n",
       " ['wolfman2', 0],\n",
       " ['ml_anon', 10]]"
      ]
     },
     "execution_count": 422,
     "metadata": {},
     "output_type": "execute_result"
    }
   ],
   "source": [
    "find_common_handles(robot)"
   ]
  },
  {
   "cell_type": "code",
   "execution_count": 423,
   "id": "f68d55e4",
   "metadata": {},
   "outputs": [],
   "source": [
    "rob_greg = create_table(robot, greg)\n",
    "rob_nada = create_table(robot, nadalie)\n",
    "rob_ric = create_table(robot, richard)\n",
    "rob_ml = create_table(robot, ml_anon)"
   ]
  },
  {
   "cell_type": "code",
   "execution_count": 54,
   "id": "23a499f5",
   "metadata": {},
   "outputs": [
    {
     "name": "stderr",
     "output_type": "stream",
     "text": [
      "C:\\Users\\user\\AppData\\Roaming\\Python\\Python37\\site-packages\\sklearn\\metrics\\_classification.py:658: RuntimeWarning: invalid value encountered in true_divide\n",
      "  k = np.sum(w_mat * confusion) / np.sum(w_mat * expected)\n"
     ]
    },
    {
     "data": {
      "text/plain": [
       "[1.0, 1.0, nan, 0.0]"
      ]
     },
     "execution_count": 54,
     "metadata": {},
     "output_type": "execute_result"
    }
   ],
   "source": [
    "[cohen(robot, greg), cohen(robot, nadalie), cohen(robot, richard), cohen(robot, ml_anon)]"
   ]
  },
  {
   "cell_type": "code",
   "execution_count": 424,
   "id": "d36304fe",
   "metadata": {},
   "outputs": [
    {
     "data": {
      "text/plain": [
       "[1.0, 1.0, 1.0, 0.6]"
      ]
     },
     "execution_count": 424,
     "metadata": {},
     "output_type": "execute_result"
    }
   ],
   "source": [
    " [total_agreement(rob_greg,\"robot\", \"greg\"), total_agreement(rob_nada,\"robot\", \"nadalie\"),\n",
    " total_agreement(rob_ric,\"robot\", \"richard\"), total_agreement(rob_ml, \"robot\", \"ml_anon\")]"
   ]
  },
  {
   "cell_type": "markdown",
   "id": "411100f7",
   "metadata": {},
   "source": [
    "## Steeges"
   ]
  },
  {
   "cell_type": "code",
   "execution_count": 427,
   "id": "19260183",
   "metadata": {
    "collapsed": true
   },
   "outputs": [
    {
     "data": {
      "text/plain": [
       "[['adebola', 0],\n",
       " ['am', 0],\n",
       " ['ann', 0],\n",
       " ['anuj', 3],\n",
       " ['elbeth', 0],\n",
       " ['bfa', 0],\n",
       " ['gold', 1],\n",
       " ['bob', 1],\n",
       " ['lkh', 1],\n",
       " ['waka', 2],\n",
       " ['trice', 0],\n",
       " ['proof', 3],\n",
       " ['emmanuel', 2],\n",
       " ['fizzy', 1],\n",
       " ['dog', 1],\n",
       " ['flob', 2],\n",
       " ['emma_j', 3],\n",
       " ['greg', 0],\n",
       " ['grey', 1],\n",
       " ['stel', 1],\n",
       " ['jshua', 3],\n",
       " ['kish', 0],\n",
       " ['kylin', 2],\n",
       " ['z4yr', 3],\n",
       " ['hound', 0],\n",
       " ['mount', 3],\n",
       " ['nadalie', 3],\n",
       " ['richard', 1],\n",
       " ['ogunjo', 1],\n",
       " ['am2', 1],\n",
       " ['robot', 0],\n",
       " ['ann2', 2],\n",
       " ['steeges', 60],\n",
       " ['vik', 3],\n",
       " ['socal', 0],\n",
       " ['wolfman', 2],\n",
       " ['zer', 7],\n",
       " ['elbeth2', 1],\n",
       " ['bob2', 0],\n",
       " ['lkh2', 0],\n",
       " ['fizzy2', 0],\n",
       " ['trice2', 0],\n",
       " ['flob2', 0],\n",
       " ['greg2', 0],\n",
       " ['grey2', 0],\n",
       " ['stele2', 2],\n",
       " ['hound2', 1],\n",
       " ['richard2', 0],\n",
       " ['ogunjo2', 0],\n",
       " ['vik2', 0],\n",
       " ['wolfman2', 3],\n",
       " ['ml_anon', 44]]"
      ]
     },
     "execution_count": 427,
     "metadata": {},
     "output_type": "execute_result"
    }
   ],
   "source": [
    "find_common_handles(steeges)"
   ]
  },
  {
   "cell_type": "code",
   "execution_count": 437,
   "id": "292b8e46",
   "metadata": {},
   "outputs": [],
   "source": [
    "steeges_anuj = create_table(steeges, anuj)\n",
    "steeges_vik = create_table(steeges, vik)\n",
    "steeges_zer = create_table(steeges, zer)\n",
    "steeges_ml = create_table(steeges, ml_anon)"
   ]
  },
  {
   "cell_type": "code",
   "execution_count": 55,
   "id": "5ee58430",
   "metadata": {},
   "outputs": [
    {
     "name": "stderr",
     "output_type": "stream",
     "text": [
      "C:\\Users\\user\\AppData\\Roaming\\Python\\Python37\\site-packages\\sklearn\\metrics\\_classification.py:658: RuntimeWarning: invalid value encountered in true_divide\n",
      "  k = np.sum(w_mat * confusion) / np.sum(w_mat * expected)\n"
     ]
    },
    {
     "data": {
      "text/plain": [
       "[0.0, nan, -0.40000000000000013, 0.3513513513513513]"
      ]
     },
     "execution_count": 55,
     "metadata": {},
     "output_type": "execute_result"
    }
   ],
   "source": [
    "[cohen(steeges, anuj), cohen(steeges, vik), cohen(steeges, zer), cohen(steeges, ml_anon)]"
   ]
  },
  {
   "cell_type": "code",
   "execution_count": 438,
   "id": "0b693183",
   "metadata": {},
   "outputs": [
    {
     "data": {
      "text/plain": [
       "[0.3333333333333333, 1.0, 0.2857142857142857, 1.0, 0.7272727272727273]"
      ]
     },
     "execution_count": 438,
     "metadata": {},
     "output_type": "execute_result"
    }
   ],
   "source": [
    " [total_agreement(steeges_anuj,\"steeges\", \"anuj\"), total_agreement(steeges_vik,\"steeges\", \"vik\"),\n",
    " total_agreement(steeges_zer,\"steeges\", \"zer\"), total_agreement(steeges_wolf,\"steeges\", \"wolfman2\"),\n",
    "  total_agreement(steeges_ml, \"steeges\", \"ml_anon\")]"
   ]
  },
  {
   "cell_type": "markdown",
   "id": "2f918148",
   "metadata": {},
   "source": [
    "## Vik"
   ]
  },
  {
   "cell_type": "code",
   "execution_count": 439,
   "id": "b2336393",
   "metadata": {
    "collapsed": true
   },
   "outputs": [
    {
     "data": {
      "text/plain": [
       "[['adebola', 0],\n",
       " ['am', 1],\n",
       " ['ann', 0],\n",
       " ['anuj', 2],\n",
       " ['elbeth', 1],\n",
       " ['bfa', 2],\n",
       " ['gold', 0],\n",
       " ['bob', 1],\n",
       " ['lkh', 1],\n",
       " ['waka', 0],\n",
       " ['trice', 2],\n",
       " ['proof', 1],\n",
       " ['emmanuel', 3],\n",
       " ['fizzy', 1],\n",
       " ['dog', 2],\n",
       " ['flob', 2],\n",
       " ['emma_j', 0],\n",
       " ['greg', 3],\n",
       " ['grey', 1],\n",
       " ['stel', 3],\n",
       " ['jshua', 1],\n",
       " ['kish', 1],\n",
       " ['kylin', 2],\n",
       " ['z4yr', 0],\n",
       " ['hound', 2],\n",
       " ['mount', 4],\n",
       " ['nadalie', 1],\n",
       " ['richard', 0],\n",
       " ['ogunjo', 1],\n",
       " ['am2', 1],\n",
       " ['robot', 0],\n",
       " ['ann2', 0],\n",
       " ['steeges', 3],\n",
       " ['vik', 60],\n",
       " ['socal', 0],\n",
       " ['wolfman', 2],\n",
       " ['zer', 2],\n",
       " ['elbeth2', 0],\n",
       " ['bob2', 0],\n",
       " ['lkh2', 0],\n",
       " ['fizzy2', 1],\n",
       " ['trice2', 0],\n",
       " ['flob2', 0],\n",
       " ['greg2', 1],\n",
       " ['grey2', 2],\n",
       " ['stele2', 0],\n",
       " ['hound2', 2],\n",
       " ['richard2', 2],\n",
       " ['ogunjo2', 0],\n",
       " ['vik2', 0],\n",
       " ['wolfman2', 2],\n",
       " ['ml_anon', 41]]"
      ]
     },
     "execution_count": 439,
     "metadata": {},
     "output_type": "execute_result"
    }
   ],
   "source": [
    "find_common_handles(vik)"
   ]
  },
  {
   "cell_type": "code",
   "execution_count": 440,
   "id": "23035dda",
   "metadata": {},
   "outputs": [],
   "source": [
    "vik_emma = create_table(vik, emmanuel)\n",
    "vik_ml = create_table(vik, ml_anon)"
   ]
  },
  {
   "cell_type": "code",
   "execution_count": 56,
   "id": "cbc1fcbf",
   "metadata": {},
   "outputs": [
    {
     "data": {
      "text/plain": [
       "[0.0, 0.21987315010570818]"
      ]
     },
     "execution_count": 56,
     "metadata": {},
     "output_type": "execute_result"
    }
   ],
   "source": [
    "[cohen(vik, emmanuel), cohen(vik, ml_anon)]"
   ]
  },
  {
   "cell_type": "code",
   "execution_count": 442,
   "id": "648ea72b",
   "metadata": {},
   "outputs": [
    {
     "data": {
      "text/plain": [
       "[0.3333333333333333, 0.7804878048780488]"
      ]
     },
     "execution_count": 442,
     "metadata": {},
     "output_type": "execute_result"
    }
   ],
   "source": [
    "[total_agreement(vik_emma,\"vik\", \"emmanuel\"), total_agreement(vik_ml, \"vik\", \"ml_anon\")]"
   ]
  },
  {
   "cell_type": "markdown",
   "id": "64d5d573",
   "metadata": {},
   "source": [
    "## Socal"
   ]
  },
  {
   "cell_type": "code",
   "execution_count": 443,
   "id": "fdf6c172",
   "metadata": {
    "collapsed": true
   },
   "outputs": [
    {
     "data": {
      "text/plain": [
       "[['adebola', 0],\n",
       " ['am', 0],\n",
       " ['ann', 0],\n",
       " ['anuj', 1],\n",
       " ['elbeth', 2],\n",
       " ['bfa', 1],\n",
       " ['gold', 0],\n",
       " ['bob', 0],\n",
       " ['lkh', 2],\n",
       " ['waka', 2],\n",
       " ['trice', 3],\n",
       " ['proof', 1],\n",
       " ['emmanuel', 1],\n",
       " ['fizzy', 3],\n",
       " ['dog', 1],\n",
       " ['flob', 0],\n",
       " ['emma_j', 0],\n",
       " ['greg', 2],\n",
       " ['grey', 1],\n",
       " ['stel', 2],\n",
       " ['jshua', 1],\n",
       " ['kish', 1],\n",
       " ['kylin', 0],\n",
       " ['z4yr', 0],\n",
       " ['hound', 3],\n",
       " ['mount', 1],\n",
       " ['nadalie', 0],\n",
       " ['richard', 2],\n",
       " ['ogunjo', 2],\n",
       " ['am2', 0],\n",
       " ['robot', 0],\n",
       " ['ann2', 0],\n",
       " ['steeges', 0],\n",
       " ['vik', 0],\n",
       " ['socal', 60],\n",
       " ['wolfman', 1],\n",
       " ['zer', 0],\n",
       " ['elbeth2', 1],\n",
       " ['bob2', 0],\n",
       " ['lkh2', 0],\n",
       " ['fizzy2', 1],\n",
       " ['trice2', 0],\n",
       " ['flob2', 0],\n",
       " ['greg2', 0],\n",
       " ['grey2', 0],\n",
       " ['stele2', 0],\n",
       " ['hound2', 1],\n",
       " ['richard2', 1],\n",
       " ['ogunjo2', 0],\n",
       " ['vik2', 0],\n",
       " ['wolfman2', 1],\n",
       " ['ml_anon', 44]]"
      ]
     },
     "execution_count": 443,
     "metadata": {},
     "output_type": "execute_result"
    }
   ],
   "source": [
    "find_common_handles(socal)"
   ]
  },
  {
   "cell_type": "code",
   "execution_count": 444,
   "id": "01a48ecc",
   "metadata": {},
   "outputs": [
    {
     "data": {
      "text/plain": [
       "[0.3333333333333333, 1.0, 0.7727272727272727]"
      ]
     },
     "execution_count": 444,
     "metadata": {},
     "output_type": "execute_result"
    }
   ],
   "source": [
    "socal_fizzy = create_table(socal, fizzy)\n",
    "socal_hound = create_table(socal, hound)\n",
    "socal_ml = create_table(socal, ml_anon)\n",
    "\n",
    "\n",
    "[total_agreement(socal_fizzy,\"socal\", \"fizzy\"), total_agreement(socal_hound,\"socal\", \"hound\"),\n",
    " total_agreement(socal_ml, \"socal\", \"ml_anon\")]"
   ]
  },
  {
   "cell_type": "code",
   "execution_count": 57,
   "id": "c7dca091",
   "metadata": {},
   "outputs": [
    {
     "name": "stderr",
     "output_type": "stream",
     "text": [
      "C:\\Users\\user\\AppData\\Roaming\\Python\\Python37\\site-packages\\sklearn\\metrics\\_classification.py:658: RuntimeWarning: invalid value encountered in true_divide\n",
      "  k = np.sum(w_mat * confusion) / np.sum(w_mat * expected)\n"
     ]
    },
    {
     "data": {
      "text/plain": [
       "[-0.5, nan, 0.30379746835443033]"
      ]
     },
     "execution_count": 57,
     "metadata": {},
     "output_type": "execute_result"
    }
   ],
   "source": [
    "[cohen(socal, fizzy), cohen(socal, hound), cohen(socal, ml_anon)]"
   ]
  },
  {
   "cell_type": "code",
   "execution_count": 512,
   "id": "58833005",
   "metadata": {},
   "outputs": [],
   "source": [
    "names = [adebola, am, ann, anuj, elbeth, bfa, gold, bob, lkh, waka, trice, proof, emmanuel, fizzy, dog, flob, emma_j, greg,\n",
    "        grey, stel, jshua, kish, kylin, z4yr, hound, mount, nadalie, richard, ogunjo, am2, robot, ann2, steeges, vik, socal,\n",
    "        wolfman, zer, elbeth2, bob2, lkh2, fizzy2, trice2, flob2, greg2, grey2, stele2, hound2, richard2, ogunjo2, vik2, wolfman2, ml_anon]"
   ]
  },
  {
   "cell_type": "markdown",
   "id": "44c9a2bf",
   "metadata": {},
   "source": [
    "## Wolfman"
   ]
  },
  {
   "cell_type": "code",
   "execution_count": 458,
   "id": "7c884eb5",
   "metadata": {
    "collapsed": true
   },
   "outputs": [
    {
     "data": {
      "text/plain": [
       "[['adebola', 0],\n",
       " ['am', 0],\n",
       " ['ann', 0],\n",
       " ['anuj', 0],\n",
       " ['elbeth', 0],\n",
       " ['bfa', 1],\n",
       " ['gold', 1],\n",
       " ['bob', 1],\n",
       " ['lkh', 2],\n",
       " ['waka', 0],\n",
       " ['trice', 0],\n",
       " ['proof', 2],\n",
       " ['emmanuel', 0],\n",
       " ['fizzy', 1],\n",
       " ['dog', 2],\n",
       " ['flob', 1],\n",
       " ['emma_j', 2],\n",
       " ['greg', 2],\n",
       " ['grey', 1],\n",
       " ['stel', 3],\n",
       " ['jshua', 4],\n",
       " ['kish', 1],\n",
       " ['kylin', 0],\n",
       " ['z4yr', 1],\n",
       " ['hound', 2],\n",
       " ['mount', 0],\n",
       " ['nadalie', 0],\n",
       " ['richard', 0],\n",
       " ['ogunjo', 3],\n",
       " ['am2', 0],\n",
       " ['robot', 0],\n",
       " ['ann2', 2],\n",
       " ['steeges', 2],\n",
       " ['vik', 2],\n",
       " ['socal', 1],\n",
       " ['wolfman', 60],\n",
       " ['zer', 1],\n",
       " ['elbeth2', 0],\n",
       " ['bob2', 0],\n",
       " ['lkh2', 1],\n",
       " ['fizzy2', 0],\n",
       " ['trice2', 0],\n",
       " ['flob2', 0],\n",
       " ['greg2', 0],\n",
       " ['grey2', 0],\n",
       " ['stele2', 0],\n",
       " ['hound2', 0],\n",
       " ['richard2', 1],\n",
       " ['ogunjo2', 1],\n",
       " ['vik2', 0],\n",
       " ['wolfman2', 0],\n",
       " ['ml_anon', 41]]"
      ]
     },
     "execution_count": 458,
     "metadata": {},
     "output_type": "execute_result"
    }
   ],
   "source": [
    "find_common_handles(wolfman)"
   ]
  },
  {
   "cell_type": "code",
   "execution_count": 459,
   "id": "80ec4af6",
   "metadata": {},
   "outputs": [],
   "source": [
    "wolf_ml = create_table(wolfman, ml_anon)"
   ]
  },
  {
   "cell_type": "code",
   "execution_count": 58,
   "id": "ab73adee",
   "metadata": {},
   "outputs": [
    {
     "data": {
      "text/plain": [
       "[0.18850141376060314]"
      ]
     },
     "execution_count": 58,
     "metadata": {},
     "output_type": "execute_result"
    }
   ],
   "source": [
    "[ cohen(wolfman, ml_anon)]"
   ]
  },
  {
   "cell_type": "code",
   "execution_count": 460,
   "id": "63aff845",
   "metadata": {},
   "outputs": [
    {
     "data": {
      "text/plain": [
       "0.4878048780487805"
      ]
     },
     "execution_count": 460,
     "metadata": {},
     "output_type": "execute_result"
    }
   ],
   "source": [
    "total_agreement(wolf_ml,\"wolfman\", \"ml_anon\" )"
   ]
  },
  {
   "cell_type": "markdown",
   "id": "175f3613",
   "metadata": {},
   "source": [
    "## Zer"
   ]
  },
  {
   "cell_type": "code",
   "execution_count": 461,
   "id": "930ce04e",
   "metadata": {
    "collapsed": true
   },
   "outputs": [
    {
     "data": {
      "text/plain": [
       "[['adebola', 0],\n",
       " ['am', 1],\n",
       " ['ann', 0],\n",
       " ['anuj', 0],\n",
       " ['elbeth', 1],\n",
       " ['bfa', 0],\n",
       " ['gold', 3],\n",
       " ['bob', 1],\n",
       " ['lkh', 0],\n",
       " ['waka', 0],\n",
       " ['trice', 2],\n",
       " ['proof', 0],\n",
       " ['emmanuel', 0],\n",
       " ['fizzy', 2],\n",
       " ['dog', 1],\n",
       " ['flob', 4],\n",
       " ['emma_j', 1],\n",
       " ['greg', 2],\n",
       " ['grey', 0],\n",
       " ['stel', 0],\n",
       " ['jshua', 0],\n",
       " ['kish', 0],\n",
       " ['kylin', 1],\n",
       " ['z4yr', 1],\n",
       " ['hound', 2],\n",
       " ['mount', 2],\n",
       " ['nadalie', 5],\n",
       " ['richard', 2],\n",
       " ['ogunjo', 2],\n",
       " ['am2', 0],\n",
       " ['robot', 1],\n",
       " ['ann2', 1],\n",
       " ['steeges', 7],\n",
       " ['vik', 2],\n",
       " ['socal', 0],\n",
       " ['wolfman', 1],\n",
       " ['zer', 60],\n",
       " ['elbeth2', 1],\n",
       " ['bob2', 0],\n",
       " ['lkh2', 0],\n",
       " ['fizzy2', 0],\n",
       " ['trice2', 0],\n",
       " ['flob2', 0],\n",
       " ['greg2', 1],\n",
       " ['grey2', 0],\n",
       " ['stele2', 1],\n",
       " ['hound2', 0],\n",
       " ['richard2', 1],\n",
       " ['ogunjo2', 1],\n",
       " ['vik2', 0],\n",
       " ['wolfman2', 1],\n",
       " ['ml_anon', 42]]"
      ]
     },
     "execution_count": 461,
     "metadata": {},
     "output_type": "execute_result"
    }
   ],
   "source": [
    "find_common_handles(zer)"
   ]
  },
  {
   "cell_type": "code",
   "execution_count": 462,
   "id": "8c72834e",
   "metadata": {},
   "outputs": [],
   "source": [
    "zer_ml = create_table(zer, ml_anon)"
   ]
  },
  {
   "cell_type": "code",
   "execution_count": 59,
   "id": "6382fcfd",
   "metadata": {},
   "outputs": [
    {
     "data": {
      "text/plain": [
       "[0.15436241610738255]"
      ]
     },
     "execution_count": 59,
     "metadata": {},
     "output_type": "execute_result"
    }
   ],
   "source": [
    "[ cohen(zer, ml_anon)]"
   ]
  },
  {
   "cell_type": "code",
   "execution_count": 463,
   "id": "8a58b789",
   "metadata": {},
   "outputs": [
    {
     "data": {
      "text/plain": [
       "0.7142857142857143"
      ]
     },
     "execution_count": 463,
     "metadata": {},
     "output_type": "execute_result"
    }
   ],
   "source": [
    "total_agreement(zer_ml, \"zer\", \"ml_anon\")"
   ]
  },
  {
   "cell_type": "code",
   "execution_count": 61,
   "id": "aa49c482",
   "metadata": {},
   "outputs": [
    {
     "data": {
      "text/plain": [
       "(-0.18421052631578938, 0.0)"
      ]
     },
     "execution_count": 61,
     "metadata": {},
     "output_type": "execute_result"
    }
   ],
   "source": [
    "cohen(anuj, ml_anon), cohen(anuj, steeges)"
   ]
  },
  {
   "cell_type": "code",
   "execution_count": 525,
   "id": "6b5f3cb9",
   "metadata": {},
   "outputs": [
    {
     "data": {
      "text/plain": [
       "[0.3333333333333333, 0.6296296296296297]"
      ]
     },
     "execution_count": 525,
     "metadata": {},
     "output_type": "execute_result"
    }
   ],
   "source": [
    "anuj_steeges = create_table(anuj, steeges)\n",
    "anuj_ml = create_table(anuj, ml_anon)\n",
    "\n",
    "[total_agreement(anuj_steeges, \"anuj\", \"steeges\"), total_agreement(anuj_ml, \"anuj\", \"ml_anon\")]"
   ]
  },
  {
   "cell_type": "code",
   "execution_count": 527,
   "id": "36c7bac9",
   "metadata": {},
   "outputs": [],
   "source": [
    "dff = pd.concat([lkh, lkh2])\n",
    "dff.duplicated().sum()\n",
    "\n",
    "dff.reset_index(drop=True, inplace=True)"
   ]
  },
  {
   "cell_type": "code",
   "execution_count": 528,
   "id": "1e8b50f3",
   "metadata": {},
   "outputs": [
    {
     "data": {
      "text/plain": [
       "[['adebola', 0],\n",
       " ['am', 0],\n",
       " ['ann', 0],\n",
       " ['anuj', 1],\n",
       " ['_482', 4],\n",
       " ['bfa', 1],\n",
       " ['gold', 3],\n",
       " ['bob', 3],\n",
       " ['lkh', 61],\n",
       " ['waka', 0],\n",
       " ['trice', 2],\n",
       " ['proof', 2],\n",
       " ['emmanuel', 2],\n",
       " ['fizzy', 1],\n",
       " ['dog', 3],\n",
       " ['flob', 2],\n",
       " ['emma_j', 1],\n",
       " ['greg', 1],\n",
       " ['grey', 0],\n",
       " ['stel', 3],\n",
       " ['jshua', 1],\n",
       " ['kish', 2],\n",
       " ['kylin', 2],\n",
       " ['z4yr', 3],\n",
       " ['hound', 5],\n",
       " ['mount', 1],\n",
       " ['nadalie', 2],\n",
       " ['richard', 4],\n",
       " ['ogunjo', 3],\n",
       " ['am2', 1],\n",
       " ['robot', 0],\n",
       " ['ann2', 2],\n",
       " ['steeges', 1],\n",
       " ['vik', 1],\n",
       " ['socal', 2],\n",
       " ['wolfman', 3],\n",
       " ['zer', 0],\n",
       " ['elbeth2', 2],\n",
       " ['bob2', 0],\n",
       " ['lkh2', 6],\n",
       " ['fizzy2', 1],\n",
       " ['trice2', 0],\n",
       " ['flob2', 0],\n",
       " ['greg2', 0],\n",
       " ['grey2', 2],\n",
       " ['stele2', 1],\n",
       " ['hound2', 0],\n",
       " ['richard2', 1],\n",
       " ['ogunjo2', 0],\n",
       " ['vik2', 0],\n",
       " ['wolfman2', 2],\n",
       " ['ml_anon', 42]]"
      ]
     },
     "execution_count": 528,
     "metadata": {},
     "output_type": "execute_result"
    }
   ],
   "source": [
    "find_common_handles(dff)"
   ]
  },
  {
   "cell_type": "code",
   "execution_count": null,
   "id": "f25aa3f9",
   "metadata": {},
   "outputs": [],
   "source": []
  },
  {
   "cell_type": "code",
   "execution_count": 62,
   "id": "7db82988",
   "metadata": {},
   "outputs": [],
   "source": [
    "corr2 = pd.read_excel(\"./Cohen_kappa.xlsx\")"
   ]
  },
  {
   "cell_type": "code",
   "execution_count": 63,
   "id": "92d635e3",
   "metadata": {},
   "outputs": [
    {
     "data": {
      "text/html": [
       "<div>\n",
       "<style scoped>\n",
       "    .dataframe tbody tr th:only-of-type {\n",
       "        vertical-align: middle;\n",
       "    }\n",
       "\n",
       "    .dataframe tbody tr th {\n",
       "        vertical-align: top;\n",
       "    }\n",
       "\n",
       "    .dataframe thead th {\n",
       "        text-align: right;\n",
       "    }\n",
       "</style>\n",
       "<table border=\"1\" class=\"dataframe\">\n",
       "  <thead>\n",
       "    <tr style=\"text-align: right;\">\n",
       "      <th></th>\n",
       "      <th>Unnamed: 0</th>\n",
       "      <th>Anuj</th>\n",
       "      <th>Fizzy</th>\n",
       "      <th>Elbeth</th>\n",
       "      <th>Bfa</th>\n",
       "      <th>Gold</th>\n",
       "      <th>Bob</th>\n",
       "      <th>Lkh</th>\n",
       "      <th>Waka</th>\n",
       "      <th>Trice</th>\n",
       "      <th>...</th>\n",
       "      <th>Nadalie</th>\n",
       "      <th>Richard</th>\n",
       "      <th>Ogunjosam</th>\n",
       "      <th>Robot</th>\n",
       "      <th>Steeges</th>\n",
       "      <th>Vik</th>\n",
       "      <th>Socal</th>\n",
       "      <th>Wolfman</th>\n",
       "      <th>Zer</th>\n",
       "      <th>ML</th>\n",
       "    </tr>\n",
       "  </thead>\n",
       "  <tbody>\n",
       "    <tr>\n",
       "      <th>0</th>\n",
       "      <td>Anuj</td>\n",
       "      <td>1.00</td>\n",
       "      <td>NaN</td>\n",
       "      <td>NaN</td>\n",
       "      <td>NaN</td>\n",
       "      <td>NaN</td>\n",
       "      <td>NaN</td>\n",
       "      <td>NaN</td>\n",
       "      <td>NaN</td>\n",
       "      <td>NaN</td>\n",
       "      <td>...</td>\n",
       "      <td>NaN</td>\n",
       "      <td>NaN</td>\n",
       "      <td>NaN</td>\n",
       "      <td>NaN</td>\n",
       "      <td>0.00</td>\n",
       "      <td>NaN</td>\n",
       "      <td>NaN</td>\n",
       "      <td>NaN</td>\n",
       "      <td>NaN</td>\n",
       "      <td>-0.1800</td>\n",
       "    </tr>\n",
       "    <tr>\n",
       "      <th>1</th>\n",
       "      <td>Fizzy</td>\n",
       "      <td>NaN</td>\n",
       "      <td>1.000</td>\n",
       "      <td>0.000</td>\n",
       "      <td>NaN</td>\n",
       "      <td>0.330</td>\n",
       "      <td>NaN</td>\n",
       "      <td>NaN</td>\n",
       "      <td>NaN</td>\n",
       "      <td>NaN</td>\n",
       "      <td>...</td>\n",
       "      <td>NaN</td>\n",
       "      <td>NaN</td>\n",
       "      <td>NaN</td>\n",
       "      <td>NaN</td>\n",
       "      <td>NaN</td>\n",
       "      <td>NaN</td>\n",
       "      <td>-0.500</td>\n",
       "      <td>NaN</td>\n",
       "      <td>NaN</td>\n",
       "      <td>-0.0900</td>\n",
       "    </tr>\n",
       "    <tr>\n",
       "      <th>2</th>\n",
       "      <td>Elbeth</td>\n",
       "      <td>NaN</td>\n",
       "      <td>0.000</td>\n",
       "      <td>1.000</td>\n",
       "      <td>0.399</td>\n",
       "      <td>NaN</td>\n",
       "      <td>NaN</td>\n",
       "      <td>NaN</td>\n",
       "      <td>NaN</td>\n",
       "      <td>-0.250</td>\n",
       "      <td>...</td>\n",
       "      <td>NaN</td>\n",
       "      <td>0.000</td>\n",
       "      <td>NaN</td>\n",
       "      <td>NaN</td>\n",
       "      <td>NaN</td>\n",
       "      <td>NaN</td>\n",
       "      <td>NaN</td>\n",
       "      <td>NaN</td>\n",
       "      <td>NaN</td>\n",
       "      <td>0.1700</td>\n",
       "    </tr>\n",
       "    <tr>\n",
       "      <th>3</th>\n",
       "      <td>Bfa</td>\n",
       "      <td>NaN</td>\n",
       "      <td>NaN</td>\n",
       "      <td>0.399</td>\n",
       "      <td>1.000</td>\n",
       "      <td>1.000</td>\n",
       "      <td>NaN</td>\n",
       "      <td>NaN</td>\n",
       "      <td>NaN</td>\n",
       "      <td>NaN</td>\n",
       "      <td>...</td>\n",
       "      <td>NaN</td>\n",
       "      <td>NaN</td>\n",
       "      <td>NaN</td>\n",
       "      <td>NaN</td>\n",
       "      <td>NaN</td>\n",
       "      <td>NaN</td>\n",
       "      <td>NaN</td>\n",
       "      <td>NaN</td>\n",
       "      <td>NaN</td>\n",
       "      <td>0.5100</td>\n",
       "    </tr>\n",
       "    <tr>\n",
       "      <th>4</th>\n",
       "      <td>Gold</td>\n",
       "      <td>NaN</td>\n",
       "      <td>0.399</td>\n",
       "      <td>NaN</td>\n",
       "      <td>1.000</td>\n",
       "      <td>1.000</td>\n",
       "      <td>NaN</td>\n",
       "      <td>0.00</td>\n",
       "      <td>NaN</td>\n",
       "      <td>NaN</td>\n",
       "      <td>...</td>\n",
       "      <td>NaN</td>\n",
       "      <td>NaN</td>\n",
       "      <td>NaN</td>\n",
       "      <td>NaN</td>\n",
       "      <td>NaN</td>\n",
       "      <td>NaN</td>\n",
       "      <td>NaN</td>\n",
       "      <td>NaN</td>\n",
       "      <td>0.0</td>\n",
       "      <td>0.3890</td>\n",
       "    </tr>\n",
       "    <tr>\n",
       "      <th>5</th>\n",
       "      <td>Bob</td>\n",
       "      <td>NaN</td>\n",
       "      <td>NaN</td>\n",
       "      <td>NaN</td>\n",
       "      <td>NaN</td>\n",
       "      <td>NaN</td>\n",
       "      <td>1.000</td>\n",
       "      <td>1.00</td>\n",
       "      <td>1.00</td>\n",
       "      <td>NaN</td>\n",
       "      <td>...</td>\n",
       "      <td>1.00</td>\n",
       "      <td>NaN</td>\n",
       "      <td>NaN</td>\n",
       "      <td>NaN</td>\n",
       "      <td>NaN</td>\n",
       "      <td>NaN</td>\n",
       "      <td>NaN</td>\n",
       "      <td>NaN</td>\n",
       "      <td>NaN</td>\n",
       "      <td>0.0200</td>\n",
       "    </tr>\n",
       "    <tr>\n",
       "      <th>6</th>\n",
       "      <td>Lkh</td>\n",
       "      <td>NaN</td>\n",
       "      <td>NaN</td>\n",
       "      <td>NaN</td>\n",
       "      <td>NaN</td>\n",
       "      <td>0.000</td>\n",
       "      <td>1.000</td>\n",
       "      <td>1.00</td>\n",
       "      <td>NaN</td>\n",
       "      <td>0.000</td>\n",
       "      <td>...</td>\n",
       "      <td>NaN</td>\n",
       "      <td>0.000</td>\n",
       "      <td>0.39</td>\n",
       "      <td>NaN</td>\n",
       "      <td>NaN</td>\n",
       "      <td>NaN</td>\n",
       "      <td>NaN</td>\n",
       "      <td>NaN</td>\n",
       "      <td>NaN</td>\n",
       "      <td>0.1800</td>\n",
       "    </tr>\n",
       "    <tr>\n",
       "      <th>7</th>\n",
       "      <td>Waka</td>\n",
       "      <td>NaN</td>\n",
       "      <td>NaN</td>\n",
       "      <td>NaN</td>\n",
       "      <td>NaN</td>\n",
       "      <td>NaN</td>\n",
       "      <td>1.000</td>\n",
       "      <td>NaN</td>\n",
       "      <td>1.00</td>\n",
       "      <td>NaN</td>\n",
       "      <td>...</td>\n",
       "      <td>NaN</td>\n",
       "      <td>NaN</td>\n",
       "      <td>1.00</td>\n",
       "      <td>NaN</td>\n",
       "      <td>NaN</td>\n",
       "      <td>NaN</td>\n",
       "      <td>0.000</td>\n",
       "      <td>NaN</td>\n",
       "      <td>NaN</td>\n",
       "      <td>0.4800</td>\n",
       "    </tr>\n",
       "    <tr>\n",
       "      <th>8</th>\n",
       "      <td>Trice</td>\n",
       "      <td>NaN</td>\n",
       "      <td>NaN</td>\n",
       "      <td>-0.250</td>\n",
       "      <td>NaN</td>\n",
       "      <td>NaN</td>\n",
       "      <td>NaN</td>\n",
       "      <td>0.00</td>\n",
       "      <td>NaN</td>\n",
       "      <td>1.000</td>\n",
       "      <td>...</td>\n",
       "      <td>NaN</td>\n",
       "      <td>0.000</td>\n",
       "      <td>0.00</td>\n",
       "      <td>NaN</td>\n",
       "      <td>NaN</td>\n",
       "      <td>0.000</td>\n",
       "      <td>0.000</td>\n",
       "      <td>NaN</td>\n",
       "      <td>0.0</td>\n",
       "      <td>0.0020</td>\n",
       "    </tr>\n",
       "    <tr>\n",
       "      <th>9</th>\n",
       "      <td>Proof</td>\n",
       "      <td>NaN</td>\n",
       "      <td>NaN</td>\n",
       "      <td>NaN</td>\n",
       "      <td>NaN</td>\n",
       "      <td>NaN</td>\n",
       "      <td>NaN</td>\n",
       "      <td>NaN</td>\n",
       "      <td>NaN</td>\n",
       "      <td>NaN</td>\n",
       "      <td>...</td>\n",
       "      <td>NaN</td>\n",
       "      <td>NaN</td>\n",
       "      <td>NaN</td>\n",
       "      <td>NaN</td>\n",
       "      <td>0.00</td>\n",
       "      <td>NaN</td>\n",
       "      <td>NaN</td>\n",
       "      <td>NaN</td>\n",
       "      <td>NaN</td>\n",
       "      <td>0.2700</td>\n",
       "    </tr>\n",
       "    <tr>\n",
       "      <th>10</th>\n",
       "      <td>Emmanuel</td>\n",
       "      <td>NaN</td>\n",
       "      <td>NaN</td>\n",
       "      <td>NaN</td>\n",
       "      <td>NaN</td>\n",
       "      <td>NaN</td>\n",
       "      <td>NaN</td>\n",
       "      <td>NaN</td>\n",
       "      <td>NaN</td>\n",
       "      <td>1.000</td>\n",
       "      <td>...</td>\n",
       "      <td>NaN</td>\n",
       "      <td>NaN</td>\n",
       "      <td>NaN</td>\n",
       "      <td>NaN</td>\n",
       "      <td>NaN</td>\n",
       "      <td>0.219</td>\n",
       "      <td>NaN</td>\n",
       "      <td>NaN</td>\n",
       "      <td>NaN</td>\n",
       "      <td>0.0082</td>\n",
       "    </tr>\n",
       "    <tr>\n",
       "      <th>11</th>\n",
       "      <td>Dogg</td>\n",
       "      <td>NaN</td>\n",
       "      <td>NaN</td>\n",
       "      <td>NaN</td>\n",
       "      <td>0.550</td>\n",
       "      <td>NaN</td>\n",
       "      <td>NaN</td>\n",
       "      <td>0.00</td>\n",
       "      <td>NaN</td>\n",
       "      <td>NaN</td>\n",
       "      <td>...</td>\n",
       "      <td>NaN</td>\n",
       "      <td>NaN</td>\n",
       "      <td>NaN</td>\n",
       "      <td>NaN</td>\n",
       "      <td>NaN</td>\n",
       "      <td>NaN</td>\n",
       "      <td>NaN</td>\n",
       "      <td>NaN</td>\n",
       "      <td>NaN</td>\n",
       "      <td>0.1700</td>\n",
       "    </tr>\n",
       "    <tr>\n",
       "      <th>12</th>\n",
       "      <td>Flob</td>\n",
       "      <td>NaN</td>\n",
       "      <td>NaN</td>\n",
       "      <td>NaN</td>\n",
       "      <td>NaN</td>\n",
       "      <td>NaN</td>\n",
       "      <td>NaN</td>\n",
       "      <td>NaN</td>\n",
       "      <td>0.00</td>\n",
       "      <td>NaN</td>\n",
       "      <td>...</td>\n",
       "      <td>NaN</td>\n",
       "      <td>NaN</td>\n",
       "      <td>NaN</td>\n",
       "      <td>NaN</td>\n",
       "      <td>NaN</td>\n",
       "      <td>NaN</td>\n",
       "      <td>NaN</td>\n",
       "      <td>NaN</td>\n",
       "      <td>0.0</td>\n",
       "      <td>0.3300</td>\n",
       "    </tr>\n",
       "    <tr>\n",
       "      <th>13</th>\n",
       "      <td>Emmanuel.J</td>\n",
       "      <td>NaN</td>\n",
       "      <td>NaN</td>\n",
       "      <td>NaN</td>\n",
       "      <td>NaN</td>\n",
       "      <td>NaN</td>\n",
       "      <td>NaN</td>\n",
       "      <td>NaN</td>\n",
       "      <td>NaN</td>\n",
       "      <td>NaN</td>\n",
       "      <td>...</td>\n",
       "      <td>-0.50</td>\n",
       "      <td>NaN</td>\n",
       "      <td>0.39</td>\n",
       "      <td>NaN</td>\n",
       "      <td>1.00</td>\n",
       "      <td>NaN</td>\n",
       "      <td>NaN</td>\n",
       "      <td>NaN</td>\n",
       "      <td>NaN</td>\n",
       "      <td>0.1300</td>\n",
       "    </tr>\n",
       "    <tr>\n",
       "      <th>14</th>\n",
       "      <td>Greg</td>\n",
       "      <td>NaN</td>\n",
       "      <td>NaN</td>\n",
       "      <td>NaN</td>\n",
       "      <td>NaN</td>\n",
       "      <td>NaN</td>\n",
       "      <td>NaN</td>\n",
       "      <td>NaN</td>\n",
       "      <td>0.00</td>\n",
       "      <td>0.000</td>\n",
       "      <td>...</td>\n",
       "      <td>NaN</td>\n",
       "      <td>0.000</td>\n",
       "      <td>NaN</td>\n",
       "      <td>1.0</td>\n",
       "      <td>NaN</td>\n",
       "      <td>NaN</td>\n",
       "      <td>NaN</td>\n",
       "      <td>NaN</td>\n",
       "      <td>NaN</td>\n",
       "      <td>0.2900</td>\n",
       "    </tr>\n",
       "    <tr>\n",
       "      <th>15</th>\n",
       "      <td>Grey</td>\n",
       "      <td>NaN</td>\n",
       "      <td>NaN</td>\n",
       "      <td>NaN</td>\n",
       "      <td>NaN</td>\n",
       "      <td>NaN</td>\n",
       "      <td>NaN</td>\n",
       "      <td>NaN</td>\n",
       "      <td>1.00</td>\n",
       "      <td>NaN</td>\n",
       "      <td>...</td>\n",
       "      <td>NaN</td>\n",
       "      <td>NaN</td>\n",
       "      <td>0.39</td>\n",
       "      <td>NaN</td>\n",
       "      <td>NaN</td>\n",
       "      <td>NaN</td>\n",
       "      <td>NaN</td>\n",
       "      <td>NaN</td>\n",
       "      <td>NaN</td>\n",
       "      <td>0.1300</td>\n",
       "    </tr>\n",
       "    <tr>\n",
       "      <th>16</th>\n",
       "      <td>Stel</td>\n",
       "      <td>NaN</td>\n",
       "      <td>NaN</td>\n",
       "      <td>NaN</td>\n",
       "      <td>NaN</td>\n",
       "      <td>NaN</td>\n",
       "      <td>NaN</td>\n",
       "      <td>0.00</td>\n",
       "      <td>NaN</td>\n",
       "      <td>NaN</td>\n",
       "      <td>...</td>\n",
       "      <td>NaN</td>\n",
       "      <td>NaN</td>\n",
       "      <td>NaN</td>\n",
       "      <td>NaN</td>\n",
       "      <td>NaN</td>\n",
       "      <td>0.000</td>\n",
       "      <td>NaN</td>\n",
       "      <td>0.000</td>\n",
       "      <td>NaN</td>\n",
       "      <td>-0.1300</td>\n",
       "    </tr>\n",
       "    <tr>\n",
       "      <th>17</th>\n",
       "      <td>Jshua</td>\n",
       "      <td>NaN</td>\n",
       "      <td>NaN</td>\n",
       "      <td>NaN</td>\n",
       "      <td>NaN</td>\n",
       "      <td>NaN</td>\n",
       "      <td>NaN</td>\n",
       "      <td>NaN</td>\n",
       "      <td>NaN</td>\n",
       "      <td>NaN</td>\n",
       "      <td>...</td>\n",
       "      <td>NaN</td>\n",
       "      <td>NaN</td>\n",
       "      <td>NaN</td>\n",
       "      <td>NaN</td>\n",
       "      <td>NaN</td>\n",
       "      <td>NaN</td>\n",
       "      <td>NaN</td>\n",
       "      <td>0.190</td>\n",
       "      <td>NaN</td>\n",
       "      <td>0.2700</td>\n",
       "    </tr>\n",
       "    <tr>\n",
       "      <th>18</th>\n",
       "      <td>Kish</td>\n",
       "      <td>NaN</td>\n",
       "      <td>NaN</td>\n",
       "      <td>NaN</td>\n",
       "      <td>0.660</td>\n",
       "      <td>NaN</td>\n",
       "      <td>NaN</td>\n",
       "      <td>NaN</td>\n",
       "      <td>NaN</td>\n",
       "      <td>NaN</td>\n",
       "      <td>...</td>\n",
       "      <td>NaN</td>\n",
       "      <td>NaN</td>\n",
       "      <td>NaN</td>\n",
       "      <td>NaN</td>\n",
       "      <td>NaN</td>\n",
       "      <td>NaN</td>\n",
       "      <td>NaN</td>\n",
       "      <td>NaN</td>\n",
       "      <td>NaN</td>\n",
       "      <td>0.0900</td>\n",
       "    </tr>\n",
       "    <tr>\n",
       "      <th>19</th>\n",
       "      <td>Kylin</td>\n",
       "      <td>NaN</td>\n",
       "      <td>NaN</td>\n",
       "      <td>NaN</td>\n",
       "      <td>NaN</td>\n",
       "      <td>NaN</td>\n",
       "      <td>NaN</td>\n",
       "      <td>NaN</td>\n",
       "      <td>NaN</td>\n",
       "      <td>0.000</td>\n",
       "      <td>...</td>\n",
       "      <td>0.19</td>\n",
       "      <td>NaN</td>\n",
       "      <td>NaN</td>\n",
       "      <td>NaN</td>\n",
       "      <td>NaN</td>\n",
       "      <td>NaN</td>\n",
       "      <td>NaN</td>\n",
       "      <td>NaN</td>\n",
       "      <td>NaN</td>\n",
       "      <td>0.5500</td>\n",
       "    </tr>\n",
       "    <tr>\n",
       "      <th>20</th>\n",
       "      <td>z4yr</td>\n",
       "      <td>NaN</td>\n",
       "      <td>NaN</td>\n",
       "      <td>0.390</td>\n",
       "      <td>NaN</td>\n",
       "      <td>0.500</td>\n",
       "      <td>0.000</td>\n",
       "      <td>0.00</td>\n",
       "      <td>NaN</td>\n",
       "      <td>0.000</td>\n",
       "      <td>...</td>\n",
       "      <td>NaN</td>\n",
       "      <td>NaN</td>\n",
       "      <td>NaN</td>\n",
       "      <td>NaN</td>\n",
       "      <td>1.00</td>\n",
       "      <td>NaN</td>\n",
       "      <td>NaN</td>\n",
       "      <td>NaN</td>\n",
       "      <td>NaN</td>\n",
       "      <td>0.3700</td>\n",
       "    </tr>\n",
       "    <tr>\n",
       "      <th>21</th>\n",
       "      <td>Hound</td>\n",
       "      <td>NaN</td>\n",
       "      <td>NaN</td>\n",
       "      <td>NaN</td>\n",
       "      <td>NaN</td>\n",
       "      <td>NaN</td>\n",
       "      <td>NaN</td>\n",
       "      <td>1.00</td>\n",
       "      <td>NaN</td>\n",
       "      <td>NaN</td>\n",
       "      <td>...</td>\n",
       "      <td>NaN</td>\n",
       "      <td>NaN</td>\n",
       "      <td>NaN</td>\n",
       "      <td>NaN</td>\n",
       "      <td>NaN</td>\n",
       "      <td>NaN</td>\n",
       "      <td>NaN</td>\n",
       "      <td>NaN</td>\n",
       "      <td>NaN</td>\n",
       "      <td>0.0880</td>\n",
       "    </tr>\n",
       "    <tr>\n",
       "      <th>22</th>\n",
       "      <td>Mount</td>\n",
       "      <td>NaN</td>\n",
       "      <td>NaN</td>\n",
       "      <td>0.500</td>\n",
       "      <td>NaN</td>\n",
       "      <td>NaN</td>\n",
       "      <td>NaN</td>\n",
       "      <td>NaN</td>\n",
       "      <td>NaN</td>\n",
       "      <td>NaN</td>\n",
       "      <td>...</td>\n",
       "      <td>NaN</td>\n",
       "      <td>NaN</td>\n",
       "      <td>NaN</td>\n",
       "      <td>NaN</td>\n",
       "      <td>NaN</td>\n",
       "      <td>NaN</td>\n",
       "      <td>NaN</td>\n",
       "      <td>NaN</td>\n",
       "      <td>NaN</td>\n",
       "      <td>0.1320</td>\n",
       "    </tr>\n",
       "    <tr>\n",
       "      <th>23</th>\n",
       "      <td>Nadalie</td>\n",
       "      <td>NaN</td>\n",
       "      <td>NaN</td>\n",
       "      <td>NaN</td>\n",
       "      <td>NaN</td>\n",
       "      <td>NaN</td>\n",
       "      <td>1.000</td>\n",
       "      <td>NaN</td>\n",
       "      <td>NaN</td>\n",
       "      <td>NaN</td>\n",
       "      <td>...</td>\n",
       "      <td>1.00</td>\n",
       "      <td>NaN</td>\n",
       "      <td>NaN</td>\n",
       "      <td>NaN</td>\n",
       "      <td>-0.50</td>\n",
       "      <td>NaN</td>\n",
       "      <td>NaN</td>\n",
       "      <td>NaN</td>\n",
       "      <td>1.0</td>\n",
       "      <td>0.1500</td>\n",
       "    </tr>\n",
       "    <tr>\n",
       "      <th>24</th>\n",
       "      <td>Richard</td>\n",
       "      <td>NaN</td>\n",
       "      <td>-0.330</td>\n",
       "      <td>0.000</td>\n",
       "      <td>NaN</td>\n",
       "      <td>NaN</td>\n",
       "      <td>NaN</td>\n",
       "      <td>0.00</td>\n",
       "      <td>NaN</td>\n",
       "      <td>0.000</td>\n",
       "      <td>...</td>\n",
       "      <td>NaN</td>\n",
       "      <td>1.000</td>\n",
       "      <td>NaN</td>\n",
       "      <td>1.0</td>\n",
       "      <td>NaN</td>\n",
       "      <td>NaN</td>\n",
       "      <td>NaN</td>\n",
       "      <td>NaN</td>\n",
       "      <td>NaN</td>\n",
       "      <td>-0.0450</td>\n",
       "    </tr>\n",
       "    <tr>\n",
       "      <th>25</th>\n",
       "      <td>Ogunjosam</td>\n",
       "      <td>NaN</td>\n",
       "      <td>NaN</td>\n",
       "      <td>NaN</td>\n",
       "      <td>NaN</td>\n",
       "      <td>NaN</td>\n",
       "      <td>NaN</td>\n",
       "      <td>0.39</td>\n",
       "      <td>1.00</td>\n",
       "      <td>0.000</td>\n",
       "      <td>...</td>\n",
       "      <td>NaN</td>\n",
       "      <td>NaN</td>\n",
       "      <td>1.00</td>\n",
       "      <td>NaN</td>\n",
       "      <td>NaN</td>\n",
       "      <td>NaN</td>\n",
       "      <td>NaN</td>\n",
       "      <td>NaN</td>\n",
       "      <td>NaN</td>\n",
       "      <td>0.4300</td>\n",
       "    </tr>\n",
       "    <tr>\n",
       "      <th>26</th>\n",
       "      <td>Robot</td>\n",
       "      <td>NaN</td>\n",
       "      <td>NaN</td>\n",
       "      <td>NaN</td>\n",
       "      <td>NaN</td>\n",
       "      <td>NaN</td>\n",
       "      <td>NaN</td>\n",
       "      <td>NaN</td>\n",
       "      <td>NaN</td>\n",
       "      <td>NaN</td>\n",
       "      <td>...</td>\n",
       "      <td>NaN</td>\n",
       "      <td>1.000</td>\n",
       "      <td>NaN</td>\n",
       "      <td>1.0</td>\n",
       "      <td>NaN</td>\n",
       "      <td>NaN</td>\n",
       "      <td>NaN</td>\n",
       "      <td>NaN</td>\n",
       "      <td>NaN</td>\n",
       "      <td>0.0000</td>\n",
       "    </tr>\n",
       "    <tr>\n",
       "      <th>27</th>\n",
       "      <td>Steeges</td>\n",
       "      <td>0.00</td>\n",
       "      <td>NaN</td>\n",
       "      <td>NaN</td>\n",
       "      <td>NaN</td>\n",
       "      <td>NaN</td>\n",
       "      <td>NaN</td>\n",
       "      <td>NaN</td>\n",
       "      <td>NaN</td>\n",
       "      <td>NaN</td>\n",
       "      <td>...</td>\n",
       "      <td>-0.50</td>\n",
       "      <td>NaN</td>\n",
       "      <td>NaN</td>\n",
       "      <td>NaN</td>\n",
       "      <td>1.00</td>\n",
       "      <td>NaN</td>\n",
       "      <td>NaN</td>\n",
       "      <td>NaN</td>\n",
       "      <td>-0.4</td>\n",
       "      <td>0.3500</td>\n",
       "    </tr>\n",
       "    <tr>\n",
       "      <th>28</th>\n",
       "      <td>Vik</td>\n",
       "      <td>NaN</td>\n",
       "      <td>NaN</td>\n",
       "      <td>NaN</td>\n",
       "      <td>NaN</td>\n",
       "      <td>NaN</td>\n",
       "      <td>NaN</td>\n",
       "      <td>NaN</td>\n",
       "      <td>NaN</td>\n",
       "      <td>0.000</td>\n",
       "      <td>...</td>\n",
       "      <td>NaN</td>\n",
       "      <td>NaN</td>\n",
       "      <td>NaN</td>\n",
       "      <td>NaN</td>\n",
       "      <td>NaN</td>\n",
       "      <td>1.000</td>\n",
       "      <td>NaN</td>\n",
       "      <td>NaN</td>\n",
       "      <td>NaN</td>\n",
       "      <td>0.0000</td>\n",
       "    </tr>\n",
       "    <tr>\n",
       "      <th>29</th>\n",
       "      <td>Socal</td>\n",
       "      <td>NaN</td>\n",
       "      <td>-0.500</td>\n",
       "      <td>NaN</td>\n",
       "      <td>NaN</td>\n",
       "      <td>NaN</td>\n",
       "      <td>NaN</td>\n",
       "      <td>NaN</td>\n",
       "      <td>0.00</td>\n",
       "      <td>0.000</td>\n",
       "      <td>...</td>\n",
       "      <td>NaN</td>\n",
       "      <td>NaN</td>\n",
       "      <td>NaN</td>\n",
       "      <td>NaN</td>\n",
       "      <td>NaN</td>\n",
       "      <td>NaN</td>\n",
       "      <td>1.000</td>\n",
       "      <td>NaN</td>\n",
       "      <td>NaN</td>\n",
       "      <td>0.3040</td>\n",
       "    </tr>\n",
       "    <tr>\n",
       "      <th>30</th>\n",
       "      <td>Wolfman</td>\n",
       "      <td>NaN</td>\n",
       "      <td>NaN</td>\n",
       "      <td>NaN</td>\n",
       "      <td>NaN</td>\n",
       "      <td>NaN</td>\n",
       "      <td>NaN</td>\n",
       "      <td>NaN</td>\n",
       "      <td>NaN</td>\n",
       "      <td>NaN</td>\n",
       "      <td>...</td>\n",
       "      <td>NaN</td>\n",
       "      <td>NaN</td>\n",
       "      <td>NaN</td>\n",
       "      <td>NaN</td>\n",
       "      <td>NaN</td>\n",
       "      <td>NaN</td>\n",
       "      <td>NaN</td>\n",
       "      <td>1.000</td>\n",
       "      <td>NaN</td>\n",
       "      <td>0.1890</td>\n",
       "    </tr>\n",
       "    <tr>\n",
       "      <th>31</th>\n",
       "      <td>Zer</td>\n",
       "      <td>NaN</td>\n",
       "      <td>NaN</td>\n",
       "      <td>NaN</td>\n",
       "      <td>NaN</td>\n",
       "      <td>0.000</td>\n",
       "      <td>NaN</td>\n",
       "      <td>NaN</td>\n",
       "      <td>NaN</td>\n",
       "      <td>0.000</td>\n",
       "      <td>...</td>\n",
       "      <td>1.00</td>\n",
       "      <td>NaN</td>\n",
       "      <td>NaN</td>\n",
       "      <td>NaN</td>\n",
       "      <td>-0.40</td>\n",
       "      <td>NaN</td>\n",
       "      <td>NaN</td>\n",
       "      <td>NaN</td>\n",
       "      <td>1.0</td>\n",
       "      <td>-0.4000</td>\n",
       "    </tr>\n",
       "    <tr>\n",
       "      <th>32</th>\n",
       "      <td>ML</td>\n",
       "      <td>-0.18</td>\n",
       "      <td>-0.090</td>\n",
       "      <td>0.170</td>\n",
       "      <td>0.510</td>\n",
       "      <td>0.389</td>\n",
       "      <td>0.002</td>\n",
       "      <td>0.18</td>\n",
       "      <td>0.48</td>\n",
       "      <td>0.002</td>\n",
       "      <td>...</td>\n",
       "      <td>0.15</td>\n",
       "      <td>-0.045</td>\n",
       "      <td>0.43</td>\n",
       "      <td>0.0</td>\n",
       "      <td>0.35</td>\n",
       "      <td>0.000</td>\n",
       "      <td>0.304</td>\n",
       "      <td>0.189</td>\n",
       "      <td>-0.4</td>\n",
       "      <td>1.0000</td>\n",
       "    </tr>\n",
       "  </tbody>\n",
       "</table>\n",
       "<p>33 rows × 34 columns</p>\n",
       "</div>"
      ],
      "text/plain": [
       "    Unnamed: 0  Anuj  Fizzy  Elbeth    Bfa   Gold    Bob   Lkh  Waka  Trice  \\\n",
       "0         Anuj  1.00    NaN     NaN    NaN    NaN    NaN   NaN   NaN    NaN   \n",
       "1        Fizzy   NaN  1.000   0.000    NaN  0.330    NaN   NaN   NaN    NaN   \n",
       "2       Elbeth   NaN  0.000   1.000  0.399    NaN    NaN   NaN   NaN -0.250   \n",
       "3          Bfa   NaN    NaN   0.399  1.000  1.000    NaN   NaN   NaN    NaN   \n",
       "4         Gold   NaN  0.399     NaN  1.000  1.000    NaN  0.00   NaN    NaN   \n",
       "5          Bob   NaN    NaN     NaN    NaN    NaN  1.000  1.00  1.00    NaN   \n",
       "6          Lkh   NaN    NaN     NaN    NaN  0.000  1.000  1.00   NaN  0.000   \n",
       "7         Waka   NaN    NaN     NaN    NaN    NaN  1.000   NaN  1.00    NaN   \n",
       "8        Trice   NaN    NaN  -0.250    NaN    NaN    NaN  0.00   NaN  1.000   \n",
       "9        Proof   NaN    NaN     NaN    NaN    NaN    NaN   NaN   NaN    NaN   \n",
       "10    Emmanuel   NaN    NaN     NaN    NaN    NaN    NaN   NaN   NaN  1.000   \n",
       "11        Dogg   NaN    NaN     NaN  0.550    NaN    NaN  0.00   NaN    NaN   \n",
       "12        Flob   NaN    NaN     NaN    NaN    NaN    NaN   NaN  0.00    NaN   \n",
       "13  Emmanuel.J   NaN    NaN     NaN    NaN    NaN    NaN   NaN   NaN    NaN   \n",
       "14        Greg   NaN    NaN     NaN    NaN    NaN    NaN   NaN  0.00  0.000   \n",
       "15        Grey   NaN    NaN     NaN    NaN    NaN    NaN   NaN  1.00    NaN   \n",
       "16        Stel   NaN    NaN     NaN    NaN    NaN    NaN  0.00   NaN    NaN   \n",
       "17       Jshua   NaN    NaN     NaN    NaN    NaN    NaN   NaN   NaN    NaN   \n",
       "18        Kish   NaN    NaN     NaN  0.660    NaN    NaN   NaN   NaN    NaN   \n",
       "19       Kylin   NaN    NaN     NaN    NaN    NaN    NaN   NaN   NaN  0.000   \n",
       "20        z4yr   NaN    NaN   0.390    NaN  0.500  0.000  0.00   NaN  0.000   \n",
       "21       Hound   NaN    NaN     NaN    NaN    NaN    NaN  1.00   NaN    NaN   \n",
       "22       Mount   NaN    NaN   0.500    NaN    NaN    NaN   NaN   NaN    NaN   \n",
       "23     Nadalie   NaN    NaN     NaN    NaN    NaN  1.000   NaN   NaN    NaN   \n",
       "24     Richard   NaN -0.330   0.000    NaN    NaN    NaN  0.00   NaN  0.000   \n",
       "25   Ogunjosam   NaN    NaN     NaN    NaN    NaN    NaN  0.39  1.00  0.000   \n",
       "26       Robot   NaN    NaN     NaN    NaN    NaN    NaN   NaN   NaN    NaN   \n",
       "27     Steeges  0.00    NaN     NaN    NaN    NaN    NaN   NaN   NaN    NaN   \n",
       "28         Vik   NaN    NaN     NaN    NaN    NaN    NaN   NaN   NaN  0.000   \n",
       "29       Socal   NaN -0.500     NaN    NaN    NaN    NaN   NaN  0.00  0.000   \n",
       "30     Wolfman   NaN    NaN     NaN    NaN    NaN    NaN   NaN   NaN    NaN   \n",
       "31         Zer   NaN    NaN     NaN    NaN  0.000    NaN   NaN   NaN  0.000   \n",
       "32          ML -0.18 -0.090   0.170  0.510  0.389  0.002  0.18  0.48  0.002   \n",
       "\n",
       "    ...  Nadalie  Richard  Ogunjosam  Robot  Steeges    Vik  Socal  Wolfman  \\\n",
       "0   ...      NaN      NaN        NaN    NaN     0.00    NaN    NaN      NaN   \n",
       "1   ...      NaN      NaN        NaN    NaN      NaN    NaN -0.500      NaN   \n",
       "2   ...      NaN    0.000        NaN    NaN      NaN    NaN    NaN      NaN   \n",
       "3   ...      NaN      NaN        NaN    NaN      NaN    NaN    NaN      NaN   \n",
       "4   ...      NaN      NaN        NaN    NaN      NaN    NaN    NaN      NaN   \n",
       "5   ...     1.00      NaN        NaN    NaN      NaN    NaN    NaN      NaN   \n",
       "6   ...      NaN    0.000       0.39    NaN      NaN    NaN    NaN      NaN   \n",
       "7   ...      NaN      NaN       1.00    NaN      NaN    NaN  0.000      NaN   \n",
       "8   ...      NaN    0.000       0.00    NaN      NaN  0.000  0.000      NaN   \n",
       "9   ...      NaN      NaN        NaN    NaN     0.00    NaN    NaN      NaN   \n",
       "10  ...      NaN      NaN        NaN    NaN      NaN  0.219    NaN      NaN   \n",
       "11  ...      NaN      NaN        NaN    NaN      NaN    NaN    NaN      NaN   \n",
       "12  ...      NaN      NaN        NaN    NaN      NaN    NaN    NaN      NaN   \n",
       "13  ...    -0.50      NaN       0.39    NaN     1.00    NaN    NaN      NaN   \n",
       "14  ...      NaN    0.000        NaN    1.0      NaN    NaN    NaN      NaN   \n",
       "15  ...      NaN      NaN       0.39    NaN      NaN    NaN    NaN      NaN   \n",
       "16  ...      NaN      NaN        NaN    NaN      NaN  0.000    NaN    0.000   \n",
       "17  ...      NaN      NaN        NaN    NaN      NaN    NaN    NaN    0.190   \n",
       "18  ...      NaN      NaN        NaN    NaN      NaN    NaN    NaN      NaN   \n",
       "19  ...     0.19      NaN        NaN    NaN      NaN    NaN    NaN      NaN   \n",
       "20  ...      NaN      NaN        NaN    NaN     1.00    NaN    NaN      NaN   \n",
       "21  ...      NaN      NaN        NaN    NaN      NaN    NaN    NaN      NaN   \n",
       "22  ...      NaN      NaN        NaN    NaN      NaN    NaN    NaN      NaN   \n",
       "23  ...     1.00      NaN        NaN    NaN    -0.50    NaN    NaN      NaN   \n",
       "24  ...      NaN    1.000        NaN    1.0      NaN    NaN    NaN      NaN   \n",
       "25  ...      NaN      NaN       1.00    NaN      NaN    NaN    NaN      NaN   \n",
       "26  ...      NaN    1.000        NaN    1.0      NaN    NaN    NaN      NaN   \n",
       "27  ...    -0.50      NaN        NaN    NaN     1.00    NaN    NaN      NaN   \n",
       "28  ...      NaN      NaN        NaN    NaN      NaN  1.000    NaN      NaN   \n",
       "29  ...      NaN      NaN        NaN    NaN      NaN    NaN  1.000      NaN   \n",
       "30  ...      NaN      NaN        NaN    NaN      NaN    NaN    NaN    1.000   \n",
       "31  ...     1.00      NaN        NaN    NaN    -0.40    NaN    NaN      NaN   \n",
       "32  ...     0.15   -0.045       0.43    0.0     0.35  0.000  0.304    0.189   \n",
       "\n",
       "    Zer      ML  \n",
       "0   NaN -0.1800  \n",
       "1   NaN -0.0900  \n",
       "2   NaN  0.1700  \n",
       "3   NaN  0.5100  \n",
       "4   0.0  0.3890  \n",
       "5   NaN  0.0200  \n",
       "6   NaN  0.1800  \n",
       "7   NaN  0.4800  \n",
       "8   0.0  0.0020  \n",
       "9   NaN  0.2700  \n",
       "10  NaN  0.0082  \n",
       "11  NaN  0.1700  \n",
       "12  0.0  0.3300  \n",
       "13  NaN  0.1300  \n",
       "14  NaN  0.2900  \n",
       "15  NaN  0.1300  \n",
       "16  NaN -0.1300  \n",
       "17  NaN  0.2700  \n",
       "18  NaN  0.0900  \n",
       "19  NaN  0.5500  \n",
       "20  NaN  0.3700  \n",
       "21  NaN  0.0880  \n",
       "22  NaN  0.1320  \n",
       "23  1.0  0.1500  \n",
       "24  NaN -0.0450  \n",
       "25  NaN  0.4300  \n",
       "26  NaN  0.0000  \n",
       "27 -0.4  0.3500  \n",
       "28  NaN  0.0000  \n",
       "29  NaN  0.3040  \n",
       "30  NaN  0.1890  \n",
       "31  1.0 -0.4000  \n",
       "32 -0.4  1.0000  \n",
       "\n",
       "[33 rows x 34 columns]"
      ]
     },
     "execution_count": 63,
     "metadata": {},
     "output_type": "execute_result"
    }
   ],
   "source": [
    "corr2"
   ]
  },
  {
   "cell_type": "code",
   "execution_count": 547,
   "id": "787f8be5",
   "metadata": {},
   "outputs": [],
   "source": [
    "corr.fillna(999, inplace=True)"
   ]
  },
  {
   "cell_type": "code",
   "execution_count": 67,
   "id": "6f61f67c",
   "metadata": {},
   "outputs": [
    {
     "data": {
      "image/png": "[encoded data removed]",
      "text/plain": [
       "<Figure size 1800x720 with 2 Axes>"
      ]
     },
     "metadata": {},
     "output_type": "display_data"
    }
   ],
   "source": [
    "import seaborn as sns\n",
    "import matplotlib.pyplot as plt\n",
    "# You can change the values here to your taste.\n",
    "plt.figure(figsize=(25,10))\n",
    "sns.set(rc={'axes.facecolor':'white', 'figure.facecolor':'white'})\n",
    "corr2.rename({\"Unnamed: 0\": \" \"}, axis=1, inplace=True)\n",
    "sns.heatmap(corr2.set_index(\" \"), annot=True, cmap=\"YlGnBu\", linecolor=\"black\", linewidths=0.5)\n",
    "plt.title(\"Heatmap of Cohen Kappa Score.\", fontsize=25, weight=\"bold\")\n",
    "plt.savefig(\"heatmap_cohen_kapppa.png\")\n",
    "plt.show()\n"
   ]
  },
  {
   "cell_type": "code",
   "execution_count": 548,
   "id": "785aeb80",
   "metadata": {},
   "outputs": [
    {
     "data": {
      "image/png": "[encoded data removed]",
      "text/plain": [
       "<Figure size 1080x432 with 2 Axes>"
      ]
     },
     "metadata": {},
     "output_type": "display_data"
    }
   ],
   "source": [
    "import seaborn as sns\n",
    "import matplotlib.pyplot as plt\n",
    "# You can change the values here to your taste.\n",
    "plt.figure(figsize=(15,6))\n",
    "sns.set(rc={'axes.facecolor':'lightblue', 'figure.facecolor':'white'})\n",
    "corr.rename({\"Unnamed: 0\": \" \"}, axis=1, inplace=True)\n",
    "sns.heatmap(corr.set_index(\" \"), annot=True)\n",
    "plt.title(\"Heatmap of Interrater Reliability\")\n",
    "#plt.savefig(\"heatmap.png\")\n",
    "plt.show()\n"
   ]
  },
  {
   "cell_type": "code",
   "execution_count": 544,
   "id": "37ed4630",
   "metadata": {},
   "outputs": [
    {
     "data": {
      "text/html": [
       "<div>\n",
       "<style scoped>\n",
       "    .dataframe tbody tr th:only-of-type {\n",
       "        vertical-align: middle;\n",
       "    }\n",
       "\n",
       "    .dataframe tbody tr th {\n",
       "        vertical-align: top;\n",
       "    }\n",
       "\n",
       "    .dataframe thead th {\n",
       "        text-align: right;\n",
       "    }\n",
       "</style>\n",
       "<table border=\"1\" class=\"dataframe\">\n",
       "  <thead>\n",
       "    <tr style=\"text-align: right;\">\n",
       "      <th></th>\n",
       "      <th></th>\n",
       "      <th>ogunjosam</th>\n",
       "      <th>Hound</th>\n",
       "      <th>Stelescuvlad</th>\n",
       "      <th>Bob</th>\n",
       "      <th>Fizzy</th>\n",
       "      <th>Richard</th>\n",
       "      <th>Elbeth</th>\n",
       "      <th>Gold</th>\n",
       "      <th>Mount</th>\n",
       "      <th>...</th>\n",
       "      <th>Z4yr</th>\n",
       "      <th>Trice</th>\n",
       "      <th>Dogg</th>\n",
       "      <th>Kish</th>\n",
       "      <th>Bfa</th>\n",
       "      <th>LKH</th>\n",
       "      <th>Zer</th>\n",
       "      <th>Grey</th>\n",
       "      <th>Nadalie</th>\n",
       "      <th>Ann2</th>\n",
       "    </tr>\n",
       "  </thead>\n",
       "  <tbody>\n",
       "    <tr>\n",
       "      <th>0</th>\n",
       "      <td>ogunjosam</td>\n",
       "      <td>-</td>\n",
       "      <td>-</td>\n",
       "      <td>-</td>\n",
       "      <td>-</td>\n",
       "      <td>-</td>\n",
       "      <td>-</td>\n",
       "      <td>-</td>\n",
       "      <td>-</td>\n",
       "      <td>-</td>\n",
       "      <td>...</td>\n",
       "      <td>-</td>\n",
       "      <td>-</td>\n",
       "      <td>-</td>\n",
       "      <td>-</td>\n",
       "      <td>-</td>\n",
       "      <td>-</td>\n",
       "      <td>-</td>\n",
       "      <td>-</td>\n",
       "      <td>-</td>\n",
       "      <td>-</td>\n",
       "    </tr>\n",
       "    <tr>\n",
       "      <th>1</th>\n",
       "      <td>Hound</td>\n",
       "      <td>-</td>\n",
       "      <td>-</td>\n",
       "      <td>-</td>\n",
       "      <td>-</td>\n",
       "      <td>-</td>\n",
       "      <td>-</td>\n",
       "      <td>-</td>\n",
       "      <td>-</td>\n",
       "      <td>-</td>\n",
       "      <td>...</td>\n",
       "      <td>-</td>\n",
       "      <td>-</td>\n",
       "      <td>-</td>\n",
       "      <td>-</td>\n",
       "      <td>-</td>\n",
       "      <td>-</td>\n",
       "      <td>-</td>\n",
       "      <td>-</td>\n",
       "      <td>-</td>\n",
       "      <td>-</td>\n",
       "    </tr>\n",
       "    <tr>\n",
       "      <th>2</th>\n",
       "      <td>Stelescuvlad</td>\n",
       "      <td>-</td>\n",
       "      <td>-</td>\n",
       "      <td>-</td>\n",
       "      <td>-</td>\n",
       "      <td>-</td>\n",
       "      <td>-</td>\n",
       "      <td>-</td>\n",
       "      <td>-</td>\n",
       "      <td>-</td>\n",
       "      <td>...</td>\n",
       "      <td>-</td>\n",
       "      <td>-</td>\n",
       "      <td>-</td>\n",
       "      <td>-</td>\n",
       "      <td>-</td>\n",
       "      <td>-</td>\n",
       "      <td>-</td>\n",
       "      <td>-</td>\n",
       "      <td>-</td>\n",
       "      <td>-</td>\n",
       "    </tr>\n",
       "    <tr>\n",
       "      <th>3</th>\n",
       "      <td>Bob</td>\n",
       "      <td>-</td>\n",
       "      <td>-</td>\n",
       "      <td>-</td>\n",
       "      <td>-</td>\n",
       "      <td>-</td>\n",
       "      <td>-</td>\n",
       "      <td>-</td>\n",
       "      <td>-</td>\n",
       "      <td>-</td>\n",
       "      <td>...</td>\n",
       "      <td>0.0</td>\n",
       "      <td>-</td>\n",
       "      <td>-</td>\n",
       "      <td>-</td>\n",
       "      <td>-</td>\n",
       "      <td>1.0</td>\n",
       "      <td>-</td>\n",
       "      <td>-</td>\n",
       "      <td>1.0</td>\n",
       "      <td>0.4</td>\n",
       "    </tr>\n",
       "    <tr>\n",
       "      <th>4</th>\n",
       "      <td>Fizzy</td>\n",
       "      <td>-</td>\n",
       "      <td>-</td>\n",
       "      <td>-</td>\n",
       "      <td>-</td>\n",
       "      <td>1.0</td>\n",
       "      <td>-0.33</td>\n",
       "      <td>0.0</td>\n",
       "      <td>0.39</td>\n",
       "      <td>-</td>\n",
       "      <td>...</td>\n",
       "      <td>-</td>\n",
       "      <td>-</td>\n",
       "      <td>-</td>\n",
       "      <td>-</td>\n",
       "      <td>-</td>\n",
       "      <td>-</td>\n",
       "      <td>-</td>\n",
       "      <td>-</td>\n",
       "      <td>-</td>\n",
       "      <td>-</td>\n",
       "    </tr>\n",
       "    <tr>\n",
       "      <th>5</th>\n",
       "      <td>Richard</td>\n",
       "      <td>-</td>\n",
       "      <td>-</td>\n",
       "      <td>-</td>\n",
       "      <td>-</td>\n",
       "      <td>-</td>\n",
       "      <td>-</td>\n",
       "      <td>-</td>\n",
       "      <td>-</td>\n",
       "      <td>-</td>\n",
       "      <td>...</td>\n",
       "      <td>-</td>\n",
       "      <td>-</td>\n",
       "      <td>-</td>\n",
       "      <td>-</td>\n",
       "      <td>-</td>\n",
       "      <td>-</td>\n",
       "      <td>-</td>\n",
       "      <td>-</td>\n",
       "      <td>-</td>\n",
       "      <td>-</td>\n",
       "    </tr>\n",
       "    <tr>\n",
       "      <th>6</th>\n",
       "      <td>Elbeth</td>\n",
       "      <td>-</td>\n",
       "      <td>-</td>\n",
       "      <td>-</td>\n",
       "      <td>-</td>\n",
       "      <td>0.0</td>\n",
       "      <td>0.0</td>\n",
       "      <td>-</td>\n",
       "      <td>-</td>\n",
       "      <td>0.5</td>\n",
       "      <td>...</td>\n",
       "      <td>0.4</td>\n",
       "      <td>-0.25</td>\n",
       "      <td>-</td>\n",
       "      <td>-</td>\n",
       "      <td>-</td>\n",
       "      <td>-</td>\n",
       "      <td>-</td>\n",
       "      <td>-</td>\n",
       "      <td>-</td>\n",
       "      <td>-</td>\n",
       "    </tr>\n",
       "    <tr>\n",
       "      <th>7</th>\n",
       "      <td>Gold</td>\n",
       "      <td>-</td>\n",
       "      <td>-</td>\n",
       "      <td>-</td>\n",
       "      <td>-</td>\n",
       "      <td>0.4</td>\n",
       "      <td>-</td>\n",
       "      <td>-</td>\n",
       "      <td>-</td>\n",
       "      <td>-</td>\n",
       "      <td>...</td>\n",
       "      <td>0.5</td>\n",
       "      <td>-</td>\n",
       "      <td>-</td>\n",
       "      <td>-</td>\n",
       "      <td>1.0</td>\n",
       "      <td>0.0</td>\n",
       "      <td>0.0</td>\n",
       "      <td>-</td>\n",
       "      <td>-</td>\n",
       "      <td>-</td>\n",
       "    </tr>\n",
       "    <tr>\n",
       "      <th>8</th>\n",
       "      <td>Mount</td>\n",
       "      <td>-</td>\n",
       "      <td>-</td>\n",
       "      <td>-</td>\n",
       "      <td>-</td>\n",
       "      <td>-</td>\n",
       "      <td>-</td>\n",
       "      <td>-</td>\n",
       "      <td>-</td>\n",
       "      <td>-</td>\n",
       "      <td>...</td>\n",
       "      <td>-</td>\n",
       "      <td>-</td>\n",
       "      <td>-</td>\n",
       "      <td>-</td>\n",
       "      <td>-</td>\n",
       "      <td>-</td>\n",
       "      <td>-</td>\n",
       "      <td>-</td>\n",
       "      <td>-</td>\n",
       "      <td>-</td>\n",
       "    </tr>\n",
       "    <tr>\n",
       "      <th>9</th>\n",
       "      <td>Robot</td>\n",
       "      <td>-</td>\n",
       "      <td>-</td>\n",
       "      <td>-</td>\n",
       "      <td>-</td>\n",
       "      <td>-</td>\n",
       "      <td>-</td>\n",
       "      <td>-</td>\n",
       "      <td>-</td>\n",
       "      <td>-</td>\n",
       "      <td>...</td>\n",
       "      <td>-</td>\n",
       "      <td>-</td>\n",
       "      <td>-</td>\n",
       "      <td>-</td>\n",
       "      <td>-</td>\n",
       "      <td>-</td>\n",
       "      <td>-</td>\n",
       "      <td>-</td>\n",
       "      <td>-</td>\n",
       "      <td>-</td>\n",
       "    </tr>\n",
       "    <tr>\n",
       "      <th>10</th>\n",
       "      <td>Z4yr</td>\n",
       "      <td>-</td>\n",
       "      <td>-</td>\n",
       "      <td>-</td>\n",
       "      <td>-</td>\n",
       "      <td>-</td>\n",
       "      <td>-</td>\n",
       "      <td>-</td>\n",
       "      <td>-</td>\n",
       "      <td>-</td>\n",
       "      <td>...</td>\n",
       "      <td>-</td>\n",
       "      <td>-</td>\n",
       "      <td>-</td>\n",
       "      <td>-</td>\n",
       "      <td>-</td>\n",
       "      <td>-</td>\n",
       "      <td>-</td>\n",
       "      <td>-</td>\n",
       "      <td>-</td>\n",
       "      <td>-</td>\n",
       "    </tr>\n",
       "    <tr>\n",
       "      <th>11</th>\n",
       "      <td>Trice</td>\n",
       "      <td>-</td>\n",
       "      <td>-</td>\n",
       "      <td>-</td>\n",
       "      <td>-</td>\n",
       "      <td>-</td>\n",
       "      <td>-</td>\n",
       "      <td>-</td>\n",
       "      <td>-</td>\n",
       "      <td>-</td>\n",
       "      <td>...</td>\n",
       "      <td>-</td>\n",
       "      <td>-</td>\n",
       "      <td>-</td>\n",
       "      <td>-</td>\n",
       "      <td>-</td>\n",
       "      <td>-</td>\n",
       "      <td>-</td>\n",
       "      <td>-</td>\n",
       "      <td>-</td>\n",
       "      <td>-</td>\n",
       "    </tr>\n",
       "    <tr>\n",
       "      <th>12</th>\n",
       "      <td>Dogg</td>\n",
       "      <td>-</td>\n",
       "      <td>-</td>\n",
       "      <td>-</td>\n",
       "      <td>-</td>\n",
       "      <td>-</td>\n",
       "      <td>-</td>\n",
       "      <td>-</td>\n",
       "      <td>-</td>\n",
       "      <td>-</td>\n",
       "      <td>...</td>\n",
       "      <td>-</td>\n",
       "      <td>-</td>\n",
       "      <td>-</td>\n",
       "      <td>-</td>\n",
       "      <td>-</td>\n",
       "      <td>-</td>\n",
       "      <td>-</td>\n",
       "      <td>-</td>\n",
       "      <td>-</td>\n",
       "      <td>-</td>\n",
       "    </tr>\n",
       "    <tr>\n",
       "      <th>13</th>\n",
       "      <td>Kish</td>\n",
       "      <td>-</td>\n",
       "      <td>-</td>\n",
       "      <td>-</td>\n",
       "      <td>-</td>\n",
       "      <td>-</td>\n",
       "      <td>-</td>\n",
       "      <td>-</td>\n",
       "      <td>-</td>\n",
       "      <td>-</td>\n",
       "      <td>...</td>\n",
       "      <td>-</td>\n",
       "      <td>-</td>\n",
       "      <td>-</td>\n",
       "      <td>-</td>\n",
       "      <td>-</td>\n",
       "      <td>-</td>\n",
       "      <td>-</td>\n",
       "      <td>-</td>\n",
       "      <td>-</td>\n",
       "      <td>-</td>\n",
       "    </tr>\n",
       "    <tr>\n",
       "      <th>14</th>\n",
       "      <td>Bfa</td>\n",
       "      <td>-</td>\n",
       "      <td>-</td>\n",
       "      <td>-</td>\n",
       "      <td>-</td>\n",
       "      <td>-</td>\n",
       "      <td>-</td>\n",
       "      <td>0.4</td>\n",
       "      <td>1.0</td>\n",
       "      <td>-</td>\n",
       "      <td>...</td>\n",
       "      <td>-</td>\n",
       "      <td>-</td>\n",
       "      <td>0.545</td>\n",
       "      <td>0.0</td>\n",
       "      <td>-</td>\n",
       "      <td>-</td>\n",
       "      <td>-</td>\n",
       "      <td>-</td>\n",
       "      <td>-</td>\n",
       "      <td>-</td>\n",
       "    </tr>\n",
       "    <tr>\n",
       "      <th>15</th>\n",
       "      <td>LKH</td>\n",
       "      <td>0.4</td>\n",
       "      <td>1.0</td>\n",
       "      <td>0.0</td>\n",
       "      <td>1.0</td>\n",
       "      <td>-</td>\n",
       "      <td>-</td>\n",
       "      <td>-</td>\n",
       "      <td>-</td>\n",
       "      <td>-</td>\n",
       "      <td>...</td>\n",
       "      <td>0.0</td>\n",
       "      <td>-</td>\n",
       "      <td>0.0</td>\n",
       "      <td>-</td>\n",
       "      <td>-</td>\n",
       "      <td>-</td>\n",
       "      <td>-</td>\n",
       "      <td>-</td>\n",
       "      <td>-</td>\n",
       "      <td>-</td>\n",
       "    </tr>\n",
       "    <tr>\n",
       "      <th>16</th>\n",
       "      <td>Zer</td>\n",
       "      <td>-</td>\n",
       "      <td>-</td>\n",
       "      <td>-</td>\n",
       "      <td>-</td>\n",
       "      <td>-</td>\n",
       "      <td>-</td>\n",
       "      <td>-</td>\n",
       "      <td>-</td>\n",
       "      <td>-</td>\n",
       "      <td>...</td>\n",
       "      <td>-</td>\n",
       "      <td>-</td>\n",
       "      <td>-</td>\n",
       "      <td>-</td>\n",
       "      <td>-</td>\n",
       "      <td>-</td>\n",
       "      <td>-</td>\n",
       "      <td>-</td>\n",
       "      <td>-</td>\n",
       "      <td>-</td>\n",
       "    </tr>\n",
       "    <tr>\n",
       "      <th>17</th>\n",
       "      <td>Grey</td>\n",
       "      <td>-</td>\n",
       "      <td>-</td>\n",
       "      <td>-</td>\n",
       "      <td>-</td>\n",
       "      <td>-</td>\n",
       "      <td>-</td>\n",
       "      <td>-</td>\n",
       "      <td>-</td>\n",
       "      <td>-</td>\n",
       "      <td>...</td>\n",
       "      <td>-</td>\n",
       "      <td>-</td>\n",
       "      <td>-</td>\n",
       "      <td>-</td>\n",
       "      <td>-</td>\n",
       "      <td>-</td>\n",
       "      <td>-</td>\n",
       "      <td>-</td>\n",
       "      <td>-</td>\n",
       "      <td>-</td>\n",
       "    </tr>\n",
       "    <tr>\n",
       "      <th>18</th>\n",
       "      <td>Nadalie</td>\n",
       "      <td>-</td>\n",
       "      <td>-</td>\n",
       "      <td>-</td>\n",
       "      <td>-</td>\n",
       "      <td>-</td>\n",
       "      <td>-</td>\n",
       "      <td>-</td>\n",
       "      <td>-</td>\n",
       "      <td>-</td>\n",
       "      <td>...</td>\n",
       "      <td>-</td>\n",
       "      <td>-</td>\n",
       "      <td>-</td>\n",
       "      <td>-</td>\n",
       "      <td>-</td>\n",
       "      <td>-</td>\n",
       "      <td>-</td>\n",
       "      <td>-</td>\n",
       "      <td>-</td>\n",
       "      <td>-</td>\n",
       "    </tr>\n",
       "    <tr>\n",
       "      <th>19</th>\n",
       "      <td>Ann2</td>\n",
       "      <td>-</td>\n",
       "      <td>-</td>\n",
       "      <td>-</td>\n",
       "      <td>-</td>\n",
       "      <td>-</td>\n",
       "      <td>-</td>\n",
       "      <td>-</td>\n",
       "      <td>-</td>\n",
       "      <td>-</td>\n",
       "      <td>...</td>\n",
       "      <td>-</td>\n",
       "      <td>-</td>\n",
       "      <td>-</td>\n",
       "      <td>-</td>\n",
       "      <td>-</td>\n",
       "      <td>-</td>\n",
       "      <td>-</td>\n",
       "      <td>-</td>\n",
       "      <td>-</td>\n",
       "      <td>-</td>\n",
       "    </tr>\n",
       "  </tbody>\n",
       "</table>\n",
       "<p>20 rows × 21 columns</p>\n",
       "</div>"
      ],
      "text/plain": [
       "                 ogunjosam Hound Stelescuvlad  Bob Fizzy Richard Elbeth  Gold  \\\n",
       "0      ogunjosam         -     -            -    -     -       -      -     -   \n",
       "1          Hound         -     -            -    -     -       -      -     -   \n",
       "2   Stelescuvlad         -     -            -    -     -       -      -     -   \n",
       "3            Bob         -     -            -    -     -       -      -     -   \n",
       "4          Fizzy         -     -            -    -   1.0   -0.33    0.0  0.39   \n",
       "5        Richard         -     -            -    -     -       -      -     -   \n",
       "6         Elbeth         -     -            -    -   0.0     0.0      -     -   \n",
       "7           Gold         -     -            -    -   0.4       -      -     -   \n",
       "8          Mount         -     -            -    -     -       -      -     -   \n",
       "9          Robot         -     -            -    -     -       -      -     -   \n",
       "10          Z4yr         -     -            -    -     -       -      -     -   \n",
       "11         Trice         -     -            -    -     -       -      -     -   \n",
       "12          Dogg         -     -            -    -     -       -      -     -   \n",
       "13          Kish         -     -            -    -     -       -      -     -   \n",
       "14           Bfa         -     -            -    -     -       -    0.4   1.0   \n",
       "15           LKH       0.4   1.0          0.0  1.0     -       -      -     -   \n",
       "16           Zer         -     -            -    -     -       -      -     -   \n",
       "17          Grey         -     -            -    -     -       -      -     -   \n",
       "18       Nadalie         -     -            -    -     -       -      -     -   \n",
       "19          Ann2         -     -            -    -     -       -      -     -   \n",
       "\n",
       "   Mount  ... Z4yr Trice   Dogg Kish  Bfa  LKH  Zer Grey Nadalie Ann2  \n",
       "0      -  ...    -     -      -    -    -    -    -    -       -    -  \n",
       "1      -  ...    -     -      -    -    -    -    -    -       -    -  \n",
       "2      -  ...    -     -      -    -    -    -    -    -       -    -  \n",
       "3      -  ...  0.0     -      -    -    -  1.0    -    -     1.0  0.4  \n",
       "4      -  ...    -     -      -    -    -    -    -    -       -    -  \n",
       "5      -  ...    -     -      -    -    -    -    -    -       -    -  \n",
       "6    0.5  ...  0.4 -0.25      -    -    -    -    -    -       -    -  \n",
       "7      -  ...  0.5     -      -    -  1.0  0.0  0.0    -       -    -  \n",
       "8      -  ...    -     -      -    -    -    -    -    -       -    -  \n",
       "9      -  ...    -     -      -    -    -    -    -    -       -    -  \n",
       "10     -  ...    -     -      -    -    -    -    -    -       -    -  \n",
       "11     -  ...    -     -      -    -    -    -    -    -       -    -  \n",
       "12     -  ...    -     -      -    -    -    -    -    -       -    -  \n",
       "13     -  ...    -     -      -    -    -    -    -    -       -    -  \n",
       "14     -  ...    -     -  0.545  0.0    -    -    -    -       -    -  \n",
       "15     -  ...  0.0     -    0.0    -    -    -    -    -       -    -  \n",
       "16     -  ...    -     -      -    -    -    -    -    -       -    -  \n",
       "17     -  ...    -     -      -    -    -    -    -    -       -    -  \n",
       "18     -  ...    -     -      -    -    -    -    -    -       -    -  \n",
       "19     -  ...    -     -      -    -    -    -    -    -       -    -  \n",
       "\n",
       "[20 rows x 21 columns]"
      ]
     },
     "execution_count": 544,
     "metadata": {},
     "output_type": "execute_result"
    }
   ],
   "source": [
    "corr"
   ]
  },
  {
   "cell_type": "code",
   "execution_count": null,
   "id": "350296db",
   "metadata": {},
   "outputs": [],
   "source": []
  }
 ],
 "metadata": {
  "kernelspec": {
   "display_name": "Python 3",
   "language": "python",
   "name": "python3"
  },
  "language_info": {
   "codemirror_mode": {
    "name": "ipython",
    "version": 3
   },
   "file_extension": ".py",
   "mimetype": "text/x-python",
   "name": "python",
   "nbconvert_exporter": "python",
   "pygments_lexer": "ipython3",
   "version": "3.7.6"
  }
 },
 "nbformat": 4,
 "nbformat_minor": 5
}
